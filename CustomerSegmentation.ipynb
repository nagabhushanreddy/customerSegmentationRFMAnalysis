{
 "cells": [
  {
   "attachments": {},
   "cell_type": "markdown",
   "metadata": {},
   "source": [
    "# RFM Segmentation with python (The Data analytics approach to gain customer insights.)"
   ]
  },
  {
   "attachments": {},
   "cell_type": "markdown",
   "metadata": {},
   "source": [
    "## Import required libraries "
   ]
  },
  {
   "cell_type": "code",
   "execution_count": 3,
   "metadata": {},
   "outputs": [],
   "source": [
    "# importing required packages\n",
    "import pandas as pd\n",
    "import numpy as np\n",
    "import matplotlib.pyplot as plt\n",
    "import datetime as dt\n",
    "import seaborn as sns\n",
    "from utils.config import config"
   ]
  },
  {
   "attachments": {},
   "cell_type": "markdown",
   "metadata": {},
   "source": [
    "## Download or import transaction data and customer data"
   ]
  },
  {
   "cell_type": "code",
   "execution_count": 4,
   "metadata": {},
   "outputs": [],
   "source": [
    "\n",
    "transact_data_file = config.get('INPUT','transaction_data',\n",
    "                                 fallback='./data/input/customer_transaction_data.csv')\n",
    "\n",
    "customer_data_file = config.get('INPUT','customer_data',\n",
    "                                 fallback='./data/input/customer_data.csv')\n",
    "\n",
    "df_customer = pd.read_csv(customer_data_file, on_bad_lines='skip')\n",
    "df_transactions = pd.read_csv(transact_data_file, parse_dates=['transactionDate'], on_bad_lines='skip')"
   ]
  },
  {
   "cell_type": "code",
   "execution_count": 5,
   "metadata": {},
   "outputs": [
    {
     "name": "stdout",
     "output_type": "stream",
     "text": [
      "<class 'pandas.core.frame.DataFrame'>\n",
      "RangeIndex: 2000 entries, 0 to 1999\n",
      "Data columns (total 8 columns):\n",
      " #   Column                         Non-Null Count  Dtype \n",
      "---  ------                         --------------  ----- \n",
      " 0   customerID                     2000 non-null   int64 \n",
      " 1   customerName                   2000 non-null   object\n",
      " 2   customerAge                    2000 non-null   int64 \n",
      " 3   customerGender                 2000 non-null   object\n",
      " 4   customerLocation               2000 non-null   object\n",
      " 5   customerEducation              2000 non-null   object\n",
      " 6   customerIndustry               2000 non-null   object\n",
      " 7   customerAuthorizedSignatories  2000 non-null   object\n",
      "dtypes: int64(2), object(6)\n",
      "memory usage: 125.1+ KB\n"
     ]
    },
    {
     "data": {
      "text/html": [
       "<div>\n",
       "<style scoped>\n",
       "    .dataframe tbody tr th:only-of-type {\n",
       "        vertical-align: middle;\n",
       "    }\n",
       "\n",
       "    .dataframe tbody tr th {\n",
       "        vertical-align: top;\n",
       "    }\n",
       "\n",
       "    .dataframe thead th {\n",
       "        text-align: right;\n",
       "    }\n",
       "</style>\n",
       "<table border=\"1\" class=\"dataframe\">\n",
       "  <thead>\n",
       "    <tr style=\"text-align: right;\">\n",
       "      <th></th>\n",
       "      <th>customerID</th>\n",
       "      <th>customerAge</th>\n",
       "    </tr>\n",
       "  </thead>\n",
       "  <tbody>\n",
       "    <tr>\n",
       "      <th>count</th>\n",
       "      <td>2.000000e+03</td>\n",
       "      <td>2000.000000</td>\n",
       "    </tr>\n",
       "    <tr>\n",
       "      <th>mean</th>\n",
       "      <td>5.528466e+07</td>\n",
       "      <td>53.263000</td>\n",
       "    </tr>\n",
       "    <tr>\n",
       "      <th>std</th>\n",
       "      <td>2.657936e+07</td>\n",
       "      <td>15.891542</td>\n",
       "    </tr>\n",
       "    <tr>\n",
       "      <th>min</th>\n",
       "      <td>1.005268e+07</td>\n",
       "      <td>20.000000</td>\n",
       "    </tr>\n",
       "    <tr>\n",
       "      <th>25%</th>\n",
       "      <td>3.172595e+07</td>\n",
       "      <td>42.000000</td>\n",
       "    </tr>\n",
       "    <tr>\n",
       "      <th>50%</th>\n",
       "      <td>5.526722e+07</td>\n",
       "      <td>55.000000</td>\n",
       "    </tr>\n",
       "    <tr>\n",
       "      <th>75%</th>\n",
       "      <td>7.891956e+07</td>\n",
       "      <td>66.000000</td>\n",
       "    </tr>\n",
       "    <tr>\n",
       "      <th>max</th>\n",
       "      <td>9.991442e+07</td>\n",
       "      <td>80.000000</td>\n",
       "    </tr>\n",
       "  </tbody>\n",
       "</table>\n",
       "</div>"
      ],
      "text/plain": [
       "         customerID  customerAge\n",
       "count  2.000000e+03  2000.000000\n",
       "mean   5.528466e+07    53.263000\n",
       "std    2.657936e+07    15.891542\n",
       "min    1.005268e+07    20.000000\n",
       "25%    3.172595e+07    42.000000\n",
       "50%    5.526722e+07    55.000000\n",
       "75%    7.891956e+07    66.000000\n",
       "max    9.991442e+07    80.000000"
      ]
     },
     "execution_count": 5,
     "metadata": {},
     "output_type": "execute_result"
    }
   ],
   "source": [
    "df_customer.info()\n",
    "df_customer.describe()"
   ]
  },
  {
   "cell_type": "code",
   "execution_count": 6,
   "metadata": {},
   "outputs": [
    {
     "name": "stdout",
     "output_type": "stream",
     "text": [
      "<class 'pandas.core.frame.DataFrame'>\n",
      "RangeIndex: 143860 entries, 0 to 143859\n",
      "Data columns (total 11 columns):\n",
      " #   Column                Non-Null Count   Dtype         \n",
      "---  ------                --------------   -----         \n",
      " 0   transactionReference  143860 non-null  object        \n",
      " 1   transactionDate       143860 non-null  datetime64[ns]\n",
      " 2   payeeAccountNumber    143860 non-null  int64         \n",
      " 3   payeeName             143860 non-null  object        \n",
      " 4   payeeIndustry         0 non-null       float64       \n",
      " 5   transactionCode       143860 non-null  object        \n",
      " 6   amount                143860 non-null  float64       \n",
      " 7   indicator             143860 non-null  object        \n",
      " 8   transferNotes         116238 non-null  object        \n",
      " 9   transactionCategory   143860 non-null  object        \n",
      " 10  customerID            143860 non-null  int64         \n",
      "dtypes: datetime64[ns](1), float64(2), int64(2), object(6)\n",
      "memory usage: 12.1+ MB\n"
     ]
    },
    {
     "data": {
      "text/html": [
       "<div>\n",
       "<style scoped>\n",
       "    .dataframe tbody tr th:only-of-type {\n",
       "        vertical-align: middle;\n",
       "    }\n",
       "\n",
       "    .dataframe tbody tr th {\n",
       "        vertical-align: top;\n",
       "    }\n",
       "\n",
       "    .dataframe thead th {\n",
       "        text-align: right;\n",
       "    }\n",
       "</style>\n",
       "<table border=\"1\" class=\"dataframe\">\n",
       "  <thead>\n",
       "    <tr style=\"text-align: right;\">\n",
       "      <th></th>\n",
       "      <th>payeeAccountNumber</th>\n",
       "      <th>payeeIndustry</th>\n",
       "      <th>amount</th>\n",
       "      <th>customerID</th>\n",
       "    </tr>\n",
       "  </thead>\n",
       "  <tbody>\n",
       "    <tr>\n",
       "      <th>count</th>\n",
       "      <td>1.438600e+05</td>\n",
       "      <td>0.0</td>\n",
       "      <td>143860.000000</td>\n",
       "      <td>1.438600e+05</td>\n",
       "    </tr>\n",
       "    <tr>\n",
       "      <th>mean</th>\n",
       "      <td>5.002643e+09</td>\n",
       "      <td>NaN</td>\n",
       "      <td>3985.403875</td>\n",
       "      <td>5.420397e+07</td>\n",
       "    </tr>\n",
       "    <tr>\n",
       "      <th>std</th>\n",
       "      <td>2.890382e+09</td>\n",
       "      <td>NaN</td>\n",
       "      <td>3092.316000</td>\n",
       "      <td>2.647476e+07</td>\n",
       "    </tr>\n",
       "    <tr>\n",
       "      <th>min</th>\n",
       "      <td>7.101500e+04</td>\n",
       "      <td>NaN</td>\n",
       "      <td>100.120000</td>\n",
       "      <td>1.005268e+07</td>\n",
       "    </tr>\n",
       "    <tr>\n",
       "      <th>25%</th>\n",
       "      <td>2.496311e+09</td>\n",
       "      <td>NaN</td>\n",
       "      <td>870.645000</td>\n",
       "      <td>3.026934e+07</td>\n",
       "    </tr>\n",
       "    <tr>\n",
       "      <th>50%</th>\n",
       "      <td>5.009892e+09</td>\n",
       "      <td>NaN</td>\n",
       "      <td>3531.240000</td>\n",
       "      <td>5.304404e+07</td>\n",
       "    </tr>\n",
       "    <tr>\n",
       "      <th>75%</th>\n",
       "      <td>7.509203e+09</td>\n",
       "      <td>NaN</td>\n",
       "      <td>6646.430000</td>\n",
       "      <td>7.793829e+07</td>\n",
       "    </tr>\n",
       "    <tr>\n",
       "      <th>max</th>\n",
       "      <td>9.999969e+09</td>\n",
       "      <td>NaN</td>\n",
       "      <td>9998.520000</td>\n",
       "      <td>9.991442e+07</td>\n",
       "    </tr>\n",
       "  </tbody>\n",
       "</table>\n",
       "</div>"
      ],
      "text/plain": [
       "       payeeAccountNumber  payeeIndustry         amount    customerID\n",
       "count        1.438600e+05            0.0  143860.000000  1.438600e+05\n",
       "mean         5.002643e+09            NaN    3985.403875  5.420397e+07\n",
       "std          2.890382e+09            NaN    3092.316000  2.647476e+07\n",
       "min          7.101500e+04            NaN     100.120000  1.005268e+07\n",
       "25%          2.496311e+09            NaN     870.645000  3.026934e+07\n",
       "50%          5.009892e+09            NaN    3531.240000  5.304404e+07\n",
       "75%          7.509203e+09            NaN    6646.430000  7.793829e+07\n",
       "max          9.999969e+09            NaN    9998.520000  9.991442e+07"
      ]
     },
     "execution_count": 6,
     "metadata": {},
     "output_type": "execute_result"
    }
   ],
   "source": [
    "df_transactions.info()\n",
    "df_transactions.describe()"
   ]
  },
  {
   "attachments": {},
   "cell_type": "markdown",
   "metadata": {},
   "source": [
    "## Data Preparation"
   ]
  },
  {
   "cell_type": "code",
   "execution_count": 7,
   "metadata": {},
   "outputs": [
    {
     "data": {
      "text/plain": [
       "customerID                       False\n",
       "customerName                     False\n",
       "customerAge                      False\n",
       "customerGender                   False\n",
       "customerLocation                 False\n",
       "customerEducation                False\n",
       "customerIndustry                 False\n",
       "customerAuthorizedSignatories    False\n",
       "dtype: bool"
      ]
     },
     "execution_count": 7,
     "metadata": {},
     "output_type": "execute_result"
    }
   ],
   "source": [
    "df_customer[df_customer.duplicated()].any()"
   ]
  },
  {
   "cell_type": "code",
   "execution_count": 8,
   "metadata": {},
   "outputs": [
    {
     "data": {
      "text/plain": [
       "transactionReference    False\n",
       "transactionDate         False\n",
       "payeeAccountNumber      False\n",
       "payeeName               False\n",
       "payeeIndustry           False\n",
       "transactionCode         False\n",
       "amount                  False\n",
       "indicator               False\n",
       "transferNotes           False\n",
       "transactionCategory     False\n",
       "customerID              False\n",
       "dtype: bool"
      ]
     },
     "execution_count": 8,
     "metadata": {},
     "output_type": "execute_result"
    }
   ],
   "source": [
    "df_transactions[df_transactions.duplicated()].any()"
   ]
  },
  {
   "attachments": {},
   "cell_type": "markdown",
   "metadata": {},
   "source": [
    "## Data Cleaning"
   ]
  },
  {
   "cell_type": "code",
   "execution_count": 9,
   "metadata": {},
   "outputs": [],
   "source": [
    "#Data Cleaning for customers \n",
    "\n",
    "#Dropping Duplicates\n",
    "df_customer.drop_duplicates(inplace=True)\n",
    "generations = lambda age: 'Gen Z' if age <= 24 else 'Millennials' if age <= 40 else 'Gen X' if age <= 55 else 'Baby Boomers' if age <= 75 else 'Silent Generation'\n",
    "df_customer['customerGeneration'] = df_customer['customerAge'].apply(generations)\n",
    "state = lambda x: x.split(\",\")[-1].split()[0] if len(x.split(\",\")[-1].split()) == 2 else None\n",
    "df_customer['customerState'] = df_customer['customerLocation'].apply(state)\n",
    "\n",
    "#Data cleaning for transactions \n",
    "df_transactions.drop_duplicates(inplace=True)\n",
    "df_transactions = df_transactions[df_transactions['customerID'].isin(df_customer['customerID'])]\n",
    "df_transactions['amount'] = df_transactions['amount'].apply(abs)\n"
   ]
  },
  {
   "cell_type": "code",
   "execution_count": 10,
   "metadata": {},
   "outputs": [
    {
     "data": {
      "text/plain": [
       "transactionReference    False\n",
       "transactionDate         False\n",
       "payeeAccountNumber      False\n",
       "payeeName               False\n",
       "payeeIndustry           False\n",
       "transactionCode         False\n",
       "amount                  False\n",
       "indicator               False\n",
       "transferNotes           False\n",
       "transactionCategory     False\n",
       "customerID              False\n",
       "dtype: bool"
      ]
     },
     "execution_count": 10,
     "metadata": {},
     "output_type": "execute_result"
    }
   ],
   "source": [
    "#Checking if duplicates have been dropped\n",
    "df_transactions[df_transactions.duplicated()].any()"
   ]
  },
  {
   "cell_type": "code",
   "execution_count": 11,
   "metadata": {},
   "outputs": [
    {
     "data": {
      "text/plain": [
       "2000"
      ]
     },
     "execution_count": 11,
     "metadata": {},
     "output_type": "execute_result"
    }
   ],
   "source": [
    "#Checking for the number of unique Customers\n",
    "df_transactions['customerID'].nunique()"
   ]
  },
  {
   "cell_type": "code",
   "execution_count": 12,
   "metadata": {},
   "outputs": [
    {
     "data": {
      "text/plain": [
       "(143860, 11)"
      ]
     },
     "execution_count": 12,
     "metadata": {},
     "output_type": "execute_result"
    }
   ],
   "source": [
    "# Checking for the total number of transaction records\n",
    "df_transactions.shape"
   ]
  },
  {
   "cell_type": "code",
   "execution_count": 13,
   "metadata": {},
   "outputs": [
    {
     "name": "stdout",
     "output_type": "stream",
     "text": [
      "Min:2021-04-21 00:00:00; max:2023-04-20 00:00:00\n"
     ]
    }
   ],
   "source": [
    "# Checking for the max and min InvoiceData inorder to calculate number of months of data available\n",
    "print('Min:{}; max:{}'.format(min(df_transactions.transactionDate),max(df_transactions.transactionDate)))"
   ]
  },
  {
   "attachments": {},
   "cell_type": "markdown",
   "metadata": {},
   "source": [
    "# Cohort Analysis\n",
    "\n",
    "Descriptive analytics tool used to group customers into mutually exclusive cohorts measured over time. Helps understand high level trends better by providing insight on metrics across products ans Customer life cycle."
   ]
  },
  {
   "attachments": {},
   "cell_type": "markdown",
   "metadata": {},
   "source": [
    "## Assign Acquisition Month Cohort to each Customer\n",
    "Assumption: Considert first transactionDate as acquisition date"
   ]
  },
  {
   "cell_type": "code",
   "execution_count": 14,
   "metadata": {},
   "outputs": [],
   "source": [
    "# Define a function that will parse the date, it truncates given date obect to the first day of the month\n",
    "def get_month(x): return dt.datetime(x.year, x.month, 1) \n",
    "\n",
    "# Apply get_month method to transactionDate and create acquisitionDate Column\n",
    "df_transactions['acquisitionDate'] = df_transactions['transactionDate'].apply(get_month) \n",
    "\n",
    "# Create groupby Obj with customerID & use acquisitionDate column for further Manipulation\n",
    "grouping = df_transactions.groupby('customerID')['acquisitionDate'] \n",
    "\n",
    "# Finally Transform with min function to assign the smallest acquisitionDate Value to each Customer in the DataSet\n",
    "df_transactions['cohort'] = grouping.transform('min')"
   ]
  },
  {
   "cell_type": "code",
   "execution_count": 15,
   "metadata": {},
   "outputs": [],
   "source": [
    "#Extract integer values from the data\n",
    "def get_date_int(data,column):\n",
    "    year=data[column].dt.year\n",
    "    month=data[column].dt.month\n",
    "    day=data[column].dt.day\n",
    "    return year, month, day"
   ]
  },
  {
   "cell_type": "code",
   "execution_count": 16,
   "metadata": {},
   "outputs": [
    {
     "data": {
      "text/html": [
       "<div>\n",
       "<style scoped>\n",
       "    .dataframe tbody tr th:only-of-type {\n",
       "        vertical-align: middle;\n",
       "    }\n",
       "\n",
       "    .dataframe tbody tr th {\n",
       "        vertical-align: top;\n",
       "    }\n",
       "\n",
       "    .dataframe thead th {\n",
       "        text-align: right;\n",
       "    }\n",
       "</style>\n",
       "<table border=\"1\" class=\"dataframe\">\n",
       "  <thead>\n",
       "    <tr style=\"text-align: right;\">\n",
       "      <th></th>\n",
       "      <th>transactionReference</th>\n",
       "      <th>transactionDate</th>\n",
       "      <th>payeeAccountNumber</th>\n",
       "      <th>payeeName</th>\n",
       "      <th>payeeIndustry</th>\n",
       "      <th>transactionCode</th>\n",
       "      <th>amount</th>\n",
       "      <th>indicator</th>\n",
       "      <th>transferNotes</th>\n",
       "      <th>transactionCategory</th>\n",
       "      <th>customerID</th>\n",
       "      <th>acquisitionDate</th>\n",
       "      <th>cohort</th>\n",
       "      <th>CohortIndex</th>\n",
       "    </tr>\n",
       "  </thead>\n",
       "  <tbody>\n",
       "    <tr>\n",
       "      <th>0</th>\n",
       "      <td>85ad9f8bd7c549bbb94b86ccd211f265</td>\n",
       "      <td>2021-08-18</td>\n",
       "      <td>3551605690</td>\n",
       "      <td>Andrew Norris</td>\n",
       "      <td>NaN</td>\n",
       "      <td>IB</td>\n",
       "      <td>601.33</td>\n",
       "      <td>CR</td>\n",
       "      <td></td>\n",
       "      <td>Other Incoming</td>\n",
       "      <td>25965788</td>\n",
       "      <td>2021-08-01</td>\n",
       "      <td>2021-04-01</td>\n",
       "      <td>5</td>\n",
       "    </tr>\n",
       "    <tr>\n",
       "      <th>1</th>\n",
       "      <td>99518c033c4c4b4aa06c75dc41a071cd</td>\n",
       "      <td>2022-03-15</td>\n",
       "      <td>5139454222</td>\n",
       "      <td>Orozco Group Public Relations and Sons</td>\n",
       "      <td>NaN</td>\n",
       "      <td>MB</td>\n",
       "      <td>3665.39</td>\n",
       "      <td>DB</td>\n",
       "      <td>newspapaer advertisement</td>\n",
       "      <td>Marketing</td>\n",
       "      <td>25965788</td>\n",
       "      <td>2022-03-01</td>\n",
       "      <td>2021-04-01</td>\n",
       "      <td>12</td>\n",
       "    </tr>\n",
       "    <tr>\n",
       "      <th>2</th>\n",
       "      <td>81841272e90a4ca68adff3bf47d9d458</td>\n",
       "      <td>2022-07-04</td>\n",
       "      <td>4392428226</td>\n",
       "      <td>Scott, Williams and Simpson Learning Group</td>\n",
       "      <td>NaN</td>\n",
       "      <td>MB</td>\n",
       "      <td>7458.17</td>\n",
       "      <td>DB</td>\n",
       "      <td>NaN</td>\n",
       "      <td>Employee training</td>\n",
       "      <td>25965788</td>\n",
       "      <td>2022-07-01</td>\n",
       "      <td>2021-04-01</td>\n",
       "      <td>16</td>\n",
       "    </tr>\n",
       "    <tr>\n",
       "      <th>3</th>\n",
       "      <td>031026f67bcc4843b48a1a5287706f44</td>\n",
       "      <td>2022-02-22</td>\n",
       "      <td>8952688343</td>\n",
       "      <td>Elizabeth Nelson</td>\n",
       "      <td>NaN</td>\n",
       "      <td>GIRO</td>\n",
       "      <td>354.32</td>\n",
       "      <td>CR</td>\n",
       "      <td></td>\n",
       "      <td>Interest Income</td>\n",
       "      <td>25965788</td>\n",
       "      <td>2022-02-01</td>\n",
       "      <td>2021-04-01</td>\n",
       "      <td>11</td>\n",
       "    </tr>\n",
       "    <tr>\n",
       "      <th>4</th>\n",
       "      <td>cb1fac0057894d4cb61d89e029af8620</td>\n",
       "      <td>2023-03-16</td>\n",
       "      <td>3810661586</td>\n",
       "      <td>Hall-Casey Electric Group</td>\n",
       "      <td>NaN</td>\n",
       "      <td>NETS</td>\n",
       "      <td>9859.33</td>\n",
       "      <td>DB</td>\n",
       "      <td></td>\n",
       "      <td>Utilities</td>\n",
       "      <td>25965788</td>\n",
       "      <td>2023-03-01</td>\n",
       "      <td>2021-04-01</td>\n",
       "      <td>24</td>\n",
       "    </tr>\n",
       "  </tbody>\n",
       "</table>\n",
       "</div>"
      ],
      "text/plain": [
       "               transactionReference transactionDate  payeeAccountNumber  \\\n",
       "0  85ad9f8bd7c549bbb94b86ccd211f265      2021-08-18          3551605690   \n",
       "1  99518c033c4c4b4aa06c75dc41a071cd      2022-03-15          5139454222   \n",
       "2  81841272e90a4ca68adff3bf47d9d458      2022-07-04          4392428226   \n",
       "3  031026f67bcc4843b48a1a5287706f44      2022-02-22          8952688343   \n",
       "4  cb1fac0057894d4cb61d89e029af8620      2023-03-16          3810661586   \n",
       "\n",
       "                                    payeeName  payeeIndustry transactionCode  \\\n",
       "0                               Andrew Norris            NaN              IB   \n",
       "1      Orozco Group Public Relations and Sons            NaN              MB   \n",
       "2  Scott, Williams and Simpson Learning Group            NaN              MB   \n",
       "3                            Elizabeth Nelson            NaN            GIRO   \n",
       "4                   Hall-Casey Electric Group            NaN            NETS   \n",
       "\n",
       "    amount indicator             transferNotes transactionCategory  \\\n",
       "0   601.33        CR                                Other Incoming   \n",
       "1  3665.39        DB  newspapaer advertisement           Marketing   \n",
       "2  7458.17        DB                       NaN   Employee training   \n",
       "3   354.32        CR                               Interest Income   \n",
       "4  9859.33        DB                                     Utilities   \n",
       "\n",
       "   customerID acquisitionDate     cohort  CohortIndex  \n",
       "0    25965788      2021-08-01 2021-04-01            5  \n",
       "1    25965788      2022-03-01 2021-04-01           12  \n",
       "2    25965788      2022-07-01 2021-04-01           16  \n",
       "3    25965788      2022-02-01 2021-04-01           11  \n",
       "4    25965788      2023-03-01 2021-04-01           24  "
      ]
     },
     "execution_count": 16,
     "metadata": {},
     "output_type": "execute_result"
    }
   ],
   "source": [
    "# Assign Time Offset Value\n",
    "invoice_year, invoice_month, _=get_date_int(df_transactions,'acquisitionDate')\n",
    "cohort_year, cohort_month,_=get_date_int(df_transactions,'cohort')\n",
    "year_diff= invoice_year-cohort_year\n",
    "month_diff=invoice_month-cohort_month\n",
    "#+1 for first month to be marked as one instead of 0 for better interpretetation\n",
    "df_transactions['CohortIndex']= (year_diff*12) + (month_diff+1)\n",
    "#check if the new column has been added. CohortIndex\n",
    "df_transactions.head()"
   ]
  },
  {
   "cell_type": "code",
   "execution_count": 17,
   "metadata": {},
   "outputs": [
    {
     "data": {
      "text/html": [
       "<div>\n",
       "<style scoped>\n",
       "    .dataframe tbody tr th:only-of-type {\n",
       "        vertical-align: middle;\n",
       "    }\n",
       "\n",
       "    .dataframe tbody tr th {\n",
       "        vertical-align: top;\n",
       "    }\n",
       "\n",
       "    .dataframe thead th {\n",
       "        text-align: right;\n",
       "    }\n",
       "</style>\n",
       "<table border=\"1\" class=\"dataframe\">\n",
       "  <thead>\n",
       "    <tr style=\"text-align: right;\">\n",
       "      <th>CohortIndex</th>\n",
       "      <th>1</th>\n",
       "      <th>2</th>\n",
       "      <th>3</th>\n",
       "      <th>4</th>\n",
       "      <th>5</th>\n",
       "      <th>6</th>\n",
       "      <th>7</th>\n",
       "      <th>8</th>\n",
       "      <th>9</th>\n",
       "      <th>10</th>\n",
       "      <th>...</th>\n",
       "      <th>16</th>\n",
       "      <th>17</th>\n",
       "      <th>18</th>\n",
       "      <th>19</th>\n",
       "      <th>20</th>\n",
       "      <th>21</th>\n",
       "      <th>22</th>\n",
       "      <th>23</th>\n",
       "      <th>24</th>\n",
       "      <th>25</th>\n",
       "    </tr>\n",
       "    <tr>\n",
       "      <th>cohort</th>\n",
       "      <th></th>\n",
       "      <th></th>\n",
       "      <th></th>\n",
       "      <th></th>\n",
       "      <th></th>\n",
       "      <th></th>\n",
       "      <th></th>\n",
       "      <th></th>\n",
       "      <th></th>\n",
       "      <th></th>\n",
       "      <th></th>\n",
       "      <th></th>\n",
       "      <th></th>\n",
       "      <th></th>\n",
       "      <th></th>\n",
       "      <th></th>\n",
       "      <th></th>\n",
       "      <th></th>\n",
       "      <th></th>\n",
       "      <th></th>\n",
       "      <th></th>\n",
       "    </tr>\n",
       "  </thead>\n",
       "  <tbody>\n",
       "    <tr>\n",
       "      <th>2021-04-01</th>\n",
       "      <td>459.0</td>\n",
       "      <td>431.0</td>\n",
       "      <td>429.0</td>\n",
       "      <td>438.0</td>\n",
       "      <td>422.0</td>\n",
       "      <td>430.0</td>\n",
       "      <td>407.0</td>\n",
       "      <td>277.0</td>\n",
       "      <td>277.0</td>\n",
       "      <td>277.0</td>\n",
       "      <td>...</td>\n",
       "      <td>277.0</td>\n",
       "      <td>277.0</td>\n",
       "      <td>277.0</td>\n",
       "      <td>277.0</td>\n",
       "      <td>277.0</td>\n",
       "      <td>277.0</td>\n",
       "      <td>277.0</td>\n",
       "      <td>277.0</td>\n",
       "      <td>277.0</td>\n",
       "      <td>275.0</td>\n",
       "    </tr>\n",
       "    <tr>\n",
       "      <th>2021-05-01</th>\n",
       "      <td>214.0</td>\n",
       "      <td>176.0</td>\n",
       "      <td>178.0</td>\n",
       "      <td>174.0</td>\n",
       "      <td>179.0</td>\n",
       "      <td>154.0</td>\n",
       "      <td>23.0</td>\n",
       "      <td>23.0</td>\n",
       "      <td>23.0</td>\n",
       "      <td>23.0</td>\n",
       "      <td>...</td>\n",
       "      <td>23.0</td>\n",
       "      <td>23.0</td>\n",
       "      <td>23.0</td>\n",
       "      <td>23.0</td>\n",
       "      <td>23.0</td>\n",
       "      <td>23.0</td>\n",
       "      <td>23.0</td>\n",
       "      <td>23.0</td>\n",
       "      <td>23.0</td>\n",
       "      <td>NaN</td>\n",
       "    </tr>\n",
       "    <tr>\n",
       "      <th>2021-06-01</th>\n",
       "      <td>45.0</td>\n",
       "      <td>15.0</td>\n",
       "      <td>16.0</td>\n",
       "      <td>16.0</td>\n",
       "      <td>14.0</td>\n",
       "      <td>NaN</td>\n",
       "      <td>NaN</td>\n",
       "      <td>NaN</td>\n",
       "      <td>NaN</td>\n",
       "      <td>NaN</td>\n",
       "      <td>...</td>\n",
       "      <td>NaN</td>\n",
       "      <td>NaN</td>\n",
       "      <td>NaN</td>\n",
       "      <td>NaN</td>\n",
       "      <td>NaN</td>\n",
       "      <td>NaN</td>\n",
       "      <td>NaN</td>\n",
       "      <td>NaN</td>\n",
       "      <td>NaN</td>\n",
       "      <td>NaN</td>\n",
       "    </tr>\n",
       "    <tr>\n",
       "      <th>2021-07-01</th>\n",
       "      <td>723.0</td>\n",
       "      <td>686.0</td>\n",
       "      <td>681.0</td>\n",
       "      <td>681.0</td>\n",
       "      <td>684.0</td>\n",
       "      <td>686.0</td>\n",
       "      <td>685.0</td>\n",
       "      <td>674.0</td>\n",
       "      <td>682.0</td>\n",
       "      <td>683.0</td>\n",
       "      <td>...</td>\n",
       "      <td>684.0</td>\n",
       "      <td>683.0</td>\n",
       "      <td>684.0</td>\n",
       "      <td>685.0</td>\n",
       "      <td>674.0</td>\n",
       "      <td>687.0</td>\n",
       "      <td>659.0</td>\n",
       "      <td>NaN</td>\n",
       "      <td>NaN</td>\n",
       "      <td>NaN</td>\n",
       "    </tr>\n",
       "    <tr>\n",
       "      <th>2021-08-01</th>\n",
       "      <td>34.0</td>\n",
       "      <td>10.0</td>\n",
       "      <td>10.0</td>\n",
       "      <td>10.0</td>\n",
       "      <td>10.0</td>\n",
       "      <td>10.0</td>\n",
       "      <td>9.0</td>\n",
       "      <td>10.0</td>\n",
       "      <td>10.0</td>\n",
       "      <td>10.0</td>\n",
       "      <td>...</td>\n",
       "      <td>10.0</td>\n",
       "      <td>10.0</td>\n",
       "      <td>9.0</td>\n",
       "      <td>10.0</td>\n",
       "      <td>10.0</td>\n",
       "      <td>9.0</td>\n",
       "      <td>NaN</td>\n",
       "      <td>NaN</td>\n",
       "      <td>NaN</td>\n",
       "      <td>NaN</td>\n",
       "    </tr>\n",
       "    <tr>\n",
       "      <th>2021-09-01</th>\n",
       "      <td>30.0</td>\n",
       "      <td>NaN</td>\n",
       "      <td>NaN</td>\n",
       "      <td>NaN</td>\n",
       "      <td>NaN</td>\n",
       "      <td>NaN</td>\n",
       "      <td>NaN</td>\n",
       "      <td>NaN</td>\n",
       "      <td>NaN</td>\n",
       "      <td>NaN</td>\n",
       "      <td>...</td>\n",
       "      <td>NaN</td>\n",
       "      <td>NaN</td>\n",
       "      <td>NaN</td>\n",
       "      <td>NaN</td>\n",
       "      <td>NaN</td>\n",
       "      <td>NaN</td>\n",
       "      <td>NaN</td>\n",
       "      <td>NaN</td>\n",
       "      <td>NaN</td>\n",
       "      <td>NaN</td>\n",
       "    </tr>\n",
       "    <tr>\n",
       "      <th>2021-10-01</th>\n",
       "      <td>210.0</td>\n",
       "      <td>163.0</td>\n",
       "      <td>160.0</td>\n",
       "      <td>162.0</td>\n",
       "      <td>165.0</td>\n",
       "      <td>161.0</td>\n",
       "      <td>163.0</td>\n",
       "      <td>161.0</td>\n",
       "      <td>169.0</td>\n",
       "      <td>159.0</td>\n",
       "      <td>...</td>\n",
       "      <td>161.0</td>\n",
       "      <td>159.0</td>\n",
       "      <td>159.0</td>\n",
       "      <td>145.0</td>\n",
       "      <td>NaN</td>\n",
       "      <td>NaN</td>\n",
       "      <td>NaN</td>\n",
       "      <td>NaN</td>\n",
       "      <td>NaN</td>\n",
       "      <td>NaN</td>\n",
       "    </tr>\n",
       "    <tr>\n",
       "      <th>2021-11-01</th>\n",
       "      <td>146.0</td>\n",
       "      <td>107.0</td>\n",
       "      <td>109.0</td>\n",
       "      <td>112.0</td>\n",
       "      <td>112.0</td>\n",
       "      <td>114.0</td>\n",
       "      <td>115.0</td>\n",
       "      <td>109.0</td>\n",
       "      <td>111.0</td>\n",
       "      <td>109.0</td>\n",
       "      <td>...</td>\n",
       "      <td>107.0</td>\n",
       "      <td>115.0</td>\n",
       "      <td>101.0</td>\n",
       "      <td>NaN</td>\n",
       "      <td>NaN</td>\n",
       "      <td>NaN</td>\n",
       "      <td>NaN</td>\n",
       "      <td>NaN</td>\n",
       "      <td>NaN</td>\n",
       "      <td>NaN</td>\n",
       "    </tr>\n",
       "    <tr>\n",
       "      <th>2021-12-01</th>\n",
       "      <td>31.0</td>\n",
       "      <td>6.0</td>\n",
       "      <td>7.0</td>\n",
       "      <td>7.0</td>\n",
       "      <td>7.0</td>\n",
       "      <td>7.0</td>\n",
       "      <td>7.0</td>\n",
       "      <td>6.0</td>\n",
       "      <td>7.0</td>\n",
       "      <td>7.0</td>\n",
       "      <td>...</td>\n",
       "      <td>7.0</td>\n",
       "      <td>6.0</td>\n",
       "      <td>NaN</td>\n",
       "      <td>NaN</td>\n",
       "      <td>NaN</td>\n",
       "      <td>NaN</td>\n",
       "      <td>NaN</td>\n",
       "      <td>NaN</td>\n",
       "      <td>NaN</td>\n",
       "      <td>NaN</td>\n",
       "    </tr>\n",
       "    <tr>\n",
       "      <th>2022-01-01</th>\n",
       "      <td>29.0</td>\n",
       "      <td>NaN</td>\n",
       "      <td>NaN</td>\n",
       "      <td>NaN</td>\n",
       "      <td>NaN</td>\n",
       "      <td>NaN</td>\n",
       "      <td>NaN</td>\n",
       "      <td>NaN</td>\n",
       "      <td>NaN</td>\n",
       "      <td>NaN</td>\n",
       "      <td>...</td>\n",
       "      <td>NaN</td>\n",
       "      <td>NaN</td>\n",
       "      <td>NaN</td>\n",
       "      <td>NaN</td>\n",
       "      <td>NaN</td>\n",
       "      <td>NaN</td>\n",
       "      <td>NaN</td>\n",
       "      <td>NaN</td>\n",
       "      <td>NaN</td>\n",
       "      <td>NaN</td>\n",
       "    </tr>\n",
       "    <tr>\n",
       "      <th>2022-02-01</th>\n",
       "      <td>27.0</td>\n",
       "      <td>NaN</td>\n",
       "      <td>NaN</td>\n",
       "      <td>NaN</td>\n",
       "      <td>NaN</td>\n",
       "      <td>NaN</td>\n",
       "      <td>NaN</td>\n",
       "      <td>NaN</td>\n",
       "      <td>NaN</td>\n",
       "      <td>NaN</td>\n",
       "      <td>...</td>\n",
       "      <td>NaN</td>\n",
       "      <td>NaN</td>\n",
       "      <td>NaN</td>\n",
       "      <td>NaN</td>\n",
       "      <td>NaN</td>\n",
       "      <td>NaN</td>\n",
       "      <td>NaN</td>\n",
       "      <td>NaN</td>\n",
       "      <td>NaN</td>\n",
       "      <td>NaN</td>\n",
       "    </tr>\n",
       "    <tr>\n",
       "      <th>2022-03-01</th>\n",
       "      <td>33.0</td>\n",
       "      <td>NaN</td>\n",
       "      <td>NaN</td>\n",
       "      <td>NaN</td>\n",
       "      <td>NaN</td>\n",
       "      <td>NaN</td>\n",
       "      <td>NaN</td>\n",
       "      <td>NaN</td>\n",
       "      <td>NaN</td>\n",
       "      <td>NaN</td>\n",
       "      <td>...</td>\n",
       "      <td>NaN</td>\n",
       "      <td>NaN</td>\n",
       "      <td>NaN</td>\n",
       "      <td>NaN</td>\n",
       "      <td>NaN</td>\n",
       "      <td>NaN</td>\n",
       "      <td>NaN</td>\n",
       "      <td>NaN</td>\n",
       "      <td>NaN</td>\n",
       "      <td>NaN</td>\n",
       "    </tr>\n",
       "    <tr>\n",
       "      <th>2022-04-01</th>\n",
       "      <td>19.0</td>\n",
       "      <td>NaN</td>\n",
       "      <td>NaN</td>\n",
       "      <td>NaN</td>\n",
       "      <td>NaN</td>\n",
       "      <td>NaN</td>\n",
       "      <td>NaN</td>\n",
       "      <td>NaN</td>\n",
       "      <td>NaN</td>\n",
       "      <td>NaN</td>\n",
       "      <td>...</td>\n",
       "      <td>NaN</td>\n",
       "      <td>NaN</td>\n",
       "      <td>NaN</td>\n",
       "      <td>NaN</td>\n",
       "      <td>NaN</td>\n",
       "      <td>NaN</td>\n",
       "      <td>NaN</td>\n",
       "      <td>NaN</td>\n",
       "      <td>NaN</td>\n",
       "      <td>NaN</td>\n",
       "    </tr>\n",
       "  </tbody>\n",
       "</table>\n",
       "<p>13 rows × 25 columns</p>\n",
       "</div>"
      ],
      "text/plain": [
       "CohortIndex     1      2      3      4      5      6      7      8      9   \\\n",
       "cohort                                                                       \n",
       "2021-04-01   459.0  431.0  429.0  438.0  422.0  430.0  407.0  277.0  277.0   \n",
       "2021-05-01   214.0  176.0  178.0  174.0  179.0  154.0   23.0   23.0   23.0   \n",
       "2021-06-01    45.0   15.0   16.0   16.0   14.0    NaN    NaN    NaN    NaN   \n",
       "2021-07-01   723.0  686.0  681.0  681.0  684.0  686.0  685.0  674.0  682.0   \n",
       "2021-08-01    34.0   10.0   10.0   10.0   10.0   10.0    9.0   10.0   10.0   \n",
       "2021-09-01    30.0    NaN    NaN    NaN    NaN    NaN    NaN    NaN    NaN   \n",
       "2021-10-01   210.0  163.0  160.0  162.0  165.0  161.0  163.0  161.0  169.0   \n",
       "2021-11-01   146.0  107.0  109.0  112.0  112.0  114.0  115.0  109.0  111.0   \n",
       "2021-12-01    31.0    6.0    7.0    7.0    7.0    7.0    7.0    6.0    7.0   \n",
       "2022-01-01    29.0    NaN    NaN    NaN    NaN    NaN    NaN    NaN    NaN   \n",
       "2022-02-01    27.0    NaN    NaN    NaN    NaN    NaN    NaN    NaN    NaN   \n",
       "2022-03-01    33.0    NaN    NaN    NaN    NaN    NaN    NaN    NaN    NaN   \n",
       "2022-04-01    19.0    NaN    NaN    NaN    NaN    NaN    NaN    NaN    NaN   \n",
       "\n",
       "CohortIndex     10  ...     16     17     18     19     20     21     22  \\\n",
       "cohort              ...                                                    \n",
       "2021-04-01   277.0  ...  277.0  277.0  277.0  277.0  277.0  277.0  277.0   \n",
       "2021-05-01    23.0  ...   23.0   23.0   23.0   23.0   23.0   23.0   23.0   \n",
       "2021-06-01     NaN  ...    NaN    NaN    NaN    NaN    NaN    NaN    NaN   \n",
       "2021-07-01   683.0  ...  684.0  683.0  684.0  685.0  674.0  687.0  659.0   \n",
       "2021-08-01    10.0  ...   10.0   10.0    9.0   10.0   10.0    9.0    NaN   \n",
       "2021-09-01     NaN  ...    NaN    NaN    NaN    NaN    NaN    NaN    NaN   \n",
       "2021-10-01   159.0  ...  161.0  159.0  159.0  145.0    NaN    NaN    NaN   \n",
       "2021-11-01   109.0  ...  107.0  115.0  101.0    NaN    NaN    NaN    NaN   \n",
       "2021-12-01     7.0  ...    7.0    6.0    NaN    NaN    NaN    NaN    NaN   \n",
       "2022-01-01     NaN  ...    NaN    NaN    NaN    NaN    NaN    NaN    NaN   \n",
       "2022-02-01     NaN  ...    NaN    NaN    NaN    NaN    NaN    NaN    NaN   \n",
       "2022-03-01     NaN  ...    NaN    NaN    NaN    NaN    NaN    NaN    NaN   \n",
       "2022-04-01     NaN  ...    NaN    NaN    NaN    NaN    NaN    NaN    NaN   \n",
       "\n",
       "CohortIndex     23     24     25  \n",
       "cohort                            \n",
       "2021-04-01   277.0  277.0  275.0  \n",
       "2021-05-01    23.0   23.0    NaN  \n",
       "2021-06-01     NaN    NaN    NaN  \n",
       "2021-07-01     NaN    NaN    NaN  \n",
       "2021-08-01     NaN    NaN    NaN  \n",
       "2021-09-01     NaN    NaN    NaN  \n",
       "2021-10-01     NaN    NaN    NaN  \n",
       "2021-11-01     NaN    NaN    NaN  \n",
       "2021-12-01     NaN    NaN    NaN  \n",
       "2022-01-01     NaN    NaN    NaN  \n",
       "2022-02-01     NaN    NaN    NaN  \n",
       "2022-03-01     NaN    NaN    NaN  \n",
       "2022-04-01     NaN    NaN    NaN  \n",
       "\n",
       "[13 rows x 25 columns]"
      ]
     },
     "metadata": {},
     "output_type": "display_data"
    }
   ],
   "source": [
    "grouping = df_transactions.groupby(['cohort', 'CohortIndex'])\n",
    "\n",
    "cohort_data = grouping['customerID'].apply(pd.Series.nunique)\n",
    "\n",
    "cohort_data = cohort_data.reset_index()\n",
    "\n",
    "cohort_counts = cohort_data.pivot(index='cohort',\n",
    "                                 columns='CohortIndex',\n",
    "                                 values='customerID')\n",
    "display(cohort_counts)"
   ]
  },
  {
   "cell_type": "code",
   "execution_count": 18,
   "metadata": {},
   "outputs": [
    {
     "data": {
      "text/html": [
       "<div>\n",
       "<style scoped>\n",
       "    .dataframe tbody tr th:only-of-type {\n",
       "        vertical-align: middle;\n",
       "    }\n",
       "\n",
       "    .dataframe tbody tr th {\n",
       "        vertical-align: top;\n",
       "    }\n",
       "\n",
       "    .dataframe thead th {\n",
       "        text-align: right;\n",
       "    }\n",
       "</style>\n",
       "<table border=\"1\" class=\"dataframe\">\n",
       "  <thead>\n",
       "    <tr style=\"text-align: right;\">\n",
       "      <th>CohortIndex</th>\n",
       "      <th>1</th>\n",
       "      <th>2</th>\n",
       "      <th>3</th>\n",
       "      <th>4</th>\n",
       "      <th>5</th>\n",
       "      <th>6</th>\n",
       "      <th>7</th>\n",
       "      <th>8</th>\n",
       "      <th>9</th>\n",
       "      <th>10</th>\n",
       "      <th>...</th>\n",
       "      <th>16</th>\n",
       "      <th>17</th>\n",
       "      <th>18</th>\n",
       "      <th>19</th>\n",
       "      <th>20</th>\n",
       "      <th>21</th>\n",
       "      <th>22</th>\n",
       "      <th>23</th>\n",
       "      <th>24</th>\n",
       "      <th>25</th>\n",
       "    </tr>\n",
       "  </thead>\n",
       "  <tbody>\n",
       "    <tr>\n",
       "      <th>2021-04-01</th>\n",
       "      <td>100.0</td>\n",
       "      <td>93.9</td>\n",
       "      <td>93.5</td>\n",
       "      <td>95.4</td>\n",
       "      <td>91.9</td>\n",
       "      <td>93.7</td>\n",
       "      <td>88.7</td>\n",
       "      <td>60.3</td>\n",
       "      <td>60.3</td>\n",
       "      <td>60.3</td>\n",
       "      <td>...</td>\n",
       "      <td>60.3</td>\n",
       "      <td>60.3</td>\n",
       "      <td>60.3</td>\n",
       "      <td>60.3</td>\n",
       "      <td>60.3</td>\n",
       "      <td>60.3</td>\n",
       "      <td>60.3</td>\n",
       "      <td>60.3</td>\n",
       "      <td>60.3</td>\n",
       "      <td>59.9</td>\n",
       "    </tr>\n",
       "    <tr>\n",
       "      <th>2021-05-01</th>\n",
       "      <td>100.0</td>\n",
       "      <td>82.2</td>\n",
       "      <td>83.2</td>\n",
       "      <td>81.3</td>\n",
       "      <td>83.6</td>\n",
       "      <td>72.0</td>\n",
       "      <td>10.7</td>\n",
       "      <td>10.7</td>\n",
       "      <td>10.7</td>\n",
       "      <td>10.7</td>\n",
       "      <td>...</td>\n",
       "      <td>10.7</td>\n",
       "      <td>10.7</td>\n",
       "      <td>10.7</td>\n",
       "      <td>10.7</td>\n",
       "      <td>10.7</td>\n",
       "      <td>10.7</td>\n",
       "      <td>10.7</td>\n",
       "      <td>10.7</td>\n",
       "      <td>10.7</td>\n",
       "      <td>NaN</td>\n",
       "    </tr>\n",
       "    <tr>\n",
       "      <th>2021-06-01</th>\n",
       "      <td>100.0</td>\n",
       "      <td>33.3</td>\n",
       "      <td>35.6</td>\n",
       "      <td>35.6</td>\n",
       "      <td>31.1</td>\n",
       "      <td>NaN</td>\n",
       "      <td>NaN</td>\n",
       "      <td>NaN</td>\n",
       "      <td>NaN</td>\n",
       "      <td>NaN</td>\n",
       "      <td>...</td>\n",
       "      <td>NaN</td>\n",
       "      <td>NaN</td>\n",
       "      <td>NaN</td>\n",
       "      <td>NaN</td>\n",
       "      <td>NaN</td>\n",
       "      <td>NaN</td>\n",
       "      <td>NaN</td>\n",
       "      <td>NaN</td>\n",
       "      <td>NaN</td>\n",
       "      <td>NaN</td>\n",
       "    </tr>\n",
       "    <tr>\n",
       "      <th>2021-07-01</th>\n",
       "      <td>100.0</td>\n",
       "      <td>94.9</td>\n",
       "      <td>94.2</td>\n",
       "      <td>94.2</td>\n",
       "      <td>94.6</td>\n",
       "      <td>94.9</td>\n",
       "      <td>94.7</td>\n",
       "      <td>93.2</td>\n",
       "      <td>94.3</td>\n",
       "      <td>94.5</td>\n",
       "      <td>...</td>\n",
       "      <td>94.6</td>\n",
       "      <td>94.5</td>\n",
       "      <td>94.6</td>\n",
       "      <td>94.7</td>\n",
       "      <td>93.2</td>\n",
       "      <td>95.0</td>\n",
       "      <td>91.1</td>\n",
       "      <td>NaN</td>\n",
       "      <td>NaN</td>\n",
       "      <td>NaN</td>\n",
       "    </tr>\n",
       "    <tr>\n",
       "      <th>2021-08-01</th>\n",
       "      <td>100.0</td>\n",
       "      <td>29.4</td>\n",
       "      <td>29.4</td>\n",
       "      <td>29.4</td>\n",
       "      <td>29.4</td>\n",
       "      <td>29.4</td>\n",
       "      <td>26.5</td>\n",
       "      <td>29.4</td>\n",
       "      <td>29.4</td>\n",
       "      <td>29.4</td>\n",
       "      <td>...</td>\n",
       "      <td>29.4</td>\n",
       "      <td>29.4</td>\n",
       "      <td>26.5</td>\n",
       "      <td>29.4</td>\n",
       "      <td>29.4</td>\n",
       "      <td>26.5</td>\n",
       "      <td>NaN</td>\n",
       "      <td>NaN</td>\n",
       "      <td>NaN</td>\n",
       "      <td>NaN</td>\n",
       "    </tr>\n",
       "    <tr>\n",
       "      <th>2021-09-01</th>\n",
       "      <td>100.0</td>\n",
       "      <td>NaN</td>\n",
       "      <td>NaN</td>\n",
       "      <td>NaN</td>\n",
       "      <td>NaN</td>\n",
       "      <td>NaN</td>\n",
       "      <td>NaN</td>\n",
       "      <td>NaN</td>\n",
       "      <td>NaN</td>\n",
       "      <td>NaN</td>\n",
       "      <td>...</td>\n",
       "      <td>NaN</td>\n",
       "      <td>NaN</td>\n",
       "      <td>NaN</td>\n",
       "      <td>NaN</td>\n",
       "      <td>NaN</td>\n",
       "      <td>NaN</td>\n",
       "      <td>NaN</td>\n",
       "      <td>NaN</td>\n",
       "      <td>NaN</td>\n",
       "      <td>NaN</td>\n",
       "    </tr>\n",
       "    <tr>\n",
       "      <th>2021-10-01</th>\n",
       "      <td>100.0</td>\n",
       "      <td>77.6</td>\n",
       "      <td>76.2</td>\n",
       "      <td>77.1</td>\n",
       "      <td>78.6</td>\n",
       "      <td>76.7</td>\n",
       "      <td>77.6</td>\n",
       "      <td>76.7</td>\n",
       "      <td>80.5</td>\n",
       "      <td>75.7</td>\n",
       "      <td>...</td>\n",
       "      <td>76.7</td>\n",
       "      <td>75.7</td>\n",
       "      <td>75.7</td>\n",
       "      <td>69.0</td>\n",
       "      <td>NaN</td>\n",
       "      <td>NaN</td>\n",
       "      <td>NaN</td>\n",
       "      <td>NaN</td>\n",
       "      <td>NaN</td>\n",
       "      <td>NaN</td>\n",
       "    </tr>\n",
       "    <tr>\n",
       "      <th>2021-11-01</th>\n",
       "      <td>100.0</td>\n",
       "      <td>73.3</td>\n",
       "      <td>74.7</td>\n",
       "      <td>76.7</td>\n",
       "      <td>76.7</td>\n",
       "      <td>78.1</td>\n",
       "      <td>78.8</td>\n",
       "      <td>74.7</td>\n",
       "      <td>76.0</td>\n",
       "      <td>74.7</td>\n",
       "      <td>...</td>\n",
       "      <td>73.3</td>\n",
       "      <td>78.8</td>\n",
       "      <td>69.2</td>\n",
       "      <td>NaN</td>\n",
       "      <td>NaN</td>\n",
       "      <td>NaN</td>\n",
       "      <td>NaN</td>\n",
       "      <td>NaN</td>\n",
       "      <td>NaN</td>\n",
       "      <td>NaN</td>\n",
       "    </tr>\n",
       "    <tr>\n",
       "      <th>2021-12-01</th>\n",
       "      <td>100.0</td>\n",
       "      <td>19.4</td>\n",
       "      <td>22.6</td>\n",
       "      <td>22.6</td>\n",
       "      <td>22.6</td>\n",
       "      <td>22.6</td>\n",
       "      <td>22.6</td>\n",
       "      <td>19.4</td>\n",
       "      <td>22.6</td>\n",
       "      <td>22.6</td>\n",
       "      <td>...</td>\n",
       "      <td>22.6</td>\n",
       "      <td>19.4</td>\n",
       "      <td>NaN</td>\n",
       "      <td>NaN</td>\n",
       "      <td>NaN</td>\n",
       "      <td>NaN</td>\n",
       "      <td>NaN</td>\n",
       "      <td>NaN</td>\n",
       "      <td>NaN</td>\n",
       "      <td>NaN</td>\n",
       "    </tr>\n",
       "    <tr>\n",
       "      <th>2022-01-01</th>\n",
       "      <td>100.0</td>\n",
       "      <td>NaN</td>\n",
       "      <td>NaN</td>\n",
       "      <td>NaN</td>\n",
       "      <td>NaN</td>\n",
       "      <td>NaN</td>\n",
       "      <td>NaN</td>\n",
       "      <td>NaN</td>\n",
       "      <td>NaN</td>\n",
       "      <td>NaN</td>\n",
       "      <td>...</td>\n",
       "      <td>NaN</td>\n",
       "      <td>NaN</td>\n",
       "      <td>NaN</td>\n",
       "      <td>NaN</td>\n",
       "      <td>NaN</td>\n",
       "      <td>NaN</td>\n",
       "      <td>NaN</td>\n",
       "      <td>NaN</td>\n",
       "      <td>NaN</td>\n",
       "      <td>NaN</td>\n",
       "    </tr>\n",
       "    <tr>\n",
       "      <th>2022-02-01</th>\n",
       "      <td>100.0</td>\n",
       "      <td>NaN</td>\n",
       "      <td>NaN</td>\n",
       "      <td>NaN</td>\n",
       "      <td>NaN</td>\n",
       "      <td>NaN</td>\n",
       "      <td>NaN</td>\n",
       "      <td>NaN</td>\n",
       "      <td>NaN</td>\n",
       "      <td>NaN</td>\n",
       "      <td>...</td>\n",
       "      <td>NaN</td>\n",
       "      <td>NaN</td>\n",
       "      <td>NaN</td>\n",
       "      <td>NaN</td>\n",
       "      <td>NaN</td>\n",
       "      <td>NaN</td>\n",
       "      <td>NaN</td>\n",
       "      <td>NaN</td>\n",
       "      <td>NaN</td>\n",
       "      <td>NaN</td>\n",
       "    </tr>\n",
       "    <tr>\n",
       "      <th>2022-03-01</th>\n",
       "      <td>100.0</td>\n",
       "      <td>NaN</td>\n",
       "      <td>NaN</td>\n",
       "      <td>NaN</td>\n",
       "      <td>NaN</td>\n",
       "      <td>NaN</td>\n",
       "      <td>NaN</td>\n",
       "      <td>NaN</td>\n",
       "      <td>NaN</td>\n",
       "      <td>NaN</td>\n",
       "      <td>...</td>\n",
       "      <td>NaN</td>\n",
       "      <td>NaN</td>\n",
       "      <td>NaN</td>\n",
       "      <td>NaN</td>\n",
       "      <td>NaN</td>\n",
       "      <td>NaN</td>\n",
       "      <td>NaN</td>\n",
       "      <td>NaN</td>\n",
       "      <td>NaN</td>\n",
       "      <td>NaN</td>\n",
       "    </tr>\n",
       "    <tr>\n",
       "      <th>2022-04-01</th>\n",
       "      <td>100.0</td>\n",
       "      <td>NaN</td>\n",
       "      <td>NaN</td>\n",
       "      <td>NaN</td>\n",
       "      <td>NaN</td>\n",
       "      <td>NaN</td>\n",
       "      <td>NaN</td>\n",
       "      <td>NaN</td>\n",
       "      <td>NaN</td>\n",
       "      <td>NaN</td>\n",
       "      <td>...</td>\n",
       "      <td>NaN</td>\n",
       "      <td>NaN</td>\n",
       "      <td>NaN</td>\n",
       "      <td>NaN</td>\n",
       "      <td>NaN</td>\n",
       "      <td>NaN</td>\n",
       "      <td>NaN</td>\n",
       "      <td>NaN</td>\n",
       "      <td>NaN</td>\n",
       "      <td>NaN</td>\n",
       "    </tr>\n",
       "  </tbody>\n",
       "</table>\n",
       "<p>13 rows × 25 columns</p>\n",
       "</div>"
      ],
      "text/plain": [
       "CohortIndex     1     2     3     4     5     6     7     8     9     10  ...  \\\n",
       "2021-04-01   100.0  93.9  93.5  95.4  91.9  93.7  88.7  60.3  60.3  60.3  ...   \n",
       "2021-05-01   100.0  82.2  83.2  81.3  83.6  72.0  10.7  10.7  10.7  10.7  ...   \n",
       "2021-06-01   100.0  33.3  35.6  35.6  31.1   NaN   NaN   NaN   NaN   NaN  ...   \n",
       "2021-07-01   100.0  94.9  94.2  94.2  94.6  94.9  94.7  93.2  94.3  94.5  ...   \n",
       "2021-08-01   100.0  29.4  29.4  29.4  29.4  29.4  26.5  29.4  29.4  29.4  ...   \n",
       "2021-09-01   100.0   NaN   NaN   NaN   NaN   NaN   NaN   NaN   NaN   NaN  ...   \n",
       "2021-10-01   100.0  77.6  76.2  77.1  78.6  76.7  77.6  76.7  80.5  75.7  ...   \n",
       "2021-11-01   100.0  73.3  74.7  76.7  76.7  78.1  78.8  74.7  76.0  74.7  ...   \n",
       "2021-12-01   100.0  19.4  22.6  22.6  22.6  22.6  22.6  19.4  22.6  22.6  ...   \n",
       "2022-01-01   100.0   NaN   NaN   NaN   NaN   NaN   NaN   NaN   NaN   NaN  ...   \n",
       "2022-02-01   100.0   NaN   NaN   NaN   NaN   NaN   NaN   NaN   NaN   NaN  ...   \n",
       "2022-03-01   100.0   NaN   NaN   NaN   NaN   NaN   NaN   NaN   NaN   NaN  ...   \n",
       "2022-04-01   100.0   NaN   NaN   NaN   NaN   NaN   NaN   NaN   NaN   NaN  ...   \n",
       "\n",
       "CohortIndex    16    17    18    19    20    21    22    23    24    25  \n",
       "2021-04-01   60.3  60.3  60.3  60.3  60.3  60.3  60.3  60.3  60.3  59.9  \n",
       "2021-05-01   10.7  10.7  10.7  10.7  10.7  10.7  10.7  10.7  10.7   NaN  \n",
       "2021-06-01    NaN   NaN   NaN   NaN   NaN   NaN   NaN   NaN   NaN   NaN  \n",
       "2021-07-01   94.6  94.5  94.6  94.7  93.2  95.0  91.1   NaN   NaN   NaN  \n",
       "2021-08-01   29.4  29.4  26.5  29.4  29.4  26.5   NaN   NaN   NaN   NaN  \n",
       "2021-09-01    NaN   NaN   NaN   NaN   NaN   NaN   NaN   NaN   NaN   NaN  \n",
       "2021-10-01   76.7  75.7  75.7  69.0   NaN   NaN   NaN   NaN   NaN   NaN  \n",
       "2021-11-01   73.3  78.8  69.2   NaN   NaN   NaN   NaN   NaN   NaN   NaN  \n",
       "2021-12-01   22.6  19.4   NaN   NaN   NaN   NaN   NaN   NaN   NaN   NaN  \n",
       "2022-01-01    NaN   NaN   NaN   NaN   NaN   NaN   NaN   NaN   NaN   NaN  \n",
       "2022-02-01    NaN   NaN   NaN   NaN   NaN   NaN   NaN   NaN   NaN   NaN  \n",
       "2022-03-01    NaN   NaN   NaN   NaN   NaN   NaN   NaN   NaN   NaN   NaN  \n",
       "2022-04-01    NaN   NaN   NaN   NaN   NaN   NaN   NaN   NaN   NaN   NaN  \n",
       "\n",
       "[13 rows x 25 columns]"
      ]
     },
     "execution_count": 18,
     "metadata": {},
     "output_type": "execute_result"
    }
   ],
   "source": [
    "cohort_sizes = cohort_counts.iloc[:,0]\n",
    "retention = cohort_counts.divide(cohort_sizes, axis=0)\n",
    "retention.index=retention.index.date\n",
    "retention.round(3)*100"
   ]
  },
  {
   "cell_type": "code",
   "execution_count": 19,
   "metadata": {},
   "outputs": [
    {
     "data": {
      "image/png": "[encoded data removed]",
      "text/plain": [
       "<Figure size 2000x1600 with 2 Axes>"
      ]
     },
     "metadata": {},
     "output_type": "display_data"
    }
   ],
   "source": [
    "import seaborn as sns\n",
    "import matplotlib.pyplot as plt\n",
    "#sns.set()\n",
    "plt.style.use('fivethirtyeight')\n",
    "plt.figure(figsize=(20,16))\n",
    "plt.title('Retention Rates')\n",
    "\n",
    "sns.heatmap(data = retention,\n",
    "           annot = True,\n",
    "           fmt = '.0%',\n",
    "           vmin= 0.1,\n",
    "           vmax=0.5,\n",
    "           cmap='summer_r')\n",
    "plt.show()"
   ]
  },
  {
   "attachments": {},
   "cell_type": "markdown",
   "metadata": {},
   "source": [
    "# RFM Segmentation \n",
    "\n",
    "Recency (R) : Days Since Last Customer Transaction\n",
    "Frequency (F): Number of transacations in the last 12 months\n",
    "Monetary Value (M) : Total Spend in the last 12 months\n",
    "\n",
    "# RFM Data Preperation\n",
    "\n",
    " Pandas built-in function #qcut will be used to calculate percentiles\n",
    " \n",
    "To implement RFM Segmentation, we need to further process the data set in by the following steps:\n",
    "\n",
    "Recency : For each customer ID, calculate the days since the last transaction. Create a hypothetical date maximum Date +1 to make it seem as though we are working on the most recent data substract the max Date of transaction(Most recent date of transation) of the customer. However, usually the data used is Real time data and using the present date would be ideal. \n",
    "Frequency: Count the number of invoices per customer to derive the frequency and \n",
    "Monetary Data: Sum the amount of money a customer transacted and divide it by Frequency, to get the amount per transaction on average, that is the Monetary data."
   ]
  },
  {
   "cell_type": "code",
   "execution_count": 20,
   "metadata": {},
   "outputs": [],
   "source": [
    "# create hypothetical snapshot_day as if anlysisng the most recent data\n",
    "snapshot=max(df_transactions.transactionDate)+dt.timedelta(days=1)"
   ]
  },
  {
   "cell_type": "code",
   "execution_count": 21,
   "metadata": {},
   "outputs": [],
   "source": [
    "datamart=df_transactions.groupby(['customerID']).agg({\n",
    "    'transactionDate':lambda x:(snapshot-x.max()).days,\n",
    "    'transactionReference':'count',\n",
    "    'amount':'sum'\n",
    "})"
   ]
  },
  {
   "cell_type": "code",
   "execution_count": 22,
   "metadata": {},
   "outputs": [],
   "source": [
    "# Rename columns for easy interpretation\n",
    "datamart.rename(columns={'transactionDate':'Recency',\n",
    "                         'transactionReference': 'Frequency',\n",
    "                         'amount': 'MonetaryValue'},inplace=True\n",
    "\n",
    ")"
   ]
  },
  {
   "cell_type": "code",
   "execution_count": 23,
   "metadata": {},
   "outputs": [
    {
     "data": {
      "text/html": [
       "<div>\n",
       "<style scoped>\n",
       "    .dataframe tbody tr th:only-of-type {\n",
       "        vertical-align: middle;\n",
       "    }\n",
       "\n",
       "    .dataframe tbody tr th {\n",
       "        vertical-align: top;\n",
       "    }\n",
       "\n",
       "    .dataframe thead th {\n",
       "        text-align: right;\n",
       "    }\n",
       "</style>\n",
       "<table border=\"1\" class=\"dataframe\">\n",
       "  <thead>\n",
       "    <tr style=\"text-align: right;\">\n",
       "      <th></th>\n",
       "      <th>Recency</th>\n",
       "      <th>Frequency</th>\n",
       "      <th>MonetaryValue</th>\n",
       "    </tr>\n",
       "    <tr>\n",
       "      <th>customerID</th>\n",
       "      <th></th>\n",
       "      <th></th>\n",
       "      <th></th>\n",
       "    </tr>\n",
       "  </thead>\n",
       "  <tbody>\n",
       "    <tr>\n",
       "      <th>99793279</th>\n",
       "      <td>394</td>\n",
       "      <td>1</td>\n",
       "      <td>9633.73</td>\n",
       "    </tr>\n",
       "    <tr>\n",
       "      <th>99812081</th>\n",
       "      <td>6</td>\n",
       "      <td>96</td>\n",
       "      <td>372838.52</td>\n",
       "    </tr>\n",
       "    <tr>\n",
       "      <th>99881642</th>\n",
       "      <td>585</td>\n",
       "      <td>12</td>\n",
       "      <td>61298.43</td>\n",
       "    </tr>\n",
       "    <tr>\n",
       "      <th>99908866</th>\n",
       "      <td>627</td>\n",
       "      <td>1</td>\n",
       "      <td>2742.77</td>\n",
       "    </tr>\n",
       "    <tr>\n",
       "      <th>99914417</th>\n",
       "      <td>24</td>\n",
       "      <td>96</td>\n",
       "      <td>328847.29</td>\n",
       "    </tr>\n",
       "  </tbody>\n",
       "</table>\n",
       "</div>"
      ],
      "text/plain": [
       "            Recency  Frequency  MonetaryValue\n",
       "customerID                                   \n",
       "99793279        394          1        9633.73\n",
       "99812081          6         96      372838.52\n",
       "99881642        585         12       61298.43\n",
       "99908866        627          1        2742.77\n",
       "99914417         24         96      328847.29"
      ]
     },
     "execution_count": 23,
     "metadata": {},
     "output_type": "execute_result"
    }
   ],
   "source": [
    "#View of The RFM table\n",
    "datamart.tail()"
   ]
  },
  {
   "cell_type": "code",
   "execution_count": 24,
   "metadata": {},
   "outputs": [],
   "source": [
    "# Create Lables for Each RFM Metric:Create generator of values for labels with range function\n",
    "r_labels=list(range(5,0,-1))\n",
    "m_labels=range(1,6)\n",
    "f_labels=range(1,5)"
   ]
  },
  {
   "cell_type": "code",
   "execution_count": 25,
   "metadata": {},
   "outputs": [],
   "source": [
    "#Create quartile Values using qcut function\n",
    "r_quartiles=pd.qcut(datamart['Recency'],5,labels=r_labels)\n",
    "m_quartiles=pd.qcut(datamart['MonetaryValue'],5,labels=m_labels)\n",
    "f_quartiles=pd.qcut(datamart['Frequency'],4,labels=f_labels)"
   ]
  },
  {
   "cell_type": "code",
   "execution_count": 26,
   "metadata": {},
   "outputs": [],
   "source": [
    "#Assign R,F,M quartile values to customers\n",
    "datamart=datamart.assign(R=r_quartiles.values)\n",
    "datamart=datamart.assign(F=f_quartiles.values,M=m_quartiles.values)"
   ]
  },
  {
   "cell_type": "code",
   "execution_count": 27,
   "metadata": {},
   "outputs": [
    {
     "data": {
      "text/html": [
       "<div>\n",
       "<style scoped>\n",
       "    .dataframe tbody tr th:only-of-type {\n",
       "        vertical-align: middle;\n",
       "    }\n",
       "\n",
       "    .dataframe tbody tr th {\n",
       "        vertical-align: top;\n",
       "    }\n",
       "\n",
       "    .dataframe thead th {\n",
       "        text-align: right;\n",
       "    }\n",
       "</style>\n",
       "<table border=\"1\" class=\"dataframe\">\n",
       "  <thead>\n",
       "    <tr style=\"text-align: right;\">\n",
       "      <th></th>\n",
       "      <th>Recency</th>\n",
       "      <th>Frequency</th>\n",
       "      <th>MonetaryValue</th>\n",
       "      <th>R</th>\n",
       "      <th>F</th>\n",
       "      <th>M</th>\n",
       "    </tr>\n",
       "    <tr>\n",
       "      <th>customerID</th>\n",
       "      <th></th>\n",
       "      <th></th>\n",
       "      <th></th>\n",
       "      <th></th>\n",
       "      <th></th>\n",
       "      <th></th>\n",
       "    </tr>\n",
       "  </thead>\n",
       "  <tbody>\n",
       "    <tr>\n",
       "      <th>10052678</th>\n",
       "      <td>551</td>\n",
       "      <td>12</td>\n",
       "      <td>40460.97</td>\n",
       "      <td>2</td>\n",
       "      <td>1</td>\n",
       "      <td>2</td>\n",
       "    </tr>\n",
       "    <tr>\n",
       "      <th>10061739</th>\n",
       "      <td>2</td>\n",
       "      <td>192</td>\n",
       "      <td>704917.16</td>\n",
       "      <td>5</td>\n",
       "      <td>4</td>\n",
       "      <td>5</td>\n",
       "    </tr>\n",
       "    <tr>\n",
       "      <th>10119371</th>\n",
       "      <td>8</td>\n",
       "      <td>96</td>\n",
       "      <td>354649.46</td>\n",
       "      <td>3</td>\n",
       "      <td>3</td>\n",
       "      <td>3</td>\n",
       "    </tr>\n",
       "    <tr>\n",
       "      <th>10133491</th>\n",
       "      <td>561</td>\n",
       "      <td>12</td>\n",
       "      <td>45885.32</td>\n",
       "      <td>1</td>\n",
       "      <td>1</td>\n",
       "      <td>2</td>\n",
       "    </tr>\n",
       "    <tr>\n",
       "      <th>10145230</th>\n",
       "      <td>418</td>\n",
       "      <td>1</td>\n",
       "      <td>2964.18</td>\n",
       "      <td>2</td>\n",
       "      <td>1</td>\n",
       "      <td>1</td>\n",
       "    </tr>\n",
       "  </tbody>\n",
       "</table>\n",
       "</div>"
      ],
      "text/plain": [
       "            Recency  Frequency  MonetaryValue  R  F  M\n",
       "customerID                                            \n",
       "10052678        551         12       40460.97  2  1  2\n",
       "10061739          2        192      704917.16  5  4  5\n",
       "10119371          8         96      354649.46  3  3  3\n",
       "10133491        561         12       45885.32  1  1  2\n",
       "10145230        418          1        2964.18  2  1  1"
      ]
     },
     "execution_count": 27,
     "metadata": {},
     "output_type": "execute_result"
    }
   ],
   "source": [
    "#snealpeak of the added column-R\n",
    "datamart.head()"
   ]
  },
  {
   "cell_type": "code",
   "execution_count": 28,
   "metadata": {},
   "outputs": [
    {
     "data": {
      "text/html": [
       "<div>\n",
       "<style scoped>\n",
       "    .dataframe tbody tr th:only-of-type {\n",
       "        vertical-align: middle;\n",
       "    }\n",
       "\n",
       "    .dataframe tbody tr th {\n",
       "        vertical-align: top;\n",
       "    }\n",
       "\n",
       "    .dataframe thead th {\n",
       "        text-align: right;\n",
       "    }\n",
       "</style>\n",
       "<table border=\"1\" class=\"dataframe\">\n",
       "  <thead>\n",
       "    <tr style=\"text-align: right;\">\n",
       "      <th></th>\n",
       "      <th>Recency</th>\n",
       "      <th>Frequency</th>\n",
       "      <th>MonetaryValue</th>\n",
       "      <th>R</th>\n",
       "      <th>F</th>\n",
       "      <th>M</th>\n",
       "    </tr>\n",
       "    <tr>\n",
       "      <th>customerID</th>\n",
       "      <th></th>\n",
       "      <th></th>\n",
       "      <th></th>\n",
       "      <th></th>\n",
       "      <th></th>\n",
       "      <th></th>\n",
       "    </tr>\n",
       "  </thead>\n",
       "  <tbody>\n",
       "    <tr>\n",
       "      <th>10052678</th>\n",
       "      <td>551</td>\n",
       "      <td>12</td>\n",
       "      <td>40460.97</td>\n",
       "      <td>2</td>\n",
       "      <td>1</td>\n",
       "      <td>2</td>\n",
       "    </tr>\n",
       "    <tr>\n",
       "      <th>10061739</th>\n",
       "      <td>2</td>\n",
       "      <td>192</td>\n",
       "      <td>704917.16</td>\n",
       "      <td>5</td>\n",
       "      <td>4</td>\n",
       "      <td>5</td>\n",
       "    </tr>\n",
       "    <tr>\n",
       "      <th>10119371</th>\n",
       "      <td>8</td>\n",
       "      <td>96</td>\n",
       "      <td>354649.46</td>\n",
       "      <td>3</td>\n",
       "      <td>3</td>\n",
       "      <td>3</td>\n",
       "    </tr>\n",
       "    <tr>\n",
       "      <th>10133491</th>\n",
       "      <td>561</td>\n",
       "      <td>12</td>\n",
       "      <td>45885.32</td>\n",
       "      <td>1</td>\n",
       "      <td>1</td>\n",
       "      <td>2</td>\n",
       "    </tr>\n",
       "    <tr>\n",
       "      <th>10145230</th>\n",
       "      <td>418</td>\n",
       "      <td>1</td>\n",
       "      <td>2964.18</td>\n",
       "      <td>2</td>\n",
       "      <td>1</td>\n",
       "      <td>1</td>\n",
       "    </tr>\n",
       "  </tbody>\n",
       "</table>\n",
       "</div>"
      ],
      "text/plain": [
       "            Recency  Frequency  MonetaryValue  R  F  M\n",
       "customerID                                            \n",
       "10052678        551         12       40460.97  2  1  2\n",
       "10061739          2        192      704917.16  5  4  5\n",
       "10119371          8         96      354649.46  3  3  3\n",
       "10133491        561         12       45885.32  1  1  2\n",
       "10145230        418          1        2964.18  2  1  1"
      ]
     },
     "execution_count": 28,
     "metadata": {},
     "output_type": "execute_result"
    }
   ],
   "source": [
    "# Sneakpeak of the new datamart\n",
    "datamart.head()"
   ]
  },
  {
   "cell_type": "code",
   "execution_count": 29,
   "metadata": {},
   "outputs": [],
   "source": [
    "# deriving RFM-Segment column\n",
    "def join_rfm(x) : return str(x['R'])+str(x['F'])+str(x['M'])\n",
    "datamart['RFM_Segment']=datamart.apply(join_rfm,axis=1)\n",
    "# Deriving RFM Score column\n",
    "datamart['RFM_Score']=datamart[['R','F','M']].sum(axis=1)"
   ]
  },
  {
   "cell_type": "code",
   "execution_count": 30,
   "metadata": {},
   "outputs": [
    {
     "data": {
      "text/html": [
       "<div>\n",
       "<style scoped>\n",
       "    .dataframe tbody tr th:only-of-type {\n",
       "        vertical-align: middle;\n",
       "    }\n",
       "\n",
       "    .dataframe tbody tr th {\n",
       "        vertical-align: top;\n",
       "    }\n",
       "\n",
       "    .dataframe thead th {\n",
       "        text-align: right;\n",
       "    }\n",
       "</style>\n",
       "<table border=\"1\" class=\"dataframe\">\n",
       "  <thead>\n",
       "    <tr style=\"text-align: right;\">\n",
       "      <th></th>\n",
       "      <th>Recency</th>\n",
       "      <th>Frequency</th>\n",
       "      <th>MonetaryValue</th>\n",
       "      <th>R</th>\n",
       "      <th>F</th>\n",
       "      <th>M</th>\n",
       "      <th>RFM_Segment</th>\n",
       "      <th>RFM_Score</th>\n",
       "    </tr>\n",
       "    <tr>\n",
       "      <th>customerID</th>\n",
       "      <th></th>\n",
       "      <th></th>\n",
       "      <th></th>\n",
       "      <th></th>\n",
       "      <th></th>\n",
       "      <th></th>\n",
       "      <th></th>\n",
       "      <th></th>\n",
       "    </tr>\n",
       "  </thead>\n",
       "  <tbody>\n",
       "    <tr>\n",
       "      <th>10052678</th>\n",
       "      <td>551</td>\n",
       "      <td>12</td>\n",
       "      <td>40460.97</td>\n",
       "      <td>2</td>\n",
       "      <td>1</td>\n",
       "      <td>2</td>\n",
       "      <td>2.01.02.0</td>\n",
       "      <td>5</td>\n",
       "    </tr>\n",
       "    <tr>\n",
       "      <th>10061739</th>\n",
       "      <td>2</td>\n",
       "      <td>192</td>\n",
       "      <td>704917.16</td>\n",
       "      <td>5</td>\n",
       "      <td>4</td>\n",
       "      <td>5</td>\n",
       "      <td>5.04.05.0</td>\n",
       "      <td>14</td>\n",
       "    </tr>\n",
       "    <tr>\n",
       "      <th>10119371</th>\n",
       "      <td>8</td>\n",
       "      <td>96</td>\n",
       "      <td>354649.46</td>\n",
       "      <td>3</td>\n",
       "      <td>3</td>\n",
       "      <td>3</td>\n",
       "      <td>3.03.03.0</td>\n",
       "      <td>9</td>\n",
       "    </tr>\n",
       "    <tr>\n",
       "      <th>10133491</th>\n",
       "      <td>561</td>\n",
       "      <td>12</td>\n",
       "      <td>45885.32</td>\n",
       "      <td>1</td>\n",
       "      <td>1</td>\n",
       "      <td>2</td>\n",
       "      <td>1.01.02.0</td>\n",
       "      <td>4</td>\n",
       "    </tr>\n",
       "    <tr>\n",
       "      <th>10145230</th>\n",
       "      <td>418</td>\n",
       "      <td>1</td>\n",
       "      <td>2964.18</td>\n",
       "      <td>2</td>\n",
       "      <td>1</td>\n",
       "      <td>1</td>\n",
       "      <td>2.01.01.0</td>\n",
       "      <td>4</td>\n",
       "    </tr>\n",
       "  </tbody>\n",
       "</table>\n",
       "</div>"
      ],
      "text/plain": [
       "            Recency  Frequency  MonetaryValue  R  F  M RFM_Segment  RFM_Score\n",
       "customerID                                                                   \n",
       "10052678        551         12       40460.97  2  1  2   2.01.02.0          5\n",
       "10061739          2        192      704917.16  5  4  5   5.04.05.0         14\n",
       "10119371          8         96      354649.46  3  3  3   3.03.03.0          9\n",
       "10133491        561         12       45885.32  1  1  2   1.01.02.0          4\n",
       "10145230        418          1        2964.18  2  1  1   2.01.01.0          4"
      ]
     },
     "execution_count": 30,
     "metadata": {},
     "output_type": "execute_result"
    }
   ],
   "source": [
    "# snakpeak of  datamart \n",
    "datamart.head()"
   ]
  },
  {
   "cell_type": "code",
   "execution_count": 31,
   "metadata": {},
   "outputs": [
    {
     "data": {
      "text/plain": [
       "RFM_Segment\n",
       "1.01.01.0    201\n",
       "2.01.01.0    199\n",
       "1.01.02.0    181\n",
       "5.04.05.0    170\n",
       "5.03.04.0    152\n",
       "2.01.02.0    119\n",
       "3.03.04.0    118\n",
       "4.03.04.0    110\n",
       "4.04.05.0     90\n",
       "5.03.03.0     74\n",
       "dtype: int64"
      ]
     },
     "execution_count": 31,
     "metadata": {},
     "output_type": "execute_result"
    }
   ],
   "source": [
    "datamart.groupby('RFM_Segment').size().sort_values(ascending=False)[:10]"
   ]
  },
  {
   "cell_type": "code",
   "execution_count": 32,
   "metadata": {},
   "outputs": [
    {
     "data": {
      "text/html": [
       "<div>\n",
       "<style scoped>\n",
       "    .dataframe tbody tr th:only-of-type {\n",
       "        vertical-align: middle;\n",
       "    }\n",
       "\n",
       "    .dataframe tbody tr th {\n",
       "        vertical-align: top;\n",
       "    }\n",
       "\n",
       "    .dataframe thead tr th {\n",
       "        text-align: left;\n",
       "    }\n",
       "\n",
       "    .dataframe thead tr:last-of-type th {\n",
       "        text-align: right;\n",
       "    }\n",
       "</style>\n",
       "<table border=\"1\" class=\"dataframe\">\n",
       "  <thead>\n",
       "    <tr>\n",
       "      <th></th>\n",
       "      <th>Recency</th>\n",
       "      <th>MonetaryValue</th>\n",
       "      <th colspan=\"2\" halign=\"left\">Frequency</th>\n",
       "    </tr>\n",
       "    <tr>\n",
       "      <th></th>\n",
       "      <th>mean</th>\n",
       "      <th>mean</th>\n",
       "      <th>mean</th>\n",
       "      <th>count</th>\n",
       "    </tr>\n",
       "    <tr>\n",
       "      <th>RFM_Score</th>\n",
       "      <th></th>\n",
       "      <th></th>\n",
       "      <th></th>\n",
       "      <th></th>\n",
       "    </tr>\n",
       "  </thead>\n",
       "  <tbody>\n",
       "    <tr>\n",
       "      <th>3</th>\n",
       "      <td>624.5</td>\n",
       "      <td>9003.6</td>\n",
       "      <td>3.0</td>\n",
       "      <td>201</td>\n",
       "    </tr>\n",
       "    <tr>\n",
       "      <th>4</th>\n",
       "      <td>515.5</td>\n",
       "      <td>27755.2</td>\n",
       "      <td>6.9</td>\n",
       "      <td>380</td>\n",
       "    </tr>\n",
       "    <tr>\n",
       "      <th>5</th>\n",
       "      <td>550.9</td>\n",
       "      <td>51302.9</td>\n",
       "      <td>12.0</td>\n",
       "      <td>119</td>\n",
       "    </tr>\n",
       "    <tr>\n",
       "      <th>6</th>\n",
       "      <td>29.4</td>\n",
       "      <td>167993.9</td>\n",
       "      <td>48.0</td>\n",
       "      <td>15</td>\n",
       "    </tr>\n",
       "    <tr>\n",
       "      <th>7</th>\n",
       "      <td>24.3</td>\n",
       "      <td>184533.4</td>\n",
       "      <td>48.0</td>\n",
       "      <td>72</td>\n",
       "    </tr>\n",
       "    <tr>\n",
       "      <th>8</th>\n",
       "      <td>12.8</td>\n",
       "      <td>208712.1</td>\n",
       "      <td>53.4</td>\n",
       "      <td>107</td>\n",
       "    </tr>\n",
       "    <tr>\n",
       "      <th>9</th>\n",
       "      <td>9.8</td>\n",
       "      <td>275685.7</td>\n",
       "      <td>72.1</td>\n",
       "      <td>161</td>\n",
       "    </tr>\n",
       "    <tr>\n",
       "      <th>10</th>\n",
       "      <td>8.9</td>\n",
       "      <td>345554.1</td>\n",
       "      <td>87.5</td>\n",
       "      <td>215</td>\n",
       "    </tr>\n",
       "    <tr>\n",
       "      <th>11</th>\n",
       "      <td>5.1</td>\n",
       "      <td>382072.4</td>\n",
       "      <td>96.9</td>\n",
       "      <td>208</td>\n",
       "    </tr>\n",
       "    <tr>\n",
       "      <th>12</th>\n",
       "      <td>3.9</td>\n",
       "      <td>460152.7</td>\n",
       "      <td>112.3</td>\n",
       "      <td>224</td>\n",
       "    </tr>\n",
       "    <tr>\n",
       "      <th>13</th>\n",
       "      <td>4.3</td>\n",
       "      <td>667614.6</td>\n",
       "      <td>163.5</td>\n",
       "      <td>128</td>\n",
       "    </tr>\n",
       "    <tr>\n",
       "      <th>14</th>\n",
       "      <td>1.7</td>\n",
       "      <td>765061.7</td>\n",
       "      <td>192.0</td>\n",
       "      <td>170</td>\n",
       "    </tr>\n",
       "  </tbody>\n",
       "</table>\n",
       "</div>"
      ],
      "text/plain": [
       "          Recency MonetaryValue Frequency      \n",
       "             mean          mean      mean count\n",
       "RFM_Score                                      \n",
       "3           624.5        9003.6       3.0   201\n",
       "4           515.5       27755.2       6.9   380\n",
       "5           550.9       51302.9      12.0   119\n",
       "6            29.4      167993.9      48.0    15\n",
       "7            24.3      184533.4      48.0    72\n",
       "8            12.8      208712.1      53.4   107\n",
       "9             9.8      275685.7      72.1   161\n",
       "10            8.9      345554.1      87.5   215\n",
       "11            5.1      382072.4      96.9   208\n",
       "12            3.9      460152.7     112.3   224\n",
       "13            4.3      667614.6     163.5   128\n",
       "14            1.7      765061.7     192.0   170"
      ]
     },
     "execution_count": 32,
     "metadata": {},
     "output_type": "execute_result"
    }
   ],
   "source": [
    "# Summary metrics per RFM Score\n",
    "datamart.groupby('RFM_Score').agg({\n",
    "  'Recency':'mean',\n",
    "  'MonetaryValue' :'mean',\n",
    "  'Frequency':['mean','count']\n",
    "}).round(1)"
   ]
  },
  {
   "attachments": {},
   "cell_type": "markdown",
   "metadata": {},
   "source": [
    "## Grouping Customers into Named Segments\n",
    "Now that we have competed the RFM segmentation, users can be groups into named categories for marketing and profiling purpsoses.\n",
    "1. MVC (Most Valuable customer): RFM_Score >=12\n",
    "2. Loyal Customers: RFM_Score between 9 and 11\n",
    "3. Potentially Loyal: RFM_Score between 7 and 9\n",
    "4. Need Attention : RFM Score between 5 and 6\n",
    "5. Churned Folk : RFM_Score < 5\n"
   ]
  },
  {
   "cell_type": "code",
   "execution_count": 33,
   "metadata": {},
   "outputs": [],
   "source": [
    "def segment_me(datamart):\n",
    "    if datamart['RFM_Score']>=12 :\n",
    "        return 'MVC'\n",
    "    if(datamart['RFM_Score']>=9) and datamart['RFM_Score']<11:\n",
    "        return 'Loyal '\n",
    "    if(datamart['RFM_Score']>=7) and datamart['RFM_Score']<9:\n",
    "        return 'Potentially Loyal'\n",
    "    elif(datamart['RFM_Score']>=4) and datamart['RFM_Score']<6:\n",
    "        return 'Churned Folk'\n",
    "    else:\n",
    "        return  'Need Attention'"
   ]
  },
  {
   "cell_type": "code",
   "execution_count": 34,
   "metadata": {},
   "outputs": [
    {
     "data": {
      "text/html": [
       "<div>\n",
       "<style scoped>\n",
       "    .dataframe tbody tr th:only-of-type {\n",
       "        vertical-align: middle;\n",
       "    }\n",
       "\n",
       "    .dataframe tbody tr th {\n",
       "        vertical-align: top;\n",
       "    }\n",
       "\n",
       "    .dataframe thead tr th {\n",
       "        text-align: left;\n",
       "    }\n",
       "\n",
       "    .dataframe thead tr:last-of-type th {\n",
       "        text-align: right;\n",
       "    }\n",
       "</style>\n",
       "<table border=\"1\" class=\"dataframe\">\n",
       "  <thead>\n",
       "    <tr>\n",
       "      <th></th>\n",
       "      <th>Recency</th>\n",
       "      <th>MonetaryValue</th>\n",
       "      <th colspan=\"2\" halign=\"left\">Frequency</th>\n",
       "    </tr>\n",
       "    <tr>\n",
       "      <th></th>\n",
       "      <th>mean</th>\n",
       "      <th>mean</th>\n",
       "      <th>mean</th>\n",
       "      <th>count</th>\n",
       "    </tr>\n",
       "    <tr>\n",
       "      <th>General_Segment</th>\n",
       "      <th></th>\n",
       "      <th></th>\n",
       "      <th></th>\n",
       "      <th></th>\n",
       "    </tr>\n",
       "  </thead>\n",
       "  <tbody>\n",
       "    <tr>\n",
       "      <th>Churned Folk</th>\n",
       "      <td>523.9</td>\n",
       "      <td>33370.8</td>\n",
       "      <td>8.1</td>\n",
       "      <td>499</td>\n",
       "    </tr>\n",
       "    <tr>\n",
       "      <th>Loyal</th>\n",
       "      <td>9.3</td>\n",
       "      <td>315637.1</td>\n",
       "      <td>80.9</td>\n",
       "      <td>376</td>\n",
       "    </tr>\n",
       "    <tr>\n",
       "      <th>MVC</th>\n",
       "      <td>3.3</td>\n",
       "      <td>610324.4</td>\n",
       "      <td>150.8</td>\n",
       "      <td>522</td>\n",
       "    </tr>\n",
       "    <tr>\n",
       "      <th>Need Attention</th>\n",
       "      <td>299.6</td>\n",
       "      <td>197643.1</td>\n",
       "      <td>50.7</td>\n",
       "      <td>424</td>\n",
       "    </tr>\n",
       "    <tr>\n",
       "      <th>Potentially Loyal</th>\n",
       "      <td>17.4</td>\n",
       "      <td>198986.6</td>\n",
       "      <td>51.2</td>\n",
       "      <td>179</td>\n",
       "    </tr>\n",
       "  </tbody>\n",
       "</table>\n",
       "</div>"
      ],
      "text/plain": [
       "                  Recency MonetaryValue Frequency      \n",
       "                     mean          mean      mean count\n",
       "General_Segment                                        \n",
       "Churned Folk        523.9       33370.8       8.1   499\n",
       "Loyal                 9.3      315637.1      80.9   376\n",
       "MVC                   3.3      610324.4     150.8   522\n",
       "Need Attention      299.6      197643.1      50.7   424\n",
       "Potentially Loyal    17.4      198986.6      51.2   179"
      ]
     },
     "execution_count": 34,
     "metadata": {},
     "output_type": "execute_result"
    }
   ],
   "source": [
    "datamart['General_Segment']=datamart.apply(segment_me,axis=1)    \n",
    "datamart.groupby('General_Segment').agg({\n",
    "  'Recency':'mean',\n",
    "  'MonetaryValue' :'mean',\n",
    "  'Frequency':['mean','count']\n",
    "    \n",
    "    }).round(1)"
   ]
  },
  {
   "cell_type": "code",
   "execution_count": 35,
   "metadata": {},
   "outputs": [
    {
     "data": {
      "text/html": [
       "<div>\n",
       "<style scoped>\n",
       "    .dataframe tbody tr th:only-of-type {\n",
       "        vertical-align: middle;\n",
       "    }\n",
       "\n",
       "    .dataframe tbody tr th {\n",
       "        vertical-align: top;\n",
       "    }\n",
       "\n",
       "    .dataframe thead th {\n",
       "        text-align: right;\n",
       "    }\n",
       "</style>\n",
       "<table border=\"1\" class=\"dataframe\">\n",
       "  <thead>\n",
       "    <tr style=\"text-align: right;\">\n",
       "      <th></th>\n",
       "      <th>Recency</th>\n",
       "      <th>Frequency</th>\n",
       "      <th>MonetaryValue</th>\n",
       "      <th>R</th>\n",
       "      <th>F</th>\n",
       "      <th>M</th>\n",
       "      <th>RFM_Segment</th>\n",
       "      <th>RFM_Score</th>\n",
       "      <th>General_Segment</th>\n",
       "    </tr>\n",
       "    <tr>\n",
       "      <th>customerID</th>\n",
       "      <th></th>\n",
       "      <th></th>\n",
       "      <th></th>\n",
       "      <th></th>\n",
       "      <th></th>\n",
       "      <th></th>\n",
       "      <th></th>\n",
       "      <th></th>\n",
       "      <th></th>\n",
       "    </tr>\n",
       "  </thead>\n",
       "  <tbody>\n",
       "    <tr>\n",
       "      <th>10052678</th>\n",
       "      <td>551</td>\n",
       "      <td>12</td>\n",
       "      <td>40460.97</td>\n",
       "      <td>2</td>\n",
       "      <td>1</td>\n",
       "      <td>2</td>\n",
       "      <td>2.01.02.0</td>\n",
       "      <td>5</td>\n",
       "      <td>Churned Folk</td>\n",
       "    </tr>\n",
       "    <tr>\n",
       "      <th>10061739</th>\n",
       "      <td>2</td>\n",
       "      <td>192</td>\n",
       "      <td>704917.16</td>\n",
       "      <td>5</td>\n",
       "      <td>4</td>\n",
       "      <td>5</td>\n",
       "      <td>5.04.05.0</td>\n",
       "      <td>14</td>\n",
       "      <td>MVC</td>\n",
       "    </tr>\n",
       "    <tr>\n",
       "      <th>10119371</th>\n",
       "      <td>8</td>\n",
       "      <td>96</td>\n",
       "      <td>354649.46</td>\n",
       "      <td>3</td>\n",
       "      <td>3</td>\n",
       "      <td>3</td>\n",
       "      <td>3.03.03.0</td>\n",
       "      <td>9</td>\n",
       "      <td>Loyal</td>\n",
       "    </tr>\n",
       "    <tr>\n",
       "      <th>10133491</th>\n",
       "      <td>561</td>\n",
       "      <td>12</td>\n",
       "      <td>45885.32</td>\n",
       "      <td>1</td>\n",
       "      <td>1</td>\n",
       "      <td>2</td>\n",
       "      <td>1.01.02.0</td>\n",
       "      <td>4</td>\n",
       "      <td>Churned Folk</td>\n",
       "    </tr>\n",
       "    <tr>\n",
       "      <th>10145230</th>\n",
       "      <td>418</td>\n",
       "      <td>1</td>\n",
       "      <td>2964.18</td>\n",
       "      <td>2</td>\n",
       "      <td>1</td>\n",
       "      <td>1</td>\n",
       "      <td>2.01.01.0</td>\n",
       "      <td>4</td>\n",
       "      <td>Churned Folk</td>\n",
       "    </tr>\n",
       "  </tbody>\n",
       "</table>\n",
       "</div>"
      ],
      "text/plain": [
       "            Recency  Frequency  MonetaryValue  R  F  M RFM_Segment  RFM_Score  \\\n",
       "customerID                                                                      \n",
       "10052678        551         12       40460.97  2  1  2   2.01.02.0          5   \n",
       "10061739          2        192      704917.16  5  4  5   5.04.05.0         14   \n",
       "10119371          8         96      354649.46  3  3  3   3.03.03.0          9   \n",
       "10133491        561         12       45885.32  1  1  2   1.01.02.0          4   \n",
       "10145230        418          1        2964.18  2  1  1   2.01.01.0          4   \n",
       "\n",
       "           General_Segment  \n",
       "customerID                  \n",
       "10052678      Churned Folk  \n",
       "10061739               MVC  \n",
       "10119371            Loyal   \n",
       "10133491      Churned Folk  \n",
       "10145230      Churned Folk  "
      ]
     },
     "execution_count": 35,
     "metadata": {},
     "output_type": "execute_result"
    }
   ],
   "source": [
    "datamart.head()"
   ]
  },
  {
   "cell_type": "code",
   "execution_count": 36,
   "metadata": {},
   "outputs": [
    {
     "data": {
      "text/html": [
       "<div>\n",
       "<style scoped>\n",
       "    .dataframe tbody tr th:only-of-type {\n",
       "        vertical-align: middle;\n",
       "    }\n",
       "\n",
       "    .dataframe tbody tr th {\n",
       "        vertical-align: top;\n",
       "    }\n",
       "\n",
       "    .dataframe thead th {\n",
       "        text-align: right;\n",
       "    }\n",
       "</style>\n",
       "<table border=\"1\" class=\"dataframe\">\n",
       "  <thead>\n",
       "    <tr style=\"text-align: right;\">\n",
       "      <th></th>\n",
       "      <th>Recency</th>\n",
       "      <th>Frequency</th>\n",
       "      <th>MonetaryValue</th>\n",
       "      <th>RFM_Score</th>\n",
       "    </tr>\n",
       "  </thead>\n",
       "  <tbody>\n",
       "    <tr>\n",
       "      <th>count</th>\n",
       "      <td>2000.000000</td>\n",
       "      <td>2000.000000</td>\n",
       "      <td>2000.000000</td>\n",
       "      <td>2000.000000</td>\n",
       "    </tr>\n",
       "    <tr>\n",
       "      <th>mean</th>\n",
       "      <td>198.390000</td>\n",
       "      <td>71.930000</td>\n",
       "      <td>286670.100740</td>\n",
       "      <td>8.393500</td>\n",
       "    </tr>\n",
       "    <tr>\n",
       "      <th>std</th>\n",
       "      <td>263.916938</td>\n",
       "      <td>62.888334</td>\n",
       "      <td>252557.308038</td>\n",
       "      <td>3.728889</td>\n",
       "    </tr>\n",
       "    <tr>\n",
       "      <th>min</th>\n",
       "      <td>1.000000</td>\n",
       "      <td>1.000000</td>\n",
       "      <td>136.920000</td>\n",
       "      <td>3.000000</td>\n",
       "    </tr>\n",
       "    <tr>\n",
       "      <th>25%</th>\n",
       "      <td>4.000000</td>\n",
       "      <td>12.000000</td>\n",
       "      <td>46209.535000</td>\n",
       "      <td>4.000000</td>\n",
       "    </tr>\n",
       "    <tr>\n",
       "      <th>50%</th>\n",
       "      <td>10.000000</td>\n",
       "      <td>72.000000</td>\n",
       "      <td>275352.380000</td>\n",
       "      <td>9.000000</td>\n",
       "    </tr>\n",
       "    <tr>\n",
       "      <th>75%</th>\n",
       "      <td>549.000000</td>\n",
       "      <td>96.000000</td>\n",
       "      <td>400167.350000</td>\n",
       "      <td>12.000000</td>\n",
       "    </tr>\n",
       "    <tr>\n",
       "      <th>max</th>\n",
       "      <td>730.000000</td>\n",
       "      <td>192.000000</td>\n",
       "      <td>881293.240000</td>\n",
       "      <td>14.000000</td>\n",
       "    </tr>\n",
       "  </tbody>\n",
       "</table>\n",
       "</div>"
      ],
      "text/plain": [
       "           Recency    Frequency  MonetaryValue    RFM_Score\n",
       "count  2000.000000  2000.000000    2000.000000  2000.000000\n",
       "mean    198.390000    71.930000  286670.100740     8.393500\n",
       "std     263.916938    62.888334  252557.308038     3.728889\n",
       "min       1.000000     1.000000     136.920000     3.000000\n",
       "25%       4.000000    12.000000   46209.535000     4.000000\n",
       "50%      10.000000    72.000000  275352.380000     9.000000\n",
       "75%     549.000000    96.000000  400167.350000    12.000000\n",
       "max     730.000000   192.000000  881293.240000    14.000000"
      ]
     },
     "execution_count": 36,
     "metadata": {},
     "output_type": "execute_result"
    }
   ],
   "source": [
    "datamart.describe()"
   ]
  },
  {
   "attachments": {},
   "cell_type": "markdown",
   "metadata": {},
   "source": [
    "## Display as chart for high-level segment"
   ]
  },
  {
   "cell_type": "code",
   "execution_count": 37,
   "metadata": {},
   "outputs": [
    {
     "data": {
      "image/png": "[encoded data removed]",
      "text/plain": [
       "<Figure size 800x400 with 1 Axes>"
      ]
     },
     "metadata": {},
     "output_type": "display_data"
    }
   ],
   "source": [
    "import matplotlib.pyplot as plt\n",
    "import seaborn as sns\n",
    "import squarify\n",
    "\n",
    "datamart.columns\n",
    "\n",
    "# count the number of occurrences of each General_Segment value\n",
    "segment_counts = datamart['General_Segment'].value_counts()\n",
    "\n",
    "# create a figure and axis object\n",
    "fig, ax = plt.subplots(figsize=(8, 4))\n",
    "\n",
    "# create the treemap using squarify and set colors for each segment\n",
    "colors = sns.color_palette('colorblind', len(segment_counts))\n",
    "squarify.plot(\n",
    "    sizes=segment_counts.values,\n",
    "    label=segment_counts.index,\n",
    "    value=segment_counts,\n",
    "    color=colors,\n",
    "    alpha=0.8,\n",
    "    ax=ax,\n",
    "    text_kwargs={'fontsize': 10}\n",
    ")\n",
    "\n",
    "# set the axis properties\n",
    "plt.axis('off')\n",
    "plt.title('Customer Segments')\n",
    "\n",
    "# show the treemap\n",
    "plt.show()"
   ]
  },
  {
   "attachments": {},
   "cell_type": "markdown",
   "metadata": {},
   "source": [
    "## Further Analysis using customer demographic information"
   ]
  },
  {
   "cell_type": "code",
   "execution_count": 38,
   "metadata": {},
   "outputs": [
    {
     "data": {
      "text/html": [
       "<div>\n",
       "<style scoped>\n",
       "    .dataframe tbody tr th:only-of-type {\n",
       "        vertical-align: middle;\n",
       "    }\n",
       "\n",
       "    .dataframe tbody tr th {\n",
       "        vertical-align: top;\n",
       "    }\n",
       "\n",
       "    .dataframe thead th {\n",
       "        text-align: right;\n",
       "    }\n",
       "</style>\n",
       "<table border=\"1\" class=\"dataframe\">\n",
       "  <thead>\n",
       "    <tr style=\"text-align: right;\">\n",
       "      <th></th>\n",
       "      <th>customerID</th>\n",
       "      <th>customerName</th>\n",
       "      <th>customerAge</th>\n",
       "      <th>customerGender</th>\n",
       "      <th>customerLocation</th>\n",
       "      <th>customerEducation</th>\n",
       "      <th>customerIndustry</th>\n",
       "      <th>customerAuthorizedSignatories</th>\n",
       "      <th>customerGeneration</th>\n",
       "      <th>customerState</th>\n",
       "      <th>Recency</th>\n",
       "      <th>Frequency</th>\n",
       "      <th>MonetaryValue</th>\n",
       "      <th>R</th>\n",
       "      <th>F</th>\n",
       "      <th>M</th>\n",
       "      <th>RFM_Segment</th>\n",
       "      <th>RFM_Score</th>\n",
       "      <th>General_Segment</th>\n",
       "    </tr>\n",
       "  </thead>\n",
       "  <tbody>\n",
       "    <tr>\n",
       "      <th>0</th>\n",
       "      <td>25965788</td>\n",
       "      <td>Travis Buchanan</td>\n",
       "      <td>53</td>\n",
       "      <td>Male</td>\n",
       "      <td>00215 Brooks Tunnel Apt. 186\\nJessicabury, DE ...</td>\n",
       "      <td>Master</td>\n",
       "      <td>IT</td>\n",
       "      <td>['Travis Buchanan']</td>\n",
       "      <td>Gen X</td>\n",
       "      <td>DE</td>\n",
       "      <td>1</td>\n",
       "      <td>192</td>\n",
       "      <td>746893.49</td>\n",
       "      <td>5</td>\n",
       "      <td>4</td>\n",
       "      <td>5</td>\n",
       "      <td>5.04.05.0</td>\n",
       "      <td>14</td>\n",
       "      <td>MVC</td>\n",
       "    </tr>\n",
       "    <tr>\n",
       "      <th>1</th>\n",
       "      <td>99599390</td>\n",
       "      <td>Patricia Haney</td>\n",
       "      <td>60</td>\n",
       "      <td>Other</td>\n",
       "      <td>561 Thomas Manor\\nGregorystad, ME 98366</td>\n",
       "      <td>PhD</td>\n",
       "      <td>Manufacturing</td>\n",
       "      <td>['Patricia Haney', 'Michael Dennis']</td>\n",
       "      <td>Baby Boomers</td>\n",
       "      <td>ME</td>\n",
       "      <td>1</td>\n",
       "      <td>192</td>\n",
       "      <td>782220.05</td>\n",
       "      <td>5</td>\n",
       "      <td>4</td>\n",
       "      <td>5</td>\n",
       "      <td>5.04.05.0</td>\n",
       "      <td>14</td>\n",
       "      <td>MVC</td>\n",
       "    </tr>\n",
       "    <tr>\n",
       "      <th>2</th>\n",
       "      <td>83397893</td>\n",
       "      <td>Kimberly Hood</td>\n",
       "      <td>51</td>\n",
       "      <td>Female</td>\n",
       "      <td>652 Atkinson Key Suite 623\\nWest Miranda, NH 0...</td>\n",
       "      <td>High School</td>\n",
       "      <td>Healthcare</td>\n",
       "      <td>['Kimberly Hood']</td>\n",
       "      <td>Gen X</td>\n",
       "      <td>NH</td>\n",
       "      <td>2</td>\n",
       "      <td>192</td>\n",
       "      <td>754391.12</td>\n",
       "      <td>5</td>\n",
       "      <td>4</td>\n",
       "      <td>5</td>\n",
       "      <td>5.04.05.0</td>\n",
       "      <td>14</td>\n",
       "      <td>MVC</td>\n",
       "    </tr>\n",
       "    <tr>\n",
       "      <th>3</th>\n",
       "      <td>18621992</td>\n",
       "      <td>Chelsea Walton</td>\n",
       "      <td>59</td>\n",
       "      <td>Male</td>\n",
       "      <td>118 Walker Ville\\nMelissaland, AK 40847</td>\n",
       "      <td>Master</td>\n",
       "      <td>Finance</td>\n",
       "      <td>['Chelsea Walton', 'Jennifer Watkins']</td>\n",
       "      <td>Baby Boomers</td>\n",
       "      <td>AK</td>\n",
       "      <td>1</td>\n",
       "      <td>192</td>\n",
       "      <td>712393.82</td>\n",
       "      <td>5</td>\n",
       "      <td>4</td>\n",
       "      <td>5</td>\n",
       "      <td>5.04.05.0</td>\n",
       "      <td>14</td>\n",
       "      <td>MVC</td>\n",
       "    </tr>\n",
       "    <tr>\n",
       "      <th>4</th>\n",
       "      <td>14714596</td>\n",
       "      <td>Melissa Cooper</td>\n",
       "      <td>20</td>\n",
       "      <td>Other</td>\n",
       "      <td>8805 Thompson Village\\nSouth Richard, WI 12607</td>\n",
       "      <td>High School</td>\n",
       "      <td>Automotive</td>\n",
       "      <td>['Melissa Cooper']</td>\n",
       "      <td>Gen Z</td>\n",
       "      <td>WI</td>\n",
       "      <td>2</td>\n",
       "      <td>192</td>\n",
       "      <td>714716.61</td>\n",
       "      <td>5</td>\n",
       "      <td>4</td>\n",
       "      <td>5</td>\n",
       "      <td>5.04.05.0</td>\n",
       "      <td>14</td>\n",
       "      <td>MVC</td>\n",
       "    </tr>\n",
       "  </tbody>\n",
       "</table>\n",
       "</div>"
      ],
      "text/plain": [
       "   customerID     customerName  customerAge customerGender  \\\n",
       "0    25965788  Travis Buchanan           53           Male   \n",
       "1    99599390   Patricia Haney           60          Other   \n",
       "2    83397893    Kimberly Hood           51         Female   \n",
       "3    18621992   Chelsea Walton           59           Male   \n",
       "4    14714596   Melissa Cooper           20          Other   \n",
       "\n",
       "                                    customerLocation customerEducation  \\\n",
       "0  00215 Brooks Tunnel Apt. 186\\nJessicabury, DE ...            Master   \n",
       "1            561 Thomas Manor\\nGregorystad, ME 98366               PhD   \n",
       "2  652 Atkinson Key Suite 623\\nWest Miranda, NH 0...       High School   \n",
       "3            118 Walker Ville\\nMelissaland, AK 40847            Master   \n",
       "4     8805 Thompson Village\\nSouth Richard, WI 12607       High School   \n",
       "\n",
       "  customerIndustry           customerAuthorizedSignatories customerGeneration  \\\n",
       "0               IT                     ['Travis Buchanan']              Gen X   \n",
       "1    Manufacturing    ['Patricia Haney', 'Michael Dennis']       Baby Boomers   \n",
       "2       Healthcare                       ['Kimberly Hood']              Gen X   \n",
       "3          Finance  ['Chelsea Walton', 'Jennifer Watkins']       Baby Boomers   \n",
       "4       Automotive                      ['Melissa Cooper']              Gen Z   \n",
       "\n",
       "  customerState  Recency  Frequency  MonetaryValue  R  F  M RFM_Segment  \\\n",
       "0            DE        1        192      746893.49  5  4  5   5.04.05.0   \n",
       "1            ME        1        192      782220.05  5  4  5   5.04.05.0   \n",
       "2            NH        2        192      754391.12  5  4  5   5.04.05.0   \n",
       "3            AK        1        192      712393.82  5  4  5   5.04.05.0   \n",
       "4            WI        2        192      714716.61  5  4  5   5.04.05.0   \n",
       "\n",
       "   RFM_Score General_Segment  \n",
       "0         14             MVC  \n",
       "1         14             MVC  \n",
       "2         14             MVC  \n",
       "3         14             MVC  \n",
       "4         14             MVC  "
      ]
     },
     "execution_count": 38,
     "metadata": {},
     "output_type": "execute_result"
    }
   ],
   "source": [
    "df_customer_datamart = pd.merge(df_customer, datamart, on='customerID', how='inner')\n",
    "df_customer_datamart.head()"
   ]
  },
  {
   "attachments": {},
   "cell_type": "markdown",
   "metadata": {},
   "source": [
    "## Show drill-down data or sub-segments\n",
    "\n",
    "Feel free to add more entries to list variable `sub_segment_columns=['customerEducation', 'customerIndustry', 'customerGeneration']`"
   ]
  },
  {
   "cell_type": "code",
   "execution_count": 39,
   "metadata": {},
   "outputs": [
    {
     "data": {
      "application/vnd.plotly.v1+json": {
       "config": {
        "plotlyServerURL": "https://plot.ly"
       },
       "data": [
        {
         "branchvalues": "total",
         "domain": {
          "x": [
           0,
           1
          ],
          "y": [
           0,
           1
          ]
         },
         "hovertemplate": "labels=%{label}<br>count=%{value}<br>parent=%{parent}<br>id=%{id}<extra></extra>",
         "ids": [
          "Bachelor/56/Baby Boomers",
          "High School/56/Baby Boomers",
          "Bachelor/57/Baby Boomers",
          "High School/57/Baby Boomers",
          "Master/57/Baby Boomers",
          "Bachelor/58/Baby Boomers",
          "High School/58/Baby Boomers",
          "Bachelor/59/Baby Boomers",
          "High School/59/Baby Boomers",
          "Master/59/Baby Boomers",
          "High School/60/Baby Boomers",
          "Bachelor/61/Baby Boomers",
          "High School/61/Baby Boomers",
          "High School/62/Baby Boomers",
          "High School/63/Baby Boomers",
          "PhD/63/Baby Boomers",
          "Bachelor/64/Baby Boomers",
          "High School/64/Baby Boomers",
          "Bachelor/65/Baby Boomers",
          "Master/65/Baby Boomers",
          "Bachelor/66/Baby Boomers",
          "High School/66/Baby Boomers",
          "PhD/66/Baby Boomers",
          "Bachelor/67/Baby Boomers",
          "High School/67/Baby Boomers",
          "PhD/67/Baby Boomers",
          "Bachelor/69/Baby Boomers",
          "High School/69/Baby Boomers",
          "PhD/69/Baby Boomers",
          "Bachelor/70/Baby Boomers",
          "High School/70/Baby Boomers",
          "High School/71/Baby Boomers",
          "PhD/72/Baby Boomers",
          "PhD/73/Baby Boomers",
          "Bachelor/74/Baby Boomers",
          "Master/74/Baby Boomers",
          "PhD/74/Baby Boomers",
          "Bachelor/Food and Beverage/Baby Boomers",
          "High School/Food and Beverage/Baby Boomers",
          "Master/Food and Beverage/Baby Boomers",
          "PhD/Food and Beverage/Baby Boomers",
          "Bachelor/Furniture/Baby Boomers",
          "High School/Furniture/Baby Boomers",
          "Master/Furniture/Baby Boomers",
          "PhD/Furniture/Baby Boomers",
          "Bachelor/Textiles and Garments/Baby Boomers",
          "High School/Textiles and Garments/Baby Boomers",
          "Master/Textiles and Garments/Baby Boomers",
          "PhD/Textiles and Garments/Baby Boomers",
          "High School/41/Gen X",
          "Bachelor/42/Gen X",
          "High School/42/Gen X",
          "Bachelor/43/Gen X",
          "High School/43/Gen X",
          "Bachelor/44/Gen X",
          "High School/44/Gen X",
          "Bachelor/45/Gen X",
          "Bachelor/46/Gen X",
          "High School/47/Gen X",
          "PhD/47/Gen X",
          "Bachelor/48/Gen X",
          "High School/48/Gen X",
          "Bachelor/49/Gen X",
          "High School/49/Gen X",
          "Bachelor/50/Gen X",
          "Bachelor/51/Gen X",
          "High School/51/Gen X",
          "Master/51/Gen X",
          "PhD/51/Gen X",
          "High School/52/Gen X",
          "PhD/52/Gen X",
          "Bachelor/53/Gen X",
          "High School/53/Gen X",
          "Bachelor/54/Gen X",
          "High School/54/Gen X",
          "Bachelor/55/Gen X",
          "High School/55/Gen X",
          "Bachelor/Food and Beverage/Gen X",
          "High School/Food and Beverage/Gen X",
          "PhD/Food and Beverage/Gen X",
          "Bachelor/Furniture/Gen X",
          "High School/Furniture/Gen X",
          "Master/Furniture/Gen X",
          "PhD/Furniture/Gen X",
          "Bachelor/Textiles and Garments/Gen X",
          "High School/Textiles and Garments/Gen X",
          "PhD/Textiles and Garments/Gen X",
          "Bachelor/40/Millennials",
          "High School/40/Millennials",
          "Bachelor/Food and Beverage/Millennials",
          "High School/Food and Beverage/Millennials",
          "PhD/Food and Beverage/Millennials",
          "Bachelor/Furniture/Millennials",
          "High School/Furniture/Millennials",
          "High School/Textiles and Garments/Millennials",
          "PhD/Textiles and Garments/Millennials",
          "High School/76/Silent Generation",
          "High School/77/Silent Generation",
          "Master/77/Silent Generation",
          "High School/78/Silent Generation",
          "PhD/78/Silent Generation",
          "High School/79/Silent Generation",
          "PhD/79/Silent Generation",
          "High School/80/Silent Generation",
          "High School/Food and Beverage/Silent Generation",
          "Master/Food and Beverage/Silent Generation",
          "Bachelor/Furniture/Silent Generation",
          "High School/Furniture/Silent Generation",
          "Bachelor/Textiles and Garments/Silent Generation",
          "High School/Textiles and Garments/Silent Generation",
          "Master/Textiles and Garments/Silent Generation",
          "Bachelor/40",
          "High School/40",
          "High School/41",
          "Bachelor/42",
          "High School/42",
          "Bachelor/43",
          "High School/43",
          "Bachelor/44",
          "High School/44",
          "Bachelor/45",
          "Bachelor/46",
          "High School/47",
          "PhD/47",
          "Bachelor/48",
          "High School/48",
          "Bachelor/49",
          "High School/49",
          "Bachelor/50",
          "Bachelor/51",
          "High School/51",
          "Master/51",
          "PhD/51",
          "High School/52",
          "PhD/52",
          "Bachelor/53",
          "High School/53",
          "Bachelor/54",
          "High School/54",
          "Bachelor/55",
          "High School/55",
          "Bachelor/56",
          "High School/56",
          "Bachelor/57",
          "High School/57",
          "Master/57",
          "Bachelor/58",
          "High School/58",
          "Bachelor/59",
          "High School/59",
          "Master/59",
          "High School/60",
          "Bachelor/61",
          "High School/61",
          "High School/62",
          "High School/63",
          "PhD/63",
          "Bachelor/64",
          "High School/64",
          "Bachelor/65",
          "Master/65",
          "Bachelor/66",
          "High School/66",
          "PhD/66",
          "Bachelor/67",
          "High School/67",
          "PhD/67",
          "Bachelor/69",
          "High School/69",
          "PhD/69",
          "Bachelor/70",
          "High School/70",
          "High School/71",
          "PhD/72",
          "PhD/73",
          "Bachelor/74",
          "Master/74",
          "PhD/74",
          "High School/76",
          "High School/77",
          "Master/77",
          "High School/78",
          "PhD/78",
          "High School/79",
          "PhD/79",
          "High School/80",
          "Bachelor/Food and Beverage",
          "High School/Food and Beverage",
          "Master/Food and Beverage",
          "PhD/Food and Beverage",
          "Bachelor/Furniture",
          "High School/Furniture",
          "Master/Furniture",
          "PhD/Furniture",
          "Bachelor/Textiles and Garments",
          "High School/Textiles and Garments",
          "Master/Textiles and Garments",
          "PhD/Textiles and Garments",
          "Bachelor",
          "High School",
          "Master",
          "PhD"
         ],
         "labels": [
          "Baby Boomers",
          "Baby Boomers",
          "Baby Boomers",
          "Baby Boomers",
          "Baby Boomers",
          "Baby Boomers",
          "Baby Boomers",
          "Baby Boomers",
          "Baby Boomers",
          "Baby Boomers",
          "Baby Boomers",
          "Baby Boomers",
          "Baby Boomers",
          "Baby Boomers",
          "Baby Boomers",
          "Baby Boomers",
          "Baby Boomers",
          "Baby Boomers",
          "Baby Boomers",
          "Baby Boomers",
          "Baby Boomers",
          "Baby Boomers",
          "Baby Boomers",
          "Baby Boomers",
          "Baby Boomers",
          "Baby Boomers",
          "Baby Boomers",
          "Baby Boomers",
          "Baby Boomers",
          "Baby Boomers",
          "Baby Boomers",
          "Baby Boomers",
          "Baby Boomers",
          "Baby Boomers",
          "Baby Boomers",
          "Baby Boomers",
          "Baby Boomers",
          "Baby Boomers",
          "Baby Boomers",
          "Baby Boomers",
          "Baby Boomers",
          "Baby Boomers",
          "Baby Boomers",
          "Baby Boomers",
          "Baby Boomers",
          "Baby Boomers",
          "Baby Boomers",
          "Baby Boomers",
          "Baby Boomers",
          "Gen X",
          "Gen X",
          "Gen X",
          "Gen X",
          "Gen X",
          "Gen X",
          "Gen X",
          "Gen X",
          "Gen X",
          "Gen X",
          "Gen X",
          "Gen X",
          "Gen X",
          "Gen X",
          "Gen X",
          "Gen X",
          "Gen X",
          "Gen X",
          "Gen X",
          "Gen X",
          "Gen X",
          "Gen X",
          "Gen X",
          "Gen X",
          "Gen X",
          "Gen X",
          "Gen X",
          "Gen X",
          "Gen X",
          "Gen X",
          "Gen X",
          "Gen X",
          "Gen X",
          "Gen X",
          "Gen X",
          "Gen X",
          "Gen X",
          "Gen X",
          "Millennials",
          "Millennials",
          "Millennials",
          "Millennials",
          "Millennials",
          "Millennials",
          "Millennials",
          "Millennials",
          "Millennials",
          "Silent Generation",
          "Silent Generation",
          "Silent Generation",
          "Silent Generation",
          "Silent Generation",
          "Silent Generation",
          "Silent Generation",
          "Silent Generation",
          "Silent Generation",
          "Silent Generation",
          "Silent Generation",
          "Silent Generation",
          "Silent Generation",
          "Silent Generation",
          "Silent Generation",
          "40",
          "40",
          "41",
          "42",
          "42",
          "43",
          "43",
          "44",
          "44",
          "45",
          "46",
          "47",
          "47",
          "48",
          "48",
          "49",
          "49",
          "50",
          "51",
          "51",
          "51",
          "51",
          "52",
          "52",
          "53",
          "53",
          "54",
          "54",
          "55",
          "55",
          "56",
          "56",
          "57",
          "57",
          "57",
          "58",
          "58",
          "59",
          "59",
          "59",
          "60",
          "61",
          "61",
          "62",
          "63",
          "63",
          "64",
          "64",
          "65",
          "65",
          "66",
          "66",
          "66",
          "67",
          "67",
          "67",
          "69",
          "69",
          "69",
          "70",
          "70",
          "71",
          "72",
          "73",
          "74",
          "74",
          "74",
          "76",
          "77",
          "77",
          "78",
          "78",
          "79",
          "79",
          "80",
          "Food and Beverage",
          "Food and Beverage",
          "Food and Beverage",
          "Food and Beverage",
          "Furniture",
          "Furniture",
          "Furniture",
          "Furniture",
          "Textiles and Garments",
          "Textiles and Garments",
          "Textiles and Garments",
          "Textiles and Garments",
          "Bachelor",
          "High School",
          "Master",
          "PhD"
         ],
         "name": "",
         "parents": [
          "Bachelor/56",
          "High School/56",
          "Bachelor/57",
          "High School/57",
          "Master/57",
          "Bachelor/58",
          "High School/58",
          "Bachelor/59",
          "High School/59",
          "Master/59",
          "High School/60",
          "Bachelor/61",
          "High School/61",
          "High School/62",
          "High School/63",
          "PhD/63",
          "Bachelor/64",
          "High School/64",
          "Bachelor/65",
          "Master/65",
          "Bachelor/66",
          "High School/66",
          "PhD/66",
          "Bachelor/67",
          "High School/67",
          "PhD/67",
          "Bachelor/69",
          "High School/69",
          "PhD/69",
          "Bachelor/70",
          "High School/70",
          "High School/71",
          "PhD/72",
          "PhD/73",
          "Bachelor/74",
          "Master/74",
          "PhD/74",
          "Bachelor/Food and Beverage",
          "High School/Food and Beverage",
          "Master/Food and Beverage",
          "PhD/Food and Beverage",
          "Bachelor/Furniture",
          "High School/Furniture",
          "Master/Furniture",
          "PhD/Furniture",
          "Bachelor/Textiles and Garments",
          "High School/Textiles and Garments",
          "Master/Textiles and Garments",
          "PhD/Textiles and Garments",
          "High School/41",
          "Bachelor/42",
          "High School/42",
          "Bachelor/43",
          "High School/43",
          "Bachelor/44",
          "High School/44",
          "Bachelor/45",
          "Bachelor/46",
          "High School/47",
          "PhD/47",
          "Bachelor/48",
          "High School/48",
          "Bachelor/49",
          "High School/49",
          "Bachelor/50",
          "Bachelor/51",
          "High School/51",
          "Master/51",
          "PhD/51",
          "High School/52",
          "PhD/52",
          "Bachelor/53",
          "High School/53",
          "Bachelor/54",
          "High School/54",
          "Bachelor/55",
          "High School/55",
          "Bachelor/Food and Beverage",
          "High School/Food and Beverage",
          "PhD/Food and Beverage",
          "Bachelor/Furniture",
          "High School/Furniture",
          "Master/Furniture",
          "PhD/Furniture",
          "Bachelor/Textiles and Garments",
          "High School/Textiles and Garments",
          "PhD/Textiles and Garments",
          "Bachelor/40",
          "High School/40",
          "Bachelor/Food and Beverage",
          "High School/Food and Beverage",
          "PhD/Food and Beverage",
          "Bachelor/Furniture",
          "High School/Furniture",
          "High School/Textiles and Garments",
          "PhD/Textiles and Garments",
          "High School/76",
          "High School/77",
          "Master/77",
          "High School/78",
          "PhD/78",
          "High School/79",
          "PhD/79",
          "High School/80",
          "High School/Food and Beverage",
          "Master/Food and Beverage",
          "Bachelor/Furniture",
          "High School/Furniture",
          "Bachelor/Textiles and Garments",
          "High School/Textiles and Garments",
          "Master/Textiles and Garments",
          "Bachelor",
          "High School",
          "High School",
          "Bachelor",
          "High School",
          "Bachelor",
          "High School",
          "Bachelor",
          "High School",
          "Bachelor",
          "Bachelor",
          "High School",
          "PhD",
          "Bachelor",
          "High School",
          "Bachelor",
          "High School",
          "Bachelor",
          "Bachelor",
          "High School",
          "Master",
          "PhD",
          "High School",
          "PhD",
          "Bachelor",
          "High School",
          "Bachelor",
          "High School",
          "Bachelor",
          "High School",
          "Bachelor",
          "High School",
          "Bachelor",
          "High School",
          "Master",
          "Bachelor",
          "High School",
          "Bachelor",
          "High School",
          "Master",
          "High School",
          "Bachelor",
          "High School",
          "High School",
          "High School",
          "PhD",
          "Bachelor",
          "High School",
          "Bachelor",
          "Master",
          "Bachelor",
          "High School",
          "PhD",
          "Bachelor",
          "High School",
          "PhD",
          "Bachelor",
          "High School",
          "PhD",
          "Bachelor",
          "High School",
          "High School",
          "PhD",
          "PhD",
          "Bachelor",
          "Master",
          "PhD",
          "High School",
          "High School",
          "Master",
          "High School",
          "PhD",
          "High School",
          "PhD",
          "High School",
          "Bachelor",
          "High School",
          "Master",
          "PhD",
          "Bachelor",
          "High School",
          "Master",
          "PhD",
          "Bachelor",
          "High School",
          "Master",
          "PhD",
          "",
          "",
          "",
          ""
         ],
         "root": {
          "color": "lightgrey"
         },
         "type": "treemap",
         "values": [
          2,
          2,
          1,
          1,
          1,
          2,
          2,
          3,
          4,
          1,
          2,
          1,
          2,
          3,
          1,
          1,
          4,
          1,
          2,
          1,
          1,
          4,
          1,
          2,
          4,
          1,
          1,
          2,
          1,
          1,
          3,
          2,
          1,
          1,
          1,
          1,
          1,
          23,
          31,
          1,
          1,
          19,
          43,
          2,
          2,
          22,
          43,
          4,
          4,
          3,
          1,
          1,
          2,
          1,
          2,
          1,
          3,
          1,
          1,
          1,
          1,
          2,
          3,
          1,
          3,
          3,
          2,
          1,
          1,
          2,
          1,
          1,
          2,
          2,
          7,
          3,
          2,
          23,
          14,
          2,
          14,
          27,
          1,
          2,
          26,
          26,
          1,
          2,
          1,
          2,
          2,
          1,
          1,
          2,
          2,
          1,
          1,
          1,
          1,
          2,
          1,
          2,
          2,
          1,
          6,
          2,
          3,
          4,
          1,
          7,
          1,
          2,
          1,
          3,
          1,
          1,
          2,
          1,
          2,
          1,
          3,
          1,
          1,
          1,
          1,
          2,
          3,
          1,
          3,
          3,
          2,
          1,
          1,
          2,
          1,
          1,
          2,
          2,
          7,
          3,
          2,
          2,
          2,
          1,
          1,
          1,
          2,
          2,
          3,
          4,
          1,
          2,
          1,
          2,
          3,
          1,
          1,
          4,
          1,
          2,
          1,
          1,
          4,
          1,
          2,
          4,
          1,
          1,
          2,
          1,
          1,
          3,
          2,
          1,
          1,
          1,
          1,
          1,
          1,
          1,
          1,
          2,
          1,
          2,
          2,
          1,
          48,
          53,
          3,
          4,
          37,
          76,
          3,
          4,
          49,
          78,
          5,
          6,
          182,
          273,
          17,
          27
         ]
        }
       ],
       "layout": {
        "legend": {
         "tracegroupgap": 0
        },
        "margin": {
         "b": 25,
         "l": 25,
         "r": 25,
         "t": 50
        },
        "template": {
         "data": {
          "bar": [
           {
            "error_x": {
             "color": "#2a3f5f"
            },
            "error_y": {
             "color": "#2a3f5f"
            },
            "marker": {
             "line": {
              "color": "#E5ECF6",
              "width": 0.5
             },
             "pattern": {
              "fillmode": "overlay",
              "size": 10,
              "solidity": 0.2
             }
            },
            "type": "bar"
           }
          ],
          "barpolar": [
           {
            "marker": {
             "line": {
              "color": "#E5ECF6",
              "width": 0.5
             },
             "pattern": {
              "fillmode": "overlay",
              "size": 10,
              "solidity": 0.2
             }
            },
            "type": "barpolar"
           }
          ],
          "carpet": [
           {
            "aaxis": {
             "endlinecolor": "#2a3f5f",
             "gridcolor": "white",
             "linecolor": "white",
             "minorgridcolor": "white",
             "startlinecolor": "#2a3f5f"
            },
            "baxis": {
             "endlinecolor": "#2a3f5f",
             "gridcolor": "white",
             "linecolor": "white",
             "minorgridcolor": "white",
             "startlinecolor": "#2a3f5f"
            },
            "type": "carpet"
           }
          ],
          "choropleth": [
           {
            "colorbar": {
             "outlinewidth": 0,
             "ticks": ""
            },
            "type": "choropleth"
           }
          ],
          "contour": [
           {
            "colorbar": {
             "outlinewidth": 0,
             "ticks": ""
            },
            "colorscale": [
             [
              0,
              "#0d0887"
             ],
             [
              0.1111111111111111,
              "#46039f"
             ],
             [
              0.2222222222222222,
              "#7201a8"
             ],
             [
              0.3333333333333333,
              "#9c179e"
             ],
             [
              0.4444444444444444,
              "#bd3786"
             ],
             [
              0.5555555555555556,
              "#d8576b"
             ],
             [
              0.6666666666666666,
              "#ed7953"
             ],
             [
              0.7777777777777778,
              "#fb9f3a"
             ],
             [
              0.8888888888888888,
              "#fdca26"
             ],
             [
              1,
              "#f0f921"
             ]
            ],
            "type": "contour"
           }
          ],
          "contourcarpet": [
           {
            "colorbar": {
             "outlinewidth": 0,
             "ticks": ""
            },
            "type": "contourcarpet"
           }
          ],
          "heatmap": [
           {
            "colorbar": {
             "outlinewidth": 0,
             "ticks": ""
            },
            "colorscale": [
             [
              0,
              "#0d0887"
             ],
             [
              0.1111111111111111,
              "#46039f"
             ],
             [
              0.2222222222222222,
              "#7201a8"
             ],
             [
              0.3333333333333333,
              "#9c179e"
             ],
             [
              0.4444444444444444,
              "#bd3786"
             ],
             [
              0.5555555555555556,
              "#d8576b"
             ],
             [
              0.6666666666666666,
              "#ed7953"
             ],
             [
              0.7777777777777778,
              "#fb9f3a"
             ],
             [
              0.8888888888888888,
              "#fdca26"
             ],
             [
              1,
              "#f0f921"
             ]
            ],
            "type": "heatmap"
           }
          ],
          "heatmapgl": [
           {
            "colorbar": {
             "outlinewidth": 0,
             "ticks": ""
            },
            "colorscale": [
             [
              0,
              "#0d0887"
             ],
             [
              0.1111111111111111,
              "#46039f"
             ],
             [
              0.2222222222222222,
              "#7201a8"
             ],
             [
              0.3333333333333333,
              "#9c179e"
             ],
             [
              0.4444444444444444,
              "#bd3786"
             ],
             [
              0.5555555555555556,
              "#d8576b"
             ],
             [
              0.6666666666666666,
              "#ed7953"
             ],
             [
              0.7777777777777778,
              "#fb9f3a"
             ],
             [
              0.8888888888888888,
              "#fdca26"
             ],
             [
              1,
              "#f0f921"
             ]
            ],
            "type": "heatmapgl"
           }
          ],
          "histogram": [
           {
            "marker": {
             "pattern": {
              "fillmode": "overlay",
              "size": 10,
              "solidity": 0.2
             }
            },
            "type": "histogram"
           }
          ],
          "histogram2d": [
           {
            "colorbar": {
             "outlinewidth": 0,
             "ticks": ""
            },
            "colorscale": [
             [
              0,
              "#0d0887"
             ],
             [
              0.1111111111111111,
              "#46039f"
             ],
             [
              0.2222222222222222,
              "#7201a8"
             ],
             [
              0.3333333333333333,
              "#9c179e"
             ],
             [
              0.4444444444444444,
              "#bd3786"
             ],
             [
              0.5555555555555556,
              "#d8576b"
             ],
             [
              0.6666666666666666,
              "#ed7953"
             ],
             [
              0.7777777777777778,
              "#fb9f3a"
             ],
             [
              0.8888888888888888,
              "#fdca26"
             ],
             [
              1,
              "#f0f921"
             ]
            ],
            "type": "histogram2d"
           }
          ],
          "histogram2dcontour": [
           {
            "colorbar": {
             "outlinewidth": 0,
             "ticks": ""
            },
            "colorscale": [
             [
              0,
              "#0d0887"
             ],
             [
              0.1111111111111111,
              "#46039f"
             ],
             [
              0.2222222222222222,
              "#7201a8"
             ],
             [
              0.3333333333333333,
              "#9c179e"
             ],
             [
              0.4444444444444444,
              "#bd3786"
             ],
             [
              0.5555555555555556,
              "#d8576b"
             ],
             [
              0.6666666666666666,
              "#ed7953"
             ],
             [
              0.7777777777777778,
              "#fb9f3a"
             ],
             [
              0.8888888888888888,
              "#fdca26"
             ],
             [
              1,
              "#f0f921"
             ]
            ],
            "type": "histogram2dcontour"
           }
          ],
          "mesh3d": [
           {
            "colorbar": {
             "outlinewidth": 0,
             "ticks": ""
            },
            "type": "mesh3d"
           }
          ],
          "parcoords": [
           {
            "line": {
             "colorbar": {
              "outlinewidth": 0,
              "ticks": ""
             }
            },
            "type": "parcoords"
           }
          ],
          "pie": [
           {
            "automargin": true,
            "type": "pie"
           }
          ],
          "scatter": [
           {
            "fillpattern": {
             "fillmode": "overlay",
             "size": 10,
             "solidity": 0.2
            },
            "type": "scatter"
           }
          ],
          "scatter3d": [
           {
            "line": {
             "colorbar": {
              "outlinewidth": 0,
              "ticks": ""
             }
            },
            "marker": {
             "colorbar": {
              "outlinewidth": 0,
              "ticks": ""
             }
            },
            "type": "scatter3d"
           }
          ],
          "scattercarpet": [
           {
            "marker": {
             "colorbar": {
              "outlinewidth": 0,
              "ticks": ""
             }
            },
            "type": "scattercarpet"
           }
          ],
          "scattergeo": [
           {
            "marker": {
             "colorbar": {
              "outlinewidth": 0,
              "ticks": ""
             }
            },
            "type": "scattergeo"
           }
          ],
          "scattergl": [
           {
            "marker": {
             "colorbar": {
              "outlinewidth": 0,
              "ticks": ""
             }
            },
            "type": "scattergl"
           }
          ],
          "scattermapbox": [
           {
            "marker": {
             "colorbar": {
              "outlinewidth": 0,
              "ticks": ""
             }
            },
            "type": "scattermapbox"
           }
          ],
          "scatterpolar": [
           {
            "marker": {
             "colorbar": {
              "outlinewidth": 0,
              "ticks": ""
             }
            },
            "type": "scatterpolar"
           }
          ],
          "scatterpolargl": [
           {
            "marker": {
             "colorbar": {
              "outlinewidth": 0,
              "ticks": ""
             }
            },
            "type": "scatterpolargl"
           }
          ],
          "scatterternary": [
           {
            "marker": {
             "colorbar": {
              "outlinewidth": 0,
              "ticks": ""
             }
            },
            "type": "scatterternary"
           }
          ],
          "surface": [
           {
            "colorbar": {
             "outlinewidth": 0,
             "ticks": ""
            },
            "colorscale": [
             [
              0,
              "#0d0887"
             ],
             [
              0.1111111111111111,
              "#46039f"
             ],
             [
              0.2222222222222222,
              "#7201a8"
             ],
             [
              0.3333333333333333,
              "#9c179e"
             ],
             [
              0.4444444444444444,
              "#bd3786"
             ],
             [
              0.5555555555555556,
              "#d8576b"
             ],
             [
              0.6666666666666666,
              "#ed7953"
             ],
             [
              0.7777777777777778,
              "#fb9f3a"
             ],
             [
              0.8888888888888888,
              "#fdca26"
             ],
             [
              1,
              "#f0f921"
             ]
            ],
            "type": "surface"
           }
          ],
          "table": [
           {
            "cells": {
             "fill": {
              "color": "#EBF0F8"
             },
             "line": {
              "color": "white"
             }
            },
            "header": {
             "fill": {
              "color": "#C8D4E3"
             },
             "line": {
              "color": "white"
             }
            },
            "type": "table"
           }
          ]
         },
         "layout": {
          "annotationdefaults": {
           "arrowcolor": "#2a3f5f",
           "arrowhead": 0,
           "arrowwidth": 1
          },
          "autotypenumbers": "strict",
          "coloraxis": {
           "colorbar": {
            "outlinewidth": 0,
            "ticks": ""
           }
          },
          "colorscale": {
           "diverging": [
            [
             0,
             "#8e0152"
            ],
            [
             0.1,
             "#c51b7d"
            ],
            [
             0.2,
             "#de77ae"
            ],
            [
             0.3,
             "#f1b6da"
            ],
            [
             0.4,
             "#fde0ef"
            ],
            [
             0.5,
             "#f7f7f7"
            ],
            [
             0.6,
             "#e6f5d0"
            ],
            [
             0.7,
             "#b8e186"
            ],
            [
             0.8,
             "#7fbc41"
            ],
            [
             0.9,
             "#4d9221"
            ],
            [
             1,
             "#276419"
            ]
           ],
           "sequential": [
            [
             0,
             "#0d0887"
            ],
            [
             0.1111111111111111,
             "#46039f"
            ],
            [
             0.2222222222222222,
             "#7201a8"
            ],
            [
             0.3333333333333333,
             "#9c179e"
            ],
            [
             0.4444444444444444,
             "#bd3786"
            ],
            [
             0.5555555555555556,
             "#d8576b"
            ],
            [
             0.6666666666666666,
             "#ed7953"
            ],
            [
             0.7777777777777778,
             "#fb9f3a"
            ],
            [
             0.8888888888888888,
             "#fdca26"
            ],
            [
             1,
             "#f0f921"
            ]
           ],
           "sequentialminus": [
            [
             0,
             "#0d0887"
            ],
            [
             0.1111111111111111,
             "#46039f"
            ],
            [
             0.2222222222222222,
             "#7201a8"
            ],
            [
             0.3333333333333333,
             "#9c179e"
            ],
            [
             0.4444444444444444,
             "#bd3786"
            ],
            [
             0.5555555555555556,
             "#d8576b"
            ],
            [
             0.6666666666666666,
             "#ed7953"
            ],
            [
             0.7777777777777778,
             "#fb9f3a"
            ],
            [
             0.8888888888888888,
             "#fdca26"
            ],
            [
             1,
             "#f0f921"
            ]
           ]
          },
          "colorway": [
           "#636efa",
           "#EF553B",
           "#00cc96",
           "#ab63fa",
           "#FFA15A",
           "#19d3f3",
           "#FF6692",
           "#B6E880",
           "#FF97FF",
           "#FECB52"
          ],
          "font": {
           "color": "#2a3f5f"
          },
          "geo": {
           "bgcolor": "white",
           "lakecolor": "white",
           "landcolor": "#E5ECF6",
           "showlakes": true,
           "showland": true,
           "subunitcolor": "white"
          },
          "hoverlabel": {
           "align": "left"
          },
          "hovermode": "closest",
          "mapbox": {
           "style": "light"
          },
          "paper_bgcolor": "white",
          "plot_bgcolor": "#E5ECF6",
          "polar": {
           "angularaxis": {
            "gridcolor": "white",
            "linecolor": "white",
            "ticks": ""
           },
           "bgcolor": "#E5ECF6",
           "radialaxis": {
            "gridcolor": "white",
            "linecolor": "white",
            "ticks": ""
           }
          },
          "scene": {
           "xaxis": {
            "backgroundcolor": "#E5ECF6",
            "gridcolor": "white",
            "gridwidth": 2,
            "linecolor": "white",
            "showbackground": true,
            "ticks": "",
            "zerolinecolor": "white"
           },
           "yaxis": {
            "backgroundcolor": "#E5ECF6",
            "gridcolor": "white",
            "gridwidth": 2,
            "linecolor": "white",
            "showbackground": true,
            "ticks": "",
            "zerolinecolor": "white"
           },
           "zaxis": {
            "backgroundcolor": "#E5ECF6",
            "gridcolor": "white",
            "gridwidth": 2,
            "linecolor": "white",
            "showbackground": true,
            "ticks": "",
            "zerolinecolor": "white"
           }
          },
          "shapedefaults": {
           "line": {
            "color": "#2a3f5f"
           }
          },
          "ternary": {
           "aaxis": {
            "gridcolor": "white",
            "linecolor": "white",
            "ticks": ""
           },
           "baxis": {
            "gridcolor": "white",
            "linecolor": "white",
            "ticks": ""
           },
           "bgcolor": "#E5ECF6",
           "caxis": {
            "gridcolor": "white",
            "linecolor": "white",
            "ticks": ""
           }
          },
          "title": {
           "x": 0.05
          },
          "xaxis": {
           "automargin": true,
           "gridcolor": "white",
           "linecolor": "white",
           "ticks": "",
           "title": {
            "standoff": 15
           },
           "zerolinecolor": "white",
           "zerolinewidth": 2
          },
          "yaxis": {
           "automargin": true,
           "gridcolor": "white",
           "linecolor": "white",
           "ticks": "",
           "title": {
            "standoff": 15
           },
           "zerolinecolor": "white",
           "zerolinewidth": 2
          }
         }
        },
        "title": {
         "text": "Churned Folk"
        }
       }
      }
     },
     "metadata": {},
     "output_type": "display_data"
    },
    {
     "data": {
      "application/vnd.plotly.v1+json": {
       "config": {
        "plotlyServerURL": "https://plot.ly"
       },
       "data": [
        {
         "branchvalues": "total",
         "domain": {
          "x": [
           0,
           1
          ],
          "y": [
           0,
           1
          ]
         },
         "hovertemplate": "labels=%{label}<br>count=%{value}<br>parent=%{parent}<br>id=%{id}<extra></extra>",
         "ids": [
          "Bachelor/Automotive/Baby Boomers",
          "High School/Automotive/Baby Boomers",
          "Master/Automotive/Baby Boomers",
          "PhD/Automotive/Baby Boomers",
          "Bachelor/Education/Baby Boomers",
          "High School/Education/Baby Boomers",
          "Master/Education/Baby Boomers",
          "PhD/Education/Baby Boomers",
          "Bachelor/Finance/Baby Boomers",
          "High School/Finance/Baby Boomers",
          "PhD/Finance/Baby Boomers",
          "Bachelor/Food and Beverage/Baby Boomers",
          "High School/Food and Beverage/Baby Boomers",
          "Master/Food and Beverage/Baby Boomers",
          "PhD/Food and Beverage/Baby Boomers",
          "Bachelor/Furniture/Baby Boomers",
          "High School/Furniture/Baby Boomers",
          "Master/Furniture/Baby Boomers",
          "Bachelor/Healthcare/Baby Boomers",
          "High School/Healthcare/Baby Boomers",
          "Master/Healthcare/Baby Boomers",
          "PhD/Healthcare/Baby Boomers",
          "Bachelor/Hospitality/Baby Boomers",
          "High School/Hospitality/Baby Boomers",
          "Master/Hospitality/Baby Boomers",
          "PhD/Hospitality/Baby Boomers",
          "Bachelor/IT/Baby Boomers",
          "High School/IT/Baby Boomers",
          "Master/IT/Baby Boomers",
          "PhD/IT/Baby Boomers",
          "Bachelor/Manufacturing/Baby Boomers",
          "High School/Manufacturing/Baby Boomers",
          "Master/Manufacturing/Baby Boomers",
          "Bachelor/Retail/Baby Boomers",
          "High School/Retail/Baby Boomers",
          "Master/Retail/Baby Boomers",
          "PhD/Retail/Baby Boomers",
          "Bachelor/Textiles and Garments/Baby Boomers",
          "High School/Textiles and Garments/Baby Boomers",
          "PhD/Textiles and Garments/Baby Boomers",
          "Bachelor/Tourism/Baby Boomers",
          "High School/Tourism/Baby Boomers",
          "Master/Tourism/Baby Boomers",
          "PhD/Tourism/Baby Boomers",
          "High School/Automotive/Gen X",
          "Master/Automotive/Gen X",
          "Bachelor/Education/Gen X",
          "High School/Education/Gen X",
          "Master/Education/Gen X",
          "PhD/Education/Gen X",
          "Bachelor/Finance/Gen X",
          "High School/Finance/Gen X",
          "Master/Finance/Gen X",
          "PhD/Finance/Gen X",
          "Bachelor/Food and Beverage/Gen X",
          "High School/Food and Beverage/Gen X",
          "Master/Food and Beverage/Gen X",
          "PhD/Food and Beverage/Gen X",
          "High School/Furniture/Gen X",
          "Master/Furniture/Gen X",
          "PhD/Furniture/Gen X",
          "Bachelor/Healthcare/Gen X",
          "High School/Healthcare/Gen X",
          "Master/Healthcare/Gen X",
          "PhD/Healthcare/Gen X",
          "Bachelor/Hospitality/Gen X",
          "High School/Hospitality/Gen X",
          "Master/Hospitality/Gen X",
          "PhD/Hospitality/Gen X",
          "Bachelor/IT/Gen X",
          "High School/IT/Gen X",
          "PhD/IT/Gen X",
          "Bachelor/Manufacturing/Gen X",
          "High School/Manufacturing/Gen X",
          "Master/Manufacturing/Gen X",
          "PhD/Manufacturing/Gen X",
          "Bachelor/Retail/Gen X",
          "High School/Retail/Gen X",
          "Master/Retail/Gen X",
          "PhD/Retail/Gen X",
          "Bachelor/Textiles and Garments/Gen X",
          "High School/Textiles and Garments/Gen X",
          "Master/Textiles and Garments/Gen X",
          "PhD/Textiles and Garments/Gen X",
          "Master/Tourism/Gen X",
          "PhD/Automotive/Gen Z",
          "PhD/Education/Gen Z",
          "PhD/Food and Beverage/Gen Z",
          "High School/Furniture/Gen Z",
          "PhD/Furniture/Gen Z",
          "Master/Healthcare/Gen Z",
          "PhD/Healthcare/Gen Z",
          "PhD/Hospitality/Gen Z",
          "High School/IT/Gen Z",
          "High School/Manufacturing/Gen Z",
          "Master/Manufacturing/Gen Z",
          "High School/Retail/Gen Z",
          "Bachelor/Textiles and Garments/Gen Z",
          "PhD/Textiles and Garments/Gen Z",
          "Bachelor/Tourism/Gen Z",
          "Master/Tourism/Gen Z",
          "PhD/Tourism/Gen Z",
          "Bachelor/Automotive/Millennials",
          "High School/Automotive/Millennials",
          "Master/Automotive/Millennials",
          "PhD/Automotive/Millennials",
          "Bachelor/Education/Millennials",
          "High School/Education/Millennials",
          "Master/Education/Millennials",
          "PhD/Education/Millennials",
          "Bachelor/Finance/Millennials",
          "High School/Finance/Millennials",
          "Master/Finance/Millennials",
          "High School/Food and Beverage/Millennials",
          "PhD/Food and Beverage/Millennials",
          "Bachelor/Furniture/Millennials",
          "High School/Furniture/Millennials",
          "Bachelor/Healthcare/Millennials",
          "High School/Healthcare/Millennials",
          "Master/Healthcare/Millennials",
          "PhD/Healthcare/Millennials",
          "Bachelor/Hospitality/Millennials",
          "High School/Hospitality/Millennials",
          "PhD/Hospitality/Millennials",
          "Bachelor/IT/Millennials",
          "High School/IT/Millennials",
          "PhD/IT/Millennials",
          "Bachelor/Manufacturing/Millennials",
          "High School/Manufacturing/Millennials",
          "Master/Manufacturing/Millennials",
          "PhD/Manufacturing/Millennials",
          "Bachelor/Retail/Millennials",
          "High School/Retail/Millennials",
          "Master/Retail/Millennials",
          "PhD/Retail/Millennials",
          "High School/Textiles and Garments/Millennials",
          "Master/Textiles and Garments/Millennials",
          "PhD/Textiles and Garments/Millennials",
          "Bachelor/Tourism/Millennials",
          "High School/Tourism/Millennials",
          "Master/Tourism/Millennials",
          "PhD/Tourism/Millennials",
          "High School/Automotive/Silent Generation",
          "High School/Education/Silent Generation",
          "Master/Education/Silent Generation",
          "PhD/Education/Silent Generation",
          "High School/Finance/Silent Generation",
          "Master/Finance/Silent Generation",
          "High School/Food and Beverage/Silent Generation",
          "Bachelor/Furniture/Silent Generation",
          "Master/Healthcare/Silent Generation",
          "Bachelor/Hospitality/Silent Generation",
          "PhD/Hospitality/Silent Generation",
          "Bachelor/IT/Silent Generation",
          "High School/IT/Silent Generation",
          "PhD/IT/Silent Generation",
          "Bachelor/Manufacturing/Silent Generation",
          "High School/Manufacturing/Silent Generation",
          "Master/Manufacturing/Silent Generation",
          "PhD/Textiles and Garments/Silent Generation",
          "Bachelor/Tourism/Silent Generation",
          "Master/Tourism/Silent Generation",
          "Bachelor/Automotive",
          "High School/Automotive",
          "Master/Automotive",
          "PhD/Automotive",
          "Bachelor/Education",
          "High School/Education",
          "Master/Education",
          "PhD/Education",
          "Bachelor/Finance",
          "High School/Finance",
          "Master/Finance",
          "PhD/Finance",
          "Bachelor/Food and Beverage",
          "High School/Food and Beverage",
          "Master/Food and Beverage",
          "PhD/Food and Beverage",
          "Bachelor/Furniture",
          "High School/Furniture",
          "Master/Furniture",
          "PhD/Furniture",
          "Bachelor/Healthcare",
          "High School/Healthcare",
          "Master/Healthcare",
          "PhD/Healthcare",
          "Bachelor/Hospitality",
          "High School/Hospitality",
          "Master/Hospitality",
          "PhD/Hospitality",
          "Bachelor/IT",
          "High School/IT",
          "Master/IT",
          "PhD/IT",
          "Bachelor/Manufacturing",
          "High School/Manufacturing",
          "Master/Manufacturing",
          "PhD/Manufacturing",
          "Bachelor/Retail",
          "High School/Retail",
          "Master/Retail",
          "PhD/Retail",
          "Bachelor/Textiles and Garments",
          "High School/Textiles and Garments",
          "Master/Textiles and Garments",
          "PhD/Textiles and Garments",
          "Bachelor/Tourism",
          "High School/Tourism",
          "Master/Tourism",
          "PhD/Tourism",
          "Bachelor",
          "High School",
          "Master",
          "PhD"
         ],
         "labels": [
          "Baby Boomers",
          "Baby Boomers",
          "Baby Boomers",
          "Baby Boomers",
          "Baby Boomers",
          "Baby Boomers",
          "Baby Boomers",
          "Baby Boomers",
          "Baby Boomers",
          "Baby Boomers",
          "Baby Boomers",
          "Baby Boomers",
          "Baby Boomers",
          "Baby Boomers",
          "Baby Boomers",
          "Baby Boomers",
          "Baby Boomers",
          "Baby Boomers",
          "Baby Boomers",
          "Baby Boomers",
          "Baby Boomers",
          "Baby Boomers",
          "Baby Boomers",
          "Baby Boomers",
          "Baby Boomers",
          "Baby Boomers",
          "Baby Boomers",
          "Baby Boomers",
          "Baby Boomers",
          "Baby Boomers",
          "Baby Boomers",
          "Baby Boomers",
          "Baby Boomers",
          "Baby Boomers",
          "Baby Boomers",
          "Baby Boomers",
          "Baby Boomers",
          "Baby Boomers",
          "Baby Boomers",
          "Baby Boomers",
          "Baby Boomers",
          "Baby Boomers",
          "Baby Boomers",
          "Baby Boomers",
          "Gen X",
          "Gen X",
          "Gen X",
          "Gen X",
          "Gen X",
          "Gen X",
          "Gen X",
          "Gen X",
          "Gen X",
          "Gen X",
          "Gen X",
          "Gen X",
          "Gen X",
          "Gen X",
          "Gen X",
          "Gen X",
          "Gen X",
          "Gen X",
          "Gen X",
          "Gen X",
          "Gen X",
          "Gen X",
          "Gen X",
          "Gen X",
          "Gen X",
          "Gen X",
          "Gen X",
          "Gen X",
          "Gen X",
          "Gen X",
          "Gen X",
          "Gen X",
          "Gen X",
          "Gen X",
          "Gen X",
          "Gen X",
          "Gen X",
          "Gen X",
          "Gen X",
          "Gen X",
          "Gen X",
          "Gen Z",
          "Gen Z",
          "Gen Z",
          "Gen Z",
          "Gen Z",
          "Gen Z",
          "Gen Z",
          "Gen Z",
          "Gen Z",
          "Gen Z",
          "Gen Z",
          "Gen Z",
          "Gen Z",
          "Gen Z",
          "Gen Z",
          "Gen Z",
          "Gen Z",
          "Millennials",
          "Millennials",
          "Millennials",
          "Millennials",
          "Millennials",
          "Millennials",
          "Millennials",
          "Millennials",
          "Millennials",
          "Millennials",
          "Millennials",
          "Millennials",
          "Millennials",
          "Millennials",
          "Millennials",
          "Millennials",
          "Millennials",
          "Millennials",
          "Millennials",
          "Millennials",
          "Millennials",
          "Millennials",
          "Millennials",
          "Millennials",
          "Millennials",
          "Millennials",
          "Millennials",
          "Millennials",
          "Millennials",
          "Millennials",
          "Millennials",
          "Millennials",
          "Millennials",
          "Millennials",
          "Millennials",
          "Millennials",
          "Millennials",
          "Millennials",
          "Millennials",
          "Millennials",
          "Silent Generation",
          "Silent Generation",
          "Silent Generation",
          "Silent Generation",
          "Silent Generation",
          "Silent Generation",
          "Silent Generation",
          "Silent Generation",
          "Silent Generation",
          "Silent Generation",
          "Silent Generation",
          "Silent Generation",
          "Silent Generation",
          "Silent Generation",
          "Silent Generation",
          "Silent Generation",
          "Silent Generation",
          "Silent Generation",
          "Silent Generation",
          "Silent Generation",
          "Automotive",
          "Automotive",
          "Automotive",
          "Automotive",
          "Education",
          "Education",
          "Education",
          "Education",
          "Finance",
          "Finance",
          "Finance",
          "Finance",
          "Food and Beverage",
          "Food and Beverage",
          "Food and Beverage",
          "Food and Beverage",
          "Furniture",
          "Furniture",
          "Furniture",
          "Furniture",
          "Healthcare",
          "Healthcare",
          "Healthcare",
          "Healthcare",
          "Hospitality",
          "Hospitality",
          "Hospitality",
          "Hospitality",
          "IT",
          "IT",
          "IT",
          "IT",
          "Manufacturing",
          "Manufacturing",
          "Manufacturing",
          "Manufacturing",
          "Retail",
          "Retail",
          "Retail",
          "Retail",
          "Textiles and Garments",
          "Textiles and Garments",
          "Textiles and Garments",
          "Textiles and Garments",
          "Tourism",
          "Tourism",
          "Tourism",
          "Tourism",
          "Bachelor",
          "High School",
          "Master",
          "PhD"
         ],
         "name": "",
         "parents": [
          "Bachelor/Automotive",
          "High School/Automotive",
          "Master/Automotive",
          "PhD/Automotive",
          "Bachelor/Education",
          "High School/Education",
          "Master/Education",
          "PhD/Education",
          "Bachelor/Finance",
          "High School/Finance",
          "PhD/Finance",
          "Bachelor/Food and Beverage",
          "High School/Food and Beverage",
          "Master/Food and Beverage",
          "PhD/Food and Beverage",
          "Bachelor/Furniture",
          "High School/Furniture",
          "Master/Furniture",
          "Bachelor/Healthcare",
          "High School/Healthcare",
          "Master/Healthcare",
          "PhD/Healthcare",
          "Bachelor/Hospitality",
          "High School/Hospitality",
          "Master/Hospitality",
          "PhD/Hospitality",
          "Bachelor/IT",
          "High School/IT",
          "Master/IT",
          "PhD/IT",
          "Bachelor/Manufacturing",
          "High School/Manufacturing",
          "Master/Manufacturing",
          "Bachelor/Retail",
          "High School/Retail",
          "Master/Retail",
          "PhD/Retail",
          "Bachelor/Textiles and Garments",
          "High School/Textiles and Garments",
          "PhD/Textiles and Garments",
          "Bachelor/Tourism",
          "High School/Tourism",
          "Master/Tourism",
          "PhD/Tourism",
          "High School/Automotive",
          "Master/Automotive",
          "Bachelor/Education",
          "High School/Education",
          "Master/Education",
          "PhD/Education",
          "Bachelor/Finance",
          "High School/Finance",
          "Master/Finance",
          "PhD/Finance",
          "Bachelor/Food and Beverage",
          "High School/Food and Beverage",
          "Master/Food and Beverage",
          "PhD/Food and Beverage",
          "High School/Furniture",
          "Master/Furniture",
          "PhD/Furniture",
          "Bachelor/Healthcare",
          "High School/Healthcare",
          "Master/Healthcare",
          "PhD/Healthcare",
          "Bachelor/Hospitality",
          "High School/Hospitality",
          "Master/Hospitality",
          "PhD/Hospitality",
          "Bachelor/IT",
          "High School/IT",
          "PhD/IT",
          "Bachelor/Manufacturing",
          "High School/Manufacturing",
          "Master/Manufacturing",
          "PhD/Manufacturing",
          "Bachelor/Retail",
          "High School/Retail",
          "Master/Retail",
          "PhD/Retail",
          "Bachelor/Textiles and Garments",
          "High School/Textiles and Garments",
          "Master/Textiles and Garments",
          "PhD/Textiles and Garments",
          "Master/Tourism",
          "PhD/Automotive",
          "PhD/Education",
          "PhD/Food and Beverage",
          "High School/Furniture",
          "PhD/Furniture",
          "Master/Healthcare",
          "PhD/Healthcare",
          "PhD/Hospitality",
          "High School/IT",
          "High School/Manufacturing",
          "Master/Manufacturing",
          "High School/Retail",
          "Bachelor/Textiles and Garments",
          "PhD/Textiles and Garments",
          "Bachelor/Tourism",
          "Master/Tourism",
          "PhD/Tourism",
          "Bachelor/Automotive",
          "High School/Automotive",
          "Master/Automotive",
          "PhD/Automotive",
          "Bachelor/Education",
          "High School/Education",
          "Master/Education",
          "PhD/Education",
          "Bachelor/Finance",
          "High School/Finance",
          "Master/Finance",
          "High School/Food and Beverage",
          "PhD/Food and Beverage",
          "Bachelor/Furniture",
          "High School/Furniture",
          "Bachelor/Healthcare",
          "High School/Healthcare",
          "Master/Healthcare",
          "PhD/Healthcare",
          "Bachelor/Hospitality",
          "High School/Hospitality",
          "PhD/Hospitality",
          "Bachelor/IT",
          "High School/IT",
          "PhD/IT",
          "Bachelor/Manufacturing",
          "High School/Manufacturing",
          "Master/Manufacturing",
          "PhD/Manufacturing",
          "Bachelor/Retail",
          "High School/Retail",
          "Master/Retail",
          "PhD/Retail",
          "High School/Textiles and Garments",
          "Master/Textiles and Garments",
          "PhD/Textiles and Garments",
          "Bachelor/Tourism",
          "High School/Tourism",
          "Master/Tourism",
          "PhD/Tourism",
          "High School/Automotive",
          "High School/Education",
          "Master/Education",
          "PhD/Education",
          "High School/Finance",
          "Master/Finance",
          "High School/Food and Beverage",
          "Bachelor/Furniture",
          "Master/Healthcare",
          "Bachelor/Hospitality",
          "PhD/Hospitality",
          "Bachelor/IT",
          "High School/IT",
          "PhD/IT",
          "Bachelor/Manufacturing",
          "High School/Manufacturing",
          "Master/Manufacturing",
          "PhD/Textiles and Garments",
          "Bachelor/Tourism",
          "Master/Tourism",
          "Bachelor",
          "High School",
          "Master",
          "PhD",
          "Bachelor",
          "High School",
          "Master",
          "PhD",
          "Bachelor",
          "High School",
          "Master",
          "PhD",
          "Bachelor",
          "High School",
          "Master",
          "PhD",
          "Bachelor",
          "High School",
          "Master",
          "PhD",
          "Bachelor",
          "High School",
          "Master",
          "PhD",
          "Bachelor",
          "High School",
          "Master",
          "PhD",
          "Bachelor",
          "High School",
          "Master",
          "PhD",
          "Bachelor",
          "High School",
          "Master",
          "PhD",
          "Bachelor",
          "High School",
          "Master",
          "PhD",
          "Bachelor",
          "High School",
          "Master",
          "PhD",
          "Bachelor",
          "High School",
          "Master",
          "PhD",
          "",
          "",
          "",
          ""
         ],
         "root": {
          "color": "lightgrey"
         },
         "type": "treemap",
         "values": [
          5,
          1,
          1,
          1,
          3,
          2,
          1,
          1,
          3,
          3,
          2,
          5,
          3,
          4,
          5,
          3,
          2,
          4,
          2,
          6,
          5,
          4,
          3,
          4,
          5,
          5,
          4,
          2,
          1,
          1,
          4,
          1,
          2,
          4,
          1,
          3,
          2,
          3,
          3,
          4,
          2,
          2,
          1,
          1,
          4,
          3,
          3,
          1,
          6,
          3,
          3,
          1,
          2,
          3,
          3,
          1,
          3,
          2,
          1,
          2,
          1,
          2,
          4,
          1,
          2,
          1,
          2,
          4,
          3,
          2,
          1,
          1,
          2,
          3,
          3,
          5,
          6,
          1,
          1,
          2,
          2,
          4,
          1,
          2,
          1,
          1,
          2,
          1,
          1,
          1,
          3,
          1,
          2,
          1,
          2,
          2,
          1,
          2,
          1,
          3,
          1,
          1,
          2,
          2,
          3,
          1,
          2,
          4,
          1,
          2,
          3,
          1,
          6,
          2,
          1,
          4,
          5,
          3,
          2,
          5,
          2,
          5,
          2,
          2,
          1,
          2,
          3,
          2,
          5,
          1,
          2,
          4,
          2,
          1,
          1,
          3,
          1,
          1,
          1,
          2,
          2,
          1,
          1,
          2,
          1,
          1,
          2,
          2,
          1,
          2,
          2,
          2,
          2,
          1,
          1,
          1,
          1,
          4,
          1,
          1,
          4,
          1,
          7,
          8,
          7,
          3,
          8,
          9,
          9,
          9,
          9,
          7,
          10,
          5,
          8,
          7,
          7,
          9,
          9,
          9,
          6,
          2,
          7,
          12,
          16,
          9,
          11,
          8,
          9,
          14,
          8,
          7,
          1,
          6,
          9,
          15,
          9,
          7,
          14,
          5,
          5,
          5,
          7,
          10,
          2,
          9,
          10,
          4,
          6,
          3,
          107,
          101,
          87,
          81
         ]
        }
       ],
       "layout": {
        "legend": {
         "tracegroupgap": 0
        },
        "margin": {
         "b": 25,
         "l": 25,
         "r": 25,
         "t": 50
        },
        "template": {
         "data": {
          "bar": [
           {
            "error_x": {
             "color": "#2a3f5f"
            },
            "error_y": {
             "color": "#2a3f5f"
            },
            "marker": {
             "line": {
              "color": "#E5ECF6",
              "width": 0.5
             },
             "pattern": {
              "fillmode": "overlay",
              "size": 10,
              "solidity": 0.2
             }
            },
            "type": "bar"
           }
          ],
          "barpolar": [
           {
            "marker": {
             "line": {
              "color": "#E5ECF6",
              "width": 0.5
             },
             "pattern": {
              "fillmode": "overlay",
              "size": 10,
              "solidity": 0.2
             }
            },
            "type": "barpolar"
           }
          ],
          "carpet": [
           {
            "aaxis": {
             "endlinecolor": "#2a3f5f",
             "gridcolor": "white",
             "linecolor": "white",
             "minorgridcolor": "white",
             "startlinecolor": "#2a3f5f"
            },
            "baxis": {
             "endlinecolor": "#2a3f5f",
             "gridcolor": "white",
             "linecolor": "white",
             "minorgridcolor": "white",
             "startlinecolor": "#2a3f5f"
            },
            "type": "carpet"
           }
          ],
          "choropleth": [
           {
            "colorbar": {
             "outlinewidth": 0,
             "ticks": ""
            },
            "type": "choropleth"
           }
          ],
          "contour": [
           {
            "colorbar": {
             "outlinewidth": 0,
             "ticks": ""
            },
            "colorscale": [
             [
              0,
              "#0d0887"
             ],
             [
              0.1111111111111111,
              "#46039f"
             ],
             [
              0.2222222222222222,
              "#7201a8"
             ],
             [
              0.3333333333333333,
              "#9c179e"
             ],
             [
              0.4444444444444444,
              "#bd3786"
             ],
             [
              0.5555555555555556,
              "#d8576b"
             ],
             [
              0.6666666666666666,
              "#ed7953"
             ],
             [
              0.7777777777777778,
              "#fb9f3a"
             ],
             [
              0.8888888888888888,
              "#fdca26"
             ],
             [
              1,
              "#f0f921"
             ]
            ],
            "type": "contour"
           }
          ],
          "contourcarpet": [
           {
            "colorbar": {
             "outlinewidth": 0,
             "ticks": ""
            },
            "type": "contourcarpet"
           }
          ],
          "heatmap": [
           {
            "colorbar": {
             "outlinewidth": 0,
             "ticks": ""
            },
            "colorscale": [
             [
              0,
              "#0d0887"
             ],
             [
              0.1111111111111111,
              "#46039f"
             ],
             [
              0.2222222222222222,
              "#7201a8"
             ],
             [
              0.3333333333333333,
              "#9c179e"
             ],
             [
              0.4444444444444444,
              "#bd3786"
             ],
             [
              0.5555555555555556,
              "#d8576b"
             ],
             [
              0.6666666666666666,
              "#ed7953"
             ],
             [
              0.7777777777777778,
              "#fb9f3a"
             ],
             [
              0.8888888888888888,
              "#fdca26"
             ],
             [
              1,
              "#f0f921"
             ]
            ],
            "type": "heatmap"
           }
          ],
          "heatmapgl": [
           {
            "colorbar": {
             "outlinewidth": 0,
             "ticks": ""
            },
            "colorscale": [
             [
              0,
              "#0d0887"
             ],
             [
              0.1111111111111111,
              "#46039f"
             ],
             [
              0.2222222222222222,
              "#7201a8"
             ],
             [
              0.3333333333333333,
              "#9c179e"
             ],
             [
              0.4444444444444444,
              "#bd3786"
             ],
             [
              0.5555555555555556,
              "#d8576b"
             ],
             [
              0.6666666666666666,
              "#ed7953"
             ],
             [
              0.7777777777777778,
              "#fb9f3a"
             ],
             [
              0.8888888888888888,
              "#fdca26"
             ],
             [
              1,
              "#f0f921"
             ]
            ],
            "type": "heatmapgl"
           }
          ],
          "histogram": [
           {
            "marker": {
             "pattern": {
              "fillmode": "overlay",
              "size": 10,
              "solidity": 0.2
             }
            },
            "type": "histogram"
           }
          ],
          "histogram2d": [
           {
            "colorbar": {
             "outlinewidth": 0,
             "ticks": ""
            },
            "colorscale": [
             [
              0,
              "#0d0887"
             ],
             [
              0.1111111111111111,
              "#46039f"
             ],
             [
              0.2222222222222222,
              "#7201a8"
             ],
             [
              0.3333333333333333,
              "#9c179e"
             ],
             [
              0.4444444444444444,
              "#bd3786"
             ],
             [
              0.5555555555555556,
              "#d8576b"
             ],
             [
              0.6666666666666666,
              "#ed7953"
             ],
             [
              0.7777777777777778,
              "#fb9f3a"
             ],
             [
              0.8888888888888888,
              "#fdca26"
             ],
             [
              1,
              "#f0f921"
             ]
            ],
            "type": "histogram2d"
           }
          ],
          "histogram2dcontour": [
           {
            "colorbar": {
             "outlinewidth": 0,
             "ticks": ""
            },
            "colorscale": [
             [
              0,
              "#0d0887"
             ],
             [
              0.1111111111111111,
              "#46039f"
             ],
             [
              0.2222222222222222,
              "#7201a8"
             ],
             [
              0.3333333333333333,
              "#9c179e"
             ],
             [
              0.4444444444444444,
              "#bd3786"
             ],
             [
              0.5555555555555556,
              "#d8576b"
             ],
             [
              0.6666666666666666,
              "#ed7953"
             ],
             [
              0.7777777777777778,
              "#fb9f3a"
             ],
             [
              0.8888888888888888,
              "#fdca26"
             ],
             [
              1,
              "#f0f921"
             ]
            ],
            "type": "histogram2dcontour"
           }
          ],
          "mesh3d": [
           {
            "colorbar": {
             "outlinewidth": 0,
             "ticks": ""
            },
            "type": "mesh3d"
           }
          ],
          "parcoords": [
           {
            "line": {
             "colorbar": {
              "outlinewidth": 0,
              "ticks": ""
             }
            },
            "type": "parcoords"
           }
          ],
          "pie": [
           {
            "automargin": true,
            "type": "pie"
           }
          ],
          "scatter": [
           {
            "fillpattern": {
             "fillmode": "overlay",
             "size": 10,
             "solidity": 0.2
            },
            "type": "scatter"
           }
          ],
          "scatter3d": [
           {
            "line": {
             "colorbar": {
              "outlinewidth": 0,
              "ticks": ""
             }
            },
            "marker": {
             "colorbar": {
              "outlinewidth": 0,
              "ticks": ""
             }
            },
            "type": "scatter3d"
           }
          ],
          "scattercarpet": [
           {
            "marker": {
             "colorbar": {
              "outlinewidth": 0,
              "ticks": ""
             }
            },
            "type": "scattercarpet"
           }
          ],
          "scattergeo": [
           {
            "marker": {
             "colorbar": {
              "outlinewidth": 0,
              "ticks": ""
             }
            },
            "type": "scattergeo"
           }
          ],
          "scattergl": [
           {
            "marker": {
             "colorbar": {
              "outlinewidth": 0,
              "ticks": ""
             }
            },
            "type": "scattergl"
           }
          ],
          "scattermapbox": [
           {
            "marker": {
             "colorbar": {
              "outlinewidth": 0,
              "ticks": ""
             }
            },
            "type": "scattermapbox"
           }
          ],
          "scatterpolar": [
           {
            "marker": {
             "colorbar": {
              "outlinewidth": 0,
              "ticks": ""
             }
            },
            "type": "scatterpolar"
           }
          ],
          "scatterpolargl": [
           {
            "marker": {
             "colorbar": {
              "outlinewidth": 0,
              "ticks": ""
             }
            },
            "type": "scatterpolargl"
           }
          ],
          "scatterternary": [
           {
            "marker": {
             "colorbar": {
              "outlinewidth": 0,
              "ticks": ""
             }
            },
            "type": "scatterternary"
           }
          ],
          "surface": [
           {
            "colorbar": {
             "outlinewidth": 0,
             "ticks": ""
            },
            "colorscale": [
             [
              0,
              "#0d0887"
             ],
             [
              0.1111111111111111,
              "#46039f"
             ],
             [
              0.2222222222222222,
              "#7201a8"
             ],
             [
              0.3333333333333333,
              "#9c179e"
             ],
             [
              0.4444444444444444,
              "#bd3786"
             ],
             [
              0.5555555555555556,
              "#d8576b"
             ],
             [
              0.6666666666666666,
              "#ed7953"
             ],
             [
              0.7777777777777778,
              "#fb9f3a"
             ],
             [
              0.8888888888888888,
              "#fdca26"
             ],
             [
              1,
              "#f0f921"
             ]
            ],
            "type": "surface"
           }
          ],
          "table": [
           {
            "cells": {
             "fill": {
              "color": "#EBF0F8"
             },
             "line": {
              "color": "white"
             }
            },
            "header": {
             "fill": {
              "color": "#C8D4E3"
             },
             "line": {
              "color": "white"
             }
            },
            "type": "table"
           }
          ]
         },
         "layout": {
          "annotationdefaults": {
           "arrowcolor": "#2a3f5f",
           "arrowhead": 0,
           "arrowwidth": 1
          },
          "autotypenumbers": "strict",
          "coloraxis": {
           "colorbar": {
            "outlinewidth": 0,
            "ticks": ""
           }
          },
          "colorscale": {
           "diverging": [
            [
             0,
             "#8e0152"
            ],
            [
             0.1,
             "#c51b7d"
            ],
            [
             0.2,
             "#de77ae"
            ],
            [
             0.3,
             "#f1b6da"
            ],
            [
             0.4,
             "#fde0ef"
            ],
            [
             0.5,
             "#f7f7f7"
            ],
            [
             0.6,
             "#e6f5d0"
            ],
            [
             0.7,
             "#b8e186"
            ],
            [
             0.8,
             "#7fbc41"
            ],
            [
             0.9,
             "#4d9221"
            ],
            [
             1,
             "#276419"
            ]
           ],
           "sequential": [
            [
             0,
             "#0d0887"
            ],
            [
             0.1111111111111111,
             "#46039f"
            ],
            [
             0.2222222222222222,
             "#7201a8"
            ],
            [
             0.3333333333333333,
             "#9c179e"
            ],
            [
             0.4444444444444444,
             "#bd3786"
            ],
            [
             0.5555555555555556,
             "#d8576b"
            ],
            [
             0.6666666666666666,
             "#ed7953"
            ],
            [
             0.7777777777777778,
             "#fb9f3a"
            ],
            [
             0.8888888888888888,
             "#fdca26"
            ],
            [
             1,
             "#f0f921"
            ]
           ],
           "sequentialminus": [
            [
             0,
             "#0d0887"
            ],
            [
             0.1111111111111111,
             "#46039f"
            ],
            [
             0.2222222222222222,
             "#7201a8"
            ],
            [
             0.3333333333333333,
             "#9c179e"
            ],
            [
             0.4444444444444444,
             "#bd3786"
            ],
            [
             0.5555555555555556,
             "#d8576b"
            ],
            [
             0.6666666666666666,
             "#ed7953"
            ],
            [
             0.7777777777777778,
             "#fb9f3a"
            ],
            [
             0.8888888888888888,
             "#fdca26"
            ],
            [
             1,
             "#f0f921"
            ]
           ]
          },
          "colorway": [
           "#636efa",
           "#EF553B",
           "#00cc96",
           "#ab63fa",
           "#FFA15A",
           "#19d3f3",
           "#FF6692",
           "#B6E880",
           "#FF97FF",
           "#FECB52"
          ],
          "font": {
           "color": "#2a3f5f"
          },
          "geo": {
           "bgcolor": "white",
           "lakecolor": "white",
           "landcolor": "#E5ECF6",
           "showlakes": true,
           "showland": true,
           "subunitcolor": "white"
          },
          "hoverlabel": {
           "align": "left"
          },
          "hovermode": "closest",
          "mapbox": {
           "style": "light"
          },
          "paper_bgcolor": "white",
          "plot_bgcolor": "#E5ECF6",
          "polar": {
           "angularaxis": {
            "gridcolor": "white",
            "linecolor": "white",
            "ticks": ""
           },
           "bgcolor": "#E5ECF6",
           "radialaxis": {
            "gridcolor": "white",
            "linecolor": "white",
            "ticks": ""
           }
          },
          "scene": {
           "xaxis": {
            "backgroundcolor": "#E5ECF6",
            "gridcolor": "white",
            "gridwidth": 2,
            "linecolor": "white",
            "showbackground": true,
            "ticks": "",
            "zerolinecolor": "white"
           },
           "yaxis": {
            "backgroundcolor": "#E5ECF6",
            "gridcolor": "white",
            "gridwidth": 2,
            "linecolor": "white",
            "showbackground": true,
            "ticks": "",
            "zerolinecolor": "white"
           },
           "zaxis": {
            "backgroundcolor": "#E5ECF6",
            "gridcolor": "white",
            "gridwidth": 2,
            "linecolor": "white",
            "showbackground": true,
            "ticks": "",
            "zerolinecolor": "white"
           }
          },
          "shapedefaults": {
           "line": {
            "color": "#2a3f5f"
           }
          },
          "ternary": {
           "aaxis": {
            "gridcolor": "white",
            "linecolor": "white",
            "ticks": ""
           },
           "baxis": {
            "gridcolor": "white",
            "linecolor": "white",
            "ticks": ""
           },
           "bgcolor": "#E5ECF6",
           "caxis": {
            "gridcolor": "white",
            "linecolor": "white",
            "ticks": ""
           }
          },
          "title": {
           "x": 0.05
          },
          "xaxis": {
           "automargin": true,
           "gridcolor": "white",
           "linecolor": "white",
           "ticks": "",
           "title": {
            "standoff": 15
           },
           "zerolinecolor": "white",
           "zerolinewidth": 2
          },
          "yaxis": {
           "automargin": true,
           "gridcolor": "white",
           "linecolor": "white",
           "ticks": "",
           "title": {
            "standoff": 15
           },
           "zerolinecolor": "white",
           "zerolinewidth": 2
          }
         }
        },
        "title": {
         "text": "Loyal "
        }
       }
      }
     },
     "metadata": {},
     "output_type": "display_data"
    },
    {
     "data": {
      "application/vnd.plotly.v1+json": {
       "config": {
        "plotlyServerURL": "https://plot.ly"
       },
       "data": [
        {
         "branchvalues": "total",
         "domain": {
          "x": [
           0,
           1
          ],
          "y": [
           0,
           1
          ]
         },
         "hovertemplate": "labels=%{label}<br>count=%{value}<br>parent=%{parent}<br>id=%{id}<extra></extra>",
         "ids": [
          "Bachelor/Automotive/Baby Boomers",
          "High School/Automotive/Baby Boomers",
          "PhD/Automotive/Baby Boomers",
          "Bachelor/Education/Baby Boomers",
          "High School/Education/Baby Boomers",
          "Master/Education/Baby Boomers",
          "PhD/Education/Baby Boomers",
          "Bachelor/Finance/Baby Boomers",
          "High School/Finance/Baby Boomers",
          "Master/Finance/Baby Boomers",
          "PhD/Finance/Baby Boomers",
          "High School/Food and Beverage/Baby Boomers",
          "Master/Food and Beverage/Baby Boomers",
          "PhD/Food and Beverage/Baby Boomers",
          "Bachelor/Furniture/Baby Boomers",
          "High School/Furniture/Baby Boomers",
          "Master/Furniture/Baby Boomers",
          "PhD/Furniture/Baby Boomers",
          "Bachelor/Healthcare/Baby Boomers",
          "High School/Healthcare/Baby Boomers",
          "Master/Healthcare/Baby Boomers",
          "PhD/Healthcare/Baby Boomers",
          "Bachelor/Hospitality/Baby Boomers",
          "High School/Hospitality/Baby Boomers",
          "Master/Hospitality/Baby Boomers",
          "PhD/Hospitality/Baby Boomers",
          "Bachelor/IT/Baby Boomers",
          "High School/IT/Baby Boomers",
          "Master/IT/Baby Boomers",
          "PhD/IT/Baby Boomers",
          "Bachelor/Manufacturing/Baby Boomers",
          "High School/Manufacturing/Baby Boomers",
          "Master/Manufacturing/Baby Boomers",
          "PhD/Manufacturing/Baby Boomers",
          "Bachelor/Retail/Baby Boomers",
          "High School/Retail/Baby Boomers",
          "PhD/Retail/Baby Boomers",
          "Bachelor/Textiles and Garments/Baby Boomers",
          "High School/Textiles and Garments/Baby Boomers",
          "Master/Textiles and Garments/Baby Boomers",
          "PhD/Textiles and Garments/Baby Boomers",
          "Bachelor/Tourism/Baby Boomers",
          "High School/Tourism/Baby Boomers",
          "Master/Tourism/Baby Boomers",
          "PhD/Tourism/Baby Boomers",
          "Bachelor/Automotive/Gen X",
          "High School/Automotive/Gen X",
          "Master/Automotive/Gen X",
          "PhD/Automotive/Gen X",
          "Bachelor/Education/Gen X",
          "High School/Education/Gen X",
          "Master/Education/Gen X",
          "PhD/Education/Gen X",
          "Bachelor/Finance/Gen X",
          "High School/Finance/Gen X",
          "Master/Finance/Gen X",
          "PhD/Finance/Gen X",
          "Bachelor/Food and Beverage/Gen X",
          "High School/Food and Beverage/Gen X",
          "Master/Food and Beverage/Gen X",
          "PhD/Food and Beverage/Gen X",
          "Bachelor/Furniture/Gen X",
          "High School/Furniture/Gen X",
          "Master/Furniture/Gen X",
          "Bachelor/Healthcare/Gen X",
          "High School/Healthcare/Gen X",
          "Master/Healthcare/Gen X",
          "PhD/Healthcare/Gen X",
          "Bachelor/Hospitality/Gen X",
          "High School/Hospitality/Gen X",
          "Master/Hospitality/Gen X",
          "PhD/Hospitality/Gen X",
          "Bachelor/IT/Gen X",
          "High School/IT/Gen X",
          "Master/IT/Gen X",
          "PhD/IT/Gen X",
          "Bachelor/Manufacturing/Gen X",
          "High School/Manufacturing/Gen X",
          "Master/Manufacturing/Gen X",
          "PhD/Manufacturing/Gen X",
          "Bachelor/Retail/Gen X",
          "High School/Retail/Gen X",
          "Master/Retail/Gen X",
          "PhD/Retail/Gen X",
          "Bachelor/Textiles and Garments/Gen X",
          "High School/Textiles and Garments/Gen X",
          "Master/Textiles and Garments/Gen X",
          "PhD/Textiles and Garments/Gen X",
          "Bachelor/Tourism/Gen X",
          "High School/Tourism/Gen X",
          "Master/Tourism/Gen X",
          "PhD/Tourism/Gen X",
          "Bachelor/Automotive/Gen Z",
          "High School/Automotive/Gen Z",
          "Master/Automotive/Gen Z",
          "Master/Education/Gen Z",
          "PhD/Education/Gen Z",
          "High School/Finance/Gen Z",
          "Master/Finance/Gen Z",
          "PhD/Finance/Gen Z",
          "Bachelor/Food and Beverage/Gen Z",
          "Master/Food and Beverage/Gen Z",
          "PhD/Food and Beverage/Gen Z",
          "Bachelor/Furniture/Gen Z",
          "High School/Furniture/Gen Z",
          "Master/Furniture/Gen Z",
          "PhD/Furniture/Gen Z",
          "High School/Healthcare/Gen Z",
          "Master/Healthcare/Gen Z",
          "Master/Hospitality/Gen Z",
          "PhD/Hospitality/Gen Z",
          "Bachelor/IT/Gen Z",
          "Master/IT/Gen Z",
          "High School/Manufacturing/Gen Z",
          "Master/Manufacturing/Gen Z",
          "High School/Retail/Gen Z",
          "Master/Retail/Gen Z",
          "PhD/Retail/Gen Z",
          "Bachelor/Textiles and Garments/Gen Z",
          "High School/Textiles and Garments/Gen Z",
          "PhD/Textiles and Garments/Gen Z",
          "Bachelor/Tourism/Gen Z",
          "High School/Tourism/Gen Z",
          "Master/Tourism/Gen Z",
          "High School/Automotive/Millennials",
          "Master/Automotive/Millennials",
          "High School/Education/Millennials",
          "Master/Education/Millennials",
          "PhD/Education/Millennials",
          "High School/Finance/Millennials",
          "Master/Finance/Millennials",
          "PhD/Finance/Millennials",
          "Bachelor/Food and Beverage/Millennials",
          "Master/Food and Beverage/Millennials",
          "PhD/Food and Beverage/Millennials",
          "Bachelor/Furniture/Millennials",
          "High School/Furniture/Millennials",
          "Master/Furniture/Millennials",
          "PhD/Furniture/Millennials",
          "Bachelor/Healthcare/Millennials",
          "High School/Healthcare/Millennials",
          "PhD/Healthcare/Millennials",
          "Bachelor/Hospitality/Millennials",
          "High School/Hospitality/Millennials",
          "Master/Hospitality/Millennials",
          "PhD/Hospitality/Millennials",
          "Bachelor/IT/Millennials",
          "High School/IT/Millennials",
          "Master/IT/Millennials",
          "PhD/IT/Millennials",
          "High School/Manufacturing/Millennials",
          "Master/Manufacturing/Millennials",
          "PhD/Manufacturing/Millennials",
          "Bachelor/Retail/Millennials",
          "High School/Retail/Millennials",
          "Master/Retail/Millennials",
          "PhD/Retail/Millennials",
          "Bachelor/Textiles and Garments/Millennials",
          "High School/Textiles and Garments/Millennials",
          "Master/Textiles and Garments/Millennials",
          "PhD/Textiles and Garments/Millennials",
          "Bachelor/Tourism/Millennials",
          "High School/Tourism/Millennials",
          "Master/Tourism/Millennials",
          "PhD/Tourism/Millennials",
          "Bachelor/Automotive/Silent Generation",
          "High School/Automotive/Silent Generation",
          "Master/Automotive/Silent Generation",
          "Bachelor/Education/Silent Generation",
          "Master/Education/Silent Generation",
          "PhD/Education/Silent Generation",
          "Bachelor/Finance/Silent Generation",
          "Master/Finance/Silent Generation",
          "Bachelor/Food and Beverage/Silent Generation",
          "High School/Food and Beverage/Silent Generation",
          "Master/Food and Beverage/Silent Generation",
          "PhD/Food and Beverage/Silent Generation",
          "High School/Furniture/Silent Generation",
          "Master/Furniture/Silent Generation",
          "High School/Healthcare/Silent Generation",
          "Bachelor/Hospitality/Silent Generation",
          "High School/Hospitality/Silent Generation",
          "Bachelor/IT/Silent Generation",
          "High School/IT/Silent Generation",
          "High School/Manufacturing/Silent Generation",
          "Master/Manufacturing/Silent Generation",
          "PhD/Manufacturing/Silent Generation",
          "Bachelor/Retail/Silent Generation",
          "High School/Retail/Silent Generation",
          "PhD/Textiles and Garments/Silent Generation",
          "Bachelor/Tourism/Silent Generation",
          "Master/Tourism/Silent Generation",
          "PhD/Tourism/Silent Generation",
          "Bachelor/Automotive",
          "High School/Automotive",
          "Master/Automotive",
          "PhD/Automotive",
          "Bachelor/Education",
          "High School/Education",
          "Master/Education",
          "PhD/Education",
          "Bachelor/Finance",
          "High School/Finance",
          "Master/Finance",
          "PhD/Finance",
          "Bachelor/Food and Beverage",
          "High School/Food and Beverage",
          "Master/Food and Beverage",
          "PhD/Food and Beverage",
          "Bachelor/Furniture",
          "High School/Furniture",
          "Master/Furniture",
          "PhD/Furniture",
          "Bachelor/Healthcare",
          "High School/Healthcare",
          "Master/Healthcare",
          "PhD/Healthcare",
          "Bachelor/Hospitality",
          "High School/Hospitality",
          "Master/Hospitality",
          "PhD/Hospitality",
          "Bachelor/IT",
          "High School/IT",
          "Master/IT",
          "PhD/IT",
          "Bachelor/Manufacturing",
          "High School/Manufacturing",
          "Master/Manufacturing",
          "PhD/Manufacturing",
          "Bachelor/Retail",
          "High School/Retail",
          "Master/Retail",
          "PhD/Retail",
          "Bachelor/Textiles and Garments",
          "High School/Textiles and Garments",
          "Master/Textiles and Garments",
          "PhD/Textiles and Garments",
          "Bachelor/Tourism",
          "High School/Tourism",
          "Master/Tourism",
          "PhD/Tourism",
          "Bachelor",
          "High School",
          "Master",
          "PhD"
         ],
         "labels": [
          "Baby Boomers",
          "Baby Boomers",
          "Baby Boomers",
          "Baby Boomers",
          "Baby Boomers",
          "Baby Boomers",
          "Baby Boomers",
          "Baby Boomers",
          "Baby Boomers",
          "Baby Boomers",
          "Baby Boomers",
          "Baby Boomers",
          "Baby Boomers",
          "Baby Boomers",
          "Baby Boomers",
          "Baby Boomers",
          "Baby Boomers",
          "Baby Boomers",
          "Baby Boomers",
          "Baby Boomers",
          "Baby Boomers",
          "Baby Boomers",
          "Baby Boomers",
          "Baby Boomers",
          "Baby Boomers",
          "Baby Boomers",
          "Baby Boomers",
          "Baby Boomers",
          "Baby Boomers",
          "Baby Boomers",
          "Baby Boomers",
          "Baby Boomers",
          "Baby Boomers",
          "Baby Boomers",
          "Baby Boomers",
          "Baby Boomers",
          "Baby Boomers",
          "Baby Boomers",
          "Baby Boomers",
          "Baby Boomers",
          "Baby Boomers",
          "Baby Boomers",
          "Baby Boomers",
          "Baby Boomers",
          "Baby Boomers",
          "Gen X",
          "Gen X",
          "Gen X",
          "Gen X",
          "Gen X",
          "Gen X",
          "Gen X",
          "Gen X",
          "Gen X",
          "Gen X",
          "Gen X",
          "Gen X",
          "Gen X",
          "Gen X",
          "Gen X",
          "Gen X",
          "Gen X",
          "Gen X",
          "Gen X",
          "Gen X",
          "Gen X",
          "Gen X",
          "Gen X",
          "Gen X",
          "Gen X",
          "Gen X",
          "Gen X",
          "Gen X",
          "Gen X",
          "Gen X",
          "Gen X",
          "Gen X",
          "Gen X",
          "Gen X",
          "Gen X",
          "Gen X",
          "Gen X",
          "Gen X",
          "Gen X",
          "Gen X",
          "Gen X",
          "Gen X",
          "Gen X",
          "Gen X",
          "Gen X",
          "Gen X",
          "Gen X",
          "Gen Z",
          "Gen Z",
          "Gen Z",
          "Gen Z",
          "Gen Z",
          "Gen Z",
          "Gen Z",
          "Gen Z",
          "Gen Z",
          "Gen Z",
          "Gen Z",
          "Gen Z",
          "Gen Z",
          "Gen Z",
          "Gen Z",
          "Gen Z",
          "Gen Z",
          "Gen Z",
          "Gen Z",
          "Gen Z",
          "Gen Z",
          "Gen Z",
          "Gen Z",
          "Gen Z",
          "Gen Z",
          "Gen Z",
          "Gen Z",
          "Gen Z",
          "Gen Z",
          "Gen Z",
          "Gen Z",
          "Gen Z",
          "Millennials",
          "Millennials",
          "Millennials",
          "Millennials",
          "Millennials",
          "Millennials",
          "Millennials",
          "Millennials",
          "Millennials",
          "Millennials",
          "Millennials",
          "Millennials",
          "Millennials",
          "Millennials",
          "Millennials",
          "Millennials",
          "Millennials",
          "Millennials",
          "Millennials",
          "Millennials",
          "Millennials",
          "Millennials",
          "Millennials",
          "Millennials",
          "Millennials",
          "Millennials",
          "Millennials",
          "Millennials",
          "Millennials",
          "Millennials",
          "Millennials",
          "Millennials",
          "Millennials",
          "Millennials",
          "Millennials",
          "Millennials",
          "Millennials",
          "Millennials",
          "Millennials",
          "Millennials",
          "Millennials",
          "Silent Generation",
          "Silent Generation",
          "Silent Generation",
          "Silent Generation",
          "Silent Generation",
          "Silent Generation",
          "Silent Generation",
          "Silent Generation",
          "Silent Generation",
          "Silent Generation",
          "Silent Generation",
          "Silent Generation",
          "Silent Generation",
          "Silent Generation",
          "Silent Generation",
          "Silent Generation",
          "Silent Generation",
          "Silent Generation",
          "Silent Generation",
          "Silent Generation",
          "Silent Generation",
          "Silent Generation",
          "Silent Generation",
          "Silent Generation",
          "Silent Generation",
          "Silent Generation",
          "Silent Generation",
          "Silent Generation",
          "Automotive",
          "Automotive",
          "Automotive",
          "Automotive",
          "Education",
          "Education",
          "Education",
          "Education",
          "Finance",
          "Finance",
          "Finance",
          "Finance",
          "Food and Beverage",
          "Food and Beverage",
          "Food and Beverage",
          "Food and Beverage",
          "Furniture",
          "Furniture",
          "Furniture",
          "Furniture",
          "Healthcare",
          "Healthcare",
          "Healthcare",
          "Healthcare",
          "Hospitality",
          "Hospitality",
          "Hospitality",
          "Hospitality",
          "IT",
          "IT",
          "IT",
          "IT",
          "Manufacturing",
          "Manufacturing",
          "Manufacturing",
          "Manufacturing",
          "Retail",
          "Retail",
          "Retail",
          "Retail",
          "Textiles and Garments",
          "Textiles and Garments",
          "Textiles and Garments",
          "Textiles and Garments",
          "Tourism",
          "Tourism",
          "Tourism",
          "Tourism",
          "Bachelor",
          "High School",
          "Master",
          "PhD"
         ],
         "name": "",
         "parents": [
          "Bachelor/Automotive",
          "High School/Automotive",
          "PhD/Automotive",
          "Bachelor/Education",
          "High School/Education",
          "Master/Education",
          "PhD/Education",
          "Bachelor/Finance",
          "High School/Finance",
          "Master/Finance",
          "PhD/Finance",
          "High School/Food and Beverage",
          "Master/Food and Beverage",
          "PhD/Food and Beverage",
          "Bachelor/Furniture",
          "High School/Furniture",
          "Master/Furniture",
          "PhD/Furniture",
          "Bachelor/Healthcare",
          "High School/Healthcare",
          "Master/Healthcare",
          "PhD/Healthcare",
          "Bachelor/Hospitality",
          "High School/Hospitality",
          "Master/Hospitality",
          "PhD/Hospitality",
          "Bachelor/IT",
          "High School/IT",
          "Master/IT",
          "PhD/IT",
          "Bachelor/Manufacturing",
          "High School/Manufacturing",
          "Master/Manufacturing",
          "PhD/Manufacturing",
          "Bachelor/Retail",
          "High School/Retail",
          "PhD/Retail",
          "Bachelor/Textiles and Garments",
          "High School/Textiles and Garments",
          "Master/Textiles and Garments",
          "PhD/Textiles and Garments",
          "Bachelor/Tourism",
          "High School/Tourism",
          "Master/Tourism",
          "PhD/Tourism",
          "Bachelor/Automotive",
          "High School/Automotive",
          "Master/Automotive",
          "PhD/Automotive",
          "Bachelor/Education",
          "High School/Education",
          "Master/Education",
          "PhD/Education",
          "Bachelor/Finance",
          "High School/Finance",
          "Master/Finance",
          "PhD/Finance",
          "Bachelor/Food and Beverage",
          "High School/Food and Beverage",
          "Master/Food and Beverage",
          "PhD/Food and Beverage",
          "Bachelor/Furniture",
          "High School/Furniture",
          "Master/Furniture",
          "Bachelor/Healthcare",
          "High School/Healthcare",
          "Master/Healthcare",
          "PhD/Healthcare",
          "Bachelor/Hospitality",
          "High School/Hospitality",
          "Master/Hospitality",
          "PhD/Hospitality",
          "Bachelor/IT",
          "High School/IT",
          "Master/IT",
          "PhD/IT",
          "Bachelor/Manufacturing",
          "High School/Manufacturing",
          "Master/Manufacturing",
          "PhD/Manufacturing",
          "Bachelor/Retail",
          "High School/Retail",
          "Master/Retail",
          "PhD/Retail",
          "Bachelor/Textiles and Garments",
          "High School/Textiles and Garments",
          "Master/Textiles and Garments",
          "PhD/Textiles and Garments",
          "Bachelor/Tourism",
          "High School/Tourism",
          "Master/Tourism",
          "PhD/Tourism",
          "Bachelor/Automotive",
          "High School/Automotive",
          "Master/Automotive",
          "Master/Education",
          "PhD/Education",
          "High School/Finance",
          "Master/Finance",
          "PhD/Finance",
          "Bachelor/Food and Beverage",
          "Master/Food and Beverage",
          "PhD/Food and Beverage",
          "Bachelor/Furniture",
          "High School/Furniture",
          "Master/Furniture",
          "PhD/Furniture",
          "High School/Healthcare",
          "Master/Healthcare",
          "Master/Hospitality",
          "PhD/Hospitality",
          "Bachelor/IT",
          "Master/IT",
          "High School/Manufacturing",
          "Master/Manufacturing",
          "High School/Retail",
          "Master/Retail",
          "PhD/Retail",
          "Bachelor/Textiles and Garments",
          "High School/Textiles and Garments",
          "PhD/Textiles and Garments",
          "Bachelor/Tourism",
          "High School/Tourism",
          "Master/Tourism",
          "High School/Automotive",
          "Master/Automotive",
          "High School/Education",
          "Master/Education",
          "PhD/Education",
          "High School/Finance",
          "Master/Finance",
          "PhD/Finance",
          "Bachelor/Food and Beverage",
          "Master/Food and Beverage",
          "PhD/Food and Beverage",
          "Bachelor/Furniture",
          "High School/Furniture",
          "Master/Furniture",
          "PhD/Furniture",
          "Bachelor/Healthcare",
          "High School/Healthcare",
          "PhD/Healthcare",
          "Bachelor/Hospitality",
          "High School/Hospitality",
          "Master/Hospitality",
          "PhD/Hospitality",
          "Bachelor/IT",
          "High School/IT",
          "Master/IT",
          "PhD/IT",
          "High School/Manufacturing",
          "Master/Manufacturing",
          "PhD/Manufacturing",
          "Bachelor/Retail",
          "High School/Retail",
          "Master/Retail",
          "PhD/Retail",
          "Bachelor/Textiles and Garments",
          "High School/Textiles and Garments",
          "Master/Textiles and Garments",
          "PhD/Textiles and Garments",
          "Bachelor/Tourism",
          "High School/Tourism",
          "Master/Tourism",
          "PhD/Tourism",
          "Bachelor/Automotive",
          "High School/Automotive",
          "Master/Automotive",
          "Bachelor/Education",
          "Master/Education",
          "PhD/Education",
          "Bachelor/Finance",
          "Master/Finance",
          "Bachelor/Food and Beverage",
          "High School/Food and Beverage",
          "Master/Food and Beverage",
          "PhD/Food and Beverage",
          "High School/Furniture",
          "Master/Furniture",
          "High School/Healthcare",
          "Bachelor/Hospitality",
          "High School/Hospitality",
          "Bachelor/IT",
          "High School/IT",
          "High School/Manufacturing",
          "Master/Manufacturing",
          "PhD/Manufacturing",
          "Bachelor/Retail",
          "High School/Retail",
          "PhD/Textiles and Garments",
          "Bachelor/Tourism",
          "Master/Tourism",
          "PhD/Tourism",
          "Bachelor",
          "High School",
          "Master",
          "PhD",
          "Bachelor",
          "High School",
          "Master",
          "PhD",
          "Bachelor",
          "High School",
          "Master",
          "PhD",
          "Bachelor",
          "High School",
          "Master",
          "PhD",
          "Bachelor",
          "High School",
          "Master",
          "PhD",
          "Bachelor",
          "High School",
          "Master",
          "PhD",
          "Bachelor",
          "High School",
          "Master",
          "PhD",
          "Bachelor",
          "High School",
          "Master",
          "PhD",
          "Bachelor",
          "High School",
          "Master",
          "PhD",
          "Bachelor",
          "High School",
          "Master",
          "PhD",
          "Bachelor",
          "High School",
          "Master",
          "PhD",
          "Bachelor",
          "High School",
          "Master",
          "PhD",
          "",
          "",
          "",
          ""
         ],
         "root": {
          "color": "lightgrey"
         },
         "type": "treemap",
         "values": [
          9,
          2,
          4,
          3,
          5,
          3,
          5,
          2,
          5,
          5,
          3,
          4,
          8,
          3,
          2,
          8,
          4,
          4,
          8,
          2,
          5,
          4,
          4,
          5,
          1,
          4,
          5,
          5,
          4,
          1,
          5,
          2,
          5,
          3,
          3,
          3,
          3,
          2,
          2,
          4,
          4,
          6,
          1,
          5,
          2,
          2,
          7,
          3,
          5,
          2,
          4,
          1,
          2,
          1,
          2,
          3,
          2,
          3,
          6,
          3,
          6,
          4,
          1,
          3,
          4,
          5,
          2,
          1,
          3,
          1,
          5,
          4,
          3,
          4,
          2,
          4,
          1,
          3,
          4,
          2,
          3,
          2,
          2,
          3,
          1,
          3,
          1,
          3,
          3,
          3,
          1,
          2,
          1,
          2,
          3,
          1,
          1,
          1,
          1,
          1,
          1,
          1,
          2,
          2,
          1,
          2,
          1,
          2,
          3,
          1,
          3,
          1,
          2,
          2,
          1,
          3,
          1,
          1,
          1,
          1,
          1,
          2,
          1,
          1,
          2,
          1,
          3,
          2,
          6,
          2,
          4,
          2,
          1,
          1,
          1,
          7,
          1,
          3,
          2,
          3,
          5,
          2,
          3,
          1,
          4,
          1,
          3,
          5,
          3,
          6,
          3,
          5,
          4,
          1,
          6,
          1,
          3,
          1,
          2,
          4,
          3,
          5,
          1,
          5,
          4,
          1,
          1,
          1,
          2,
          2,
          1,
          2,
          1,
          1,
          2,
          2,
          3,
          1,
          1,
          1,
          2,
          1,
          1,
          1,
          1,
          1,
          2,
          1,
          2,
          3,
          1,
          1,
          1,
          13,
          14,
          8,
          9,
          7,
          12,
          9,
          15,
          5,
          10,
          14,
          8,
          6,
          12,
          15,
          15,
          15,
          12,
          13,
          7,
          15,
          15,
          10,
          7,
          12,
          8,
          11,
          12,
          13,
          15,
          11,
          11,
          6,
          11,
          16,
          11,
          8,
          16,
          4,
          10,
          5,
          8,
          9,
          14,
          17,
          6,
          13,
          9,
          122,
          139,
          133,
          128
         ]
        }
       ],
       "layout": {
        "legend": {
         "tracegroupgap": 0
        },
        "margin": {
         "b": 25,
         "l": 25,
         "r": 25,
         "t": 50
        },
        "template": {
         "data": {
          "bar": [
           {
            "error_x": {
             "color": "#2a3f5f"
            },
            "error_y": {
             "color": "#2a3f5f"
            },
            "marker": {
             "line": {
              "color": "#E5ECF6",
              "width": 0.5
             },
             "pattern": {
              "fillmode": "overlay",
              "size": 10,
              "solidity": 0.2
             }
            },
            "type": "bar"
           }
          ],
          "barpolar": [
           {
            "marker": {
             "line": {
              "color": "#E5ECF6",
              "width": 0.5
             },
             "pattern": {
              "fillmode": "overlay",
              "size": 10,
              "solidity": 0.2
             }
            },
            "type": "barpolar"
           }
          ],
          "carpet": [
           {
            "aaxis": {
             "endlinecolor": "#2a3f5f",
             "gridcolor": "white",
             "linecolor": "white",
             "minorgridcolor": "white",
             "startlinecolor": "#2a3f5f"
            },
            "baxis": {
             "endlinecolor": "#2a3f5f",
             "gridcolor": "white",
             "linecolor": "white",
             "minorgridcolor": "white",
             "startlinecolor": "#2a3f5f"
            },
            "type": "carpet"
           }
          ],
          "choropleth": [
           {
            "colorbar": {
             "outlinewidth": 0,
             "ticks": ""
            },
            "type": "choropleth"
           }
          ],
          "contour": [
           {
            "colorbar": {
             "outlinewidth": 0,
             "ticks": ""
            },
            "colorscale": [
             [
              0,
              "#0d0887"
             ],
             [
              0.1111111111111111,
              "#46039f"
             ],
             [
              0.2222222222222222,
              "#7201a8"
             ],
             [
              0.3333333333333333,
              "#9c179e"
             ],
             [
              0.4444444444444444,
              "#bd3786"
             ],
             [
              0.5555555555555556,
              "#d8576b"
             ],
             [
              0.6666666666666666,
              "#ed7953"
             ],
             [
              0.7777777777777778,
              "#fb9f3a"
             ],
             [
              0.8888888888888888,
              "#fdca26"
             ],
             [
              1,
              "#f0f921"
             ]
            ],
            "type": "contour"
           }
          ],
          "contourcarpet": [
           {
            "colorbar": {
             "outlinewidth": 0,
             "ticks": ""
            },
            "type": "contourcarpet"
           }
          ],
          "heatmap": [
           {
            "colorbar": {
             "outlinewidth": 0,
             "ticks": ""
            },
            "colorscale": [
             [
              0,
              "#0d0887"
             ],
             [
              0.1111111111111111,
              "#46039f"
             ],
             [
              0.2222222222222222,
              "#7201a8"
             ],
             [
              0.3333333333333333,
              "#9c179e"
             ],
             [
              0.4444444444444444,
              "#bd3786"
             ],
             [
              0.5555555555555556,
              "#d8576b"
             ],
             [
              0.6666666666666666,
              "#ed7953"
             ],
             [
              0.7777777777777778,
              "#fb9f3a"
             ],
             [
              0.8888888888888888,
              "#fdca26"
             ],
             [
              1,
              "#f0f921"
             ]
            ],
            "type": "heatmap"
           }
          ],
          "heatmapgl": [
           {
            "colorbar": {
             "outlinewidth": 0,
             "ticks": ""
            },
            "colorscale": [
             [
              0,
              "#0d0887"
             ],
             [
              0.1111111111111111,
              "#46039f"
             ],
             [
              0.2222222222222222,
              "#7201a8"
             ],
             [
              0.3333333333333333,
              "#9c179e"
             ],
             [
              0.4444444444444444,
              "#bd3786"
             ],
             [
              0.5555555555555556,
              "#d8576b"
             ],
             [
              0.6666666666666666,
              "#ed7953"
             ],
             [
              0.7777777777777778,
              "#fb9f3a"
             ],
             [
              0.8888888888888888,
              "#fdca26"
             ],
             [
              1,
              "#f0f921"
             ]
            ],
            "type": "heatmapgl"
           }
          ],
          "histogram": [
           {
            "marker": {
             "pattern": {
              "fillmode": "overlay",
              "size": 10,
              "solidity": 0.2
             }
            },
            "type": "histogram"
           }
          ],
          "histogram2d": [
           {
            "colorbar": {
             "outlinewidth": 0,
             "ticks": ""
            },
            "colorscale": [
             [
              0,
              "#0d0887"
             ],
             [
              0.1111111111111111,
              "#46039f"
             ],
             [
              0.2222222222222222,
              "#7201a8"
             ],
             [
              0.3333333333333333,
              "#9c179e"
             ],
             [
              0.4444444444444444,
              "#bd3786"
             ],
             [
              0.5555555555555556,
              "#d8576b"
             ],
             [
              0.6666666666666666,
              "#ed7953"
             ],
             [
              0.7777777777777778,
              "#fb9f3a"
             ],
             [
              0.8888888888888888,
              "#fdca26"
             ],
             [
              1,
              "#f0f921"
             ]
            ],
            "type": "histogram2d"
           }
          ],
          "histogram2dcontour": [
           {
            "colorbar": {
             "outlinewidth": 0,
             "ticks": ""
            },
            "colorscale": [
             [
              0,
              "#0d0887"
             ],
             [
              0.1111111111111111,
              "#46039f"
             ],
             [
              0.2222222222222222,
              "#7201a8"
             ],
             [
              0.3333333333333333,
              "#9c179e"
             ],
             [
              0.4444444444444444,
              "#bd3786"
             ],
             [
              0.5555555555555556,
              "#d8576b"
             ],
             [
              0.6666666666666666,
              "#ed7953"
             ],
             [
              0.7777777777777778,
              "#fb9f3a"
             ],
             [
              0.8888888888888888,
              "#fdca26"
             ],
             [
              1,
              "#f0f921"
             ]
            ],
            "type": "histogram2dcontour"
           }
          ],
          "mesh3d": [
           {
            "colorbar": {
             "outlinewidth": 0,
             "ticks": ""
            },
            "type": "mesh3d"
           }
          ],
          "parcoords": [
           {
            "line": {
             "colorbar": {
              "outlinewidth": 0,
              "ticks": ""
             }
            },
            "type": "parcoords"
           }
          ],
          "pie": [
           {
            "automargin": true,
            "type": "pie"
           }
          ],
          "scatter": [
           {
            "fillpattern": {
             "fillmode": "overlay",
             "size": 10,
             "solidity": 0.2
            },
            "type": "scatter"
           }
          ],
          "scatter3d": [
           {
            "line": {
             "colorbar": {
              "outlinewidth": 0,
              "ticks": ""
             }
            },
            "marker": {
             "colorbar": {
              "outlinewidth": 0,
              "ticks": ""
             }
            },
            "type": "scatter3d"
           }
          ],
          "scattercarpet": [
           {
            "marker": {
             "colorbar": {
              "outlinewidth": 0,
              "ticks": ""
             }
            },
            "type": "scattercarpet"
           }
          ],
          "scattergeo": [
           {
            "marker": {
             "colorbar": {
              "outlinewidth": 0,
              "ticks": ""
             }
            },
            "type": "scattergeo"
           }
          ],
          "scattergl": [
           {
            "marker": {
             "colorbar": {
              "outlinewidth": 0,
              "ticks": ""
             }
            },
            "type": "scattergl"
           }
          ],
          "scattermapbox": [
           {
            "marker": {
             "colorbar": {
              "outlinewidth": 0,
              "ticks": ""
             }
            },
            "type": "scattermapbox"
           }
          ],
          "scatterpolar": [
           {
            "marker": {
             "colorbar": {
              "outlinewidth": 0,
              "ticks": ""
             }
            },
            "type": "scatterpolar"
           }
          ],
          "scatterpolargl": [
           {
            "marker": {
             "colorbar": {
              "outlinewidth": 0,
              "ticks": ""
             }
            },
            "type": "scatterpolargl"
           }
          ],
          "scatterternary": [
           {
            "marker": {
             "colorbar": {
              "outlinewidth": 0,
              "ticks": ""
             }
            },
            "type": "scatterternary"
           }
          ],
          "surface": [
           {
            "colorbar": {
             "outlinewidth": 0,
             "ticks": ""
            },
            "colorscale": [
             [
              0,
              "#0d0887"
             ],
             [
              0.1111111111111111,
              "#46039f"
             ],
             [
              0.2222222222222222,
              "#7201a8"
             ],
             [
              0.3333333333333333,
              "#9c179e"
             ],
             [
              0.4444444444444444,
              "#bd3786"
             ],
             [
              0.5555555555555556,
              "#d8576b"
             ],
             [
              0.6666666666666666,
              "#ed7953"
             ],
             [
              0.7777777777777778,
              "#fb9f3a"
             ],
             [
              0.8888888888888888,
              "#fdca26"
             ],
             [
              1,
              "#f0f921"
             ]
            ],
            "type": "surface"
           }
          ],
          "table": [
           {
            "cells": {
             "fill": {
              "color": "#EBF0F8"
             },
             "line": {
              "color": "white"
             }
            },
            "header": {
             "fill": {
              "color": "#C8D4E3"
             },
             "line": {
              "color": "white"
             }
            },
            "type": "table"
           }
          ]
         },
         "layout": {
          "annotationdefaults": {
           "arrowcolor": "#2a3f5f",
           "arrowhead": 0,
           "arrowwidth": 1
          },
          "autotypenumbers": "strict",
          "coloraxis": {
           "colorbar": {
            "outlinewidth": 0,
            "ticks": ""
           }
          },
          "colorscale": {
           "diverging": [
            [
             0,
             "#8e0152"
            ],
            [
             0.1,
             "#c51b7d"
            ],
            [
             0.2,
             "#de77ae"
            ],
            [
             0.3,
             "#f1b6da"
            ],
            [
             0.4,
             "#fde0ef"
            ],
            [
             0.5,
             "#f7f7f7"
            ],
            [
             0.6,
             "#e6f5d0"
            ],
            [
             0.7,
             "#b8e186"
            ],
            [
             0.8,
             "#7fbc41"
            ],
            [
             0.9,
             "#4d9221"
            ],
            [
             1,
             "#276419"
            ]
           ],
           "sequential": [
            [
             0,
             "#0d0887"
            ],
            [
             0.1111111111111111,
             "#46039f"
            ],
            [
             0.2222222222222222,
             "#7201a8"
            ],
            [
             0.3333333333333333,
             "#9c179e"
            ],
            [
             0.4444444444444444,
             "#bd3786"
            ],
            [
             0.5555555555555556,
             "#d8576b"
            ],
            [
             0.6666666666666666,
             "#ed7953"
            ],
            [
             0.7777777777777778,
             "#fb9f3a"
            ],
            [
             0.8888888888888888,
             "#fdca26"
            ],
            [
             1,
             "#f0f921"
            ]
           ],
           "sequentialminus": [
            [
             0,
             "#0d0887"
            ],
            [
             0.1111111111111111,
             "#46039f"
            ],
            [
             0.2222222222222222,
             "#7201a8"
            ],
            [
             0.3333333333333333,
             "#9c179e"
            ],
            [
             0.4444444444444444,
             "#bd3786"
            ],
            [
             0.5555555555555556,
             "#d8576b"
            ],
            [
             0.6666666666666666,
             "#ed7953"
            ],
            [
             0.7777777777777778,
             "#fb9f3a"
            ],
            [
             0.8888888888888888,
             "#fdca26"
            ],
            [
             1,
             "#f0f921"
            ]
           ]
          },
          "colorway": [
           "#636efa",
           "#EF553B",
           "#00cc96",
           "#ab63fa",
           "#FFA15A",
           "#19d3f3",
           "#FF6692",
           "#B6E880",
           "#FF97FF",
           "#FECB52"
          ],
          "font": {
           "color": "#2a3f5f"
          },
          "geo": {
           "bgcolor": "white",
           "lakecolor": "white",
           "landcolor": "#E5ECF6",
           "showlakes": true,
           "showland": true,
           "subunitcolor": "white"
          },
          "hoverlabel": {
           "align": "left"
          },
          "hovermode": "closest",
          "mapbox": {
           "style": "light"
          },
          "paper_bgcolor": "white",
          "plot_bgcolor": "#E5ECF6",
          "polar": {
           "angularaxis": {
            "gridcolor": "white",
            "linecolor": "white",
            "ticks": ""
           },
           "bgcolor": "#E5ECF6",
           "radialaxis": {
            "gridcolor": "white",
            "linecolor": "white",
            "ticks": ""
           }
          },
          "scene": {
           "xaxis": {
            "backgroundcolor": "#E5ECF6",
            "gridcolor": "white",
            "gridwidth": 2,
            "linecolor": "white",
            "showbackground": true,
            "ticks": "",
            "zerolinecolor": "white"
           },
           "yaxis": {
            "backgroundcolor": "#E5ECF6",
            "gridcolor": "white",
            "gridwidth": 2,
            "linecolor": "white",
            "showbackground": true,
            "ticks": "",
            "zerolinecolor": "white"
           },
           "zaxis": {
            "backgroundcolor": "#E5ECF6",
            "gridcolor": "white",
            "gridwidth": 2,
            "linecolor": "white",
            "showbackground": true,
            "ticks": "",
            "zerolinecolor": "white"
           }
          },
          "shapedefaults": {
           "line": {
            "color": "#2a3f5f"
           }
          },
          "ternary": {
           "aaxis": {
            "gridcolor": "white",
            "linecolor": "white",
            "ticks": ""
           },
           "baxis": {
            "gridcolor": "white",
            "linecolor": "white",
            "ticks": ""
           },
           "bgcolor": "#E5ECF6",
           "caxis": {
            "gridcolor": "white",
            "linecolor": "white",
            "ticks": ""
           }
          },
          "title": {
           "x": 0.05
          },
          "xaxis": {
           "automargin": true,
           "gridcolor": "white",
           "linecolor": "white",
           "ticks": "",
           "title": {
            "standoff": 15
           },
           "zerolinecolor": "white",
           "zerolinewidth": 2
          },
          "yaxis": {
           "automargin": true,
           "gridcolor": "white",
           "linecolor": "white",
           "ticks": "",
           "title": {
            "standoff": 15
           },
           "zerolinecolor": "white",
           "zerolinewidth": 2
          }
         }
        },
        "title": {
         "text": "MVC"
        }
       }
      }
     },
     "metadata": {},
     "output_type": "display_data"
    },
    {
     "data": {
      "application/vnd.plotly.v1+json": {
       "config": {
        "plotlyServerURL": "https://plot.ly"
       },
       "data": [
        {
         "branchvalues": "total",
         "domain": {
          "x": [
           0,
           1
          ],
          "y": [
           0,
           1
          ]
         },
         "hovertemplate": "labels=%{label}<br>count=%{value}<br>parent=%{parent}<br>id=%{id}<extra></extra>",
         "ids": [
          "High School/56/Baby Boomers",
          "Bachelor/57/Baby Boomers",
          "High School/57/Baby Boomers",
          "High School/59/Baby Boomers",
          "Master/59/Baby Boomers",
          "High School/60/Baby Boomers",
          "Bachelor/61/Baby Boomers",
          "High School/61/Baby Boomers",
          "High School/62/Baby Boomers",
          "Bachelor/63/Baby Boomers",
          "High School/63/Baby Boomers",
          "High School/65/Baby Boomers",
          "Bachelor/66/Baby Boomers",
          "High School/66/Baby Boomers",
          "Master/66/Baby Boomers",
          "Bachelor/67/Baby Boomers",
          "Master/67/Baby Boomers",
          "High School/68/Baby Boomers",
          "High School/69/Baby Boomers",
          "Bachelor/70/Baby Boomers",
          "High School/70/Baby Boomers",
          "High School/71/Baby Boomers",
          "High School/72/Baby Boomers",
          "High School/75/Baby Boomers",
          "Bachelor/Automotive/Baby Boomers",
          "High School/Automotive/Baby Boomers",
          "Master/Automotive/Baby Boomers",
          "PhD/Automotive/Baby Boomers",
          "Bachelor/Education/Baby Boomers",
          "High School/Education/Baby Boomers",
          "Master/Education/Baby Boomers",
          "PhD/Education/Baby Boomers",
          "Bachelor/Finance/Baby Boomers",
          "Master/Finance/Baby Boomers",
          "PhD/Finance/Baby Boomers",
          "Bachelor/Food and Beverage/Baby Boomers",
          "High School/Food and Beverage/Baby Boomers",
          "Master/Food and Beverage/Baby Boomers",
          "PhD/Food and Beverage/Baby Boomers",
          "Bachelor/Furniture/Baby Boomers",
          "High School/Furniture/Baby Boomers",
          "Master/Furniture/Baby Boomers",
          "PhD/Furniture/Baby Boomers",
          "Bachelor/Healthcare/Baby Boomers",
          "High School/Healthcare/Baby Boomers",
          "Master/Healthcare/Baby Boomers",
          "PhD/Healthcare/Baby Boomers",
          "Bachelor/Hospitality/Baby Boomers",
          "High School/Hospitality/Baby Boomers",
          "PhD/Hospitality/Baby Boomers",
          "High School/IT/Baby Boomers",
          "Master/IT/Baby Boomers",
          "PhD/IT/Baby Boomers",
          "Bachelor/Manufacturing/Baby Boomers",
          "Bachelor/Retail/Baby Boomers",
          "High School/Retail/Baby Boomers",
          "Master/Retail/Baby Boomers",
          "PhD/Retail/Baby Boomers",
          "Bachelor/Textiles and Garments/Baby Boomers",
          "High School/Textiles and Garments/Baby Boomers",
          "Master/Textiles and Garments/Baby Boomers",
          "PhD/Textiles and Garments/Baby Boomers",
          "Bachelor/Tourism/Baby Boomers",
          "Bachelor/50/Gen X",
          "High School/50/Gen X",
          "High School/51/Gen X",
          "High School/52/Gen X",
          "PhD/52/Gen X",
          "Bachelor/54/Gen X",
          "Bachelor/55/Gen X",
          "High School/55/Gen X",
          "Master/55/Gen X",
          "Bachelor/Automotive/Gen X",
          "High School/Automotive/Gen X",
          "PhD/Automotive/Gen X",
          "Bachelor/Education/Gen X",
          "High School/Education/Gen X",
          "Master/Education/Gen X",
          "PhD/Education/Gen X",
          "High School/Finance/Gen X",
          "PhD/Finance/Gen X",
          "Bachelor/Food and Beverage/Gen X",
          "High School/Food and Beverage/Gen X",
          "PhD/Food and Beverage/Gen X",
          "Bachelor/Furniture/Gen X",
          "High School/Furniture/Gen X",
          "Master/Furniture/Gen X",
          "PhD/Furniture/Gen X",
          "PhD/Healthcare/Gen X",
          "Bachelor/Hospitality/Gen X",
          "High School/Hospitality/Gen X",
          "Bachelor/IT/Gen X",
          "High School/IT/Gen X",
          "Master/IT/Gen X",
          "Bachelor/Manufacturing/Gen X",
          "High School/Manufacturing/Gen X",
          "PhD/Manufacturing/Gen X",
          "Bachelor/Retail/Gen X",
          "High School/Retail/Gen X",
          "Master/Retail/Gen X",
          "PhD/Retail/Gen X",
          "Bachelor/Textiles and Garments/Gen X",
          "High School/Textiles and Garments/Gen X",
          "Master/Textiles and Garments/Gen X",
          "PhD/Textiles and Garments/Gen X",
          "Bachelor/Tourism/Gen X",
          "Master/Tourism/Gen X",
          "PhD/Tourism/Gen X",
          "Bachelor/Education/Gen Z",
          "Bachelor/Healthcare/Gen Z",
          "PhD/Hospitality/Gen Z",
          "Master/IT/Gen Z",
          "Master/Manufacturing/Gen Z",
          "PhD/Retail/Gen Z",
          "PhD/Textiles and Garments/Gen Z",
          "Bachelor/Tourism/Gen Z",
          "High School/40/Millennials",
          "Bachelor/Automotive/Millennials",
          "High School/Automotive/Millennials",
          "Master/Automotive/Millennials",
          "PhD/Automotive/Millennials",
          "Master/Education/Millennials",
          "PhD/Education/Millennials",
          "Bachelor/Finance/Millennials",
          "High School/Finance/Millennials",
          "Master/Finance/Millennials",
          "PhD/Finance/Millennials",
          "Bachelor/Food and Beverage/Millennials",
          "High School/Food and Beverage/Millennials",
          "Bachelor/Furniture/Millennials",
          "Master/Furniture/Millennials",
          "PhD/Furniture/Millennials",
          "Bachelor/Healthcare/Millennials",
          "High School/Healthcare/Millennials",
          "Master/Healthcare/Millennials",
          "PhD/Healthcare/Millennials",
          "Bachelor/Hospitality/Millennials",
          "High School/Hospitality/Millennials",
          "Master/Hospitality/Millennials",
          "PhD/Hospitality/Millennials",
          "Bachelor/IT/Millennials",
          "Master/IT/Millennials",
          "PhD/IT/Millennials",
          "Bachelor/Manufacturing/Millennials",
          "High School/Manufacturing/Millennials",
          "Master/Manufacturing/Millennials",
          "PhD/Manufacturing/Millennials",
          "Bachelor/Retail/Millennials",
          "Master/Retail/Millennials",
          "PhD/Retail/Millennials",
          "Bachelor/Textiles and Garments/Millennials",
          "High School/Textiles and Garments/Millennials",
          "Master/Textiles and Garments/Millennials",
          "High School/Tourism/Millennials",
          "Master/Tourism/Millennials",
          "PhD/Tourism/Millennials",
          "High School/78/Silent Generation",
          "Bachelor/80/Silent Generation",
          "Bachelor/Automotive/Silent Generation",
          "Master/Automotive/Silent Generation",
          "High School/Finance/Silent Generation",
          "Bachelor/Food and Beverage/Silent Generation",
          "High School/Food and Beverage/Silent Generation",
          "Master/Food and Beverage/Silent Generation",
          "PhD/Food and Beverage/Silent Generation",
          "High School/Furniture/Silent Generation",
          "PhD/Furniture/Silent Generation",
          "High School/Healthcare/Silent Generation",
          "High School/Hospitality/Silent Generation",
          "PhD/Hospitality/Silent Generation",
          "PhD/IT/Silent Generation",
          "High School/Manufacturing/Silent Generation",
          "Master/Retail/Silent Generation",
          "Bachelor/Textiles and Garments/Silent Generation",
          "High School/Textiles and Garments/Silent Generation",
          "PhD/Textiles and Garments/Silent Generation",
          "High School/40",
          "Bachelor/50",
          "High School/50",
          "High School/51",
          "High School/52",
          "PhD/52",
          "Bachelor/54",
          "Bachelor/55",
          "High School/55",
          "Master/55",
          "High School/56",
          "Bachelor/57",
          "High School/57",
          "High School/59",
          "Master/59",
          "High School/60",
          "Bachelor/61",
          "High School/61",
          "High School/62",
          "Bachelor/63",
          "High School/63",
          "High School/65",
          "Bachelor/66",
          "High School/66",
          "Master/66",
          "Bachelor/67",
          "Master/67",
          "High School/68",
          "High School/69",
          "Bachelor/70",
          "High School/70",
          "High School/71",
          "High School/72",
          "High School/75",
          "High School/78",
          "Bachelor/80",
          "Bachelor/Automotive",
          "High School/Automotive",
          "Master/Automotive",
          "PhD/Automotive",
          "Bachelor/Education",
          "High School/Education",
          "Master/Education",
          "PhD/Education",
          "Bachelor/Finance",
          "High School/Finance",
          "Master/Finance",
          "PhD/Finance",
          "Bachelor/Food and Beverage",
          "High School/Food and Beverage",
          "Master/Food and Beverage",
          "PhD/Food and Beverage",
          "Bachelor/Furniture",
          "High School/Furniture",
          "Master/Furniture",
          "PhD/Furniture",
          "Bachelor/Healthcare",
          "High School/Healthcare",
          "Master/Healthcare",
          "PhD/Healthcare",
          "Bachelor/Hospitality",
          "High School/Hospitality",
          "Master/Hospitality",
          "PhD/Hospitality",
          "Bachelor/IT",
          "High School/IT",
          "Master/IT",
          "PhD/IT",
          "Bachelor/Manufacturing",
          "High School/Manufacturing",
          "Master/Manufacturing",
          "PhD/Manufacturing",
          "Bachelor/Retail",
          "High School/Retail",
          "Master/Retail",
          "PhD/Retail",
          "Bachelor/Textiles and Garments",
          "High School/Textiles and Garments",
          "Master/Textiles and Garments",
          "PhD/Textiles and Garments",
          "Bachelor/Tourism",
          "High School/Tourism",
          "Master/Tourism",
          "PhD/Tourism",
          "Bachelor",
          "High School",
          "Master",
          "PhD"
         ],
         "labels": [
          "Baby Boomers",
          "Baby Boomers",
          "Baby Boomers",
          "Baby Boomers",
          "Baby Boomers",
          "Baby Boomers",
          "Baby Boomers",
          "Baby Boomers",
          "Baby Boomers",
          "Baby Boomers",
          "Baby Boomers",
          "Baby Boomers",
          "Baby Boomers",
          "Baby Boomers",
          "Baby Boomers",
          "Baby Boomers",
          "Baby Boomers",
          "Baby Boomers",
          "Baby Boomers",
          "Baby Boomers",
          "Baby Boomers",
          "Baby Boomers",
          "Baby Boomers",
          "Baby Boomers",
          "Baby Boomers",
          "Baby Boomers",
          "Baby Boomers",
          "Baby Boomers",
          "Baby Boomers",
          "Baby Boomers",
          "Baby Boomers",
          "Baby Boomers",
          "Baby Boomers",
          "Baby Boomers",
          "Baby Boomers",
          "Baby Boomers",
          "Baby Boomers",
          "Baby Boomers",
          "Baby Boomers",
          "Baby Boomers",
          "Baby Boomers",
          "Baby Boomers",
          "Baby Boomers",
          "Baby Boomers",
          "Baby Boomers",
          "Baby Boomers",
          "Baby Boomers",
          "Baby Boomers",
          "Baby Boomers",
          "Baby Boomers",
          "Baby Boomers",
          "Baby Boomers",
          "Baby Boomers",
          "Baby Boomers",
          "Baby Boomers",
          "Baby Boomers",
          "Baby Boomers",
          "Baby Boomers",
          "Baby Boomers",
          "Baby Boomers",
          "Baby Boomers",
          "Baby Boomers",
          "Baby Boomers",
          "Gen X",
          "Gen X",
          "Gen X",
          "Gen X",
          "Gen X",
          "Gen X",
          "Gen X",
          "Gen X",
          "Gen X",
          "Gen X",
          "Gen X",
          "Gen X",
          "Gen X",
          "Gen X",
          "Gen X",
          "Gen X",
          "Gen X",
          "Gen X",
          "Gen X",
          "Gen X",
          "Gen X",
          "Gen X",
          "Gen X",
          "Gen X",
          "Gen X",
          "Gen X",
          "Gen X",
          "Gen X",
          "Gen X",
          "Gen X",
          "Gen X",
          "Gen X",
          "Gen X",
          "Gen X",
          "Gen X",
          "Gen X",
          "Gen X",
          "Gen X",
          "Gen X",
          "Gen X",
          "Gen X",
          "Gen X",
          "Gen X",
          "Gen X",
          "Gen X",
          "Gen Z",
          "Gen Z",
          "Gen Z",
          "Gen Z",
          "Gen Z",
          "Gen Z",
          "Gen Z",
          "Gen Z",
          "Millennials",
          "Millennials",
          "Millennials",
          "Millennials",
          "Millennials",
          "Millennials",
          "Millennials",
          "Millennials",
          "Millennials",
          "Millennials",
          "Millennials",
          "Millennials",
          "Millennials",
          "Millennials",
          "Millennials",
          "Millennials",
          "Millennials",
          "Millennials",
          "Millennials",
          "Millennials",
          "Millennials",
          "Millennials",
          "Millennials",
          "Millennials",
          "Millennials",
          "Millennials",
          "Millennials",
          "Millennials",
          "Millennials",
          "Millennials",
          "Millennials",
          "Millennials",
          "Millennials",
          "Millennials",
          "Millennials",
          "Millennials",
          "Millennials",
          "Millennials",
          "Millennials",
          "Millennials",
          "Silent Generation",
          "Silent Generation",
          "Silent Generation",
          "Silent Generation",
          "Silent Generation",
          "Silent Generation",
          "Silent Generation",
          "Silent Generation",
          "Silent Generation",
          "Silent Generation",
          "Silent Generation",
          "Silent Generation",
          "Silent Generation",
          "Silent Generation",
          "Silent Generation",
          "Silent Generation",
          "Silent Generation",
          "Silent Generation",
          "Silent Generation",
          "Silent Generation",
          "40",
          "50",
          "50",
          "51",
          "52",
          "52",
          "54",
          "55",
          "55",
          "55",
          "56",
          "57",
          "57",
          "59",
          "59",
          "60",
          "61",
          "61",
          "62",
          "63",
          "63",
          "65",
          "66",
          "66",
          "66",
          "67",
          "67",
          "68",
          "69",
          "70",
          "70",
          "71",
          "72",
          "75",
          "78",
          "80",
          "Automotive",
          "Automotive",
          "Automotive",
          "Automotive",
          "Education",
          "Education",
          "Education",
          "Education",
          "Finance",
          "Finance",
          "Finance",
          "Finance",
          "Food and Beverage",
          "Food and Beverage",
          "Food and Beverage",
          "Food and Beverage",
          "Furniture",
          "Furniture",
          "Furniture",
          "Furniture",
          "Healthcare",
          "Healthcare",
          "Healthcare",
          "Healthcare",
          "Hospitality",
          "Hospitality",
          "Hospitality",
          "Hospitality",
          "IT",
          "IT",
          "IT",
          "IT",
          "Manufacturing",
          "Manufacturing",
          "Manufacturing",
          "Manufacturing",
          "Retail",
          "Retail",
          "Retail",
          "Retail",
          "Textiles and Garments",
          "Textiles and Garments",
          "Textiles and Garments",
          "Textiles and Garments",
          "Tourism",
          "Tourism",
          "Tourism",
          "Tourism",
          "Bachelor",
          "High School",
          "Master",
          "PhD"
         ],
         "name": "",
         "parents": [
          "High School/56",
          "Bachelor/57",
          "High School/57",
          "High School/59",
          "Master/59",
          "High School/60",
          "Bachelor/61",
          "High School/61",
          "High School/62",
          "Bachelor/63",
          "High School/63",
          "High School/65",
          "Bachelor/66",
          "High School/66",
          "Master/66",
          "Bachelor/67",
          "Master/67",
          "High School/68",
          "High School/69",
          "Bachelor/70",
          "High School/70",
          "High School/71",
          "High School/72",
          "High School/75",
          "Bachelor/Automotive",
          "High School/Automotive",
          "Master/Automotive",
          "PhD/Automotive",
          "Bachelor/Education",
          "High School/Education",
          "Master/Education",
          "PhD/Education",
          "Bachelor/Finance",
          "Master/Finance",
          "PhD/Finance",
          "Bachelor/Food and Beverage",
          "High School/Food and Beverage",
          "Master/Food and Beverage",
          "PhD/Food and Beverage",
          "Bachelor/Furniture",
          "High School/Furniture",
          "Master/Furniture",
          "PhD/Furniture",
          "Bachelor/Healthcare",
          "High School/Healthcare",
          "Master/Healthcare",
          "PhD/Healthcare",
          "Bachelor/Hospitality",
          "High School/Hospitality",
          "PhD/Hospitality",
          "High School/IT",
          "Master/IT",
          "PhD/IT",
          "Bachelor/Manufacturing",
          "Bachelor/Retail",
          "High School/Retail",
          "Master/Retail",
          "PhD/Retail",
          "Bachelor/Textiles and Garments",
          "High School/Textiles and Garments",
          "Master/Textiles and Garments",
          "PhD/Textiles and Garments",
          "Bachelor/Tourism",
          "Bachelor/50",
          "High School/50",
          "High School/51",
          "High School/52",
          "PhD/52",
          "Bachelor/54",
          "Bachelor/55",
          "High School/55",
          "Master/55",
          "Bachelor/Automotive",
          "High School/Automotive",
          "PhD/Automotive",
          "Bachelor/Education",
          "High School/Education",
          "Master/Education",
          "PhD/Education",
          "High School/Finance",
          "PhD/Finance",
          "Bachelor/Food and Beverage",
          "High School/Food and Beverage",
          "PhD/Food and Beverage",
          "Bachelor/Furniture",
          "High School/Furniture",
          "Master/Furniture",
          "PhD/Furniture",
          "PhD/Healthcare",
          "Bachelor/Hospitality",
          "High School/Hospitality",
          "Bachelor/IT",
          "High School/IT",
          "Master/IT",
          "Bachelor/Manufacturing",
          "High School/Manufacturing",
          "PhD/Manufacturing",
          "Bachelor/Retail",
          "High School/Retail",
          "Master/Retail",
          "PhD/Retail",
          "Bachelor/Textiles and Garments",
          "High School/Textiles and Garments",
          "Master/Textiles and Garments",
          "PhD/Textiles and Garments",
          "Bachelor/Tourism",
          "Master/Tourism",
          "PhD/Tourism",
          "Bachelor/Education",
          "Bachelor/Healthcare",
          "PhD/Hospitality",
          "Master/IT",
          "Master/Manufacturing",
          "PhD/Retail",
          "PhD/Textiles and Garments",
          "Bachelor/Tourism",
          "High School/40",
          "Bachelor/Automotive",
          "High School/Automotive",
          "Master/Automotive",
          "PhD/Automotive",
          "Master/Education",
          "PhD/Education",
          "Bachelor/Finance",
          "High School/Finance",
          "Master/Finance",
          "PhD/Finance",
          "Bachelor/Food and Beverage",
          "High School/Food and Beverage",
          "Bachelor/Furniture",
          "Master/Furniture",
          "PhD/Furniture",
          "Bachelor/Healthcare",
          "High School/Healthcare",
          "Master/Healthcare",
          "PhD/Healthcare",
          "Bachelor/Hospitality",
          "High School/Hospitality",
          "Master/Hospitality",
          "PhD/Hospitality",
          "Bachelor/IT",
          "Master/IT",
          "PhD/IT",
          "Bachelor/Manufacturing",
          "High School/Manufacturing",
          "Master/Manufacturing",
          "PhD/Manufacturing",
          "Bachelor/Retail",
          "Master/Retail",
          "PhD/Retail",
          "Bachelor/Textiles and Garments",
          "High School/Textiles and Garments",
          "Master/Textiles and Garments",
          "High School/Tourism",
          "Master/Tourism",
          "PhD/Tourism",
          "High School/78",
          "Bachelor/80",
          "Bachelor/Automotive",
          "Master/Automotive",
          "High School/Finance",
          "Bachelor/Food and Beverage",
          "High School/Food and Beverage",
          "Master/Food and Beverage",
          "PhD/Food and Beverage",
          "High School/Furniture",
          "PhD/Furniture",
          "High School/Healthcare",
          "High School/Hospitality",
          "PhD/Hospitality",
          "PhD/IT",
          "High School/Manufacturing",
          "Master/Retail",
          "Bachelor/Textiles and Garments",
          "High School/Textiles and Garments",
          "PhD/Textiles and Garments",
          "High School",
          "Bachelor",
          "High School",
          "High School",
          "High School",
          "PhD",
          "Bachelor",
          "Bachelor",
          "High School",
          "Master",
          "High School",
          "Bachelor",
          "High School",
          "High School",
          "Master",
          "High School",
          "Bachelor",
          "High School",
          "High School",
          "Bachelor",
          "High School",
          "High School",
          "Bachelor",
          "High School",
          "Master",
          "Bachelor",
          "Master",
          "High School",
          "High School",
          "Bachelor",
          "High School",
          "High School",
          "High School",
          "High School",
          "High School",
          "Bachelor",
          "Bachelor",
          "High School",
          "Master",
          "PhD",
          "Bachelor",
          "High School",
          "Master",
          "PhD",
          "Bachelor",
          "High School",
          "Master",
          "PhD",
          "Bachelor",
          "High School",
          "Master",
          "PhD",
          "Bachelor",
          "High School",
          "Master",
          "PhD",
          "Bachelor",
          "High School",
          "Master",
          "PhD",
          "Bachelor",
          "High School",
          "Master",
          "PhD",
          "Bachelor",
          "High School",
          "Master",
          "PhD",
          "Bachelor",
          "High School",
          "Master",
          "PhD",
          "Bachelor",
          "High School",
          "Master",
          "PhD",
          "Bachelor",
          "High School",
          "Master",
          "PhD",
          "Bachelor",
          "High School",
          "Master",
          "PhD",
          "",
          "",
          "",
          ""
         ],
         "root": {
          "color": "lightgrey"
         },
         "type": "treemap",
         "values": [
          4,
          1,
          2,
          1,
          1,
          2,
          2,
          3,
          1,
          2,
          1,
          2,
          1,
          2,
          1,
          2,
          1,
          1,
          2,
          1,
          2,
          1,
          1,
          2,
          2,
          2,
          2,
          2,
          1,
          2,
          1,
          3,
          1,
          4,
          3,
          7,
          17,
          8,
          7,
          7,
          21,
          3,
          3,
          2,
          1,
          2,
          2,
          2,
          3,
          6,
          1,
          1,
          1,
          2,
          1,
          1,
          1,
          3,
          4,
          24,
          2,
          3,
          1,
          1,
          1,
          3,
          2,
          1,
          2,
          1,
          1,
          2,
          2,
          2,
          1,
          1,
          3,
          2,
          4,
          4,
          1,
          7,
          8,
          4,
          4,
          8,
          1,
          1,
          2,
          1,
          2,
          1,
          2,
          1,
          1,
          1,
          1,
          1,
          1,
          2,
          1,
          5,
          8,
          1,
          3,
          1,
          2,
          1,
          1,
          1,
          1,
          1,
          2,
          2,
          1,
          1,
          1,
          2,
          4,
          1,
          1,
          2,
          2,
          2,
          1,
          1,
          3,
          1,
          2,
          3,
          3,
          3,
          2,
          1,
          4,
          3,
          2,
          3,
          1,
          2,
          1,
          1,
          1,
          3,
          1,
          2,
          2,
          3,
          3,
          3,
          1,
          1,
          2,
          2,
          1,
          2,
          1,
          1,
          1,
          1,
          1,
          1,
          3,
          3,
          2,
          5,
          1,
          1,
          1,
          1,
          1,
          1,
          1,
          2,
          3,
          1,
          1,
          1,
          1,
          3,
          2,
          1,
          2,
          1,
          1,
          2,
          4,
          1,
          2,
          1,
          1,
          2,
          2,
          3,
          1,
          2,
          1,
          2,
          1,
          2,
          1,
          2,
          1,
          1,
          2,
          1,
          2,
          1,
          1,
          2,
          1,
          1,
          7,
          8,
          4,
          4,
          3,
          5,
          5,
          9,
          3,
          6,
          5,
          7,
          16,
          30,
          11,
          13,
          14,
          34,
          7,
          8,
          5,
          3,
          6,
          7,
          5,
          9,
          1,
          10,
          2,
          3,
          4,
          3,
          6,
          3,
          4,
          3,
          5,
          2,
          7,
          9,
          12,
          36,
          5,
          8,
          3,
          2,
          3,
          3,
          95,
          177,
          67,
          85
         ]
        }
       ],
       "layout": {
        "legend": {
         "tracegroupgap": 0
        },
        "margin": {
         "b": 25,
         "l": 25,
         "r": 25,
         "t": 50
        },
        "template": {
         "data": {
          "bar": [
           {
            "error_x": {
             "color": "#2a3f5f"
            },
            "error_y": {
             "color": "#2a3f5f"
            },
            "marker": {
             "line": {
              "color": "#E5ECF6",
              "width": 0.5
             },
             "pattern": {
              "fillmode": "overlay",
              "size": 10,
              "solidity": 0.2
             }
            },
            "type": "bar"
           }
          ],
          "barpolar": [
           {
            "marker": {
             "line": {
              "color": "#E5ECF6",
              "width": 0.5
             },
             "pattern": {
              "fillmode": "overlay",
              "size": 10,
              "solidity": 0.2
             }
            },
            "type": "barpolar"
           }
          ],
          "carpet": [
           {
            "aaxis": {
             "endlinecolor": "#2a3f5f",
             "gridcolor": "white",
             "linecolor": "white",
             "minorgridcolor": "white",
             "startlinecolor": "#2a3f5f"
            },
            "baxis": {
             "endlinecolor": "#2a3f5f",
             "gridcolor": "white",
             "linecolor": "white",
             "minorgridcolor": "white",
             "startlinecolor": "#2a3f5f"
            },
            "type": "carpet"
           }
          ],
          "choropleth": [
           {
            "colorbar": {
             "outlinewidth": 0,
             "ticks": ""
            },
            "type": "choropleth"
           }
          ],
          "contour": [
           {
            "colorbar": {
             "outlinewidth": 0,
             "ticks": ""
            },
            "colorscale": [
             [
              0,
              "#0d0887"
             ],
             [
              0.1111111111111111,
              "#46039f"
             ],
             [
              0.2222222222222222,
              "#7201a8"
             ],
             [
              0.3333333333333333,
              "#9c179e"
             ],
             [
              0.4444444444444444,
              "#bd3786"
             ],
             [
              0.5555555555555556,
              "#d8576b"
             ],
             [
              0.6666666666666666,
              "#ed7953"
             ],
             [
              0.7777777777777778,
              "#fb9f3a"
             ],
             [
              0.8888888888888888,
              "#fdca26"
             ],
             [
              1,
              "#f0f921"
             ]
            ],
            "type": "contour"
           }
          ],
          "contourcarpet": [
           {
            "colorbar": {
             "outlinewidth": 0,
             "ticks": ""
            },
            "type": "contourcarpet"
           }
          ],
          "heatmap": [
           {
            "colorbar": {
             "outlinewidth": 0,
             "ticks": ""
            },
            "colorscale": [
             [
              0,
              "#0d0887"
             ],
             [
              0.1111111111111111,
              "#46039f"
             ],
             [
              0.2222222222222222,
              "#7201a8"
             ],
             [
              0.3333333333333333,
              "#9c179e"
             ],
             [
              0.4444444444444444,
              "#bd3786"
             ],
             [
              0.5555555555555556,
              "#d8576b"
             ],
             [
              0.6666666666666666,
              "#ed7953"
             ],
             [
              0.7777777777777778,
              "#fb9f3a"
             ],
             [
              0.8888888888888888,
              "#fdca26"
             ],
             [
              1,
              "#f0f921"
             ]
            ],
            "type": "heatmap"
           }
          ],
          "heatmapgl": [
           {
            "colorbar": {
             "outlinewidth": 0,
             "ticks": ""
            },
            "colorscale": [
             [
              0,
              "#0d0887"
             ],
             [
              0.1111111111111111,
              "#46039f"
             ],
             [
              0.2222222222222222,
              "#7201a8"
             ],
             [
              0.3333333333333333,
              "#9c179e"
             ],
             [
              0.4444444444444444,
              "#bd3786"
             ],
             [
              0.5555555555555556,
              "#d8576b"
             ],
             [
              0.6666666666666666,
              "#ed7953"
             ],
             [
              0.7777777777777778,
              "#fb9f3a"
             ],
             [
              0.8888888888888888,
              "#fdca26"
             ],
             [
              1,
              "#f0f921"
             ]
            ],
            "type": "heatmapgl"
           }
          ],
          "histogram": [
           {
            "marker": {
             "pattern": {
              "fillmode": "overlay",
              "size": 10,
              "solidity": 0.2
             }
            },
            "type": "histogram"
           }
          ],
          "histogram2d": [
           {
            "colorbar": {
             "outlinewidth": 0,
             "ticks": ""
            },
            "colorscale": [
             [
              0,
              "#0d0887"
             ],
             [
              0.1111111111111111,
              "#46039f"
             ],
             [
              0.2222222222222222,
              "#7201a8"
             ],
             [
              0.3333333333333333,
              "#9c179e"
             ],
             [
              0.4444444444444444,
              "#bd3786"
             ],
             [
              0.5555555555555556,
              "#d8576b"
             ],
             [
              0.6666666666666666,
              "#ed7953"
             ],
             [
              0.7777777777777778,
              "#fb9f3a"
             ],
             [
              0.8888888888888888,
              "#fdca26"
             ],
             [
              1,
              "#f0f921"
             ]
            ],
            "type": "histogram2d"
           }
          ],
          "histogram2dcontour": [
           {
            "colorbar": {
             "outlinewidth": 0,
             "ticks": ""
            },
            "colorscale": [
             [
              0,
              "#0d0887"
             ],
             [
              0.1111111111111111,
              "#46039f"
             ],
             [
              0.2222222222222222,
              "#7201a8"
             ],
             [
              0.3333333333333333,
              "#9c179e"
             ],
             [
              0.4444444444444444,
              "#bd3786"
             ],
             [
              0.5555555555555556,
              "#d8576b"
             ],
             [
              0.6666666666666666,
              "#ed7953"
             ],
             [
              0.7777777777777778,
              "#fb9f3a"
             ],
             [
              0.8888888888888888,
              "#fdca26"
             ],
             [
              1,
              "#f0f921"
             ]
            ],
            "type": "histogram2dcontour"
           }
          ],
          "mesh3d": [
           {
            "colorbar": {
             "outlinewidth": 0,
             "ticks": ""
            },
            "type": "mesh3d"
           }
          ],
          "parcoords": [
           {
            "line": {
             "colorbar": {
              "outlinewidth": 0,
              "ticks": ""
             }
            },
            "type": "parcoords"
           }
          ],
          "pie": [
           {
            "automargin": true,
            "type": "pie"
           }
          ],
          "scatter": [
           {
            "fillpattern": {
             "fillmode": "overlay",
             "size": 10,
             "solidity": 0.2
            },
            "type": "scatter"
           }
          ],
          "scatter3d": [
           {
            "line": {
             "colorbar": {
              "outlinewidth": 0,
              "ticks": ""
             }
            },
            "marker": {
             "colorbar": {
              "outlinewidth": 0,
              "ticks": ""
             }
            },
            "type": "scatter3d"
           }
          ],
          "scattercarpet": [
           {
            "marker": {
             "colorbar": {
              "outlinewidth": 0,
              "ticks": ""
             }
            },
            "type": "scattercarpet"
           }
          ],
          "scattergeo": [
           {
            "marker": {
             "colorbar": {
              "outlinewidth": 0,
              "ticks": ""
             }
            },
            "type": "scattergeo"
           }
          ],
          "scattergl": [
           {
            "marker": {
             "colorbar": {
              "outlinewidth": 0,
              "ticks": ""
             }
            },
            "type": "scattergl"
           }
          ],
          "scattermapbox": [
           {
            "marker": {
             "colorbar": {
              "outlinewidth": 0,
              "ticks": ""
             }
            },
            "type": "scattermapbox"
           }
          ],
          "scatterpolar": [
           {
            "marker": {
             "colorbar": {
              "outlinewidth": 0,
              "ticks": ""
             }
            },
            "type": "scatterpolar"
           }
          ],
          "scatterpolargl": [
           {
            "marker": {
             "colorbar": {
              "outlinewidth": 0,
              "ticks": ""
             }
            },
            "type": "scatterpolargl"
           }
          ],
          "scatterternary": [
           {
            "marker": {
             "colorbar": {
              "outlinewidth": 0,
              "ticks": ""
             }
            },
            "type": "scatterternary"
           }
          ],
          "surface": [
           {
            "colorbar": {
             "outlinewidth": 0,
             "ticks": ""
            },
            "colorscale": [
             [
              0,
              "#0d0887"
             ],
             [
              0.1111111111111111,
              "#46039f"
             ],
             [
              0.2222222222222222,
              "#7201a8"
             ],
             [
              0.3333333333333333,
              "#9c179e"
             ],
             [
              0.4444444444444444,
              "#bd3786"
             ],
             [
              0.5555555555555556,
              "#d8576b"
             ],
             [
              0.6666666666666666,
              "#ed7953"
             ],
             [
              0.7777777777777778,
              "#fb9f3a"
             ],
             [
              0.8888888888888888,
              "#fdca26"
             ],
             [
              1,
              "#f0f921"
             ]
            ],
            "type": "surface"
           }
          ],
          "table": [
           {
            "cells": {
             "fill": {
              "color": "#EBF0F8"
             },
             "line": {
              "color": "white"
             }
            },
            "header": {
             "fill": {
              "color": "#C8D4E3"
             },
             "line": {
              "color": "white"
             }
            },
            "type": "table"
           }
          ]
         },
         "layout": {
          "annotationdefaults": {
           "arrowcolor": "#2a3f5f",
           "arrowhead": 0,
           "arrowwidth": 1
          },
          "autotypenumbers": "strict",
          "coloraxis": {
           "colorbar": {
            "outlinewidth": 0,
            "ticks": ""
           }
          },
          "colorscale": {
           "diverging": [
            [
             0,
             "#8e0152"
            ],
            [
             0.1,
             "#c51b7d"
            ],
            [
             0.2,
             "#de77ae"
            ],
            [
             0.3,
             "#f1b6da"
            ],
            [
             0.4,
             "#fde0ef"
            ],
            [
             0.5,
             "#f7f7f7"
            ],
            [
             0.6,
             "#e6f5d0"
            ],
            [
             0.7,
             "#b8e186"
            ],
            [
             0.8,
             "#7fbc41"
            ],
            [
             0.9,
             "#4d9221"
            ],
            [
             1,
             "#276419"
            ]
           ],
           "sequential": [
            [
             0,
             "#0d0887"
            ],
            [
             0.1111111111111111,
             "#46039f"
            ],
            [
             0.2222222222222222,
             "#7201a8"
            ],
            [
             0.3333333333333333,
             "#9c179e"
            ],
            [
             0.4444444444444444,
             "#bd3786"
            ],
            [
             0.5555555555555556,
             "#d8576b"
            ],
            [
             0.6666666666666666,
             "#ed7953"
            ],
            [
             0.7777777777777778,
             "#fb9f3a"
            ],
            [
             0.8888888888888888,
             "#fdca26"
            ],
            [
             1,
             "#f0f921"
            ]
           ],
           "sequentialminus": [
            [
             0,
             "#0d0887"
            ],
            [
             0.1111111111111111,
             "#46039f"
            ],
            [
             0.2222222222222222,
             "#7201a8"
            ],
            [
             0.3333333333333333,
             "#9c179e"
            ],
            [
             0.4444444444444444,
             "#bd3786"
            ],
            [
             0.5555555555555556,
             "#d8576b"
            ],
            [
             0.6666666666666666,
             "#ed7953"
            ],
            [
             0.7777777777777778,
             "#fb9f3a"
            ],
            [
             0.8888888888888888,
             "#fdca26"
            ],
            [
             1,
             "#f0f921"
            ]
           ]
          },
          "colorway": [
           "#636efa",
           "#EF553B",
           "#00cc96",
           "#ab63fa",
           "#FFA15A",
           "#19d3f3",
           "#FF6692",
           "#B6E880",
           "#FF97FF",
           "#FECB52"
          ],
          "font": {
           "color": "#2a3f5f"
          },
          "geo": {
           "bgcolor": "white",
           "lakecolor": "white",
           "landcolor": "#E5ECF6",
           "showlakes": true,
           "showland": true,
           "subunitcolor": "white"
          },
          "hoverlabel": {
           "align": "left"
          },
          "hovermode": "closest",
          "mapbox": {
           "style": "light"
          },
          "paper_bgcolor": "white",
          "plot_bgcolor": "#E5ECF6",
          "polar": {
           "angularaxis": {
            "gridcolor": "white",
            "linecolor": "white",
            "ticks": ""
           },
           "bgcolor": "#E5ECF6",
           "radialaxis": {
            "gridcolor": "white",
            "linecolor": "white",
            "ticks": ""
           }
          },
          "scene": {
           "xaxis": {
            "backgroundcolor": "#E5ECF6",
            "gridcolor": "white",
            "gridwidth": 2,
            "linecolor": "white",
            "showbackground": true,
            "ticks": "",
            "zerolinecolor": "white"
           },
           "yaxis": {
            "backgroundcolor": "#E5ECF6",
            "gridcolor": "white",
            "gridwidth": 2,
            "linecolor": "white",
            "showbackground": true,
            "ticks": "",
            "zerolinecolor": "white"
           },
           "zaxis": {
            "backgroundcolor": "#E5ECF6",
            "gridcolor": "white",
            "gridwidth": 2,
            "linecolor": "white",
            "showbackground": true,
            "ticks": "",
            "zerolinecolor": "white"
           }
          },
          "shapedefaults": {
           "line": {
            "color": "#2a3f5f"
           }
          },
          "ternary": {
           "aaxis": {
            "gridcolor": "white",
            "linecolor": "white",
            "ticks": ""
           },
           "baxis": {
            "gridcolor": "white",
            "linecolor": "white",
            "ticks": ""
           },
           "bgcolor": "#E5ECF6",
           "caxis": {
            "gridcolor": "white",
            "linecolor": "white",
            "ticks": ""
           }
          },
          "title": {
           "x": 0.05
          },
          "xaxis": {
           "automargin": true,
           "gridcolor": "white",
           "linecolor": "white",
           "ticks": "",
           "title": {
            "standoff": 15
           },
           "zerolinecolor": "white",
           "zerolinewidth": 2
          },
          "yaxis": {
           "automargin": true,
           "gridcolor": "white",
           "linecolor": "white",
           "ticks": "",
           "title": {
            "standoff": 15
           },
           "zerolinecolor": "white",
           "zerolinewidth": 2
          }
         }
        },
        "title": {
         "text": "Need Attention"
        }
       }
      }
     },
     "metadata": {},
     "output_type": "display_data"
    },
    {
     "data": {
      "application/vnd.plotly.v1+json": {
       "config": {
        "plotlyServerURL": "https://plot.ly"
       },
       "data": [
        {
         "branchvalues": "total",
         "domain": {
          "x": [
           0,
           1
          ],
          "y": [
           0,
           1
          ]
         },
         "hovertemplate": "labels=%{label}<br>count=%{value}<br>parent=%{parent}<br>id=%{id}<extra></extra>",
         "ids": [
          "Bachelor/Automotive/Baby Boomers",
          "Master/Automotive/Baby Boomers",
          "Bachelor/Education/Baby Boomers",
          "High School/Education/Baby Boomers",
          "Master/Education/Baby Boomers",
          "Bachelor/Finance/Baby Boomers",
          "PhD/Finance/Baby Boomers",
          "Bachelor/Food and Beverage/Baby Boomers",
          "Master/Food and Beverage/Baby Boomers",
          "Bachelor/Furniture/Baby Boomers",
          "Master/Furniture/Baby Boomers",
          "Bachelor/Healthcare/Baby Boomers",
          "High School/Healthcare/Baby Boomers",
          "High School/Hospitality/Baby Boomers",
          "Master/Hospitality/Baby Boomers",
          "Bachelor/IT/Baby Boomers",
          "High School/IT/Baby Boomers",
          "Master/IT/Baby Boomers",
          "PhD/IT/Baby Boomers",
          "Bachelor/Manufacturing/Baby Boomers",
          "Master/Manufacturing/Baby Boomers",
          "PhD/Manufacturing/Baby Boomers",
          "High School/Retail/Baby Boomers",
          "Master/Retail/Baby Boomers",
          "PhD/Retail/Baby Boomers",
          "Bachelor/Textiles and Garments/Baby Boomers",
          "High School/Textiles and Garments/Baby Boomers",
          "Master/Textiles and Garments/Baby Boomers",
          "PhD/Textiles and Garments/Baby Boomers",
          "Master/Tourism/Baby Boomers",
          "Bachelor/Automotive/Gen X",
          "High School/Automotive/Gen X",
          "PhD/Automotive/Gen X",
          "Bachelor/Education/Gen X",
          "PhD/Education/Gen X",
          "Bachelor/Finance/Gen X",
          "High School/Finance/Gen X",
          "High School/Food and Beverage/Gen X",
          "PhD/Food and Beverage/Gen X",
          "Bachelor/Furniture/Gen X",
          "Master/Furniture/Gen X",
          "Bachelor/Healthcare/Gen X",
          "High School/Healthcare/Gen X",
          "PhD/Healthcare/Gen X",
          "Bachelor/Hospitality/Gen X",
          "Master/Hospitality/Gen X",
          "PhD/Hospitality/Gen X",
          "Bachelor/IT/Gen X",
          "Master/IT/Gen X",
          "PhD/IT/Gen X",
          "Master/Manufacturing/Gen X",
          "Bachelor/Retail/Gen X",
          "High School/Retail/Gen X",
          "PhD/Retail/Gen X",
          "Bachelor/Textiles and Garments/Gen X",
          "Master/Textiles and Garments/Gen X",
          "Bachelor/Tourism/Gen X",
          "High School/Tourism/Gen X",
          "Master/Tourism/Gen X",
          "PhD/Tourism/Gen X",
          "PhD/Education/Gen Z",
          "Bachelor/Finance/Gen Z",
          "Master/Finance/Gen Z",
          "High School/Food and Beverage/Gen Z",
          "PhD/Food and Beverage/Gen Z",
          "Bachelor/Hospitality/Gen Z",
          "High School/Hospitality/Gen Z",
          "Master/IT/Gen Z",
          "PhD/Manufacturing/Gen Z",
          "Bachelor/Textiles and Garments/Gen Z",
          "High School/Textiles and Garments/Gen Z",
          "Bachelor/Tourism/Gen Z",
          "Master/Tourism/Gen Z",
          "Bachelor/Automotive/Millennials",
          "High School/Automotive/Millennials",
          "Master/Automotive/Millennials",
          "High School/Education/Millennials",
          "Bachelor/Finance/Millennials",
          "High School/Finance/Millennials",
          "PhD/Finance/Millennials",
          "Bachelor/Food and Beverage/Millennials",
          "PhD/Food and Beverage/Millennials",
          "Master/Furniture/Millennials",
          "PhD/Furniture/Millennials",
          "Master/Healthcare/Millennials",
          "PhD/Healthcare/Millennials",
          "Bachelor/Hospitality/Millennials",
          "High School/Hospitality/Millennials",
          "High School/IT/Millennials",
          "Master/IT/Millennials",
          "Bachelor/Manufacturing/Millennials",
          "PhD/Manufacturing/Millennials",
          "PhD/Retail/Millennials",
          "Bachelor/Textiles and Garments/Millennials",
          "High School/Textiles and Garments/Millennials",
          "Master/Textiles and Garments/Millennials",
          "PhD/Textiles and Garments/Millennials",
          "Bachelor/Tourism/Millennials",
          "High School/Tourism/Millennials",
          "Master/Tourism/Millennials",
          "PhD/Tourism/Millennials",
          "Master/Automotive/Silent Generation",
          "Bachelor/Finance/Silent Generation",
          "High School/Finance/Silent Generation",
          "PhD/Food and Beverage/Silent Generation",
          "Bachelor/Furniture/Silent Generation",
          "PhD/Furniture/Silent Generation",
          "Bachelor/Healthcare/Silent Generation",
          "High School/Healthcare/Silent Generation",
          "PhD/Healthcare/Silent Generation",
          "High School/Hospitality/Silent Generation",
          "Bachelor/Manufacturing/Silent Generation",
          "Bachelor/Automotive",
          "High School/Automotive",
          "Master/Automotive",
          "PhD/Automotive",
          "Bachelor/Education",
          "High School/Education",
          "Master/Education",
          "PhD/Education",
          "Bachelor/Finance",
          "High School/Finance",
          "Master/Finance",
          "PhD/Finance",
          "Bachelor/Food and Beverage",
          "High School/Food and Beverage",
          "Master/Food and Beverage",
          "PhD/Food and Beverage",
          "Bachelor/Furniture",
          "Master/Furniture",
          "PhD/Furniture",
          "Bachelor/Healthcare",
          "High School/Healthcare",
          "Master/Healthcare",
          "PhD/Healthcare",
          "Bachelor/Hospitality",
          "High School/Hospitality",
          "Master/Hospitality",
          "PhD/Hospitality",
          "Bachelor/IT",
          "High School/IT",
          "Master/IT",
          "PhD/IT",
          "Bachelor/Manufacturing",
          "Master/Manufacturing",
          "PhD/Manufacturing",
          "Bachelor/Retail",
          "High School/Retail",
          "Master/Retail",
          "PhD/Retail",
          "Bachelor/Textiles and Garments",
          "High School/Textiles and Garments",
          "Master/Textiles and Garments",
          "PhD/Textiles and Garments",
          "Bachelor/Tourism",
          "High School/Tourism",
          "Master/Tourism",
          "PhD/Tourism",
          "Bachelor",
          "High School",
          "Master",
          "PhD"
         ],
         "labels": [
          "Baby Boomers",
          "Baby Boomers",
          "Baby Boomers",
          "Baby Boomers",
          "Baby Boomers",
          "Baby Boomers",
          "Baby Boomers",
          "Baby Boomers",
          "Baby Boomers",
          "Baby Boomers",
          "Baby Boomers",
          "Baby Boomers",
          "Baby Boomers",
          "Baby Boomers",
          "Baby Boomers",
          "Baby Boomers",
          "Baby Boomers",
          "Baby Boomers",
          "Baby Boomers",
          "Baby Boomers",
          "Baby Boomers",
          "Baby Boomers",
          "Baby Boomers",
          "Baby Boomers",
          "Baby Boomers",
          "Baby Boomers",
          "Baby Boomers",
          "Baby Boomers",
          "Baby Boomers",
          "Baby Boomers",
          "Gen X",
          "Gen X",
          "Gen X",
          "Gen X",
          "Gen X",
          "Gen X",
          "Gen X",
          "Gen X",
          "Gen X",
          "Gen X",
          "Gen X",
          "Gen X",
          "Gen X",
          "Gen X",
          "Gen X",
          "Gen X",
          "Gen X",
          "Gen X",
          "Gen X",
          "Gen X",
          "Gen X",
          "Gen X",
          "Gen X",
          "Gen X",
          "Gen X",
          "Gen X",
          "Gen X",
          "Gen X",
          "Gen X",
          "Gen X",
          "Gen Z",
          "Gen Z",
          "Gen Z",
          "Gen Z",
          "Gen Z",
          "Gen Z",
          "Gen Z",
          "Gen Z",
          "Gen Z",
          "Gen Z",
          "Gen Z",
          "Gen Z",
          "Gen Z",
          "Millennials",
          "Millennials",
          "Millennials",
          "Millennials",
          "Millennials",
          "Millennials",
          "Millennials",
          "Millennials",
          "Millennials",
          "Millennials",
          "Millennials",
          "Millennials",
          "Millennials",
          "Millennials",
          "Millennials",
          "Millennials",
          "Millennials",
          "Millennials",
          "Millennials",
          "Millennials",
          "Millennials",
          "Millennials",
          "Millennials",
          "Millennials",
          "Millennials",
          "Millennials",
          "Millennials",
          "Millennials",
          "Silent Generation",
          "Silent Generation",
          "Silent Generation",
          "Silent Generation",
          "Silent Generation",
          "Silent Generation",
          "Silent Generation",
          "Silent Generation",
          "Silent Generation",
          "Silent Generation",
          "Silent Generation",
          "Automotive",
          "Automotive",
          "Automotive",
          "Automotive",
          "Education",
          "Education",
          "Education",
          "Education",
          "Finance",
          "Finance",
          "Finance",
          "Finance",
          "Food and Beverage",
          "Food and Beverage",
          "Food and Beverage",
          "Food and Beverage",
          "Furniture",
          "Furniture",
          "Furniture",
          "Healthcare",
          "Healthcare",
          "Healthcare",
          "Healthcare",
          "Hospitality",
          "Hospitality",
          "Hospitality",
          "Hospitality",
          "IT",
          "IT",
          "IT",
          "IT",
          "Manufacturing",
          "Manufacturing",
          "Manufacturing",
          "Retail",
          "Retail",
          "Retail",
          "Retail",
          "Textiles and Garments",
          "Textiles and Garments",
          "Textiles and Garments",
          "Textiles and Garments",
          "Tourism",
          "Tourism",
          "Tourism",
          "Tourism",
          "Bachelor",
          "High School",
          "Master",
          "PhD"
         ],
         "name": "",
         "parents": [
          "Bachelor/Automotive",
          "Master/Automotive",
          "Bachelor/Education",
          "High School/Education",
          "Master/Education",
          "Bachelor/Finance",
          "PhD/Finance",
          "Bachelor/Food and Beverage",
          "Master/Food and Beverage",
          "Bachelor/Furniture",
          "Master/Furniture",
          "Bachelor/Healthcare",
          "High School/Healthcare",
          "High School/Hospitality",
          "Master/Hospitality",
          "Bachelor/IT",
          "High School/IT",
          "Master/IT",
          "PhD/IT",
          "Bachelor/Manufacturing",
          "Master/Manufacturing",
          "PhD/Manufacturing",
          "High School/Retail",
          "Master/Retail",
          "PhD/Retail",
          "Bachelor/Textiles and Garments",
          "High School/Textiles and Garments",
          "Master/Textiles and Garments",
          "PhD/Textiles and Garments",
          "Master/Tourism",
          "Bachelor/Automotive",
          "High School/Automotive",
          "PhD/Automotive",
          "Bachelor/Education",
          "PhD/Education",
          "Bachelor/Finance",
          "High School/Finance",
          "High School/Food and Beverage",
          "PhD/Food and Beverage",
          "Bachelor/Furniture",
          "Master/Furniture",
          "Bachelor/Healthcare",
          "High School/Healthcare",
          "PhD/Healthcare",
          "Bachelor/Hospitality",
          "Master/Hospitality",
          "PhD/Hospitality",
          "Bachelor/IT",
          "Master/IT",
          "PhD/IT",
          "Master/Manufacturing",
          "Bachelor/Retail",
          "High School/Retail",
          "PhD/Retail",
          "Bachelor/Textiles and Garments",
          "Master/Textiles and Garments",
          "Bachelor/Tourism",
          "High School/Tourism",
          "Master/Tourism",
          "PhD/Tourism",
          "PhD/Education",
          "Bachelor/Finance",
          "Master/Finance",
          "High School/Food and Beverage",
          "PhD/Food and Beverage",
          "Bachelor/Hospitality",
          "High School/Hospitality",
          "Master/IT",
          "PhD/Manufacturing",
          "Bachelor/Textiles and Garments",
          "High School/Textiles and Garments",
          "Bachelor/Tourism",
          "Master/Tourism",
          "Bachelor/Automotive",
          "High School/Automotive",
          "Master/Automotive",
          "High School/Education",
          "Bachelor/Finance",
          "High School/Finance",
          "PhD/Finance",
          "Bachelor/Food and Beverage",
          "PhD/Food and Beverage",
          "Master/Furniture",
          "PhD/Furniture",
          "Master/Healthcare",
          "PhD/Healthcare",
          "Bachelor/Hospitality",
          "High School/Hospitality",
          "High School/IT",
          "Master/IT",
          "Bachelor/Manufacturing",
          "PhD/Manufacturing",
          "PhD/Retail",
          "Bachelor/Textiles and Garments",
          "High School/Textiles and Garments",
          "Master/Textiles and Garments",
          "PhD/Textiles and Garments",
          "Bachelor/Tourism",
          "High School/Tourism",
          "Master/Tourism",
          "PhD/Tourism",
          "Master/Automotive",
          "Bachelor/Finance",
          "High School/Finance",
          "PhD/Food and Beverage",
          "Bachelor/Furniture",
          "PhD/Furniture",
          "Bachelor/Healthcare",
          "High School/Healthcare",
          "PhD/Healthcare",
          "High School/Hospitality",
          "Bachelor/Manufacturing",
          "Bachelor",
          "High School",
          "Master",
          "PhD",
          "Bachelor",
          "High School",
          "Master",
          "PhD",
          "Bachelor",
          "High School",
          "Master",
          "PhD",
          "Bachelor",
          "High School",
          "Master",
          "PhD",
          "Bachelor",
          "Master",
          "PhD",
          "Bachelor",
          "High School",
          "Master",
          "PhD",
          "Bachelor",
          "High School",
          "Master",
          "PhD",
          "Bachelor",
          "High School",
          "Master",
          "PhD",
          "Bachelor",
          "Master",
          "PhD",
          "Bachelor",
          "High School",
          "Master",
          "PhD",
          "Bachelor",
          "High School",
          "Master",
          "PhD",
          "Bachelor",
          "High School",
          "Master",
          "PhD",
          "",
          "",
          "",
          ""
         ],
         "root": {
          "color": "lightgrey"
         },
         "type": "treemap",
         "values": [
          1,
          1,
          1,
          1,
          2,
          2,
          1,
          1,
          3,
          2,
          3,
          1,
          3,
          2,
          2,
          1,
          2,
          2,
          1,
          1,
          1,
          3,
          2,
          3,
          3,
          2,
          2,
          1,
          1,
          1,
          2,
          1,
          1,
          1,
          1,
          3,
          1,
          2,
          1,
          4,
          1,
          3,
          2,
          1,
          1,
          1,
          5,
          3,
          1,
          1,
          1,
          2,
          1,
          1,
          1,
          1,
          2,
          2,
          1,
          1,
          1,
          1,
          1,
          1,
          1,
          1,
          1,
          1,
          1,
          1,
          1,
          1,
          2,
          3,
          4,
          1,
          1,
          1,
          1,
          1,
          2,
          2,
          2,
          2,
          3,
          2,
          1,
          1,
          5,
          2,
          1,
          2,
          1,
          3,
          1,
          1,
          1,
          3,
          1,
          2,
          1,
          1,
          1,
          2,
          1,
          1,
          1,
          1,
          1,
          2,
          1,
          1,
          6,
          5,
          3,
          1,
          2,
          2,
          2,
          2,
          8,
          4,
          1,
          2,
          3,
          3,
          3,
          5,
          7,
          6,
          3,
          5,
          6,
          3,
          5,
          3,
          5,
          3,
          5,
          4,
          7,
          6,
          2,
          3,
          2,
          6,
          2,
          3,
          3,
          5,
          7,
          4,
          3,
          2,
          6,
          3,
          6,
          2,
          56,
          42,
          41,
          40
         ]
        }
       ],
       "layout": {
        "legend": {
         "tracegroupgap": 0
        },
        "margin": {
         "b": 25,
         "l": 25,
         "r": 25,
         "t": 50
        },
        "template": {
         "data": {
          "bar": [
           {
            "error_x": {
             "color": "#2a3f5f"
            },
            "error_y": {
             "color": "#2a3f5f"
            },
            "marker": {
             "line": {
              "color": "#E5ECF6",
              "width": 0.5
             },
             "pattern": {
              "fillmode": "overlay",
              "size": 10,
              "solidity": 0.2
             }
            },
            "type": "bar"
           }
          ],
          "barpolar": [
           {
            "marker": {
             "line": {
              "color": "#E5ECF6",
              "width": 0.5
             },
             "pattern": {
              "fillmode": "overlay",
              "size": 10,
              "solidity": 0.2
             }
            },
            "type": "barpolar"
           }
          ],
          "carpet": [
           {
            "aaxis": {
             "endlinecolor": "#2a3f5f",
             "gridcolor": "white",
             "linecolor": "white",
             "minorgridcolor": "white",
             "startlinecolor": "#2a3f5f"
            },
            "baxis": {
             "endlinecolor": "#2a3f5f",
             "gridcolor": "white",
             "linecolor": "white",
             "minorgridcolor": "white",
             "startlinecolor": "#2a3f5f"
            },
            "type": "carpet"
           }
          ],
          "choropleth": [
           {
            "colorbar": {
             "outlinewidth": 0,
             "ticks": ""
            },
            "type": "choropleth"
           }
          ],
          "contour": [
           {
            "colorbar": {
             "outlinewidth": 0,
             "ticks": ""
            },
            "colorscale": [
             [
              0,
              "#0d0887"
             ],
             [
              0.1111111111111111,
              "#46039f"
             ],
             [
              0.2222222222222222,
              "#7201a8"
             ],
             [
              0.3333333333333333,
              "#9c179e"
             ],
             [
              0.4444444444444444,
              "#bd3786"
             ],
             [
              0.5555555555555556,
              "#d8576b"
             ],
             [
              0.6666666666666666,
              "#ed7953"
             ],
             [
              0.7777777777777778,
              "#fb9f3a"
             ],
             [
              0.8888888888888888,
              "#fdca26"
             ],
             [
              1,
              "#f0f921"
             ]
            ],
            "type": "contour"
           }
          ],
          "contourcarpet": [
           {
            "colorbar": {
             "outlinewidth": 0,
             "ticks": ""
            },
            "type": "contourcarpet"
           }
          ],
          "heatmap": [
           {
            "colorbar": {
             "outlinewidth": 0,
             "ticks": ""
            },
            "colorscale": [
             [
              0,
              "#0d0887"
             ],
             [
              0.1111111111111111,
              "#46039f"
             ],
             [
              0.2222222222222222,
              "#7201a8"
             ],
             [
              0.3333333333333333,
              "#9c179e"
             ],
             [
              0.4444444444444444,
              "#bd3786"
             ],
             [
              0.5555555555555556,
              "#d8576b"
             ],
             [
              0.6666666666666666,
              "#ed7953"
             ],
             [
              0.7777777777777778,
              "#fb9f3a"
             ],
             [
              0.8888888888888888,
              "#fdca26"
             ],
             [
              1,
              "#f0f921"
             ]
            ],
            "type": "heatmap"
           }
          ],
          "heatmapgl": [
           {
            "colorbar": {
             "outlinewidth": 0,
             "ticks": ""
            },
            "colorscale": [
             [
              0,
              "#0d0887"
             ],
             [
              0.1111111111111111,
              "#46039f"
             ],
             [
              0.2222222222222222,
              "#7201a8"
             ],
             [
              0.3333333333333333,
              "#9c179e"
             ],
             [
              0.4444444444444444,
              "#bd3786"
             ],
             [
              0.5555555555555556,
              "#d8576b"
             ],
             [
              0.6666666666666666,
              "#ed7953"
             ],
             [
              0.7777777777777778,
              "#fb9f3a"
             ],
             [
              0.8888888888888888,
              "#fdca26"
             ],
             [
              1,
              "#f0f921"
             ]
            ],
            "type": "heatmapgl"
           }
          ],
          "histogram": [
           {
            "marker": {
             "pattern": {
              "fillmode": "overlay",
              "size": 10,
              "solidity": 0.2
             }
            },
            "type": "histogram"
           }
          ],
          "histogram2d": [
           {
            "colorbar": {
             "outlinewidth": 0,
             "ticks": ""
            },
            "colorscale": [
             [
              0,
              "#0d0887"
             ],
             [
              0.1111111111111111,
              "#46039f"
             ],
             [
              0.2222222222222222,
              "#7201a8"
             ],
             [
              0.3333333333333333,
              "#9c179e"
             ],
             [
              0.4444444444444444,
              "#bd3786"
             ],
             [
              0.5555555555555556,
              "#d8576b"
             ],
             [
              0.6666666666666666,
              "#ed7953"
             ],
             [
              0.7777777777777778,
              "#fb9f3a"
             ],
             [
              0.8888888888888888,
              "#fdca26"
             ],
             [
              1,
              "#f0f921"
             ]
            ],
            "type": "histogram2d"
           }
          ],
          "histogram2dcontour": [
           {
            "colorbar": {
             "outlinewidth": 0,
             "ticks": ""
            },
            "colorscale": [
             [
              0,
              "#0d0887"
             ],
             [
              0.1111111111111111,
              "#46039f"
             ],
             [
              0.2222222222222222,
              "#7201a8"
             ],
             [
              0.3333333333333333,
              "#9c179e"
             ],
             [
              0.4444444444444444,
              "#bd3786"
             ],
             [
              0.5555555555555556,
              "#d8576b"
             ],
             [
              0.6666666666666666,
              "#ed7953"
             ],
             [
              0.7777777777777778,
              "#fb9f3a"
             ],
             [
              0.8888888888888888,
              "#fdca26"
             ],
             [
              1,
              "#f0f921"
             ]
            ],
            "type": "histogram2dcontour"
           }
          ],
          "mesh3d": [
           {
            "colorbar": {
             "outlinewidth": 0,
             "ticks": ""
            },
            "type": "mesh3d"
           }
          ],
          "parcoords": [
           {
            "line": {
             "colorbar": {
              "outlinewidth": 0,
              "ticks": ""
             }
            },
            "type": "parcoords"
           }
          ],
          "pie": [
           {
            "automargin": true,
            "type": "pie"
           }
          ],
          "scatter": [
           {
            "fillpattern": {
             "fillmode": "overlay",
             "size": 10,
             "solidity": 0.2
            },
            "type": "scatter"
           }
          ],
          "scatter3d": [
           {
            "line": {
             "colorbar": {
              "outlinewidth": 0,
              "ticks": ""
             }
            },
            "marker": {
             "colorbar": {
              "outlinewidth": 0,
              "ticks": ""
             }
            },
            "type": "scatter3d"
           }
          ],
          "scattercarpet": [
           {
            "marker": {
             "colorbar": {
              "outlinewidth": 0,
              "ticks": ""
             }
            },
            "type": "scattercarpet"
           }
          ],
          "scattergeo": [
           {
            "marker": {
             "colorbar": {
              "outlinewidth": 0,
              "ticks": ""
             }
            },
            "type": "scattergeo"
           }
          ],
          "scattergl": [
           {
            "marker": {
             "colorbar": {
              "outlinewidth": 0,
              "ticks": ""
             }
            },
            "type": "scattergl"
           }
          ],
          "scattermapbox": [
           {
            "marker": {
             "colorbar": {
              "outlinewidth": 0,
              "ticks": ""
             }
            },
            "type": "scattermapbox"
           }
          ],
          "scatterpolar": [
           {
            "marker": {
             "colorbar": {
              "outlinewidth": 0,
              "ticks": ""
             }
            },
            "type": "scatterpolar"
           }
          ],
          "scatterpolargl": [
           {
            "marker": {
             "colorbar": {
              "outlinewidth": 0,
              "ticks": ""
             }
            },
            "type": "scatterpolargl"
           }
          ],
          "scatterternary": [
           {
            "marker": {
             "colorbar": {
              "outlinewidth": 0,
              "ticks": ""
             }
            },
            "type": "scatterternary"
           }
          ],
          "surface": [
           {
            "colorbar": {
             "outlinewidth": 0,
             "ticks": ""
            },
            "colorscale": [
             [
              0,
              "#0d0887"
             ],
             [
              0.1111111111111111,
              "#46039f"
             ],
             [
              0.2222222222222222,
              "#7201a8"
             ],
             [
              0.3333333333333333,
              "#9c179e"
             ],
             [
              0.4444444444444444,
              "#bd3786"
             ],
             [
              0.5555555555555556,
              "#d8576b"
             ],
             [
              0.6666666666666666,
              "#ed7953"
             ],
             [
              0.7777777777777778,
              "#fb9f3a"
             ],
             [
              0.8888888888888888,
              "#fdca26"
             ],
             [
              1,
              "#f0f921"
             ]
            ],
            "type": "surface"
           }
          ],
          "table": [
           {
            "cells": {
             "fill": {
              "color": "#EBF0F8"
             },
             "line": {
              "color": "white"
             }
            },
            "header": {
             "fill": {
              "color": "#C8D4E3"
             },
             "line": {
              "color": "white"
             }
            },
            "type": "table"
           }
          ]
         },
         "layout": {
          "annotationdefaults": {
           "arrowcolor": "#2a3f5f",
           "arrowhead": 0,
           "arrowwidth": 1
          },
          "autotypenumbers": "strict",
          "coloraxis": {
           "colorbar": {
            "outlinewidth": 0,
            "ticks": ""
           }
          },
          "colorscale": {
           "diverging": [
            [
             0,
             "#8e0152"
            ],
            [
             0.1,
             "#c51b7d"
            ],
            [
             0.2,
             "#de77ae"
            ],
            [
             0.3,
             "#f1b6da"
            ],
            [
             0.4,
             "#fde0ef"
            ],
            [
             0.5,
             "#f7f7f7"
            ],
            [
             0.6,
             "#e6f5d0"
            ],
            [
             0.7,
             "#b8e186"
            ],
            [
             0.8,
             "#7fbc41"
            ],
            [
             0.9,
             "#4d9221"
            ],
            [
             1,
             "#276419"
            ]
           ],
           "sequential": [
            [
             0,
             "#0d0887"
            ],
            [
             0.1111111111111111,
             "#46039f"
            ],
            [
             0.2222222222222222,
             "#7201a8"
            ],
            [
             0.3333333333333333,
             "#9c179e"
            ],
            [
             0.4444444444444444,
             "#bd3786"
            ],
            [
             0.5555555555555556,
             "#d8576b"
            ],
            [
             0.6666666666666666,
             "#ed7953"
            ],
            [
             0.7777777777777778,
             "#fb9f3a"
            ],
            [
             0.8888888888888888,
             "#fdca26"
            ],
            [
             1,
             "#f0f921"
            ]
           ],
           "sequentialminus": [
            [
             0,
             "#0d0887"
            ],
            [
             0.1111111111111111,
             "#46039f"
            ],
            [
             0.2222222222222222,
             "#7201a8"
            ],
            [
             0.3333333333333333,
             "#9c179e"
            ],
            [
             0.4444444444444444,
             "#bd3786"
            ],
            [
             0.5555555555555556,
             "#d8576b"
            ],
            [
             0.6666666666666666,
             "#ed7953"
            ],
            [
             0.7777777777777778,
             "#fb9f3a"
            ],
            [
             0.8888888888888888,
             "#fdca26"
            ],
            [
             1,
             "#f0f921"
            ]
           ]
          },
          "colorway": [
           "#636efa",
           "#EF553B",
           "#00cc96",
           "#ab63fa",
           "#FFA15A",
           "#19d3f3",
           "#FF6692",
           "#B6E880",
           "#FF97FF",
           "#FECB52"
          ],
          "font": {
           "color": "#2a3f5f"
          },
          "geo": {
           "bgcolor": "white",
           "lakecolor": "white",
           "landcolor": "#E5ECF6",
           "showlakes": true,
           "showland": true,
           "subunitcolor": "white"
          },
          "hoverlabel": {
           "align": "left"
          },
          "hovermode": "closest",
          "mapbox": {
           "style": "light"
          },
          "paper_bgcolor": "white",
          "plot_bgcolor": "#E5ECF6",
          "polar": {
           "angularaxis": {
            "gridcolor": "white",
            "linecolor": "white",
            "ticks": ""
           },
           "bgcolor": "#E5ECF6",
           "radialaxis": {
            "gridcolor": "white",
            "linecolor": "white",
            "ticks": ""
           }
          },
          "scene": {
           "xaxis": {
            "backgroundcolor": "#E5ECF6",
            "gridcolor": "white",
            "gridwidth": 2,
            "linecolor": "white",
            "showbackground": true,
            "ticks": "",
            "zerolinecolor": "white"
           },
           "yaxis": {
            "backgroundcolor": "#E5ECF6",
            "gridcolor": "white",
            "gridwidth": 2,
            "linecolor": "white",
            "showbackground": true,
            "ticks": "",
            "zerolinecolor": "white"
           },
           "zaxis": {
            "backgroundcolor": "#E5ECF6",
            "gridcolor": "white",
            "gridwidth": 2,
            "linecolor": "white",
            "showbackground": true,
            "ticks": "",
            "zerolinecolor": "white"
           }
          },
          "shapedefaults": {
           "line": {
            "color": "#2a3f5f"
           }
          },
          "ternary": {
           "aaxis": {
            "gridcolor": "white",
            "linecolor": "white",
            "ticks": ""
           },
           "baxis": {
            "gridcolor": "white",
            "linecolor": "white",
            "ticks": ""
           },
           "bgcolor": "#E5ECF6",
           "caxis": {
            "gridcolor": "white",
            "linecolor": "white",
            "ticks": ""
           }
          },
          "title": {
           "x": 0.05
          },
          "xaxis": {
           "automargin": true,
           "gridcolor": "white",
           "linecolor": "white",
           "ticks": "",
           "title": {
            "standoff": 15
           },
           "zerolinecolor": "white",
           "zerolinewidth": 2
          },
          "yaxis": {
           "automargin": true,
           "gridcolor": "white",
           "linecolor": "white",
           "ticks": "",
           "title": {
            "standoff": 15
           },
           "zerolinecolor": "white",
           "zerolinewidth": 2
          }
         }
        },
        "title": {
         "text": "Potentially Loyal"
        }
       }
      }
     },
     "metadata": {},
     "output_type": "display_data"
    },
    {
     "data": {
      "application/vnd.plotly.v1+json": {
       "config": {
        "plotlyServerURL": "https://plot.ly"
       },
       "data": [
        {
         "branchvalues": "total",
         "domain": {
          "x": [
           0,
           1
          ],
          "y": [
           0,
           1
          ]
         },
         "hovertemplate": "labels=%{label}<br>count=%{value}<br>parent=%{parent}<br>id=%{id}<extra></extra>",
         "ids": [
          "AK",
          "AL",
          "AR",
          "AZ",
          "CA",
          "CO",
          "CT",
          "DC",
          "DE",
          "FL",
          "GA",
          "HI",
          "IA",
          "ID",
          "IL",
          "IN",
          "KS",
          "KY",
          "LA",
          "MA",
          "MD",
          "ME",
          "MI",
          "MN",
          "MO",
          "MS",
          "MT",
          "NC",
          "ND",
          "NE",
          "NH",
          "NJ",
          "NM",
          "NV",
          "NY",
          "OH",
          "OK",
          "OR",
          "PA",
          "RI",
          "SC",
          "SD",
          "TN",
          "TX",
          "UT",
          "VA",
          "VT",
          "WA",
          "WI",
          "WV",
          "WY"
         ],
         "labels": [
          "AK",
          "AL",
          "AR",
          "AZ",
          "CA",
          "CO",
          "CT",
          "DC",
          "DE",
          "FL",
          "GA",
          "HI",
          "IA",
          "ID",
          "IL",
          "IN",
          "KS",
          "KY",
          "LA",
          "MA",
          "MD",
          "ME",
          "MI",
          "MN",
          "MO",
          "MS",
          "MT",
          "NC",
          "ND",
          "NE",
          "NH",
          "NJ",
          "NM",
          "NV",
          "NY",
          "OH",
          "OK",
          "OR",
          "PA",
          "RI",
          "SC",
          "SD",
          "TN",
          "TX",
          "UT",
          "VA",
          "VT",
          "WA",
          "WI",
          "WV",
          "WY"
         ],
         "name": "",
         "parents": [
          "",
          "",
          "",
          "",
          "",
          "",
          "",
          "",
          "",
          "",
          "",
          "",
          "",
          "",
          "",
          "",
          "",
          "",
          "",
          "",
          "",
          "",
          "",
          "",
          "",
          "",
          "",
          "",
          "",
          "",
          "",
          "",
          "",
          "",
          "",
          "",
          "",
          "",
          "",
          "",
          "",
          "",
          "",
          "",
          "",
          "",
          "",
          "",
          "",
          "",
          ""
         ],
         "root": {
          "color": "lightgrey"
         },
         "type": "treemap",
         "values": [
          11,
          7,
          10,
          8,
          6,
          6,
          11,
          8,
          8,
          18,
          15,
          9,
          5,
          10,
          13,
          9,
          9,
          6,
          6,
          13,
          10,
          13,
          7,
          10,
          7,
          9,
          8,
          8,
          4,
          13,
          7,
          9,
          7,
          7,
          6,
          8,
          8,
          6,
          6,
          7,
          8,
          4,
          8,
          10,
          9,
          8,
          9,
          12,
          7,
          10,
          12
         ]
        }
       ],
       "layout": {
        "legend": {
         "tracegroupgap": 0
        },
        "margin": {
         "b": 25,
         "l": 25,
         "r": 25,
         "t": 50
        },
        "template": {
         "data": {
          "bar": [
           {
            "error_x": {
             "color": "#2a3f5f"
            },
            "error_y": {
             "color": "#2a3f5f"
            },
            "marker": {
             "line": {
              "color": "#E5ECF6",
              "width": 0.5
             },
             "pattern": {
              "fillmode": "overlay",
              "size": 10,
              "solidity": 0.2
             }
            },
            "type": "bar"
           }
          ],
          "barpolar": [
           {
            "marker": {
             "line": {
              "color": "#E5ECF6",
              "width": 0.5
             },
             "pattern": {
              "fillmode": "overlay",
              "size": 10,
              "solidity": 0.2
             }
            },
            "type": "barpolar"
           }
          ],
          "carpet": [
           {
            "aaxis": {
             "endlinecolor": "#2a3f5f",
             "gridcolor": "white",
             "linecolor": "white",
             "minorgridcolor": "white",
             "startlinecolor": "#2a3f5f"
            },
            "baxis": {
             "endlinecolor": "#2a3f5f",
             "gridcolor": "white",
             "linecolor": "white",
             "minorgridcolor": "white",
             "startlinecolor": "#2a3f5f"
            },
            "type": "carpet"
           }
          ],
          "choropleth": [
           {
            "colorbar": {
             "outlinewidth": 0,
             "ticks": ""
            },
            "type": "choropleth"
           }
          ],
          "contour": [
           {
            "colorbar": {
             "outlinewidth": 0,
             "ticks": ""
            },
            "colorscale": [
             [
              0,
              "#0d0887"
             ],
             [
              0.1111111111111111,
              "#46039f"
             ],
             [
              0.2222222222222222,
              "#7201a8"
             ],
             [
              0.3333333333333333,
              "#9c179e"
             ],
             [
              0.4444444444444444,
              "#bd3786"
             ],
             [
              0.5555555555555556,
              "#d8576b"
             ],
             [
              0.6666666666666666,
              "#ed7953"
             ],
             [
              0.7777777777777778,
              "#fb9f3a"
             ],
             [
              0.8888888888888888,
              "#fdca26"
             ],
             [
              1,
              "#f0f921"
             ]
            ],
            "type": "contour"
           }
          ],
          "contourcarpet": [
           {
            "colorbar": {
             "outlinewidth": 0,
             "ticks": ""
            },
            "type": "contourcarpet"
           }
          ],
          "heatmap": [
           {
            "colorbar": {
             "outlinewidth": 0,
             "ticks": ""
            },
            "colorscale": [
             [
              0,
              "#0d0887"
             ],
             [
              0.1111111111111111,
              "#46039f"
             ],
             [
              0.2222222222222222,
              "#7201a8"
             ],
             [
              0.3333333333333333,
              "#9c179e"
             ],
             [
              0.4444444444444444,
              "#bd3786"
             ],
             [
              0.5555555555555556,
              "#d8576b"
             ],
             [
              0.6666666666666666,
              "#ed7953"
             ],
             [
              0.7777777777777778,
              "#fb9f3a"
             ],
             [
              0.8888888888888888,
              "#fdca26"
             ],
             [
              1,
              "#f0f921"
             ]
            ],
            "type": "heatmap"
           }
          ],
          "heatmapgl": [
           {
            "colorbar": {
             "outlinewidth": 0,
             "ticks": ""
            },
            "colorscale": [
             [
              0,
              "#0d0887"
             ],
             [
              0.1111111111111111,
              "#46039f"
             ],
             [
              0.2222222222222222,
              "#7201a8"
             ],
             [
              0.3333333333333333,
              "#9c179e"
             ],
             [
              0.4444444444444444,
              "#bd3786"
             ],
             [
              0.5555555555555556,
              "#d8576b"
             ],
             [
              0.6666666666666666,
              "#ed7953"
             ],
             [
              0.7777777777777778,
              "#fb9f3a"
             ],
             [
              0.8888888888888888,
              "#fdca26"
             ],
             [
              1,
              "#f0f921"
             ]
            ],
            "type": "heatmapgl"
           }
          ],
          "histogram": [
           {
            "marker": {
             "pattern": {
              "fillmode": "overlay",
              "size": 10,
              "solidity": 0.2
             }
            },
            "type": "histogram"
           }
          ],
          "histogram2d": [
           {
            "colorbar": {
             "outlinewidth": 0,
             "ticks": ""
            },
            "colorscale": [
             [
              0,
              "#0d0887"
             ],
             [
              0.1111111111111111,
              "#46039f"
             ],
             [
              0.2222222222222222,
              "#7201a8"
             ],
             [
              0.3333333333333333,
              "#9c179e"
             ],
             [
              0.4444444444444444,
              "#bd3786"
             ],
             [
              0.5555555555555556,
              "#d8576b"
             ],
             [
              0.6666666666666666,
              "#ed7953"
             ],
             [
              0.7777777777777778,
              "#fb9f3a"
             ],
             [
              0.8888888888888888,
              "#fdca26"
             ],
             [
              1,
              "#f0f921"
             ]
            ],
            "type": "histogram2d"
           }
          ],
          "histogram2dcontour": [
           {
            "colorbar": {
             "outlinewidth": 0,
             "ticks": ""
            },
            "colorscale": [
             [
              0,
              "#0d0887"
             ],
             [
              0.1111111111111111,
              "#46039f"
             ],
             [
              0.2222222222222222,
              "#7201a8"
             ],
             [
              0.3333333333333333,
              "#9c179e"
             ],
             [
              0.4444444444444444,
              "#bd3786"
             ],
             [
              0.5555555555555556,
              "#d8576b"
             ],
             [
              0.6666666666666666,
              "#ed7953"
             ],
             [
              0.7777777777777778,
              "#fb9f3a"
             ],
             [
              0.8888888888888888,
              "#fdca26"
             ],
             [
              1,
              "#f0f921"
             ]
            ],
            "type": "histogram2dcontour"
           }
          ],
          "mesh3d": [
           {
            "colorbar": {
             "outlinewidth": 0,
             "ticks": ""
            },
            "type": "mesh3d"
           }
          ],
          "parcoords": [
           {
            "line": {
             "colorbar": {
              "outlinewidth": 0,
              "ticks": ""
             }
            },
            "type": "parcoords"
           }
          ],
          "pie": [
           {
            "automargin": true,
            "type": "pie"
           }
          ],
          "scatter": [
           {
            "fillpattern": {
             "fillmode": "overlay",
             "size": 10,
             "solidity": 0.2
            },
            "type": "scatter"
           }
          ],
          "scatter3d": [
           {
            "line": {
             "colorbar": {
              "outlinewidth": 0,
              "ticks": ""
             }
            },
            "marker": {
             "colorbar": {
              "outlinewidth": 0,
              "ticks": ""
             }
            },
            "type": "scatter3d"
           }
          ],
          "scattercarpet": [
           {
            "marker": {
             "colorbar": {
              "outlinewidth": 0,
              "ticks": ""
             }
            },
            "type": "scattercarpet"
           }
          ],
          "scattergeo": [
           {
            "marker": {
             "colorbar": {
              "outlinewidth": 0,
              "ticks": ""
             }
            },
            "type": "scattergeo"
           }
          ],
          "scattergl": [
           {
            "marker": {
             "colorbar": {
              "outlinewidth": 0,
              "ticks": ""
             }
            },
            "type": "scattergl"
           }
          ],
          "scattermapbox": [
           {
            "marker": {
             "colorbar": {
              "outlinewidth": 0,
              "ticks": ""
             }
            },
            "type": "scattermapbox"
           }
          ],
          "scatterpolar": [
           {
            "marker": {
             "colorbar": {
              "outlinewidth": 0,
              "ticks": ""
             }
            },
            "type": "scatterpolar"
           }
          ],
          "scatterpolargl": [
           {
            "marker": {
             "colorbar": {
              "outlinewidth": 0,
              "ticks": ""
             }
            },
            "type": "scatterpolargl"
           }
          ],
          "scatterternary": [
           {
            "marker": {
             "colorbar": {
              "outlinewidth": 0,
              "ticks": ""
             }
            },
            "type": "scatterternary"
           }
          ],
          "surface": [
           {
            "colorbar": {
             "outlinewidth": 0,
             "ticks": ""
            },
            "colorscale": [
             [
              0,
              "#0d0887"
             ],
             [
              0.1111111111111111,
              "#46039f"
             ],
             [
              0.2222222222222222,
              "#7201a8"
             ],
             [
              0.3333333333333333,
              "#9c179e"
             ],
             [
              0.4444444444444444,
              "#bd3786"
             ],
             [
              0.5555555555555556,
              "#d8576b"
             ],
             [
              0.6666666666666666,
              "#ed7953"
             ],
             [
              0.7777777777777778,
              "#fb9f3a"
             ],
             [
              0.8888888888888888,
              "#fdca26"
             ],
             [
              1,
              "#f0f921"
             ]
            ],
            "type": "surface"
           }
          ],
          "table": [
           {
            "cells": {
             "fill": {
              "color": "#EBF0F8"
             },
             "line": {
              "color": "white"
             }
            },
            "header": {
             "fill": {
              "color": "#C8D4E3"
             },
             "line": {
              "color": "white"
             }
            },
            "type": "table"
           }
          ]
         },
         "layout": {
          "annotationdefaults": {
           "arrowcolor": "#2a3f5f",
           "arrowhead": 0,
           "arrowwidth": 1
          },
          "autotypenumbers": "strict",
          "coloraxis": {
           "colorbar": {
            "outlinewidth": 0,
            "ticks": ""
           }
          },
          "colorscale": {
           "diverging": [
            [
             0,
             "#8e0152"
            ],
            [
             0.1,
             "#c51b7d"
            ],
            [
             0.2,
             "#de77ae"
            ],
            [
             0.3,
             "#f1b6da"
            ],
            [
             0.4,
             "#fde0ef"
            ],
            [
             0.5,
             "#f7f7f7"
            ],
            [
             0.6,
             "#e6f5d0"
            ],
            [
             0.7,
             "#b8e186"
            ],
            [
             0.8,
             "#7fbc41"
            ],
            [
             0.9,
             "#4d9221"
            ],
            [
             1,
             "#276419"
            ]
           ],
           "sequential": [
            [
             0,
             "#0d0887"
            ],
            [
             0.1111111111111111,
             "#46039f"
            ],
            [
             0.2222222222222222,
             "#7201a8"
            ],
            [
             0.3333333333333333,
             "#9c179e"
            ],
            [
             0.4444444444444444,
             "#bd3786"
            ],
            [
             0.5555555555555556,
             "#d8576b"
            ],
            [
             0.6666666666666666,
             "#ed7953"
            ],
            [
             0.7777777777777778,
             "#fb9f3a"
            ],
            [
             0.8888888888888888,
             "#fdca26"
            ],
            [
             1,
             "#f0f921"
            ]
           ],
           "sequentialminus": [
            [
             0,
             "#0d0887"
            ],
            [
             0.1111111111111111,
             "#46039f"
            ],
            [
             0.2222222222222222,
             "#7201a8"
            ],
            [
             0.3333333333333333,
             "#9c179e"
            ],
            [
             0.4444444444444444,
             "#bd3786"
            ],
            [
             0.5555555555555556,
             "#d8576b"
            ],
            [
             0.6666666666666666,
             "#ed7953"
            ],
            [
             0.7777777777777778,
             "#fb9f3a"
            ],
            [
             0.8888888888888888,
             "#fdca26"
            ],
            [
             1,
             "#f0f921"
            ]
           ]
          },
          "colorway": [
           "#636efa",
           "#EF553B",
           "#00cc96",
           "#ab63fa",
           "#FFA15A",
           "#19d3f3",
           "#FF6692",
           "#B6E880",
           "#FF97FF",
           "#FECB52"
          ],
          "font": {
           "color": "#2a3f5f"
          },
          "geo": {
           "bgcolor": "white",
           "lakecolor": "white",
           "landcolor": "#E5ECF6",
           "showlakes": true,
           "showland": true,
           "subunitcolor": "white"
          },
          "hoverlabel": {
           "align": "left"
          },
          "hovermode": "closest",
          "mapbox": {
           "style": "light"
          },
          "paper_bgcolor": "white",
          "plot_bgcolor": "#E5ECF6",
          "polar": {
           "angularaxis": {
            "gridcolor": "white",
            "linecolor": "white",
            "ticks": ""
           },
           "bgcolor": "#E5ECF6",
           "radialaxis": {
            "gridcolor": "white",
            "linecolor": "white",
            "ticks": ""
           }
          },
          "scene": {
           "xaxis": {
            "backgroundcolor": "#E5ECF6",
            "gridcolor": "white",
            "gridwidth": 2,
            "linecolor": "white",
            "showbackground": true,
            "ticks": "",
            "zerolinecolor": "white"
           },
           "yaxis": {
            "backgroundcolor": "#E5ECF6",
            "gridcolor": "white",
            "gridwidth": 2,
            "linecolor": "white",
            "showbackground": true,
            "ticks": "",
            "zerolinecolor": "white"
           },
           "zaxis": {
            "backgroundcolor": "#E5ECF6",
            "gridcolor": "white",
            "gridwidth": 2,
            "linecolor": "white",
            "showbackground": true,
            "ticks": "",
            "zerolinecolor": "white"
           }
          },
          "shapedefaults": {
           "line": {
            "color": "#2a3f5f"
           }
          },
          "ternary": {
           "aaxis": {
            "gridcolor": "white",
            "linecolor": "white",
            "ticks": ""
           },
           "baxis": {
            "gridcolor": "white",
            "linecolor": "white",
            "ticks": ""
           },
           "bgcolor": "#E5ECF6",
           "caxis": {
            "gridcolor": "white",
            "linecolor": "white",
            "ticks": ""
           }
          },
          "title": {
           "x": 0.05
          },
          "xaxis": {
           "automargin": true,
           "gridcolor": "white",
           "linecolor": "white",
           "ticks": "",
           "title": {
            "standoff": 15
           },
           "zerolinecolor": "white",
           "zerolinewidth": 2
          },
          "yaxis": {
           "automargin": true,
           "gridcolor": "white",
           "linecolor": "white",
           "ticks": "",
           "title": {
            "standoff": 15
           },
           "zerolinecolor": "white",
           "zerolinewidth": 2
          }
         }
        },
        "title": {
         "text": "Churned Folk"
        }
       }
      }
     },
     "metadata": {},
     "output_type": "display_data"
    },
    {
     "data": {
      "application/vnd.plotly.v1+json": {
       "config": {
        "plotlyServerURL": "https://plot.ly"
       },
       "data": [
        {
         "branchvalues": "total",
         "domain": {
          "x": [
           0,
           1
          ],
          "y": [
           0,
           1
          ]
         },
         "hovertemplate": "labels=%{label}<br>count=%{value}<br>parent=%{parent}<br>id=%{id}<extra></extra>",
         "ids": [
          "AK",
          "AL",
          "AR",
          "AZ",
          "CA",
          "CO",
          "CT",
          "DC",
          "DE",
          "FL",
          "GA",
          "HI",
          "IA",
          "ID",
          "IL",
          "IN",
          "KS",
          "KY",
          "LA",
          "MA",
          "MD",
          "ME",
          "MI",
          "MN",
          "MO",
          "MS",
          "MT",
          "NC",
          "ND",
          "NE",
          "NH",
          "NJ",
          "NM",
          "NV",
          "NY",
          "OH",
          "OK",
          "OR",
          "PA",
          "RI",
          "SC",
          "SD",
          "TN",
          "TX",
          "UT",
          "VA",
          "VT",
          "WA",
          "WI",
          "WV",
          "WY"
         ],
         "labels": [
          "AK",
          "AL",
          "AR",
          "AZ",
          "CA",
          "CO",
          "CT",
          "DC",
          "DE",
          "FL",
          "GA",
          "HI",
          "IA",
          "ID",
          "IL",
          "IN",
          "KS",
          "KY",
          "LA",
          "MA",
          "MD",
          "ME",
          "MI",
          "MN",
          "MO",
          "MS",
          "MT",
          "NC",
          "ND",
          "NE",
          "NH",
          "NJ",
          "NM",
          "NV",
          "NY",
          "OH",
          "OK",
          "OR",
          "PA",
          "RI",
          "SC",
          "SD",
          "TN",
          "TX",
          "UT",
          "VA",
          "VT",
          "WA",
          "WI",
          "WV",
          "WY"
         ],
         "name": "",
         "parents": [
          "",
          "",
          "",
          "",
          "",
          "",
          "",
          "",
          "",
          "",
          "",
          "",
          "",
          "",
          "",
          "",
          "",
          "",
          "",
          "",
          "",
          "",
          "",
          "",
          "",
          "",
          "",
          "",
          "",
          "",
          "",
          "",
          "",
          "",
          "",
          "",
          "",
          "",
          "",
          "",
          "",
          "",
          "",
          "",
          "",
          "",
          "",
          "",
          "",
          "",
          ""
         ],
         "root": {
          "color": "lightgrey"
         },
         "type": "treemap",
         "values": [
          5,
          7,
          3,
          6,
          7,
          6,
          9,
          7,
          3,
          10,
          9,
          9,
          8,
          8,
          6,
          7,
          3,
          7,
          6,
          7,
          3,
          2,
          4,
          4,
          9,
          10,
          6,
          10,
          3,
          6,
          8,
          10,
          6,
          10,
          2,
          5,
          7,
          4,
          8,
          6,
          8,
          5,
          10,
          6,
          6,
          4,
          8,
          6,
          8,
          8,
          12
         ]
        }
       ],
       "layout": {
        "legend": {
         "tracegroupgap": 0
        },
        "margin": {
         "b": 25,
         "l": 25,
         "r": 25,
         "t": 50
        },
        "template": {
         "data": {
          "bar": [
           {
            "error_x": {
             "color": "#2a3f5f"
            },
            "error_y": {
             "color": "#2a3f5f"
            },
            "marker": {
             "line": {
              "color": "#E5ECF6",
              "width": 0.5
             },
             "pattern": {
              "fillmode": "overlay",
              "size": 10,
              "solidity": 0.2
             }
            },
            "type": "bar"
           }
          ],
          "barpolar": [
           {
            "marker": {
             "line": {
              "color": "#E5ECF6",
              "width": 0.5
             },
             "pattern": {
              "fillmode": "overlay",
              "size": 10,
              "solidity": 0.2
             }
            },
            "type": "barpolar"
           }
          ],
          "carpet": [
           {
            "aaxis": {
             "endlinecolor": "#2a3f5f",
             "gridcolor": "white",
             "linecolor": "white",
             "minorgridcolor": "white",
             "startlinecolor": "#2a3f5f"
            },
            "baxis": {
             "endlinecolor": "#2a3f5f",
             "gridcolor": "white",
             "linecolor": "white",
             "minorgridcolor": "white",
             "startlinecolor": "#2a3f5f"
            },
            "type": "carpet"
           }
          ],
          "choropleth": [
           {
            "colorbar": {
             "outlinewidth": 0,
             "ticks": ""
            },
            "type": "choropleth"
           }
          ],
          "contour": [
           {
            "colorbar": {
             "outlinewidth": 0,
             "ticks": ""
            },
            "colorscale": [
             [
              0,
              "#0d0887"
             ],
             [
              0.1111111111111111,
              "#46039f"
             ],
             [
              0.2222222222222222,
              "#7201a8"
             ],
             [
              0.3333333333333333,
              "#9c179e"
             ],
             [
              0.4444444444444444,
              "#bd3786"
             ],
             [
              0.5555555555555556,
              "#d8576b"
             ],
             [
              0.6666666666666666,
              "#ed7953"
             ],
             [
              0.7777777777777778,
              "#fb9f3a"
             ],
             [
              0.8888888888888888,
              "#fdca26"
             ],
             [
              1,
              "#f0f921"
             ]
            ],
            "type": "contour"
           }
          ],
          "contourcarpet": [
           {
            "colorbar": {
             "outlinewidth": 0,
             "ticks": ""
            },
            "type": "contourcarpet"
           }
          ],
          "heatmap": [
           {
            "colorbar": {
             "outlinewidth": 0,
             "ticks": ""
            },
            "colorscale": [
             [
              0,
              "#0d0887"
             ],
             [
              0.1111111111111111,
              "#46039f"
             ],
             [
              0.2222222222222222,
              "#7201a8"
             ],
             [
              0.3333333333333333,
              "#9c179e"
             ],
             [
              0.4444444444444444,
              "#bd3786"
             ],
             [
              0.5555555555555556,
              "#d8576b"
             ],
             [
              0.6666666666666666,
              "#ed7953"
             ],
             [
              0.7777777777777778,
              "#fb9f3a"
             ],
             [
              0.8888888888888888,
              "#fdca26"
             ],
             [
              1,
              "#f0f921"
             ]
            ],
            "type": "heatmap"
           }
          ],
          "heatmapgl": [
           {
            "colorbar": {
             "outlinewidth": 0,
             "ticks": ""
            },
            "colorscale": [
             [
              0,
              "#0d0887"
             ],
             [
              0.1111111111111111,
              "#46039f"
             ],
             [
              0.2222222222222222,
              "#7201a8"
             ],
             [
              0.3333333333333333,
              "#9c179e"
             ],
             [
              0.4444444444444444,
              "#bd3786"
             ],
             [
              0.5555555555555556,
              "#d8576b"
             ],
             [
              0.6666666666666666,
              "#ed7953"
             ],
             [
              0.7777777777777778,
              "#fb9f3a"
             ],
             [
              0.8888888888888888,
              "#fdca26"
             ],
             [
              1,
              "#f0f921"
             ]
            ],
            "type": "heatmapgl"
           }
          ],
          "histogram": [
           {
            "marker": {
             "pattern": {
              "fillmode": "overlay",
              "size": 10,
              "solidity": 0.2
             }
            },
            "type": "histogram"
           }
          ],
          "histogram2d": [
           {
            "colorbar": {
             "outlinewidth": 0,
             "ticks": ""
            },
            "colorscale": [
             [
              0,
              "#0d0887"
             ],
             [
              0.1111111111111111,
              "#46039f"
             ],
             [
              0.2222222222222222,
              "#7201a8"
             ],
             [
              0.3333333333333333,
              "#9c179e"
             ],
             [
              0.4444444444444444,
              "#bd3786"
             ],
             [
              0.5555555555555556,
              "#d8576b"
             ],
             [
              0.6666666666666666,
              "#ed7953"
             ],
             [
              0.7777777777777778,
              "#fb9f3a"
             ],
             [
              0.8888888888888888,
              "#fdca26"
             ],
             [
              1,
              "#f0f921"
             ]
            ],
            "type": "histogram2d"
           }
          ],
          "histogram2dcontour": [
           {
            "colorbar": {
             "outlinewidth": 0,
             "ticks": ""
            },
            "colorscale": [
             [
              0,
              "#0d0887"
             ],
             [
              0.1111111111111111,
              "#46039f"
             ],
             [
              0.2222222222222222,
              "#7201a8"
             ],
             [
              0.3333333333333333,
              "#9c179e"
             ],
             [
              0.4444444444444444,
              "#bd3786"
             ],
             [
              0.5555555555555556,
              "#d8576b"
             ],
             [
              0.6666666666666666,
              "#ed7953"
             ],
             [
              0.7777777777777778,
              "#fb9f3a"
             ],
             [
              0.8888888888888888,
              "#fdca26"
             ],
             [
              1,
              "#f0f921"
             ]
            ],
            "type": "histogram2dcontour"
           }
          ],
          "mesh3d": [
           {
            "colorbar": {
             "outlinewidth": 0,
             "ticks": ""
            },
            "type": "mesh3d"
           }
          ],
          "parcoords": [
           {
            "line": {
             "colorbar": {
              "outlinewidth": 0,
              "ticks": ""
             }
            },
            "type": "parcoords"
           }
          ],
          "pie": [
           {
            "automargin": true,
            "type": "pie"
           }
          ],
          "scatter": [
           {
            "fillpattern": {
             "fillmode": "overlay",
             "size": 10,
             "solidity": 0.2
            },
            "type": "scatter"
           }
          ],
          "scatter3d": [
           {
            "line": {
             "colorbar": {
              "outlinewidth": 0,
              "ticks": ""
             }
            },
            "marker": {
             "colorbar": {
              "outlinewidth": 0,
              "ticks": ""
             }
            },
            "type": "scatter3d"
           }
          ],
          "scattercarpet": [
           {
            "marker": {
             "colorbar": {
              "outlinewidth": 0,
              "ticks": ""
             }
            },
            "type": "scattercarpet"
           }
          ],
          "scattergeo": [
           {
            "marker": {
             "colorbar": {
              "outlinewidth": 0,
              "ticks": ""
             }
            },
            "type": "scattergeo"
           }
          ],
          "scattergl": [
           {
            "marker": {
             "colorbar": {
              "outlinewidth": 0,
              "ticks": ""
             }
            },
            "type": "scattergl"
           }
          ],
          "scattermapbox": [
           {
            "marker": {
             "colorbar": {
              "outlinewidth": 0,
              "ticks": ""
             }
            },
            "type": "scattermapbox"
           }
          ],
          "scatterpolar": [
           {
            "marker": {
             "colorbar": {
              "outlinewidth": 0,
              "ticks": ""
             }
            },
            "type": "scatterpolar"
           }
          ],
          "scatterpolargl": [
           {
            "marker": {
             "colorbar": {
              "outlinewidth": 0,
              "ticks": ""
             }
            },
            "type": "scatterpolargl"
           }
          ],
          "scatterternary": [
           {
            "marker": {
             "colorbar": {
              "outlinewidth": 0,
              "ticks": ""
             }
            },
            "type": "scatterternary"
           }
          ],
          "surface": [
           {
            "colorbar": {
             "outlinewidth": 0,
             "ticks": ""
            },
            "colorscale": [
             [
              0,
              "#0d0887"
             ],
             [
              0.1111111111111111,
              "#46039f"
             ],
             [
              0.2222222222222222,
              "#7201a8"
             ],
             [
              0.3333333333333333,
              "#9c179e"
             ],
             [
              0.4444444444444444,
              "#bd3786"
             ],
             [
              0.5555555555555556,
              "#d8576b"
             ],
             [
              0.6666666666666666,
              "#ed7953"
             ],
             [
              0.7777777777777778,
              "#fb9f3a"
             ],
             [
              0.8888888888888888,
              "#fdca26"
             ],
             [
              1,
              "#f0f921"
             ]
            ],
            "type": "surface"
           }
          ],
          "table": [
           {
            "cells": {
             "fill": {
              "color": "#EBF0F8"
             },
             "line": {
              "color": "white"
             }
            },
            "header": {
             "fill": {
              "color": "#C8D4E3"
             },
             "line": {
              "color": "white"
             }
            },
            "type": "table"
           }
          ]
         },
         "layout": {
          "annotationdefaults": {
           "arrowcolor": "#2a3f5f",
           "arrowhead": 0,
           "arrowwidth": 1
          },
          "autotypenumbers": "strict",
          "coloraxis": {
           "colorbar": {
            "outlinewidth": 0,
            "ticks": ""
           }
          },
          "colorscale": {
           "diverging": [
            [
             0,
             "#8e0152"
            ],
            [
             0.1,
             "#c51b7d"
            ],
            [
             0.2,
             "#de77ae"
            ],
            [
             0.3,
             "#f1b6da"
            ],
            [
             0.4,
             "#fde0ef"
            ],
            [
             0.5,
             "#f7f7f7"
            ],
            [
             0.6,
             "#e6f5d0"
            ],
            [
             0.7,
             "#b8e186"
            ],
            [
             0.8,
             "#7fbc41"
            ],
            [
             0.9,
             "#4d9221"
            ],
            [
             1,
             "#276419"
            ]
           ],
           "sequential": [
            [
             0,
             "#0d0887"
            ],
            [
             0.1111111111111111,
             "#46039f"
            ],
            [
             0.2222222222222222,
             "#7201a8"
            ],
            [
             0.3333333333333333,
             "#9c179e"
            ],
            [
             0.4444444444444444,
             "#bd3786"
            ],
            [
             0.5555555555555556,
             "#d8576b"
            ],
            [
             0.6666666666666666,
             "#ed7953"
            ],
            [
             0.7777777777777778,
             "#fb9f3a"
            ],
            [
             0.8888888888888888,
             "#fdca26"
            ],
            [
             1,
             "#f0f921"
            ]
           ],
           "sequentialminus": [
            [
             0,
             "#0d0887"
            ],
            [
             0.1111111111111111,
             "#46039f"
            ],
            [
             0.2222222222222222,
             "#7201a8"
            ],
            [
             0.3333333333333333,
             "#9c179e"
            ],
            [
             0.4444444444444444,
             "#bd3786"
            ],
            [
             0.5555555555555556,
             "#d8576b"
            ],
            [
             0.6666666666666666,
             "#ed7953"
            ],
            [
             0.7777777777777778,
             "#fb9f3a"
            ],
            [
             0.8888888888888888,
             "#fdca26"
            ],
            [
             1,
             "#f0f921"
            ]
           ]
          },
          "colorway": [
           "#636efa",
           "#EF553B",
           "#00cc96",
           "#ab63fa",
           "#FFA15A",
           "#19d3f3",
           "#FF6692",
           "#B6E880",
           "#FF97FF",
           "#FECB52"
          ],
          "font": {
           "color": "#2a3f5f"
          },
          "geo": {
           "bgcolor": "white",
           "lakecolor": "white",
           "landcolor": "#E5ECF6",
           "showlakes": true,
           "showland": true,
           "subunitcolor": "white"
          },
          "hoverlabel": {
           "align": "left"
          },
          "hovermode": "closest",
          "mapbox": {
           "style": "light"
          },
          "paper_bgcolor": "white",
          "plot_bgcolor": "#E5ECF6",
          "polar": {
           "angularaxis": {
            "gridcolor": "white",
            "linecolor": "white",
            "ticks": ""
           },
           "bgcolor": "#E5ECF6",
           "radialaxis": {
            "gridcolor": "white",
            "linecolor": "white",
            "ticks": ""
           }
          },
          "scene": {
           "xaxis": {
            "backgroundcolor": "#E5ECF6",
            "gridcolor": "white",
            "gridwidth": 2,
            "linecolor": "white",
            "showbackground": true,
            "ticks": "",
            "zerolinecolor": "white"
           },
           "yaxis": {
            "backgroundcolor": "#E5ECF6",
            "gridcolor": "white",
            "gridwidth": 2,
            "linecolor": "white",
            "showbackground": true,
            "ticks": "",
            "zerolinecolor": "white"
           },
           "zaxis": {
            "backgroundcolor": "#E5ECF6",
            "gridcolor": "white",
            "gridwidth": 2,
            "linecolor": "white",
            "showbackground": true,
            "ticks": "",
            "zerolinecolor": "white"
           }
          },
          "shapedefaults": {
           "line": {
            "color": "#2a3f5f"
           }
          },
          "ternary": {
           "aaxis": {
            "gridcolor": "white",
            "linecolor": "white",
            "ticks": ""
           },
           "baxis": {
            "gridcolor": "white",
            "linecolor": "white",
            "ticks": ""
           },
           "bgcolor": "#E5ECF6",
           "caxis": {
            "gridcolor": "white",
            "linecolor": "white",
            "ticks": ""
           }
          },
          "title": {
           "x": 0.05
          },
          "xaxis": {
           "automargin": true,
           "gridcolor": "white",
           "linecolor": "white",
           "ticks": "",
           "title": {
            "standoff": 15
           },
           "zerolinecolor": "white",
           "zerolinewidth": 2
          },
          "yaxis": {
           "automargin": true,
           "gridcolor": "white",
           "linecolor": "white",
           "ticks": "",
           "title": {
            "standoff": 15
           },
           "zerolinecolor": "white",
           "zerolinewidth": 2
          }
         }
        },
        "title": {
         "text": "Loyal "
        }
       }
      }
     },
     "metadata": {},
     "output_type": "display_data"
    },
    {
     "data": {
      "application/vnd.plotly.v1+json": {
       "config": {
        "plotlyServerURL": "https://plot.ly"
       },
       "data": [
        {
         "branchvalues": "total",
         "domain": {
          "x": [
           0,
           1
          ],
          "y": [
           0,
           1
          ]
         },
         "hovertemplate": "labels=%{label}<br>count=%{value}<br>parent=%{parent}<br>id=%{id}<extra></extra>",
         "ids": [
          "AK",
          "AL",
          "AR",
          "AZ",
          "CA",
          "CO",
          "CT",
          "DC",
          "DE",
          "FL",
          "GA",
          "HI",
          "IA",
          "ID",
          "IL",
          "IN",
          "KS",
          "KY",
          "LA",
          "MA",
          "MD",
          "ME",
          "MI",
          "MN",
          "MO",
          "MS",
          "MT",
          "NC",
          "ND",
          "NE",
          "NH",
          "NJ",
          "NM",
          "NV",
          "NY",
          "OH",
          "OK",
          "OR",
          "PA",
          "RI",
          "SC",
          "SD",
          "TN",
          "TX",
          "UT",
          "VA",
          "VT",
          "WA",
          "WI",
          "WV",
          "WY"
         ],
         "labels": [
          "AK",
          "AL",
          "AR",
          "AZ",
          "CA",
          "CO",
          "CT",
          "DC",
          "DE",
          "FL",
          "GA",
          "HI",
          "IA",
          "ID",
          "IL",
          "IN",
          "KS",
          "KY",
          "LA",
          "MA",
          "MD",
          "ME",
          "MI",
          "MN",
          "MO",
          "MS",
          "MT",
          "NC",
          "ND",
          "NE",
          "NH",
          "NJ",
          "NM",
          "NV",
          "NY",
          "OH",
          "OK",
          "OR",
          "PA",
          "RI",
          "SC",
          "SD",
          "TN",
          "TX",
          "UT",
          "VA",
          "VT",
          "WA",
          "WI",
          "WV",
          "WY"
         ],
         "name": "",
         "parents": [
          "",
          "",
          "",
          "",
          "",
          "",
          "",
          "",
          "",
          "",
          "",
          "",
          "",
          "",
          "",
          "",
          "",
          "",
          "",
          "",
          "",
          "",
          "",
          "",
          "",
          "",
          "",
          "",
          "",
          "",
          "",
          "",
          "",
          "",
          "",
          "",
          "",
          "",
          "",
          "",
          "",
          "",
          "",
          "",
          "",
          "",
          "",
          "",
          "",
          "",
          ""
         ],
         "root": {
          "color": "lightgrey"
         },
         "type": "treemap",
         "values": [
          12,
          9,
          7,
          4,
          13,
          9,
          16,
          10,
          6,
          7,
          6,
          11,
          10,
          14,
          7,
          6,
          11,
          11,
          7,
          10,
          10,
          14,
          4,
          10,
          12,
          7,
          4,
          5,
          11,
          14,
          6,
          13,
          16,
          6,
          14,
          9,
          10,
          9,
          11,
          9,
          6,
          6,
          7,
          9,
          8,
          7,
          7,
          9,
          6,
          9,
          8
         ]
        }
       ],
       "layout": {
        "legend": {
         "tracegroupgap": 0
        },
        "margin": {
         "b": 25,
         "l": 25,
         "r": 25,
         "t": 50
        },
        "template": {
         "data": {
          "bar": [
           {
            "error_x": {
             "color": "#2a3f5f"
            },
            "error_y": {
             "color": "#2a3f5f"
            },
            "marker": {
             "line": {
              "color": "#E5ECF6",
              "width": 0.5
             },
             "pattern": {
              "fillmode": "overlay",
              "size": 10,
              "solidity": 0.2
             }
            },
            "type": "bar"
           }
          ],
          "barpolar": [
           {
            "marker": {
             "line": {
              "color": "#E5ECF6",
              "width": 0.5
             },
             "pattern": {
              "fillmode": "overlay",
              "size": 10,
              "solidity": 0.2
             }
            },
            "type": "barpolar"
           }
          ],
          "carpet": [
           {
            "aaxis": {
             "endlinecolor": "#2a3f5f",
             "gridcolor": "white",
             "linecolor": "white",
             "minorgridcolor": "white",
             "startlinecolor": "#2a3f5f"
            },
            "baxis": {
             "endlinecolor": "#2a3f5f",
             "gridcolor": "white",
             "linecolor": "white",
             "minorgridcolor": "white",
             "startlinecolor": "#2a3f5f"
            },
            "type": "carpet"
           }
          ],
          "choropleth": [
           {
            "colorbar": {
             "outlinewidth": 0,
             "ticks": ""
            },
            "type": "choropleth"
           }
          ],
          "contour": [
           {
            "colorbar": {
             "outlinewidth": 0,
             "ticks": ""
            },
            "colorscale": [
             [
              0,
              "#0d0887"
             ],
             [
              0.1111111111111111,
              "#46039f"
             ],
             [
              0.2222222222222222,
              "#7201a8"
             ],
             [
              0.3333333333333333,
              "#9c179e"
             ],
             [
              0.4444444444444444,
              "#bd3786"
             ],
             [
              0.5555555555555556,
              "#d8576b"
             ],
             [
              0.6666666666666666,
              "#ed7953"
             ],
             [
              0.7777777777777778,
              "#fb9f3a"
             ],
             [
              0.8888888888888888,
              "#fdca26"
             ],
             [
              1,
              "#f0f921"
             ]
            ],
            "type": "contour"
           }
          ],
          "contourcarpet": [
           {
            "colorbar": {
             "outlinewidth": 0,
             "ticks": ""
            },
            "type": "contourcarpet"
           }
          ],
          "heatmap": [
           {
            "colorbar": {
             "outlinewidth": 0,
             "ticks": ""
            },
            "colorscale": [
             [
              0,
              "#0d0887"
             ],
             [
              0.1111111111111111,
              "#46039f"
             ],
             [
              0.2222222222222222,
              "#7201a8"
             ],
             [
              0.3333333333333333,
              "#9c179e"
             ],
             [
              0.4444444444444444,
              "#bd3786"
             ],
             [
              0.5555555555555556,
              "#d8576b"
             ],
             [
              0.6666666666666666,
              "#ed7953"
             ],
             [
              0.7777777777777778,
              "#fb9f3a"
             ],
             [
              0.8888888888888888,
              "#fdca26"
             ],
             [
              1,
              "#f0f921"
             ]
            ],
            "type": "heatmap"
           }
          ],
          "heatmapgl": [
           {
            "colorbar": {
             "outlinewidth": 0,
             "ticks": ""
            },
            "colorscale": [
             [
              0,
              "#0d0887"
             ],
             [
              0.1111111111111111,
              "#46039f"
             ],
             [
              0.2222222222222222,
              "#7201a8"
             ],
             [
              0.3333333333333333,
              "#9c179e"
             ],
             [
              0.4444444444444444,
              "#bd3786"
             ],
             [
              0.5555555555555556,
              "#d8576b"
             ],
             [
              0.6666666666666666,
              "#ed7953"
             ],
             [
              0.7777777777777778,
              "#fb9f3a"
             ],
             [
              0.8888888888888888,
              "#fdca26"
             ],
             [
              1,
              "#f0f921"
             ]
            ],
            "type": "heatmapgl"
           }
          ],
          "histogram": [
           {
            "marker": {
             "pattern": {
              "fillmode": "overlay",
              "size": 10,
              "solidity": 0.2
             }
            },
            "type": "histogram"
           }
          ],
          "histogram2d": [
           {
            "colorbar": {
             "outlinewidth": 0,
             "ticks": ""
            },
            "colorscale": [
             [
              0,
              "#0d0887"
             ],
             [
              0.1111111111111111,
              "#46039f"
             ],
             [
              0.2222222222222222,
              "#7201a8"
             ],
             [
              0.3333333333333333,
              "#9c179e"
             ],
             [
              0.4444444444444444,
              "#bd3786"
             ],
             [
              0.5555555555555556,
              "#d8576b"
             ],
             [
              0.6666666666666666,
              "#ed7953"
             ],
             [
              0.7777777777777778,
              "#fb9f3a"
             ],
             [
              0.8888888888888888,
              "#fdca26"
             ],
             [
              1,
              "#f0f921"
             ]
            ],
            "type": "histogram2d"
           }
          ],
          "histogram2dcontour": [
           {
            "colorbar": {
             "outlinewidth": 0,
             "ticks": ""
            },
            "colorscale": [
             [
              0,
              "#0d0887"
             ],
             [
              0.1111111111111111,
              "#46039f"
             ],
             [
              0.2222222222222222,
              "#7201a8"
             ],
             [
              0.3333333333333333,
              "#9c179e"
             ],
             [
              0.4444444444444444,
              "#bd3786"
             ],
             [
              0.5555555555555556,
              "#d8576b"
             ],
             [
              0.6666666666666666,
              "#ed7953"
             ],
             [
              0.7777777777777778,
              "#fb9f3a"
             ],
             [
              0.8888888888888888,
              "#fdca26"
             ],
             [
              1,
              "#f0f921"
             ]
            ],
            "type": "histogram2dcontour"
           }
          ],
          "mesh3d": [
           {
            "colorbar": {
             "outlinewidth": 0,
             "ticks": ""
            },
            "type": "mesh3d"
           }
          ],
          "parcoords": [
           {
            "line": {
             "colorbar": {
              "outlinewidth": 0,
              "ticks": ""
             }
            },
            "type": "parcoords"
           }
          ],
          "pie": [
           {
            "automargin": true,
            "type": "pie"
           }
          ],
          "scatter": [
           {
            "fillpattern": {
             "fillmode": "overlay",
             "size": 10,
             "solidity": 0.2
            },
            "type": "scatter"
           }
          ],
          "scatter3d": [
           {
            "line": {
             "colorbar": {
              "outlinewidth": 0,
              "ticks": ""
             }
            },
            "marker": {
             "colorbar": {
              "outlinewidth": 0,
              "ticks": ""
             }
            },
            "type": "scatter3d"
           }
          ],
          "scattercarpet": [
           {
            "marker": {
             "colorbar": {
              "outlinewidth": 0,
              "ticks": ""
             }
            },
            "type": "scattercarpet"
           }
          ],
          "scattergeo": [
           {
            "marker": {
             "colorbar": {
              "outlinewidth": 0,
              "ticks": ""
             }
            },
            "type": "scattergeo"
           }
          ],
          "scattergl": [
           {
            "marker": {
             "colorbar": {
              "outlinewidth": 0,
              "ticks": ""
             }
            },
            "type": "scattergl"
           }
          ],
          "scattermapbox": [
           {
            "marker": {
             "colorbar": {
              "outlinewidth": 0,
              "ticks": ""
             }
            },
            "type": "scattermapbox"
           }
          ],
          "scatterpolar": [
           {
            "marker": {
             "colorbar": {
              "outlinewidth": 0,
              "ticks": ""
             }
            },
            "type": "scatterpolar"
           }
          ],
          "scatterpolargl": [
           {
            "marker": {
             "colorbar": {
              "outlinewidth": 0,
              "ticks": ""
             }
            },
            "type": "scatterpolargl"
           }
          ],
          "scatterternary": [
           {
            "marker": {
             "colorbar": {
              "outlinewidth": 0,
              "ticks": ""
             }
            },
            "type": "scatterternary"
           }
          ],
          "surface": [
           {
            "colorbar": {
             "outlinewidth": 0,
             "ticks": ""
            },
            "colorscale": [
             [
              0,
              "#0d0887"
             ],
             [
              0.1111111111111111,
              "#46039f"
             ],
             [
              0.2222222222222222,
              "#7201a8"
             ],
             [
              0.3333333333333333,
              "#9c179e"
             ],
             [
              0.4444444444444444,
              "#bd3786"
             ],
             [
              0.5555555555555556,
              "#d8576b"
             ],
             [
              0.6666666666666666,
              "#ed7953"
             ],
             [
              0.7777777777777778,
              "#fb9f3a"
             ],
             [
              0.8888888888888888,
              "#fdca26"
             ],
             [
              1,
              "#f0f921"
             ]
            ],
            "type": "surface"
           }
          ],
          "table": [
           {
            "cells": {
             "fill": {
              "color": "#EBF0F8"
             },
             "line": {
              "color": "white"
             }
            },
            "header": {
             "fill": {
              "color": "#C8D4E3"
             },
             "line": {
              "color": "white"
             }
            },
            "type": "table"
           }
          ]
         },
         "layout": {
          "annotationdefaults": {
           "arrowcolor": "#2a3f5f",
           "arrowhead": 0,
           "arrowwidth": 1
          },
          "autotypenumbers": "strict",
          "coloraxis": {
           "colorbar": {
            "outlinewidth": 0,
            "ticks": ""
           }
          },
          "colorscale": {
           "diverging": [
            [
             0,
             "#8e0152"
            ],
            [
             0.1,
             "#c51b7d"
            ],
            [
             0.2,
             "#de77ae"
            ],
            [
             0.3,
             "#f1b6da"
            ],
            [
             0.4,
             "#fde0ef"
            ],
            [
             0.5,
             "#f7f7f7"
            ],
            [
             0.6,
             "#e6f5d0"
            ],
            [
             0.7,
             "#b8e186"
            ],
            [
             0.8,
             "#7fbc41"
            ],
            [
             0.9,
             "#4d9221"
            ],
            [
             1,
             "#276419"
            ]
           ],
           "sequential": [
            [
             0,
             "#0d0887"
            ],
            [
             0.1111111111111111,
             "#46039f"
            ],
            [
             0.2222222222222222,
             "#7201a8"
            ],
            [
             0.3333333333333333,
             "#9c179e"
            ],
            [
             0.4444444444444444,
             "#bd3786"
            ],
            [
             0.5555555555555556,
             "#d8576b"
            ],
            [
             0.6666666666666666,
             "#ed7953"
            ],
            [
             0.7777777777777778,
             "#fb9f3a"
            ],
            [
             0.8888888888888888,
             "#fdca26"
            ],
            [
             1,
             "#f0f921"
            ]
           ],
           "sequentialminus": [
            [
             0,
             "#0d0887"
            ],
            [
             0.1111111111111111,
             "#46039f"
            ],
            [
             0.2222222222222222,
             "#7201a8"
            ],
            [
             0.3333333333333333,
             "#9c179e"
            ],
            [
             0.4444444444444444,
             "#bd3786"
            ],
            [
             0.5555555555555556,
             "#d8576b"
            ],
            [
             0.6666666666666666,
             "#ed7953"
            ],
            [
             0.7777777777777778,
             "#fb9f3a"
            ],
            [
             0.8888888888888888,
             "#fdca26"
            ],
            [
             1,
             "#f0f921"
            ]
           ]
          },
          "colorway": [
           "#636efa",
           "#EF553B",
           "#00cc96",
           "#ab63fa",
           "#FFA15A",
           "#19d3f3",
           "#FF6692",
           "#B6E880",
           "#FF97FF",
           "#FECB52"
          ],
          "font": {
           "color": "#2a3f5f"
          },
          "geo": {
           "bgcolor": "white",
           "lakecolor": "white",
           "landcolor": "#E5ECF6",
           "showlakes": true,
           "showland": true,
           "subunitcolor": "white"
          },
          "hoverlabel": {
           "align": "left"
          },
          "hovermode": "closest",
          "mapbox": {
           "style": "light"
          },
          "paper_bgcolor": "white",
          "plot_bgcolor": "#E5ECF6",
          "polar": {
           "angularaxis": {
            "gridcolor": "white",
            "linecolor": "white",
            "ticks": ""
           },
           "bgcolor": "#E5ECF6",
           "radialaxis": {
            "gridcolor": "white",
            "linecolor": "white",
            "ticks": ""
           }
          },
          "scene": {
           "xaxis": {
            "backgroundcolor": "#E5ECF6",
            "gridcolor": "white",
            "gridwidth": 2,
            "linecolor": "white",
            "showbackground": true,
            "ticks": "",
            "zerolinecolor": "white"
           },
           "yaxis": {
            "backgroundcolor": "#E5ECF6",
            "gridcolor": "white",
            "gridwidth": 2,
            "linecolor": "white",
            "showbackground": true,
            "ticks": "",
            "zerolinecolor": "white"
           },
           "zaxis": {
            "backgroundcolor": "#E5ECF6",
            "gridcolor": "white",
            "gridwidth": 2,
            "linecolor": "white",
            "showbackground": true,
            "ticks": "",
            "zerolinecolor": "white"
           }
          },
          "shapedefaults": {
           "line": {
            "color": "#2a3f5f"
           }
          },
          "ternary": {
           "aaxis": {
            "gridcolor": "white",
            "linecolor": "white",
            "ticks": ""
           },
           "baxis": {
            "gridcolor": "white",
            "linecolor": "white",
            "ticks": ""
           },
           "bgcolor": "#E5ECF6",
           "caxis": {
            "gridcolor": "white",
            "linecolor": "white",
            "ticks": ""
           }
          },
          "title": {
           "x": 0.05
          },
          "xaxis": {
           "automargin": true,
           "gridcolor": "white",
           "linecolor": "white",
           "ticks": "",
           "title": {
            "standoff": 15
           },
           "zerolinecolor": "white",
           "zerolinewidth": 2
          },
          "yaxis": {
           "automargin": true,
           "gridcolor": "white",
           "linecolor": "white",
           "ticks": "",
           "title": {
            "standoff": 15
           },
           "zerolinecolor": "white",
           "zerolinewidth": 2
          }
         }
        },
        "title": {
         "text": "MVC"
        }
       }
      }
     },
     "metadata": {},
     "output_type": "display_data"
    },
    {
     "data": {
      "application/vnd.plotly.v1+json": {
       "config": {
        "plotlyServerURL": "https://plot.ly"
       },
       "data": [
        {
         "branchvalues": "total",
         "domain": {
          "x": [
           0,
           1
          ],
          "y": [
           0,
           1
          ]
         },
         "hovertemplate": "labels=%{label}<br>count=%{value}<br>parent=%{parent}<br>id=%{id}<extra></extra>",
         "ids": [
          "AK",
          "AL",
          "AR",
          "AZ",
          "CA",
          "CO",
          "CT",
          "DC",
          "DE",
          "FL",
          "GA",
          "HI",
          "IA",
          "ID",
          "IL",
          "IN",
          "KS",
          "KY",
          "LA",
          "MA",
          "MD",
          "ME",
          "MI",
          "MN",
          "MO",
          "MS",
          "MT",
          "NC",
          "ND",
          "NE",
          "NH",
          "NJ",
          "NM",
          "NV",
          "NY",
          "OH",
          "OK",
          "OR",
          "PA",
          "RI",
          "SC",
          "SD",
          "TN",
          "TX",
          "UT",
          "VA",
          "VT",
          "WA",
          "WI",
          "WV",
          "WY"
         ],
         "labels": [
          "AK",
          "AL",
          "AR",
          "AZ",
          "CA",
          "CO",
          "CT",
          "DC",
          "DE",
          "FL",
          "GA",
          "HI",
          "IA",
          "ID",
          "IL",
          "IN",
          "KS",
          "KY",
          "LA",
          "MA",
          "MD",
          "ME",
          "MI",
          "MN",
          "MO",
          "MS",
          "MT",
          "NC",
          "ND",
          "NE",
          "NH",
          "NJ",
          "NM",
          "NV",
          "NY",
          "OH",
          "OK",
          "OR",
          "PA",
          "RI",
          "SC",
          "SD",
          "TN",
          "TX",
          "UT",
          "VA",
          "VT",
          "WA",
          "WI",
          "WV",
          "WY"
         ],
         "name": "",
         "parents": [
          "",
          "",
          "",
          "",
          "",
          "",
          "",
          "",
          "",
          "",
          "",
          "",
          "",
          "",
          "",
          "",
          "",
          "",
          "",
          "",
          "",
          "",
          "",
          "",
          "",
          "",
          "",
          "",
          "",
          "",
          "",
          "",
          "",
          "",
          "",
          "",
          "",
          "",
          "",
          "",
          "",
          "",
          "",
          "",
          "",
          "",
          "",
          "",
          "",
          "",
          ""
         ],
         "root": {
          "color": "lightgrey"
         },
         "type": "treemap",
         "values": [
          8,
          1,
          8,
          7,
          11,
          4,
          4,
          10,
          7,
          11,
          14,
          6,
          5,
          11,
          5,
          11,
          10,
          7,
          6,
          4,
          4,
          3,
          7,
          8,
          5,
          3,
          6,
          6,
          3,
          7,
          14,
          10,
          8,
          6,
          3,
          9,
          9,
          7,
          3,
          7,
          13,
          8,
          11,
          5,
          9,
          11,
          8,
          11,
          7,
          11,
          6
         ]
        }
       ],
       "layout": {
        "legend": {
         "tracegroupgap": 0
        },
        "margin": {
         "b": 25,
         "l": 25,
         "r": 25,
         "t": 50
        },
        "template": {
         "data": {
          "bar": [
           {
            "error_x": {
             "color": "#2a3f5f"
            },
            "error_y": {
             "color": "#2a3f5f"
            },
            "marker": {
             "line": {
              "color": "#E5ECF6",
              "width": 0.5
             },
             "pattern": {
              "fillmode": "overlay",
              "size": 10,
              "solidity": 0.2
             }
            },
            "type": "bar"
           }
          ],
          "barpolar": [
           {
            "marker": {
             "line": {
              "color": "#E5ECF6",
              "width": 0.5
             },
             "pattern": {
              "fillmode": "overlay",
              "size": 10,
              "solidity": 0.2
             }
            },
            "type": "barpolar"
           }
          ],
          "carpet": [
           {
            "aaxis": {
             "endlinecolor": "#2a3f5f",
             "gridcolor": "white",
             "linecolor": "white",
             "minorgridcolor": "white",
             "startlinecolor": "#2a3f5f"
            },
            "baxis": {
             "endlinecolor": "#2a3f5f",
             "gridcolor": "white",
             "linecolor": "white",
             "minorgridcolor": "white",
             "startlinecolor": "#2a3f5f"
            },
            "type": "carpet"
           }
          ],
          "choropleth": [
           {
            "colorbar": {
             "outlinewidth": 0,
             "ticks": ""
            },
            "type": "choropleth"
           }
          ],
          "contour": [
           {
            "colorbar": {
             "outlinewidth": 0,
             "ticks": ""
            },
            "colorscale": [
             [
              0,
              "#0d0887"
             ],
             [
              0.1111111111111111,
              "#46039f"
             ],
             [
              0.2222222222222222,
              "#7201a8"
             ],
             [
              0.3333333333333333,
              "#9c179e"
             ],
             [
              0.4444444444444444,
              "#bd3786"
             ],
             [
              0.5555555555555556,
              "#d8576b"
             ],
             [
              0.6666666666666666,
              "#ed7953"
             ],
             [
              0.7777777777777778,
              "#fb9f3a"
             ],
             [
              0.8888888888888888,
              "#fdca26"
             ],
             [
              1,
              "#f0f921"
             ]
            ],
            "type": "contour"
           }
          ],
          "contourcarpet": [
           {
            "colorbar": {
             "outlinewidth": 0,
             "ticks": ""
            },
            "type": "contourcarpet"
           }
          ],
          "heatmap": [
           {
            "colorbar": {
             "outlinewidth": 0,
             "ticks": ""
            },
            "colorscale": [
             [
              0,
              "#0d0887"
             ],
             [
              0.1111111111111111,
              "#46039f"
             ],
             [
              0.2222222222222222,
              "#7201a8"
             ],
             [
              0.3333333333333333,
              "#9c179e"
             ],
             [
              0.4444444444444444,
              "#bd3786"
             ],
             [
              0.5555555555555556,
              "#d8576b"
             ],
             [
              0.6666666666666666,
              "#ed7953"
             ],
             [
              0.7777777777777778,
              "#fb9f3a"
             ],
             [
              0.8888888888888888,
              "#fdca26"
             ],
             [
              1,
              "#f0f921"
             ]
            ],
            "type": "heatmap"
           }
          ],
          "heatmapgl": [
           {
            "colorbar": {
             "outlinewidth": 0,
             "ticks": ""
            },
            "colorscale": [
             [
              0,
              "#0d0887"
             ],
             [
              0.1111111111111111,
              "#46039f"
             ],
             [
              0.2222222222222222,
              "#7201a8"
             ],
             [
              0.3333333333333333,
              "#9c179e"
             ],
             [
              0.4444444444444444,
              "#bd3786"
             ],
             [
              0.5555555555555556,
              "#d8576b"
             ],
             [
              0.6666666666666666,
              "#ed7953"
             ],
             [
              0.7777777777777778,
              "#fb9f3a"
             ],
             [
              0.8888888888888888,
              "#fdca26"
             ],
             [
              1,
              "#f0f921"
             ]
            ],
            "type": "heatmapgl"
           }
          ],
          "histogram": [
           {
            "marker": {
             "pattern": {
              "fillmode": "overlay",
              "size": 10,
              "solidity": 0.2
             }
            },
            "type": "histogram"
           }
          ],
          "histogram2d": [
           {
            "colorbar": {
             "outlinewidth": 0,
             "ticks": ""
            },
            "colorscale": [
             [
              0,
              "#0d0887"
             ],
             [
              0.1111111111111111,
              "#46039f"
             ],
             [
              0.2222222222222222,
              "#7201a8"
             ],
             [
              0.3333333333333333,
              "#9c179e"
             ],
             [
              0.4444444444444444,
              "#bd3786"
             ],
             [
              0.5555555555555556,
              "#d8576b"
             ],
             [
              0.6666666666666666,
              "#ed7953"
             ],
             [
              0.7777777777777778,
              "#fb9f3a"
             ],
             [
              0.8888888888888888,
              "#fdca26"
             ],
             [
              1,
              "#f0f921"
             ]
            ],
            "type": "histogram2d"
           }
          ],
          "histogram2dcontour": [
           {
            "colorbar": {
             "outlinewidth": 0,
             "ticks": ""
            },
            "colorscale": [
             [
              0,
              "#0d0887"
             ],
             [
              0.1111111111111111,
              "#46039f"
             ],
             [
              0.2222222222222222,
              "#7201a8"
             ],
             [
              0.3333333333333333,
              "#9c179e"
             ],
             [
              0.4444444444444444,
              "#bd3786"
             ],
             [
              0.5555555555555556,
              "#d8576b"
             ],
             [
              0.6666666666666666,
              "#ed7953"
             ],
             [
              0.7777777777777778,
              "#fb9f3a"
             ],
             [
              0.8888888888888888,
              "#fdca26"
             ],
             [
              1,
              "#f0f921"
             ]
            ],
            "type": "histogram2dcontour"
           }
          ],
          "mesh3d": [
           {
            "colorbar": {
             "outlinewidth": 0,
             "ticks": ""
            },
            "type": "mesh3d"
           }
          ],
          "parcoords": [
           {
            "line": {
             "colorbar": {
              "outlinewidth": 0,
              "ticks": ""
             }
            },
            "type": "parcoords"
           }
          ],
          "pie": [
           {
            "automargin": true,
            "type": "pie"
           }
          ],
          "scatter": [
           {
            "fillpattern": {
             "fillmode": "overlay",
             "size": 10,
             "solidity": 0.2
            },
            "type": "scatter"
           }
          ],
          "scatter3d": [
           {
            "line": {
             "colorbar": {
              "outlinewidth": 0,
              "ticks": ""
             }
            },
            "marker": {
             "colorbar": {
              "outlinewidth": 0,
              "ticks": ""
             }
            },
            "type": "scatter3d"
           }
          ],
          "scattercarpet": [
           {
            "marker": {
             "colorbar": {
              "outlinewidth": 0,
              "ticks": ""
             }
            },
            "type": "scattercarpet"
           }
          ],
          "scattergeo": [
           {
            "marker": {
             "colorbar": {
              "outlinewidth": 0,
              "ticks": ""
             }
            },
            "type": "scattergeo"
           }
          ],
          "scattergl": [
           {
            "marker": {
             "colorbar": {
              "outlinewidth": 0,
              "ticks": ""
             }
            },
            "type": "scattergl"
           }
          ],
          "scattermapbox": [
           {
            "marker": {
             "colorbar": {
              "outlinewidth": 0,
              "ticks": ""
             }
            },
            "type": "scattermapbox"
           }
          ],
          "scatterpolar": [
           {
            "marker": {
             "colorbar": {
              "outlinewidth": 0,
              "ticks": ""
             }
            },
            "type": "scatterpolar"
           }
          ],
          "scatterpolargl": [
           {
            "marker": {
             "colorbar": {
              "outlinewidth": 0,
              "ticks": ""
             }
            },
            "type": "scatterpolargl"
           }
          ],
          "scatterternary": [
           {
            "marker": {
             "colorbar": {
              "outlinewidth": 0,
              "ticks": ""
             }
            },
            "type": "scatterternary"
           }
          ],
          "surface": [
           {
            "colorbar": {
             "outlinewidth": 0,
             "ticks": ""
            },
            "colorscale": [
             [
              0,
              "#0d0887"
             ],
             [
              0.1111111111111111,
              "#46039f"
             ],
             [
              0.2222222222222222,
              "#7201a8"
             ],
             [
              0.3333333333333333,
              "#9c179e"
             ],
             [
              0.4444444444444444,
              "#bd3786"
             ],
             [
              0.5555555555555556,
              "#d8576b"
             ],
             [
              0.6666666666666666,
              "#ed7953"
             ],
             [
              0.7777777777777778,
              "#fb9f3a"
             ],
             [
              0.8888888888888888,
              "#fdca26"
             ],
             [
              1,
              "#f0f921"
             ]
            ],
            "type": "surface"
           }
          ],
          "table": [
           {
            "cells": {
             "fill": {
              "color": "#EBF0F8"
             },
             "line": {
              "color": "white"
             }
            },
            "header": {
             "fill": {
              "color": "#C8D4E3"
             },
             "line": {
              "color": "white"
             }
            },
            "type": "table"
           }
          ]
         },
         "layout": {
          "annotationdefaults": {
           "arrowcolor": "#2a3f5f",
           "arrowhead": 0,
           "arrowwidth": 1
          },
          "autotypenumbers": "strict",
          "coloraxis": {
           "colorbar": {
            "outlinewidth": 0,
            "ticks": ""
           }
          },
          "colorscale": {
           "diverging": [
            [
             0,
             "#8e0152"
            ],
            [
             0.1,
             "#c51b7d"
            ],
            [
             0.2,
             "#de77ae"
            ],
            [
             0.3,
             "#f1b6da"
            ],
            [
             0.4,
             "#fde0ef"
            ],
            [
             0.5,
             "#f7f7f7"
            ],
            [
             0.6,
             "#e6f5d0"
            ],
            [
             0.7,
             "#b8e186"
            ],
            [
             0.8,
             "#7fbc41"
            ],
            [
             0.9,
             "#4d9221"
            ],
            [
             1,
             "#276419"
            ]
           ],
           "sequential": [
            [
             0,
             "#0d0887"
            ],
            [
             0.1111111111111111,
             "#46039f"
            ],
            [
             0.2222222222222222,
             "#7201a8"
            ],
            [
             0.3333333333333333,
             "#9c179e"
            ],
            [
             0.4444444444444444,
             "#bd3786"
            ],
            [
             0.5555555555555556,
             "#d8576b"
            ],
            [
             0.6666666666666666,
             "#ed7953"
            ],
            [
             0.7777777777777778,
             "#fb9f3a"
            ],
            [
             0.8888888888888888,
             "#fdca26"
            ],
            [
             1,
             "#f0f921"
            ]
           ],
           "sequentialminus": [
            [
             0,
             "#0d0887"
            ],
            [
             0.1111111111111111,
             "#46039f"
            ],
            [
             0.2222222222222222,
             "#7201a8"
            ],
            [
             0.3333333333333333,
             "#9c179e"
            ],
            [
             0.4444444444444444,
             "#bd3786"
            ],
            [
             0.5555555555555556,
             "#d8576b"
            ],
            [
             0.6666666666666666,
             "#ed7953"
            ],
            [
             0.7777777777777778,
             "#fb9f3a"
            ],
            [
             0.8888888888888888,
             "#fdca26"
            ],
            [
             1,
             "#f0f921"
            ]
           ]
          },
          "colorway": [
           "#636efa",
           "#EF553B",
           "#00cc96",
           "#ab63fa",
           "#FFA15A",
           "#19d3f3",
           "#FF6692",
           "#B6E880",
           "#FF97FF",
           "#FECB52"
          ],
          "font": {
           "color": "#2a3f5f"
          },
          "geo": {
           "bgcolor": "white",
           "lakecolor": "white",
           "landcolor": "#E5ECF6",
           "showlakes": true,
           "showland": true,
           "subunitcolor": "white"
          },
          "hoverlabel": {
           "align": "left"
          },
          "hovermode": "closest",
          "mapbox": {
           "style": "light"
          },
          "paper_bgcolor": "white",
          "plot_bgcolor": "#E5ECF6",
          "polar": {
           "angularaxis": {
            "gridcolor": "white",
            "linecolor": "white",
            "ticks": ""
           },
           "bgcolor": "#E5ECF6",
           "radialaxis": {
            "gridcolor": "white",
            "linecolor": "white",
            "ticks": ""
           }
          },
          "scene": {
           "xaxis": {
            "backgroundcolor": "#E5ECF6",
            "gridcolor": "white",
            "gridwidth": 2,
            "linecolor": "white",
            "showbackground": true,
            "ticks": "",
            "zerolinecolor": "white"
           },
           "yaxis": {
            "backgroundcolor": "#E5ECF6",
            "gridcolor": "white",
            "gridwidth": 2,
            "linecolor": "white",
            "showbackground": true,
            "ticks": "",
            "zerolinecolor": "white"
           },
           "zaxis": {
            "backgroundcolor": "#E5ECF6",
            "gridcolor": "white",
            "gridwidth": 2,
            "linecolor": "white",
            "showbackground": true,
            "ticks": "",
            "zerolinecolor": "white"
           }
          },
          "shapedefaults": {
           "line": {
            "color": "#2a3f5f"
           }
          },
          "ternary": {
           "aaxis": {
            "gridcolor": "white",
            "linecolor": "white",
            "ticks": ""
           },
           "baxis": {
            "gridcolor": "white",
            "linecolor": "white",
            "ticks": ""
           },
           "bgcolor": "#E5ECF6",
           "caxis": {
            "gridcolor": "white",
            "linecolor": "white",
            "ticks": ""
           }
          },
          "title": {
           "x": 0.05
          },
          "xaxis": {
           "automargin": true,
           "gridcolor": "white",
           "linecolor": "white",
           "ticks": "",
           "title": {
            "standoff": 15
           },
           "zerolinecolor": "white",
           "zerolinewidth": 2
          },
          "yaxis": {
           "automargin": true,
           "gridcolor": "white",
           "linecolor": "white",
           "ticks": "",
           "title": {
            "standoff": 15
           },
           "zerolinecolor": "white",
           "zerolinewidth": 2
          }
         }
        },
        "title": {
         "text": "Need Attention"
        }
       }
      }
     },
     "metadata": {},
     "output_type": "display_data"
    },
    {
     "data": {
      "application/vnd.plotly.v1+json": {
       "config": {
        "plotlyServerURL": "https://plot.ly"
       },
       "data": [
        {
         "branchvalues": "total",
         "domain": {
          "x": [
           0,
           1
          ],
          "y": [
           0,
           1
          ]
         },
         "hovertemplate": "labels=%{label}<br>count=%{value}<br>parent=%{parent}<br>id=%{id}<extra></extra>",
         "ids": [
          "AK",
          "AL",
          "AR",
          "AZ",
          "CA",
          "CO",
          "CT",
          "DC",
          "DE",
          "FL",
          "GA",
          "HI",
          "IA",
          "ID",
          "IL",
          "IN",
          "KS",
          "KY",
          "LA",
          "MA",
          "MD",
          "ME",
          "MI",
          "MN",
          "MO",
          "MS",
          "MT",
          "NC",
          "ND",
          "NE",
          "NH",
          "NJ",
          "NM",
          "NV",
          "NY",
          "OH",
          "OK",
          "OR",
          "PA",
          "RI",
          "SC",
          "TX",
          "UT",
          "VA",
          "VT",
          "WA",
          "WI",
          "WV",
          "WY"
         ],
         "labels": [
          "AK",
          "AL",
          "AR",
          "AZ",
          "CA",
          "CO",
          "CT",
          "DC",
          "DE",
          "FL",
          "GA",
          "HI",
          "IA",
          "ID",
          "IL",
          "IN",
          "KS",
          "KY",
          "LA",
          "MA",
          "MD",
          "ME",
          "MI",
          "MN",
          "MO",
          "MS",
          "MT",
          "NC",
          "ND",
          "NE",
          "NH",
          "NJ",
          "NM",
          "NV",
          "NY",
          "OH",
          "OK",
          "OR",
          "PA",
          "RI",
          "SC",
          "TX",
          "UT",
          "VA",
          "VT",
          "WA",
          "WI",
          "WV",
          "WY"
         ],
         "name": "",
         "parents": [
          "",
          "",
          "",
          "",
          "",
          "",
          "",
          "",
          "",
          "",
          "",
          "",
          "",
          "",
          "",
          "",
          "",
          "",
          "",
          "",
          "",
          "",
          "",
          "",
          "",
          "",
          "",
          "",
          "",
          "",
          "",
          "",
          "",
          "",
          "",
          "",
          "",
          "",
          "",
          "",
          "",
          "",
          "",
          "",
          "",
          "",
          "",
          "",
          ""
         ],
         "root": {
          "color": "lightgrey"
         },
         "type": "treemap",
         "values": [
          4,
          4,
          6,
          3,
          1,
          6,
          7,
          3,
          2,
          1,
          5,
          1,
          1,
          4,
          1,
          1,
          1,
          3,
          4,
          2,
          2,
          4,
          1,
          2,
          4,
          6,
          3,
          3,
          1,
          2,
          5,
          3,
          4,
          4,
          2,
          1,
          5,
          3,
          3,
          6,
          4,
          1,
          4,
          3,
          5,
          9,
          3,
          2,
          6
         ]
        }
       ],
       "layout": {
        "legend": {
         "tracegroupgap": 0
        },
        "margin": {
         "b": 25,
         "l": 25,
         "r": 25,
         "t": 50
        },
        "template": {
         "data": {
          "bar": [
           {
            "error_x": {
             "color": "#2a3f5f"
            },
            "error_y": {
             "color": "#2a3f5f"
            },
            "marker": {
             "line": {
              "color": "#E5ECF6",
              "width": 0.5
             },
             "pattern": {
              "fillmode": "overlay",
              "size": 10,
              "solidity": 0.2
             }
            },
            "type": "bar"
           }
          ],
          "barpolar": [
           {
            "marker": {
             "line": {
              "color": "#E5ECF6",
              "width": 0.5
             },
             "pattern": {
              "fillmode": "overlay",
              "size": 10,
              "solidity": 0.2
             }
            },
            "type": "barpolar"
           }
          ],
          "carpet": [
           {
            "aaxis": {
             "endlinecolor": "#2a3f5f",
             "gridcolor": "white",
             "linecolor": "white",
             "minorgridcolor": "white",
             "startlinecolor": "#2a3f5f"
            },
            "baxis": {
             "endlinecolor": "#2a3f5f",
             "gridcolor": "white",
             "linecolor": "white",
             "minorgridcolor": "white",
             "startlinecolor": "#2a3f5f"
            },
            "type": "carpet"
           }
          ],
          "choropleth": [
           {
            "colorbar": {
             "outlinewidth": 0,
             "ticks": ""
            },
            "type": "choropleth"
           }
          ],
          "contour": [
           {
            "colorbar": {
             "outlinewidth": 0,
             "ticks": ""
            },
            "colorscale": [
             [
              0,
              "#0d0887"
             ],
             [
              0.1111111111111111,
              "#46039f"
             ],
             [
              0.2222222222222222,
              "#7201a8"
             ],
             [
              0.3333333333333333,
              "#9c179e"
             ],
             [
              0.4444444444444444,
              "#bd3786"
             ],
             [
              0.5555555555555556,
              "#d8576b"
             ],
             [
              0.6666666666666666,
              "#ed7953"
             ],
             [
              0.7777777777777778,
              "#fb9f3a"
             ],
             [
              0.8888888888888888,
              "#fdca26"
             ],
             [
              1,
              "#f0f921"
             ]
            ],
            "type": "contour"
           }
          ],
          "contourcarpet": [
           {
            "colorbar": {
             "outlinewidth": 0,
             "ticks": ""
            },
            "type": "contourcarpet"
           }
          ],
          "heatmap": [
           {
            "colorbar": {
             "outlinewidth": 0,
             "ticks": ""
            },
            "colorscale": [
             [
              0,
              "#0d0887"
             ],
             [
              0.1111111111111111,
              "#46039f"
             ],
             [
              0.2222222222222222,
              "#7201a8"
             ],
             [
              0.3333333333333333,
              "#9c179e"
             ],
             [
              0.4444444444444444,
              "#bd3786"
             ],
             [
              0.5555555555555556,
              "#d8576b"
             ],
             [
              0.6666666666666666,
              "#ed7953"
             ],
             [
              0.7777777777777778,
              "#fb9f3a"
             ],
             [
              0.8888888888888888,
              "#fdca26"
             ],
             [
              1,
              "#f0f921"
             ]
            ],
            "type": "heatmap"
           }
          ],
          "heatmapgl": [
           {
            "colorbar": {
             "outlinewidth": 0,
             "ticks": ""
            },
            "colorscale": [
             [
              0,
              "#0d0887"
             ],
             [
              0.1111111111111111,
              "#46039f"
             ],
             [
              0.2222222222222222,
              "#7201a8"
             ],
             [
              0.3333333333333333,
              "#9c179e"
             ],
             [
              0.4444444444444444,
              "#bd3786"
             ],
             [
              0.5555555555555556,
              "#d8576b"
             ],
             [
              0.6666666666666666,
              "#ed7953"
             ],
             [
              0.7777777777777778,
              "#fb9f3a"
             ],
             [
              0.8888888888888888,
              "#fdca26"
             ],
             [
              1,
              "#f0f921"
             ]
            ],
            "type": "heatmapgl"
           }
          ],
          "histogram": [
           {
            "marker": {
             "pattern": {
              "fillmode": "overlay",
              "size": 10,
              "solidity": 0.2
             }
            },
            "type": "histogram"
           }
          ],
          "histogram2d": [
           {
            "colorbar": {
             "outlinewidth": 0,
             "ticks": ""
            },
            "colorscale": [
             [
              0,
              "#0d0887"
             ],
             [
              0.1111111111111111,
              "#46039f"
             ],
             [
              0.2222222222222222,
              "#7201a8"
             ],
             [
              0.3333333333333333,
              "#9c179e"
             ],
             [
              0.4444444444444444,
              "#bd3786"
             ],
             [
              0.5555555555555556,
              "#d8576b"
             ],
             [
              0.6666666666666666,
              "#ed7953"
             ],
             [
              0.7777777777777778,
              "#fb9f3a"
             ],
             [
              0.8888888888888888,
              "#fdca26"
             ],
             [
              1,
              "#f0f921"
             ]
            ],
            "type": "histogram2d"
           }
          ],
          "histogram2dcontour": [
           {
            "colorbar": {
             "outlinewidth": 0,
             "ticks": ""
            },
            "colorscale": [
             [
              0,
              "#0d0887"
             ],
             [
              0.1111111111111111,
              "#46039f"
             ],
             [
              0.2222222222222222,
              "#7201a8"
             ],
             [
              0.3333333333333333,
              "#9c179e"
             ],
             [
              0.4444444444444444,
              "#bd3786"
             ],
             [
              0.5555555555555556,
              "#d8576b"
             ],
             [
              0.6666666666666666,
              "#ed7953"
             ],
             [
              0.7777777777777778,
              "#fb9f3a"
             ],
             [
              0.8888888888888888,
              "#fdca26"
             ],
             [
              1,
              "#f0f921"
             ]
            ],
            "type": "histogram2dcontour"
           }
          ],
          "mesh3d": [
           {
            "colorbar": {
             "outlinewidth": 0,
             "ticks": ""
            },
            "type": "mesh3d"
           }
          ],
          "parcoords": [
           {
            "line": {
             "colorbar": {
              "outlinewidth": 0,
              "ticks": ""
             }
            },
            "type": "parcoords"
           }
          ],
          "pie": [
           {
            "automargin": true,
            "type": "pie"
           }
          ],
          "scatter": [
           {
            "fillpattern": {
             "fillmode": "overlay",
             "size": 10,
             "solidity": 0.2
            },
            "type": "scatter"
           }
          ],
          "scatter3d": [
           {
            "line": {
             "colorbar": {
              "outlinewidth": 0,
              "ticks": ""
             }
            },
            "marker": {
             "colorbar": {
              "outlinewidth": 0,
              "ticks": ""
             }
            },
            "type": "scatter3d"
           }
          ],
          "scattercarpet": [
           {
            "marker": {
             "colorbar": {
              "outlinewidth": 0,
              "ticks": ""
             }
            },
            "type": "scattercarpet"
           }
          ],
          "scattergeo": [
           {
            "marker": {
             "colorbar": {
              "outlinewidth": 0,
              "ticks": ""
             }
            },
            "type": "scattergeo"
           }
          ],
          "scattergl": [
           {
            "marker": {
             "colorbar": {
              "outlinewidth": 0,
              "ticks": ""
             }
            },
            "type": "scattergl"
           }
          ],
          "scattermapbox": [
           {
            "marker": {
             "colorbar": {
              "outlinewidth": 0,
              "ticks": ""
             }
            },
            "type": "scattermapbox"
           }
          ],
          "scatterpolar": [
           {
            "marker": {
             "colorbar": {
              "outlinewidth": 0,
              "ticks": ""
             }
            },
            "type": "scatterpolar"
           }
          ],
          "scatterpolargl": [
           {
            "marker": {
             "colorbar": {
              "outlinewidth": 0,
              "ticks": ""
             }
            },
            "type": "scatterpolargl"
           }
          ],
          "scatterternary": [
           {
            "marker": {
             "colorbar": {
              "outlinewidth": 0,
              "ticks": ""
             }
            },
            "type": "scatterternary"
           }
          ],
          "surface": [
           {
            "colorbar": {
             "outlinewidth": 0,
             "ticks": ""
            },
            "colorscale": [
             [
              0,
              "#0d0887"
             ],
             [
              0.1111111111111111,
              "#46039f"
             ],
             [
              0.2222222222222222,
              "#7201a8"
             ],
             [
              0.3333333333333333,
              "#9c179e"
             ],
             [
              0.4444444444444444,
              "#bd3786"
             ],
             [
              0.5555555555555556,
              "#d8576b"
             ],
             [
              0.6666666666666666,
              "#ed7953"
             ],
             [
              0.7777777777777778,
              "#fb9f3a"
             ],
             [
              0.8888888888888888,
              "#fdca26"
             ],
             [
              1,
              "#f0f921"
             ]
            ],
            "type": "surface"
           }
          ],
          "table": [
           {
            "cells": {
             "fill": {
              "color": "#EBF0F8"
             },
             "line": {
              "color": "white"
             }
            },
            "header": {
             "fill": {
              "color": "#C8D4E3"
             },
             "line": {
              "color": "white"
             }
            },
            "type": "table"
           }
          ]
         },
         "layout": {
          "annotationdefaults": {
           "arrowcolor": "#2a3f5f",
           "arrowhead": 0,
           "arrowwidth": 1
          },
          "autotypenumbers": "strict",
          "coloraxis": {
           "colorbar": {
            "outlinewidth": 0,
            "ticks": ""
           }
          },
          "colorscale": {
           "diverging": [
            [
             0,
             "#8e0152"
            ],
            [
             0.1,
             "#c51b7d"
            ],
            [
             0.2,
             "#de77ae"
            ],
            [
             0.3,
             "#f1b6da"
            ],
            [
             0.4,
             "#fde0ef"
            ],
            [
             0.5,
             "#f7f7f7"
            ],
            [
             0.6,
             "#e6f5d0"
            ],
            [
             0.7,
             "#b8e186"
            ],
            [
             0.8,
             "#7fbc41"
            ],
            [
             0.9,
             "#4d9221"
            ],
            [
             1,
             "#276419"
            ]
           ],
           "sequential": [
            [
             0,
             "#0d0887"
            ],
            [
             0.1111111111111111,
             "#46039f"
            ],
            [
             0.2222222222222222,
             "#7201a8"
            ],
            [
             0.3333333333333333,
             "#9c179e"
            ],
            [
             0.4444444444444444,
             "#bd3786"
            ],
            [
             0.5555555555555556,
             "#d8576b"
            ],
            [
             0.6666666666666666,
             "#ed7953"
            ],
            [
             0.7777777777777778,
             "#fb9f3a"
            ],
            [
             0.8888888888888888,
             "#fdca26"
            ],
            [
             1,
             "#f0f921"
            ]
           ],
           "sequentialminus": [
            [
             0,
             "#0d0887"
            ],
            [
             0.1111111111111111,
             "#46039f"
            ],
            [
             0.2222222222222222,
             "#7201a8"
            ],
            [
             0.3333333333333333,
             "#9c179e"
            ],
            [
             0.4444444444444444,
             "#bd3786"
            ],
            [
             0.5555555555555556,
             "#d8576b"
            ],
            [
             0.6666666666666666,
             "#ed7953"
            ],
            [
             0.7777777777777778,
             "#fb9f3a"
            ],
            [
             0.8888888888888888,
             "#fdca26"
            ],
            [
             1,
             "#f0f921"
            ]
           ]
          },
          "colorway": [
           "#636efa",
           "#EF553B",
           "#00cc96",
           "#ab63fa",
           "#FFA15A",
           "#19d3f3",
           "#FF6692",
           "#B6E880",
           "#FF97FF",
           "#FECB52"
          ],
          "font": {
           "color": "#2a3f5f"
          },
          "geo": {
           "bgcolor": "white",
           "lakecolor": "white",
           "landcolor": "#E5ECF6",
           "showlakes": true,
           "showland": true,
           "subunitcolor": "white"
          },
          "hoverlabel": {
           "align": "left"
          },
          "hovermode": "closest",
          "mapbox": {
           "style": "light"
          },
          "paper_bgcolor": "white",
          "plot_bgcolor": "#E5ECF6",
          "polar": {
           "angularaxis": {
            "gridcolor": "white",
            "linecolor": "white",
            "ticks": ""
           },
           "bgcolor": "#E5ECF6",
           "radialaxis": {
            "gridcolor": "white",
            "linecolor": "white",
            "ticks": ""
           }
          },
          "scene": {
           "xaxis": {
            "backgroundcolor": "#E5ECF6",
            "gridcolor": "white",
            "gridwidth": 2,
            "linecolor": "white",
            "showbackground": true,
            "ticks": "",
            "zerolinecolor": "white"
           },
           "yaxis": {
            "backgroundcolor": "#E5ECF6",
            "gridcolor": "white",
            "gridwidth": 2,
            "linecolor": "white",
            "showbackground": true,
            "ticks": "",
            "zerolinecolor": "white"
           },
           "zaxis": {
            "backgroundcolor": "#E5ECF6",
            "gridcolor": "white",
            "gridwidth": 2,
            "linecolor": "white",
            "showbackground": true,
            "ticks": "",
            "zerolinecolor": "white"
           }
          },
          "shapedefaults": {
           "line": {
            "color": "#2a3f5f"
           }
          },
          "ternary": {
           "aaxis": {
            "gridcolor": "white",
            "linecolor": "white",
            "ticks": ""
           },
           "baxis": {
            "gridcolor": "white",
            "linecolor": "white",
            "ticks": ""
           },
           "bgcolor": "#E5ECF6",
           "caxis": {
            "gridcolor": "white",
            "linecolor": "white",
            "ticks": ""
           }
          },
          "title": {
           "x": 0.05
          },
          "xaxis": {
           "automargin": true,
           "gridcolor": "white",
           "linecolor": "white",
           "ticks": "",
           "title": {
            "standoff": 15
           },
           "zerolinecolor": "white",
           "zerolinewidth": 2
          },
          "yaxis": {
           "automargin": true,
           "gridcolor": "white",
           "linecolor": "white",
           "ticks": "",
           "title": {
            "standoff": 15
           },
           "zerolinecolor": "white",
           "zerolinewidth": 2
          }
         }
        },
        "title": {
         "text": "Potentially Loyal"
        }
       }
      }
     },
     "metadata": {},
     "output_type": "display_data"
    }
   ],
   "source": [
    "import plotly.express as px\n",
    "import pandas as pd\n",
    "\n",
    "segment_groups = df_customer_datamart.groupby('General_Segment')\n",
    "for segment, segment_data in segment_groups:\n",
    "    sub_segment_columns=['customerEducation', 'customerIndustry', 'customerGeneration']\n",
    "    group_data = segment_data.groupby(sub_segment_columns).size().reset_index(name='count')\n",
    "    group_data[\"all\"] = segment # in order to have a single root node\n",
    "    fig = px.treemap(group_data,path=sub_segment_columns, values='count', title=segment)\n",
    "    fig.update_traces(root_color=\"lightgrey\")\n",
    "    fig.update_layout(margin = dict(t=50, l=25, r=25, b=25))\n",
    "    fig.show()\n",
    "    \n",
    "for segment, segment_data in segment_groups:\n",
    "    sub_segment_columns=['customerState']\n",
    "    group_data = segment_data.groupby(sub_segment_columns).size().reset_index(name='count')\n",
    "    group_data[\"all\"] = segment # in order to have a single root node\n",
    "    fig = px.treemap(group_data,path=sub_segment_columns, values='count', title=segment)\n",
    "    fig.update_traces(root_color=\"lightgrey\")\n",
    "    fig.update_layout(margin = dict(t=50, l=25, r=25, b=25))\n",
    "    fig.show()"
   ]
  },
  {
   "attachments": {},
   "cell_type": "markdown",
   "metadata": {},
   "source": [
    "## Save data for further evaluation and action."
   ]
  },
  {
   "cell_type": "code",
   "execution_count": 40,
   "metadata": {},
   "outputs": [
    {
     "name": "stdout",
     "output_type": "stream",
     "text": [
      "Data is saved to files\n",
      "./data/output/customer_data.csv\n",
      "./data/output/customer_transaction_data.csv\n",
      "\n"
     ]
    }
   ],
   "source": [
    "import os\n",
    "\n",
    "\n",
    "transaction_data_file = config.get('OUTPUT','transaction_data',\n",
    "                                 fallback='./data/output/customer_transaction_data.csv')\n",
    "\n",
    "customer_data_file = config.get('OUTPUT','customer_data',\n",
    "                                 fallback='./data/output/customer_data.csv')\n",
    "\n",
    "os.makedirs(os.path.dirname(transaction_data_file),exist_ok=True)\n",
    "os.makedirs(os.path.dirname(customer_data_file),exist_ok=True)\n",
    "\n",
    "df_transactions.to_csv(transaction_data_file, index=False)\n",
    "df_customer_datamart.to_csv(customer_data_file, index=False)\n",
    "\n",
    "print(f\"Data is saved to files\\n{customer_data_file}\\n{transaction_data_file}\\n\")"
   ]
  }
 ],
 "metadata": {
  "kernelspec": {
   "display_name": "CustomerSegmentation",
   "language": "python",
   "name": "python3"
  },
  "language_info": {
   "codemirror_mode": {
    "name": "ipython",
    "version": 3
   },
   "file_extension": ".py",
   "mimetype": "text/x-python",
   "name": "python",
   "nbconvert_exporter": "python",
   "pygments_lexer": "ipython3",
   "version": "3.9.16"
  },
  "orig_nbformat": 4,
  "vscode": {
   "interpreter": {
    "hash": "42aa851c8377e5a804327342fb884cfe50e031d71c327b63ad8a2fec8fa88eb6"
   }
  }
 },
 "nbformat": 4,
 "nbformat_minor": 2
}
