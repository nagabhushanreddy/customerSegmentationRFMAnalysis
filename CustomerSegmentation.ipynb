{
 "cells": [
  {
   "attachments": {},
   "cell_type": "markdown",
   "metadata": {},
   "source": [
    "# RFM Segmentation with python (The Data analytics approach to gain customer insights.)"
   ]
  },
  {
   "attachments": {},
   "cell_type": "markdown",
   "metadata": {},
   "source": [
    "## Import required libraries "
   ]
  },
  {
   "cell_type": "code",
   "execution_count": 121,
   "metadata": {},
   "outputs": [],
   "source": [
    "# importing required packages\n",
    "import pandas as pd\n",
    "import datetime as dt\n",
    "from utils.config import config"
   ]
  },
  {
   "attachments": {},
   "cell_type": "markdown",
   "metadata": {},
   "source": [
    "## Download or import transaction data and customer data"
   ]
  },
  {
   "cell_type": "code",
   "execution_count": 122,
   "metadata": {},
   "outputs": [],
   "source": [
    "\n",
    "transact_data_file = config.get('INPUT','transaction_data',\n",
    "                                 fallback='./data/input/customer_transaction_data.csv')\n",
    "\n",
    "customer_data_file = config.get('INPUT','customer_data',\n",
    "                                 fallback='./data/input/customer_data.csv')\n",
    "\n",
    "df_customer = pd.read_csv(customer_data_file, on_bad_lines='skip')\n",
    "df_transactions = pd.read_csv(transact_data_file, parse_dates=['transactionDate'], on_bad_lines='skip')"
   ]
  },
  {
   "cell_type": "code",
   "execution_count": 123,
   "metadata": {},
   "outputs": [
    {
     "name": "stdout",
     "output_type": "stream",
     "text": [
      "<class 'pandas.core.frame.DataFrame'>\n",
      "RangeIndex: 1500 entries, 0 to 1499\n",
      "Data columns (total 8 columns):\n",
      " #   Column                         Non-Null Count  Dtype \n",
      "---  ------                         --------------  ----- \n",
      " 0   customerID                     1500 non-null   int64 \n",
      " 1   customerName                   1500 non-null   object\n",
      " 2   customerAge                    1500 non-null   int64 \n",
      " 3   customerGender                 1500 non-null   object\n",
      " 4   customerLocation               1500 non-null   object\n",
      " 5   customerEducation              1500 non-null   object\n",
      " 6   customerIndustry               1500 non-null   object\n",
      " 7   customerAuthorizedSignatories  1500 non-null   object\n",
      "dtypes: int64(2), object(6)\n",
      "memory usage: 93.9+ KB\n"
     ]
    },
    {
     "data": {
      "text/html": [
       "<div>\n",
       "<style scoped>\n",
       "    .dataframe tbody tr th:only-of-type {\n",
       "        vertical-align: middle;\n",
       "    }\n",
       "\n",
       "    .dataframe tbody tr th {\n",
       "        vertical-align: top;\n",
       "    }\n",
       "\n",
       "    .dataframe thead th {\n",
       "        text-align: right;\n",
       "    }\n",
       "</style>\n",
       "<table border=\"1\" class=\"dataframe\">\n",
       "  <thead>\n",
       "    <tr style=\"text-align: right;\">\n",
       "      <th></th>\n",
       "      <th>customerID</th>\n",
       "      <th>customerAge</th>\n",
       "    </tr>\n",
       "  </thead>\n",
       "  <tbody>\n",
       "    <tr>\n",
       "      <th>count</th>\n",
       "      <td>1.500000e+03</td>\n",
       "      <td>1500.000000</td>\n",
       "    </tr>\n",
       "    <tr>\n",
       "      <th>mean</th>\n",
       "      <td>5.668225e+07</td>\n",
       "      <td>52.958000</td>\n",
       "    </tr>\n",
       "    <tr>\n",
       "      <th>std</th>\n",
       "      <td>2.594349e+07</td>\n",
       "      <td>15.978061</td>\n",
       "    </tr>\n",
       "    <tr>\n",
       "      <th>min</th>\n",
       "      <td>1.004613e+07</td>\n",
       "      <td>20.000000</td>\n",
       "    </tr>\n",
       "    <tr>\n",
       "      <th>25%</th>\n",
       "      <td>3.448503e+07</td>\n",
       "      <td>42.000000</td>\n",
       "    </tr>\n",
       "    <tr>\n",
       "      <th>50%</th>\n",
       "      <td>5.724278e+07</td>\n",
       "      <td>54.500000</td>\n",
       "    </tr>\n",
       "    <tr>\n",
       "      <th>75%</th>\n",
       "      <td>7.924162e+07</td>\n",
       "      <td>66.000000</td>\n",
       "    </tr>\n",
       "    <tr>\n",
       "      <th>max</th>\n",
       "      <td>9.991413e+07</td>\n",
       "      <td>80.000000</td>\n",
       "    </tr>\n",
       "  </tbody>\n",
       "</table>\n",
       "</div>"
      ],
      "text/plain": [
       "         customerID  customerAge\n",
       "count  1.500000e+03  1500.000000\n",
       "mean   5.668225e+07    52.958000\n",
       "std    2.594349e+07    15.978061\n",
       "min    1.004613e+07    20.000000\n",
       "25%    3.448503e+07    42.000000\n",
       "50%    5.724278e+07    54.500000\n",
       "75%    7.924162e+07    66.000000\n",
       "max    9.991413e+07    80.000000"
      ]
     },
     "execution_count": 123,
     "metadata": {},
     "output_type": "execute_result"
    }
   ],
   "source": [
    "df_customer.info()\n",
    "df_customer.describe()"
   ]
  },
  {
   "cell_type": "code",
   "execution_count": 124,
   "metadata": {},
   "outputs": [
    {
     "name": "stdout",
     "output_type": "stream",
     "text": [
      "<class 'pandas.core.frame.DataFrame'>\n",
      "RangeIndex: 107895 entries, 0 to 107894\n",
      "Data columns (total 11 columns):\n",
      " #   Column                Non-Null Count   Dtype         \n",
      "---  ------                --------------   -----         \n",
      " 0   transactionReference  107895 non-null  object        \n",
      " 1   transactionDate       107895 non-null  datetime64[ns]\n",
      " 2   payeeAccountNumber    107895 non-null  int64         \n",
      " 3   payeeName             107895 non-null  object        \n",
      " 4   payeeIndustry         0 non-null       float64       \n",
      " 5   transactionCode       107895 non-null  object        \n",
      " 6   amount                107895 non-null  float64       \n",
      " 7   indicator             107895 non-null  object        \n",
      " 8   transferNotes         87093 non-null   object        \n",
      " 9   transactionCategory   107895 non-null  object        \n",
      " 10  customerID            107895 non-null  int64         \n",
      "dtypes: datetime64[ns](1), float64(2), int64(2), object(6)\n",
      "memory usage: 9.1+ MB\n"
     ]
    },
    {
     "data": {
      "text/html": [
       "<div>\n",
       "<style scoped>\n",
       "    .dataframe tbody tr th:only-of-type {\n",
       "        vertical-align: middle;\n",
       "    }\n",
       "\n",
       "    .dataframe tbody tr th {\n",
       "        vertical-align: top;\n",
       "    }\n",
       "\n",
       "    .dataframe thead th {\n",
       "        text-align: right;\n",
       "    }\n",
       "</style>\n",
       "<table border=\"1\" class=\"dataframe\">\n",
       "  <thead>\n",
       "    <tr style=\"text-align: right;\">\n",
       "      <th></th>\n",
       "      <th>payeeAccountNumber</th>\n",
       "      <th>payeeIndustry</th>\n",
       "      <th>amount</th>\n",
       "      <th>customerID</th>\n",
       "    </tr>\n",
       "  </thead>\n",
       "  <tbody>\n",
       "    <tr>\n",
       "      <th>count</th>\n",
       "      <td>1.078950e+05</td>\n",
       "      <td>0.0</td>\n",
       "      <td>107895.000000</td>\n",
       "      <td>1.078950e+05</td>\n",
       "    </tr>\n",
       "    <tr>\n",
       "      <th>mean</th>\n",
       "      <td>4.987604e+09</td>\n",
       "      <td>NaN</td>\n",
       "      <td>3978.089271</td>\n",
       "      <td>5.665544e+07</td>\n",
       "    </tr>\n",
       "    <tr>\n",
       "      <th>std</th>\n",
       "      <td>2.883222e+09</td>\n",
       "      <td>NaN</td>\n",
       "      <td>3085.140476</td>\n",
       "      <td>2.601520e+07</td>\n",
       "    </tr>\n",
       "    <tr>\n",
       "      <th>min</th>\n",
       "      <td>6.424900e+04</td>\n",
       "      <td>NaN</td>\n",
       "      <td>100.100000</td>\n",
       "      <td>1.004613e+07</td>\n",
       "    </tr>\n",
       "    <tr>\n",
       "      <th>25%</th>\n",
       "      <td>2.492739e+09</td>\n",
       "      <td>NaN</td>\n",
       "      <td>878.550000</td>\n",
       "      <td>3.422704e+07</td>\n",
       "    </tr>\n",
       "    <tr>\n",
       "      <th>50%</th>\n",
       "      <td>4.982691e+09</td>\n",
       "      <td>NaN</td>\n",
       "      <td>3500.000000</td>\n",
       "      <td>5.689898e+07</td>\n",
       "    </tr>\n",
       "    <tr>\n",
       "      <th>75%</th>\n",
       "      <td>7.478428e+09</td>\n",
       "      <td>NaN</td>\n",
       "      <td>6629.245000</td>\n",
       "      <td>7.986427e+07</td>\n",
       "    </tr>\n",
       "    <tr>\n",
       "      <th>max</th>\n",
       "      <td>9.999903e+09</td>\n",
       "      <td>NaN</td>\n",
       "      <td>9998.990000</td>\n",
       "      <td>9.991413e+07</td>\n",
       "    </tr>\n",
       "  </tbody>\n",
       "</table>\n",
       "</div>"
      ],
      "text/plain": [
       "       payeeAccountNumber  payeeIndustry         amount    customerID\n",
       "count        1.078950e+05            0.0  107895.000000  1.078950e+05\n",
       "mean         4.987604e+09            NaN    3978.089271  5.665544e+07\n",
       "std          2.883222e+09            NaN    3085.140476  2.601520e+07\n",
       "min          6.424900e+04            NaN     100.100000  1.004613e+07\n",
       "25%          2.492739e+09            NaN     878.550000  3.422704e+07\n",
       "50%          4.982691e+09            NaN    3500.000000  5.689898e+07\n",
       "75%          7.478428e+09            NaN    6629.245000  7.986427e+07\n",
       "max          9.999903e+09            NaN    9998.990000  9.991413e+07"
      ]
     },
     "execution_count": 124,
     "metadata": {},
     "output_type": "execute_result"
    }
   ],
   "source": [
    "df_transactions.info()\n",
    "df_transactions.describe()"
   ]
  },
  {
   "attachments": {},
   "cell_type": "markdown",
   "metadata": {},
   "source": [
    "## Data Preparation"
   ]
  },
  {
   "cell_type": "code",
   "execution_count": 125,
   "metadata": {},
   "outputs": [
    {
     "data": {
      "text/plain": [
       "customerID                       False\n",
       "customerName                     False\n",
       "customerAge                      False\n",
       "customerGender                   False\n",
       "customerLocation                 False\n",
       "customerEducation                False\n",
       "customerIndustry                 False\n",
       "customerAuthorizedSignatories    False\n",
       "dtype: bool"
      ]
     },
     "execution_count": 125,
     "metadata": {},
     "output_type": "execute_result"
    }
   ],
   "source": [
    "df_customer[df_customer.duplicated()].any()"
   ]
  },
  {
   "cell_type": "code",
   "execution_count": 126,
   "metadata": {},
   "outputs": [
    {
     "data": {
      "text/plain": [
       "transactionReference    False\n",
       "transactionDate         False\n",
       "payeeAccountNumber      False\n",
       "payeeName               False\n",
       "payeeIndustry           False\n",
       "transactionCode         False\n",
       "amount                  False\n",
       "indicator               False\n",
       "transferNotes           False\n",
       "transactionCategory     False\n",
       "customerID              False\n",
       "dtype: bool"
      ]
     },
     "execution_count": 126,
     "metadata": {},
     "output_type": "execute_result"
    }
   ],
   "source": [
    "df_transactions[df_transactions.duplicated()].any()"
   ]
  },
  {
   "attachments": {},
   "cell_type": "markdown",
   "metadata": {},
   "source": [
    "## Data Cleaning"
   ]
  },
  {
   "cell_type": "code",
   "execution_count": 127,
   "metadata": {},
   "outputs": [],
   "source": [
    "#Data Cleaning for customers \n",
    "\n",
    "#Dropping Duplicates\n",
    "df_customer.drop_duplicates(inplace=True)\n",
    "generations = lambda age: 'Gen Z' if age <= 24 else 'Millennials' if age <= 40 else 'Gen X' if age <= 55 else 'Baby Boomers' if age <= 75 else 'Silent Generation'\n",
    "df_customer['customerGeneration'] = df_customer['customerAge'].apply(generations)\n",
    "state = lambda x: x.split(\",\")[-1].split()[0] if len(x.split(\",\")[-1].split()) == 2 else None\n",
    "df_customer['customerState'] = df_customer['customerLocation'].apply(state)\n",
    "\n",
    "#Data cleaning for transactions \n",
    "df_transactions.drop_duplicates(inplace=True)\n",
    "df_transactions = df_transactions[df_transactions['customerID'].isin(df_customer['customerID'])]\n",
    "df_transactions['amount'] = df_transactions['amount'].apply(abs)\n"
   ]
  },
  {
   "cell_type": "code",
   "execution_count": 128,
   "metadata": {},
   "outputs": [
    {
     "data": {
      "text/plain": [
       "transactionReference    False\n",
       "transactionDate         False\n",
       "payeeAccountNumber      False\n",
       "payeeName               False\n",
       "payeeIndustry           False\n",
       "transactionCode         False\n",
       "amount                  False\n",
       "indicator               False\n",
       "transferNotes           False\n",
       "transactionCategory     False\n",
       "customerID              False\n",
       "dtype: bool"
      ]
     },
     "execution_count": 128,
     "metadata": {},
     "output_type": "execute_result"
    }
   ],
   "source": [
    "#Checking if duplicates have been dropped\n",
    "df_transactions[df_transactions.duplicated()].any()"
   ]
  },
  {
   "cell_type": "code",
   "execution_count": 129,
   "metadata": {},
   "outputs": [
    {
     "data": {
      "text/plain": [
       "1500"
      ]
     },
     "execution_count": 129,
     "metadata": {},
     "output_type": "execute_result"
    }
   ],
   "source": [
    "#Checking for the number of unique Customers\n",
    "df_transactions['customerID'].nunique()"
   ]
  },
  {
   "cell_type": "code",
   "execution_count": 130,
   "metadata": {},
   "outputs": [
    {
     "data": {
      "text/plain": [
       "(107895, 11)"
      ]
     },
     "execution_count": 130,
     "metadata": {},
     "output_type": "execute_result"
    }
   ],
   "source": [
    "# Checking for the total number of transaction records\n",
    "df_transactions.shape"
   ]
  },
  {
   "cell_type": "code",
   "execution_count": 131,
   "metadata": {},
   "outputs": [
    {
     "name": "stdout",
     "output_type": "stream",
     "text": [
      "Min:2021-05-02 00:00:00; max:2023-05-01 00:00:00\n"
     ]
    }
   ],
   "source": [
    "# Checking for the max and min InvoiceData inorder to calculate number of months of data available\n",
    "print('Min:{}; max:{}'.format(min(df_transactions.transactionDate),max(df_transactions.transactionDate)))"
   ]
  },
  {
   "attachments": {},
   "cell_type": "markdown",
   "metadata": {},
   "source": [
    "# Cohort Analysis\n",
    "\n",
    "Descriptive analytics tool used to group customers into mutually exclusive cohorts measured over time. Helps understand high level trends better by providing insight on metrics across products ans Customer life cycle."
   ]
  },
  {
   "attachments": {},
   "cell_type": "markdown",
   "metadata": {},
   "source": [
    "## Assign Acquisition Month Cohort to each Customer\n",
    "Assumption: Considert first transactionDate as acquisition date"
   ]
  },
  {
   "cell_type": "code",
   "execution_count": 132,
   "metadata": {},
   "outputs": [],
   "source": [
    "# Define a function that will parse the date, it truncates given date obect to the first day of the month\n",
    "def get_month(x): return dt.datetime(x.year, x.month, 1) \n",
    "\n",
    "def get_quarter_start(x):\n",
    "    quarter_start_month = ((x.month - 1) // 3) * 3 + 1\n",
    "    return dt.datetime(x.year, quarter_start_month, 1)\n",
    "\n",
    "def get_cohort_start_date(x):\n",
    "    cohort = config.get('GROUPING','cohort',\n",
    "                                 fallback='MONTHLY')\n",
    "    x = get_month(x) if cohort == 'MONTHLY' else get_quarter_start(x) if cohort == 'QUARTERLY' else x \n",
    "    return x \n",
    "\n",
    "# Apply get_month method to transactionDate and create acquisitionDate Column\n",
    "df_transactions['acquisitionDate'] = df_transactions['transactionDate'].apply(get_cohort_start_date) \n",
    "\n",
    "# Create groupby Obj with customerID & use acquisitionDate column for further Manipulation\n",
    "grouping = df_transactions.groupby('customerID')['acquisitionDate'] \n",
    "\n",
    "# Finally Transform with min function to assign the smallest acquisitionDate Value to each Customer in the DataSet\n",
    "df_transactions['cohort'] = grouping.transform('min')"
   ]
  },
  {
   "cell_type": "code",
   "execution_count": 133,
   "metadata": {},
   "outputs": [],
   "source": [
    "#Extract integer values from the data\n",
    "def get_date_int(data,column):\n",
    "    year=data[column].dt.year\n",
    "    month=data[column].dt.month\n",
    "    day=data[column].dt.day\n",
    "    return year, month, day"
   ]
  },
  {
   "cell_type": "code",
   "execution_count": 134,
   "metadata": {},
   "outputs": [
    {
     "data": {
      "text/html": [
       "<div>\n",
       "<style scoped>\n",
       "    .dataframe tbody tr th:only-of-type {\n",
       "        vertical-align: middle;\n",
       "    }\n",
       "\n",
       "    .dataframe tbody tr th {\n",
       "        vertical-align: top;\n",
       "    }\n",
       "\n",
       "    .dataframe thead th {\n",
       "        text-align: right;\n",
       "    }\n",
       "</style>\n",
       "<table border=\"1\" class=\"dataframe\">\n",
       "  <thead>\n",
       "    <tr style=\"text-align: right;\">\n",
       "      <th></th>\n",
       "      <th>transactionReference</th>\n",
       "      <th>transactionDate</th>\n",
       "      <th>payeeAccountNumber</th>\n",
       "      <th>payeeName</th>\n",
       "      <th>payeeIndustry</th>\n",
       "      <th>transactionCode</th>\n",
       "      <th>amount</th>\n",
       "      <th>indicator</th>\n",
       "      <th>transferNotes</th>\n",
       "      <th>transactionCategory</th>\n",
       "      <th>customerID</th>\n",
       "      <th>acquisitionDate</th>\n",
       "      <th>cohort</th>\n",
       "      <th>CohortIndex</th>\n",
       "    </tr>\n",
       "  </thead>\n",
       "  <tbody>\n",
       "    <tr>\n",
       "      <th>0</th>\n",
       "      <td>d80f337c5f81428eb5cc67e93864d7af</td>\n",
       "      <td>2023-02-25</td>\n",
       "      <td>7165930885</td>\n",
       "      <td>Wijayanti Ltd Shipment LLC</td>\n",
       "      <td>NaN</td>\n",
       "      <td>GIRO</td>\n",
       "      <td>8045.50</td>\n",
       "      <td>DB</td>\n",
       "      <td>transport</td>\n",
       "      <td>Transportation costs</td>\n",
       "      <td>68370032</td>\n",
       "      <td>2023-02-01</td>\n",
       "      <td>2021-05-01</td>\n",
       "      <td>22</td>\n",
       "    </tr>\n",
       "    <tr>\n",
       "      <th>1</th>\n",
       "      <td>48ddb2dd7c704bf0825005384356aa41</td>\n",
       "      <td>2022-11-27</td>\n",
       "      <td>6068871754</td>\n",
       "      <td>Megantara Ltd  LLC</td>\n",
       "      <td>NaN</td>\n",
       "      <td>TT</td>\n",
       "      <td>7532.19</td>\n",
       "      <td>DB</td>\n",
       "      <td>pay</td>\n",
       "      <td>Other Outgoing</td>\n",
       "      <td>68370032</td>\n",
       "      <td>2022-11-01</td>\n",
       "      <td>2021-05-01</td>\n",
       "      <td>19</td>\n",
       "    </tr>\n",
       "    <tr>\n",
       "      <th>2</th>\n",
       "      <td>a223f421cf2b4e69a780e3114b74020a</td>\n",
       "      <td>2021-05-13</td>\n",
       "      <td>4930832466</td>\n",
       "      <td>Puspasari-Sinaga Beverages and Sons</td>\n",
       "      <td>NaN</td>\n",
       "      <td>MB</td>\n",
       "      <td>9010.51</td>\n",
       "      <td>DB</td>\n",
       "      <td>coffee</td>\n",
       "      <td>Meals and entertainment</td>\n",
       "      <td>68370032</td>\n",
       "      <td>2021-05-01</td>\n",
       "      <td>2021-05-01</td>\n",
       "      <td>1</td>\n",
       "    </tr>\n",
       "    <tr>\n",
       "      <th>3</th>\n",
       "      <td>091f3b20bcc74ab8bd15cfd048fabdfe</td>\n",
       "      <td>2021-05-07</td>\n",
       "      <td>7542270260</td>\n",
       "      <td>Prabowo-Utami Energy Ltd</td>\n",
       "      <td>NaN</td>\n",
       "      <td>IB</td>\n",
       "      <td>3642.16</td>\n",
       "      <td>DB</td>\n",
       "      <td>heating</td>\n",
       "      <td>Utilities</td>\n",
       "      <td>68370032</td>\n",
       "      <td>2021-05-01</td>\n",
       "      <td>2021-05-01</td>\n",
       "      <td>1</td>\n",
       "    </tr>\n",
       "    <tr>\n",
       "      <th>4</th>\n",
       "      <td>aa9128c120de4d48b7bd84180ad14363</td>\n",
       "      <td>2022-10-28</td>\n",
       "      <td>137117784</td>\n",
       "      <td>Mansur, Hutapea and Yulianti Development LLC</td>\n",
       "      <td>NaN</td>\n",
       "      <td>GIRO</td>\n",
       "      <td>3607.85</td>\n",
       "      <td>DB</td>\n",
       "      <td>s/w</td>\n",
       "      <td>IT expenses</td>\n",
       "      <td>68370032</td>\n",
       "      <td>2022-10-01</td>\n",
       "      <td>2021-05-01</td>\n",
       "      <td>18</td>\n",
       "    </tr>\n",
       "  </tbody>\n",
       "</table>\n",
       "</div>"
      ],
      "text/plain": [
       "               transactionReference transactionDate  payeeAccountNumber  \\\n",
       "0  d80f337c5f81428eb5cc67e93864d7af      2023-02-25          7165930885   \n",
       "1  48ddb2dd7c704bf0825005384356aa41      2022-11-27          6068871754   \n",
       "2  a223f421cf2b4e69a780e3114b74020a      2021-05-13          4930832466   \n",
       "3  091f3b20bcc74ab8bd15cfd048fabdfe      2021-05-07          7542270260   \n",
       "4  aa9128c120de4d48b7bd84180ad14363      2022-10-28           137117784   \n",
       "\n",
       "                                      payeeName  payeeIndustry  \\\n",
       "0                    Wijayanti Ltd Shipment LLC            NaN   \n",
       "1                            Megantara Ltd  LLC            NaN   \n",
       "2           Puspasari-Sinaga Beverages and Sons            NaN   \n",
       "3                      Prabowo-Utami Energy Ltd            NaN   \n",
       "4  Mansur, Hutapea and Yulianti Development LLC            NaN   \n",
       "\n",
       "  transactionCode   amount indicator transferNotes       transactionCategory  \\\n",
       "0            GIRO  8045.50        DB     transport      Transportation costs   \n",
       "1              TT  7532.19        DB           pay            Other Outgoing   \n",
       "2              MB  9010.51        DB        coffee  Meals and entertainment    \n",
       "3              IB  3642.16        DB       heating                 Utilities   \n",
       "4            GIRO  3607.85        DB           s/w               IT expenses   \n",
       "\n",
       "   customerID acquisitionDate     cohort  CohortIndex  \n",
       "0    68370032      2023-02-01 2021-05-01           22  \n",
       "1    68370032      2022-11-01 2021-05-01           19  \n",
       "2    68370032      2021-05-01 2021-05-01            1  \n",
       "3    68370032      2021-05-01 2021-05-01            1  \n",
       "4    68370032      2022-10-01 2021-05-01           18  "
      ]
     },
     "execution_count": 134,
     "metadata": {},
     "output_type": "execute_result"
    }
   ],
   "source": [
    "# Assign Time Offset Value\n",
    "invoice_year, invoice_month, _=get_date_int(df_transactions,'acquisitionDate')\n",
    "cohort_year, cohort_month,_=get_date_int(df_transactions,'cohort')\n",
    "year_diff= invoice_year-cohort_year\n",
    "month_diff=invoice_month-cohort_month\n",
    "#+1 for first month to be marked as one instead of 0 for better interpretetation\n",
    "df_transactions['CohortIndex']= (year_diff*12) + (month_diff+1)\n",
    "#check if the new column has been added. CohortIndex\n",
    "df_transactions.head()"
   ]
  },
  {
   "cell_type": "code",
   "execution_count": 135,
   "metadata": {},
   "outputs": [
    {
     "name": "stdout",
     "output_type": "stream",
     "text": [
      "CohortIndex     1      2      3      4      5      6      7      8      9   \\\n",
      "cohort                                                                       \n",
      "2021-05-01   485.0  437.0  430.0  433.0  435.0  431.0  224.0  224.0  224.0   \n",
      "2021-06-01    53.0   27.0   25.0   28.0   28.0    1.0    1.0    1.0    1.0   \n",
      "2021-07-01   509.0  477.0  478.0  476.0  477.0  478.0  480.0  470.0  477.0   \n",
      "2021-08-01    68.0   44.0   42.0   42.0   42.0   44.0   44.0   44.0   44.0   \n",
      "2021-09-01    24.0    NaN    NaN    NaN    NaN    NaN    NaN    NaN    NaN   \n",
      "2021-10-01    14.0    NaN    NaN    NaN    NaN    NaN    NaN    NaN    NaN   \n",
      "2021-11-01   233.0  203.0  207.0  202.0  206.0  200.0  203.0  201.0  206.0   \n",
      "2021-12-01    31.0    6.0    8.0    8.0    8.0    7.0    8.0    7.0    8.0   \n",
      "2022-01-01    30.0    NaN    NaN    NaN    NaN    NaN    NaN    NaN    NaN   \n",
      "2022-02-01    14.0    NaN    NaN    NaN    NaN    NaN    NaN    NaN    NaN   \n",
      "2022-03-01    18.0    NaN    NaN    NaN    NaN    NaN    NaN    NaN    NaN   \n",
      "2022-04-01    21.0    NaN    NaN    NaN    NaN    NaN    NaN    NaN    NaN   \n",
      "\n",
      "CohortIndex     10  ...     16     17     18     19     20     21     22  \\\n",
      "cohort              ...                                                    \n",
      "2021-05-01   223.0  ...  224.0  224.0  223.0  224.0  224.0  224.0  224.0   \n",
      "2021-06-01     1.0  ...    1.0    1.0    1.0    1.0    1.0    1.0    1.0   \n",
      "2021-07-01   475.0  ...  475.0  474.0  479.0  475.0  472.0  478.0  473.0   \n",
      "2021-08-01    44.0  ...   44.0   44.0   44.0   44.0   44.0   44.0    7.0   \n",
      "2021-09-01     NaN  ...    NaN    NaN    NaN    NaN    NaN    NaN    NaN   \n",
      "2021-10-01     NaN  ...    NaN    NaN    NaN    NaN    NaN    NaN    NaN   \n",
      "2021-11-01   209.0  ...  195.0  208.0  208.0   11.0    NaN    NaN    NaN   \n",
      "2021-12-01     8.0  ...    7.0    8.0    1.0    NaN    NaN    NaN    NaN   \n",
      "2022-01-01     NaN  ...    NaN    NaN    NaN    NaN    NaN    NaN    NaN   \n",
      "2022-02-01     NaN  ...    NaN    NaN    NaN    NaN    NaN    NaN    NaN   \n",
      "2022-03-01     NaN  ...    NaN    NaN    NaN    NaN    NaN    NaN    NaN   \n",
      "2022-04-01     NaN  ...    NaN    NaN    NaN    NaN    NaN    NaN    NaN   \n",
      "\n",
      "CohortIndex     23     24    25  \n",
      "cohort                           \n",
      "2021-05-01   224.0  224.0  55.0  \n",
      "2021-06-01     1.0    NaN   NaN  \n",
      "2021-07-01    70.0    NaN   NaN  \n",
      "2021-08-01     NaN    NaN   NaN  \n",
      "2021-09-01     NaN    NaN   NaN  \n",
      "2021-10-01     NaN    NaN   NaN  \n",
      "2021-11-01     NaN    NaN   NaN  \n",
      "2021-12-01     NaN    NaN   NaN  \n",
      "2022-01-01     NaN    NaN   NaN  \n",
      "2022-02-01     NaN    NaN   NaN  \n",
      "2022-03-01     NaN    NaN   NaN  \n",
      "2022-04-01     NaN    NaN   NaN  \n",
      "\n",
      "[12 rows x 25 columns]\n"
     ]
    }
   ],
   "source": [
    "grouping = df_transactions.groupby(['cohort', 'CohortIndex'])\n",
    "\n",
    "cohort_data = grouping['customerID'].apply(pd.Series.nunique)\n",
    "\n",
    "cohort_data = cohort_data.reset_index()\n",
    "\n",
    "cohort_counts = cohort_data.pivot(index='cohort',\n",
    "                                 columns='CohortIndex',\n",
    "                                 values='customerID')\n",
    "print(cohort_counts)"
   ]
  },
  {
   "cell_type": "code",
   "execution_count": 136,
   "metadata": {},
   "outputs": [
    {
     "data": {
      "text/html": [
       "<div>\n",
       "<style scoped>\n",
       "    .dataframe tbody tr th:only-of-type {\n",
       "        vertical-align: middle;\n",
       "    }\n",
       "\n",
       "    .dataframe tbody tr th {\n",
       "        vertical-align: top;\n",
       "    }\n",
       "\n",
       "    .dataframe thead th {\n",
       "        text-align: right;\n",
       "    }\n",
       "</style>\n",
       "<table border=\"1\" class=\"dataframe\">\n",
       "  <thead>\n",
       "    <tr style=\"text-align: right;\">\n",
       "      <th>CohortIndex</th>\n",
       "      <th>1</th>\n",
       "      <th>2</th>\n",
       "      <th>3</th>\n",
       "      <th>4</th>\n",
       "      <th>5</th>\n",
       "      <th>6</th>\n",
       "      <th>7</th>\n",
       "      <th>8</th>\n",
       "      <th>9</th>\n",
       "      <th>10</th>\n",
       "      <th>...</th>\n",
       "      <th>16</th>\n",
       "      <th>17</th>\n",
       "      <th>18</th>\n",
       "      <th>19</th>\n",
       "      <th>20</th>\n",
       "      <th>21</th>\n",
       "      <th>22</th>\n",
       "      <th>23</th>\n",
       "      <th>24</th>\n",
       "      <th>25</th>\n",
       "    </tr>\n",
       "  </thead>\n",
       "  <tbody>\n",
       "    <tr>\n",
       "      <th>2021-05-01</th>\n",
       "      <td>100.0</td>\n",
       "      <td>90.1</td>\n",
       "      <td>88.7</td>\n",
       "      <td>89.3</td>\n",
       "      <td>89.7</td>\n",
       "      <td>88.9</td>\n",
       "      <td>46.2</td>\n",
       "      <td>46.2</td>\n",
       "      <td>46.2</td>\n",
       "      <td>46.0</td>\n",
       "      <td>...</td>\n",
       "      <td>46.2</td>\n",
       "      <td>46.2</td>\n",
       "      <td>46.0</td>\n",
       "      <td>46.2</td>\n",
       "      <td>46.2</td>\n",
       "      <td>46.2</td>\n",
       "      <td>46.2</td>\n",
       "      <td>46.2</td>\n",
       "      <td>46.2</td>\n",
       "      <td>11.3</td>\n",
       "    </tr>\n",
       "    <tr>\n",
       "      <th>2021-06-01</th>\n",
       "      <td>100.0</td>\n",
       "      <td>50.9</td>\n",
       "      <td>47.2</td>\n",
       "      <td>52.8</td>\n",
       "      <td>52.8</td>\n",
       "      <td>1.9</td>\n",
       "      <td>1.9</td>\n",
       "      <td>1.9</td>\n",
       "      <td>1.9</td>\n",
       "      <td>1.9</td>\n",
       "      <td>...</td>\n",
       "      <td>1.9</td>\n",
       "      <td>1.9</td>\n",
       "      <td>1.9</td>\n",
       "      <td>1.9</td>\n",
       "      <td>1.9</td>\n",
       "      <td>1.9</td>\n",
       "      <td>1.9</td>\n",
       "      <td>1.9</td>\n",
       "      <td>NaN</td>\n",
       "      <td>NaN</td>\n",
       "    </tr>\n",
       "    <tr>\n",
       "      <th>2021-07-01</th>\n",
       "      <td>100.0</td>\n",
       "      <td>93.7</td>\n",
       "      <td>93.9</td>\n",
       "      <td>93.5</td>\n",
       "      <td>93.7</td>\n",
       "      <td>93.9</td>\n",
       "      <td>94.3</td>\n",
       "      <td>92.3</td>\n",
       "      <td>93.7</td>\n",
       "      <td>93.3</td>\n",
       "      <td>...</td>\n",
       "      <td>93.3</td>\n",
       "      <td>93.1</td>\n",
       "      <td>94.1</td>\n",
       "      <td>93.3</td>\n",
       "      <td>92.7</td>\n",
       "      <td>93.9</td>\n",
       "      <td>92.9</td>\n",
       "      <td>13.8</td>\n",
       "      <td>NaN</td>\n",
       "      <td>NaN</td>\n",
       "    </tr>\n",
       "    <tr>\n",
       "      <th>2021-08-01</th>\n",
       "      <td>100.0</td>\n",
       "      <td>64.7</td>\n",
       "      <td>61.8</td>\n",
       "      <td>61.8</td>\n",
       "      <td>61.8</td>\n",
       "      <td>64.7</td>\n",
       "      <td>64.7</td>\n",
       "      <td>64.7</td>\n",
       "      <td>64.7</td>\n",
       "      <td>64.7</td>\n",
       "      <td>...</td>\n",
       "      <td>64.7</td>\n",
       "      <td>64.7</td>\n",
       "      <td>64.7</td>\n",
       "      <td>64.7</td>\n",
       "      <td>64.7</td>\n",
       "      <td>64.7</td>\n",
       "      <td>10.3</td>\n",
       "      <td>NaN</td>\n",
       "      <td>NaN</td>\n",
       "      <td>NaN</td>\n",
       "    </tr>\n",
       "    <tr>\n",
       "      <th>2021-09-01</th>\n",
       "      <td>100.0</td>\n",
       "      <td>NaN</td>\n",
       "      <td>NaN</td>\n",
       "      <td>NaN</td>\n",
       "      <td>NaN</td>\n",
       "      <td>NaN</td>\n",
       "      <td>NaN</td>\n",
       "      <td>NaN</td>\n",
       "      <td>NaN</td>\n",
       "      <td>NaN</td>\n",
       "      <td>...</td>\n",
       "      <td>NaN</td>\n",
       "      <td>NaN</td>\n",
       "      <td>NaN</td>\n",
       "      <td>NaN</td>\n",
       "      <td>NaN</td>\n",
       "      <td>NaN</td>\n",
       "      <td>NaN</td>\n",
       "      <td>NaN</td>\n",
       "      <td>NaN</td>\n",
       "      <td>NaN</td>\n",
       "    </tr>\n",
       "    <tr>\n",
       "      <th>2021-10-01</th>\n",
       "      <td>100.0</td>\n",
       "      <td>NaN</td>\n",
       "      <td>NaN</td>\n",
       "      <td>NaN</td>\n",
       "      <td>NaN</td>\n",
       "      <td>NaN</td>\n",
       "      <td>NaN</td>\n",
       "      <td>NaN</td>\n",
       "      <td>NaN</td>\n",
       "      <td>NaN</td>\n",
       "      <td>...</td>\n",
       "      <td>NaN</td>\n",
       "      <td>NaN</td>\n",
       "      <td>NaN</td>\n",
       "      <td>NaN</td>\n",
       "      <td>NaN</td>\n",
       "      <td>NaN</td>\n",
       "      <td>NaN</td>\n",
       "      <td>NaN</td>\n",
       "      <td>NaN</td>\n",
       "      <td>NaN</td>\n",
       "    </tr>\n",
       "    <tr>\n",
       "      <th>2021-11-01</th>\n",
       "      <td>100.0</td>\n",
       "      <td>87.1</td>\n",
       "      <td>88.8</td>\n",
       "      <td>86.7</td>\n",
       "      <td>88.4</td>\n",
       "      <td>85.8</td>\n",
       "      <td>87.1</td>\n",
       "      <td>86.3</td>\n",
       "      <td>88.4</td>\n",
       "      <td>89.7</td>\n",
       "      <td>...</td>\n",
       "      <td>83.7</td>\n",
       "      <td>89.3</td>\n",
       "      <td>89.3</td>\n",
       "      <td>4.7</td>\n",
       "      <td>NaN</td>\n",
       "      <td>NaN</td>\n",
       "      <td>NaN</td>\n",
       "      <td>NaN</td>\n",
       "      <td>NaN</td>\n",
       "      <td>NaN</td>\n",
       "    </tr>\n",
       "    <tr>\n",
       "      <th>2021-12-01</th>\n",
       "      <td>100.0</td>\n",
       "      <td>19.4</td>\n",
       "      <td>25.8</td>\n",
       "      <td>25.8</td>\n",
       "      <td>25.8</td>\n",
       "      <td>22.6</td>\n",
       "      <td>25.8</td>\n",
       "      <td>22.6</td>\n",
       "      <td>25.8</td>\n",
       "      <td>25.8</td>\n",
       "      <td>...</td>\n",
       "      <td>22.6</td>\n",
       "      <td>25.8</td>\n",
       "      <td>3.2</td>\n",
       "      <td>NaN</td>\n",
       "      <td>NaN</td>\n",
       "      <td>NaN</td>\n",
       "      <td>NaN</td>\n",
       "      <td>NaN</td>\n",
       "      <td>NaN</td>\n",
       "      <td>NaN</td>\n",
       "    </tr>\n",
       "    <tr>\n",
       "      <th>2022-01-01</th>\n",
       "      <td>100.0</td>\n",
       "      <td>NaN</td>\n",
       "      <td>NaN</td>\n",
       "      <td>NaN</td>\n",
       "      <td>NaN</td>\n",
       "      <td>NaN</td>\n",
       "      <td>NaN</td>\n",
       "      <td>NaN</td>\n",
       "      <td>NaN</td>\n",
       "      <td>NaN</td>\n",
       "      <td>...</td>\n",
       "      <td>NaN</td>\n",
       "      <td>NaN</td>\n",
       "      <td>NaN</td>\n",
       "      <td>NaN</td>\n",
       "      <td>NaN</td>\n",
       "      <td>NaN</td>\n",
       "      <td>NaN</td>\n",
       "      <td>NaN</td>\n",
       "      <td>NaN</td>\n",
       "      <td>NaN</td>\n",
       "    </tr>\n",
       "    <tr>\n",
       "      <th>2022-02-01</th>\n",
       "      <td>100.0</td>\n",
       "      <td>NaN</td>\n",
       "      <td>NaN</td>\n",
       "      <td>NaN</td>\n",
       "      <td>NaN</td>\n",
       "      <td>NaN</td>\n",
       "      <td>NaN</td>\n",
       "      <td>NaN</td>\n",
       "      <td>NaN</td>\n",
       "      <td>NaN</td>\n",
       "      <td>...</td>\n",
       "      <td>NaN</td>\n",
       "      <td>NaN</td>\n",
       "      <td>NaN</td>\n",
       "      <td>NaN</td>\n",
       "      <td>NaN</td>\n",
       "      <td>NaN</td>\n",
       "      <td>NaN</td>\n",
       "      <td>NaN</td>\n",
       "      <td>NaN</td>\n",
       "      <td>NaN</td>\n",
       "    </tr>\n",
       "    <tr>\n",
       "      <th>2022-03-01</th>\n",
       "      <td>100.0</td>\n",
       "      <td>NaN</td>\n",
       "      <td>NaN</td>\n",
       "      <td>NaN</td>\n",
       "      <td>NaN</td>\n",
       "      <td>NaN</td>\n",
       "      <td>NaN</td>\n",
       "      <td>NaN</td>\n",
       "      <td>NaN</td>\n",
       "      <td>NaN</td>\n",
       "      <td>...</td>\n",
       "      <td>NaN</td>\n",
       "      <td>NaN</td>\n",
       "      <td>NaN</td>\n",
       "      <td>NaN</td>\n",
       "      <td>NaN</td>\n",
       "      <td>NaN</td>\n",
       "      <td>NaN</td>\n",
       "      <td>NaN</td>\n",
       "      <td>NaN</td>\n",
       "      <td>NaN</td>\n",
       "    </tr>\n",
       "    <tr>\n",
       "      <th>2022-04-01</th>\n",
       "      <td>100.0</td>\n",
       "      <td>NaN</td>\n",
       "      <td>NaN</td>\n",
       "      <td>NaN</td>\n",
       "      <td>NaN</td>\n",
       "      <td>NaN</td>\n",
       "      <td>NaN</td>\n",
       "      <td>NaN</td>\n",
       "      <td>NaN</td>\n",
       "      <td>NaN</td>\n",
       "      <td>...</td>\n",
       "      <td>NaN</td>\n",
       "      <td>NaN</td>\n",
       "      <td>NaN</td>\n",
       "      <td>NaN</td>\n",
       "      <td>NaN</td>\n",
       "      <td>NaN</td>\n",
       "      <td>NaN</td>\n",
       "      <td>NaN</td>\n",
       "      <td>NaN</td>\n",
       "      <td>NaN</td>\n",
       "    </tr>\n",
       "  </tbody>\n",
       "</table>\n",
       "<p>12 rows × 25 columns</p>\n",
       "</div>"
      ],
      "text/plain": [
       "CohortIndex     1     2     3     4     5     6     7     8     9     10  ...  \\\n",
       "2021-05-01   100.0  90.1  88.7  89.3  89.7  88.9  46.2  46.2  46.2  46.0  ...   \n",
       "2021-06-01   100.0  50.9  47.2  52.8  52.8   1.9   1.9   1.9   1.9   1.9  ...   \n",
       "2021-07-01   100.0  93.7  93.9  93.5  93.7  93.9  94.3  92.3  93.7  93.3  ...   \n",
       "2021-08-01   100.0  64.7  61.8  61.8  61.8  64.7  64.7  64.7  64.7  64.7  ...   \n",
       "2021-09-01   100.0   NaN   NaN   NaN   NaN   NaN   NaN   NaN   NaN   NaN  ...   \n",
       "2021-10-01   100.0   NaN   NaN   NaN   NaN   NaN   NaN   NaN   NaN   NaN  ...   \n",
       "2021-11-01   100.0  87.1  88.8  86.7  88.4  85.8  87.1  86.3  88.4  89.7  ...   \n",
       "2021-12-01   100.0  19.4  25.8  25.8  25.8  22.6  25.8  22.6  25.8  25.8  ...   \n",
       "2022-01-01   100.0   NaN   NaN   NaN   NaN   NaN   NaN   NaN   NaN   NaN  ...   \n",
       "2022-02-01   100.0   NaN   NaN   NaN   NaN   NaN   NaN   NaN   NaN   NaN  ...   \n",
       "2022-03-01   100.0   NaN   NaN   NaN   NaN   NaN   NaN   NaN   NaN   NaN  ...   \n",
       "2022-04-01   100.0   NaN   NaN   NaN   NaN   NaN   NaN   NaN   NaN   NaN  ...   \n",
       "\n",
       "CohortIndex    16    17    18    19    20    21    22    23    24    25  \n",
       "2021-05-01   46.2  46.2  46.0  46.2  46.2  46.2  46.2  46.2  46.2  11.3  \n",
       "2021-06-01    1.9   1.9   1.9   1.9   1.9   1.9   1.9   1.9   NaN   NaN  \n",
       "2021-07-01   93.3  93.1  94.1  93.3  92.7  93.9  92.9  13.8   NaN   NaN  \n",
       "2021-08-01   64.7  64.7  64.7  64.7  64.7  64.7  10.3   NaN   NaN   NaN  \n",
       "2021-09-01    NaN   NaN   NaN   NaN   NaN   NaN   NaN   NaN   NaN   NaN  \n",
       "2021-10-01    NaN   NaN   NaN   NaN   NaN   NaN   NaN   NaN   NaN   NaN  \n",
       "2021-11-01   83.7  89.3  89.3   4.7   NaN   NaN   NaN   NaN   NaN   NaN  \n",
       "2021-12-01   22.6  25.8   3.2   NaN   NaN   NaN   NaN   NaN   NaN   NaN  \n",
       "2022-01-01    NaN   NaN   NaN   NaN   NaN   NaN   NaN   NaN   NaN   NaN  \n",
       "2022-02-01    NaN   NaN   NaN   NaN   NaN   NaN   NaN   NaN   NaN   NaN  \n",
       "2022-03-01    NaN   NaN   NaN   NaN   NaN   NaN   NaN   NaN   NaN   NaN  \n",
       "2022-04-01    NaN   NaN   NaN   NaN   NaN   NaN   NaN   NaN   NaN   NaN  \n",
       "\n",
       "[12 rows x 25 columns]"
      ]
     },
     "execution_count": 136,
     "metadata": {},
     "output_type": "execute_result"
    }
   ],
   "source": [
    "cohort_sizes = cohort_counts.iloc[:,0]\n",
    "retention = cohort_counts.divide(cohort_sizes, axis=0)\n",
    "retention.index=retention.index.date\n",
    "retention.round(3)*100"
   ]
  },
  {
   "cell_type": "code",
   "execution_count": 137,
   "metadata": {},
   "outputs": [
    {
     "data": {
      "application/vnd.plotly.v1+json": {
       "config": {
        "plotlyServerURL": "https://plot.ly"
       },
       "data": [
        {
         "coloraxis": "coloraxis",
         "hovertemplate": "x: %{x}<br>y: %{y}<br>color: %{z}<extra></extra>",
         "name": "0",
         "texttemplate": "%{z}",
         "type": "heatmap",
         "x": [
          1,
          2,
          3,
          4,
          5,
          6,
          7,
          8,
          9,
          10,
          11,
          12,
          13,
          14,
          15,
          16,
          17,
          18,
          19,
          20,
          21,
          22,
          23,
          24,
          25
         ],
         "xaxis": "x",
         "y": [
          "2021-05-01",
          "2021-06-01",
          "2021-07-01",
          "2021-08-01",
          "2021-09-01",
          "2021-10-01",
          "2021-11-01",
          "2021-12-01",
          "2022-01-01",
          "2022-02-01",
          "2022-03-01",
          "2022-04-01"
         ],
         "yaxis": "y",
         "z": [
          [
           100,
           90,
           89,
           89,
           90,
           89,
           46,
           46,
           46,
           46,
           46,
           46,
           46,
           46,
           46,
           46,
           46,
           46,
           46,
           46,
           46,
           46,
           46,
           46,
           11
          ],
          [
           100,
           51,
           47,
           53,
           53,
           2,
           2,
           2,
           2,
           2,
           2,
           2,
           2,
           2,
           2,
           2,
           2,
           2,
           2,
           2,
           2,
           2,
           2,
           0,
           0
          ],
          [
           100,
           94,
           94,
           94,
           94,
           94,
           94,
           92,
           94,
           93,
           93,
           94,
           94,
           92,
           94,
           93,
           93,
           94,
           93,
           93,
           94,
           93,
           14,
           0,
           0
          ],
          [
           100,
           65,
           62,
           62,
           62,
           65,
           65,
           65,
           65,
           65,
           65,
           65,
           65,
           65,
           65,
           65,
           65,
           65,
           65,
           65,
           65,
           10,
           0,
           0,
           0
          ],
          [
           100,
           0,
           0,
           0,
           0,
           0,
           0,
           0,
           0,
           0,
           0,
           0,
           0,
           0,
           0,
           0,
           0,
           0,
           0,
           0,
           0,
           0,
           0,
           0,
           0
          ],
          [
           100,
           0,
           0,
           0,
           0,
           0,
           0,
           0,
           0,
           0,
           0,
           0,
           0,
           0,
           0,
           0,
           0,
           0,
           0,
           0,
           0,
           0,
           0,
           0,
           0
          ],
          [
           100,
           87,
           89,
           87,
           88,
           86,
           87,
           86,
           88,
           90,
           87,
           89,
           85,
           88,
           88,
           84,
           89,
           89,
           5,
           0,
           0,
           0,
           0,
           0,
           0
          ],
          [
           100,
           19,
           26,
           26,
           26,
           23,
           26,
           23,
           26,
           26,
           23,
           26,
           26,
           26,
           26,
           23,
           26,
           3,
           0,
           0,
           0,
           0,
           0,
           0,
           0
          ],
          [
           100,
           0,
           0,
           0,
           0,
           0,
           0,
           0,
           0,
           0,
           0,
           0,
           0,
           0,
           0,
           0,
           0,
           0,
           0,
           0,
           0,
           0,
           0,
           0,
           0
          ],
          [
           100,
           0,
           0,
           0,
           0,
           0,
           0,
           0,
           0,
           0,
           0,
           0,
           0,
           0,
           0,
           0,
           0,
           0,
           0,
           0,
           0,
           0,
           0,
           0,
           0
          ],
          [
           100,
           0,
           0,
           0,
           0,
           0,
           0,
           0,
           0,
           0,
           0,
           0,
           0,
           0,
           0,
           0,
           0,
           0,
           0,
           0,
           0,
           0,
           0,
           0,
           0
          ],
          [
           100,
           0,
           0,
           0,
           0,
           0,
           0,
           0,
           0,
           0,
           0,
           0,
           0,
           0,
           0,
           0,
           0,
           0,
           0,
           0,
           0,
           0,
           0,
           0,
           0
          ]
         ]
        }
       ],
       "layout": {
        "coloraxis": {
         "colorbar": {
          "title": {
           "text": "% Activity"
          }
         },
         "colorscale": [
          [
           0,
           "rgb(255,255,229)"
          ],
          [
           0.125,
           "rgb(247,252,185)"
          ],
          [
           0.25,
           "rgb(217,240,163)"
          ],
          [
           0.375,
           "rgb(173,221,142)"
          ],
          [
           0.5,
           "rgb(120,198,121)"
          ],
          [
           0.625,
           "rgb(65,171,93)"
          ],
          [
           0.75,
           "rgb(35,132,67)"
          ],
          [
           0.875,
           "rgb(0,104,55)"
          ],
          [
           1,
           "rgb(0,69,41)"
          ]
         ]
        },
        "height": 500,
        "template": {
         "data": {
          "bar": [
           {
            "error_x": {
             "color": "#2a3f5f"
            },
            "error_y": {
             "color": "#2a3f5f"
            },
            "marker": {
             "line": {
              "color": "#E5ECF6",
              "width": 0.5
             },
             "pattern": {
              "fillmode": "overlay",
              "size": 10,
              "solidity": 0.2
             }
            },
            "type": "bar"
           }
          ],
          "barpolar": [
           {
            "marker": {
             "line": {
              "color": "#E5ECF6",
              "width": 0.5
             },
             "pattern": {
              "fillmode": "overlay",
              "size": 10,
              "solidity": 0.2
             }
            },
            "type": "barpolar"
           }
          ],
          "carpet": [
           {
            "aaxis": {
             "endlinecolor": "#2a3f5f",
             "gridcolor": "white",
             "linecolor": "white",
             "minorgridcolor": "white",
             "startlinecolor": "#2a3f5f"
            },
            "baxis": {
             "endlinecolor": "#2a3f5f",
             "gridcolor": "white",
             "linecolor": "white",
             "minorgridcolor": "white",
             "startlinecolor": "#2a3f5f"
            },
            "type": "carpet"
           }
          ],
          "choropleth": [
           {
            "colorbar": {
             "outlinewidth": 0,
             "ticks": ""
            },
            "type": "choropleth"
           }
          ],
          "contour": [
           {
            "colorbar": {
             "outlinewidth": 0,
             "ticks": ""
            },
            "colorscale": [
             [
              0,
              "#0d0887"
             ],
             [
              0.1111111111111111,
              "#46039f"
             ],
             [
              0.2222222222222222,
              "#7201a8"
             ],
             [
              0.3333333333333333,
              "#9c179e"
             ],
             [
              0.4444444444444444,
              "#bd3786"
             ],
             [
              0.5555555555555556,
              "#d8576b"
             ],
             [
              0.6666666666666666,
              "#ed7953"
             ],
             [
              0.7777777777777778,
              "#fb9f3a"
             ],
             [
              0.8888888888888888,
              "#fdca26"
             ],
             [
              1,
              "#f0f921"
             ]
            ],
            "type": "contour"
           }
          ],
          "contourcarpet": [
           {
            "colorbar": {
             "outlinewidth": 0,
             "ticks": ""
            },
            "type": "contourcarpet"
           }
          ],
          "heatmap": [
           {
            "colorbar": {
             "outlinewidth": 0,
             "ticks": ""
            },
            "colorscale": [
             [
              0,
              "#0d0887"
             ],
             [
              0.1111111111111111,
              "#46039f"
             ],
             [
              0.2222222222222222,
              "#7201a8"
             ],
             [
              0.3333333333333333,
              "#9c179e"
             ],
             [
              0.4444444444444444,
              "#bd3786"
             ],
             [
              0.5555555555555556,
              "#d8576b"
             ],
             [
              0.6666666666666666,
              "#ed7953"
             ],
             [
              0.7777777777777778,
              "#fb9f3a"
             ],
             [
              0.8888888888888888,
              "#fdca26"
             ],
             [
              1,
              "#f0f921"
             ]
            ],
            "type": "heatmap"
           }
          ],
          "heatmapgl": [
           {
            "colorbar": {
             "outlinewidth": 0,
             "ticks": ""
            },
            "colorscale": [
             [
              0,
              "#0d0887"
             ],
             [
              0.1111111111111111,
              "#46039f"
             ],
             [
              0.2222222222222222,
              "#7201a8"
             ],
             [
              0.3333333333333333,
              "#9c179e"
             ],
             [
              0.4444444444444444,
              "#bd3786"
             ],
             [
              0.5555555555555556,
              "#d8576b"
             ],
             [
              0.6666666666666666,
              "#ed7953"
             ],
             [
              0.7777777777777778,
              "#fb9f3a"
             ],
             [
              0.8888888888888888,
              "#fdca26"
             ],
             [
              1,
              "#f0f921"
             ]
            ],
            "type": "heatmapgl"
           }
          ],
          "histogram": [
           {
            "marker": {
             "pattern": {
              "fillmode": "overlay",
              "size": 10,
              "solidity": 0.2
             }
            },
            "type": "histogram"
           }
          ],
          "histogram2d": [
           {
            "colorbar": {
             "outlinewidth": 0,
             "ticks": ""
            },
            "colorscale": [
             [
              0,
              "#0d0887"
             ],
             [
              0.1111111111111111,
              "#46039f"
             ],
             [
              0.2222222222222222,
              "#7201a8"
             ],
             [
              0.3333333333333333,
              "#9c179e"
             ],
             [
              0.4444444444444444,
              "#bd3786"
             ],
             [
              0.5555555555555556,
              "#d8576b"
             ],
             [
              0.6666666666666666,
              "#ed7953"
             ],
             [
              0.7777777777777778,
              "#fb9f3a"
             ],
             [
              0.8888888888888888,
              "#fdca26"
             ],
             [
              1,
              "#f0f921"
             ]
            ],
            "type": "histogram2d"
           }
          ],
          "histogram2dcontour": [
           {
            "colorbar": {
             "outlinewidth": 0,
             "ticks": ""
            },
            "colorscale": [
             [
              0,
              "#0d0887"
             ],
             [
              0.1111111111111111,
              "#46039f"
             ],
             [
              0.2222222222222222,
              "#7201a8"
             ],
             [
              0.3333333333333333,
              "#9c179e"
             ],
             [
              0.4444444444444444,
              "#bd3786"
             ],
             [
              0.5555555555555556,
              "#d8576b"
             ],
             [
              0.6666666666666666,
              "#ed7953"
             ],
             [
              0.7777777777777778,
              "#fb9f3a"
             ],
             [
              0.8888888888888888,
              "#fdca26"
             ],
             [
              1,
              "#f0f921"
             ]
            ],
            "type": "histogram2dcontour"
           }
          ],
          "mesh3d": [
           {
            "colorbar": {
             "outlinewidth": 0,
             "ticks": ""
            },
            "type": "mesh3d"
           }
          ],
          "parcoords": [
           {
            "line": {
             "colorbar": {
              "outlinewidth": 0,
              "ticks": ""
             }
            },
            "type": "parcoords"
           }
          ],
          "pie": [
           {
            "automargin": true,
            "type": "pie"
           }
          ],
          "scatter": [
           {
            "fillpattern": {
             "fillmode": "overlay",
             "size": 10,
             "solidity": 0.2
            },
            "type": "scatter"
           }
          ],
          "scatter3d": [
           {
            "line": {
             "colorbar": {
              "outlinewidth": 0,
              "ticks": ""
             }
            },
            "marker": {
             "colorbar": {
              "outlinewidth": 0,
              "ticks": ""
             }
            },
            "type": "scatter3d"
           }
          ],
          "scattercarpet": [
           {
            "marker": {
             "colorbar": {
              "outlinewidth": 0,
              "ticks": ""
             }
            },
            "type": "scattercarpet"
           }
          ],
          "scattergeo": [
           {
            "marker": {
             "colorbar": {
              "outlinewidth": 0,
              "ticks": ""
             }
            },
            "type": "scattergeo"
           }
          ],
          "scattergl": [
           {
            "marker": {
             "colorbar": {
              "outlinewidth": 0,
              "ticks": ""
             }
            },
            "type": "scattergl"
           }
          ],
          "scattermapbox": [
           {
            "marker": {
             "colorbar": {
              "outlinewidth": 0,
              "ticks": ""
             }
            },
            "type": "scattermapbox"
           }
          ],
          "scatterpolar": [
           {
            "marker": {
             "colorbar": {
              "outlinewidth": 0,
              "ticks": ""
             }
            },
            "type": "scatterpolar"
           }
          ],
          "scatterpolargl": [
           {
            "marker": {
             "colorbar": {
              "outlinewidth": 0,
              "ticks": ""
             }
            },
            "type": "scatterpolargl"
           }
          ],
          "scatterternary": [
           {
            "marker": {
             "colorbar": {
              "outlinewidth": 0,
              "ticks": ""
             }
            },
            "type": "scatterternary"
           }
          ],
          "surface": [
           {
            "colorbar": {
             "outlinewidth": 0,
             "ticks": ""
            },
            "colorscale": [
             [
              0,
              "#0d0887"
             ],
             [
              0.1111111111111111,
              "#46039f"
             ],
             [
              0.2222222222222222,
              "#7201a8"
             ],
             [
              0.3333333333333333,
              "#9c179e"
             ],
             [
              0.4444444444444444,
              "#bd3786"
             ],
             [
              0.5555555555555556,
              "#d8576b"
             ],
             [
              0.6666666666666666,
              "#ed7953"
             ],
             [
              0.7777777777777778,
              "#fb9f3a"
             ],
             [
              0.8888888888888888,
              "#fdca26"
             ],
             [
              1,
              "#f0f921"
             ]
            ],
            "type": "surface"
           }
          ],
          "table": [
           {
            "cells": {
             "fill": {
              "color": "#EBF0F8"
             },
             "line": {
              "color": "white"
             }
            },
            "header": {
             "fill": {
              "color": "#C8D4E3"
             },
             "line": {
              "color": "white"
             }
            },
            "type": "table"
           }
          ]
         },
         "layout": {
          "annotationdefaults": {
           "arrowcolor": "#2a3f5f",
           "arrowhead": 0,
           "arrowwidth": 1
          },
          "autotypenumbers": "strict",
          "coloraxis": {
           "colorbar": {
            "outlinewidth": 0,
            "ticks": ""
           }
          },
          "colorscale": {
           "diverging": [
            [
             0,
             "#8e0152"
            ],
            [
             0.1,
             "#c51b7d"
            ],
            [
             0.2,
             "#de77ae"
            ],
            [
             0.3,
             "#f1b6da"
            ],
            [
             0.4,
             "#fde0ef"
            ],
            [
             0.5,
             "#f7f7f7"
            ],
            [
             0.6,
             "#e6f5d0"
            ],
            [
             0.7,
             "#b8e186"
            ],
            [
             0.8,
             "#7fbc41"
            ],
            [
             0.9,
             "#4d9221"
            ],
            [
             1,
             "#276419"
            ]
           ],
           "sequential": [
            [
             0,
             "#0d0887"
            ],
            [
             0.1111111111111111,
             "#46039f"
            ],
            [
             0.2222222222222222,
             "#7201a8"
            ],
            [
             0.3333333333333333,
             "#9c179e"
            ],
            [
             0.4444444444444444,
             "#bd3786"
            ],
            [
             0.5555555555555556,
             "#d8576b"
            ],
            [
             0.6666666666666666,
             "#ed7953"
            ],
            [
             0.7777777777777778,
             "#fb9f3a"
            ],
            [
             0.8888888888888888,
             "#fdca26"
            ],
            [
             1,
             "#f0f921"
            ]
           ],
           "sequentialminus": [
            [
             0,
             "#0d0887"
            ],
            [
             0.1111111111111111,
             "#46039f"
            ],
            [
             0.2222222222222222,
             "#7201a8"
            ],
            [
             0.3333333333333333,
             "#9c179e"
            ],
            [
             0.4444444444444444,
             "#bd3786"
            ],
            [
             0.5555555555555556,
             "#d8576b"
            ],
            [
             0.6666666666666666,
             "#ed7953"
            ],
            [
             0.7777777777777778,
             "#fb9f3a"
            ],
            [
             0.8888888888888888,
             "#fdca26"
            ],
            [
             1,
             "#f0f921"
            ]
           ]
          },
          "colorway": [
           "#636efa",
           "#EF553B",
           "#00cc96",
           "#ab63fa",
           "#FFA15A",
           "#19d3f3",
           "#FF6692",
           "#B6E880",
           "#FF97FF",
           "#FECB52"
          ],
          "font": {
           "color": "#2a3f5f"
          },
          "geo": {
           "bgcolor": "white",
           "lakecolor": "white",
           "landcolor": "#E5ECF6",
           "showlakes": true,
           "showland": true,
           "subunitcolor": "white"
          },
          "hoverlabel": {
           "align": "left"
          },
          "hovermode": "closest",
          "mapbox": {
           "style": "light"
          },
          "paper_bgcolor": "white",
          "plot_bgcolor": "#E5ECF6",
          "polar": {
           "angularaxis": {
            "gridcolor": "white",
            "linecolor": "white",
            "ticks": ""
           },
           "bgcolor": "#E5ECF6",
           "radialaxis": {
            "gridcolor": "white",
            "linecolor": "white",
            "ticks": ""
           }
          },
          "scene": {
           "xaxis": {
            "backgroundcolor": "#E5ECF6",
            "gridcolor": "white",
            "gridwidth": 2,
            "linecolor": "white",
            "showbackground": true,
            "ticks": "",
            "zerolinecolor": "white"
           },
           "yaxis": {
            "backgroundcolor": "#E5ECF6",
            "gridcolor": "white",
            "gridwidth": 2,
            "linecolor": "white",
            "showbackground": true,
            "ticks": "",
            "zerolinecolor": "white"
           },
           "zaxis": {
            "backgroundcolor": "#E5ECF6",
            "gridcolor": "white",
            "gridwidth": 2,
            "linecolor": "white",
            "showbackground": true,
            "ticks": "",
            "zerolinecolor": "white"
           }
          },
          "shapedefaults": {
           "line": {
            "color": "#2a3f5f"
           }
          },
          "ternary": {
           "aaxis": {
            "gridcolor": "white",
            "linecolor": "white",
            "ticks": ""
           },
           "baxis": {
            "gridcolor": "white",
            "linecolor": "white",
            "ticks": ""
           },
           "bgcolor": "#E5ECF6",
           "caxis": {
            "gridcolor": "white",
            "linecolor": "white",
            "ticks": ""
           }
          },
          "title": {
           "x": 0.05
          },
          "xaxis": {
           "automargin": true,
           "gridcolor": "white",
           "linecolor": "white",
           "ticks": "",
           "title": {
            "standoff": 15
           },
           "zerolinecolor": "white",
           "zerolinewidth": 2
          },
          "yaxis": {
           "automargin": true,
           "gridcolor": "white",
           "linecolor": "white",
           "ticks": "",
           "title": {
            "standoff": 15
           },
           "zerolinecolor": "white",
           "zerolinewidth": 2
          }
         }
        },
        "title": {
         "text": "Retention Rates"
        },
        "width": 800,
        "xaxis": {
         "anchor": "y",
         "constrain": "domain",
         "domain": [
          0,
          1
         ],
         "scaleanchor": "y",
         "title": {
          "text": "Number of months"
         }
        },
        "yaxis": {
         "anchor": "x",
         "autorange": "reversed",
         "constrain": "domain",
         "domain": [
          0,
          1
         ],
         "title": {
          "text": "Cohort"
         }
        }
       }
      }
     },
     "metadata": {},
     "output_type": "display_data"
    }
   ],
   "source": [
    "import plotly.express as px\n",
    "\n",
    "values = retention.fillna(0).applymap(lambda x: round(x*100)).values\n",
    "\n",
    "fig = px.imshow(values,\n",
    "                title='Retention Rates',\n",
    "                x=list(retention.columns),\n",
    "                y=list(retention.index),\n",
    "                color_continuous_scale='ylgn',\n",
    "                text_auto=True,\n",
    "                height=400,\n",
    "                width=800\n",
    "                )\n",
    "\n",
    "fig.update_layout(xaxis_title='Number of months', yaxis_title='Cohort',\n",
    "                  coloraxis_colorbar=dict(title='% Activity'),\n",
    "                  height=500, width=800)\n",
    "\n",
    "fig.show()\n",
    "\n"
   ]
  },
  {
   "attachments": {},
   "cell_type": "markdown",
   "metadata": {},
   "source": [
    "# RFM Segmentation \n",
    "\n",
    "Recency (R) : Days Since Last Customer Transaction\n",
    "Frequency (F): Number of transacations in the last 12 months\n",
    "Monetary Value (M) : Total Spend in the last 12 months\n",
    "\n",
    "# RFM Data Preperation\n",
    "\n",
    " Pandas built-in function #qcut will be used to calculate percentiles\n",
    " \n",
    "To implement RFM Segmentation, we need to further process the data set in by the following steps:\n",
    "\n",
    "Recency : For each customer ID, calculate the days since the last transaction. Create a hypothetical date maximum Date +1 to make it seem as though we are working on the most recent data substract the max Date of transaction(Most recent date of transation) of the customer. However, usually the data used is Real time data and using the present date would be ideal. \n",
    "Frequency: Count the number of invoices per customer to derive the frequency and \n",
    "Monetary Data: Sum the amount of money a customer transacted and divide it by Frequency, to get the amount per transaction on average, that is the Monetary data."
   ]
  },
  {
   "cell_type": "code",
   "execution_count": 138,
   "metadata": {},
   "outputs": [],
   "source": [
    "# create hypothetical snapshot_day as if anlysisng the most recent data\n",
    "snapshot=max(df_transactions.transactionDate)+dt.timedelta(days=1)"
   ]
  },
  {
   "cell_type": "code",
   "execution_count": 139,
   "metadata": {},
   "outputs": [],
   "source": [
    "datamart=df_transactions.groupby(['customerID']).agg({\n",
    "    'transactionDate':lambda x:(snapshot-x.max()).days,\n",
    "    'transactionReference':'count',\n",
    "    'amount':'sum'\n",
    "})"
   ]
  },
  {
   "cell_type": "code",
   "execution_count": 140,
   "metadata": {},
   "outputs": [],
   "source": [
    "# Rename columns for easy interpretation\n",
    "datamart.rename(columns={'transactionDate':'Recency',\n",
    "                         'transactionReference': 'Frequency',\n",
    "                         'amount': 'MonetaryValue'},inplace=True\n",
    "\n",
    ")"
   ]
  },
  {
   "cell_type": "code",
   "execution_count": 141,
   "metadata": {},
   "outputs": [
    {
     "data": {
      "text/html": [
       "<div>\n",
       "<style scoped>\n",
       "    .dataframe tbody tr th:only-of-type {\n",
       "        vertical-align: middle;\n",
       "    }\n",
       "\n",
       "    .dataframe tbody tr th {\n",
       "        vertical-align: top;\n",
       "    }\n",
       "\n",
       "    .dataframe thead th {\n",
       "        text-align: right;\n",
       "    }\n",
       "</style>\n",
       "<table border=\"1\" class=\"dataframe\">\n",
       "  <thead>\n",
       "    <tr style=\"text-align: right;\">\n",
       "      <th></th>\n",
       "      <th>Recency</th>\n",
       "      <th>Frequency</th>\n",
       "      <th>MonetaryValue</th>\n",
       "    </tr>\n",
       "    <tr>\n",
       "      <th>customerID</th>\n",
       "      <th></th>\n",
       "      <th></th>\n",
       "      <th></th>\n",
       "    </tr>\n",
       "  </thead>\n",
       "  <tbody>\n",
       "    <tr>\n",
       "      <th>99554488</th>\n",
       "      <td>4</td>\n",
       "      <td>96</td>\n",
       "      <td>393492.18</td>\n",
       "    </tr>\n",
       "    <tr>\n",
       "      <th>99623425</th>\n",
       "      <td>550</td>\n",
       "      <td>12</td>\n",
       "      <td>36272.03</td>\n",
       "    </tr>\n",
       "    <tr>\n",
       "      <th>99673872</th>\n",
       "      <td>630</td>\n",
       "      <td>1</td>\n",
       "      <td>9426.94</td>\n",
       "    </tr>\n",
       "    <tr>\n",
       "      <th>99881323</th>\n",
       "      <td>14</td>\n",
       "      <td>96</td>\n",
       "      <td>402700.56</td>\n",
       "    </tr>\n",
       "    <tr>\n",
       "      <th>99914131</th>\n",
       "      <td>4</td>\n",
       "      <td>48</td>\n",
       "      <td>180644.98</td>\n",
       "    </tr>\n",
       "  </tbody>\n",
       "</table>\n",
       "</div>"
      ],
      "text/plain": [
       "            Recency  Frequency  MonetaryValue\n",
       "customerID                                   \n",
       "99554488          4         96      393492.18\n",
       "99623425        550         12       36272.03\n",
       "99673872        630          1        9426.94\n",
       "99881323         14         96      402700.56\n",
       "99914131          4         48      180644.98"
      ]
     },
     "execution_count": 141,
     "metadata": {},
     "output_type": "execute_result"
    }
   ],
   "source": [
    "#View of The RFM table\n",
    "datamart.tail()"
   ]
  },
  {
   "cell_type": "code",
   "execution_count": 142,
   "metadata": {},
   "outputs": [],
   "source": [
    "# Create Lables for Each RFM Metric:Create generator of values for labels with range function\n",
    "r_labels=list(range(5,0,-1))\n",
    "m_labels=range(1,6)\n",
    "f_labels=range(1,5)"
   ]
  },
  {
   "cell_type": "code",
   "execution_count": 143,
   "metadata": {},
   "outputs": [],
   "source": [
    "#Create quartile Values using qcut function\n",
    "r_quartiles=pd.qcut(datamart['Recency'],5,labels=r_labels)\n",
    "m_quartiles=pd.qcut(datamart['MonetaryValue'],5,labels=m_labels)\n",
    "f_quartiles=pd.qcut(datamart['Frequency'],4,labels=f_labels)"
   ]
  },
  {
   "cell_type": "code",
   "execution_count": 144,
   "metadata": {},
   "outputs": [],
   "source": [
    "#Assign R,F,M quartile values to customers\n",
    "datamart=datamart.assign(R=r_quartiles.values)\n",
    "datamart=datamart.assign(F=f_quartiles.values,M=m_quartiles.values)"
   ]
  },
  {
   "cell_type": "code",
   "execution_count": 145,
   "metadata": {},
   "outputs": [
    {
     "data": {
      "text/html": [
       "<div>\n",
       "<style scoped>\n",
       "    .dataframe tbody tr th:only-of-type {\n",
       "        vertical-align: middle;\n",
       "    }\n",
       "\n",
       "    .dataframe tbody tr th {\n",
       "        vertical-align: top;\n",
       "    }\n",
       "\n",
       "    .dataframe thead th {\n",
       "        text-align: right;\n",
       "    }\n",
       "</style>\n",
       "<table border=\"1\" class=\"dataframe\">\n",
       "  <thead>\n",
       "    <tr style=\"text-align: right;\">\n",
       "      <th></th>\n",
       "      <th>Recency</th>\n",
       "      <th>Frequency</th>\n",
       "      <th>MonetaryValue</th>\n",
       "      <th>R</th>\n",
       "      <th>F</th>\n",
       "      <th>M</th>\n",
       "    </tr>\n",
       "    <tr>\n",
       "      <th>customerID</th>\n",
       "      <th></th>\n",
       "      <th></th>\n",
       "      <th></th>\n",
       "      <th></th>\n",
       "      <th></th>\n",
       "      <th></th>\n",
       "    </tr>\n",
       "  </thead>\n",
       "  <tbody>\n",
       "    <tr>\n",
       "      <th>10046128</th>\n",
       "      <td>565</td>\n",
       "      <td>12</td>\n",
       "      <td>39126.10</td>\n",
       "      <td>1</td>\n",
       "      <td>1</td>\n",
       "      <td>2</td>\n",
       "    </tr>\n",
       "    <tr>\n",
       "      <th>10086469</th>\n",
       "      <td>1</td>\n",
       "      <td>192</td>\n",
       "      <td>737444.48</td>\n",
       "      <td>5</td>\n",
       "      <td>4</td>\n",
       "      <td>5</td>\n",
       "    </tr>\n",
       "    <tr>\n",
       "      <th>10116026</th>\n",
       "      <td>551</td>\n",
       "      <td>12</td>\n",
       "      <td>52698.61</td>\n",
       "      <td>2</td>\n",
       "      <td>1</td>\n",
       "      <td>2</td>\n",
       "    </tr>\n",
       "    <tr>\n",
       "      <th>10191698</th>\n",
       "      <td>561</td>\n",
       "      <td>12</td>\n",
       "      <td>25465.01</td>\n",
       "      <td>1</td>\n",
       "      <td>1</td>\n",
       "      <td>1</td>\n",
       "    </tr>\n",
       "    <tr>\n",
       "      <th>10208524</th>\n",
       "      <td>5</td>\n",
       "      <td>96</td>\n",
       "      <td>418488.78</td>\n",
       "      <td>4</td>\n",
       "      <td>3</td>\n",
       "      <td>5</td>\n",
       "    </tr>\n",
       "  </tbody>\n",
       "</table>\n",
       "</div>"
      ],
      "text/plain": [
       "            Recency  Frequency  MonetaryValue  R  F  M\n",
       "customerID                                            \n",
       "10046128        565         12       39126.10  1  1  2\n",
       "10086469          1        192      737444.48  5  4  5\n",
       "10116026        551         12       52698.61  2  1  2\n",
       "10191698        561         12       25465.01  1  1  1\n",
       "10208524          5         96      418488.78  4  3  5"
      ]
     },
     "execution_count": 145,
     "metadata": {},
     "output_type": "execute_result"
    }
   ],
   "source": [
    "#snealpeak of the added column-R\n",
    "datamart.head()"
   ]
  },
  {
   "cell_type": "code",
   "execution_count": 146,
   "metadata": {},
   "outputs": [
    {
     "data": {
      "text/html": [
       "<div>\n",
       "<style scoped>\n",
       "    .dataframe tbody tr th:only-of-type {\n",
       "        vertical-align: middle;\n",
       "    }\n",
       "\n",
       "    .dataframe tbody tr th {\n",
       "        vertical-align: top;\n",
       "    }\n",
       "\n",
       "    .dataframe thead th {\n",
       "        text-align: right;\n",
       "    }\n",
       "</style>\n",
       "<table border=\"1\" class=\"dataframe\">\n",
       "  <thead>\n",
       "    <tr style=\"text-align: right;\">\n",
       "      <th></th>\n",
       "      <th>Recency</th>\n",
       "      <th>Frequency</th>\n",
       "      <th>MonetaryValue</th>\n",
       "      <th>R</th>\n",
       "      <th>F</th>\n",
       "      <th>M</th>\n",
       "    </tr>\n",
       "    <tr>\n",
       "      <th>customerID</th>\n",
       "      <th></th>\n",
       "      <th></th>\n",
       "      <th></th>\n",
       "      <th></th>\n",
       "      <th></th>\n",
       "      <th></th>\n",
       "    </tr>\n",
       "  </thead>\n",
       "  <tbody>\n",
       "    <tr>\n",
       "      <th>10046128</th>\n",
       "      <td>565</td>\n",
       "      <td>12</td>\n",
       "      <td>39126.10</td>\n",
       "      <td>1</td>\n",
       "      <td>1</td>\n",
       "      <td>2</td>\n",
       "    </tr>\n",
       "    <tr>\n",
       "      <th>10086469</th>\n",
       "      <td>1</td>\n",
       "      <td>192</td>\n",
       "      <td>737444.48</td>\n",
       "      <td>5</td>\n",
       "      <td>4</td>\n",
       "      <td>5</td>\n",
       "    </tr>\n",
       "    <tr>\n",
       "      <th>10116026</th>\n",
       "      <td>551</td>\n",
       "      <td>12</td>\n",
       "      <td>52698.61</td>\n",
       "      <td>2</td>\n",
       "      <td>1</td>\n",
       "      <td>2</td>\n",
       "    </tr>\n",
       "    <tr>\n",
       "      <th>10191698</th>\n",
       "      <td>561</td>\n",
       "      <td>12</td>\n",
       "      <td>25465.01</td>\n",
       "      <td>1</td>\n",
       "      <td>1</td>\n",
       "      <td>1</td>\n",
       "    </tr>\n",
       "    <tr>\n",
       "      <th>10208524</th>\n",
       "      <td>5</td>\n",
       "      <td>96</td>\n",
       "      <td>418488.78</td>\n",
       "      <td>4</td>\n",
       "      <td>3</td>\n",
       "      <td>5</td>\n",
       "    </tr>\n",
       "  </tbody>\n",
       "</table>\n",
       "</div>"
      ],
      "text/plain": [
       "            Recency  Frequency  MonetaryValue  R  F  M\n",
       "customerID                                            \n",
       "10046128        565         12       39126.10  1  1  2\n",
       "10086469          1        192      737444.48  5  4  5\n",
       "10116026        551         12       52698.61  2  1  2\n",
       "10191698        561         12       25465.01  1  1  1\n",
       "10208524          5         96      418488.78  4  3  5"
      ]
     },
     "execution_count": 146,
     "metadata": {},
     "output_type": "execute_result"
    }
   ],
   "source": [
    "# Sneakpeak of the new datamart\n",
    "datamart.head()"
   ]
  },
  {
   "cell_type": "code",
   "execution_count": 147,
   "metadata": {},
   "outputs": [],
   "source": [
    "# deriving RFM-Segment column\n",
    "def join_rfm(x) : return str(x['R'])+str(x['F'])+str(x['M'])\n",
    "datamart['RFM_Segment']=datamart.apply(join_rfm,axis=1)\n",
    "# Deriving RFM Score column\n",
    "datamart['RFM_Score']=datamart[['R','F','M']].sum(axis=1)"
   ]
  },
  {
   "cell_type": "code",
   "execution_count": 148,
   "metadata": {},
   "outputs": [
    {
     "data": {
      "text/html": [
       "<div>\n",
       "<style scoped>\n",
       "    .dataframe tbody tr th:only-of-type {\n",
       "        vertical-align: middle;\n",
       "    }\n",
       "\n",
       "    .dataframe tbody tr th {\n",
       "        vertical-align: top;\n",
       "    }\n",
       "\n",
       "    .dataframe thead th {\n",
       "        text-align: right;\n",
       "    }\n",
       "</style>\n",
       "<table border=\"1\" class=\"dataframe\">\n",
       "  <thead>\n",
       "    <tr style=\"text-align: right;\">\n",
       "      <th></th>\n",
       "      <th>Recency</th>\n",
       "      <th>Frequency</th>\n",
       "      <th>MonetaryValue</th>\n",
       "      <th>R</th>\n",
       "      <th>F</th>\n",
       "      <th>M</th>\n",
       "      <th>RFM_Segment</th>\n",
       "      <th>RFM_Score</th>\n",
       "    </tr>\n",
       "    <tr>\n",
       "      <th>customerID</th>\n",
       "      <th></th>\n",
       "      <th></th>\n",
       "      <th></th>\n",
       "      <th></th>\n",
       "      <th></th>\n",
       "      <th></th>\n",
       "      <th></th>\n",
       "      <th></th>\n",
       "    </tr>\n",
       "  </thead>\n",
       "  <tbody>\n",
       "    <tr>\n",
       "      <th>10046128</th>\n",
       "      <td>565</td>\n",
       "      <td>12</td>\n",
       "      <td>39126.10</td>\n",
       "      <td>1</td>\n",
       "      <td>1</td>\n",
       "      <td>2</td>\n",
       "      <td>1.01.02.0</td>\n",
       "      <td>4</td>\n",
       "    </tr>\n",
       "    <tr>\n",
       "      <th>10086469</th>\n",
       "      <td>1</td>\n",
       "      <td>192</td>\n",
       "      <td>737444.48</td>\n",
       "      <td>5</td>\n",
       "      <td>4</td>\n",
       "      <td>5</td>\n",
       "      <td>5.04.05.0</td>\n",
       "      <td>14</td>\n",
       "    </tr>\n",
       "    <tr>\n",
       "      <th>10116026</th>\n",
       "      <td>551</td>\n",
       "      <td>12</td>\n",
       "      <td>52698.61</td>\n",
       "      <td>2</td>\n",
       "      <td>1</td>\n",
       "      <td>2</td>\n",
       "      <td>2.01.02.0</td>\n",
       "      <td>5</td>\n",
       "    </tr>\n",
       "    <tr>\n",
       "      <th>10191698</th>\n",
       "      <td>561</td>\n",
       "      <td>12</td>\n",
       "      <td>25465.01</td>\n",
       "      <td>1</td>\n",
       "      <td>1</td>\n",
       "      <td>1</td>\n",
       "      <td>1.01.01.0</td>\n",
       "      <td>3</td>\n",
       "    </tr>\n",
       "    <tr>\n",
       "      <th>10208524</th>\n",
       "      <td>5</td>\n",
       "      <td>96</td>\n",
       "      <td>418488.78</td>\n",
       "      <td>4</td>\n",
       "      <td>3</td>\n",
       "      <td>5</td>\n",
       "      <td>4.03.05.0</td>\n",
       "      <td>12</td>\n",
       "    </tr>\n",
       "  </tbody>\n",
       "</table>\n",
       "</div>"
      ],
      "text/plain": [
       "            Recency  Frequency  MonetaryValue  R  F  M RFM_Segment  RFM_Score\n",
       "customerID                                                                   \n",
       "10046128        565         12       39126.10  1  1  2   1.01.02.0          4\n",
       "10086469          1        192      737444.48  5  4  5   5.04.05.0         14\n",
       "10116026        551         12       52698.61  2  1  2   2.01.02.0          5\n",
       "10191698        561         12       25465.01  1  1  1   1.01.01.0          3\n",
       "10208524          5         96      418488.78  4  3  5   4.03.05.0         12"
      ]
     },
     "execution_count": 148,
     "metadata": {},
     "output_type": "execute_result"
    }
   ],
   "source": [
    "# snakpeak of  datamart \n",
    "datamart.head()"
   ]
  },
  {
   "cell_type": "code",
   "execution_count": 149,
   "metadata": {},
   "outputs": [
    {
     "data": {
      "text/plain": [
       "RFM_Segment\n",
       "1.01.01.0    160\n",
       "2.01.01.0    140\n",
       "1.01.02.0    139\n",
       "5.04.05.0    130\n",
       "5.03.04.0    121\n",
       "3.03.04.0    101\n",
       "2.01.02.0     86\n",
       "4.03.04.0     62\n",
       "3.02.03.0     58\n",
       "5.03.03.0     55\n",
       "dtype: int64"
      ]
     },
     "execution_count": 149,
     "metadata": {},
     "output_type": "execute_result"
    }
   ],
   "source": [
    "datamart.groupby('RFM_Segment').size().sort_values(ascending=False)[:10]"
   ]
  },
  {
   "cell_type": "code",
   "execution_count": 150,
   "metadata": {},
   "outputs": [
    {
     "data": {
      "text/html": [
       "<div>\n",
       "<style scoped>\n",
       "    .dataframe tbody tr th:only-of-type {\n",
       "        vertical-align: middle;\n",
       "    }\n",
       "\n",
       "    .dataframe tbody tr th {\n",
       "        vertical-align: top;\n",
       "    }\n",
       "\n",
       "    .dataframe thead tr th {\n",
       "        text-align: left;\n",
       "    }\n",
       "\n",
       "    .dataframe thead tr:last-of-type th {\n",
       "        text-align: right;\n",
       "    }\n",
       "</style>\n",
       "<table border=\"1\" class=\"dataframe\">\n",
       "  <thead>\n",
       "    <tr>\n",
       "      <th></th>\n",
       "      <th>Recency</th>\n",
       "      <th>MonetaryValue</th>\n",
       "      <th colspan=\"2\" halign=\"left\">Frequency</th>\n",
       "    </tr>\n",
       "    <tr>\n",
       "      <th></th>\n",
       "      <th>mean</th>\n",
       "      <th>mean</th>\n",
       "      <th>mean</th>\n",
       "      <th>count</th>\n",
       "    </tr>\n",
       "    <tr>\n",
       "      <th>RFM_Score</th>\n",
       "      <th></th>\n",
       "      <th></th>\n",
       "      <th></th>\n",
       "      <th></th>\n",
       "    </tr>\n",
       "  </thead>\n",
       "  <tbody>\n",
       "    <tr>\n",
       "      <th>3</th>\n",
       "      <td>631.9</td>\n",
       "      <td>9093.7</td>\n",
       "      <td>3.1</td>\n",
       "      <td>160</td>\n",
       "    </tr>\n",
       "    <tr>\n",
       "      <th>4</th>\n",
       "      <td>518.6</td>\n",
       "      <td>29979.4</td>\n",
       "      <td>7.1</td>\n",
       "      <td>279</td>\n",
       "    </tr>\n",
       "    <tr>\n",
       "      <th>5</th>\n",
       "      <td>550.8</td>\n",
       "      <td>51269.6</td>\n",
       "      <td>12.0</td>\n",
       "      <td>86</td>\n",
       "    </tr>\n",
       "    <tr>\n",
       "      <th>6</th>\n",
       "      <td>29.8</td>\n",
       "      <td>169497.7</td>\n",
       "      <td>48.0</td>\n",
       "      <td>13</td>\n",
       "    </tr>\n",
       "    <tr>\n",
       "      <th>7</th>\n",
       "      <td>17.9</td>\n",
       "      <td>186145.2</td>\n",
       "      <td>48.0</td>\n",
       "      <td>49</td>\n",
       "    </tr>\n",
       "    <tr>\n",
       "      <th>8</th>\n",
       "      <td>11.9</td>\n",
       "      <td>214753.5</td>\n",
       "      <td>53.8</td>\n",
       "      <td>83</td>\n",
       "    </tr>\n",
       "    <tr>\n",
       "      <th>9</th>\n",
       "      <td>10.2</td>\n",
       "      <td>281576.9</td>\n",
       "      <td>74.9</td>\n",
       "      <td>114</td>\n",
       "    </tr>\n",
       "    <tr>\n",
       "      <th>10</th>\n",
       "      <td>8.7</td>\n",
       "      <td>341278.5</td>\n",
       "      <td>85.7</td>\n",
       "      <td>186</td>\n",
       "    </tr>\n",
       "    <tr>\n",
       "      <th>11</th>\n",
       "      <td>4.8</td>\n",
       "      <td>378541.5</td>\n",
       "      <td>96.0</td>\n",
       "      <td>140</td>\n",
       "    </tr>\n",
       "    <tr>\n",
       "      <th>12</th>\n",
       "      <td>4.4</td>\n",
       "      <td>492211.2</td>\n",
       "      <td>121.2</td>\n",
       "      <td>187</td>\n",
       "    </tr>\n",
       "    <tr>\n",
       "      <th>13</th>\n",
       "      <td>3.8</td>\n",
       "      <td>642689.9</td>\n",
       "      <td>156.5</td>\n",
       "      <td>73</td>\n",
       "    </tr>\n",
       "    <tr>\n",
       "      <th>14</th>\n",
       "      <td>1.9</td>\n",
       "      <td>756193.6</td>\n",
       "      <td>192.0</td>\n",
       "      <td>130</td>\n",
       "    </tr>\n",
       "  </tbody>\n",
       "</table>\n",
       "</div>"
      ],
      "text/plain": [
       "          Recency MonetaryValue Frequency      \n",
       "             mean          mean      mean count\n",
       "RFM_Score                                      \n",
       "3           631.9        9093.7       3.1   160\n",
       "4           518.6       29979.4       7.1   279\n",
       "5           550.8       51269.6      12.0    86\n",
       "6            29.8      169497.7      48.0    13\n",
       "7            17.9      186145.2      48.0    49\n",
       "8            11.9      214753.5      53.8    83\n",
       "9            10.2      281576.9      74.9   114\n",
       "10            8.7      341278.5      85.7   186\n",
       "11            4.8      378541.5      96.0   140\n",
       "12            4.4      492211.2     121.2   187\n",
       "13            3.8      642689.9     156.5    73\n",
       "14            1.9      756193.6     192.0   130"
      ]
     },
     "execution_count": 150,
     "metadata": {},
     "output_type": "execute_result"
    }
   ],
   "source": [
    "# Summary metrics per RFM Score\n",
    "datamart.groupby('RFM_Score').agg({\n",
    "  'Recency':'mean',\n",
    "  'MonetaryValue' :'mean',\n",
    "  'Frequency':['mean','count']\n",
    "}).round(1)"
   ]
  },
  {
   "attachments": {},
   "cell_type": "markdown",
   "metadata": {},
   "source": [
    "## Grouping Customers into Named Segments\n",
    "Now that we have competed the RFM segmentation, users can be groups into named categories for marketing and profiling purpsoses.\n",
    "1. MVC (Most Valuable customer): RFM_Score >=12\n",
    "2. Loyal Customers: RFM_Score between 9 and 11\n",
    "3. Potentially Loyal: RFM_Score between 7 and 9\n",
    "4. Need Attention : RFM Score between 5 and 6\n",
    "5. Churned Folk : RFM_Score < 5\n"
   ]
  },
  {
   "cell_type": "code",
   "execution_count": 151,
   "metadata": {},
   "outputs": [],
   "source": [
    "def segment_me(datamart):\n",
    "    if datamart['RFM_Score']>=11 :\n",
    "        return 'MVC'\n",
    "    if(datamart['RFM_Score']>=9) and datamart['RFM_Score']<11:\n",
    "        return 'Loyal '\n",
    "    if(datamart['RFM_Score']>=7) and datamart['RFM_Score']<9:\n",
    "        return 'Potentially Loyal'\n",
    "    elif(datamart['RFM_Score']>=4) and datamart['RFM_Score']<6:\n",
    "        return 'Need Attention' \n",
    "    else:\n",
    "        return 'Churned Folk'"
   ]
  },
  {
   "cell_type": "code",
   "execution_count": 152,
   "metadata": {},
   "outputs": [
    {
     "data": {
      "text/html": [
       "<div>\n",
       "<style scoped>\n",
       "    .dataframe tbody tr th:only-of-type {\n",
       "        vertical-align: middle;\n",
       "    }\n",
       "\n",
       "    .dataframe tbody tr th {\n",
       "        vertical-align: top;\n",
       "    }\n",
       "\n",
       "    .dataframe thead tr th {\n",
       "        text-align: left;\n",
       "    }\n",
       "\n",
       "    .dataframe thead tr:last-of-type th {\n",
       "        text-align: right;\n",
       "    }\n",
       "</style>\n",
       "<table border=\"1\" class=\"dataframe\">\n",
       "  <thead>\n",
       "    <tr>\n",
       "      <th></th>\n",
       "      <th>Recency</th>\n",
       "      <th>MonetaryValue</th>\n",
       "      <th colspan=\"2\" halign=\"left\">Frequency</th>\n",
       "    </tr>\n",
       "    <tr>\n",
       "      <th></th>\n",
       "      <th>mean</th>\n",
       "      <th>mean</th>\n",
       "      <th>mean</th>\n",
       "      <th>count</th>\n",
       "    </tr>\n",
       "    <tr>\n",
       "      <th>General_Segment</th>\n",
       "      <th></th>\n",
       "      <th></th>\n",
       "      <th></th>\n",
       "      <th></th>\n",
       "    </tr>\n",
       "  </thead>\n",
       "  <tbody>\n",
       "    <tr>\n",
       "      <th>Churned Folk</th>\n",
       "      <td>586.7</td>\n",
       "      <td>21147.2</td>\n",
       "      <td>6.4</td>\n",
       "      <td>173</td>\n",
       "    </tr>\n",
       "    <tr>\n",
       "      <th>Loyal</th>\n",
       "      <td>9.3</td>\n",
       "      <td>318591.9</td>\n",
       "      <td>81.6</td>\n",
       "      <td>300</td>\n",
       "    </tr>\n",
       "    <tr>\n",
       "      <th>MVC</th>\n",
       "      <td>3.8</td>\n",
       "      <td>547662.0</td>\n",
       "      <td>136.8</td>\n",
       "      <td>530</td>\n",
       "    </tr>\n",
       "    <tr>\n",
       "      <th>Need Attention</th>\n",
       "      <td>526.2</td>\n",
       "      <td>34995.7</td>\n",
       "      <td>8.2</td>\n",
       "      <td>365</td>\n",
       "    </tr>\n",
       "    <tr>\n",
       "      <th>Potentially Loyal</th>\n",
       "      <td>14.1</td>\n",
       "      <td>204133.8</td>\n",
       "      <td>51.6</td>\n",
       "      <td>132</td>\n",
       "    </tr>\n",
       "  </tbody>\n",
       "</table>\n",
       "</div>"
      ],
      "text/plain": [
       "                  Recency MonetaryValue Frequency      \n",
       "                     mean          mean      mean count\n",
       "General_Segment                                        \n",
       "Churned Folk        586.7       21147.2       6.4   173\n",
       "Loyal                 9.3      318591.9      81.6   300\n",
       "MVC                   3.8      547662.0     136.8   530\n",
       "Need Attention      526.2       34995.7       8.2   365\n",
       "Potentially Loyal    14.1      204133.8      51.6   132"
      ]
     },
     "execution_count": 152,
     "metadata": {},
     "output_type": "execute_result"
    }
   ],
   "source": [
    "datamart['General_Segment']=datamart.apply(segment_me,axis=1)    \n",
    "datamart.groupby('General_Segment').agg({\n",
    "  'Recency':'mean',\n",
    "  'MonetaryValue' :'mean',\n",
    "  'Frequency':['mean','count']\n",
    "    \n",
    "    }).round(1)"
   ]
  },
  {
   "cell_type": "code",
   "execution_count": 153,
   "metadata": {},
   "outputs": [
    {
     "data": {
      "text/html": [
       "<div>\n",
       "<style scoped>\n",
       "    .dataframe tbody tr th:only-of-type {\n",
       "        vertical-align: middle;\n",
       "    }\n",
       "\n",
       "    .dataframe tbody tr th {\n",
       "        vertical-align: top;\n",
       "    }\n",
       "\n",
       "    .dataframe thead th {\n",
       "        text-align: right;\n",
       "    }\n",
       "</style>\n",
       "<table border=\"1\" class=\"dataframe\">\n",
       "  <thead>\n",
       "    <tr style=\"text-align: right;\">\n",
       "      <th></th>\n",
       "      <th>Recency</th>\n",
       "      <th>Frequency</th>\n",
       "      <th>MonetaryValue</th>\n",
       "      <th>R</th>\n",
       "      <th>F</th>\n",
       "      <th>M</th>\n",
       "      <th>RFM_Segment</th>\n",
       "      <th>RFM_Score</th>\n",
       "      <th>General_Segment</th>\n",
       "    </tr>\n",
       "    <tr>\n",
       "      <th>customerID</th>\n",
       "      <th></th>\n",
       "      <th></th>\n",
       "      <th></th>\n",
       "      <th></th>\n",
       "      <th></th>\n",
       "      <th></th>\n",
       "      <th></th>\n",
       "      <th></th>\n",
       "      <th></th>\n",
       "    </tr>\n",
       "  </thead>\n",
       "  <tbody>\n",
       "    <tr>\n",
       "      <th>10046128</th>\n",
       "      <td>565</td>\n",
       "      <td>12</td>\n",
       "      <td>39126.10</td>\n",
       "      <td>1</td>\n",
       "      <td>1</td>\n",
       "      <td>2</td>\n",
       "      <td>1.01.02.0</td>\n",
       "      <td>4</td>\n",
       "      <td>Need Attention</td>\n",
       "    </tr>\n",
       "    <tr>\n",
       "      <th>10086469</th>\n",
       "      <td>1</td>\n",
       "      <td>192</td>\n",
       "      <td>737444.48</td>\n",
       "      <td>5</td>\n",
       "      <td>4</td>\n",
       "      <td>5</td>\n",
       "      <td>5.04.05.0</td>\n",
       "      <td>14</td>\n",
       "      <td>MVC</td>\n",
       "    </tr>\n",
       "    <tr>\n",
       "      <th>10116026</th>\n",
       "      <td>551</td>\n",
       "      <td>12</td>\n",
       "      <td>52698.61</td>\n",
       "      <td>2</td>\n",
       "      <td>1</td>\n",
       "      <td>2</td>\n",
       "      <td>2.01.02.0</td>\n",
       "      <td>5</td>\n",
       "      <td>Need Attention</td>\n",
       "    </tr>\n",
       "    <tr>\n",
       "      <th>10191698</th>\n",
       "      <td>561</td>\n",
       "      <td>12</td>\n",
       "      <td>25465.01</td>\n",
       "      <td>1</td>\n",
       "      <td>1</td>\n",
       "      <td>1</td>\n",
       "      <td>1.01.01.0</td>\n",
       "      <td>3</td>\n",
       "      <td>Churned Folk</td>\n",
       "    </tr>\n",
       "    <tr>\n",
       "      <th>10208524</th>\n",
       "      <td>5</td>\n",
       "      <td>96</td>\n",
       "      <td>418488.78</td>\n",
       "      <td>4</td>\n",
       "      <td>3</td>\n",
       "      <td>5</td>\n",
       "      <td>4.03.05.0</td>\n",
       "      <td>12</td>\n",
       "      <td>MVC</td>\n",
       "    </tr>\n",
       "  </tbody>\n",
       "</table>\n",
       "</div>"
      ],
      "text/plain": [
       "            Recency  Frequency  MonetaryValue  R  F  M RFM_Segment  RFM_Score  \\\n",
       "customerID                                                                      \n",
       "10046128        565         12       39126.10  1  1  2   1.01.02.0          4   \n",
       "10086469          1        192      737444.48  5  4  5   5.04.05.0         14   \n",
       "10116026        551         12       52698.61  2  1  2   2.01.02.0          5   \n",
       "10191698        561         12       25465.01  1  1  1   1.01.01.0          3   \n",
       "10208524          5         96      418488.78  4  3  5   4.03.05.0         12   \n",
       "\n",
       "           General_Segment  \n",
       "customerID                  \n",
       "10046128    Need Attention  \n",
       "10086469               MVC  \n",
       "10116026    Need Attention  \n",
       "10191698      Churned Folk  \n",
       "10208524               MVC  "
      ]
     },
     "execution_count": 153,
     "metadata": {},
     "output_type": "execute_result"
    }
   ],
   "source": [
    "datamart.head()"
   ]
  },
  {
   "cell_type": "code",
   "execution_count": 154,
   "metadata": {},
   "outputs": [
    {
     "data": {
      "text/html": [
       "<div>\n",
       "<style scoped>\n",
       "    .dataframe tbody tr th:only-of-type {\n",
       "        vertical-align: middle;\n",
       "    }\n",
       "\n",
       "    .dataframe tbody tr th {\n",
       "        vertical-align: top;\n",
       "    }\n",
       "\n",
       "    .dataframe thead th {\n",
       "        text-align: right;\n",
       "    }\n",
       "</style>\n",
       "<table border=\"1\" class=\"dataframe\">\n",
       "  <thead>\n",
       "    <tr style=\"text-align: right;\">\n",
       "      <th></th>\n",
       "      <th>Recency</th>\n",
       "      <th>Frequency</th>\n",
       "      <th>MonetaryValue</th>\n",
       "      <th>RFM_Score</th>\n",
       "    </tr>\n",
       "  </thead>\n",
       "  <tbody>\n",
       "    <tr>\n",
       "      <th>count</th>\n",
       "      <td>1500.000000</td>\n",
       "      <td>1500.000000</td>\n",
       "      <td>1500.000000</td>\n",
       "      <td>1500.000000</td>\n",
       "    </tr>\n",
       "    <tr>\n",
       "      <th>mean</th>\n",
       "      <td>200.143333</td>\n",
       "      <td>71.930000</td>\n",
       "      <td>286143.961260</td>\n",
       "      <td>8.366667</td>\n",
       "    </tr>\n",
       "    <tr>\n",
       "      <th>std</th>\n",
       "      <td>266.721218</td>\n",
       "      <td>62.893578</td>\n",
       "      <td>250650.571119</td>\n",
       "      <td>3.720769</td>\n",
       "    </tr>\n",
       "    <tr>\n",
       "      <th>min</th>\n",
       "      <td>1.000000</td>\n",
       "      <td>1.000000</td>\n",
       "      <td>113.200000</td>\n",
       "      <td>3.000000</td>\n",
       "    </tr>\n",
       "    <tr>\n",
       "      <th>25%</th>\n",
       "      <td>3.000000</td>\n",
       "      <td>12.000000</td>\n",
       "      <td>47739.337500</td>\n",
       "      <td>4.000000</td>\n",
       "    </tr>\n",
       "    <tr>\n",
       "      <th>50%</th>\n",
       "      <td>11.000000</td>\n",
       "      <td>72.000000</td>\n",
       "      <td>271693.505000</td>\n",
       "      <td>9.000000</td>\n",
       "    </tr>\n",
       "    <tr>\n",
       "      <th>75%</th>\n",
       "      <td>549.000000</td>\n",
       "      <td>96.000000</td>\n",
       "      <td>399498.072500</td>\n",
       "      <td>12.000000</td>\n",
       "    </tr>\n",
       "    <tr>\n",
       "      <th>max</th>\n",
       "      <td>730.000000</td>\n",
       "      <td>192.000000</td>\n",
       "      <td>856285.640000</td>\n",
       "      <td>14.000000</td>\n",
       "    </tr>\n",
       "  </tbody>\n",
       "</table>\n",
       "</div>"
      ],
      "text/plain": [
       "           Recency    Frequency  MonetaryValue    RFM_Score\n",
       "count  1500.000000  1500.000000    1500.000000  1500.000000\n",
       "mean    200.143333    71.930000  286143.961260     8.366667\n",
       "std     266.721218    62.893578  250650.571119     3.720769\n",
       "min       1.000000     1.000000     113.200000     3.000000\n",
       "25%       3.000000    12.000000   47739.337500     4.000000\n",
       "50%      11.000000    72.000000  271693.505000     9.000000\n",
       "75%     549.000000    96.000000  399498.072500    12.000000\n",
       "max     730.000000   192.000000  856285.640000    14.000000"
      ]
     },
     "execution_count": 154,
     "metadata": {},
     "output_type": "execute_result"
    }
   ],
   "source": [
    "datamart.describe()"
   ]
  },
  {
   "attachments": {},
   "cell_type": "markdown",
   "metadata": {},
   "source": [
    "## Display as chart for high-level segment"
   ]
  },
  {
   "cell_type": "code",
   "execution_count": 155,
   "metadata": {},
   "outputs": [
    {
     "data": {
      "application/vnd.plotly.v1+json": {
       "config": {
        "plotlyServerURL": "https://plot.ly"
       },
       "data": [
        {
         "domain": {
          "x": [
           0,
           1
          ],
          "y": [
           0,
           1
          ]
         },
         "hovertemplate": "label=%{label}<br>value=%{value}<br>parent=%{parent}<extra></extra>",
         "labels": [
          "MVC<br>530",
          "Need Attention<br>365",
          "Loyal <br>300",
          "Churned Folk<br>173",
          "Potentially Loyal<br>132"
         ],
         "name": "",
         "parents": [
          "Customer Segments",
          "Customer Segments",
          "Customer Segments",
          "Customer Segments",
          "Customer Segments"
         ],
         "type": "treemap",
         "values": [
          530,
          365,
          300,
          173,
          132
         ]
        }
       ],
       "layout": {
        "legend": {
         "tracegroupgap": 0
        },
        "template": {
         "data": {
          "bar": [
           {
            "error_x": {
             "color": "#2a3f5f"
            },
            "error_y": {
             "color": "#2a3f5f"
            },
            "marker": {
             "line": {
              "color": "#E5ECF6",
              "width": 0.5
             },
             "pattern": {
              "fillmode": "overlay",
              "size": 10,
              "solidity": 0.2
             }
            },
            "type": "bar"
           }
          ],
          "barpolar": [
           {
            "marker": {
             "line": {
              "color": "#E5ECF6",
              "width": 0.5
             },
             "pattern": {
              "fillmode": "overlay",
              "size": 10,
              "solidity": 0.2
             }
            },
            "type": "barpolar"
           }
          ],
          "carpet": [
           {
            "aaxis": {
             "endlinecolor": "#2a3f5f",
             "gridcolor": "white",
             "linecolor": "white",
             "minorgridcolor": "white",
             "startlinecolor": "#2a3f5f"
            },
            "baxis": {
             "endlinecolor": "#2a3f5f",
             "gridcolor": "white",
             "linecolor": "white",
             "minorgridcolor": "white",
             "startlinecolor": "#2a3f5f"
            },
            "type": "carpet"
           }
          ],
          "choropleth": [
           {
            "colorbar": {
             "outlinewidth": 0,
             "ticks": ""
            },
            "type": "choropleth"
           }
          ],
          "contour": [
           {
            "colorbar": {
             "outlinewidth": 0,
             "ticks": ""
            },
            "colorscale": [
             [
              0,
              "#0d0887"
             ],
             [
              0.1111111111111111,
              "#46039f"
             ],
             [
              0.2222222222222222,
              "#7201a8"
             ],
             [
              0.3333333333333333,
              "#9c179e"
             ],
             [
              0.4444444444444444,
              "#bd3786"
             ],
             [
              0.5555555555555556,
              "#d8576b"
             ],
             [
              0.6666666666666666,
              "#ed7953"
             ],
             [
              0.7777777777777778,
              "#fb9f3a"
             ],
             [
              0.8888888888888888,
              "#fdca26"
             ],
             [
              1,
              "#f0f921"
             ]
            ],
            "type": "contour"
           }
          ],
          "contourcarpet": [
           {
            "colorbar": {
             "outlinewidth": 0,
             "ticks": ""
            },
            "type": "contourcarpet"
           }
          ],
          "heatmap": [
           {
            "colorbar": {
             "outlinewidth": 0,
             "ticks": ""
            },
            "colorscale": [
             [
              0,
              "#0d0887"
             ],
             [
              0.1111111111111111,
              "#46039f"
             ],
             [
              0.2222222222222222,
              "#7201a8"
             ],
             [
              0.3333333333333333,
              "#9c179e"
             ],
             [
              0.4444444444444444,
              "#bd3786"
             ],
             [
              0.5555555555555556,
              "#d8576b"
             ],
             [
              0.6666666666666666,
              "#ed7953"
             ],
             [
              0.7777777777777778,
              "#fb9f3a"
             ],
             [
              0.8888888888888888,
              "#fdca26"
             ],
             [
              1,
              "#f0f921"
             ]
            ],
            "type": "heatmap"
           }
          ],
          "heatmapgl": [
           {
            "colorbar": {
             "outlinewidth": 0,
             "ticks": ""
            },
            "colorscale": [
             [
              0,
              "#0d0887"
             ],
             [
              0.1111111111111111,
              "#46039f"
             ],
             [
              0.2222222222222222,
              "#7201a8"
             ],
             [
              0.3333333333333333,
              "#9c179e"
             ],
             [
              0.4444444444444444,
              "#bd3786"
             ],
             [
              0.5555555555555556,
              "#d8576b"
             ],
             [
              0.6666666666666666,
              "#ed7953"
             ],
             [
              0.7777777777777778,
              "#fb9f3a"
             ],
             [
              0.8888888888888888,
              "#fdca26"
             ],
             [
              1,
              "#f0f921"
             ]
            ],
            "type": "heatmapgl"
           }
          ],
          "histogram": [
           {
            "marker": {
             "pattern": {
              "fillmode": "overlay",
              "size": 10,
              "solidity": 0.2
             }
            },
            "type": "histogram"
           }
          ],
          "histogram2d": [
           {
            "colorbar": {
             "outlinewidth": 0,
             "ticks": ""
            },
            "colorscale": [
             [
              0,
              "#0d0887"
             ],
             [
              0.1111111111111111,
              "#46039f"
             ],
             [
              0.2222222222222222,
              "#7201a8"
             ],
             [
              0.3333333333333333,
              "#9c179e"
             ],
             [
              0.4444444444444444,
              "#bd3786"
             ],
             [
              0.5555555555555556,
              "#d8576b"
             ],
             [
              0.6666666666666666,
              "#ed7953"
             ],
             [
              0.7777777777777778,
              "#fb9f3a"
             ],
             [
              0.8888888888888888,
              "#fdca26"
             ],
             [
              1,
              "#f0f921"
             ]
            ],
            "type": "histogram2d"
           }
          ],
          "histogram2dcontour": [
           {
            "colorbar": {
             "outlinewidth": 0,
             "ticks": ""
            },
            "colorscale": [
             [
              0,
              "#0d0887"
             ],
             [
              0.1111111111111111,
              "#46039f"
             ],
             [
              0.2222222222222222,
              "#7201a8"
             ],
             [
              0.3333333333333333,
              "#9c179e"
             ],
             [
              0.4444444444444444,
              "#bd3786"
             ],
             [
              0.5555555555555556,
              "#d8576b"
             ],
             [
              0.6666666666666666,
              "#ed7953"
             ],
             [
              0.7777777777777778,
              "#fb9f3a"
             ],
             [
              0.8888888888888888,
              "#fdca26"
             ],
             [
              1,
              "#f0f921"
             ]
            ],
            "type": "histogram2dcontour"
           }
          ],
          "mesh3d": [
           {
            "colorbar": {
             "outlinewidth": 0,
             "ticks": ""
            },
            "type": "mesh3d"
           }
          ],
          "parcoords": [
           {
            "line": {
             "colorbar": {
              "outlinewidth": 0,
              "ticks": ""
             }
            },
            "type": "parcoords"
           }
          ],
          "pie": [
           {
            "automargin": true,
            "type": "pie"
           }
          ],
          "scatter": [
           {
            "fillpattern": {
             "fillmode": "overlay",
             "size": 10,
             "solidity": 0.2
            },
            "type": "scatter"
           }
          ],
          "scatter3d": [
           {
            "line": {
             "colorbar": {
              "outlinewidth": 0,
              "ticks": ""
             }
            },
            "marker": {
             "colorbar": {
              "outlinewidth": 0,
              "ticks": ""
             }
            },
            "type": "scatter3d"
           }
          ],
          "scattercarpet": [
           {
            "marker": {
             "colorbar": {
              "outlinewidth": 0,
              "ticks": ""
             }
            },
            "type": "scattercarpet"
           }
          ],
          "scattergeo": [
           {
            "marker": {
             "colorbar": {
              "outlinewidth": 0,
              "ticks": ""
             }
            },
            "type": "scattergeo"
           }
          ],
          "scattergl": [
           {
            "marker": {
             "colorbar": {
              "outlinewidth": 0,
              "ticks": ""
             }
            },
            "type": "scattergl"
           }
          ],
          "scattermapbox": [
           {
            "marker": {
             "colorbar": {
              "outlinewidth": 0,
              "ticks": ""
             }
            },
            "type": "scattermapbox"
           }
          ],
          "scatterpolar": [
           {
            "marker": {
             "colorbar": {
              "outlinewidth": 0,
              "ticks": ""
             }
            },
            "type": "scatterpolar"
           }
          ],
          "scatterpolargl": [
           {
            "marker": {
             "colorbar": {
              "outlinewidth": 0,
              "ticks": ""
             }
            },
            "type": "scatterpolargl"
           }
          ],
          "scatterternary": [
           {
            "marker": {
             "colorbar": {
              "outlinewidth": 0,
              "ticks": ""
             }
            },
            "type": "scatterternary"
           }
          ],
          "surface": [
           {
            "colorbar": {
             "outlinewidth": 0,
             "ticks": ""
            },
            "colorscale": [
             [
              0,
              "#0d0887"
             ],
             [
              0.1111111111111111,
              "#46039f"
             ],
             [
              0.2222222222222222,
              "#7201a8"
             ],
             [
              0.3333333333333333,
              "#9c179e"
             ],
             [
              0.4444444444444444,
              "#bd3786"
             ],
             [
              0.5555555555555556,
              "#d8576b"
             ],
             [
              0.6666666666666666,
              "#ed7953"
             ],
             [
              0.7777777777777778,
              "#fb9f3a"
             ],
             [
              0.8888888888888888,
              "#fdca26"
             ],
             [
              1,
              "#f0f921"
             ]
            ],
            "type": "surface"
           }
          ],
          "table": [
           {
            "cells": {
             "fill": {
              "color": "#EBF0F8"
             },
             "line": {
              "color": "white"
             }
            },
            "header": {
             "fill": {
              "color": "#C8D4E3"
             },
             "line": {
              "color": "white"
             }
            },
            "type": "table"
           }
          ]
         },
         "layout": {
          "annotationdefaults": {
           "arrowcolor": "#2a3f5f",
           "arrowhead": 0,
           "arrowwidth": 1
          },
          "autotypenumbers": "strict",
          "coloraxis": {
           "colorbar": {
            "outlinewidth": 0,
            "ticks": ""
           }
          },
          "colorscale": {
           "diverging": [
            [
             0,
             "#8e0152"
            ],
            [
             0.1,
             "#c51b7d"
            ],
            [
             0.2,
             "#de77ae"
            ],
            [
             0.3,
             "#f1b6da"
            ],
            [
             0.4,
             "#fde0ef"
            ],
            [
             0.5,
             "#f7f7f7"
            ],
            [
             0.6,
             "#e6f5d0"
            ],
            [
             0.7,
             "#b8e186"
            ],
            [
             0.8,
             "#7fbc41"
            ],
            [
             0.9,
             "#4d9221"
            ],
            [
             1,
             "#276419"
            ]
           ],
           "sequential": [
            [
             0,
             "#0d0887"
            ],
            [
             0.1111111111111111,
             "#46039f"
            ],
            [
             0.2222222222222222,
             "#7201a8"
            ],
            [
             0.3333333333333333,
             "#9c179e"
            ],
            [
             0.4444444444444444,
             "#bd3786"
            ],
            [
             0.5555555555555556,
             "#d8576b"
            ],
            [
             0.6666666666666666,
             "#ed7953"
            ],
            [
             0.7777777777777778,
             "#fb9f3a"
            ],
            [
             0.8888888888888888,
             "#fdca26"
            ],
            [
             1,
             "#f0f921"
            ]
           ],
           "sequentialminus": [
            [
             0,
             "#0d0887"
            ],
            [
             0.1111111111111111,
             "#46039f"
            ],
            [
             0.2222222222222222,
             "#7201a8"
            ],
            [
             0.3333333333333333,
             "#9c179e"
            ],
            [
             0.4444444444444444,
             "#bd3786"
            ],
            [
             0.5555555555555556,
             "#d8576b"
            ],
            [
             0.6666666666666666,
             "#ed7953"
            ],
            [
             0.7777777777777778,
             "#fb9f3a"
            ],
            [
             0.8888888888888888,
             "#fdca26"
            ],
            [
             1,
             "#f0f921"
            ]
           ]
          },
          "colorway": [
           "#636efa",
           "#EF553B",
           "#00cc96",
           "#ab63fa",
           "#FFA15A",
           "#19d3f3",
           "#FF6692",
           "#B6E880",
           "#FF97FF",
           "#FECB52"
          ],
          "font": {
           "color": "#2a3f5f"
          },
          "geo": {
           "bgcolor": "white",
           "lakecolor": "white",
           "landcolor": "#E5ECF6",
           "showlakes": true,
           "showland": true,
           "subunitcolor": "white"
          },
          "hoverlabel": {
           "align": "left"
          },
          "hovermode": "closest",
          "mapbox": {
           "style": "light"
          },
          "paper_bgcolor": "white",
          "plot_bgcolor": "#E5ECF6",
          "polar": {
           "angularaxis": {
            "gridcolor": "white",
            "linecolor": "white",
            "ticks": ""
           },
           "bgcolor": "#E5ECF6",
           "radialaxis": {
            "gridcolor": "white",
            "linecolor": "white",
            "ticks": ""
           }
          },
          "scene": {
           "xaxis": {
            "backgroundcolor": "#E5ECF6",
            "gridcolor": "white",
            "gridwidth": 2,
            "linecolor": "white",
            "showbackground": true,
            "ticks": "",
            "zerolinecolor": "white"
           },
           "yaxis": {
            "backgroundcolor": "#E5ECF6",
            "gridcolor": "white",
            "gridwidth": 2,
            "linecolor": "white",
            "showbackground": true,
            "ticks": "",
            "zerolinecolor": "white"
           },
           "zaxis": {
            "backgroundcolor": "#E5ECF6",
            "gridcolor": "white",
            "gridwidth": 2,
            "linecolor": "white",
            "showbackground": true,
            "ticks": "",
            "zerolinecolor": "white"
           }
          },
          "shapedefaults": {
           "line": {
            "color": "#2a3f5f"
           }
          },
          "ternary": {
           "aaxis": {
            "gridcolor": "white",
            "linecolor": "white",
            "ticks": ""
           },
           "baxis": {
            "gridcolor": "white",
            "linecolor": "white",
            "ticks": ""
           },
           "bgcolor": "#E5ECF6",
           "caxis": {
            "gridcolor": "white",
            "linecolor": "white",
            "ticks": ""
           }
          },
          "title": {
           "x": 0.05
          },
          "xaxis": {
           "automargin": true,
           "gridcolor": "white",
           "linecolor": "white",
           "ticks": "",
           "title": {
            "standoff": 15
           },
           "zerolinecolor": "white",
           "zerolinewidth": 2
          },
          "yaxis": {
           "automargin": true,
           "gridcolor": "white",
           "linecolor": "white",
           "ticks": "",
           "title": {
            "standoff": 15
           },
           "zerolinecolor": "white",
           "zerolinewidth": 2
          }
         }
        },
        "title": {
         "text": "RFM Customer Segmentation"
        }
       }
      }
     },
     "metadata": {},
     "output_type": "display_data"
    }
   ],
   "source": [
    "import plotly.express as px\n",
    "\n",
    "# count the number of occurrences of each General_Segment value\n",
    "segment_counts = datamart['General_Segment'].value_counts()\n",
    "\n",
    "fig = px.treemap(\n",
    "    title= \"RFM Customer Segmentation\",\n",
    "    names=[f\"{x}<br>{y}\" for x, y in zip(segment_counts.index.to_list(), segment_counts.to_list())],\n",
    "    parents=[\"Customer Segments\"]*segment_counts.size,\n",
    "    values=segment_counts.to_list(),\n",
    "    labels=segment_counts.to_list()\n",
    ")\n",
    "fig.show()"
   ]
  },
  {
   "attachments": {},
   "cell_type": "markdown",
   "metadata": {},
   "source": [
    "## Further Analysis using customer demographic information"
   ]
  },
  {
   "cell_type": "code",
   "execution_count": 156,
   "metadata": {},
   "outputs": [
    {
     "data": {
      "text/html": [
       "<div>\n",
       "<style scoped>\n",
       "    .dataframe tbody tr th:only-of-type {\n",
       "        vertical-align: middle;\n",
       "    }\n",
       "\n",
       "    .dataframe tbody tr th {\n",
       "        vertical-align: top;\n",
       "    }\n",
       "\n",
       "    .dataframe thead th {\n",
       "        text-align: right;\n",
       "    }\n",
       "</style>\n",
       "<table border=\"1\" class=\"dataframe\">\n",
       "  <thead>\n",
       "    <tr style=\"text-align: right;\">\n",
       "      <th></th>\n",
       "      <th>customerID</th>\n",
       "      <th>customerName</th>\n",
       "      <th>customerAge</th>\n",
       "      <th>customerGender</th>\n",
       "      <th>customerLocation</th>\n",
       "      <th>customerEducation</th>\n",
       "      <th>customerIndustry</th>\n",
       "      <th>customerAuthorizedSignatories</th>\n",
       "      <th>customerGeneration</th>\n",
       "      <th>customerState</th>\n",
       "      <th>Recency</th>\n",
       "      <th>Frequency</th>\n",
       "      <th>MonetaryValue</th>\n",
       "      <th>R</th>\n",
       "      <th>F</th>\n",
       "      <th>M</th>\n",
       "      <th>RFM_Segment</th>\n",
       "      <th>RFM_Score</th>\n",
       "      <th>General_Segment</th>\n",
       "    </tr>\n",
       "  </thead>\n",
       "  <tbody>\n",
       "    <tr>\n",
       "      <th>0</th>\n",
       "      <td>68370032</td>\n",
       "      <td>Irwan Hartati, M.Ak</td>\n",
       "      <td>25</td>\n",
       "      <td>Female</td>\n",
       "      <td>Gg. H.J Maemunah No. 8\\nBalikpapan, PA 91500</td>\n",
       "      <td>Bachelor</td>\n",
       "      <td>Retail</td>\n",
       "      <td>['Irwan Hartati, M.Ak']</td>\n",
       "      <td>Millennials</td>\n",
       "      <td>PA</td>\n",
       "      <td>8</td>\n",
       "      <td>192</td>\n",
       "      <td>780273.31</td>\n",
       "      <td>3</td>\n",
       "      <td>4</td>\n",
       "      <td>5</td>\n",
       "      <td>3.04.05.0</td>\n",
       "      <td>12</td>\n",
       "      <td>MVC</td>\n",
       "    </tr>\n",
       "    <tr>\n",
       "      <th>1</th>\n",
       "      <td>69040616</td>\n",
       "      <td>Tgk. Amelia Yulianti, S.I.Kom</td>\n",
       "      <td>47</td>\n",
       "      <td>Female</td>\n",
       "      <td>Jalan Jend. A. Yani No. 4\\nSawahlunto, KS 52885</td>\n",
       "      <td>PhD</td>\n",
       "      <td>Automotive</td>\n",
       "      <td>['Tgk. Amelia Yulianti, S.I.Kom']</td>\n",
       "      <td>Gen X</td>\n",
       "      <td>KS</td>\n",
       "      <td>6</td>\n",
       "      <td>192</td>\n",
       "      <td>758020.70</td>\n",
       "      <td>4</td>\n",
       "      <td>4</td>\n",
       "      <td>5</td>\n",
       "      <td>4.04.05.0</td>\n",
       "      <td>13</td>\n",
       "      <td>MVC</td>\n",
       "    </tr>\n",
       "    <tr>\n",
       "      <th>2</th>\n",
       "      <td>79864269</td>\n",
       "      <td>Endah Pradipta</td>\n",
       "      <td>41</td>\n",
       "      <td>Female</td>\n",
       "      <td>Gang Jend. Sudirman No. 3\\nKota Administrasi J...</td>\n",
       "      <td>High School</td>\n",
       "      <td>Furniture</td>\n",
       "      <td>['Endah Pradipta', 'R.A. Jamalia Uwais']</td>\n",
       "      <td>Gen X</td>\n",
       "      <td>None</td>\n",
       "      <td>7</td>\n",
       "      <td>192</td>\n",
       "      <td>705223.52</td>\n",
       "      <td>3</td>\n",
       "      <td>4</td>\n",
       "      <td>5</td>\n",
       "      <td>3.04.05.0</td>\n",
       "      <td>12</td>\n",
       "      <td>MVC</td>\n",
       "    </tr>\n",
       "    <tr>\n",
       "      <th>3</th>\n",
       "      <td>93226633</td>\n",
       "      <td>Cahyadi Dongoran</td>\n",
       "      <td>21</td>\n",
       "      <td>Female</td>\n",
       "      <td>Jalan Lembong No. 88\\nDumai, Jawa Timur 33139</td>\n",
       "      <td>Bachelor</td>\n",
       "      <td>Healthcare</td>\n",
       "      <td>['Cahyadi Dongoran']</td>\n",
       "      <td>Gen Z</td>\n",
       "      <td>None</td>\n",
       "      <td>8</td>\n",
       "      <td>192</td>\n",
       "      <td>691230.14</td>\n",
       "      <td>3</td>\n",
       "      <td>4</td>\n",
       "      <td>5</td>\n",
       "      <td>3.04.05.0</td>\n",
       "      <td>12</td>\n",
       "      <td>MVC</td>\n",
       "    </tr>\n",
       "    <tr>\n",
       "      <th>4</th>\n",
       "      <td>99087446</td>\n",
       "      <td>Prayoga Fujiati</td>\n",
       "      <td>31</td>\n",
       "      <td>Other</td>\n",
       "      <td>Gang Sentot Alibasa No. 101\\nPangkalpinang, RI...</td>\n",
       "      <td>PhD</td>\n",
       "      <td>Hospitality</td>\n",
       "      <td>['Prayoga Fujiati']</td>\n",
       "      <td>Millennials</td>\n",
       "      <td>RI</td>\n",
       "      <td>2</td>\n",
       "      <td>192</td>\n",
       "      <td>799200.87</td>\n",
       "      <td>5</td>\n",
       "      <td>4</td>\n",
       "      <td>5</td>\n",
       "      <td>5.04.05.0</td>\n",
       "      <td>14</td>\n",
       "      <td>MVC</td>\n",
       "    </tr>\n",
       "  </tbody>\n",
       "</table>\n",
       "</div>"
      ],
      "text/plain": [
       "   customerID                   customerName  customerAge customerGender  \\\n",
       "0    68370032            Irwan Hartati, M.Ak           25         Female   \n",
       "1    69040616  Tgk. Amelia Yulianti, S.I.Kom           47         Female   \n",
       "2    79864269                 Endah Pradipta           41         Female   \n",
       "3    93226633               Cahyadi Dongoran           21         Female   \n",
       "4    99087446                Prayoga Fujiati           31          Other   \n",
       "\n",
       "                                    customerLocation customerEducation  \\\n",
       "0       Gg. H.J Maemunah No. 8\\nBalikpapan, PA 91500          Bachelor   \n",
       "1    Jalan Jend. A. Yani No. 4\\nSawahlunto, KS 52885               PhD   \n",
       "2  Gang Jend. Sudirman No. 3\\nKota Administrasi J...       High School   \n",
       "3      Jalan Lembong No. 88\\nDumai, Jawa Timur 33139          Bachelor   \n",
       "4  Gang Sentot Alibasa No. 101\\nPangkalpinang, RI...               PhD   \n",
       "\n",
       "  customerIndustry             customerAuthorizedSignatories  \\\n",
       "0           Retail                   ['Irwan Hartati, M.Ak']   \n",
       "1       Automotive         ['Tgk. Amelia Yulianti, S.I.Kom']   \n",
       "2        Furniture  ['Endah Pradipta', 'R.A. Jamalia Uwais']   \n",
       "3       Healthcare                      ['Cahyadi Dongoran']   \n",
       "4      Hospitality                       ['Prayoga Fujiati']   \n",
       "\n",
       "  customerGeneration customerState  Recency  Frequency  MonetaryValue  R  F  \\\n",
       "0        Millennials            PA        8        192      780273.31  3  4   \n",
       "1              Gen X            KS        6        192      758020.70  4  4   \n",
       "2              Gen X          None        7        192      705223.52  3  4   \n",
       "3              Gen Z          None        8        192      691230.14  3  4   \n",
       "4        Millennials            RI        2        192      799200.87  5  4   \n",
       "\n",
       "   M RFM_Segment  RFM_Score General_Segment  \n",
       "0  5   3.04.05.0         12             MVC  \n",
       "1  5   4.04.05.0         13             MVC  \n",
       "2  5   3.04.05.0         12             MVC  \n",
       "3  5   3.04.05.0         12             MVC  \n",
       "4  5   5.04.05.0         14             MVC  "
      ]
     },
     "execution_count": 156,
     "metadata": {},
     "output_type": "execute_result"
    }
   ],
   "source": [
    "df_customer_datamart = pd.merge(df_customer, datamart, on='customerID', how='inner')\n",
    "df_customer_datamart.head()"
   ]
  },
  {
   "attachments": {},
   "cell_type": "markdown",
   "metadata": {},
   "source": [
    "## Show drill-down data or sub-segments\n",
    "\n",
    "Feel free to add more entries to list variable `sub_segment_columns=['customerEducation', 'customerIndustry', 'customerGeneration']`"
   ]
  },
  {
   "cell_type": "code",
   "execution_count": 157,
   "metadata": {},
   "outputs": [
    {
     "data": {
      "application/vnd.plotly.v1+json": {
       "config": {
        "plotlyServerURL": "https://plot.ly"
       },
       "data": [
        {
         "branchvalues": "total",
         "domain": {
          "x": [
           0,
           1
          ],
          "y": [
           0,
           1
          ]
         },
         "hovertemplate": "labels=%{label}<br>count=%{value}<br>parent=%{parent}<br>id=%{id}<extra></extra>",
         "ids": [
          "High School/57/Baby Boomers",
          "PhD/57/Baby Boomers",
          "High School/58/Baby Boomers",
          "Master/59/Baby Boomers",
          "Bachelor/60/Baby Boomers",
          "PhD/60/Baby Boomers",
          "Bachelor/61/Baby Boomers",
          "High School/61/Baby Boomers",
          "Master/62/Baby Boomers",
          "High School/63/Baby Boomers",
          "Bachelor/64/Baby Boomers",
          "High School/66/Baby Boomers",
          "PhD/66/Baby Boomers",
          "Bachelor/67/Baby Boomers",
          "High School/67/Baby Boomers",
          "Master/67/Baby Boomers",
          "High School/69/Baby Boomers",
          "High School/70/Baby Boomers",
          "Master/71/Baby Boomers",
          "PhD/72/Baby Boomers",
          "Bachelor/75/Baby Boomers",
          "Bachelor/Food and Beverage/Baby Boomers",
          "High School/Food and Beverage/Baby Boomers",
          "Master/Food and Beverage/Baby Boomers",
          "PhD/Food and Beverage/Baby Boomers",
          "Bachelor/Furniture/Baby Boomers",
          "High School/Furniture/Baby Boomers",
          "Master/Furniture/Baby Boomers",
          "PhD/Furniture/Baby Boomers",
          "PhD/Manufacturing/Baby Boomers",
          "Bachelor/Retail/Baby Boomers",
          "Bachelor/Textiles and Garments/Baby Boomers",
          "High School/Textiles and Garments/Baby Boomers",
          "Master/Textiles and Garments/Baby Boomers",
          "PhD/Textiles and Garments/Baby Boomers",
          "Master/50/Gen X",
          "Bachelor/51/Gen X",
          "High School/51/Gen X",
          "High School/52/Gen X",
          "Master/52/Gen X",
          "High School/53/Gen X",
          "Bachelor/54/Gen X",
          "Master/Education/Gen X",
          "Bachelor/Food and Beverage/Gen X",
          "High School/Food and Beverage/Gen X",
          "PhD/Food and Beverage/Gen X",
          "Bachelor/Furniture/Gen X",
          "High School/Furniture/Gen X",
          "Master/Furniture/Gen X",
          "PhD/Furniture/Gen X",
          "High School/IT/Gen X",
          "Bachelor/Manufacturing/Gen X",
          "Bachelor/Textiles and Garments/Gen X",
          "High School/Textiles and Garments/Gen X",
          "PhD/Textiles and Garments/Gen X",
          "High School/Retail/Gen Z",
          "Bachelor/40/Millennials",
          "Master/Automotive/Millennials",
          "PhD/Automotive/Millennials",
          "Bachelor/Food and Beverage/Millennials",
          "High School/76/Silent Generation",
          "Master/76/Silent Generation",
          "Master/77/Silent Generation",
          "High School/79/Silent Generation",
          "High School/80/Silent Generation",
          "Master/Automotive/Silent Generation",
          "High School/Food and Beverage/Silent Generation",
          "High School/Furniture/Silent Generation",
          "Master/Furniture/Silent Generation",
          "High School/Textiles and Garments/Silent Generation",
          "Master/Textiles and Garments/Silent Generation",
          "Bachelor/40",
          "Master/50",
          "Bachelor/51",
          "High School/51",
          "High School/52",
          "Master/52",
          "High School/53",
          "Bachelor/54",
          "High School/57",
          "PhD/57",
          "High School/58",
          "Master/59",
          "Bachelor/60",
          "PhD/60",
          "Bachelor/61",
          "High School/61",
          "Master/62",
          "High School/63",
          "Bachelor/64",
          "High School/66",
          "PhD/66",
          "Bachelor/67",
          "High School/67",
          "Master/67",
          "High School/69",
          "High School/70",
          "Master/71",
          "PhD/72",
          "Bachelor/75",
          "High School/76",
          "Master/76",
          "Master/77",
          "High School/79",
          "High School/80",
          "Master/Automotive",
          "PhD/Automotive",
          "Master/Education",
          "Bachelor/Food and Beverage",
          "High School/Food and Beverage",
          "Master/Food and Beverage",
          "PhD/Food and Beverage",
          "Bachelor/Furniture",
          "High School/Furniture",
          "Master/Furniture",
          "PhD/Furniture",
          "High School/IT",
          "Bachelor/Manufacturing",
          "PhD/Manufacturing",
          "Bachelor/Retail",
          "High School/Retail",
          "Bachelor/Textiles and Garments",
          "High School/Textiles and Garments",
          "Master/Textiles and Garments",
          "PhD/Textiles and Garments",
          "Bachelor",
          "High School",
          "Master",
          "PhD"
         ],
         "labels": [
          "Baby Boomers",
          "Baby Boomers",
          "Baby Boomers",
          "Baby Boomers",
          "Baby Boomers",
          "Baby Boomers",
          "Baby Boomers",
          "Baby Boomers",
          "Baby Boomers",
          "Baby Boomers",
          "Baby Boomers",
          "Baby Boomers",
          "Baby Boomers",
          "Baby Boomers",
          "Baby Boomers",
          "Baby Boomers",
          "Baby Boomers",
          "Baby Boomers",
          "Baby Boomers",
          "Baby Boomers",
          "Baby Boomers",
          "Baby Boomers",
          "Baby Boomers",
          "Baby Boomers",
          "Baby Boomers",
          "Baby Boomers",
          "Baby Boomers",
          "Baby Boomers",
          "Baby Boomers",
          "Baby Boomers",
          "Baby Boomers",
          "Baby Boomers",
          "Baby Boomers",
          "Baby Boomers",
          "Baby Boomers",
          "Gen X",
          "Gen X",
          "Gen X",
          "Gen X",
          "Gen X",
          "Gen X",
          "Gen X",
          "Gen X",
          "Gen X",
          "Gen X",
          "Gen X",
          "Gen X",
          "Gen X",
          "Gen X",
          "Gen X",
          "Gen X",
          "Gen X",
          "Gen X",
          "Gen X",
          "Gen X",
          "Gen Z",
          "Millennials",
          "Millennials",
          "Millennials",
          "Millennials",
          "Silent Generation",
          "Silent Generation",
          "Silent Generation",
          "Silent Generation",
          "Silent Generation",
          "Silent Generation",
          "Silent Generation",
          "Silent Generation",
          "Silent Generation",
          "Silent Generation",
          "Silent Generation",
          "40",
          "50",
          "51",
          "51",
          "52",
          "52",
          "53",
          "54",
          "57",
          "57",
          "58",
          "59",
          "60",
          "60",
          "61",
          "61",
          "62",
          "63",
          "64",
          "66",
          "66",
          "67",
          "67",
          "67",
          "69",
          "70",
          "71",
          "72",
          "75",
          "76",
          "76",
          "77",
          "79",
          "80",
          "Automotive",
          "Automotive",
          "Education",
          "Food and Beverage",
          "Food and Beverage",
          "Food and Beverage",
          "Food and Beverage",
          "Furniture",
          "Furniture",
          "Furniture",
          "Furniture",
          "IT",
          "Manufacturing",
          "Manufacturing",
          "Retail",
          "Retail",
          "Textiles and Garments",
          "Textiles and Garments",
          "Textiles and Garments",
          "Textiles and Garments",
          "Bachelor",
          "High School",
          "Master",
          "PhD"
         ],
         "name": "",
         "parents": [
          "High School/57",
          "PhD/57",
          "High School/58",
          "Master/59",
          "Bachelor/60",
          "PhD/60",
          "Bachelor/61",
          "High School/61",
          "Master/62",
          "High School/63",
          "Bachelor/64",
          "High School/66",
          "PhD/66",
          "Bachelor/67",
          "High School/67",
          "Master/67",
          "High School/69",
          "High School/70",
          "Master/71",
          "PhD/72",
          "Bachelor/75",
          "Bachelor/Food and Beverage",
          "High School/Food and Beverage",
          "Master/Food and Beverage",
          "PhD/Food and Beverage",
          "Bachelor/Furniture",
          "High School/Furniture",
          "Master/Furniture",
          "PhD/Furniture",
          "PhD/Manufacturing",
          "Bachelor/Retail",
          "Bachelor/Textiles and Garments",
          "High School/Textiles and Garments",
          "Master/Textiles and Garments",
          "PhD/Textiles and Garments",
          "Master/50",
          "Bachelor/51",
          "High School/51",
          "High School/52",
          "Master/52",
          "High School/53",
          "Bachelor/54",
          "Master/Education",
          "Bachelor/Food and Beverage",
          "High School/Food and Beverage",
          "PhD/Food and Beverage",
          "Bachelor/Furniture",
          "High School/Furniture",
          "Master/Furniture",
          "PhD/Furniture",
          "High School/IT",
          "Bachelor/Manufacturing",
          "Bachelor/Textiles and Garments",
          "High School/Textiles and Garments",
          "PhD/Textiles and Garments",
          "High School/Retail",
          "Bachelor/40",
          "Master/Automotive",
          "PhD/Automotive",
          "Bachelor/Food and Beverage",
          "High School/76",
          "Master/76",
          "Master/77",
          "High School/79",
          "High School/80",
          "Master/Automotive",
          "High School/Food and Beverage",
          "High School/Furniture",
          "Master/Furniture",
          "High School/Textiles and Garments",
          "Master/Textiles and Garments",
          "Bachelor",
          "Master",
          "Bachelor",
          "High School",
          "High School",
          "Master",
          "High School",
          "Bachelor",
          "High School",
          "PhD",
          "High School",
          "Master",
          "Bachelor",
          "PhD",
          "Bachelor",
          "High School",
          "Master",
          "High School",
          "Bachelor",
          "High School",
          "PhD",
          "Bachelor",
          "High School",
          "Master",
          "High School",
          "High School",
          "Master",
          "PhD",
          "Bachelor",
          "High School",
          "Master",
          "Master",
          "High School",
          "High School",
          "Master",
          "PhD",
          "Master",
          "Bachelor",
          "High School",
          "Master",
          "PhD",
          "Bachelor",
          "High School",
          "Master",
          "PhD",
          "High School",
          "Bachelor",
          "PhD",
          "Bachelor",
          "High School",
          "Bachelor",
          "High School",
          "Master",
          "PhD",
          "",
          "",
          "",
          ""
         ],
         "root": {
          "color": "lightgrey"
         },
         "type": "treemap",
         "values": [
          1,
          1,
          2,
          1,
          1,
          1,
          1,
          2,
          1,
          2,
          1,
          1,
          1,
          1,
          1,
          1,
          2,
          2,
          1,
          1,
          1,
          1,
          13,
          4,
          4,
          2,
          23,
          3,
          4,
          1,
          1,
          3,
          11,
          4,
          4,
          1,
          1,
          2,
          2,
          1,
          1,
          1,
          1,
          1,
          6,
          2,
          2,
          8,
          1,
          1,
          1,
          1,
          3,
          8,
          1,
          1,
          1,
          1,
          1,
          1,
          1,
          1,
          1,
          1,
          1,
          1,
          3,
          3,
          2,
          4,
          1,
          1,
          1,
          1,
          2,
          2,
          1,
          1,
          1,
          1,
          1,
          2,
          1,
          1,
          1,
          1,
          2,
          1,
          2,
          1,
          1,
          1,
          1,
          1,
          1,
          2,
          2,
          1,
          1,
          1,
          1,
          1,
          1,
          1,
          1,
          2,
          1,
          1,
          3,
          22,
          4,
          6,
          4,
          34,
          6,
          5,
          1,
          1,
          1,
          1,
          1,
          6,
          23,
          5,
          5,
          23,
          102,
          26,
          22
         ]
        }
       ],
       "layout": {
        "legend": {
         "tracegroupgap": 0
        },
        "margin": {
         "b": 25,
         "l": 25,
         "r": 25,
         "t": 50
        },
        "template": {
         "data": {
          "bar": [
           {
            "error_x": {
             "color": "#2a3f5f"
            },
            "error_y": {
             "color": "#2a3f5f"
            },
            "marker": {
             "line": {
              "color": "#E5ECF6",
              "width": 0.5
             },
             "pattern": {
              "fillmode": "overlay",
              "size": 10,
              "solidity": 0.2
             }
            },
            "type": "bar"
           }
          ],
          "barpolar": [
           {
            "marker": {
             "line": {
              "color": "#E5ECF6",
              "width": 0.5
             },
             "pattern": {
              "fillmode": "overlay",
              "size": 10,
              "solidity": 0.2
             }
            },
            "type": "barpolar"
           }
          ],
          "carpet": [
           {
            "aaxis": {
             "endlinecolor": "#2a3f5f",
             "gridcolor": "white",
             "linecolor": "white",
             "minorgridcolor": "white",
             "startlinecolor": "#2a3f5f"
            },
            "baxis": {
             "endlinecolor": "#2a3f5f",
             "gridcolor": "white",
             "linecolor": "white",
             "minorgridcolor": "white",
             "startlinecolor": "#2a3f5f"
            },
            "type": "carpet"
           }
          ],
          "choropleth": [
           {
            "colorbar": {
             "outlinewidth": 0,
             "ticks": ""
            },
            "type": "choropleth"
           }
          ],
          "contour": [
           {
            "colorbar": {
             "outlinewidth": 0,
             "ticks": ""
            },
            "colorscale": [
             [
              0,
              "#0d0887"
             ],
             [
              0.1111111111111111,
              "#46039f"
             ],
             [
              0.2222222222222222,
              "#7201a8"
             ],
             [
              0.3333333333333333,
              "#9c179e"
             ],
             [
              0.4444444444444444,
              "#bd3786"
             ],
             [
              0.5555555555555556,
              "#d8576b"
             ],
             [
              0.6666666666666666,
              "#ed7953"
             ],
             [
              0.7777777777777778,
              "#fb9f3a"
             ],
             [
              0.8888888888888888,
              "#fdca26"
             ],
             [
              1,
              "#f0f921"
             ]
            ],
            "type": "contour"
           }
          ],
          "contourcarpet": [
           {
            "colorbar": {
             "outlinewidth": 0,
             "ticks": ""
            },
            "type": "contourcarpet"
           }
          ],
          "heatmap": [
           {
            "colorbar": {
             "outlinewidth": 0,
             "ticks": ""
            },
            "colorscale": [
             [
              0,
              "#0d0887"
             ],
             [
              0.1111111111111111,
              "#46039f"
             ],
             [
              0.2222222222222222,
              "#7201a8"
             ],
             [
              0.3333333333333333,
              "#9c179e"
             ],
             [
              0.4444444444444444,
              "#bd3786"
             ],
             [
              0.5555555555555556,
              "#d8576b"
             ],
             [
              0.6666666666666666,
              "#ed7953"
             ],
             [
              0.7777777777777778,
              "#fb9f3a"
             ],
             [
              0.8888888888888888,
              "#fdca26"
             ],
             [
              1,
              "#f0f921"
             ]
            ],
            "type": "heatmap"
           }
          ],
          "heatmapgl": [
           {
            "colorbar": {
             "outlinewidth": 0,
             "ticks": ""
            },
            "colorscale": [
             [
              0,
              "#0d0887"
             ],
             [
              0.1111111111111111,
              "#46039f"
             ],
             [
              0.2222222222222222,
              "#7201a8"
             ],
             [
              0.3333333333333333,
              "#9c179e"
             ],
             [
              0.4444444444444444,
              "#bd3786"
             ],
             [
              0.5555555555555556,
              "#d8576b"
             ],
             [
              0.6666666666666666,
              "#ed7953"
             ],
             [
              0.7777777777777778,
              "#fb9f3a"
             ],
             [
              0.8888888888888888,
              "#fdca26"
             ],
             [
              1,
              "#f0f921"
             ]
            ],
            "type": "heatmapgl"
           }
          ],
          "histogram": [
           {
            "marker": {
             "pattern": {
              "fillmode": "overlay",
              "size": 10,
              "solidity": 0.2
             }
            },
            "type": "histogram"
           }
          ],
          "histogram2d": [
           {
            "colorbar": {
             "outlinewidth": 0,
             "ticks": ""
            },
            "colorscale": [
             [
              0,
              "#0d0887"
             ],
             [
              0.1111111111111111,
              "#46039f"
             ],
             [
              0.2222222222222222,
              "#7201a8"
             ],
             [
              0.3333333333333333,
              "#9c179e"
             ],
             [
              0.4444444444444444,
              "#bd3786"
             ],
             [
              0.5555555555555556,
              "#d8576b"
             ],
             [
              0.6666666666666666,
              "#ed7953"
             ],
             [
              0.7777777777777778,
              "#fb9f3a"
             ],
             [
              0.8888888888888888,
              "#fdca26"
             ],
             [
              1,
              "#f0f921"
             ]
            ],
            "type": "histogram2d"
           }
          ],
          "histogram2dcontour": [
           {
            "colorbar": {
             "outlinewidth": 0,
             "ticks": ""
            },
            "colorscale": [
             [
              0,
              "#0d0887"
             ],
             [
              0.1111111111111111,
              "#46039f"
             ],
             [
              0.2222222222222222,
              "#7201a8"
             ],
             [
              0.3333333333333333,
              "#9c179e"
             ],
             [
              0.4444444444444444,
              "#bd3786"
             ],
             [
              0.5555555555555556,
              "#d8576b"
             ],
             [
              0.6666666666666666,
              "#ed7953"
             ],
             [
              0.7777777777777778,
              "#fb9f3a"
             ],
             [
              0.8888888888888888,
              "#fdca26"
             ],
             [
              1,
              "#f0f921"
             ]
            ],
            "type": "histogram2dcontour"
           }
          ],
          "mesh3d": [
           {
            "colorbar": {
             "outlinewidth": 0,
             "ticks": ""
            },
            "type": "mesh3d"
           }
          ],
          "parcoords": [
           {
            "line": {
             "colorbar": {
              "outlinewidth": 0,
              "ticks": ""
             }
            },
            "type": "parcoords"
           }
          ],
          "pie": [
           {
            "automargin": true,
            "type": "pie"
           }
          ],
          "scatter": [
           {
            "fillpattern": {
             "fillmode": "overlay",
             "size": 10,
             "solidity": 0.2
            },
            "type": "scatter"
           }
          ],
          "scatter3d": [
           {
            "line": {
             "colorbar": {
              "outlinewidth": 0,
              "ticks": ""
             }
            },
            "marker": {
             "colorbar": {
              "outlinewidth": 0,
              "ticks": ""
             }
            },
            "type": "scatter3d"
           }
          ],
          "scattercarpet": [
           {
            "marker": {
             "colorbar": {
              "outlinewidth": 0,
              "ticks": ""
             }
            },
            "type": "scattercarpet"
           }
          ],
          "scattergeo": [
           {
            "marker": {
             "colorbar": {
              "outlinewidth": 0,
              "ticks": ""
             }
            },
            "type": "scattergeo"
           }
          ],
          "scattergl": [
           {
            "marker": {
             "colorbar": {
              "outlinewidth": 0,
              "ticks": ""
             }
            },
            "type": "scattergl"
           }
          ],
          "scattermapbox": [
           {
            "marker": {
             "colorbar": {
              "outlinewidth": 0,
              "ticks": ""
             }
            },
            "type": "scattermapbox"
           }
          ],
          "scatterpolar": [
           {
            "marker": {
             "colorbar": {
              "outlinewidth": 0,
              "ticks": ""
             }
            },
            "type": "scatterpolar"
           }
          ],
          "scatterpolargl": [
           {
            "marker": {
             "colorbar": {
              "outlinewidth": 0,
              "ticks": ""
             }
            },
            "type": "scatterpolargl"
           }
          ],
          "scatterternary": [
           {
            "marker": {
             "colorbar": {
              "outlinewidth": 0,
              "ticks": ""
             }
            },
            "type": "scatterternary"
           }
          ],
          "surface": [
           {
            "colorbar": {
             "outlinewidth": 0,
             "ticks": ""
            },
            "colorscale": [
             [
              0,
              "#0d0887"
             ],
             [
              0.1111111111111111,
              "#46039f"
             ],
             [
              0.2222222222222222,
              "#7201a8"
             ],
             [
              0.3333333333333333,
              "#9c179e"
             ],
             [
              0.4444444444444444,
              "#bd3786"
             ],
             [
              0.5555555555555556,
              "#d8576b"
             ],
             [
              0.6666666666666666,
              "#ed7953"
             ],
             [
              0.7777777777777778,
              "#fb9f3a"
             ],
             [
              0.8888888888888888,
              "#fdca26"
             ],
             [
              1,
              "#f0f921"
             ]
            ],
            "type": "surface"
           }
          ],
          "table": [
           {
            "cells": {
             "fill": {
              "color": "#EBF0F8"
             },
             "line": {
              "color": "white"
             }
            },
            "header": {
             "fill": {
              "color": "#C8D4E3"
             },
             "line": {
              "color": "white"
             }
            },
            "type": "table"
           }
          ]
         },
         "layout": {
          "annotationdefaults": {
           "arrowcolor": "#2a3f5f",
           "arrowhead": 0,
           "arrowwidth": 1
          },
          "autotypenumbers": "strict",
          "coloraxis": {
           "colorbar": {
            "outlinewidth": 0,
            "ticks": ""
           }
          },
          "colorscale": {
           "diverging": [
            [
             0,
             "#8e0152"
            ],
            [
             0.1,
             "#c51b7d"
            ],
            [
             0.2,
             "#de77ae"
            ],
            [
             0.3,
             "#f1b6da"
            ],
            [
             0.4,
             "#fde0ef"
            ],
            [
             0.5,
             "#f7f7f7"
            ],
            [
             0.6,
             "#e6f5d0"
            ],
            [
             0.7,
             "#b8e186"
            ],
            [
             0.8,
             "#7fbc41"
            ],
            [
             0.9,
             "#4d9221"
            ],
            [
             1,
             "#276419"
            ]
           ],
           "sequential": [
            [
             0,
             "#0d0887"
            ],
            [
             0.1111111111111111,
             "#46039f"
            ],
            [
             0.2222222222222222,
             "#7201a8"
            ],
            [
             0.3333333333333333,
             "#9c179e"
            ],
            [
             0.4444444444444444,
             "#bd3786"
            ],
            [
             0.5555555555555556,
             "#d8576b"
            ],
            [
             0.6666666666666666,
             "#ed7953"
            ],
            [
             0.7777777777777778,
             "#fb9f3a"
            ],
            [
             0.8888888888888888,
             "#fdca26"
            ],
            [
             1,
             "#f0f921"
            ]
           ],
           "sequentialminus": [
            [
             0,
             "#0d0887"
            ],
            [
             0.1111111111111111,
             "#46039f"
            ],
            [
             0.2222222222222222,
             "#7201a8"
            ],
            [
             0.3333333333333333,
             "#9c179e"
            ],
            [
             0.4444444444444444,
             "#bd3786"
            ],
            [
             0.5555555555555556,
             "#d8576b"
            ],
            [
             0.6666666666666666,
             "#ed7953"
            ],
            [
             0.7777777777777778,
             "#fb9f3a"
            ],
            [
             0.8888888888888888,
             "#fdca26"
            ],
            [
             1,
             "#f0f921"
            ]
           ]
          },
          "colorway": [
           "#636efa",
           "#EF553B",
           "#00cc96",
           "#ab63fa",
           "#FFA15A",
           "#19d3f3",
           "#FF6692",
           "#B6E880",
           "#FF97FF",
           "#FECB52"
          ],
          "font": {
           "color": "#2a3f5f"
          },
          "geo": {
           "bgcolor": "white",
           "lakecolor": "white",
           "landcolor": "#E5ECF6",
           "showlakes": true,
           "showland": true,
           "subunitcolor": "white"
          },
          "hoverlabel": {
           "align": "left"
          },
          "hovermode": "closest",
          "mapbox": {
           "style": "light"
          },
          "paper_bgcolor": "white",
          "plot_bgcolor": "#E5ECF6",
          "polar": {
           "angularaxis": {
            "gridcolor": "white",
            "linecolor": "white",
            "ticks": ""
           },
           "bgcolor": "#E5ECF6",
           "radialaxis": {
            "gridcolor": "white",
            "linecolor": "white",
            "ticks": ""
           }
          },
          "scene": {
           "xaxis": {
            "backgroundcolor": "#E5ECF6",
            "gridcolor": "white",
            "gridwidth": 2,
            "linecolor": "white",
            "showbackground": true,
            "ticks": "",
            "zerolinecolor": "white"
           },
           "yaxis": {
            "backgroundcolor": "#E5ECF6",
            "gridcolor": "white",
            "gridwidth": 2,
            "linecolor": "white",
            "showbackground": true,
            "ticks": "",
            "zerolinecolor": "white"
           },
           "zaxis": {
            "backgroundcolor": "#E5ECF6",
            "gridcolor": "white",
            "gridwidth": 2,
            "linecolor": "white",
            "showbackground": true,
            "ticks": "",
            "zerolinecolor": "white"
           }
          },
          "shapedefaults": {
           "line": {
            "color": "#2a3f5f"
           }
          },
          "ternary": {
           "aaxis": {
            "gridcolor": "white",
            "linecolor": "white",
            "ticks": ""
           },
           "baxis": {
            "gridcolor": "white",
            "linecolor": "white",
            "ticks": ""
           },
           "bgcolor": "#E5ECF6",
           "caxis": {
            "gridcolor": "white",
            "linecolor": "white",
            "ticks": ""
           }
          },
          "title": {
           "x": 0.05
          },
          "xaxis": {
           "automargin": true,
           "gridcolor": "white",
           "linecolor": "white",
           "ticks": "",
           "title": {
            "standoff": 15
           },
           "zerolinecolor": "white",
           "zerolinewidth": 2
          },
          "yaxis": {
           "automargin": true,
           "gridcolor": "white",
           "linecolor": "white",
           "ticks": "",
           "title": {
            "standoff": 15
           },
           "zerolinecolor": "white",
           "zerolinewidth": 2
          }
         }
        },
        "title": {
         "text": "Churned Folk"
        }
       }
      }
     },
     "metadata": {},
     "output_type": "display_data"
    },
    {
     "data": {
      "application/vnd.plotly.v1+json": {
       "config": {
        "plotlyServerURL": "https://plot.ly"
       },
       "data": [
        {
         "branchvalues": "total",
         "domain": {
          "x": [
           0,
           1
          ],
          "y": [
           0,
           1
          ]
         },
         "hovertemplate": "labels=%{label}<br>count=%{value}<br>parent=%{parent}<br>id=%{id}<extra></extra>",
         "ids": [
          "Bachelor/Automotive/Baby Boomers",
          "High School/Automotive/Baby Boomers",
          "Master/Automotive/Baby Boomers",
          "PhD/Automotive/Baby Boomers",
          "Bachelor/Education/Baby Boomers",
          "High School/Education/Baby Boomers",
          "Master/Education/Baby Boomers",
          "PhD/Education/Baby Boomers",
          "Bachelor/Finance/Baby Boomers",
          "High School/Finance/Baby Boomers",
          "Master/Finance/Baby Boomers",
          "PhD/Finance/Baby Boomers",
          "Bachelor/Food and Beverage/Baby Boomers",
          "High School/Food and Beverage/Baby Boomers",
          "Master/Food and Beverage/Baby Boomers",
          "PhD/Food and Beverage/Baby Boomers",
          "Bachelor/Furniture/Baby Boomers",
          "High School/Furniture/Baby Boomers",
          "Master/Furniture/Baby Boomers",
          "PhD/Furniture/Baby Boomers",
          "Bachelor/Healthcare/Baby Boomers",
          "High School/Healthcare/Baby Boomers",
          "Master/Healthcare/Baby Boomers",
          "PhD/Healthcare/Baby Boomers",
          "Bachelor/Hospitality/Baby Boomers",
          "High School/Hospitality/Baby Boomers",
          "Master/Hospitality/Baby Boomers",
          "PhD/Hospitality/Baby Boomers",
          "Bachelor/IT/Baby Boomers",
          "High School/IT/Baby Boomers",
          "Master/IT/Baby Boomers",
          "PhD/IT/Baby Boomers",
          "High School/Manufacturing/Baby Boomers",
          "Master/Manufacturing/Baby Boomers",
          "PhD/Manufacturing/Baby Boomers",
          "Bachelor/Retail/Baby Boomers",
          "High School/Retail/Baby Boomers",
          "Master/Retail/Baby Boomers",
          "PhD/Retail/Baby Boomers",
          "Bachelor/Textiles and Garments/Baby Boomers",
          "High School/Textiles and Garments/Baby Boomers",
          "Master/Textiles and Garments/Baby Boomers",
          "PhD/Textiles and Garments/Baby Boomers",
          "Bachelor/Tourism/Baby Boomers",
          "Master/Tourism/Baby Boomers",
          "PhD/Tourism/Baby Boomers",
          "Bachelor/Automotive/Gen X",
          "High School/Automotive/Gen X",
          "Master/Automotive/Gen X",
          "PhD/Automotive/Gen X",
          "Bachelor/Education/Gen X",
          "High School/Education/Gen X",
          "Master/Education/Gen X",
          "PhD/Education/Gen X",
          "Bachelor/Finance/Gen X",
          "High School/Finance/Gen X",
          "Master/Finance/Gen X",
          "PhD/Finance/Gen X",
          "Bachelor/Food and Beverage/Gen X",
          "High School/Food and Beverage/Gen X",
          "PhD/Food and Beverage/Gen X",
          "Bachelor/Furniture/Gen X",
          "High School/Furniture/Gen X",
          "Master/Furniture/Gen X",
          "PhD/Furniture/Gen X",
          "High School/Healthcare/Gen X",
          "Master/Healthcare/Gen X",
          "PhD/Healthcare/Gen X",
          "Bachelor/Hospitality/Gen X",
          "Master/Hospitality/Gen X",
          "PhD/Hospitality/Gen X",
          "Bachelor/IT/Gen X",
          "High School/IT/Gen X",
          "PhD/IT/Gen X",
          "Bachelor/Manufacturing/Gen X",
          "Master/Manufacturing/Gen X",
          "PhD/Manufacturing/Gen X",
          "Bachelor/Retail/Gen X",
          "High School/Retail/Gen X",
          "Master/Retail/Gen X",
          "PhD/Retail/Gen X",
          "PhD/Textiles and Garments/Gen X",
          "Bachelor/Tourism/Gen X",
          "High School/Tourism/Gen X",
          "Master/Tourism/Gen X",
          "PhD/Tourism/Gen X",
          "Bachelor/Automotive/Gen Z",
          "High School/Automotive/Gen Z",
          "High School/Education/Gen Z",
          "Master/Education/Gen Z",
          "PhD/Education/Gen Z",
          "Bachelor/Finance/Gen Z",
          "Bachelor/Food and Beverage/Gen Z",
          "High School/Food and Beverage/Gen Z",
          "Master/Food and Beverage/Gen Z",
          "Bachelor/Furniture/Gen Z",
          "PhD/Furniture/Gen Z",
          "Bachelor/Healthcare/Gen Z",
          "PhD/Hospitality/Gen Z",
          "Master/IT/Gen Z",
          "High School/Manufacturing/Gen Z",
          "High School/Retail/Gen Z",
          "PhD/Retail/Gen Z",
          "Master/Tourism/Gen Z",
          "PhD/Tourism/Gen Z",
          "Bachelor/Automotive/Millennials",
          "High School/Automotive/Millennials",
          "PhD/Automotive/Millennials",
          "Master/Education/Millennials",
          "PhD/Education/Millennials",
          "Bachelor/Finance/Millennials",
          "High School/Finance/Millennials",
          "Master/Finance/Millennials",
          "PhD/Finance/Millennials",
          "Bachelor/Food and Beverage/Millennials",
          "High School/Food and Beverage/Millennials",
          "Master/Food and Beverage/Millennials",
          "PhD/Food and Beverage/Millennials",
          "Bachelor/Furniture/Millennials",
          "High School/Furniture/Millennials",
          "Master/Furniture/Millennials",
          "Bachelor/Healthcare/Millennials",
          "High School/Healthcare/Millennials",
          "Master/Healthcare/Millennials",
          "PhD/Healthcare/Millennials",
          "Bachelor/Hospitality/Millennials",
          "High School/Hospitality/Millennials",
          "Master/Hospitality/Millennials",
          "PhD/Hospitality/Millennials",
          "Bachelor/IT/Millennials",
          "High School/IT/Millennials",
          "Master/IT/Millennials",
          "PhD/IT/Millennials",
          "Bachelor/Manufacturing/Millennials",
          "Master/Manufacturing/Millennials",
          "PhD/Manufacturing/Millennials",
          "Bachelor/Retail/Millennials",
          "High School/Retail/Millennials",
          "Master/Retail/Millennials",
          "PhD/Retail/Millennials",
          "High School/Textiles and Garments/Millennials",
          "PhD/Textiles and Garments/Millennials",
          "Master/Tourism/Millennials",
          "PhD/Tourism/Millennials",
          "Master/Automotive/Silent Generation",
          "PhD/Automotive/Silent Generation",
          "Bachelor/Education/Silent Generation",
          "Master/Education/Silent Generation",
          "PhD/Education/Silent Generation",
          "Bachelor/Finance/Silent Generation",
          "Master/Finance/Silent Generation",
          "Bachelor/Food and Beverage/Silent Generation",
          "PhD/Food and Beverage/Silent Generation",
          "Bachelor/Furniture/Silent Generation",
          "High School/Furniture/Silent Generation",
          "Master/Healthcare/Silent Generation",
          "PhD/Healthcare/Silent Generation",
          "High School/Hospitality/Silent Generation",
          "High School/IT/Silent Generation",
          "PhD/IT/Silent Generation",
          "Bachelor/Manufacturing/Silent Generation",
          "High School/Manufacturing/Silent Generation",
          "PhD/Manufacturing/Silent Generation",
          "PhD/Retail/Silent Generation",
          "Bachelor/Textiles and Garments/Silent Generation",
          "High School/Textiles and Garments/Silent Generation",
          "Bachelor/Tourism/Silent Generation",
          "PhD/Tourism/Silent Generation",
          "Bachelor/Automotive",
          "High School/Automotive",
          "Master/Automotive",
          "PhD/Automotive",
          "Bachelor/Education",
          "High School/Education",
          "Master/Education",
          "PhD/Education",
          "Bachelor/Finance",
          "High School/Finance",
          "Master/Finance",
          "PhD/Finance",
          "Bachelor/Food and Beverage",
          "High School/Food and Beverage",
          "Master/Food and Beverage",
          "PhD/Food and Beverage",
          "Bachelor/Furniture",
          "High School/Furniture",
          "Master/Furniture",
          "PhD/Furniture",
          "Bachelor/Healthcare",
          "High School/Healthcare",
          "Master/Healthcare",
          "PhD/Healthcare",
          "Bachelor/Hospitality",
          "High School/Hospitality",
          "Master/Hospitality",
          "PhD/Hospitality",
          "Bachelor/IT",
          "High School/IT",
          "Master/IT",
          "PhD/IT",
          "Bachelor/Manufacturing",
          "High School/Manufacturing",
          "Master/Manufacturing",
          "PhD/Manufacturing",
          "Bachelor/Retail",
          "High School/Retail",
          "Master/Retail",
          "PhD/Retail",
          "Bachelor/Textiles and Garments",
          "High School/Textiles and Garments",
          "Master/Textiles and Garments",
          "PhD/Textiles and Garments",
          "Bachelor/Tourism",
          "High School/Tourism",
          "Master/Tourism",
          "PhD/Tourism",
          "Bachelor",
          "High School",
          "Master",
          "PhD"
         ],
         "labels": [
          "Baby Boomers",
          "Baby Boomers",
          "Baby Boomers",
          "Baby Boomers",
          "Baby Boomers",
          "Baby Boomers",
          "Baby Boomers",
          "Baby Boomers",
          "Baby Boomers",
          "Baby Boomers",
          "Baby Boomers",
          "Baby Boomers",
          "Baby Boomers",
          "Baby Boomers",
          "Baby Boomers",
          "Baby Boomers",
          "Baby Boomers",
          "Baby Boomers",
          "Baby Boomers",
          "Baby Boomers",
          "Baby Boomers",
          "Baby Boomers",
          "Baby Boomers",
          "Baby Boomers",
          "Baby Boomers",
          "Baby Boomers",
          "Baby Boomers",
          "Baby Boomers",
          "Baby Boomers",
          "Baby Boomers",
          "Baby Boomers",
          "Baby Boomers",
          "Baby Boomers",
          "Baby Boomers",
          "Baby Boomers",
          "Baby Boomers",
          "Baby Boomers",
          "Baby Boomers",
          "Baby Boomers",
          "Baby Boomers",
          "Baby Boomers",
          "Baby Boomers",
          "Baby Boomers",
          "Baby Boomers",
          "Baby Boomers",
          "Baby Boomers",
          "Gen X",
          "Gen X",
          "Gen X",
          "Gen X",
          "Gen X",
          "Gen X",
          "Gen X",
          "Gen X",
          "Gen X",
          "Gen X",
          "Gen X",
          "Gen X",
          "Gen X",
          "Gen X",
          "Gen X",
          "Gen X",
          "Gen X",
          "Gen X",
          "Gen X",
          "Gen X",
          "Gen X",
          "Gen X",
          "Gen X",
          "Gen X",
          "Gen X",
          "Gen X",
          "Gen X",
          "Gen X",
          "Gen X",
          "Gen X",
          "Gen X",
          "Gen X",
          "Gen X",
          "Gen X",
          "Gen X",
          "Gen X",
          "Gen X",
          "Gen X",
          "Gen X",
          "Gen X",
          "Gen Z",
          "Gen Z",
          "Gen Z",
          "Gen Z",
          "Gen Z",
          "Gen Z",
          "Gen Z",
          "Gen Z",
          "Gen Z",
          "Gen Z",
          "Gen Z",
          "Gen Z",
          "Gen Z",
          "Gen Z",
          "Gen Z",
          "Gen Z",
          "Gen Z",
          "Gen Z",
          "Gen Z",
          "Millennials",
          "Millennials",
          "Millennials",
          "Millennials",
          "Millennials",
          "Millennials",
          "Millennials",
          "Millennials",
          "Millennials",
          "Millennials",
          "Millennials",
          "Millennials",
          "Millennials",
          "Millennials",
          "Millennials",
          "Millennials",
          "Millennials",
          "Millennials",
          "Millennials",
          "Millennials",
          "Millennials",
          "Millennials",
          "Millennials",
          "Millennials",
          "Millennials",
          "Millennials",
          "Millennials",
          "Millennials",
          "Millennials",
          "Millennials",
          "Millennials",
          "Millennials",
          "Millennials",
          "Millennials",
          "Millennials",
          "Millennials",
          "Millennials",
          "Millennials",
          "Millennials",
          "Silent Generation",
          "Silent Generation",
          "Silent Generation",
          "Silent Generation",
          "Silent Generation",
          "Silent Generation",
          "Silent Generation",
          "Silent Generation",
          "Silent Generation",
          "Silent Generation",
          "Silent Generation",
          "Silent Generation",
          "Silent Generation",
          "Silent Generation",
          "Silent Generation",
          "Silent Generation",
          "Silent Generation",
          "Silent Generation",
          "Silent Generation",
          "Silent Generation",
          "Silent Generation",
          "Silent Generation",
          "Silent Generation",
          "Silent Generation",
          "Automotive",
          "Automotive",
          "Automotive",
          "Automotive",
          "Education",
          "Education",
          "Education",
          "Education",
          "Finance",
          "Finance",
          "Finance",
          "Finance",
          "Food and Beverage",
          "Food and Beverage",
          "Food and Beverage",
          "Food and Beverage",
          "Furniture",
          "Furniture",
          "Furniture",
          "Furniture",
          "Healthcare",
          "Healthcare",
          "Healthcare",
          "Healthcare",
          "Hospitality",
          "Hospitality",
          "Hospitality",
          "Hospitality",
          "IT",
          "IT",
          "IT",
          "IT",
          "Manufacturing",
          "Manufacturing",
          "Manufacturing",
          "Manufacturing",
          "Retail",
          "Retail",
          "Retail",
          "Retail",
          "Textiles and Garments",
          "Textiles and Garments",
          "Textiles and Garments",
          "Textiles and Garments",
          "Tourism",
          "Tourism",
          "Tourism",
          "Tourism",
          "Bachelor",
          "High School",
          "Master",
          "PhD"
         ],
         "name": "",
         "parents": [
          "Bachelor/Automotive",
          "High School/Automotive",
          "Master/Automotive",
          "PhD/Automotive",
          "Bachelor/Education",
          "High School/Education",
          "Master/Education",
          "PhD/Education",
          "Bachelor/Finance",
          "High School/Finance",
          "Master/Finance",
          "PhD/Finance",
          "Bachelor/Food and Beverage",
          "High School/Food and Beverage",
          "Master/Food and Beverage",
          "PhD/Food and Beverage",
          "Bachelor/Furniture",
          "High School/Furniture",
          "Master/Furniture",
          "PhD/Furniture",
          "Bachelor/Healthcare",
          "High School/Healthcare",
          "Master/Healthcare",
          "PhD/Healthcare",
          "Bachelor/Hospitality",
          "High School/Hospitality",
          "Master/Hospitality",
          "PhD/Hospitality",
          "Bachelor/IT",
          "High School/IT",
          "Master/IT",
          "PhD/IT",
          "High School/Manufacturing",
          "Master/Manufacturing",
          "PhD/Manufacturing",
          "Bachelor/Retail",
          "High School/Retail",
          "Master/Retail",
          "PhD/Retail",
          "Bachelor/Textiles and Garments",
          "High School/Textiles and Garments",
          "Master/Textiles and Garments",
          "PhD/Textiles and Garments",
          "Bachelor/Tourism",
          "Master/Tourism",
          "PhD/Tourism",
          "Bachelor/Automotive",
          "High School/Automotive",
          "Master/Automotive",
          "PhD/Automotive",
          "Bachelor/Education",
          "High School/Education",
          "Master/Education",
          "PhD/Education",
          "Bachelor/Finance",
          "High School/Finance",
          "Master/Finance",
          "PhD/Finance",
          "Bachelor/Food and Beverage",
          "High School/Food and Beverage",
          "PhD/Food and Beverage",
          "Bachelor/Furniture",
          "High School/Furniture",
          "Master/Furniture",
          "PhD/Furniture",
          "High School/Healthcare",
          "Master/Healthcare",
          "PhD/Healthcare",
          "Bachelor/Hospitality",
          "Master/Hospitality",
          "PhD/Hospitality",
          "Bachelor/IT",
          "High School/IT",
          "PhD/IT",
          "Bachelor/Manufacturing",
          "Master/Manufacturing",
          "PhD/Manufacturing",
          "Bachelor/Retail",
          "High School/Retail",
          "Master/Retail",
          "PhD/Retail",
          "PhD/Textiles and Garments",
          "Bachelor/Tourism",
          "High School/Tourism",
          "Master/Tourism",
          "PhD/Tourism",
          "Bachelor/Automotive",
          "High School/Automotive",
          "High School/Education",
          "Master/Education",
          "PhD/Education",
          "Bachelor/Finance",
          "Bachelor/Food and Beverage",
          "High School/Food and Beverage",
          "Master/Food and Beverage",
          "Bachelor/Furniture",
          "PhD/Furniture",
          "Bachelor/Healthcare",
          "PhD/Hospitality",
          "Master/IT",
          "High School/Manufacturing",
          "High School/Retail",
          "PhD/Retail",
          "Master/Tourism",
          "PhD/Tourism",
          "Bachelor/Automotive",
          "High School/Automotive",
          "PhD/Automotive",
          "Master/Education",
          "PhD/Education",
          "Bachelor/Finance",
          "High School/Finance",
          "Master/Finance",
          "PhD/Finance",
          "Bachelor/Food and Beverage",
          "High School/Food and Beverage",
          "Master/Food and Beverage",
          "PhD/Food and Beverage",
          "Bachelor/Furniture",
          "High School/Furniture",
          "Master/Furniture",
          "Bachelor/Healthcare",
          "High School/Healthcare",
          "Master/Healthcare",
          "PhD/Healthcare",
          "Bachelor/Hospitality",
          "High School/Hospitality",
          "Master/Hospitality",
          "PhD/Hospitality",
          "Bachelor/IT",
          "High School/IT",
          "Master/IT",
          "PhD/IT",
          "Bachelor/Manufacturing",
          "Master/Manufacturing",
          "PhD/Manufacturing",
          "Bachelor/Retail",
          "High School/Retail",
          "Master/Retail",
          "PhD/Retail",
          "High School/Textiles and Garments",
          "PhD/Textiles and Garments",
          "Master/Tourism",
          "PhD/Tourism",
          "Master/Automotive",
          "PhD/Automotive",
          "Bachelor/Education",
          "Master/Education",
          "PhD/Education",
          "Bachelor/Finance",
          "Master/Finance",
          "Bachelor/Food and Beverage",
          "PhD/Food and Beverage",
          "Bachelor/Furniture",
          "High School/Furniture",
          "Master/Healthcare",
          "PhD/Healthcare",
          "High School/Hospitality",
          "High School/IT",
          "PhD/IT",
          "Bachelor/Manufacturing",
          "High School/Manufacturing",
          "PhD/Manufacturing",
          "PhD/Retail",
          "Bachelor/Textiles and Garments",
          "High School/Textiles and Garments",
          "Bachelor/Tourism",
          "PhD/Tourism",
          "Bachelor",
          "High School",
          "Master",
          "PhD",
          "Bachelor",
          "High School",
          "Master",
          "PhD",
          "Bachelor",
          "High School",
          "Master",
          "PhD",
          "Bachelor",
          "High School",
          "Master",
          "PhD",
          "Bachelor",
          "High School",
          "Master",
          "PhD",
          "Bachelor",
          "High School",
          "Master",
          "PhD",
          "Bachelor",
          "High School",
          "Master",
          "PhD",
          "Bachelor",
          "High School",
          "Master",
          "PhD",
          "Bachelor",
          "High School",
          "Master",
          "PhD",
          "Bachelor",
          "High School",
          "Master",
          "PhD",
          "Bachelor",
          "High School",
          "Master",
          "PhD",
          "Bachelor",
          "High School",
          "Master",
          "PhD",
          "",
          "",
          "",
          ""
         ],
         "root": {
          "color": "lightgrey"
         },
         "type": "treemap",
         "values": [
          2,
          4,
          3,
          4,
          2,
          1,
          3,
          4,
          3,
          2,
          1,
          1,
          1,
          2,
          1,
          1,
          4,
          2,
          2,
          1,
          1,
          2,
          1,
          1,
          3,
          3,
          2,
          2,
          2,
          1,
          2,
          3,
          1,
          3,
          1,
          1,
          2,
          2,
          1,
          1,
          3,
          1,
          5,
          4,
          3,
          3,
          2,
          1,
          1,
          2,
          1,
          3,
          2,
          4,
          3,
          2,
          2,
          2,
          2,
          1,
          4,
          1,
          1,
          1,
          2,
          2,
          2,
          1,
          4,
          5,
          1,
          4,
          2,
          3,
          1,
          1,
          3,
          1,
          1,
          1,
          2,
          2,
          1,
          1,
          1,
          1,
          1,
          2,
          1,
          1,
          1,
          1,
          1,
          1,
          1,
          1,
          2,
          2,
          2,
          2,
          1,
          2,
          1,
          1,
          1,
          2,
          2,
          2,
          3,
          1,
          1,
          1,
          2,
          1,
          2,
          2,
          1,
          3,
          1,
          3,
          1,
          2,
          2,
          1,
          3,
          2,
          2,
          1,
          2,
          1,
          1,
          1,
          1,
          3,
          1,
          2,
          1,
          1,
          6,
          1,
          2,
          2,
          2,
          3,
          1,
          1,
          1,
          1,
          1,
          1,
          2,
          2,
          1,
          1,
          2,
          1,
          2,
          1,
          1,
          1,
          1,
          1,
          1,
          1,
          1,
          1,
          2,
          1,
          7,
          9,
          5,
          9,
          4,
          5,
          10,
          11,
          9,
          5,
          7,
          4,
          8,
          6,
          3,
          9,
          8,
          8,
          4,
          5,
          5,
          6,
          5,
          7,
          9,
          6,
          8,
          7,
          7,
          5,
          5,
          8,
          5,
          3,
          5,
          7,
          3,
          6,
          9,
          6,
          2,
          6,
          1,
          9,
          7,
          1,
          7,
          9,
          74,
          66,
          69,
          91
         ]
        }
       ],
       "layout": {
        "legend": {
         "tracegroupgap": 0
        },
        "margin": {
         "b": 25,
         "l": 25,
         "r": 25,
         "t": 50
        },
        "template": {
         "data": {
          "bar": [
           {
            "error_x": {
             "color": "#2a3f5f"
            },
            "error_y": {
             "color": "#2a3f5f"
            },
            "marker": {
             "line": {
              "color": "#E5ECF6",
              "width": 0.5
             },
             "pattern": {
              "fillmode": "overlay",
              "size": 10,
              "solidity": 0.2
             }
            },
            "type": "bar"
           }
          ],
          "barpolar": [
           {
            "marker": {
             "line": {
              "color": "#E5ECF6",
              "width": 0.5
             },
             "pattern": {
              "fillmode": "overlay",
              "size": 10,
              "solidity": 0.2
             }
            },
            "type": "barpolar"
           }
          ],
          "carpet": [
           {
            "aaxis": {
             "endlinecolor": "#2a3f5f",
             "gridcolor": "white",
             "linecolor": "white",
             "minorgridcolor": "white",
             "startlinecolor": "#2a3f5f"
            },
            "baxis": {
             "endlinecolor": "#2a3f5f",
             "gridcolor": "white",
             "linecolor": "white",
             "minorgridcolor": "white",
             "startlinecolor": "#2a3f5f"
            },
            "type": "carpet"
           }
          ],
          "choropleth": [
           {
            "colorbar": {
             "outlinewidth": 0,
             "ticks": ""
            },
            "type": "choropleth"
           }
          ],
          "contour": [
           {
            "colorbar": {
             "outlinewidth": 0,
             "ticks": ""
            },
            "colorscale": [
             [
              0,
              "#0d0887"
             ],
             [
              0.1111111111111111,
              "#46039f"
             ],
             [
              0.2222222222222222,
              "#7201a8"
             ],
             [
              0.3333333333333333,
              "#9c179e"
             ],
             [
              0.4444444444444444,
              "#bd3786"
             ],
             [
              0.5555555555555556,
              "#d8576b"
             ],
             [
              0.6666666666666666,
              "#ed7953"
             ],
             [
              0.7777777777777778,
              "#fb9f3a"
             ],
             [
              0.8888888888888888,
              "#fdca26"
             ],
             [
              1,
              "#f0f921"
             ]
            ],
            "type": "contour"
           }
          ],
          "contourcarpet": [
           {
            "colorbar": {
             "outlinewidth": 0,
             "ticks": ""
            },
            "type": "contourcarpet"
           }
          ],
          "heatmap": [
           {
            "colorbar": {
             "outlinewidth": 0,
             "ticks": ""
            },
            "colorscale": [
             [
              0,
              "#0d0887"
             ],
             [
              0.1111111111111111,
              "#46039f"
             ],
             [
              0.2222222222222222,
              "#7201a8"
             ],
             [
              0.3333333333333333,
              "#9c179e"
             ],
             [
              0.4444444444444444,
              "#bd3786"
             ],
             [
              0.5555555555555556,
              "#d8576b"
             ],
             [
              0.6666666666666666,
              "#ed7953"
             ],
             [
              0.7777777777777778,
              "#fb9f3a"
             ],
             [
              0.8888888888888888,
              "#fdca26"
             ],
             [
              1,
              "#f0f921"
             ]
            ],
            "type": "heatmap"
           }
          ],
          "heatmapgl": [
           {
            "colorbar": {
             "outlinewidth": 0,
             "ticks": ""
            },
            "colorscale": [
             [
              0,
              "#0d0887"
             ],
             [
              0.1111111111111111,
              "#46039f"
             ],
             [
              0.2222222222222222,
              "#7201a8"
             ],
             [
              0.3333333333333333,
              "#9c179e"
             ],
             [
              0.4444444444444444,
              "#bd3786"
             ],
             [
              0.5555555555555556,
              "#d8576b"
             ],
             [
              0.6666666666666666,
              "#ed7953"
             ],
             [
              0.7777777777777778,
              "#fb9f3a"
             ],
             [
              0.8888888888888888,
              "#fdca26"
             ],
             [
              1,
              "#f0f921"
             ]
            ],
            "type": "heatmapgl"
           }
          ],
          "histogram": [
           {
            "marker": {
             "pattern": {
              "fillmode": "overlay",
              "size": 10,
              "solidity": 0.2
             }
            },
            "type": "histogram"
           }
          ],
          "histogram2d": [
           {
            "colorbar": {
             "outlinewidth": 0,
             "ticks": ""
            },
            "colorscale": [
             [
              0,
              "#0d0887"
             ],
             [
              0.1111111111111111,
              "#46039f"
             ],
             [
              0.2222222222222222,
              "#7201a8"
             ],
             [
              0.3333333333333333,
              "#9c179e"
             ],
             [
              0.4444444444444444,
              "#bd3786"
             ],
             [
              0.5555555555555556,
              "#d8576b"
             ],
             [
              0.6666666666666666,
              "#ed7953"
             ],
             [
              0.7777777777777778,
              "#fb9f3a"
             ],
             [
              0.8888888888888888,
              "#fdca26"
             ],
             [
              1,
              "#f0f921"
             ]
            ],
            "type": "histogram2d"
           }
          ],
          "histogram2dcontour": [
           {
            "colorbar": {
             "outlinewidth": 0,
             "ticks": ""
            },
            "colorscale": [
             [
              0,
              "#0d0887"
             ],
             [
              0.1111111111111111,
              "#46039f"
             ],
             [
              0.2222222222222222,
              "#7201a8"
             ],
             [
              0.3333333333333333,
              "#9c179e"
             ],
             [
              0.4444444444444444,
              "#bd3786"
             ],
             [
              0.5555555555555556,
              "#d8576b"
             ],
             [
              0.6666666666666666,
              "#ed7953"
             ],
             [
              0.7777777777777778,
              "#fb9f3a"
             ],
             [
              0.8888888888888888,
              "#fdca26"
             ],
             [
              1,
              "#f0f921"
             ]
            ],
            "type": "histogram2dcontour"
           }
          ],
          "mesh3d": [
           {
            "colorbar": {
             "outlinewidth": 0,
             "ticks": ""
            },
            "type": "mesh3d"
           }
          ],
          "parcoords": [
           {
            "line": {
             "colorbar": {
              "outlinewidth": 0,
              "ticks": ""
             }
            },
            "type": "parcoords"
           }
          ],
          "pie": [
           {
            "automargin": true,
            "type": "pie"
           }
          ],
          "scatter": [
           {
            "fillpattern": {
             "fillmode": "overlay",
             "size": 10,
             "solidity": 0.2
            },
            "type": "scatter"
           }
          ],
          "scatter3d": [
           {
            "line": {
             "colorbar": {
              "outlinewidth": 0,
              "ticks": ""
             }
            },
            "marker": {
             "colorbar": {
              "outlinewidth": 0,
              "ticks": ""
             }
            },
            "type": "scatter3d"
           }
          ],
          "scattercarpet": [
           {
            "marker": {
             "colorbar": {
              "outlinewidth": 0,
              "ticks": ""
             }
            },
            "type": "scattercarpet"
           }
          ],
          "scattergeo": [
           {
            "marker": {
             "colorbar": {
              "outlinewidth": 0,
              "ticks": ""
             }
            },
            "type": "scattergeo"
           }
          ],
          "scattergl": [
           {
            "marker": {
             "colorbar": {
              "outlinewidth": 0,
              "ticks": ""
             }
            },
            "type": "scattergl"
           }
          ],
          "scattermapbox": [
           {
            "marker": {
             "colorbar": {
              "outlinewidth": 0,
              "ticks": ""
             }
            },
            "type": "scattermapbox"
           }
          ],
          "scatterpolar": [
           {
            "marker": {
             "colorbar": {
              "outlinewidth": 0,
              "ticks": ""
             }
            },
            "type": "scatterpolar"
           }
          ],
          "scatterpolargl": [
           {
            "marker": {
             "colorbar": {
              "outlinewidth": 0,
              "ticks": ""
             }
            },
            "type": "scatterpolargl"
           }
          ],
          "scatterternary": [
           {
            "marker": {
             "colorbar": {
              "outlinewidth": 0,
              "ticks": ""
             }
            },
            "type": "scatterternary"
           }
          ],
          "surface": [
           {
            "colorbar": {
             "outlinewidth": 0,
             "ticks": ""
            },
            "colorscale": [
             [
              0,
              "#0d0887"
             ],
             [
              0.1111111111111111,
              "#46039f"
             ],
             [
              0.2222222222222222,
              "#7201a8"
             ],
             [
              0.3333333333333333,
              "#9c179e"
             ],
             [
              0.4444444444444444,
              "#bd3786"
             ],
             [
              0.5555555555555556,
              "#d8576b"
             ],
             [
              0.6666666666666666,
              "#ed7953"
             ],
             [
              0.7777777777777778,
              "#fb9f3a"
             ],
             [
              0.8888888888888888,
              "#fdca26"
             ],
             [
              1,
              "#f0f921"
             ]
            ],
            "type": "surface"
           }
          ],
          "table": [
           {
            "cells": {
             "fill": {
              "color": "#EBF0F8"
             },
             "line": {
              "color": "white"
             }
            },
            "header": {
             "fill": {
              "color": "#C8D4E3"
             },
             "line": {
              "color": "white"
             }
            },
            "type": "table"
           }
          ]
         },
         "layout": {
          "annotationdefaults": {
           "arrowcolor": "#2a3f5f",
           "arrowhead": 0,
           "arrowwidth": 1
          },
          "autotypenumbers": "strict",
          "coloraxis": {
           "colorbar": {
            "outlinewidth": 0,
            "ticks": ""
           }
          },
          "colorscale": {
           "diverging": [
            [
             0,
             "#8e0152"
            ],
            [
             0.1,
             "#c51b7d"
            ],
            [
             0.2,
             "#de77ae"
            ],
            [
             0.3,
             "#f1b6da"
            ],
            [
             0.4,
             "#fde0ef"
            ],
            [
             0.5,
             "#f7f7f7"
            ],
            [
             0.6,
             "#e6f5d0"
            ],
            [
             0.7,
             "#b8e186"
            ],
            [
             0.8,
             "#7fbc41"
            ],
            [
             0.9,
             "#4d9221"
            ],
            [
             1,
             "#276419"
            ]
           ],
           "sequential": [
            [
             0,
             "#0d0887"
            ],
            [
             0.1111111111111111,
             "#46039f"
            ],
            [
             0.2222222222222222,
             "#7201a8"
            ],
            [
             0.3333333333333333,
             "#9c179e"
            ],
            [
             0.4444444444444444,
             "#bd3786"
            ],
            [
             0.5555555555555556,
             "#d8576b"
            ],
            [
             0.6666666666666666,
             "#ed7953"
            ],
            [
             0.7777777777777778,
             "#fb9f3a"
            ],
            [
             0.8888888888888888,
             "#fdca26"
            ],
            [
             1,
             "#f0f921"
            ]
           ],
           "sequentialminus": [
            [
             0,
             "#0d0887"
            ],
            [
             0.1111111111111111,
             "#46039f"
            ],
            [
             0.2222222222222222,
             "#7201a8"
            ],
            [
             0.3333333333333333,
             "#9c179e"
            ],
            [
             0.4444444444444444,
             "#bd3786"
            ],
            [
             0.5555555555555556,
             "#d8576b"
            ],
            [
             0.6666666666666666,
             "#ed7953"
            ],
            [
             0.7777777777777778,
             "#fb9f3a"
            ],
            [
             0.8888888888888888,
             "#fdca26"
            ],
            [
             1,
             "#f0f921"
            ]
           ]
          },
          "colorway": [
           "#636efa",
           "#EF553B",
           "#00cc96",
           "#ab63fa",
           "#FFA15A",
           "#19d3f3",
           "#FF6692",
           "#B6E880",
           "#FF97FF",
           "#FECB52"
          ],
          "font": {
           "color": "#2a3f5f"
          },
          "geo": {
           "bgcolor": "white",
           "lakecolor": "white",
           "landcolor": "#E5ECF6",
           "showlakes": true,
           "showland": true,
           "subunitcolor": "white"
          },
          "hoverlabel": {
           "align": "left"
          },
          "hovermode": "closest",
          "mapbox": {
           "style": "light"
          },
          "paper_bgcolor": "white",
          "plot_bgcolor": "#E5ECF6",
          "polar": {
           "angularaxis": {
            "gridcolor": "white",
            "linecolor": "white",
            "ticks": ""
           },
           "bgcolor": "#E5ECF6",
           "radialaxis": {
            "gridcolor": "white",
            "linecolor": "white",
            "ticks": ""
           }
          },
          "scene": {
           "xaxis": {
            "backgroundcolor": "#E5ECF6",
            "gridcolor": "white",
            "gridwidth": 2,
            "linecolor": "white",
            "showbackground": true,
            "ticks": "",
            "zerolinecolor": "white"
           },
           "yaxis": {
            "backgroundcolor": "#E5ECF6",
            "gridcolor": "white",
            "gridwidth": 2,
            "linecolor": "white",
            "showbackground": true,
            "ticks": "",
            "zerolinecolor": "white"
           },
           "zaxis": {
            "backgroundcolor": "#E5ECF6",
            "gridcolor": "white",
            "gridwidth": 2,
            "linecolor": "white",
            "showbackground": true,
            "ticks": "",
            "zerolinecolor": "white"
           }
          },
          "shapedefaults": {
           "line": {
            "color": "#2a3f5f"
           }
          },
          "ternary": {
           "aaxis": {
            "gridcolor": "white",
            "linecolor": "white",
            "ticks": ""
           },
           "baxis": {
            "gridcolor": "white",
            "linecolor": "white",
            "ticks": ""
           },
           "bgcolor": "#E5ECF6",
           "caxis": {
            "gridcolor": "white",
            "linecolor": "white",
            "ticks": ""
           }
          },
          "title": {
           "x": 0.05
          },
          "xaxis": {
           "automargin": true,
           "gridcolor": "white",
           "linecolor": "white",
           "ticks": "",
           "title": {
            "standoff": 15
           },
           "zerolinecolor": "white",
           "zerolinewidth": 2
          },
          "yaxis": {
           "automargin": true,
           "gridcolor": "white",
           "linecolor": "white",
           "ticks": "",
           "title": {
            "standoff": 15
           },
           "zerolinecolor": "white",
           "zerolinewidth": 2
          }
         }
        },
        "title": {
         "text": "Loyal "
        }
       }
      }
     },
     "metadata": {},
     "output_type": "display_data"
    },
    {
     "data": {
      "application/vnd.plotly.v1+json": {
       "config": {
        "plotlyServerURL": "https://plot.ly"
       },
       "data": [
        {
         "branchvalues": "total",
         "domain": {
          "x": [
           0,
           1
          ],
          "y": [
           0,
           1
          ]
         },
         "hovertemplate": "labels=%{label}<br>count=%{value}<br>parent=%{parent}<br>id=%{id}<extra></extra>",
         "ids": [
          "Bachelor/Automotive/Baby Boomers",
          "High School/Automotive/Baby Boomers",
          "Master/Automotive/Baby Boomers",
          "PhD/Automotive/Baby Boomers",
          "Bachelor/Education/Baby Boomers",
          "High School/Education/Baby Boomers",
          "Master/Education/Baby Boomers",
          "PhD/Education/Baby Boomers",
          "Bachelor/Finance/Baby Boomers",
          "High School/Finance/Baby Boomers",
          "Master/Finance/Baby Boomers",
          "PhD/Finance/Baby Boomers",
          "Bachelor/Food and Beverage/Baby Boomers",
          "High School/Food and Beverage/Baby Boomers",
          "Master/Food and Beverage/Baby Boomers",
          "PhD/Food and Beverage/Baby Boomers",
          "Bachelor/Furniture/Baby Boomers",
          "High School/Furniture/Baby Boomers",
          "Master/Furniture/Baby Boomers",
          "PhD/Furniture/Baby Boomers",
          "High School/Healthcare/Baby Boomers",
          "Master/Healthcare/Baby Boomers",
          "PhD/Healthcare/Baby Boomers",
          "Bachelor/Hospitality/Baby Boomers",
          "High School/Hospitality/Baby Boomers",
          "Master/Hospitality/Baby Boomers",
          "PhD/Hospitality/Baby Boomers",
          "Bachelor/IT/Baby Boomers",
          "High School/IT/Baby Boomers",
          "Master/IT/Baby Boomers",
          "PhD/IT/Baby Boomers",
          "Bachelor/Manufacturing/Baby Boomers",
          "High School/Manufacturing/Baby Boomers",
          "Master/Manufacturing/Baby Boomers",
          "PhD/Manufacturing/Baby Boomers",
          "Bachelor/Retail/Baby Boomers",
          "High School/Retail/Baby Boomers",
          "Master/Retail/Baby Boomers",
          "PhD/Retail/Baby Boomers",
          "Bachelor/Textiles and Garments/Baby Boomers",
          "High School/Textiles and Garments/Baby Boomers",
          "Master/Textiles and Garments/Baby Boomers",
          "PhD/Textiles and Garments/Baby Boomers",
          "Bachelor/Tourism/Baby Boomers",
          "High School/Tourism/Baby Boomers",
          "Master/Tourism/Baby Boomers",
          "PhD/Tourism/Baby Boomers",
          "Bachelor/Automotive/Gen X",
          "High School/Automotive/Gen X",
          "Master/Automotive/Gen X",
          "PhD/Automotive/Gen X",
          "Bachelor/Education/Gen X",
          "High School/Education/Gen X",
          "Bachelor/Finance/Gen X",
          "High School/Finance/Gen X",
          "PhD/Finance/Gen X",
          "Bachelor/Food and Beverage/Gen X",
          "High School/Food and Beverage/Gen X",
          "Master/Food and Beverage/Gen X",
          "PhD/Food and Beverage/Gen X",
          "Bachelor/Furniture/Gen X",
          "High School/Furniture/Gen X",
          "Master/Furniture/Gen X",
          "PhD/Furniture/Gen X",
          "Bachelor/Healthcare/Gen X",
          "High School/Healthcare/Gen X",
          "Master/Healthcare/Gen X",
          "PhD/Healthcare/Gen X",
          "Bachelor/Hospitality/Gen X",
          "High School/Hospitality/Gen X",
          "Master/Hospitality/Gen X",
          "PhD/Hospitality/Gen X",
          "Bachelor/IT/Gen X",
          "High School/IT/Gen X",
          "Master/IT/Gen X",
          "PhD/IT/Gen X",
          "High School/Manufacturing/Gen X",
          "Master/Manufacturing/Gen X",
          "PhD/Manufacturing/Gen X",
          "Bachelor/Retail/Gen X",
          "High School/Retail/Gen X",
          "Master/Retail/Gen X",
          "Bachelor/Textiles and Garments/Gen X",
          "High School/Textiles and Garments/Gen X",
          "Master/Textiles and Garments/Gen X",
          "PhD/Textiles and Garments/Gen X",
          "Bachelor/Tourism/Gen X",
          "High School/Tourism/Gen X",
          "Master/Tourism/Gen X",
          "PhD/Tourism/Gen X",
          "PhD/Automotive/Gen Z",
          "Bachelor/Education/Gen Z",
          "High School/Education/Gen Z",
          "Master/Education/Gen Z",
          "PhD/Education/Gen Z",
          "High School/Finance/Gen Z",
          "Master/Finance/Gen Z",
          "PhD/Finance/Gen Z",
          "Bachelor/Food and Beverage/Gen Z",
          "High School/Food and Beverage/Gen Z",
          "Master/Food and Beverage/Gen Z",
          "PhD/Food and Beverage/Gen Z",
          "Bachelor/Furniture/Gen Z",
          "High School/Furniture/Gen Z",
          "PhD/Furniture/Gen Z",
          "Bachelor/Healthcare/Gen Z",
          "High School/Healthcare/Gen Z",
          "PhD/Healthcare/Gen Z",
          "Bachelor/Hospitality/Gen Z",
          "High School/Hospitality/Gen Z",
          "Master/Hospitality/Gen Z",
          "Bachelor/IT/Gen Z",
          "High School/IT/Gen Z",
          "Master/IT/Gen Z",
          "PhD/IT/Gen Z",
          "Bachelor/Manufacturing/Gen Z",
          "PhD/Manufacturing/Gen Z",
          "Bachelor/Retail/Gen Z",
          "High School/Retail/Gen Z",
          "Master/Retail/Gen Z",
          "PhD/Retail/Gen Z",
          "Bachelor/Textiles and Garments/Gen Z",
          "High School/Textiles and Garments/Gen Z",
          "Bachelor/Tourism/Gen Z",
          "High School/Tourism/Gen Z",
          "Master/Tourism/Gen Z",
          "Bachelor/Automotive/Millennials",
          "High School/Automotive/Millennials",
          "Master/Automotive/Millennials",
          "PhD/Automotive/Millennials",
          "Bachelor/Education/Millennials",
          "High School/Education/Millennials",
          "Master/Education/Millennials",
          "PhD/Education/Millennials",
          "Bachelor/Finance/Millennials",
          "High School/Finance/Millennials",
          "Master/Finance/Millennials",
          "PhD/Finance/Millennials",
          "Bachelor/Food and Beverage/Millennials",
          "High School/Food and Beverage/Millennials",
          "Master/Food and Beverage/Millennials",
          "PhD/Food and Beverage/Millennials",
          "High School/Furniture/Millennials",
          "Master/Furniture/Millennials",
          "PhD/Furniture/Millennials",
          "Bachelor/Healthcare/Millennials",
          "High School/Healthcare/Millennials",
          "Master/Healthcare/Millennials",
          "PhD/Healthcare/Millennials",
          "Bachelor/Hospitality/Millennials",
          "High School/Hospitality/Millennials",
          "Master/Hospitality/Millennials",
          "PhD/Hospitality/Millennials",
          "Bachelor/IT/Millennials",
          "High School/IT/Millennials",
          "Master/IT/Millennials",
          "PhD/IT/Millennials",
          "Bachelor/Manufacturing/Millennials",
          "High School/Manufacturing/Millennials",
          "Master/Manufacturing/Millennials",
          "PhD/Manufacturing/Millennials",
          "Bachelor/Retail/Millennials",
          "High School/Retail/Millennials",
          "High School/Textiles and Garments/Millennials",
          "Master/Textiles and Garments/Millennials",
          "Bachelor/Tourism/Millennials",
          "High School/Tourism/Millennials",
          "Master/Tourism/Millennials",
          "PhD/Tourism/Millennials",
          "PhD/Automotive/Silent Generation",
          "Bachelor/Education/Silent Generation",
          "High School/Education/Silent Generation",
          "Master/Education/Silent Generation",
          "PhD/Education/Silent Generation",
          "High School/Finance/Silent Generation",
          "Master/Finance/Silent Generation",
          "PhD/Finance/Silent Generation",
          "Bachelor/Food and Beverage/Silent Generation",
          "High School/Food and Beverage/Silent Generation",
          "Master/Food and Beverage/Silent Generation",
          "Bachelor/Furniture/Silent Generation",
          "High School/Furniture/Silent Generation",
          "Master/Furniture/Silent Generation",
          "Master/Healthcare/Silent Generation",
          "PhD/Healthcare/Silent Generation",
          "Bachelor/Hospitality/Silent Generation",
          "Master/Hospitality/Silent Generation",
          "PhD/Hospitality/Silent Generation",
          "High School/IT/Silent Generation",
          "PhD/IT/Silent Generation",
          "High School/Manufacturing/Silent Generation",
          "Master/Manufacturing/Silent Generation",
          "Bachelor/Retail/Silent Generation",
          "Bachelor/Tourism/Silent Generation",
          "Bachelor/Automotive",
          "High School/Automotive",
          "Master/Automotive",
          "PhD/Automotive",
          "Bachelor/Education",
          "High School/Education",
          "Master/Education",
          "PhD/Education",
          "Bachelor/Finance",
          "High School/Finance",
          "Master/Finance",
          "PhD/Finance",
          "Bachelor/Food and Beverage",
          "High School/Food and Beverage",
          "Master/Food and Beverage",
          "PhD/Food and Beverage",
          "Bachelor/Furniture",
          "High School/Furniture",
          "Master/Furniture",
          "PhD/Furniture",
          "Bachelor/Healthcare",
          "High School/Healthcare",
          "Master/Healthcare",
          "PhD/Healthcare",
          "Bachelor/Hospitality",
          "High School/Hospitality",
          "Master/Hospitality",
          "PhD/Hospitality",
          "Bachelor/IT",
          "High School/IT",
          "Master/IT",
          "PhD/IT",
          "Bachelor/Manufacturing",
          "High School/Manufacturing",
          "Master/Manufacturing",
          "PhD/Manufacturing",
          "Bachelor/Retail",
          "High School/Retail",
          "Master/Retail",
          "PhD/Retail",
          "Bachelor/Textiles and Garments",
          "High School/Textiles and Garments",
          "Master/Textiles and Garments",
          "PhD/Textiles and Garments",
          "Bachelor/Tourism",
          "High School/Tourism",
          "Master/Tourism",
          "PhD/Tourism",
          "Bachelor",
          "High School",
          "Master",
          "PhD"
         ],
         "labels": [
          "Baby Boomers",
          "Baby Boomers",
          "Baby Boomers",
          "Baby Boomers",
          "Baby Boomers",
          "Baby Boomers",
          "Baby Boomers",
          "Baby Boomers",
          "Baby Boomers",
          "Baby Boomers",
          "Baby Boomers",
          "Baby Boomers",
          "Baby Boomers",
          "Baby Boomers",
          "Baby Boomers",
          "Baby Boomers",
          "Baby Boomers",
          "Baby Boomers",
          "Baby Boomers",
          "Baby Boomers",
          "Baby Boomers",
          "Baby Boomers",
          "Baby Boomers",
          "Baby Boomers",
          "Baby Boomers",
          "Baby Boomers",
          "Baby Boomers",
          "Baby Boomers",
          "Baby Boomers",
          "Baby Boomers",
          "Baby Boomers",
          "Baby Boomers",
          "Baby Boomers",
          "Baby Boomers",
          "Baby Boomers",
          "Baby Boomers",
          "Baby Boomers",
          "Baby Boomers",
          "Baby Boomers",
          "Baby Boomers",
          "Baby Boomers",
          "Baby Boomers",
          "Baby Boomers",
          "Baby Boomers",
          "Baby Boomers",
          "Baby Boomers",
          "Baby Boomers",
          "Gen X",
          "Gen X",
          "Gen X",
          "Gen X",
          "Gen X",
          "Gen X",
          "Gen X",
          "Gen X",
          "Gen X",
          "Gen X",
          "Gen X",
          "Gen X",
          "Gen X",
          "Gen X",
          "Gen X",
          "Gen X",
          "Gen X",
          "Gen X",
          "Gen X",
          "Gen X",
          "Gen X",
          "Gen X",
          "Gen X",
          "Gen X",
          "Gen X",
          "Gen X",
          "Gen X",
          "Gen X",
          "Gen X",
          "Gen X",
          "Gen X",
          "Gen X",
          "Gen X",
          "Gen X",
          "Gen X",
          "Gen X",
          "Gen X",
          "Gen X",
          "Gen X",
          "Gen X",
          "Gen X",
          "Gen X",
          "Gen X",
          "Gen Z",
          "Gen Z",
          "Gen Z",
          "Gen Z",
          "Gen Z",
          "Gen Z",
          "Gen Z",
          "Gen Z",
          "Gen Z",
          "Gen Z",
          "Gen Z",
          "Gen Z",
          "Gen Z",
          "Gen Z",
          "Gen Z",
          "Gen Z",
          "Gen Z",
          "Gen Z",
          "Gen Z",
          "Gen Z",
          "Gen Z",
          "Gen Z",
          "Gen Z",
          "Gen Z",
          "Gen Z",
          "Gen Z",
          "Gen Z",
          "Gen Z",
          "Gen Z",
          "Gen Z",
          "Gen Z",
          "Gen Z",
          "Gen Z",
          "Gen Z",
          "Gen Z",
          "Gen Z",
          "Millennials",
          "Millennials",
          "Millennials",
          "Millennials",
          "Millennials",
          "Millennials",
          "Millennials",
          "Millennials",
          "Millennials",
          "Millennials",
          "Millennials",
          "Millennials",
          "Millennials",
          "Millennials",
          "Millennials",
          "Millennials",
          "Millennials",
          "Millennials",
          "Millennials",
          "Millennials",
          "Millennials",
          "Millennials",
          "Millennials",
          "Millennials",
          "Millennials",
          "Millennials",
          "Millennials",
          "Millennials",
          "Millennials",
          "Millennials",
          "Millennials",
          "Millennials",
          "Millennials",
          "Millennials",
          "Millennials",
          "Millennials",
          "Millennials",
          "Millennials",
          "Millennials",
          "Millennials",
          "Millennials",
          "Millennials",
          "Millennials",
          "Silent Generation",
          "Silent Generation",
          "Silent Generation",
          "Silent Generation",
          "Silent Generation",
          "Silent Generation",
          "Silent Generation",
          "Silent Generation",
          "Silent Generation",
          "Silent Generation",
          "Silent Generation",
          "Silent Generation",
          "Silent Generation",
          "Silent Generation",
          "Silent Generation",
          "Silent Generation",
          "Silent Generation",
          "Silent Generation",
          "Silent Generation",
          "Silent Generation",
          "Silent Generation",
          "Silent Generation",
          "Silent Generation",
          "Silent Generation",
          "Silent Generation",
          "Automotive",
          "Automotive",
          "Automotive",
          "Automotive",
          "Education",
          "Education",
          "Education",
          "Education",
          "Finance",
          "Finance",
          "Finance",
          "Finance",
          "Food and Beverage",
          "Food and Beverage",
          "Food and Beverage",
          "Food and Beverage",
          "Furniture",
          "Furniture",
          "Furniture",
          "Furniture",
          "Healthcare",
          "Healthcare",
          "Healthcare",
          "Healthcare",
          "Hospitality",
          "Hospitality",
          "Hospitality",
          "Hospitality",
          "IT",
          "IT",
          "IT",
          "IT",
          "Manufacturing",
          "Manufacturing",
          "Manufacturing",
          "Manufacturing",
          "Retail",
          "Retail",
          "Retail",
          "Retail",
          "Textiles and Garments",
          "Textiles and Garments",
          "Textiles and Garments",
          "Textiles and Garments",
          "Tourism",
          "Tourism",
          "Tourism",
          "Tourism",
          "Bachelor",
          "High School",
          "Master",
          "PhD"
         ],
         "name": "",
         "parents": [
          "Bachelor/Automotive",
          "High School/Automotive",
          "Master/Automotive",
          "PhD/Automotive",
          "Bachelor/Education",
          "High School/Education",
          "Master/Education",
          "PhD/Education",
          "Bachelor/Finance",
          "High School/Finance",
          "Master/Finance",
          "PhD/Finance",
          "Bachelor/Food and Beverage",
          "High School/Food and Beverage",
          "Master/Food and Beverage",
          "PhD/Food and Beverage",
          "Bachelor/Furniture",
          "High School/Furniture",
          "Master/Furniture",
          "PhD/Furniture",
          "High School/Healthcare",
          "Master/Healthcare",
          "PhD/Healthcare",
          "Bachelor/Hospitality",
          "High School/Hospitality",
          "Master/Hospitality",
          "PhD/Hospitality",
          "Bachelor/IT",
          "High School/IT",
          "Master/IT",
          "PhD/IT",
          "Bachelor/Manufacturing",
          "High School/Manufacturing",
          "Master/Manufacturing",
          "PhD/Manufacturing",
          "Bachelor/Retail",
          "High School/Retail",
          "Master/Retail",
          "PhD/Retail",
          "Bachelor/Textiles and Garments",
          "High School/Textiles and Garments",
          "Master/Textiles and Garments",
          "PhD/Textiles and Garments",
          "Bachelor/Tourism",
          "High School/Tourism",
          "Master/Tourism",
          "PhD/Tourism",
          "Bachelor/Automotive",
          "High School/Automotive",
          "Master/Automotive",
          "PhD/Automotive",
          "Bachelor/Education",
          "High School/Education",
          "Bachelor/Finance",
          "High School/Finance",
          "PhD/Finance",
          "Bachelor/Food and Beverage",
          "High School/Food and Beverage",
          "Master/Food and Beverage",
          "PhD/Food and Beverage",
          "Bachelor/Furniture",
          "High School/Furniture",
          "Master/Furniture",
          "PhD/Furniture",
          "Bachelor/Healthcare",
          "High School/Healthcare",
          "Master/Healthcare",
          "PhD/Healthcare",
          "Bachelor/Hospitality",
          "High School/Hospitality",
          "Master/Hospitality",
          "PhD/Hospitality",
          "Bachelor/IT",
          "High School/IT",
          "Master/IT",
          "PhD/IT",
          "High School/Manufacturing",
          "Master/Manufacturing",
          "PhD/Manufacturing",
          "Bachelor/Retail",
          "High School/Retail",
          "Master/Retail",
          "Bachelor/Textiles and Garments",
          "High School/Textiles and Garments",
          "Master/Textiles and Garments",
          "PhD/Textiles and Garments",
          "Bachelor/Tourism",
          "High School/Tourism",
          "Master/Tourism",
          "PhD/Tourism",
          "PhD/Automotive",
          "Bachelor/Education",
          "High School/Education",
          "Master/Education",
          "PhD/Education",
          "High School/Finance",
          "Master/Finance",
          "PhD/Finance",
          "Bachelor/Food and Beverage",
          "High School/Food and Beverage",
          "Master/Food and Beverage",
          "PhD/Food and Beverage",
          "Bachelor/Furniture",
          "High School/Furniture",
          "PhD/Furniture",
          "Bachelor/Healthcare",
          "High School/Healthcare",
          "PhD/Healthcare",
          "Bachelor/Hospitality",
          "High School/Hospitality",
          "Master/Hospitality",
          "Bachelor/IT",
          "High School/IT",
          "Master/IT",
          "PhD/IT",
          "Bachelor/Manufacturing",
          "PhD/Manufacturing",
          "Bachelor/Retail",
          "High School/Retail",
          "Master/Retail",
          "PhD/Retail",
          "Bachelor/Textiles and Garments",
          "High School/Textiles and Garments",
          "Bachelor/Tourism",
          "High School/Tourism",
          "Master/Tourism",
          "Bachelor/Automotive",
          "High School/Automotive",
          "Master/Automotive",
          "PhD/Automotive",
          "Bachelor/Education",
          "High School/Education",
          "Master/Education",
          "PhD/Education",
          "Bachelor/Finance",
          "High School/Finance",
          "Master/Finance",
          "PhD/Finance",
          "Bachelor/Food and Beverage",
          "High School/Food and Beverage",
          "Master/Food and Beverage",
          "PhD/Food and Beverage",
          "High School/Furniture",
          "Master/Furniture",
          "PhD/Furniture",
          "Bachelor/Healthcare",
          "High School/Healthcare",
          "Master/Healthcare",
          "PhD/Healthcare",
          "Bachelor/Hospitality",
          "High School/Hospitality",
          "Master/Hospitality",
          "PhD/Hospitality",
          "Bachelor/IT",
          "High School/IT",
          "Master/IT",
          "PhD/IT",
          "Bachelor/Manufacturing",
          "High School/Manufacturing",
          "Master/Manufacturing",
          "PhD/Manufacturing",
          "Bachelor/Retail",
          "High School/Retail",
          "High School/Textiles and Garments",
          "Master/Textiles and Garments",
          "Bachelor/Tourism",
          "High School/Tourism",
          "Master/Tourism",
          "PhD/Tourism",
          "PhD/Automotive",
          "Bachelor/Education",
          "High School/Education",
          "Master/Education",
          "PhD/Education",
          "High School/Finance",
          "Master/Finance",
          "PhD/Finance",
          "Bachelor/Food and Beverage",
          "High School/Food and Beverage",
          "Master/Food and Beverage",
          "Bachelor/Furniture",
          "High School/Furniture",
          "Master/Furniture",
          "Master/Healthcare",
          "PhD/Healthcare",
          "Bachelor/Hospitality",
          "Master/Hospitality",
          "PhD/Hospitality",
          "High School/IT",
          "PhD/IT",
          "High School/Manufacturing",
          "Master/Manufacturing",
          "Bachelor/Retail",
          "Bachelor/Tourism",
          "Bachelor",
          "High School",
          "Master",
          "PhD",
          "Bachelor",
          "High School",
          "Master",
          "PhD",
          "Bachelor",
          "High School",
          "Master",
          "PhD",
          "Bachelor",
          "High School",
          "Master",
          "PhD",
          "Bachelor",
          "High School",
          "Master",
          "PhD",
          "Bachelor",
          "High School",
          "Master",
          "PhD",
          "Bachelor",
          "High School",
          "Master",
          "PhD",
          "Bachelor",
          "High School",
          "Master",
          "PhD",
          "Bachelor",
          "High School",
          "Master",
          "PhD",
          "Bachelor",
          "High School",
          "Master",
          "PhD",
          "Bachelor",
          "High School",
          "Master",
          "PhD",
          "Bachelor",
          "High School",
          "Master",
          "PhD",
          "",
          "",
          "",
          ""
         ],
         "root": {
          "color": "lightgrey"
         },
         "type": "treemap",
         "values": [
          5,
          3,
          5,
          4,
          1,
          3,
          1,
          9,
          7,
          5,
          1,
          1,
          4,
          4,
          3,
          4,
          5,
          5,
          4,
          6,
          4,
          2,
          5,
          4,
          4,
          5,
          3,
          3,
          2,
          2,
          3,
          2,
          5,
          5,
          3,
          4,
          4,
          5,
          3,
          3,
          4,
          4,
          2,
          4,
          7,
          7,
          3,
          3,
          5,
          5,
          4,
          1,
          1,
          7,
          1,
          1,
          2,
          3,
          2,
          1,
          1,
          5,
          2,
          3,
          2,
          3,
          5,
          2,
          1,
          2,
          1,
          3,
          3,
          7,
          6,
          2,
          4,
          4,
          2,
          4,
          4,
          1,
          4,
          4,
          3,
          5,
          1,
          2,
          2,
          3,
          1,
          1,
          2,
          5,
          2,
          1,
          1,
          1,
          1,
          2,
          3,
          1,
          1,
          2,
          1,
          3,
          1,
          1,
          3,
          1,
          1,
          2,
          3,
          1,
          1,
          1,
          1,
          1,
          1,
          1,
          2,
          1,
          1,
          4,
          1,
          1,
          1,
          5,
          1,
          3,
          4,
          5,
          4,
          2,
          5,
          3,
          1,
          2,
          3,
          1,
          1,
          3,
          4,
          1,
          3,
          2,
          2,
          2,
          1,
          2,
          3,
          3,
          8,
          2,
          4,
          5,
          6,
          3,
          5,
          2,
          2,
          8,
          1,
          2,
          4,
          4,
          2,
          4,
          4,
          1,
          2,
          2,
          1,
          1,
          1,
          1,
          1,
          2,
          1,
          1,
          1,
          2,
          1,
          2,
          1,
          1,
          1,
          1,
          1,
          2,
          1,
          1,
          1,
          1,
          9,
          13,
          11,
          13,
          9,
          13,
          11,
          14,
          19,
          11,
          4,
          6,
          12,
          11,
          10,
          9,
          8,
          18,
          8,
          13,
          7,
          10,
          11,
          10,
          11,
          10,
          11,
          15,
          10,
          17,
          14,
          14,
          6,
          15,
          12,
          8,
          18,
          10,
          7,
          5,
          8,
          11,
          11,
          7,
          14,
          12,
          14,
          10,
          131,
          151,
          124,
          124
         ]
        }
       ],
       "layout": {
        "legend": {
         "tracegroupgap": 0
        },
        "margin": {
         "b": 25,
         "l": 25,
         "r": 25,
         "t": 50
        },
        "template": {
         "data": {
          "bar": [
           {
            "error_x": {
             "color": "#2a3f5f"
            },
            "error_y": {
             "color": "#2a3f5f"
            },
            "marker": {
             "line": {
              "color": "#E5ECF6",
              "width": 0.5
             },
             "pattern": {
              "fillmode": "overlay",
              "size": 10,
              "solidity": 0.2
             }
            },
            "type": "bar"
           }
          ],
          "barpolar": [
           {
            "marker": {
             "line": {
              "color": "#E5ECF6",
              "width": 0.5
             },
             "pattern": {
              "fillmode": "overlay",
              "size": 10,
              "solidity": 0.2
             }
            },
            "type": "barpolar"
           }
          ],
          "carpet": [
           {
            "aaxis": {
             "endlinecolor": "#2a3f5f",
             "gridcolor": "white",
             "linecolor": "white",
             "minorgridcolor": "white",
             "startlinecolor": "#2a3f5f"
            },
            "baxis": {
             "endlinecolor": "#2a3f5f",
             "gridcolor": "white",
             "linecolor": "white",
             "minorgridcolor": "white",
             "startlinecolor": "#2a3f5f"
            },
            "type": "carpet"
           }
          ],
          "choropleth": [
           {
            "colorbar": {
             "outlinewidth": 0,
             "ticks": ""
            },
            "type": "choropleth"
           }
          ],
          "contour": [
           {
            "colorbar": {
             "outlinewidth": 0,
             "ticks": ""
            },
            "colorscale": [
             [
              0,
              "#0d0887"
             ],
             [
              0.1111111111111111,
              "#46039f"
             ],
             [
              0.2222222222222222,
              "#7201a8"
             ],
             [
              0.3333333333333333,
              "#9c179e"
             ],
             [
              0.4444444444444444,
              "#bd3786"
             ],
             [
              0.5555555555555556,
              "#d8576b"
             ],
             [
              0.6666666666666666,
              "#ed7953"
             ],
             [
              0.7777777777777778,
              "#fb9f3a"
             ],
             [
              0.8888888888888888,
              "#fdca26"
             ],
             [
              1,
              "#f0f921"
             ]
            ],
            "type": "contour"
           }
          ],
          "contourcarpet": [
           {
            "colorbar": {
             "outlinewidth": 0,
             "ticks": ""
            },
            "type": "contourcarpet"
           }
          ],
          "heatmap": [
           {
            "colorbar": {
             "outlinewidth": 0,
             "ticks": ""
            },
            "colorscale": [
             [
              0,
              "#0d0887"
             ],
             [
              0.1111111111111111,
              "#46039f"
             ],
             [
              0.2222222222222222,
              "#7201a8"
             ],
             [
              0.3333333333333333,
              "#9c179e"
             ],
             [
              0.4444444444444444,
              "#bd3786"
             ],
             [
              0.5555555555555556,
              "#d8576b"
             ],
             [
              0.6666666666666666,
              "#ed7953"
             ],
             [
              0.7777777777777778,
              "#fb9f3a"
             ],
             [
              0.8888888888888888,
              "#fdca26"
             ],
             [
              1,
              "#f0f921"
             ]
            ],
            "type": "heatmap"
           }
          ],
          "heatmapgl": [
           {
            "colorbar": {
             "outlinewidth": 0,
             "ticks": ""
            },
            "colorscale": [
             [
              0,
              "#0d0887"
             ],
             [
              0.1111111111111111,
              "#46039f"
             ],
             [
              0.2222222222222222,
              "#7201a8"
             ],
             [
              0.3333333333333333,
              "#9c179e"
             ],
             [
              0.4444444444444444,
              "#bd3786"
             ],
             [
              0.5555555555555556,
              "#d8576b"
             ],
             [
              0.6666666666666666,
              "#ed7953"
             ],
             [
              0.7777777777777778,
              "#fb9f3a"
             ],
             [
              0.8888888888888888,
              "#fdca26"
             ],
             [
              1,
              "#f0f921"
             ]
            ],
            "type": "heatmapgl"
           }
          ],
          "histogram": [
           {
            "marker": {
             "pattern": {
              "fillmode": "overlay",
              "size": 10,
              "solidity": 0.2
             }
            },
            "type": "histogram"
           }
          ],
          "histogram2d": [
           {
            "colorbar": {
             "outlinewidth": 0,
             "ticks": ""
            },
            "colorscale": [
             [
              0,
              "#0d0887"
             ],
             [
              0.1111111111111111,
              "#46039f"
             ],
             [
              0.2222222222222222,
              "#7201a8"
             ],
             [
              0.3333333333333333,
              "#9c179e"
             ],
             [
              0.4444444444444444,
              "#bd3786"
             ],
             [
              0.5555555555555556,
              "#d8576b"
             ],
             [
              0.6666666666666666,
              "#ed7953"
             ],
             [
              0.7777777777777778,
              "#fb9f3a"
             ],
             [
              0.8888888888888888,
              "#fdca26"
             ],
             [
              1,
              "#f0f921"
             ]
            ],
            "type": "histogram2d"
           }
          ],
          "histogram2dcontour": [
           {
            "colorbar": {
             "outlinewidth": 0,
             "ticks": ""
            },
            "colorscale": [
             [
              0,
              "#0d0887"
             ],
             [
              0.1111111111111111,
              "#46039f"
             ],
             [
              0.2222222222222222,
              "#7201a8"
             ],
             [
              0.3333333333333333,
              "#9c179e"
             ],
             [
              0.4444444444444444,
              "#bd3786"
             ],
             [
              0.5555555555555556,
              "#d8576b"
             ],
             [
              0.6666666666666666,
              "#ed7953"
             ],
             [
              0.7777777777777778,
              "#fb9f3a"
             ],
             [
              0.8888888888888888,
              "#fdca26"
             ],
             [
              1,
              "#f0f921"
             ]
            ],
            "type": "histogram2dcontour"
           }
          ],
          "mesh3d": [
           {
            "colorbar": {
             "outlinewidth": 0,
             "ticks": ""
            },
            "type": "mesh3d"
           }
          ],
          "parcoords": [
           {
            "line": {
             "colorbar": {
              "outlinewidth": 0,
              "ticks": ""
             }
            },
            "type": "parcoords"
           }
          ],
          "pie": [
           {
            "automargin": true,
            "type": "pie"
           }
          ],
          "scatter": [
           {
            "fillpattern": {
             "fillmode": "overlay",
             "size": 10,
             "solidity": 0.2
            },
            "type": "scatter"
           }
          ],
          "scatter3d": [
           {
            "line": {
             "colorbar": {
              "outlinewidth": 0,
              "ticks": ""
             }
            },
            "marker": {
             "colorbar": {
              "outlinewidth": 0,
              "ticks": ""
             }
            },
            "type": "scatter3d"
           }
          ],
          "scattercarpet": [
           {
            "marker": {
             "colorbar": {
              "outlinewidth": 0,
              "ticks": ""
             }
            },
            "type": "scattercarpet"
           }
          ],
          "scattergeo": [
           {
            "marker": {
             "colorbar": {
              "outlinewidth": 0,
              "ticks": ""
             }
            },
            "type": "scattergeo"
           }
          ],
          "scattergl": [
           {
            "marker": {
             "colorbar": {
              "outlinewidth": 0,
              "ticks": ""
             }
            },
            "type": "scattergl"
           }
          ],
          "scattermapbox": [
           {
            "marker": {
             "colorbar": {
              "outlinewidth": 0,
              "ticks": ""
             }
            },
            "type": "scattermapbox"
           }
          ],
          "scatterpolar": [
           {
            "marker": {
             "colorbar": {
              "outlinewidth": 0,
              "ticks": ""
             }
            },
            "type": "scatterpolar"
           }
          ],
          "scatterpolargl": [
           {
            "marker": {
             "colorbar": {
              "outlinewidth": 0,
              "ticks": ""
             }
            },
            "type": "scatterpolargl"
           }
          ],
          "scatterternary": [
           {
            "marker": {
             "colorbar": {
              "outlinewidth": 0,
              "ticks": ""
             }
            },
            "type": "scatterternary"
           }
          ],
          "surface": [
           {
            "colorbar": {
             "outlinewidth": 0,
             "ticks": ""
            },
            "colorscale": [
             [
              0,
              "#0d0887"
             ],
             [
              0.1111111111111111,
              "#46039f"
             ],
             [
              0.2222222222222222,
              "#7201a8"
             ],
             [
              0.3333333333333333,
              "#9c179e"
             ],
             [
              0.4444444444444444,
              "#bd3786"
             ],
             [
              0.5555555555555556,
              "#d8576b"
             ],
             [
              0.6666666666666666,
              "#ed7953"
             ],
             [
              0.7777777777777778,
              "#fb9f3a"
             ],
             [
              0.8888888888888888,
              "#fdca26"
             ],
             [
              1,
              "#f0f921"
             ]
            ],
            "type": "surface"
           }
          ],
          "table": [
           {
            "cells": {
             "fill": {
              "color": "#EBF0F8"
             },
             "line": {
              "color": "white"
             }
            },
            "header": {
             "fill": {
              "color": "#C8D4E3"
             },
             "line": {
              "color": "white"
             }
            },
            "type": "table"
           }
          ]
         },
         "layout": {
          "annotationdefaults": {
           "arrowcolor": "#2a3f5f",
           "arrowhead": 0,
           "arrowwidth": 1
          },
          "autotypenumbers": "strict",
          "coloraxis": {
           "colorbar": {
            "outlinewidth": 0,
            "ticks": ""
           }
          },
          "colorscale": {
           "diverging": [
            [
             0,
             "#8e0152"
            ],
            [
             0.1,
             "#c51b7d"
            ],
            [
             0.2,
             "#de77ae"
            ],
            [
             0.3,
             "#f1b6da"
            ],
            [
             0.4,
             "#fde0ef"
            ],
            [
             0.5,
             "#f7f7f7"
            ],
            [
             0.6,
             "#e6f5d0"
            ],
            [
             0.7,
             "#b8e186"
            ],
            [
             0.8,
             "#7fbc41"
            ],
            [
             0.9,
             "#4d9221"
            ],
            [
             1,
             "#276419"
            ]
           ],
           "sequential": [
            [
             0,
             "#0d0887"
            ],
            [
             0.1111111111111111,
             "#46039f"
            ],
            [
             0.2222222222222222,
             "#7201a8"
            ],
            [
             0.3333333333333333,
             "#9c179e"
            ],
            [
             0.4444444444444444,
             "#bd3786"
            ],
            [
             0.5555555555555556,
             "#d8576b"
            ],
            [
             0.6666666666666666,
             "#ed7953"
            ],
            [
             0.7777777777777778,
             "#fb9f3a"
            ],
            [
             0.8888888888888888,
             "#fdca26"
            ],
            [
             1,
             "#f0f921"
            ]
           ],
           "sequentialminus": [
            [
             0,
             "#0d0887"
            ],
            [
             0.1111111111111111,
             "#46039f"
            ],
            [
             0.2222222222222222,
             "#7201a8"
            ],
            [
             0.3333333333333333,
             "#9c179e"
            ],
            [
             0.4444444444444444,
             "#bd3786"
            ],
            [
             0.5555555555555556,
             "#d8576b"
            ],
            [
             0.6666666666666666,
             "#ed7953"
            ],
            [
             0.7777777777777778,
             "#fb9f3a"
            ],
            [
             0.8888888888888888,
             "#fdca26"
            ],
            [
             1,
             "#f0f921"
            ]
           ]
          },
          "colorway": [
           "#636efa",
           "#EF553B",
           "#00cc96",
           "#ab63fa",
           "#FFA15A",
           "#19d3f3",
           "#FF6692",
           "#B6E880",
           "#FF97FF",
           "#FECB52"
          ],
          "font": {
           "color": "#2a3f5f"
          },
          "geo": {
           "bgcolor": "white",
           "lakecolor": "white",
           "landcolor": "#E5ECF6",
           "showlakes": true,
           "showland": true,
           "subunitcolor": "white"
          },
          "hoverlabel": {
           "align": "left"
          },
          "hovermode": "closest",
          "mapbox": {
           "style": "light"
          },
          "paper_bgcolor": "white",
          "plot_bgcolor": "#E5ECF6",
          "polar": {
           "angularaxis": {
            "gridcolor": "white",
            "linecolor": "white",
            "ticks": ""
           },
           "bgcolor": "#E5ECF6",
           "radialaxis": {
            "gridcolor": "white",
            "linecolor": "white",
            "ticks": ""
           }
          },
          "scene": {
           "xaxis": {
            "backgroundcolor": "#E5ECF6",
            "gridcolor": "white",
            "gridwidth": 2,
            "linecolor": "white",
            "showbackground": true,
            "ticks": "",
            "zerolinecolor": "white"
           },
           "yaxis": {
            "backgroundcolor": "#E5ECF6",
            "gridcolor": "white",
            "gridwidth": 2,
            "linecolor": "white",
            "showbackground": true,
            "ticks": "",
            "zerolinecolor": "white"
           },
           "zaxis": {
            "backgroundcolor": "#E5ECF6",
            "gridcolor": "white",
            "gridwidth": 2,
            "linecolor": "white",
            "showbackground": true,
            "ticks": "",
            "zerolinecolor": "white"
           }
          },
          "shapedefaults": {
           "line": {
            "color": "#2a3f5f"
           }
          },
          "ternary": {
           "aaxis": {
            "gridcolor": "white",
            "linecolor": "white",
            "ticks": ""
           },
           "baxis": {
            "gridcolor": "white",
            "linecolor": "white",
            "ticks": ""
           },
           "bgcolor": "#E5ECF6",
           "caxis": {
            "gridcolor": "white",
            "linecolor": "white",
            "ticks": ""
           }
          },
          "title": {
           "x": 0.05
          },
          "xaxis": {
           "automargin": true,
           "gridcolor": "white",
           "linecolor": "white",
           "ticks": "",
           "title": {
            "standoff": 15
           },
           "zerolinecolor": "white",
           "zerolinewidth": 2
          },
          "yaxis": {
           "automargin": true,
           "gridcolor": "white",
           "linecolor": "white",
           "ticks": "",
           "title": {
            "standoff": 15
           },
           "zerolinecolor": "white",
           "zerolinewidth": 2
          }
         }
        },
        "title": {
         "text": "MVC"
        }
       }
      }
     },
     "metadata": {},
     "output_type": "display_data"
    },
    {
     "data": {
      "application/vnd.plotly.v1+json": {
       "config": {
        "plotlyServerURL": "https://plot.ly"
       },
       "data": [
        {
         "branchvalues": "total",
         "domain": {
          "x": [
           0,
           1
          ],
          "y": [
           0,
           1
          ]
         },
         "hovertemplate": "labels=%{label}<br>count=%{value}<br>parent=%{parent}<br>id=%{id}<extra></extra>",
         "ids": [
          "High School/56/Baby Boomers",
          "PhD/56/Baby Boomers",
          "Bachelor/57/Baby Boomers",
          "Master/57/Baby Boomers",
          "Bachelor/58/Baby Boomers",
          "High School/58/Baby Boomers",
          "High School/59/Baby Boomers",
          "Bachelor/60/Baby Boomers",
          "High School/61/Baby Boomers",
          "PhD/61/Baby Boomers",
          "Bachelor/62/Baby Boomers",
          "High School/62/Baby Boomers",
          "PhD/62/Baby Boomers",
          "Bachelor/63/Baby Boomers",
          "High School/63/Baby Boomers",
          "PhD/63/Baby Boomers",
          "High School/65/Baby Boomers",
          "Bachelor/66/Baby Boomers",
          "High School/66/Baby Boomers",
          "High School/67/Baby Boomers",
          "Master/67/Baby Boomers",
          "Bachelor/68/Baby Boomers",
          "High School/68/Baby Boomers",
          "High School/69/Baby Boomers",
          "High School/70/Baby Boomers",
          "High School/72/Baby Boomers",
          "High School/75/Baby Boomers",
          "Bachelor/Food and Beverage/Baby Boomers",
          "High School/Food and Beverage/Baby Boomers",
          "Master/Food and Beverage/Baby Boomers",
          "PhD/Food and Beverage/Baby Boomers",
          "Bachelor/Furniture/Baby Boomers",
          "High School/Furniture/Baby Boomers",
          "Master/Furniture/Baby Boomers",
          "PhD/Furniture/Baby Boomers",
          "Bachelor/Textiles and Garments/Baby Boomers",
          "High School/Textiles and Garments/Baby Boomers",
          "Master/Textiles and Garments/Baby Boomers",
          "PhD/Textiles and Garments/Baby Boomers",
          "High School/41/Gen X",
          "PhD/41/Gen X",
          "PhD/43/Gen X",
          "Bachelor/44/Gen X",
          "High School/44/Gen X",
          "High School/45/Gen X",
          "PhD/45/Gen X",
          "Bachelor/46/Gen X",
          "High School/46/Gen X",
          "Bachelor/47/Gen X",
          "Master/47/Gen X",
          "PhD/47/Gen X",
          "High School/48/Gen X",
          "Bachelor/49/Gen X",
          "High School/49/Gen X",
          "High School/50/Gen X",
          "PhD/50/Gen X",
          "High School/51/Gen X",
          "PhD/51/Gen X",
          "Bachelor/52/Gen X",
          "High School/52/Gen X",
          "PhD/52/Gen X",
          "Master/53/Gen X",
          "PhD/53/Gen X",
          "Bachelor/54/Gen X",
          "High School/54/Gen X",
          "Master/54/Gen X",
          "Bachelor/55/Gen X",
          "High School/55/Gen X",
          "Bachelor/Food and Beverage/Gen X",
          "High School/Food and Beverage/Gen X",
          "Master/Food and Beverage/Gen X",
          "PhD/Food and Beverage/Gen X",
          "Bachelor/Furniture/Gen X",
          "High School/Furniture/Gen X",
          "Master/Furniture/Gen X",
          "PhD/Furniture/Gen X",
          "Bachelor/Textiles and Garments/Gen X",
          "High School/Textiles and Garments/Gen X",
          "Master/Textiles and Garments/Gen X",
          "PhD/Textiles and Garments/Gen X",
          "Bachelor/40/Millennials",
          "High School/40/Millennials",
          "Bachelor/Food and Beverage/Millennials",
          "High School/Food and Beverage/Millennials",
          "High School/Furniture/Millennials",
          "Bachelor/Textiles and Garments/Millennials",
          "High School/76/Silent Generation",
          "High School/78/Silent Generation",
          "High School/79/Silent Generation",
          "Bachelor/Food and Beverage/Silent Generation",
          "High School/Food and Beverage/Silent Generation",
          "Master/Food and Beverage/Silent Generation",
          "PhD/Food and Beverage/Silent Generation",
          "High School/Furniture/Silent Generation",
          "PhD/Furniture/Silent Generation",
          "High School/Textiles and Garments/Silent Generation",
          "Master/Textiles and Garments/Silent Generation",
          "Bachelor/40",
          "High School/40",
          "High School/41",
          "PhD/41",
          "PhD/43",
          "Bachelor/44",
          "High School/44",
          "High School/45",
          "PhD/45",
          "Bachelor/46",
          "High School/46",
          "Bachelor/47",
          "Master/47",
          "PhD/47",
          "High School/48",
          "Bachelor/49",
          "High School/49",
          "High School/50",
          "PhD/50",
          "High School/51",
          "PhD/51",
          "Bachelor/52",
          "High School/52",
          "PhD/52",
          "Master/53",
          "PhD/53",
          "Bachelor/54",
          "High School/54",
          "Master/54",
          "Bachelor/55",
          "High School/55",
          "High School/56",
          "PhD/56",
          "Bachelor/57",
          "Master/57",
          "Bachelor/58",
          "High School/58",
          "High School/59",
          "Bachelor/60",
          "High School/61",
          "PhD/61",
          "Bachelor/62",
          "High School/62",
          "PhD/62",
          "Bachelor/63",
          "High School/63",
          "PhD/63",
          "High School/65",
          "Bachelor/66",
          "High School/66",
          "High School/67",
          "Master/67",
          "Bachelor/68",
          "High School/68",
          "High School/69",
          "High School/70",
          "High School/72",
          "High School/75",
          "High School/76",
          "High School/78",
          "High School/79",
          "Bachelor/Food and Beverage",
          "High School/Food and Beverage",
          "Master/Food and Beverage",
          "PhD/Food and Beverage",
          "Bachelor/Furniture",
          "High School/Furniture",
          "Master/Furniture",
          "PhD/Furniture",
          "Bachelor/Textiles and Garments",
          "High School/Textiles and Garments",
          "Master/Textiles and Garments",
          "PhD/Textiles and Garments",
          "Bachelor",
          "High School",
          "Master",
          "PhD"
         ],
         "labels": [
          "Baby Boomers",
          "Baby Boomers",
          "Baby Boomers",
          "Baby Boomers",
          "Baby Boomers",
          "Baby Boomers",
          "Baby Boomers",
          "Baby Boomers",
          "Baby Boomers",
          "Baby Boomers",
          "Baby Boomers",
          "Baby Boomers",
          "Baby Boomers",
          "Baby Boomers",
          "Baby Boomers",
          "Baby Boomers",
          "Baby Boomers",
          "Baby Boomers",
          "Baby Boomers",
          "Baby Boomers",
          "Baby Boomers",
          "Baby Boomers",
          "Baby Boomers",
          "Baby Boomers",
          "Baby Boomers",
          "Baby Boomers",
          "Baby Boomers",
          "Baby Boomers",
          "Baby Boomers",
          "Baby Boomers",
          "Baby Boomers",
          "Baby Boomers",
          "Baby Boomers",
          "Baby Boomers",
          "Baby Boomers",
          "Baby Boomers",
          "Baby Boomers",
          "Baby Boomers",
          "Baby Boomers",
          "Gen X",
          "Gen X",
          "Gen X",
          "Gen X",
          "Gen X",
          "Gen X",
          "Gen X",
          "Gen X",
          "Gen X",
          "Gen X",
          "Gen X",
          "Gen X",
          "Gen X",
          "Gen X",
          "Gen X",
          "Gen X",
          "Gen X",
          "Gen X",
          "Gen X",
          "Gen X",
          "Gen X",
          "Gen X",
          "Gen X",
          "Gen X",
          "Gen X",
          "Gen X",
          "Gen X",
          "Gen X",
          "Gen X",
          "Gen X",
          "Gen X",
          "Gen X",
          "Gen X",
          "Gen X",
          "Gen X",
          "Gen X",
          "Gen X",
          "Gen X",
          "Gen X",
          "Gen X",
          "Gen X",
          "Millennials",
          "Millennials",
          "Millennials",
          "Millennials",
          "Millennials",
          "Millennials",
          "Silent Generation",
          "Silent Generation",
          "Silent Generation",
          "Silent Generation",
          "Silent Generation",
          "Silent Generation",
          "Silent Generation",
          "Silent Generation",
          "Silent Generation",
          "Silent Generation",
          "Silent Generation",
          "40",
          "40",
          "41",
          "41",
          "43",
          "44",
          "44",
          "45",
          "45",
          "46",
          "46",
          "47",
          "47",
          "47",
          "48",
          "49",
          "49",
          "50",
          "50",
          "51",
          "51",
          "52",
          "52",
          "52",
          "53",
          "53",
          "54",
          "54",
          "54",
          "55",
          "55",
          "56",
          "56",
          "57",
          "57",
          "58",
          "58",
          "59",
          "60",
          "61",
          "61",
          "62",
          "62",
          "62",
          "63",
          "63",
          "63",
          "65",
          "66",
          "66",
          "67",
          "67",
          "68",
          "68",
          "69",
          "70",
          "72",
          "75",
          "76",
          "78",
          "79",
          "Food and Beverage",
          "Food and Beverage",
          "Food and Beverage",
          "Food and Beverage",
          "Furniture",
          "Furniture",
          "Furniture",
          "Furniture",
          "Textiles and Garments",
          "Textiles and Garments",
          "Textiles and Garments",
          "Textiles and Garments",
          "Bachelor",
          "High School",
          "Master",
          "PhD"
         ],
         "name": "",
         "parents": [
          "High School/56",
          "PhD/56",
          "Bachelor/57",
          "Master/57",
          "Bachelor/58",
          "High School/58",
          "High School/59",
          "Bachelor/60",
          "High School/61",
          "PhD/61",
          "Bachelor/62",
          "High School/62",
          "PhD/62",
          "Bachelor/63",
          "High School/63",
          "PhD/63",
          "High School/65",
          "Bachelor/66",
          "High School/66",
          "High School/67",
          "Master/67",
          "Bachelor/68",
          "High School/68",
          "High School/69",
          "High School/70",
          "High School/72",
          "High School/75",
          "Bachelor/Food and Beverage",
          "High School/Food and Beverage",
          "Master/Food and Beverage",
          "PhD/Food and Beverage",
          "Bachelor/Furniture",
          "High School/Furniture",
          "Master/Furniture",
          "PhD/Furniture",
          "Bachelor/Textiles and Garments",
          "High School/Textiles and Garments",
          "Master/Textiles and Garments",
          "PhD/Textiles and Garments",
          "High School/41",
          "PhD/41",
          "PhD/43",
          "Bachelor/44",
          "High School/44",
          "High School/45",
          "PhD/45",
          "Bachelor/46",
          "High School/46",
          "Bachelor/47",
          "Master/47",
          "PhD/47",
          "High School/48",
          "Bachelor/49",
          "High School/49",
          "High School/50",
          "PhD/50",
          "High School/51",
          "PhD/51",
          "Bachelor/52",
          "High School/52",
          "PhD/52",
          "Master/53",
          "PhD/53",
          "Bachelor/54",
          "High School/54",
          "Master/54",
          "Bachelor/55",
          "High School/55",
          "Bachelor/Food and Beverage",
          "High School/Food and Beverage",
          "Master/Food and Beverage",
          "PhD/Food and Beverage",
          "Bachelor/Furniture",
          "High School/Furniture",
          "Master/Furniture",
          "PhD/Furniture",
          "Bachelor/Textiles and Garments",
          "High School/Textiles and Garments",
          "Master/Textiles and Garments",
          "PhD/Textiles and Garments",
          "Bachelor/40",
          "High School/40",
          "Bachelor/Food and Beverage",
          "High School/Food and Beverage",
          "High School/Furniture",
          "Bachelor/Textiles and Garments",
          "High School/76",
          "High School/78",
          "High School/79",
          "Bachelor/Food and Beverage",
          "High School/Food and Beverage",
          "Master/Food and Beverage",
          "PhD/Food and Beverage",
          "High School/Furniture",
          "PhD/Furniture",
          "High School/Textiles and Garments",
          "Master/Textiles and Garments",
          "Bachelor",
          "High School",
          "High School",
          "PhD",
          "PhD",
          "Bachelor",
          "High School",
          "High School",
          "PhD",
          "Bachelor",
          "High School",
          "Bachelor",
          "Master",
          "PhD",
          "High School",
          "Bachelor",
          "High School",
          "High School",
          "PhD",
          "High School",
          "PhD",
          "Bachelor",
          "High School",
          "PhD",
          "Master",
          "PhD",
          "Bachelor",
          "High School",
          "Master",
          "Bachelor",
          "High School",
          "High School",
          "PhD",
          "Bachelor",
          "Master",
          "Bachelor",
          "High School",
          "High School",
          "Bachelor",
          "High School",
          "PhD",
          "Bachelor",
          "High School",
          "PhD",
          "Bachelor",
          "High School",
          "PhD",
          "High School",
          "Bachelor",
          "High School",
          "High School",
          "Master",
          "Bachelor",
          "High School",
          "High School",
          "High School",
          "High School",
          "High School",
          "High School",
          "High School",
          "High School",
          "Bachelor",
          "High School",
          "Master",
          "PhD",
          "Bachelor",
          "High School",
          "Master",
          "PhD",
          "Bachelor",
          "High School",
          "Master",
          "PhD",
          "",
          "",
          "",
          ""
         ],
         "root": {
          "color": "lightgrey"
         },
         "type": "treemap",
         "values": [
          1,
          3,
          1,
          1,
          2,
          1,
          2,
          1,
          1,
          1,
          1,
          1,
          1,
          1,
          1,
          1,
          1,
          1,
          1,
          2,
          1,
          2,
          2,
          2,
          1,
          2,
          1,
          14,
          21,
          6,
          7,
          13,
          24,
          6,
          5,
          11,
          27,
          4,
          5,
          2,
          1,
          1,
          1,
          1,
          3,
          1,
          2,
          1,
          1,
          1,
          1,
          2,
          1,
          2,
          2,
          1,
          1,
          1,
          1,
          1,
          1,
          1,
          1,
          2,
          2,
          1,
          1,
          1,
          14,
          15,
          2,
          3,
          11,
          21,
          6,
          2,
          8,
          18,
          13,
          5,
          2,
          1,
          3,
          1,
          1,
          1,
          2,
          1,
          1,
          1,
          5,
          2,
          1,
          3,
          1,
          2,
          2,
          2,
          1,
          2,
          1,
          1,
          1,
          1,
          3,
          1,
          2,
          1,
          1,
          1,
          1,
          2,
          1,
          2,
          2,
          1,
          1,
          1,
          1,
          1,
          1,
          1,
          1,
          2,
          2,
          1,
          1,
          1,
          1,
          3,
          1,
          1,
          2,
          1,
          2,
          1,
          1,
          1,
          1,
          1,
          1,
          1,
          1,
          1,
          1,
          1,
          1,
          2,
          1,
          2,
          2,
          2,
          1,
          2,
          1,
          2,
          1,
          1,
          32,
          42,
          10,
          11,
          24,
          49,
          12,
          8,
          20,
          47,
          19,
          10,
          96,
          180,
          46,
          43
         ]
        }
       ],
       "layout": {
        "legend": {
         "tracegroupgap": 0
        },
        "margin": {
         "b": 25,
         "l": 25,
         "r": 25,
         "t": 50
        },
        "template": {
         "data": {
          "bar": [
           {
            "error_x": {
             "color": "#2a3f5f"
            },
            "error_y": {
             "color": "#2a3f5f"
            },
            "marker": {
             "line": {
              "color": "#E5ECF6",
              "width": 0.5
             },
             "pattern": {
              "fillmode": "overlay",
              "size": 10,
              "solidity": 0.2
             }
            },
            "type": "bar"
           }
          ],
          "barpolar": [
           {
            "marker": {
             "line": {
              "color": "#E5ECF6",
              "width": 0.5
             },
             "pattern": {
              "fillmode": "overlay",
              "size": 10,
              "solidity": 0.2
             }
            },
            "type": "barpolar"
           }
          ],
          "carpet": [
           {
            "aaxis": {
             "endlinecolor": "#2a3f5f",
             "gridcolor": "white",
             "linecolor": "white",
             "minorgridcolor": "white",
             "startlinecolor": "#2a3f5f"
            },
            "baxis": {
             "endlinecolor": "#2a3f5f",
             "gridcolor": "white",
             "linecolor": "white",
             "minorgridcolor": "white",
             "startlinecolor": "#2a3f5f"
            },
            "type": "carpet"
           }
          ],
          "choropleth": [
           {
            "colorbar": {
             "outlinewidth": 0,
             "ticks": ""
            },
            "type": "choropleth"
           }
          ],
          "contour": [
           {
            "colorbar": {
             "outlinewidth": 0,
             "ticks": ""
            },
            "colorscale": [
             [
              0,
              "#0d0887"
             ],
             [
              0.1111111111111111,
              "#46039f"
             ],
             [
              0.2222222222222222,
              "#7201a8"
             ],
             [
              0.3333333333333333,
              "#9c179e"
             ],
             [
              0.4444444444444444,
              "#bd3786"
             ],
             [
              0.5555555555555556,
              "#d8576b"
             ],
             [
              0.6666666666666666,
              "#ed7953"
             ],
             [
              0.7777777777777778,
              "#fb9f3a"
             ],
             [
              0.8888888888888888,
              "#fdca26"
             ],
             [
              1,
              "#f0f921"
             ]
            ],
            "type": "contour"
           }
          ],
          "contourcarpet": [
           {
            "colorbar": {
             "outlinewidth": 0,
             "ticks": ""
            },
            "type": "contourcarpet"
           }
          ],
          "heatmap": [
           {
            "colorbar": {
             "outlinewidth": 0,
             "ticks": ""
            },
            "colorscale": [
             [
              0,
              "#0d0887"
             ],
             [
              0.1111111111111111,
              "#46039f"
             ],
             [
              0.2222222222222222,
              "#7201a8"
             ],
             [
              0.3333333333333333,
              "#9c179e"
             ],
             [
              0.4444444444444444,
              "#bd3786"
             ],
             [
              0.5555555555555556,
              "#d8576b"
             ],
             [
              0.6666666666666666,
              "#ed7953"
             ],
             [
              0.7777777777777778,
              "#fb9f3a"
             ],
             [
              0.8888888888888888,
              "#fdca26"
             ],
             [
              1,
              "#f0f921"
             ]
            ],
            "type": "heatmap"
           }
          ],
          "heatmapgl": [
           {
            "colorbar": {
             "outlinewidth": 0,
             "ticks": ""
            },
            "colorscale": [
             [
              0,
              "#0d0887"
             ],
             [
              0.1111111111111111,
              "#46039f"
             ],
             [
              0.2222222222222222,
              "#7201a8"
             ],
             [
              0.3333333333333333,
              "#9c179e"
             ],
             [
              0.4444444444444444,
              "#bd3786"
             ],
             [
              0.5555555555555556,
              "#d8576b"
             ],
             [
              0.6666666666666666,
              "#ed7953"
             ],
             [
              0.7777777777777778,
              "#fb9f3a"
             ],
             [
              0.8888888888888888,
              "#fdca26"
             ],
             [
              1,
              "#f0f921"
             ]
            ],
            "type": "heatmapgl"
           }
          ],
          "histogram": [
           {
            "marker": {
             "pattern": {
              "fillmode": "overlay",
              "size": 10,
              "solidity": 0.2
             }
            },
            "type": "histogram"
           }
          ],
          "histogram2d": [
           {
            "colorbar": {
             "outlinewidth": 0,
             "ticks": ""
            },
            "colorscale": [
             [
              0,
              "#0d0887"
             ],
             [
              0.1111111111111111,
              "#46039f"
             ],
             [
              0.2222222222222222,
              "#7201a8"
             ],
             [
              0.3333333333333333,
              "#9c179e"
             ],
             [
              0.4444444444444444,
              "#bd3786"
             ],
             [
              0.5555555555555556,
              "#d8576b"
             ],
             [
              0.6666666666666666,
              "#ed7953"
             ],
             [
              0.7777777777777778,
              "#fb9f3a"
             ],
             [
              0.8888888888888888,
              "#fdca26"
             ],
             [
              1,
              "#f0f921"
             ]
            ],
            "type": "histogram2d"
           }
          ],
          "histogram2dcontour": [
           {
            "colorbar": {
             "outlinewidth": 0,
             "ticks": ""
            },
            "colorscale": [
             [
              0,
              "#0d0887"
             ],
             [
              0.1111111111111111,
              "#46039f"
             ],
             [
              0.2222222222222222,
              "#7201a8"
             ],
             [
              0.3333333333333333,
              "#9c179e"
             ],
             [
              0.4444444444444444,
              "#bd3786"
             ],
             [
              0.5555555555555556,
              "#d8576b"
             ],
             [
              0.6666666666666666,
              "#ed7953"
             ],
             [
              0.7777777777777778,
              "#fb9f3a"
             ],
             [
              0.8888888888888888,
              "#fdca26"
             ],
             [
              1,
              "#f0f921"
             ]
            ],
            "type": "histogram2dcontour"
           }
          ],
          "mesh3d": [
           {
            "colorbar": {
             "outlinewidth": 0,
             "ticks": ""
            },
            "type": "mesh3d"
           }
          ],
          "parcoords": [
           {
            "line": {
             "colorbar": {
              "outlinewidth": 0,
              "ticks": ""
             }
            },
            "type": "parcoords"
           }
          ],
          "pie": [
           {
            "automargin": true,
            "type": "pie"
           }
          ],
          "scatter": [
           {
            "fillpattern": {
             "fillmode": "overlay",
             "size": 10,
             "solidity": 0.2
            },
            "type": "scatter"
           }
          ],
          "scatter3d": [
           {
            "line": {
             "colorbar": {
              "outlinewidth": 0,
              "ticks": ""
             }
            },
            "marker": {
             "colorbar": {
              "outlinewidth": 0,
              "ticks": ""
             }
            },
            "type": "scatter3d"
           }
          ],
          "scattercarpet": [
           {
            "marker": {
             "colorbar": {
              "outlinewidth": 0,
              "ticks": ""
             }
            },
            "type": "scattercarpet"
           }
          ],
          "scattergeo": [
           {
            "marker": {
             "colorbar": {
              "outlinewidth": 0,
              "ticks": ""
             }
            },
            "type": "scattergeo"
           }
          ],
          "scattergl": [
           {
            "marker": {
             "colorbar": {
              "outlinewidth": 0,
              "ticks": ""
             }
            },
            "type": "scattergl"
           }
          ],
          "scattermapbox": [
           {
            "marker": {
             "colorbar": {
              "outlinewidth": 0,
              "ticks": ""
             }
            },
            "type": "scattermapbox"
           }
          ],
          "scatterpolar": [
           {
            "marker": {
             "colorbar": {
              "outlinewidth": 0,
              "ticks": ""
             }
            },
            "type": "scatterpolar"
           }
          ],
          "scatterpolargl": [
           {
            "marker": {
             "colorbar": {
              "outlinewidth": 0,
              "ticks": ""
             }
            },
            "type": "scatterpolargl"
           }
          ],
          "scatterternary": [
           {
            "marker": {
             "colorbar": {
              "outlinewidth": 0,
              "ticks": ""
             }
            },
            "type": "scatterternary"
           }
          ],
          "surface": [
           {
            "colorbar": {
             "outlinewidth": 0,
             "ticks": ""
            },
            "colorscale": [
             [
              0,
              "#0d0887"
             ],
             [
              0.1111111111111111,
              "#46039f"
             ],
             [
              0.2222222222222222,
              "#7201a8"
             ],
             [
              0.3333333333333333,
              "#9c179e"
             ],
             [
              0.4444444444444444,
              "#bd3786"
             ],
             [
              0.5555555555555556,
              "#d8576b"
             ],
             [
              0.6666666666666666,
              "#ed7953"
             ],
             [
              0.7777777777777778,
              "#fb9f3a"
             ],
             [
              0.8888888888888888,
              "#fdca26"
             ],
             [
              1,
              "#f0f921"
             ]
            ],
            "type": "surface"
           }
          ],
          "table": [
           {
            "cells": {
             "fill": {
              "color": "#EBF0F8"
             },
             "line": {
              "color": "white"
             }
            },
            "header": {
             "fill": {
              "color": "#C8D4E3"
             },
             "line": {
              "color": "white"
             }
            },
            "type": "table"
           }
          ]
         },
         "layout": {
          "annotationdefaults": {
           "arrowcolor": "#2a3f5f",
           "arrowhead": 0,
           "arrowwidth": 1
          },
          "autotypenumbers": "strict",
          "coloraxis": {
           "colorbar": {
            "outlinewidth": 0,
            "ticks": ""
           }
          },
          "colorscale": {
           "diverging": [
            [
             0,
             "#8e0152"
            ],
            [
             0.1,
             "#c51b7d"
            ],
            [
             0.2,
             "#de77ae"
            ],
            [
             0.3,
             "#f1b6da"
            ],
            [
             0.4,
             "#fde0ef"
            ],
            [
             0.5,
             "#f7f7f7"
            ],
            [
             0.6,
             "#e6f5d0"
            ],
            [
             0.7,
             "#b8e186"
            ],
            [
             0.8,
             "#7fbc41"
            ],
            [
             0.9,
             "#4d9221"
            ],
            [
             1,
             "#276419"
            ]
           ],
           "sequential": [
            [
             0,
             "#0d0887"
            ],
            [
             0.1111111111111111,
             "#46039f"
            ],
            [
             0.2222222222222222,
             "#7201a8"
            ],
            [
             0.3333333333333333,
             "#9c179e"
            ],
            [
             0.4444444444444444,
             "#bd3786"
            ],
            [
             0.5555555555555556,
             "#d8576b"
            ],
            [
             0.6666666666666666,
             "#ed7953"
            ],
            [
             0.7777777777777778,
             "#fb9f3a"
            ],
            [
             0.8888888888888888,
             "#fdca26"
            ],
            [
             1,
             "#f0f921"
            ]
           ],
           "sequentialminus": [
            [
             0,
             "#0d0887"
            ],
            [
             0.1111111111111111,
             "#46039f"
            ],
            [
             0.2222222222222222,
             "#7201a8"
            ],
            [
             0.3333333333333333,
             "#9c179e"
            ],
            [
             0.4444444444444444,
             "#bd3786"
            ],
            [
             0.5555555555555556,
             "#d8576b"
            ],
            [
             0.6666666666666666,
             "#ed7953"
            ],
            [
             0.7777777777777778,
             "#fb9f3a"
            ],
            [
             0.8888888888888888,
             "#fdca26"
            ],
            [
             1,
             "#f0f921"
            ]
           ]
          },
          "colorway": [
           "#636efa",
           "#EF553B",
           "#00cc96",
           "#ab63fa",
           "#FFA15A",
           "#19d3f3",
           "#FF6692",
           "#B6E880",
           "#FF97FF",
           "#FECB52"
          ],
          "font": {
           "color": "#2a3f5f"
          },
          "geo": {
           "bgcolor": "white",
           "lakecolor": "white",
           "landcolor": "#E5ECF6",
           "showlakes": true,
           "showland": true,
           "subunitcolor": "white"
          },
          "hoverlabel": {
           "align": "left"
          },
          "hovermode": "closest",
          "mapbox": {
           "style": "light"
          },
          "paper_bgcolor": "white",
          "plot_bgcolor": "#E5ECF6",
          "polar": {
           "angularaxis": {
            "gridcolor": "white",
            "linecolor": "white",
            "ticks": ""
           },
           "bgcolor": "#E5ECF6",
           "radialaxis": {
            "gridcolor": "white",
            "linecolor": "white",
            "ticks": ""
           }
          },
          "scene": {
           "xaxis": {
            "backgroundcolor": "#E5ECF6",
            "gridcolor": "white",
            "gridwidth": 2,
            "linecolor": "white",
            "showbackground": true,
            "ticks": "",
            "zerolinecolor": "white"
           },
           "yaxis": {
            "backgroundcolor": "#E5ECF6",
            "gridcolor": "white",
            "gridwidth": 2,
            "linecolor": "white",
            "showbackground": true,
            "ticks": "",
            "zerolinecolor": "white"
           },
           "zaxis": {
            "backgroundcolor": "#E5ECF6",
            "gridcolor": "white",
            "gridwidth": 2,
            "linecolor": "white",
            "showbackground": true,
            "ticks": "",
            "zerolinecolor": "white"
           }
          },
          "shapedefaults": {
           "line": {
            "color": "#2a3f5f"
           }
          },
          "ternary": {
           "aaxis": {
            "gridcolor": "white",
            "linecolor": "white",
            "ticks": ""
           },
           "baxis": {
            "gridcolor": "white",
            "linecolor": "white",
            "ticks": ""
           },
           "bgcolor": "#E5ECF6",
           "caxis": {
            "gridcolor": "white",
            "linecolor": "white",
            "ticks": ""
           }
          },
          "title": {
           "x": 0.05
          },
          "xaxis": {
           "automargin": true,
           "gridcolor": "white",
           "linecolor": "white",
           "ticks": "",
           "title": {
            "standoff": 15
           },
           "zerolinecolor": "white",
           "zerolinewidth": 2
          },
          "yaxis": {
           "automargin": true,
           "gridcolor": "white",
           "linecolor": "white",
           "ticks": "",
           "title": {
            "standoff": 15
           },
           "zerolinecolor": "white",
           "zerolinewidth": 2
          }
         }
        },
        "title": {
         "text": "Need Attention"
        }
       }
      }
     },
     "metadata": {},
     "output_type": "display_data"
    },
    {
     "data": {
      "application/vnd.plotly.v1+json": {
       "config": {
        "plotlyServerURL": "https://plot.ly"
       },
       "data": [
        {
         "branchvalues": "total",
         "domain": {
          "x": [
           0,
           1
          ],
          "y": [
           0,
           1
          ]
         },
         "hovertemplate": "labels=%{label}<br>count=%{value}<br>parent=%{parent}<br>id=%{id}<extra></extra>",
         "ids": [
          "Bachelor/Automotive/Baby Boomers",
          "Master/Automotive/Baby Boomers",
          "PhD/Automotive/Baby Boomers",
          "Master/Education/Baby Boomers",
          "High School/Finance/Baby Boomers",
          "PhD/Finance/Baby Boomers",
          "Master/Food and Beverage/Baby Boomers",
          "PhD/Food and Beverage/Baby Boomers",
          "Master/Furniture/Baby Boomers",
          "PhD/Furniture/Baby Boomers",
          "Bachelor/Healthcare/Baby Boomers",
          "High School/Healthcare/Baby Boomers",
          "Master/Healthcare/Baby Boomers",
          "PhD/Healthcare/Baby Boomers",
          "Bachelor/Hospitality/Baby Boomers",
          "Bachelor/IT/Baby Boomers",
          "PhD/IT/Baby Boomers",
          "High School/Manufacturing/Baby Boomers",
          "Master/Manufacturing/Baby Boomers",
          "Bachelor/Retail/Baby Boomers",
          "High School/Retail/Baby Boomers",
          "PhD/Retail/Baby Boomers",
          "Bachelor/Textiles and Garments/Baby Boomers",
          "High School/Textiles and Garments/Baby Boomers",
          "PhD/Textiles and Garments/Baby Boomers",
          "Bachelor/Tourism/Baby Boomers",
          "High School/Automotive/Gen X",
          "Master/Automotive/Gen X",
          "PhD/Automotive/Gen X",
          "Master/Education/Gen X",
          "PhD/Education/Gen X",
          "High School/Finance/Gen X",
          "Master/Finance/Gen X",
          "PhD/Food and Beverage/Gen X",
          "Master/Healthcare/Gen X",
          "PhD/Healthcare/Gen X",
          "High School/Hospitality/Gen X",
          "Bachelor/IT/Gen X",
          "High School/IT/Gen X",
          "PhD/IT/Gen X",
          "High School/Manufacturing/Gen X",
          "Master/Manufacturing/Gen X",
          "PhD/Manufacturing/Gen X",
          "Bachelor/Retail/Gen X",
          "Master/Retail/Gen X",
          "PhD/Retail/Gen X",
          "Bachelor/Textiles and Garments/Gen X",
          "Bachelor/Tourism/Gen X",
          "High School/Tourism/Gen X",
          "Master/Tourism/Gen X",
          "PhD/Tourism/Gen X",
          "Master/Education/Gen Z",
          "Bachelor/Food and Beverage/Gen Z",
          "PhD/Furniture/Gen Z",
          "Bachelor/Healthcare/Gen Z",
          "Bachelor/Hospitality/Gen Z",
          "High School/Hospitality/Gen Z",
          "Master/Hospitality/Gen Z",
          "Bachelor/IT/Gen Z",
          "Master/Manufacturing/Gen Z",
          "High School/Textiles and Garments/Gen Z",
          "Master/Textiles and Garments/Gen Z",
          "Master/Education/Millennials",
          "PhD/Finance/Millennials",
          "Master/Food and Beverage/Millennials",
          "Bachelor/Furniture/Millennials",
          "Master/Furniture/Millennials",
          "PhD/Furniture/Millennials",
          "High School/Healthcare/Millennials",
          "Master/Healthcare/Millennials",
          "High School/Hospitality/Millennials",
          "PhD/Hospitality/Millennials",
          "Bachelor/IT/Millennials",
          "Master/IT/Millennials",
          "PhD/IT/Millennials",
          "Master/Manufacturing/Millennials",
          "High School/Retail/Millennials",
          "Master/Retail/Millennials",
          "PhD/Retail/Millennials",
          "Bachelor/Textiles and Garments/Millennials",
          "High School/Textiles and Garments/Millennials",
          "PhD/Textiles and Garments/Millennials",
          "PhD/Tourism/Millennials",
          "High School/Education/Silent Generation",
          "Master/Education/Silent Generation",
          "Bachelor/Finance/Silent Generation",
          "PhD/Hospitality/Silent Generation",
          "PhD/IT/Silent Generation",
          "Master/Retail/Silent Generation",
          "Bachelor/Automotive",
          "High School/Automotive",
          "Master/Automotive",
          "PhD/Automotive",
          "High School/Education",
          "Master/Education",
          "PhD/Education",
          "Bachelor/Finance",
          "High School/Finance",
          "Master/Finance",
          "PhD/Finance",
          "Bachelor/Food and Beverage",
          "Master/Food and Beverage",
          "PhD/Food and Beverage",
          "Bachelor/Furniture",
          "Master/Furniture",
          "PhD/Furniture",
          "Bachelor/Healthcare",
          "High School/Healthcare",
          "Master/Healthcare",
          "PhD/Healthcare",
          "Bachelor/Hospitality",
          "High School/Hospitality",
          "Master/Hospitality",
          "PhD/Hospitality",
          "Bachelor/IT",
          "High School/IT",
          "Master/IT",
          "PhD/IT",
          "High School/Manufacturing",
          "Master/Manufacturing",
          "PhD/Manufacturing",
          "Bachelor/Retail",
          "High School/Retail",
          "Master/Retail",
          "PhD/Retail",
          "Bachelor/Textiles and Garments",
          "High School/Textiles and Garments",
          "Master/Textiles and Garments",
          "PhD/Textiles and Garments",
          "Bachelor/Tourism",
          "High School/Tourism",
          "Master/Tourism",
          "PhD/Tourism",
          "Bachelor",
          "High School",
          "Master",
          "PhD"
         ],
         "labels": [
          "Baby Boomers",
          "Baby Boomers",
          "Baby Boomers",
          "Baby Boomers",
          "Baby Boomers",
          "Baby Boomers",
          "Baby Boomers",
          "Baby Boomers",
          "Baby Boomers",
          "Baby Boomers",
          "Baby Boomers",
          "Baby Boomers",
          "Baby Boomers",
          "Baby Boomers",
          "Baby Boomers",
          "Baby Boomers",
          "Baby Boomers",
          "Baby Boomers",
          "Baby Boomers",
          "Baby Boomers",
          "Baby Boomers",
          "Baby Boomers",
          "Baby Boomers",
          "Baby Boomers",
          "Baby Boomers",
          "Baby Boomers",
          "Gen X",
          "Gen X",
          "Gen X",
          "Gen X",
          "Gen X",
          "Gen X",
          "Gen X",
          "Gen X",
          "Gen X",
          "Gen X",
          "Gen X",
          "Gen X",
          "Gen X",
          "Gen X",
          "Gen X",
          "Gen X",
          "Gen X",
          "Gen X",
          "Gen X",
          "Gen X",
          "Gen X",
          "Gen X",
          "Gen X",
          "Gen X",
          "Gen X",
          "Gen Z",
          "Gen Z",
          "Gen Z",
          "Gen Z",
          "Gen Z",
          "Gen Z",
          "Gen Z",
          "Gen Z",
          "Gen Z",
          "Gen Z",
          "Gen Z",
          "Millennials",
          "Millennials",
          "Millennials",
          "Millennials",
          "Millennials",
          "Millennials",
          "Millennials",
          "Millennials",
          "Millennials",
          "Millennials",
          "Millennials",
          "Millennials",
          "Millennials",
          "Millennials",
          "Millennials",
          "Millennials",
          "Millennials",
          "Millennials",
          "Millennials",
          "Millennials",
          "Millennials",
          "Silent Generation",
          "Silent Generation",
          "Silent Generation",
          "Silent Generation",
          "Silent Generation",
          "Silent Generation",
          "Automotive",
          "Automotive",
          "Automotive",
          "Automotive",
          "Education",
          "Education",
          "Education",
          "Finance",
          "Finance",
          "Finance",
          "Finance",
          "Food and Beverage",
          "Food and Beverage",
          "Food and Beverage",
          "Furniture",
          "Furniture",
          "Furniture",
          "Healthcare",
          "Healthcare",
          "Healthcare",
          "Healthcare",
          "Hospitality",
          "Hospitality",
          "Hospitality",
          "Hospitality",
          "IT",
          "IT",
          "IT",
          "IT",
          "Manufacturing",
          "Manufacturing",
          "Manufacturing",
          "Retail",
          "Retail",
          "Retail",
          "Retail",
          "Textiles and Garments",
          "Textiles and Garments",
          "Textiles and Garments",
          "Textiles and Garments",
          "Tourism",
          "Tourism",
          "Tourism",
          "Tourism",
          "Bachelor",
          "High School",
          "Master",
          "PhD"
         ],
         "name": "",
         "parents": [
          "Bachelor/Automotive",
          "Master/Automotive",
          "PhD/Automotive",
          "Master/Education",
          "High School/Finance",
          "PhD/Finance",
          "Master/Food and Beverage",
          "PhD/Food and Beverage",
          "Master/Furniture",
          "PhD/Furniture",
          "Bachelor/Healthcare",
          "High School/Healthcare",
          "Master/Healthcare",
          "PhD/Healthcare",
          "Bachelor/Hospitality",
          "Bachelor/IT",
          "PhD/IT",
          "High School/Manufacturing",
          "Master/Manufacturing",
          "Bachelor/Retail",
          "High School/Retail",
          "PhD/Retail",
          "Bachelor/Textiles and Garments",
          "High School/Textiles and Garments",
          "PhD/Textiles and Garments",
          "Bachelor/Tourism",
          "High School/Automotive",
          "Master/Automotive",
          "PhD/Automotive",
          "Master/Education",
          "PhD/Education",
          "High School/Finance",
          "Master/Finance",
          "PhD/Food and Beverage",
          "Master/Healthcare",
          "PhD/Healthcare",
          "High School/Hospitality",
          "Bachelor/IT",
          "High School/IT",
          "PhD/IT",
          "High School/Manufacturing",
          "Master/Manufacturing",
          "PhD/Manufacturing",
          "Bachelor/Retail",
          "Master/Retail",
          "PhD/Retail",
          "Bachelor/Textiles and Garments",
          "Bachelor/Tourism",
          "High School/Tourism",
          "Master/Tourism",
          "PhD/Tourism",
          "Master/Education",
          "Bachelor/Food and Beverage",
          "PhD/Furniture",
          "Bachelor/Healthcare",
          "Bachelor/Hospitality",
          "High School/Hospitality",
          "Master/Hospitality",
          "Bachelor/IT",
          "Master/Manufacturing",
          "High School/Textiles and Garments",
          "Master/Textiles and Garments",
          "Master/Education",
          "PhD/Finance",
          "Master/Food and Beverage",
          "Bachelor/Furniture",
          "Master/Furniture",
          "PhD/Furniture",
          "High School/Healthcare",
          "Master/Healthcare",
          "High School/Hospitality",
          "PhD/Hospitality",
          "Bachelor/IT",
          "Master/IT",
          "PhD/IT",
          "Master/Manufacturing",
          "High School/Retail",
          "Master/Retail",
          "PhD/Retail",
          "Bachelor/Textiles and Garments",
          "High School/Textiles and Garments",
          "PhD/Textiles and Garments",
          "PhD/Tourism",
          "High School/Education",
          "Master/Education",
          "Bachelor/Finance",
          "PhD/Hospitality",
          "PhD/IT",
          "Master/Retail",
          "Bachelor",
          "High School",
          "Master",
          "PhD",
          "High School",
          "Master",
          "PhD",
          "Bachelor",
          "High School",
          "Master",
          "PhD",
          "Bachelor",
          "Master",
          "PhD",
          "Bachelor",
          "Master",
          "PhD",
          "Bachelor",
          "High School",
          "Master",
          "PhD",
          "Bachelor",
          "High School",
          "Master",
          "PhD",
          "Bachelor",
          "High School",
          "Master",
          "PhD",
          "High School",
          "Master",
          "PhD",
          "Bachelor",
          "High School",
          "Master",
          "PhD",
          "Bachelor",
          "High School",
          "Master",
          "PhD",
          "Bachelor",
          "High School",
          "Master",
          "PhD",
          "",
          "",
          "",
          ""
         ],
         "root": {
          "color": "lightgrey"
         },
         "type": "treemap",
         "values": [
          1,
          1,
          1,
          1,
          3,
          1,
          1,
          1,
          3,
          1,
          1,
          2,
          4,
          3,
          1,
          1,
          1,
          2,
          2,
          3,
          3,
          3,
          1,
          1,
          2,
          4,
          2,
          1,
          1,
          2,
          1,
          1,
          1,
          1,
          2,
          2,
          1,
          1,
          2,
          3,
          1,
          1,
          2,
          1,
          2,
          2,
          1,
          1,
          1,
          1,
          1,
          1,
          1,
          1,
          1,
          1,
          1,
          1,
          1,
          1,
          1,
          1,
          1,
          1,
          3,
          1,
          2,
          1,
          1,
          2,
          2,
          2,
          1,
          1,
          2,
          1,
          1,
          1,
          3,
          1,
          1,
          1,
          2,
          2,
          1,
          1,
          1,
          1,
          1,
          1,
          2,
          2,
          2,
          2,
          6,
          1,
          1,
          4,
          1,
          2,
          1,
          4,
          2,
          1,
          5,
          3,
          2,
          3,
          8,
          5,
          2,
          4,
          1,
          3,
          4,
          2,
          1,
          7,
          3,
          5,
          2,
          4,
          4,
          4,
          8,
          3,
          3,
          1,
          3,
          5,
          1,
          1,
          3,
          24,
          28,
          39,
          41
         ]
        }
       ],
       "layout": {
        "legend": {
         "tracegroupgap": 0
        },
        "margin": {
         "b": 25,
         "l": 25,
         "r": 25,
         "t": 50
        },
        "template": {
         "data": {
          "bar": [
           {
            "error_x": {
             "color": "#2a3f5f"
            },
            "error_y": {
             "color": "#2a3f5f"
            },
            "marker": {
             "line": {
              "color": "#E5ECF6",
              "width": 0.5
             },
             "pattern": {
              "fillmode": "overlay",
              "size": 10,
              "solidity": 0.2
             }
            },
            "type": "bar"
           }
          ],
          "barpolar": [
           {
            "marker": {
             "line": {
              "color": "#E5ECF6",
              "width": 0.5
             },
             "pattern": {
              "fillmode": "overlay",
              "size": 10,
              "solidity": 0.2
             }
            },
            "type": "barpolar"
           }
          ],
          "carpet": [
           {
            "aaxis": {
             "endlinecolor": "#2a3f5f",
             "gridcolor": "white",
             "linecolor": "white",
             "minorgridcolor": "white",
             "startlinecolor": "#2a3f5f"
            },
            "baxis": {
             "endlinecolor": "#2a3f5f",
             "gridcolor": "white",
             "linecolor": "white",
             "minorgridcolor": "white",
             "startlinecolor": "#2a3f5f"
            },
            "type": "carpet"
           }
          ],
          "choropleth": [
           {
            "colorbar": {
             "outlinewidth": 0,
             "ticks": ""
            },
            "type": "choropleth"
           }
          ],
          "contour": [
           {
            "colorbar": {
             "outlinewidth": 0,
             "ticks": ""
            },
            "colorscale": [
             [
              0,
              "#0d0887"
             ],
             [
              0.1111111111111111,
              "#46039f"
             ],
             [
              0.2222222222222222,
              "#7201a8"
             ],
             [
              0.3333333333333333,
              "#9c179e"
             ],
             [
              0.4444444444444444,
              "#bd3786"
             ],
             [
              0.5555555555555556,
              "#d8576b"
             ],
             [
              0.6666666666666666,
              "#ed7953"
             ],
             [
              0.7777777777777778,
              "#fb9f3a"
             ],
             [
              0.8888888888888888,
              "#fdca26"
             ],
             [
              1,
              "#f0f921"
             ]
            ],
            "type": "contour"
           }
          ],
          "contourcarpet": [
           {
            "colorbar": {
             "outlinewidth": 0,
             "ticks": ""
            },
            "type": "contourcarpet"
           }
          ],
          "heatmap": [
           {
            "colorbar": {
             "outlinewidth": 0,
             "ticks": ""
            },
            "colorscale": [
             [
              0,
              "#0d0887"
             ],
             [
              0.1111111111111111,
              "#46039f"
             ],
             [
              0.2222222222222222,
              "#7201a8"
             ],
             [
              0.3333333333333333,
              "#9c179e"
             ],
             [
              0.4444444444444444,
              "#bd3786"
             ],
             [
              0.5555555555555556,
              "#d8576b"
             ],
             [
              0.6666666666666666,
              "#ed7953"
             ],
             [
              0.7777777777777778,
              "#fb9f3a"
             ],
             [
              0.8888888888888888,
              "#fdca26"
             ],
             [
              1,
              "#f0f921"
             ]
            ],
            "type": "heatmap"
           }
          ],
          "heatmapgl": [
           {
            "colorbar": {
             "outlinewidth": 0,
             "ticks": ""
            },
            "colorscale": [
             [
              0,
              "#0d0887"
             ],
             [
              0.1111111111111111,
              "#46039f"
             ],
             [
              0.2222222222222222,
              "#7201a8"
             ],
             [
              0.3333333333333333,
              "#9c179e"
             ],
             [
              0.4444444444444444,
              "#bd3786"
             ],
             [
              0.5555555555555556,
              "#d8576b"
             ],
             [
              0.6666666666666666,
              "#ed7953"
             ],
             [
              0.7777777777777778,
              "#fb9f3a"
             ],
             [
              0.8888888888888888,
              "#fdca26"
             ],
             [
              1,
              "#f0f921"
             ]
            ],
            "type": "heatmapgl"
           }
          ],
          "histogram": [
           {
            "marker": {
             "pattern": {
              "fillmode": "overlay",
              "size": 10,
              "solidity": 0.2
             }
            },
            "type": "histogram"
           }
          ],
          "histogram2d": [
           {
            "colorbar": {
             "outlinewidth": 0,
             "ticks": ""
            },
            "colorscale": [
             [
              0,
              "#0d0887"
             ],
             [
              0.1111111111111111,
              "#46039f"
             ],
             [
              0.2222222222222222,
              "#7201a8"
             ],
             [
              0.3333333333333333,
              "#9c179e"
             ],
             [
              0.4444444444444444,
              "#bd3786"
             ],
             [
              0.5555555555555556,
              "#d8576b"
             ],
             [
              0.6666666666666666,
              "#ed7953"
             ],
             [
              0.7777777777777778,
              "#fb9f3a"
             ],
             [
              0.8888888888888888,
              "#fdca26"
             ],
             [
              1,
              "#f0f921"
             ]
            ],
            "type": "histogram2d"
           }
          ],
          "histogram2dcontour": [
           {
            "colorbar": {
             "outlinewidth": 0,
             "ticks": ""
            },
            "colorscale": [
             [
              0,
              "#0d0887"
             ],
             [
              0.1111111111111111,
              "#46039f"
             ],
             [
              0.2222222222222222,
              "#7201a8"
             ],
             [
              0.3333333333333333,
              "#9c179e"
             ],
             [
              0.4444444444444444,
              "#bd3786"
             ],
             [
              0.5555555555555556,
              "#d8576b"
             ],
             [
              0.6666666666666666,
              "#ed7953"
             ],
             [
              0.7777777777777778,
              "#fb9f3a"
             ],
             [
              0.8888888888888888,
              "#fdca26"
             ],
             [
              1,
              "#f0f921"
             ]
            ],
            "type": "histogram2dcontour"
           }
          ],
          "mesh3d": [
           {
            "colorbar": {
             "outlinewidth": 0,
             "ticks": ""
            },
            "type": "mesh3d"
           }
          ],
          "parcoords": [
           {
            "line": {
             "colorbar": {
              "outlinewidth": 0,
              "ticks": ""
             }
            },
            "type": "parcoords"
           }
          ],
          "pie": [
           {
            "automargin": true,
            "type": "pie"
           }
          ],
          "scatter": [
           {
            "fillpattern": {
             "fillmode": "overlay",
             "size": 10,
             "solidity": 0.2
            },
            "type": "scatter"
           }
          ],
          "scatter3d": [
           {
            "line": {
             "colorbar": {
              "outlinewidth": 0,
              "ticks": ""
             }
            },
            "marker": {
             "colorbar": {
              "outlinewidth": 0,
              "ticks": ""
             }
            },
            "type": "scatter3d"
           }
          ],
          "scattercarpet": [
           {
            "marker": {
             "colorbar": {
              "outlinewidth": 0,
              "ticks": ""
             }
            },
            "type": "scattercarpet"
           }
          ],
          "scattergeo": [
           {
            "marker": {
             "colorbar": {
              "outlinewidth": 0,
              "ticks": ""
             }
            },
            "type": "scattergeo"
           }
          ],
          "scattergl": [
           {
            "marker": {
             "colorbar": {
              "outlinewidth": 0,
              "ticks": ""
             }
            },
            "type": "scattergl"
           }
          ],
          "scattermapbox": [
           {
            "marker": {
             "colorbar": {
              "outlinewidth": 0,
              "ticks": ""
             }
            },
            "type": "scattermapbox"
           }
          ],
          "scatterpolar": [
           {
            "marker": {
             "colorbar": {
              "outlinewidth": 0,
              "ticks": ""
             }
            },
            "type": "scatterpolar"
           }
          ],
          "scatterpolargl": [
           {
            "marker": {
             "colorbar": {
              "outlinewidth": 0,
              "ticks": ""
             }
            },
            "type": "scatterpolargl"
           }
          ],
          "scatterternary": [
           {
            "marker": {
             "colorbar": {
              "outlinewidth": 0,
              "ticks": ""
             }
            },
            "type": "scatterternary"
           }
          ],
          "surface": [
           {
            "colorbar": {
             "outlinewidth": 0,
             "ticks": ""
            },
            "colorscale": [
             [
              0,
              "#0d0887"
             ],
             [
              0.1111111111111111,
              "#46039f"
             ],
             [
              0.2222222222222222,
              "#7201a8"
             ],
             [
              0.3333333333333333,
              "#9c179e"
             ],
             [
              0.4444444444444444,
              "#bd3786"
             ],
             [
              0.5555555555555556,
              "#d8576b"
             ],
             [
              0.6666666666666666,
              "#ed7953"
             ],
             [
              0.7777777777777778,
              "#fb9f3a"
             ],
             [
              0.8888888888888888,
              "#fdca26"
             ],
             [
              1,
              "#f0f921"
             ]
            ],
            "type": "surface"
           }
          ],
          "table": [
           {
            "cells": {
             "fill": {
              "color": "#EBF0F8"
             },
             "line": {
              "color": "white"
             }
            },
            "header": {
             "fill": {
              "color": "#C8D4E3"
             },
             "line": {
              "color": "white"
             }
            },
            "type": "table"
           }
          ]
         },
         "layout": {
          "annotationdefaults": {
           "arrowcolor": "#2a3f5f",
           "arrowhead": 0,
           "arrowwidth": 1
          },
          "autotypenumbers": "strict",
          "coloraxis": {
           "colorbar": {
            "outlinewidth": 0,
            "ticks": ""
           }
          },
          "colorscale": {
           "diverging": [
            [
             0,
             "#8e0152"
            ],
            [
             0.1,
             "#c51b7d"
            ],
            [
             0.2,
             "#de77ae"
            ],
            [
             0.3,
             "#f1b6da"
            ],
            [
             0.4,
             "#fde0ef"
            ],
            [
             0.5,
             "#f7f7f7"
            ],
            [
             0.6,
             "#e6f5d0"
            ],
            [
             0.7,
             "#b8e186"
            ],
            [
             0.8,
             "#7fbc41"
            ],
            [
             0.9,
             "#4d9221"
            ],
            [
             1,
             "#276419"
            ]
           ],
           "sequential": [
            [
             0,
             "#0d0887"
            ],
            [
             0.1111111111111111,
             "#46039f"
            ],
            [
             0.2222222222222222,
             "#7201a8"
            ],
            [
             0.3333333333333333,
             "#9c179e"
            ],
            [
             0.4444444444444444,
             "#bd3786"
            ],
            [
             0.5555555555555556,
             "#d8576b"
            ],
            [
             0.6666666666666666,
             "#ed7953"
            ],
            [
             0.7777777777777778,
             "#fb9f3a"
            ],
            [
             0.8888888888888888,
             "#fdca26"
            ],
            [
             1,
             "#f0f921"
            ]
           ],
           "sequentialminus": [
            [
             0,
             "#0d0887"
            ],
            [
             0.1111111111111111,
             "#46039f"
            ],
            [
             0.2222222222222222,
             "#7201a8"
            ],
            [
             0.3333333333333333,
             "#9c179e"
            ],
            [
             0.4444444444444444,
             "#bd3786"
            ],
            [
             0.5555555555555556,
             "#d8576b"
            ],
            [
             0.6666666666666666,
             "#ed7953"
            ],
            [
             0.7777777777777778,
             "#fb9f3a"
            ],
            [
             0.8888888888888888,
             "#fdca26"
            ],
            [
             1,
             "#f0f921"
            ]
           ]
          },
          "colorway": [
           "#636efa",
           "#EF553B",
           "#00cc96",
           "#ab63fa",
           "#FFA15A",
           "#19d3f3",
           "#FF6692",
           "#B6E880",
           "#FF97FF",
           "#FECB52"
          ],
          "font": {
           "color": "#2a3f5f"
          },
          "geo": {
           "bgcolor": "white",
           "lakecolor": "white",
           "landcolor": "#E5ECF6",
           "showlakes": true,
           "showland": true,
           "subunitcolor": "white"
          },
          "hoverlabel": {
           "align": "left"
          },
          "hovermode": "closest",
          "mapbox": {
           "style": "light"
          },
          "paper_bgcolor": "white",
          "plot_bgcolor": "#E5ECF6",
          "polar": {
           "angularaxis": {
            "gridcolor": "white",
            "linecolor": "white",
            "ticks": ""
           },
           "bgcolor": "#E5ECF6",
           "radialaxis": {
            "gridcolor": "white",
            "linecolor": "white",
            "ticks": ""
           }
          },
          "scene": {
           "xaxis": {
            "backgroundcolor": "#E5ECF6",
            "gridcolor": "white",
            "gridwidth": 2,
            "linecolor": "white",
            "showbackground": true,
            "ticks": "",
            "zerolinecolor": "white"
           },
           "yaxis": {
            "backgroundcolor": "#E5ECF6",
            "gridcolor": "white",
            "gridwidth": 2,
            "linecolor": "white",
            "showbackground": true,
            "ticks": "",
            "zerolinecolor": "white"
           },
           "zaxis": {
            "backgroundcolor": "#E5ECF6",
            "gridcolor": "white",
            "gridwidth": 2,
            "linecolor": "white",
            "showbackground": true,
            "ticks": "",
            "zerolinecolor": "white"
           }
          },
          "shapedefaults": {
           "line": {
            "color": "#2a3f5f"
           }
          },
          "ternary": {
           "aaxis": {
            "gridcolor": "white",
            "linecolor": "white",
            "ticks": ""
           },
           "baxis": {
            "gridcolor": "white",
            "linecolor": "white",
            "ticks": ""
           },
           "bgcolor": "#E5ECF6",
           "caxis": {
            "gridcolor": "white",
            "linecolor": "white",
            "ticks": ""
           }
          },
          "title": {
           "x": 0.05
          },
          "xaxis": {
           "automargin": true,
           "gridcolor": "white",
           "linecolor": "white",
           "ticks": "",
           "title": {
            "standoff": 15
           },
           "zerolinecolor": "white",
           "zerolinewidth": 2
          },
          "yaxis": {
           "automargin": true,
           "gridcolor": "white",
           "linecolor": "white",
           "ticks": "",
           "title": {
            "standoff": 15
           },
           "zerolinecolor": "white",
           "zerolinewidth": 2
          }
         }
        },
        "title": {
         "text": "Potentially Loyal"
        }
       }
      }
     },
     "metadata": {},
     "output_type": "display_data"
    },
    {
     "data": {
      "application/vnd.plotly.v1+json": {
       "config": {
        "plotlyServerURL": "https://plot.ly"
       },
       "data": [
        {
         "branchvalues": "total",
         "domain": {
          "x": [
           0,
           1
          ],
          "y": [
           0,
           1
          ]
         },
         "hovertemplate": "labels=%{label}<br>count=%{value}<br>parent=%{parent}<br>id=%{id}<extra></extra>",
         "ids": [
          "AC",
          "Aceh",
          "BA",
          "BB",
          "BE",
          "BT",
          "Bali",
          "Banten",
          "Bengkulu",
          "GO",
          "Gorontalo",
          "JA",
          "JB",
          "JI",
          "JK",
          "JT",
          "Jambi",
          "KB",
          "KI",
          "KR",
          "KS",
          "KT",
          "KU",
          "LA",
          "Lampung",
          "MA",
          "MU",
          "Maluku",
          "NB",
          "NT",
          "PB",
          "Papua",
          "RI",
          "Riau",
          "SB",
          "SG",
          "SN",
          "SR",
          "SS",
          "ST",
          "SU",
          "YO"
         ],
         "labels": [
          "AC",
          "Aceh",
          "BA",
          "BB",
          "BE",
          "BT",
          "Bali",
          "Banten",
          "Bengkulu",
          "GO",
          "Gorontalo",
          "JA",
          "JB",
          "JI",
          "JK",
          "JT",
          "Jambi",
          "KB",
          "KI",
          "KR",
          "KS",
          "KT",
          "KU",
          "LA",
          "Lampung",
          "MA",
          "MU",
          "Maluku",
          "NB",
          "NT",
          "PB",
          "Papua",
          "RI",
          "Riau",
          "SB",
          "SG",
          "SN",
          "SR",
          "SS",
          "ST",
          "SU",
          "YO"
         ],
         "name": "",
         "parents": [
          "",
          "",
          "",
          "",
          "",
          "",
          "",
          "",
          "",
          "",
          "",
          "",
          "",
          "",
          "",
          "",
          "",
          "",
          "",
          "",
          "",
          "",
          "",
          "",
          "",
          "",
          "",
          "",
          "",
          "",
          "",
          "",
          "",
          "",
          "",
          "",
          "",
          "",
          "",
          "",
          "",
          ""
         ],
         "root": {
          "color": "lightgrey"
         },
         "type": "treemap",
         "values": [
          2,
          1,
          4,
          2,
          3,
          2,
          5,
          4,
          2,
          2,
          3,
          3,
          2,
          2,
          4,
          2,
          4,
          3,
          2,
          4,
          3,
          2,
          4,
          3,
          3,
          2,
          2,
          2,
          3,
          3,
          1,
          1,
          5,
          1,
          1,
          3,
          2,
          1,
          3,
          3,
          8,
          3
         ]
        }
       ],
       "layout": {
        "legend": {
         "tracegroupgap": 0
        },
        "margin": {
         "b": 25,
         "l": 25,
         "r": 25,
         "t": 50
        },
        "template": {
         "data": {
          "bar": [
           {
            "error_x": {
             "color": "#2a3f5f"
            },
            "error_y": {
             "color": "#2a3f5f"
            },
            "marker": {
             "line": {
              "color": "#E5ECF6",
              "width": 0.5
             },
             "pattern": {
              "fillmode": "overlay",
              "size": 10,
              "solidity": 0.2
             }
            },
            "type": "bar"
           }
          ],
          "barpolar": [
           {
            "marker": {
             "line": {
              "color": "#E5ECF6",
              "width": 0.5
             },
             "pattern": {
              "fillmode": "overlay",
              "size": 10,
              "solidity": 0.2
             }
            },
            "type": "barpolar"
           }
          ],
          "carpet": [
           {
            "aaxis": {
             "endlinecolor": "#2a3f5f",
             "gridcolor": "white",
             "linecolor": "white",
             "minorgridcolor": "white",
             "startlinecolor": "#2a3f5f"
            },
            "baxis": {
             "endlinecolor": "#2a3f5f",
             "gridcolor": "white",
             "linecolor": "white",
             "minorgridcolor": "white",
             "startlinecolor": "#2a3f5f"
            },
            "type": "carpet"
           }
          ],
          "choropleth": [
           {
            "colorbar": {
             "outlinewidth": 0,
             "ticks": ""
            },
            "type": "choropleth"
           }
          ],
          "contour": [
           {
            "colorbar": {
             "outlinewidth": 0,
             "ticks": ""
            },
            "colorscale": [
             [
              0,
              "#0d0887"
             ],
             [
              0.1111111111111111,
              "#46039f"
             ],
             [
              0.2222222222222222,
              "#7201a8"
             ],
             [
              0.3333333333333333,
              "#9c179e"
             ],
             [
              0.4444444444444444,
              "#bd3786"
             ],
             [
              0.5555555555555556,
              "#d8576b"
             ],
             [
              0.6666666666666666,
              "#ed7953"
             ],
             [
              0.7777777777777778,
              "#fb9f3a"
             ],
             [
              0.8888888888888888,
              "#fdca26"
             ],
             [
              1,
              "#f0f921"
             ]
            ],
            "type": "contour"
           }
          ],
          "contourcarpet": [
           {
            "colorbar": {
             "outlinewidth": 0,
             "ticks": ""
            },
            "type": "contourcarpet"
           }
          ],
          "heatmap": [
           {
            "colorbar": {
             "outlinewidth": 0,
             "ticks": ""
            },
            "colorscale": [
             [
              0,
              "#0d0887"
             ],
             [
              0.1111111111111111,
              "#46039f"
             ],
             [
              0.2222222222222222,
              "#7201a8"
             ],
             [
              0.3333333333333333,
              "#9c179e"
             ],
             [
              0.4444444444444444,
              "#bd3786"
             ],
             [
              0.5555555555555556,
              "#d8576b"
             ],
             [
              0.6666666666666666,
              "#ed7953"
             ],
             [
              0.7777777777777778,
              "#fb9f3a"
             ],
             [
              0.8888888888888888,
              "#fdca26"
             ],
             [
              1,
              "#f0f921"
             ]
            ],
            "type": "heatmap"
           }
          ],
          "heatmapgl": [
           {
            "colorbar": {
             "outlinewidth": 0,
             "ticks": ""
            },
            "colorscale": [
             [
              0,
              "#0d0887"
             ],
             [
              0.1111111111111111,
              "#46039f"
             ],
             [
              0.2222222222222222,
              "#7201a8"
             ],
             [
              0.3333333333333333,
              "#9c179e"
             ],
             [
              0.4444444444444444,
              "#bd3786"
             ],
             [
              0.5555555555555556,
              "#d8576b"
             ],
             [
              0.6666666666666666,
              "#ed7953"
             ],
             [
              0.7777777777777778,
              "#fb9f3a"
             ],
             [
              0.8888888888888888,
              "#fdca26"
             ],
             [
              1,
              "#f0f921"
             ]
            ],
            "type": "heatmapgl"
           }
          ],
          "histogram": [
           {
            "marker": {
             "pattern": {
              "fillmode": "overlay",
              "size": 10,
              "solidity": 0.2
             }
            },
            "type": "histogram"
           }
          ],
          "histogram2d": [
           {
            "colorbar": {
             "outlinewidth": 0,
             "ticks": ""
            },
            "colorscale": [
             [
              0,
              "#0d0887"
             ],
             [
              0.1111111111111111,
              "#46039f"
             ],
             [
              0.2222222222222222,
              "#7201a8"
             ],
             [
              0.3333333333333333,
              "#9c179e"
             ],
             [
              0.4444444444444444,
              "#bd3786"
             ],
             [
              0.5555555555555556,
              "#d8576b"
             ],
             [
              0.6666666666666666,
              "#ed7953"
             ],
             [
              0.7777777777777778,
              "#fb9f3a"
             ],
             [
              0.8888888888888888,
              "#fdca26"
             ],
             [
              1,
              "#f0f921"
             ]
            ],
            "type": "histogram2d"
           }
          ],
          "histogram2dcontour": [
           {
            "colorbar": {
             "outlinewidth": 0,
             "ticks": ""
            },
            "colorscale": [
             [
              0,
              "#0d0887"
             ],
             [
              0.1111111111111111,
              "#46039f"
             ],
             [
              0.2222222222222222,
              "#7201a8"
             ],
             [
              0.3333333333333333,
              "#9c179e"
             ],
             [
              0.4444444444444444,
              "#bd3786"
             ],
             [
              0.5555555555555556,
              "#d8576b"
             ],
             [
              0.6666666666666666,
              "#ed7953"
             ],
             [
              0.7777777777777778,
              "#fb9f3a"
             ],
             [
              0.8888888888888888,
              "#fdca26"
             ],
             [
              1,
              "#f0f921"
             ]
            ],
            "type": "histogram2dcontour"
           }
          ],
          "mesh3d": [
           {
            "colorbar": {
             "outlinewidth": 0,
             "ticks": ""
            },
            "type": "mesh3d"
           }
          ],
          "parcoords": [
           {
            "line": {
             "colorbar": {
              "outlinewidth": 0,
              "ticks": ""
             }
            },
            "type": "parcoords"
           }
          ],
          "pie": [
           {
            "automargin": true,
            "type": "pie"
           }
          ],
          "scatter": [
           {
            "fillpattern": {
             "fillmode": "overlay",
             "size": 10,
             "solidity": 0.2
            },
            "type": "scatter"
           }
          ],
          "scatter3d": [
           {
            "line": {
             "colorbar": {
              "outlinewidth": 0,
              "ticks": ""
             }
            },
            "marker": {
             "colorbar": {
              "outlinewidth": 0,
              "ticks": ""
             }
            },
            "type": "scatter3d"
           }
          ],
          "scattercarpet": [
           {
            "marker": {
             "colorbar": {
              "outlinewidth": 0,
              "ticks": ""
             }
            },
            "type": "scattercarpet"
           }
          ],
          "scattergeo": [
           {
            "marker": {
             "colorbar": {
              "outlinewidth": 0,
              "ticks": ""
             }
            },
            "type": "scattergeo"
           }
          ],
          "scattergl": [
           {
            "marker": {
             "colorbar": {
              "outlinewidth": 0,
              "ticks": ""
             }
            },
            "type": "scattergl"
           }
          ],
          "scattermapbox": [
           {
            "marker": {
             "colorbar": {
              "outlinewidth": 0,
              "ticks": ""
             }
            },
            "type": "scattermapbox"
           }
          ],
          "scatterpolar": [
           {
            "marker": {
             "colorbar": {
              "outlinewidth": 0,
              "ticks": ""
             }
            },
            "type": "scatterpolar"
           }
          ],
          "scatterpolargl": [
           {
            "marker": {
             "colorbar": {
              "outlinewidth": 0,
              "ticks": ""
             }
            },
            "type": "scatterpolargl"
           }
          ],
          "scatterternary": [
           {
            "marker": {
             "colorbar": {
              "outlinewidth": 0,
              "ticks": ""
             }
            },
            "type": "scatterternary"
           }
          ],
          "surface": [
           {
            "colorbar": {
             "outlinewidth": 0,
             "ticks": ""
            },
            "colorscale": [
             [
              0,
              "#0d0887"
             ],
             [
              0.1111111111111111,
              "#46039f"
             ],
             [
              0.2222222222222222,
              "#7201a8"
             ],
             [
              0.3333333333333333,
              "#9c179e"
             ],
             [
              0.4444444444444444,
              "#bd3786"
             ],
             [
              0.5555555555555556,
              "#d8576b"
             ],
             [
              0.6666666666666666,
              "#ed7953"
             ],
             [
              0.7777777777777778,
              "#fb9f3a"
             ],
             [
              0.8888888888888888,
              "#fdca26"
             ],
             [
              1,
              "#f0f921"
             ]
            ],
            "type": "surface"
           }
          ],
          "table": [
           {
            "cells": {
             "fill": {
              "color": "#EBF0F8"
             },
             "line": {
              "color": "white"
             }
            },
            "header": {
             "fill": {
              "color": "#C8D4E3"
             },
             "line": {
              "color": "white"
             }
            },
            "type": "table"
           }
          ]
         },
         "layout": {
          "annotationdefaults": {
           "arrowcolor": "#2a3f5f",
           "arrowhead": 0,
           "arrowwidth": 1
          },
          "autotypenumbers": "strict",
          "coloraxis": {
           "colorbar": {
            "outlinewidth": 0,
            "ticks": ""
           }
          },
          "colorscale": {
           "diverging": [
            [
             0,
             "#8e0152"
            ],
            [
             0.1,
             "#c51b7d"
            ],
            [
             0.2,
             "#de77ae"
            ],
            [
             0.3,
             "#f1b6da"
            ],
            [
             0.4,
             "#fde0ef"
            ],
            [
             0.5,
             "#f7f7f7"
            ],
            [
             0.6,
             "#e6f5d0"
            ],
            [
             0.7,
             "#b8e186"
            ],
            [
             0.8,
             "#7fbc41"
            ],
            [
             0.9,
             "#4d9221"
            ],
            [
             1,
             "#276419"
            ]
           ],
           "sequential": [
            [
             0,
             "#0d0887"
            ],
            [
             0.1111111111111111,
             "#46039f"
            ],
            [
             0.2222222222222222,
             "#7201a8"
            ],
            [
             0.3333333333333333,
             "#9c179e"
            ],
            [
             0.4444444444444444,
             "#bd3786"
            ],
            [
             0.5555555555555556,
             "#d8576b"
            ],
            [
             0.6666666666666666,
             "#ed7953"
            ],
            [
             0.7777777777777778,
             "#fb9f3a"
            ],
            [
             0.8888888888888888,
             "#fdca26"
            ],
            [
             1,
             "#f0f921"
            ]
           ],
           "sequentialminus": [
            [
             0,
             "#0d0887"
            ],
            [
             0.1111111111111111,
             "#46039f"
            ],
            [
             0.2222222222222222,
             "#7201a8"
            ],
            [
             0.3333333333333333,
             "#9c179e"
            ],
            [
             0.4444444444444444,
             "#bd3786"
            ],
            [
             0.5555555555555556,
             "#d8576b"
            ],
            [
             0.6666666666666666,
             "#ed7953"
            ],
            [
             0.7777777777777778,
             "#fb9f3a"
            ],
            [
             0.8888888888888888,
             "#fdca26"
            ],
            [
             1,
             "#f0f921"
            ]
           ]
          },
          "colorway": [
           "#636efa",
           "#EF553B",
           "#00cc96",
           "#ab63fa",
           "#FFA15A",
           "#19d3f3",
           "#FF6692",
           "#B6E880",
           "#FF97FF",
           "#FECB52"
          ],
          "font": {
           "color": "#2a3f5f"
          },
          "geo": {
           "bgcolor": "white",
           "lakecolor": "white",
           "landcolor": "#E5ECF6",
           "showlakes": true,
           "showland": true,
           "subunitcolor": "white"
          },
          "hoverlabel": {
           "align": "left"
          },
          "hovermode": "closest",
          "mapbox": {
           "style": "light"
          },
          "paper_bgcolor": "white",
          "plot_bgcolor": "#E5ECF6",
          "polar": {
           "angularaxis": {
            "gridcolor": "white",
            "linecolor": "white",
            "ticks": ""
           },
           "bgcolor": "#E5ECF6",
           "radialaxis": {
            "gridcolor": "white",
            "linecolor": "white",
            "ticks": ""
           }
          },
          "scene": {
           "xaxis": {
            "backgroundcolor": "#E5ECF6",
            "gridcolor": "white",
            "gridwidth": 2,
            "linecolor": "white",
            "showbackground": true,
            "ticks": "",
            "zerolinecolor": "white"
           },
           "yaxis": {
            "backgroundcolor": "#E5ECF6",
            "gridcolor": "white",
            "gridwidth": 2,
            "linecolor": "white",
            "showbackground": true,
            "ticks": "",
            "zerolinecolor": "white"
           },
           "zaxis": {
            "backgroundcolor": "#E5ECF6",
            "gridcolor": "white",
            "gridwidth": 2,
            "linecolor": "white",
            "showbackground": true,
            "ticks": "",
            "zerolinecolor": "white"
           }
          },
          "shapedefaults": {
           "line": {
            "color": "#2a3f5f"
           }
          },
          "ternary": {
           "aaxis": {
            "gridcolor": "white",
            "linecolor": "white",
            "ticks": ""
           },
           "baxis": {
            "gridcolor": "white",
            "linecolor": "white",
            "ticks": ""
           },
           "bgcolor": "#E5ECF6",
           "caxis": {
            "gridcolor": "white",
            "linecolor": "white",
            "ticks": ""
           }
          },
          "title": {
           "x": 0.05
          },
          "xaxis": {
           "automargin": true,
           "gridcolor": "white",
           "linecolor": "white",
           "ticks": "",
           "title": {
            "standoff": 15
           },
           "zerolinecolor": "white",
           "zerolinewidth": 2
          },
          "yaxis": {
           "automargin": true,
           "gridcolor": "white",
           "linecolor": "white",
           "ticks": "",
           "title": {
            "standoff": 15
           },
           "zerolinecolor": "white",
           "zerolinewidth": 2
          }
         }
        },
        "title": {
         "text": "Churned Folk"
        }
       }
      }
     },
     "metadata": {},
     "output_type": "display_data"
    },
    {
     "data": {
      "application/vnd.plotly.v1+json": {
       "config": {
        "plotlyServerURL": "https://plot.ly"
       },
       "data": [
        {
         "branchvalues": "total",
         "domain": {
          "x": [
           0,
           1
          ],
          "y": [
           0,
           1
          ]
         },
         "hovertemplate": "labels=%{label}<br>count=%{value}<br>parent=%{parent}<br>id=%{id}<extra></extra>",
         "ids": [
          "AC",
          "Aceh",
          "BA",
          "BB",
          "BE",
          "BT",
          "Bali",
          "Banten",
          "Bengkulu",
          "GO",
          "Gorontalo",
          "JA",
          "JB",
          "JI",
          "JK",
          "JT",
          "Jambi",
          "KB",
          "KI",
          "KR",
          "KS",
          "KT",
          "KU",
          "LA",
          "Lampung",
          "MA",
          "MU",
          "Maluku",
          "NB",
          "NT",
          "PA",
          "PB",
          "Papua",
          "Riau",
          "SB",
          "SG",
          "SN",
          "SR",
          "SS",
          "ST",
          "SU",
          "YO"
         ],
         "labels": [
          "AC",
          "Aceh",
          "BA",
          "BB",
          "BE",
          "BT",
          "Bali",
          "Banten",
          "Bengkulu",
          "GO",
          "Gorontalo",
          "JA",
          "JB",
          "JI",
          "JK",
          "JT",
          "Jambi",
          "KB",
          "KI",
          "KR",
          "KS",
          "KT",
          "KU",
          "LA",
          "Lampung",
          "MA",
          "MU",
          "Maluku",
          "NB",
          "NT",
          "PA",
          "PB",
          "Papua",
          "Riau",
          "SB",
          "SG",
          "SN",
          "SR",
          "SS",
          "ST",
          "SU",
          "YO"
         ],
         "name": "",
         "parents": [
          "",
          "",
          "",
          "",
          "",
          "",
          "",
          "",
          "",
          "",
          "",
          "",
          "",
          "",
          "",
          "",
          "",
          "",
          "",
          "",
          "",
          "",
          "",
          "",
          "",
          "",
          "",
          "",
          "",
          "",
          "",
          "",
          "",
          "",
          "",
          "",
          "",
          "",
          "",
          "",
          "",
          ""
         ],
         "root": {
          "color": "lightgrey"
         },
         "type": "treemap",
         "values": [
          3,
          2,
          9,
          3,
          3,
          1,
          4,
          5,
          3,
          4,
          2,
          7,
          1,
          7,
          1,
          1,
          3,
          8,
          7,
          5,
          6,
          4,
          3,
          5,
          1,
          11,
          3,
          5,
          6,
          2,
          5,
          2,
          4,
          4,
          6,
          5,
          4,
          8,
          5,
          1,
          10,
          2
         ]
        }
       ],
       "layout": {
        "legend": {
         "tracegroupgap": 0
        },
        "margin": {
         "b": 25,
         "l": 25,
         "r": 25,
         "t": 50
        },
        "template": {
         "data": {
          "bar": [
           {
            "error_x": {
             "color": "#2a3f5f"
            },
            "error_y": {
             "color": "#2a3f5f"
            },
            "marker": {
             "line": {
              "color": "#E5ECF6",
              "width": 0.5
             },
             "pattern": {
              "fillmode": "overlay",
              "size": 10,
              "solidity": 0.2
             }
            },
            "type": "bar"
           }
          ],
          "barpolar": [
           {
            "marker": {
             "line": {
              "color": "#E5ECF6",
              "width": 0.5
             },
             "pattern": {
              "fillmode": "overlay",
              "size": 10,
              "solidity": 0.2
             }
            },
            "type": "barpolar"
           }
          ],
          "carpet": [
           {
            "aaxis": {
             "endlinecolor": "#2a3f5f",
             "gridcolor": "white",
             "linecolor": "white",
             "minorgridcolor": "white",
             "startlinecolor": "#2a3f5f"
            },
            "baxis": {
             "endlinecolor": "#2a3f5f",
             "gridcolor": "white",
             "linecolor": "white",
             "minorgridcolor": "white",
             "startlinecolor": "#2a3f5f"
            },
            "type": "carpet"
           }
          ],
          "choropleth": [
           {
            "colorbar": {
             "outlinewidth": 0,
             "ticks": ""
            },
            "type": "choropleth"
           }
          ],
          "contour": [
           {
            "colorbar": {
             "outlinewidth": 0,
             "ticks": ""
            },
            "colorscale": [
             [
              0,
              "#0d0887"
             ],
             [
              0.1111111111111111,
              "#46039f"
             ],
             [
              0.2222222222222222,
              "#7201a8"
             ],
             [
              0.3333333333333333,
              "#9c179e"
             ],
             [
              0.4444444444444444,
              "#bd3786"
             ],
             [
              0.5555555555555556,
              "#d8576b"
             ],
             [
              0.6666666666666666,
              "#ed7953"
             ],
             [
              0.7777777777777778,
              "#fb9f3a"
             ],
             [
              0.8888888888888888,
              "#fdca26"
             ],
             [
              1,
              "#f0f921"
             ]
            ],
            "type": "contour"
           }
          ],
          "contourcarpet": [
           {
            "colorbar": {
             "outlinewidth": 0,
             "ticks": ""
            },
            "type": "contourcarpet"
           }
          ],
          "heatmap": [
           {
            "colorbar": {
             "outlinewidth": 0,
             "ticks": ""
            },
            "colorscale": [
             [
              0,
              "#0d0887"
             ],
             [
              0.1111111111111111,
              "#46039f"
             ],
             [
              0.2222222222222222,
              "#7201a8"
             ],
             [
              0.3333333333333333,
              "#9c179e"
             ],
             [
              0.4444444444444444,
              "#bd3786"
             ],
             [
              0.5555555555555556,
              "#d8576b"
             ],
             [
              0.6666666666666666,
              "#ed7953"
             ],
             [
              0.7777777777777778,
              "#fb9f3a"
             ],
             [
              0.8888888888888888,
              "#fdca26"
             ],
             [
              1,
              "#f0f921"
             ]
            ],
            "type": "heatmap"
           }
          ],
          "heatmapgl": [
           {
            "colorbar": {
             "outlinewidth": 0,
             "ticks": ""
            },
            "colorscale": [
             [
              0,
              "#0d0887"
             ],
             [
              0.1111111111111111,
              "#46039f"
             ],
             [
              0.2222222222222222,
              "#7201a8"
             ],
             [
              0.3333333333333333,
              "#9c179e"
             ],
             [
              0.4444444444444444,
              "#bd3786"
             ],
             [
              0.5555555555555556,
              "#d8576b"
             ],
             [
              0.6666666666666666,
              "#ed7953"
             ],
             [
              0.7777777777777778,
              "#fb9f3a"
             ],
             [
              0.8888888888888888,
              "#fdca26"
             ],
             [
              1,
              "#f0f921"
             ]
            ],
            "type": "heatmapgl"
           }
          ],
          "histogram": [
           {
            "marker": {
             "pattern": {
              "fillmode": "overlay",
              "size": 10,
              "solidity": 0.2
             }
            },
            "type": "histogram"
           }
          ],
          "histogram2d": [
           {
            "colorbar": {
             "outlinewidth": 0,
             "ticks": ""
            },
            "colorscale": [
             [
              0,
              "#0d0887"
             ],
             [
              0.1111111111111111,
              "#46039f"
             ],
             [
              0.2222222222222222,
              "#7201a8"
             ],
             [
              0.3333333333333333,
              "#9c179e"
             ],
             [
              0.4444444444444444,
              "#bd3786"
             ],
             [
              0.5555555555555556,
              "#d8576b"
             ],
             [
              0.6666666666666666,
              "#ed7953"
             ],
             [
              0.7777777777777778,
              "#fb9f3a"
             ],
             [
              0.8888888888888888,
              "#fdca26"
             ],
             [
              1,
              "#f0f921"
             ]
            ],
            "type": "histogram2d"
           }
          ],
          "histogram2dcontour": [
           {
            "colorbar": {
             "outlinewidth": 0,
             "ticks": ""
            },
            "colorscale": [
             [
              0,
              "#0d0887"
             ],
             [
              0.1111111111111111,
              "#46039f"
             ],
             [
              0.2222222222222222,
              "#7201a8"
             ],
             [
              0.3333333333333333,
              "#9c179e"
             ],
             [
              0.4444444444444444,
              "#bd3786"
             ],
             [
              0.5555555555555556,
              "#d8576b"
             ],
             [
              0.6666666666666666,
              "#ed7953"
             ],
             [
              0.7777777777777778,
              "#fb9f3a"
             ],
             [
              0.8888888888888888,
              "#fdca26"
             ],
             [
              1,
              "#f0f921"
             ]
            ],
            "type": "histogram2dcontour"
           }
          ],
          "mesh3d": [
           {
            "colorbar": {
             "outlinewidth": 0,
             "ticks": ""
            },
            "type": "mesh3d"
           }
          ],
          "parcoords": [
           {
            "line": {
             "colorbar": {
              "outlinewidth": 0,
              "ticks": ""
             }
            },
            "type": "parcoords"
           }
          ],
          "pie": [
           {
            "automargin": true,
            "type": "pie"
           }
          ],
          "scatter": [
           {
            "fillpattern": {
             "fillmode": "overlay",
             "size": 10,
             "solidity": 0.2
            },
            "type": "scatter"
           }
          ],
          "scatter3d": [
           {
            "line": {
             "colorbar": {
              "outlinewidth": 0,
              "ticks": ""
             }
            },
            "marker": {
             "colorbar": {
              "outlinewidth": 0,
              "ticks": ""
             }
            },
            "type": "scatter3d"
           }
          ],
          "scattercarpet": [
           {
            "marker": {
             "colorbar": {
              "outlinewidth": 0,
              "ticks": ""
             }
            },
            "type": "scattercarpet"
           }
          ],
          "scattergeo": [
           {
            "marker": {
             "colorbar": {
              "outlinewidth": 0,
              "ticks": ""
             }
            },
            "type": "scattergeo"
           }
          ],
          "scattergl": [
           {
            "marker": {
             "colorbar": {
              "outlinewidth": 0,
              "ticks": ""
             }
            },
            "type": "scattergl"
           }
          ],
          "scattermapbox": [
           {
            "marker": {
             "colorbar": {
              "outlinewidth": 0,
              "ticks": ""
             }
            },
            "type": "scattermapbox"
           }
          ],
          "scatterpolar": [
           {
            "marker": {
             "colorbar": {
              "outlinewidth": 0,
              "ticks": ""
             }
            },
            "type": "scatterpolar"
           }
          ],
          "scatterpolargl": [
           {
            "marker": {
             "colorbar": {
              "outlinewidth": 0,
              "ticks": ""
             }
            },
            "type": "scatterpolargl"
           }
          ],
          "scatterternary": [
           {
            "marker": {
             "colorbar": {
              "outlinewidth": 0,
              "ticks": ""
             }
            },
            "type": "scatterternary"
           }
          ],
          "surface": [
           {
            "colorbar": {
             "outlinewidth": 0,
             "ticks": ""
            },
            "colorscale": [
             [
              0,
              "#0d0887"
             ],
             [
              0.1111111111111111,
              "#46039f"
             ],
             [
              0.2222222222222222,
              "#7201a8"
             ],
             [
              0.3333333333333333,
              "#9c179e"
             ],
             [
              0.4444444444444444,
              "#bd3786"
             ],
             [
              0.5555555555555556,
              "#d8576b"
             ],
             [
              0.6666666666666666,
              "#ed7953"
             ],
             [
              0.7777777777777778,
              "#fb9f3a"
             ],
             [
              0.8888888888888888,
              "#fdca26"
             ],
             [
              1,
              "#f0f921"
             ]
            ],
            "type": "surface"
           }
          ],
          "table": [
           {
            "cells": {
             "fill": {
              "color": "#EBF0F8"
             },
             "line": {
              "color": "white"
             }
            },
            "header": {
             "fill": {
              "color": "#C8D4E3"
             },
             "line": {
              "color": "white"
             }
            },
            "type": "table"
           }
          ]
         },
         "layout": {
          "annotationdefaults": {
           "arrowcolor": "#2a3f5f",
           "arrowhead": 0,
           "arrowwidth": 1
          },
          "autotypenumbers": "strict",
          "coloraxis": {
           "colorbar": {
            "outlinewidth": 0,
            "ticks": ""
           }
          },
          "colorscale": {
           "diverging": [
            [
             0,
             "#8e0152"
            ],
            [
             0.1,
             "#c51b7d"
            ],
            [
             0.2,
             "#de77ae"
            ],
            [
             0.3,
             "#f1b6da"
            ],
            [
             0.4,
             "#fde0ef"
            ],
            [
             0.5,
             "#f7f7f7"
            ],
            [
             0.6,
             "#e6f5d0"
            ],
            [
             0.7,
             "#b8e186"
            ],
            [
             0.8,
             "#7fbc41"
            ],
            [
             0.9,
             "#4d9221"
            ],
            [
             1,
             "#276419"
            ]
           ],
           "sequential": [
            [
             0,
             "#0d0887"
            ],
            [
             0.1111111111111111,
             "#46039f"
            ],
            [
             0.2222222222222222,
             "#7201a8"
            ],
            [
             0.3333333333333333,
             "#9c179e"
            ],
            [
             0.4444444444444444,
             "#bd3786"
            ],
            [
             0.5555555555555556,
             "#d8576b"
            ],
            [
             0.6666666666666666,
             "#ed7953"
            ],
            [
             0.7777777777777778,
             "#fb9f3a"
            ],
            [
             0.8888888888888888,
             "#fdca26"
            ],
            [
             1,
             "#f0f921"
            ]
           ],
           "sequentialminus": [
            [
             0,
             "#0d0887"
            ],
            [
             0.1111111111111111,
             "#46039f"
            ],
            [
             0.2222222222222222,
             "#7201a8"
            ],
            [
             0.3333333333333333,
             "#9c179e"
            ],
            [
             0.4444444444444444,
             "#bd3786"
            ],
            [
             0.5555555555555556,
             "#d8576b"
            ],
            [
             0.6666666666666666,
             "#ed7953"
            ],
            [
             0.7777777777777778,
             "#fb9f3a"
            ],
            [
             0.8888888888888888,
             "#fdca26"
            ],
            [
             1,
             "#f0f921"
            ]
           ]
          },
          "colorway": [
           "#636efa",
           "#EF553B",
           "#00cc96",
           "#ab63fa",
           "#FFA15A",
           "#19d3f3",
           "#FF6692",
           "#B6E880",
           "#FF97FF",
           "#FECB52"
          ],
          "font": {
           "color": "#2a3f5f"
          },
          "geo": {
           "bgcolor": "white",
           "lakecolor": "white",
           "landcolor": "#E5ECF6",
           "showlakes": true,
           "showland": true,
           "subunitcolor": "white"
          },
          "hoverlabel": {
           "align": "left"
          },
          "hovermode": "closest",
          "mapbox": {
           "style": "light"
          },
          "paper_bgcolor": "white",
          "plot_bgcolor": "#E5ECF6",
          "polar": {
           "angularaxis": {
            "gridcolor": "white",
            "linecolor": "white",
            "ticks": ""
           },
           "bgcolor": "#E5ECF6",
           "radialaxis": {
            "gridcolor": "white",
            "linecolor": "white",
            "ticks": ""
           }
          },
          "scene": {
           "xaxis": {
            "backgroundcolor": "#E5ECF6",
            "gridcolor": "white",
            "gridwidth": 2,
            "linecolor": "white",
            "showbackground": true,
            "ticks": "",
            "zerolinecolor": "white"
           },
           "yaxis": {
            "backgroundcolor": "#E5ECF6",
            "gridcolor": "white",
            "gridwidth": 2,
            "linecolor": "white",
            "showbackground": true,
            "ticks": "",
            "zerolinecolor": "white"
           },
           "zaxis": {
            "backgroundcolor": "#E5ECF6",
            "gridcolor": "white",
            "gridwidth": 2,
            "linecolor": "white",
            "showbackground": true,
            "ticks": "",
            "zerolinecolor": "white"
           }
          },
          "shapedefaults": {
           "line": {
            "color": "#2a3f5f"
           }
          },
          "ternary": {
           "aaxis": {
            "gridcolor": "white",
            "linecolor": "white",
            "ticks": ""
           },
           "baxis": {
            "gridcolor": "white",
            "linecolor": "white",
            "ticks": ""
           },
           "bgcolor": "#E5ECF6",
           "caxis": {
            "gridcolor": "white",
            "linecolor": "white",
            "ticks": ""
           }
          },
          "title": {
           "x": 0.05
          },
          "xaxis": {
           "automargin": true,
           "gridcolor": "white",
           "linecolor": "white",
           "ticks": "",
           "title": {
            "standoff": 15
           },
           "zerolinecolor": "white",
           "zerolinewidth": 2
          },
          "yaxis": {
           "automargin": true,
           "gridcolor": "white",
           "linecolor": "white",
           "ticks": "",
           "title": {
            "standoff": 15
           },
           "zerolinecolor": "white",
           "zerolinewidth": 2
          }
         }
        },
        "title": {
         "text": "Loyal "
        }
       }
      }
     },
     "metadata": {},
     "output_type": "display_data"
    },
    {
     "data": {
      "application/vnd.plotly.v1+json": {
       "config": {
        "plotlyServerURL": "https://plot.ly"
       },
       "data": [
        {
         "branchvalues": "total",
         "domain": {
          "x": [
           0,
           1
          ],
          "y": [
           0,
           1
          ]
         },
         "hovertemplate": "labels=%{label}<br>count=%{value}<br>parent=%{parent}<br>id=%{id}<extra></extra>",
         "ids": [
          "AC",
          "Aceh",
          "BA",
          "BB",
          "BE",
          "BT",
          "Bali",
          "Banten",
          "Bengkulu",
          "GO",
          "Gorontalo",
          "JA",
          "JB",
          "JI",
          "JK",
          "JT",
          "Jambi",
          "KB",
          "KI",
          "KR",
          "KS",
          "KT",
          "KU",
          "LA",
          "Lampung",
          "MA",
          "MU",
          "Maluku",
          "NB",
          "NT",
          "PA",
          "PB",
          "Papua",
          "RI",
          "Riau",
          "SB",
          "SG",
          "SN",
          "SR",
          "SS",
          "ST",
          "SU",
          "YO"
         ],
         "labels": [
          "AC",
          "Aceh",
          "BA",
          "BB",
          "BE",
          "BT",
          "Bali",
          "Banten",
          "Bengkulu",
          "GO",
          "Gorontalo",
          "JA",
          "JB",
          "JI",
          "JK",
          "JT",
          "Jambi",
          "KB",
          "KI",
          "KR",
          "KS",
          "KT",
          "KU",
          "LA",
          "Lampung",
          "MA",
          "MU",
          "Maluku",
          "NB",
          "NT",
          "PA",
          "PB",
          "Papua",
          "RI",
          "Riau",
          "SB",
          "SG",
          "SN",
          "SR",
          "SS",
          "ST",
          "SU",
          "YO"
         ],
         "name": "",
         "parents": [
          "",
          "",
          "",
          "",
          "",
          "",
          "",
          "",
          "",
          "",
          "",
          "",
          "",
          "",
          "",
          "",
          "",
          "",
          "",
          "",
          "",
          "",
          "",
          "",
          "",
          "",
          "",
          "",
          "",
          "",
          "",
          "",
          "",
          "",
          "",
          "",
          "",
          "",
          "",
          "",
          "",
          "",
          ""
         ],
         "root": {
          "color": "lightgrey"
         },
         "type": "treemap",
         "values": [
          6,
          6,
          6,
          5,
          9,
          10,
          9,
          7,
          7,
          8,
          10,
          17,
          5,
          9,
          8,
          8,
          7,
          9,
          6,
          5,
          13,
          9,
          9,
          12,
          9,
          12,
          12,
          3,
          9,
          5,
          6,
          6,
          6,
          8,
          6,
          6,
          6,
          6,
          6,
          7,
          9,
          17,
          9
         ]
        }
       ],
       "layout": {
        "legend": {
         "tracegroupgap": 0
        },
        "margin": {
         "b": 25,
         "l": 25,
         "r": 25,
         "t": 50
        },
        "template": {
         "data": {
          "bar": [
           {
            "error_x": {
             "color": "#2a3f5f"
            },
            "error_y": {
             "color": "#2a3f5f"
            },
            "marker": {
             "line": {
              "color": "#E5ECF6",
              "width": 0.5
             },
             "pattern": {
              "fillmode": "overlay",
              "size": 10,
              "solidity": 0.2
             }
            },
            "type": "bar"
           }
          ],
          "barpolar": [
           {
            "marker": {
             "line": {
              "color": "#E5ECF6",
              "width": 0.5
             },
             "pattern": {
              "fillmode": "overlay",
              "size": 10,
              "solidity": 0.2
             }
            },
            "type": "barpolar"
           }
          ],
          "carpet": [
           {
            "aaxis": {
             "endlinecolor": "#2a3f5f",
             "gridcolor": "white",
             "linecolor": "white",
             "minorgridcolor": "white",
             "startlinecolor": "#2a3f5f"
            },
            "baxis": {
             "endlinecolor": "#2a3f5f",
             "gridcolor": "white",
             "linecolor": "white",
             "minorgridcolor": "white",
             "startlinecolor": "#2a3f5f"
            },
            "type": "carpet"
           }
          ],
          "choropleth": [
           {
            "colorbar": {
             "outlinewidth": 0,
             "ticks": ""
            },
            "type": "choropleth"
           }
          ],
          "contour": [
           {
            "colorbar": {
             "outlinewidth": 0,
             "ticks": ""
            },
            "colorscale": [
             [
              0,
              "#0d0887"
             ],
             [
              0.1111111111111111,
              "#46039f"
             ],
             [
              0.2222222222222222,
              "#7201a8"
             ],
             [
              0.3333333333333333,
              "#9c179e"
             ],
             [
              0.4444444444444444,
              "#bd3786"
             ],
             [
              0.5555555555555556,
              "#d8576b"
             ],
             [
              0.6666666666666666,
              "#ed7953"
             ],
             [
              0.7777777777777778,
              "#fb9f3a"
             ],
             [
              0.8888888888888888,
              "#fdca26"
             ],
             [
              1,
              "#f0f921"
             ]
            ],
            "type": "contour"
           }
          ],
          "contourcarpet": [
           {
            "colorbar": {
             "outlinewidth": 0,
             "ticks": ""
            },
            "type": "contourcarpet"
           }
          ],
          "heatmap": [
           {
            "colorbar": {
             "outlinewidth": 0,
             "ticks": ""
            },
            "colorscale": [
             [
              0,
              "#0d0887"
             ],
             [
              0.1111111111111111,
              "#46039f"
             ],
             [
              0.2222222222222222,
              "#7201a8"
             ],
             [
              0.3333333333333333,
              "#9c179e"
             ],
             [
              0.4444444444444444,
              "#bd3786"
             ],
             [
              0.5555555555555556,
              "#d8576b"
             ],
             [
              0.6666666666666666,
              "#ed7953"
             ],
             [
              0.7777777777777778,
              "#fb9f3a"
             ],
             [
              0.8888888888888888,
              "#fdca26"
             ],
             [
              1,
              "#f0f921"
             ]
            ],
            "type": "heatmap"
           }
          ],
          "heatmapgl": [
           {
            "colorbar": {
             "outlinewidth": 0,
             "ticks": ""
            },
            "colorscale": [
             [
              0,
              "#0d0887"
             ],
             [
              0.1111111111111111,
              "#46039f"
             ],
             [
              0.2222222222222222,
              "#7201a8"
             ],
             [
              0.3333333333333333,
              "#9c179e"
             ],
             [
              0.4444444444444444,
              "#bd3786"
             ],
             [
              0.5555555555555556,
              "#d8576b"
             ],
             [
              0.6666666666666666,
              "#ed7953"
             ],
             [
              0.7777777777777778,
              "#fb9f3a"
             ],
             [
              0.8888888888888888,
              "#fdca26"
             ],
             [
              1,
              "#f0f921"
             ]
            ],
            "type": "heatmapgl"
           }
          ],
          "histogram": [
           {
            "marker": {
             "pattern": {
              "fillmode": "overlay",
              "size": 10,
              "solidity": 0.2
             }
            },
            "type": "histogram"
           }
          ],
          "histogram2d": [
           {
            "colorbar": {
             "outlinewidth": 0,
             "ticks": ""
            },
            "colorscale": [
             [
              0,
              "#0d0887"
             ],
             [
              0.1111111111111111,
              "#46039f"
             ],
             [
              0.2222222222222222,
              "#7201a8"
             ],
             [
              0.3333333333333333,
              "#9c179e"
             ],
             [
              0.4444444444444444,
              "#bd3786"
             ],
             [
              0.5555555555555556,
              "#d8576b"
             ],
             [
              0.6666666666666666,
              "#ed7953"
             ],
             [
              0.7777777777777778,
              "#fb9f3a"
             ],
             [
              0.8888888888888888,
              "#fdca26"
             ],
             [
              1,
              "#f0f921"
             ]
            ],
            "type": "histogram2d"
           }
          ],
          "histogram2dcontour": [
           {
            "colorbar": {
             "outlinewidth": 0,
             "ticks": ""
            },
            "colorscale": [
             [
              0,
              "#0d0887"
             ],
             [
              0.1111111111111111,
              "#46039f"
             ],
             [
              0.2222222222222222,
              "#7201a8"
             ],
             [
              0.3333333333333333,
              "#9c179e"
             ],
             [
              0.4444444444444444,
              "#bd3786"
             ],
             [
              0.5555555555555556,
              "#d8576b"
             ],
             [
              0.6666666666666666,
              "#ed7953"
             ],
             [
              0.7777777777777778,
              "#fb9f3a"
             ],
             [
              0.8888888888888888,
              "#fdca26"
             ],
             [
              1,
              "#f0f921"
             ]
            ],
            "type": "histogram2dcontour"
           }
          ],
          "mesh3d": [
           {
            "colorbar": {
             "outlinewidth": 0,
             "ticks": ""
            },
            "type": "mesh3d"
           }
          ],
          "parcoords": [
           {
            "line": {
             "colorbar": {
              "outlinewidth": 0,
              "ticks": ""
             }
            },
            "type": "parcoords"
           }
          ],
          "pie": [
           {
            "automargin": true,
            "type": "pie"
           }
          ],
          "scatter": [
           {
            "fillpattern": {
             "fillmode": "overlay",
             "size": 10,
             "solidity": 0.2
            },
            "type": "scatter"
           }
          ],
          "scatter3d": [
           {
            "line": {
             "colorbar": {
              "outlinewidth": 0,
              "ticks": ""
             }
            },
            "marker": {
             "colorbar": {
              "outlinewidth": 0,
              "ticks": ""
             }
            },
            "type": "scatter3d"
           }
          ],
          "scattercarpet": [
           {
            "marker": {
             "colorbar": {
              "outlinewidth": 0,
              "ticks": ""
             }
            },
            "type": "scattercarpet"
           }
          ],
          "scattergeo": [
           {
            "marker": {
             "colorbar": {
              "outlinewidth": 0,
              "ticks": ""
             }
            },
            "type": "scattergeo"
           }
          ],
          "scattergl": [
           {
            "marker": {
             "colorbar": {
              "outlinewidth": 0,
              "ticks": ""
             }
            },
            "type": "scattergl"
           }
          ],
          "scattermapbox": [
           {
            "marker": {
             "colorbar": {
              "outlinewidth": 0,
              "ticks": ""
             }
            },
            "type": "scattermapbox"
           }
          ],
          "scatterpolar": [
           {
            "marker": {
             "colorbar": {
              "outlinewidth": 0,
              "ticks": ""
             }
            },
            "type": "scatterpolar"
           }
          ],
          "scatterpolargl": [
           {
            "marker": {
             "colorbar": {
              "outlinewidth": 0,
              "ticks": ""
             }
            },
            "type": "scatterpolargl"
           }
          ],
          "scatterternary": [
           {
            "marker": {
             "colorbar": {
              "outlinewidth": 0,
              "ticks": ""
             }
            },
            "type": "scatterternary"
           }
          ],
          "surface": [
           {
            "colorbar": {
             "outlinewidth": 0,
             "ticks": ""
            },
            "colorscale": [
             [
              0,
              "#0d0887"
             ],
             [
              0.1111111111111111,
              "#46039f"
             ],
             [
              0.2222222222222222,
              "#7201a8"
             ],
             [
              0.3333333333333333,
              "#9c179e"
             ],
             [
              0.4444444444444444,
              "#bd3786"
             ],
             [
              0.5555555555555556,
              "#d8576b"
             ],
             [
              0.6666666666666666,
              "#ed7953"
             ],
             [
              0.7777777777777778,
              "#fb9f3a"
             ],
             [
              0.8888888888888888,
              "#fdca26"
             ],
             [
              1,
              "#f0f921"
             ]
            ],
            "type": "surface"
           }
          ],
          "table": [
           {
            "cells": {
             "fill": {
              "color": "#EBF0F8"
             },
             "line": {
              "color": "white"
             }
            },
            "header": {
             "fill": {
              "color": "#C8D4E3"
             },
             "line": {
              "color": "white"
             }
            },
            "type": "table"
           }
          ]
         },
         "layout": {
          "annotationdefaults": {
           "arrowcolor": "#2a3f5f",
           "arrowhead": 0,
           "arrowwidth": 1
          },
          "autotypenumbers": "strict",
          "coloraxis": {
           "colorbar": {
            "outlinewidth": 0,
            "ticks": ""
           }
          },
          "colorscale": {
           "diverging": [
            [
             0,
             "#8e0152"
            ],
            [
             0.1,
             "#c51b7d"
            ],
            [
             0.2,
             "#de77ae"
            ],
            [
             0.3,
             "#f1b6da"
            ],
            [
             0.4,
             "#fde0ef"
            ],
            [
             0.5,
             "#f7f7f7"
            ],
            [
             0.6,
             "#e6f5d0"
            ],
            [
             0.7,
             "#b8e186"
            ],
            [
             0.8,
             "#7fbc41"
            ],
            [
             0.9,
             "#4d9221"
            ],
            [
             1,
             "#276419"
            ]
           ],
           "sequential": [
            [
             0,
             "#0d0887"
            ],
            [
             0.1111111111111111,
             "#46039f"
            ],
            [
             0.2222222222222222,
             "#7201a8"
            ],
            [
             0.3333333333333333,
             "#9c179e"
            ],
            [
             0.4444444444444444,
             "#bd3786"
            ],
            [
             0.5555555555555556,
             "#d8576b"
            ],
            [
             0.6666666666666666,
             "#ed7953"
            ],
            [
             0.7777777777777778,
             "#fb9f3a"
            ],
            [
             0.8888888888888888,
             "#fdca26"
            ],
            [
             1,
             "#f0f921"
            ]
           ],
           "sequentialminus": [
            [
             0,
             "#0d0887"
            ],
            [
             0.1111111111111111,
             "#46039f"
            ],
            [
             0.2222222222222222,
             "#7201a8"
            ],
            [
             0.3333333333333333,
             "#9c179e"
            ],
            [
             0.4444444444444444,
             "#bd3786"
            ],
            [
             0.5555555555555556,
             "#d8576b"
            ],
            [
             0.6666666666666666,
             "#ed7953"
            ],
            [
             0.7777777777777778,
             "#fb9f3a"
            ],
            [
             0.8888888888888888,
             "#fdca26"
            ],
            [
             1,
             "#f0f921"
            ]
           ]
          },
          "colorway": [
           "#636efa",
           "#EF553B",
           "#00cc96",
           "#ab63fa",
           "#FFA15A",
           "#19d3f3",
           "#FF6692",
           "#B6E880",
           "#FF97FF",
           "#FECB52"
          ],
          "font": {
           "color": "#2a3f5f"
          },
          "geo": {
           "bgcolor": "white",
           "lakecolor": "white",
           "landcolor": "#E5ECF6",
           "showlakes": true,
           "showland": true,
           "subunitcolor": "white"
          },
          "hoverlabel": {
           "align": "left"
          },
          "hovermode": "closest",
          "mapbox": {
           "style": "light"
          },
          "paper_bgcolor": "white",
          "plot_bgcolor": "#E5ECF6",
          "polar": {
           "angularaxis": {
            "gridcolor": "white",
            "linecolor": "white",
            "ticks": ""
           },
           "bgcolor": "#E5ECF6",
           "radialaxis": {
            "gridcolor": "white",
            "linecolor": "white",
            "ticks": ""
           }
          },
          "scene": {
           "xaxis": {
            "backgroundcolor": "#E5ECF6",
            "gridcolor": "white",
            "gridwidth": 2,
            "linecolor": "white",
            "showbackground": true,
            "ticks": "",
            "zerolinecolor": "white"
           },
           "yaxis": {
            "backgroundcolor": "#E5ECF6",
            "gridcolor": "white",
            "gridwidth": 2,
            "linecolor": "white",
            "showbackground": true,
            "ticks": "",
            "zerolinecolor": "white"
           },
           "zaxis": {
            "backgroundcolor": "#E5ECF6",
            "gridcolor": "white",
            "gridwidth": 2,
            "linecolor": "white",
            "showbackground": true,
            "ticks": "",
            "zerolinecolor": "white"
           }
          },
          "shapedefaults": {
           "line": {
            "color": "#2a3f5f"
           }
          },
          "ternary": {
           "aaxis": {
            "gridcolor": "white",
            "linecolor": "white",
            "ticks": ""
           },
           "baxis": {
            "gridcolor": "white",
            "linecolor": "white",
            "ticks": ""
           },
           "bgcolor": "#E5ECF6",
           "caxis": {
            "gridcolor": "white",
            "linecolor": "white",
            "ticks": ""
           }
          },
          "title": {
           "x": 0.05
          },
          "xaxis": {
           "automargin": true,
           "gridcolor": "white",
           "linecolor": "white",
           "ticks": "",
           "title": {
            "standoff": 15
           },
           "zerolinecolor": "white",
           "zerolinewidth": 2
          },
          "yaxis": {
           "automargin": true,
           "gridcolor": "white",
           "linecolor": "white",
           "ticks": "",
           "title": {
            "standoff": 15
           },
           "zerolinecolor": "white",
           "zerolinewidth": 2
          }
         }
        },
        "title": {
         "text": "MVC"
        }
       }
      }
     },
     "metadata": {},
     "output_type": "display_data"
    },
    {
     "data": {
      "application/vnd.plotly.v1+json": {
       "config": {
        "plotlyServerURL": "https://plot.ly"
       },
       "data": [
        {
         "branchvalues": "total",
         "domain": {
          "x": [
           0,
           1
          ],
          "y": [
           0,
           1
          ]
         },
         "hovertemplate": "labels=%{label}<br>count=%{value}<br>parent=%{parent}<br>id=%{id}<extra></extra>",
         "ids": [
          "AC",
          "Aceh",
          "BA",
          "BB",
          "BE",
          "BT",
          "Bali",
          "Banten",
          "Bengkulu",
          "GO",
          "Gorontalo",
          "JA",
          "JB",
          "JI",
          "JK",
          "JT",
          "Jambi",
          "KB",
          "KI",
          "KR",
          "KS",
          "KT",
          "KU",
          "LA",
          "Lampung",
          "MA",
          "MU",
          "Maluku",
          "NB",
          "NT",
          "PA",
          "PB",
          "Papua",
          "RI",
          "Riau",
          "SB",
          "SG",
          "SN",
          "SR",
          "SS",
          "ST",
          "SU",
          "YO"
         ],
         "labels": [
          "AC",
          "Aceh",
          "BA",
          "BB",
          "BE",
          "BT",
          "Bali",
          "Banten",
          "Bengkulu",
          "GO",
          "Gorontalo",
          "JA",
          "JB",
          "JI",
          "JK",
          "JT",
          "Jambi",
          "KB",
          "KI",
          "KR",
          "KS",
          "KT",
          "KU",
          "LA",
          "Lampung",
          "MA",
          "MU",
          "Maluku",
          "NB",
          "NT",
          "PA",
          "PB",
          "Papua",
          "RI",
          "Riau",
          "SB",
          "SG",
          "SN",
          "SR",
          "SS",
          "ST",
          "SU",
          "YO"
         ],
         "name": "",
         "parents": [
          "",
          "",
          "",
          "",
          "",
          "",
          "",
          "",
          "",
          "",
          "",
          "",
          "",
          "",
          "",
          "",
          "",
          "",
          "",
          "",
          "",
          "",
          "",
          "",
          "",
          "",
          "",
          "",
          "",
          "",
          "",
          "",
          "",
          "",
          "",
          "",
          "",
          "",
          "",
          "",
          "",
          "",
          ""
         ],
         "root": {
          "color": "lightgrey"
         },
         "type": "treemap",
         "values": [
          6,
          8,
          3,
          6,
          4,
          4,
          5,
          4,
          5,
          3,
          4,
          7,
          5,
          4,
          4,
          6,
          6,
          7,
          8,
          7,
          4,
          8,
          7,
          4,
          4,
          5,
          4,
          3,
          6,
          8,
          8,
          4,
          5,
          8,
          5,
          6,
          5,
          2,
          6,
          3,
          8,
          15,
          5
         ]
        }
       ],
       "layout": {
        "legend": {
         "tracegroupgap": 0
        },
        "margin": {
         "b": 25,
         "l": 25,
         "r": 25,
         "t": 50
        },
        "template": {
         "data": {
          "bar": [
           {
            "error_x": {
             "color": "#2a3f5f"
            },
            "error_y": {
             "color": "#2a3f5f"
            },
            "marker": {
             "line": {
              "color": "#E5ECF6",
              "width": 0.5
             },
             "pattern": {
              "fillmode": "overlay",
              "size": 10,
              "solidity": 0.2
             }
            },
            "type": "bar"
           }
          ],
          "barpolar": [
           {
            "marker": {
             "line": {
              "color": "#E5ECF6",
              "width": 0.5
             },
             "pattern": {
              "fillmode": "overlay",
              "size": 10,
              "solidity": 0.2
             }
            },
            "type": "barpolar"
           }
          ],
          "carpet": [
           {
            "aaxis": {
             "endlinecolor": "#2a3f5f",
             "gridcolor": "white",
             "linecolor": "white",
             "minorgridcolor": "white",
             "startlinecolor": "#2a3f5f"
            },
            "baxis": {
             "endlinecolor": "#2a3f5f",
             "gridcolor": "white",
             "linecolor": "white",
             "minorgridcolor": "white",
             "startlinecolor": "#2a3f5f"
            },
            "type": "carpet"
           }
          ],
          "choropleth": [
           {
            "colorbar": {
             "outlinewidth": 0,
             "ticks": ""
            },
            "type": "choropleth"
           }
          ],
          "contour": [
           {
            "colorbar": {
             "outlinewidth": 0,
             "ticks": ""
            },
            "colorscale": [
             [
              0,
              "#0d0887"
             ],
             [
              0.1111111111111111,
              "#46039f"
             ],
             [
              0.2222222222222222,
              "#7201a8"
             ],
             [
              0.3333333333333333,
              "#9c179e"
             ],
             [
              0.4444444444444444,
              "#bd3786"
             ],
             [
              0.5555555555555556,
              "#d8576b"
             ],
             [
              0.6666666666666666,
              "#ed7953"
             ],
             [
              0.7777777777777778,
              "#fb9f3a"
             ],
             [
              0.8888888888888888,
              "#fdca26"
             ],
             [
              1,
              "#f0f921"
             ]
            ],
            "type": "contour"
           }
          ],
          "contourcarpet": [
           {
            "colorbar": {
             "outlinewidth": 0,
             "ticks": ""
            },
            "type": "contourcarpet"
           }
          ],
          "heatmap": [
           {
            "colorbar": {
             "outlinewidth": 0,
             "ticks": ""
            },
            "colorscale": [
             [
              0,
              "#0d0887"
             ],
             [
              0.1111111111111111,
              "#46039f"
             ],
             [
              0.2222222222222222,
              "#7201a8"
             ],
             [
              0.3333333333333333,
              "#9c179e"
             ],
             [
              0.4444444444444444,
              "#bd3786"
             ],
             [
              0.5555555555555556,
              "#d8576b"
             ],
             [
              0.6666666666666666,
              "#ed7953"
             ],
             [
              0.7777777777777778,
              "#fb9f3a"
             ],
             [
              0.8888888888888888,
              "#fdca26"
             ],
             [
              1,
              "#f0f921"
             ]
            ],
            "type": "heatmap"
           }
          ],
          "heatmapgl": [
           {
            "colorbar": {
             "outlinewidth": 0,
             "ticks": ""
            },
            "colorscale": [
             [
              0,
              "#0d0887"
             ],
             [
              0.1111111111111111,
              "#46039f"
             ],
             [
              0.2222222222222222,
              "#7201a8"
             ],
             [
              0.3333333333333333,
              "#9c179e"
             ],
             [
              0.4444444444444444,
              "#bd3786"
             ],
             [
              0.5555555555555556,
              "#d8576b"
             ],
             [
              0.6666666666666666,
              "#ed7953"
             ],
             [
              0.7777777777777778,
              "#fb9f3a"
             ],
             [
              0.8888888888888888,
              "#fdca26"
             ],
             [
              1,
              "#f0f921"
             ]
            ],
            "type": "heatmapgl"
           }
          ],
          "histogram": [
           {
            "marker": {
             "pattern": {
              "fillmode": "overlay",
              "size": 10,
              "solidity": 0.2
             }
            },
            "type": "histogram"
           }
          ],
          "histogram2d": [
           {
            "colorbar": {
             "outlinewidth": 0,
             "ticks": ""
            },
            "colorscale": [
             [
              0,
              "#0d0887"
             ],
             [
              0.1111111111111111,
              "#46039f"
             ],
             [
              0.2222222222222222,
              "#7201a8"
             ],
             [
              0.3333333333333333,
              "#9c179e"
             ],
             [
              0.4444444444444444,
              "#bd3786"
             ],
             [
              0.5555555555555556,
              "#d8576b"
             ],
             [
              0.6666666666666666,
              "#ed7953"
             ],
             [
              0.7777777777777778,
              "#fb9f3a"
             ],
             [
              0.8888888888888888,
              "#fdca26"
             ],
             [
              1,
              "#f0f921"
             ]
            ],
            "type": "histogram2d"
           }
          ],
          "histogram2dcontour": [
           {
            "colorbar": {
             "outlinewidth": 0,
             "ticks": ""
            },
            "colorscale": [
             [
              0,
              "#0d0887"
             ],
             [
              0.1111111111111111,
              "#46039f"
             ],
             [
              0.2222222222222222,
              "#7201a8"
             ],
             [
              0.3333333333333333,
              "#9c179e"
             ],
             [
              0.4444444444444444,
              "#bd3786"
             ],
             [
              0.5555555555555556,
              "#d8576b"
             ],
             [
              0.6666666666666666,
              "#ed7953"
             ],
             [
              0.7777777777777778,
              "#fb9f3a"
             ],
             [
              0.8888888888888888,
              "#fdca26"
             ],
             [
              1,
              "#f0f921"
             ]
            ],
            "type": "histogram2dcontour"
           }
          ],
          "mesh3d": [
           {
            "colorbar": {
             "outlinewidth": 0,
             "ticks": ""
            },
            "type": "mesh3d"
           }
          ],
          "parcoords": [
           {
            "line": {
             "colorbar": {
              "outlinewidth": 0,
              "ticks": ""
             }
            },
            "type": "parcoords"
           }
          ],
          "pie": [
           {
            "automargin": true,
            "type": "pie"
           }
          ],
          "scatter": [
           {
            "fillpattern": {
             "fillmode": "overlay",
             "size": 10,
             "solidity": 0.2
            },
            "type": "scatter"
           }
          ],
          "scatter3d": [
           {
            "line": {
             "colorbar": {
              "outlinewidth": 0,
              "ticks": ""
             }
            },
            "marker": {
             "colorbar": {
              "outlinewidth": 0,
              "ticks": ""
             }
            },
            "type": "scatter3d"
           }
          ],
          "scattercarpet": [
           {
            "marker": {
             "colorbar": {
              "outlinewidth": 0,
              "ticks": ""
             }
            },
            "type": "scattercarpet"
           }
          ],
          "scattergeo": [
           {
            "marker": {
             "colorbar": {
              "outlinewidth": 0,
              "ticks": ""
             }
            },
            "type": "scattergeo"
           }
          ],
          "scattergl": [
           {
            "marker": {
             "colorbar": {
              "outlinewidth": 0,
              "ticks": ""
             }
            },
            "type": "scattergl"
           }
          ],
          "scattermapbox": [
           {
            "marker": {
             "colorbar": {
              "outlinewidth": 0,
              "ticks": ""
             }
            },
            "type": "scattermapbox"
           }
          ],
          "scatterpolar": [
           {
            "marker": {
             "colorbar": {
              "outlinewidth": 0,
              "ticks": ""
             }
            },
            "type": "scatterpolar"
           }
          ],
          "scatterpolargl": [
           {
            "marker": {
             "colorbar": {
              "outlinewidth": 0,
              "ticks": ""
             }
            },
            "type": "scatterpolargl"
           }
          ],
          "scatterternary": [
           {
            "marker": {
             "colorbar": {
              "outlinewidth": 0,
              "ticks": ""
             }
            },
            "type": "scatterternary"
           }
          ],
          "surface": [
           {
            "colorbar": {
             "outlinewidth": 0,
             "ticks": ""
            },
            "colorscale": [
             [
              0,
              "#0d0887"
             ],
             [
              0.1111111111111111,
              "#46039f"
             ],
             [
              0.2222222222222222,
              "#7201a8"
             ],
             [
              0.3333333333333333,
              "#9c179e"
             ],
             [
              0.4444444444444444,
              "#bd3786"
             ],
             [
              0.5555555555555556,
              "#d8576b"
             ],
             [
              0.6666666666666666,
              "#ed7953"
             ],
             [
              0.7777777777777778,
              "#fb9f3a"
             ],
             [
              0.8888888888888888,
              "#fdca26"
             ],
             [
              1,
              "#f0f921"
             ]
            ],
            "type": "surface"
           }
          ],
          "table": [
           {
            "cells": {
             "fill": {
              "color": "#EBF0F8"
             },
             "line": {
              "color": "white"
             }
            },
            "header": {
             "fill": {
              "color": "#C8D4E3"
             },
             "line": {
              "color": "white"
             }
            },
            "type": "table"
           }
          ]
         },
         "layout": {
          "annotationdefaults": {
           "arrowcolor": "#2a3f5f",
           "arrowhead": 0,
           "arrowwidth": 1
          },
          "autotypenumbers": "strict",
          "coloraxis": {
           "colorbar": {
            "outlinewidth": 0,
            "ticks": ""
           }
          },
          "colorscale": {
           "diverging": [
            [
             0,
             "#8e0152"
            ],
            [
             0.1,
             "#c51b7d"
            ],
            [
             0.2,
             "#de77ae"
            ],
            [
             0.3,
             "#f1b6da"
            ],
            [
             0.4,
             "#fde0ef"
            ],
            [
             0.5,
             "#f7f7f7"
            ],
            [
             0.6,
             "#e6f5d0"
            ],
            [
             0.7,
             "#b8e186"
            ],
            [
             0.8,
             "#7fbc41"
            ],
            [
             0.9,
             "#4d9221"
            ],
            [
             1,
             "#276419"
            ]
           ],
           "sequential": [
            [
             0,
             "#0d0887"
            ],
            [
             0.1111111111111111,
             "#46039f"
            ],
            [
             0.2222222222222222,
             "#7201a8"
            ],
            [
             0.3333333333333333,
             "#9c179e"
            ],
            [
             0.4444444444444444,
             "#bd3786"
            ],
            [
             0.5555555555555556,
             "#d8576b"
            ],
            [
             0.6666666666666666,
             "#ed7953"
            ],
            [
             0.7777777777777778,
             "#fb9f3a"
            ],
            [
             0.8888888888888888,
             "#fdca26"
            ],
            [
             1,
             "#f0f921"
            ]
           ],
           "sequentialminus": [
            [
             0,
             "#0d0887"
            ],
            [
             0.1111111111111111,
             "#46039f"
            ],
            [
             0.2222222222222222,
             "#7201a8"
            ],
            [
             0.3333333333333333,
             "#9c179e"
            ],
            [
             0.4444444444444444,
             "#bd3786"
            ],
            [
             0.5555555555555556,
             "#d8576b"
            ],
            [
             0.6666666666666666,
             "#ed7953"
            ],
            [
             0.7777777777777778,
             "#fb9f3a"
            ],
            [
             0.8888888888888888,
             "#fdca26"
            ],
            [
             1,
             "#f0f921"
            ]
           ]
          },
          "colorway": [
           "#636efa",
           "#EF553B",
           "#00cc96",
           "#ab63fa",
           "#FFA15A",
           "#19d3f3",
           "#FF6692",
           "#B6E880",
           "#FF97FF",
           "#FECB52"
          ],
          "font": {
           "color": "#2a3f5f"
          },
          "geo": {
           "bgcolor": "white",
           "lakecolor": "white",
           "landcolor": "#E5ECF6",
           "showlakes": true,
           "showland": true,
           "subunitcolor": "white"
          },
          "hoverlabel": {
           "align": "left"
          },
          "hovermode": "closest",
          "mapbox": {
           "style": "light"
          },
          "paper_bgcolor": "white",
          "plot_bgcolor": "#E5ECF6",
          "polar": {
           "angularaxis": {
            "gridcolor": "white",
            "linecolor": "white",
            "ticks": ""
           },
           "bgcolor": "#E5ECF6",
           "radialaxis": {
            "gridcolor": "white",
            "linecolor": "white",
            "ticks": ""
           }
          },
          "scene": {
           "xaxis": {
            "backgroundcolor": "#E5ECF6",
            "gridcolor": "white",
            "gridwidth": 2,
            "linecolor": "white",
            "showbackground": true,
            "ticks": "",
            "zerolinecolor": "white"
           },
           "yaxis": {
            "backgroundcolor": "#E5ECF6",
            "gridcolor": "white",
            "gridwidth": 2,
            "linecolor": "white",
            "showbackground": true,
            "ticks": "",
            "zerolinecolor": "white"
           },
           "zaxis": {
            "backgroundcolor": "#E5ECF6",
            "gridcolor": "white",
            "gridwidth": 2,
            "linecolor": "white",
            "showbackground": true,
            "ticks": "",
            "zerolinecolor": "white"
           }
          },
          "shapedefaults": {
           "line": {
            "color": "#2a3f5f"
           }
          },
          "ternary": {
           "aaxis": {
            "gridcolor": "white",
            "linecolor": "white",
            "ticks": ""
           },
           "baxis": {
            "gridcolor": "white",
            "linecolor": "white",
            "ticks": ""
           },
           "bgcolor": "#E5ECF6",
           "caxis": {
            "gridcolor": "white",
            "linecolor": "white",
            "ticks": ""
           }
          },
          "title": {
           "x": 0.05
          },
          "xaxis": {
           "automargin": true,
           "gridcolor": "white",
           "linecolor": "white",
           "ticks": "",
           "title": {
            "standoff": 15
           },
           "zerolinecolor": "white",
           "zerolinewidth": 2
          },
          "yaxis": {
           "automargin": true,
           "gridcolor": "white",
           "linecolor": "white",
           "ticks": "",
           "title": {
            "standoff": 15
           },
           "zerolinecolor": "white",
           "zerolinewidth": 2
          }
         }
        },
        "title": {
         "text": "Need Attention"
        }
       }
      }
     },
     "metadata": {},
     "output_type": "display_data"
    },
    {
     "data": {
      "application/vnd.plotly.v1+json": {
       "config": {
        "plotlyServerURL": "https://plot.ly"
       },
       "data": [
        {
         "branchvalues": "total",
         "domain": {
          "x": [
           0,
           1
          ],
          "y": [
           0,
           1
          ]
         },
         "hovertemplate": "labels=%{label}<br>count=%{value}<br>parent=%{parent}<br>id=%{id}<extra></extra>",
         "ids": [
          "AC",
          "BA",
          "BT",
          "Bali",
          "Banten",
          "Bengkulu",
          "GO",
          "JA",
          "JB",
          "JI",
          "JK",
          "JT",
          "Jambi",
          "KB",
          "KI",
          "KR",
          "KS",
          "KT",
          "KU",
          "MU",
          "Maluku",
          "NB",
          "NT",
          "PA",
          "PB",
          "Papua",
          "RI",
          "Riau",
          "SB",
          "SG",
          "SN",
          "SR",
          "SS",
          "ST",
          "SU",
          "YO"
         ],
         "labels": [
          "AC",
          "BA",
          "BT",
          "Bali",
          "Banten",
          "Bengkulu",
          "GO",
          "JA",
          "JB",
          "JI",
          "JK",
          "JT",
          "Jambi",
          "KB",
          "KI",
          "KR",
          "KS",
          "KT",
          "KU",
          "MU",
          "Maluku",
          "NB",
          "NT",
          "PA",
          "PB",
          "Papua",
          "RI",
          "Riau",
          "SB",
          "SG",
          "SN",
          "SR",
          "SS",
          "ST",
          "SU",
          "YO"
         ],
         "name": "",
         "parents": [
          "",
          "",
          "",
          "",
          "",
          "",
          "",
          "",
          "",
          "",
          "",
          "",
          "",
          "",
          "",
          "",
          "",
          "",
          "",
          "",
          "",
          "",
          "",
          "",
          "",
          "",
          "",
          "",
          "",
          "",
          "",
          "",
          "",
          "",
          "",
          ""
         ],
         "root": {
          "color": "lightgrey"
         },
         "type": "treemap",
         "values": [
          1,
          3,
          3,
          2,
          2,
          4,
          3,
          1,
          2,
          1,
          3,
          4,
          6,
          1,
          3,
          2,
          2,
          2,
          3,
          2,
          1,
          3,
          2,
          1,
          2,
          1,
          3,
          2,
          3,
          4,
          2,
          1,
          4,
          3,
          4,
          2
         ]
        }
       ],
       "layout": {
        "legend": {
         "tracegroupgap": 0
        },
        "margin": {
         "b": 25,
         "l": 25,
         "r": 25,
         "t": 50
        },
        "template": {
         "data": {
          "bar": [
           {
            "error_x": {
             "color": "#2a3f5f"
            },
            "error_y": {
             "color": "#2a3f5f"
            },
            "marker": {
             "line": {
              "color": "#E5ECF6",
              "width": 0.5
             },
             "pattern": {
              "fillmode": "overlay",
              "size": 10,
              "solidity": 0.2
             }
            },
            "type": "bar"
           }
          ],
          "barpolar": [
           {
            "marker": {
             "line": {
              "color": "#E5ECF6",
              "width": 0.5
             },
             "pattern": {
              "fillmode": "overlay",
              "size": 10,
              "solidity": 0.2
             }
            },
            "type": "barpolar"
           }
          ],
          "carpet": [
           {
            "aaxis": {
             "endlinecolor": "#2a3f5f",
             "gridcolor": "white",
             "linecolor": "white",
             "minorgridcolor": "white",
             "startlinecolor": "#2a3f5f"
            },
            "baxis": {
             "endlinecolor": "#2a3f5f",
             "gridcolor": "white",
             "linecolor": "white",
             "minorgridcolor": "white",
             "startlinecolor": "#2a3f5f"
            },
            "type": "carpet"
           }
          ],
          "choropleth": [
           {
            "colorbar": {
             "outlinewidth": 0,
             "ticks": ""
            },
            "type": "choropleth"
           }
          ],
          "contour": [
           {
            "colorbar": {
             "outlinewidth": 0,
             "ticks": ""
            },
            "colorscale": [
             [
              0,
              "#0d0887"
             ],
             [
              0.1111111111111111,
              "#46039f"
             ],
             [
              0.2222222222222222,
              "#7201a8"
             ],
             [
              0.3333333333333333,
              "#9c179e"
             ],
             [
              0.4444444444444444,
              "#bd3786"
             ],
             [
              0.5555555555555556,
              "#d8576b"
             ],
             [
              0.6666666666666666,
              "#ed7953"
             ],
             [
              0.7777777777777778,
              "#fb9f3a"
             ],
             [
              0.8888888888888888,
              "#fdca26"
             ],
             [
              1,
              "#f0f921"
             ]
            ],
            "type": "contour"
           }
          ],
          "contourcarpet": [
           {
            "colorbar": {
             "outlinewidth": 0,
             "ticks": ""
            },
            "type": "contourcarpet"
           }
          ],
          "heatmap": [
           {
            "colorbar": {
             "outlinewidth": 0,
             "ticks": ""
            },
            "colorscale": [
             [
              0,
              "#0d0887"
             ],
             [
              0.1111111111111111,
              "#46039f"
             ],
             [
              0.2222222222222222,
              "#7201a8"
             ],
             [
              0.3333333333333333,
              "#9c179e"
             ],
             [
              0.4444444444444444,
              "#bd3786"
             ],
             [
              0.5555555555555556,
              "#d8576b"
             ],
             [
              0.6666666666666666,
              "#ed7953"
             ],
             [
              0.7777777777777778,
              "#fb9f3a"
             ],
             [
              0.8888888888888888,
              "#fdca26"
             ],
             [
              1,
              "#f0f921"
             ]
            ],
            "type": "heatmap"
           }
          ],
          "heatmapgl": [
           {
            "colorbar": {
             "outlinewidth": 0,
             "ticks": ""
            },
            "colorscale": [
             [
              0,
              "#0d0887"
             ],
             [
              0.1111111111111111,
              "#46039f"
             ],
             [
              0.2222222222222222,
              "#7201a8"
             ],
             [
              0.3333333333333333,
              "#9c179e"
             ],
             [
              0.4444444444444444,
              "#bd3786"
             ],
             [
              0.5555555555555556,
              "#d8576b"
             ],
             [
              0.6666666666666666,
              "#ed7953"
             ],
             [
              0.7777777777777778,
              "#fb9f3a"
             ],
             [
              0.8888888888888888,
              "#fdca26"
             ],
             [
              1,
              "#f0f921"
             ]
            ],
            "type": "heatmapgl"
           }
          ],
          "histogram": [
           {
            "marker": {
             "pattern": {
              "fillmode": "overlay",
              "size": 10,
              "solidity": 0.2
             }
            },
            "type": "histogram"
           }
          ],
          "histogram2d": [
           {
            "colorbar": {
             "outlinewidth": 0,
             "ticks": ""
            },
            "colorscale": [
             [
              0,
              "#0d0887"
             ],
             [
              0.1111111111111111,
              "#46039f"
             ],
             [
              0.2222222222222222,
              "#7201a8"
             ],
             [
              0.3333333333333333,
              "#9c179e"
             ],
             [
              0.4444444444444444,
              "#bd3786"
             ],
             [
              0.5555555555555556,
              "#d8576b"
             ],
             [
              0.6666666666666666,
              "#ed7953"
             ],
             [
              0.7777777777777778,
              "#fb9f3a"
             ],
             [
              0.8888888888888888,
              "#fdca26"
             ],
             [
              1,
              "#f0f921"
             ]
            ],
            "type": "histogram2d"
           }
          ],
          "histogram2dcontour": [
           {
            "colorbar": {
             "outlinewidth": 0,
             "ticks": ""
            },
            "colorscale": [
             [
              0,
              "#0d0887"
             ],
             [
              0.1111111111111111,
              "#46039f"
             ],
             [
              0.2222222222222222,
              "#7201a8"
             ],
             [
              0.3333333333333333,
              "#9c179e"
             ],
             [
              0.4444444444444444,
              "#bd3786"
             ],
             [
              0.5555555555555556,
              "#d8576b"
             ],
             [
              0.6666666666666666,
              "#ed7953"
             ],
             [
              0.7777777777777778,
              "#fb9f3a"
             ],
             [
              0.8888888888888888,
              "#fdca26"
             ],
             [
              1,
              "#f0f921"
             ]
            ],
            "type": "histogram2dcontour"
           }
          ],
          "mesh3d": [
           {
            "colorbar": {
             "outlinewidth": 0,
             "ticks": ""
            },
            "type": "mesh3d"
           }
          ],
          "parcoords": [
           {
            "line": {
             "colorbar": {
              "outlinewidth": 0,
              "ticks": ""
             }
            },
            "type": "parcoords"
           }
          ],
          "pie": [
           {
            "automargin": true,
            "type": "pie"
           }
          ],
          "scatter": [
           {
            "fillpattern": {
             "fillmode": "overlay",
             "size": 10,
             "solidity": 0.2
            },
            "type": "scatter"
           }
          ],
          "scatter3d": [
           {
            "line": {
             "colorbar": {
              "outlinewidth": 0,
              "ticks": ""
             }
            },
            "marker": {
             "colorbar": {
              "outlinewidth": 0,
              "ticks": ""
             }
            },
            "type": "scatter3d"
           }
          ],
          "scattercarpet": [
           {
            "marker": {
             "colorbar": {
              "outlinewidth": 0,
              "ticks": ""
             }
            },
            "type": "scattercarpet"
           }
          ],
          "scattergeo": [
           {
            "marker": {
             "colorbar": {
              "outlinewidth": 0,
              "ticks": ""
             }
            },
            "type": "scattergeo"
           }
          ],
          "scattergl": [
           {
            "marker": {
             "colorbar": {
              "outlinewidth": 0,
              "ticks": ""
             }
            },
            "type": "scattergl"
           }
          ],
          "scattermapbox": [
           {
            "marker": {
             "colorbar": {
              "outlinewidth": 0,
              "ticks": ""
             }
            },
            "type": "scattermapbox"
           }
          ],
          "scatterpolar": [
           {
            "marker": {
             "colorbar": {
              "outlinewidth": 0,
              "ticks": ""
             }
            },
            "type": "scatterpolar"
           }
          ],
          "scatterpolargl": [
           {
            "marker": {
             "colorbar": {
              "outlinewidth": 0,
              "ticks": ""
             }
            },
            "type": "scatterpolargl"
           }
          ],
          "scatterternary": [
           {
            "marker": {
             "colorbar": {
              "outlinewidth": 0,
              "ticks": ""
             }
            },
            "type": "scatterternary"
           }
          ],
          "surface": [
           {
            "colorbar": {
             "outlinewidth": 0,
             "ticks": ""
            },
            "colorscale": [
             [
              0,
              "#0d0887"
             ],
             [
              0.1111111111111111,
              "#46039f"
             ],
             [
              0.2222222222222222,
              "#7201a8"
             ],
             [
              0.3333333333333333,
              "#9c179e"
             ],
             [
              0.4444444444444444,
              "#bd3786"
             ],
             [
              0.5555555555555556,
              "#d8576b"
             ],
             [
              0.6666666666666666,
              "#ed7953"
             ],
             [
              0.7777777777777778,
              "#fb9f3a"
             ],
             [
              0.8888888888888888,
              "#fdca26"
             ],
             [
              1,
              "#f0f921"
             ]
            ],
            "type": "surface"
           }
          ],
          "table": [
           {
            "cells": {
             "fill": {
              "color": "#EBF0F8"
             },
             "line": {
              "color": "white"
             }
            },
            "header": {
             "fill": {
              "color": "#C8D4E3"
             },
             "line": {
              "color": "white"
             }
            },
            "type": "table"
           }
          ]
         },
         "layout": {
          "annotationdefaults": {
           "arrowcolor": "#2a3f5f",
           "arrowhead": 0,
           "arrowwidth": 1
          },
          "autotypenumbers": "strict",
          "coloraxis": {
           "colorbar": {
            "outlinewidth": 0,
            "ticks": ""
           }
          },
          "colorscale": {
           "diverging": [
            [
             0,
             "#8e0152"
            ],
            [
             0.1,
             "#c51b7d"
            ],
            [
             0.2,
             "#de77ae"
            ],
            [
             0.3,
             "#f1b6da"
            ],
            [
             0.4,
             "#fde0ef"
            ],
            [
             0.5,
             "#f7f7f7"
            ],
            [
             0.6,
             "#e6f5d0"
            ],
            [
             0.7,
             "#b8e186"
            ],
            [
             0.8,
             "#7fbc41"
            ],
            [
             0.9,
             "#4d9221"
            ],
            [
             1,
             "#276419"
            ]
           ],
           "sequential": [
            [
             0,
             "#0d0887"
            ],
            [
             0.1111111111111111,
             "#46039f"
            ],
            [
             0.2222222222222222,
             "#7201a8"
            ],
            [
             0.3333333333333333,
             "#9c179e"
            ],
            [
             0.4444444444444444,
             "#bd3786"
            ],
            [
             0.5555555555555556,
             "#d8576b"
            ],
            [
             0.6666666666666666,
             "#ed7953"
            ],
            [
             0.7777777777777778,
             "#fb9f3a"
            ],
            [
             0.8888888888888888,
             "#fdca26"
            ],
            [
             1,
             "#f0f921"
            ]
           ],
           "sequentialminus": [
            [
             0,
             "#0d0887"
            ],
            [
             0.1111111111111111,
             "#46039f"
            ],
            [
             0.2222222222222222,
             "#7201a8"
            ],
            [
             0.3333333333333333,
             "#9c179e"
            ],
            [
             0.4444444444444444,
             "#bd3786"
            ],
            [
             0.5555555555555556,
             "#d8576b"
            ],
            [
             0.6666666666666666,
             "#ed7953"
            ],
            [
             0.7777777777777778,
             "#fb9f3a"
            ],
            [
             0.8888888888888888,
             "#fdca26"
            ],
            [
             1,
             "#f0f921"
            ]
           ]
          },
          "colorway": [
           "#636efa",
           "#EF553B",
           "#00cc96",
           "#ab63fa",
           "#FFA15A",
           "#19d3f3",
           "#FF6692",
           "#B6E880",
           "#FF97FF",
           "#FECB52"
          ],
          "font": {
           "color": "#2a3f5f"
          },
          "geo": {
           "bgcolor": "white",
           "lakecolor": "white",
           "landcolor": "#E5ECF6",
           "showlakes": true,
           "showland": true,
           "subunitcolor": "white"
          },
          "hoverlabel": {
           "align": "left"
          },
          "hovermode": "closest",
          "mapbox": {
           "style": "light"
          },
          "paper_bgcolor": "white",
          "plot_bgcolor": "#E5ECF6",
          "polar": {
           "angularaxis": {
            "gridcolor": "white",
            "linecolor": "white",
            "ticks": ""
           },
           "bgcolor": "#E5ECF6",
           "radialaxis": {
            "gridcolor": "white",
            "linecolor": "white",
            "ticks": ""
           }
          },
          "scene": {
           "xaxis": {
            "backgroundcolor": "#E5ECF6",
            "gridcolor": "white",
            "gridwidth": 2,
            "linecolor": "white",
            "showbackground": true,
            "ticks": "",
            "zerolinecolor": "white"
           },
           "yaxis": {
            "backgroundcolor": "#E5ECF6",
            "gridcolor": "white",
            "gridwidth": 2,
            "linecolor": "white",
            "showbackground": true,
            "ticks": "",
            "zerolinecolor": "white"
           },
           "zaxis": {
            "backgroundcolor": "#E5ECF6",
            "gridcolor": "white",
            "gridwidth": 2,
            "linecolor": "white",
            "showbackground": true,
            "ticks": "",
            "zerolinecolor": "white"
           }
          },
          "shapedefaults": {
           "line": {
            "color": "#2a3f5f"
           }
          },
          "ternary": {
           "aaxis": {
            "gridcolor": "white",
            "linecolor": "white",
            "ticks": ""
           },
           "baxis": {
            "gridcolor": "white",
            "linecolor": "white",
            "ticks": ""
           },
           "bgcolor": "#E5ECF6",
           "caxis": {
            "gridcolor": "white",
            "linecolor": "white",
            "ticks": ""
           }
          },
          "title": {
           "x": 0.05
          },
          "xaxis": {
           "automargin": true,
           "gridcolor": "white",
           "linecolor": "white",
           "ticks": "",
           "title": {
            "standoff": 15
           },
           "zerolinecolor": "white",
           "zerolinewidth": 2
          },
          "yaxis": {
           "automargin": true,
           "gridcolor": "white",
           "linecolor": "white",
           "ticks": "",
           "title": {
            "standoff": 15
           },
           "zerolinecolor": "white",
           "zerolinewidth": 2
          }
         }
        },
        "title": {
         "text": "Potentially Loyal"
        }
       }
      }
     },
     "metadata": {},
     "output_type": "display_data"
    }
   ],
   "source": [
    "import plotly.express as px\n",
    "import pandas as pd\n",
    "\n",
    "segment_groups = df_customer_datamart.groupby('General_Segment')\n",
    "for segment, segment_data in segment_groups:\n",
    "    sub_segment_columns=['customerEducation', 'customerIndustry', 'customerGeneration']\n",
    "    group_data = segment_data.groupby(sub_segment_columns).size().reset_index(name='count')\n",
    "    group_data[\"all\"] = segment # in order to have a single root node\n",
    "    fig = px.treemap(group_data,path=sub_segment_columns, values='count', title=segment)\n",
    "    fig.update_traces(root_color=\"lightgrey\")\n",
    "    fig.update_layout(margin = dict(t=50, l=25, r=25, b=25))\n",
    "    fig.show()\n",
    "    \n",
    "for segment, segment_data in segment_groups:\n",
    "    sub_segment_columns=['customerState']\n",
    "    group_data = segment_data.groupby(sub_segment_columns).size().reset_index(name='count')\n",
    "    group_data[\"all\"] = segment # in order to have a single root node\n",
    "    fig = px.treemap(group_data,path=sub_segment_columns, values='count', title=segment)\n",
    "    fig.update_traces(root_color=\"lightgrey\")\n",
    "    fig.update_layout(margin = dict(t=50, l=25, r=25, b=25))\n",
    "    fig.show()"
   ]
  },
  {
   "attachments": {},
   "cell_type": "markdown",
   "metadata": {},
   "source": [
    "## Save data for further evaluation and action."
   ]
  },
  {
   "cell_type": "code",
   "execution_count": 158,
   "metadata": {},
   "outputs": [
    {
     "name": "stdout",
     "output_type": "stream",
     "text": [
      "Data is saved to files\n",
      "./data/output/customer_data.csv\n",
      "./data/output/customer_transaction_data.csv\n",
      "\n"
     ]
    }
   ],
   "source": [
    "import os\n",
    "\n",
    "\n",
    "transaction_data_file = config.get('OUTPUT','transaction_data',\n",
    "                                 fallback='./data/output/customer_transaction_data.csv')\n",
    "\n",
    "customer_data_file = config.get('OUTPUT','customer_data',\n",
    "                                 fallback='./data/output/customer_data.csv')\n",
    "\n",
    "os.makedirs(os.path.dirname(transaction_data_file),exist_ok=True)\n",
    "os.makedirs(os.path.dirname(customer_data_file),exist_ok=True)\n",
    "\n",
    "df_transactions.to_csv(transaction_data_file, index=False)\n",
    "df_customer_datamart.to_csv(customer_data_file, index=False)\n",
    "\n",
    "print(f\"Data is saved to files\\n{customer_data_file}\\n{transaction_data_file}\\n\")"
   ]
  }
 ],
 "metadata": {
  "kernelspec": {
   "display_name": "CustomerSegmentation",
   "language": "python",
   "name": "python3"
  },
  "language_info": {
   "codemirror_mode": {
    "name": "ipython",
    "version": 3
   },
   "file_extension": ".py",
   "mimetype": "text/x-python",
   "name": "python",
   "nbconvert_exporter": "python",
   "pygments_lexer": "ipython3",
   "version": "3.9.16"
  },
  "orig_nbformat": 4,
  "vscode": {
   "interpreter": {
    "hash": "42aa851c8377e5a804327342fb884cfe50e031d71c327b63ad8a2fec8fa88eb6"
   }
  }
 },
 "nbformat": 4,
 "nbformat_minor": 2
}
