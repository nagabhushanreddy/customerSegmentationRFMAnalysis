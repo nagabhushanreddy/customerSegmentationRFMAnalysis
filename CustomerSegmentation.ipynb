{
 "cells": [
  {
   "attachments": {},
   "cell_type": "markdown",
   "metadata": {},
   "source": [
    "# RFM Segmentation with python (The Data analytics approach to gain customer insights.)"
   ]
  },
  {
   "attachments": {},
   "cell_type": "markdown",
   "metadata": {},
   "source": [
    "## Import required libraries "
   ]
  },
  {
   "cell_type": "code",
   "execution_count": 1,
   "metadata": {},
   "outputs": [],
   "source": [
    "# importing required packages\n",
    "import pandas as pd\n",
    "import datetime as dt\n",
    "from utils.config import config"
   ]
  },
  {
   "attachments": {},
   "cell_type": "markdown",
   "metadata": {},
   "source": [
    "## Download or import transaction data and customer data"
   ]
  },
  {
   "cell_type": "code",
   "execution_count": 2,
   "metadata": {},
   "outputs": [],
   "source": [
    "\n",
    "transact_data_file = config.get('INPUT','transaction_data',\n",
    "                                 fallback='./data/input/customer_transaction_data.csv')\n",
    "\n",
    "customer_data_file = config.get('INPUT','customer_data',\n",
    "                                 fallback='./data/input/customer_data.csv')\n",
    "\n",
    "df_customer = pd.read_csv(customer_data_file, on_bad_lines='skip')\n",
    "df_transactions = pd.read_csv(transact_data_file, parse_dates=['transactionDate'], on_bad_lines='skip')"
   ]
  },
  {
   "cell_type": "code",
   "execution_count": 3,
   "metadata": {},
   "outputs": [
    {
     "name": "stdout",
     "output_type": "stream",
     "text": [
      "<class 'pandas.core.frame.DataFrame'>\n",
      "RangeIndex: 2000 entries, 0 to 1999\n",
      "Data columns (total 8 columns):\n",
      " #   Column                         Non-Null Count  Dtype \n",
      "---  ------                         --------------  ----- \n",
      " 0   customerID                     2000 non-null   int64 \n",
      " 1   customerName                   2000 non-null   object\n",
      " 2   customerAge                    2000 non-null   int64 \n",
      " 3   customerGender                 2000 non-null   object\n",
      " 4   customerLocation               2000 non-null   object\n",
      " 5   customerEducation              2000 non-null   object\n",
      " 6   customerIndustry               2000 non-null   object\n",
      " 7   customerAuthorizedSignatories  2000 non-null   object\n",
      "dtypes: int64(2), object(6)\n",
      "memory usage: 125.1+ KB\n"
     ]
    },
    {
     "data": {
      "text/html": [
       "<div>\n",
       "<style scoped>\n",
       "    .dataframe tbody tr th:only-of-type {\n",
       "        vertical-align: middle;\n",
       "    }\n",
       "\n",
       "    .dataframe tbody tr th {\n",
       "        vertical-align: top;\n",
       "    }\n",
       "\n",
       "    .dataframe thead th {\n",
       "        text-align: right;\n",
       "    }\n",
       "</style>\n",
       "<table border=\"1\" class=\"dataframe\">\n",
       "  <thead>\n",
       "    <tr style=\"text-align: right;\">\n",
       "      <th></th>\n",
       "      <th>customerID</th>\n",
       "      <th>customerAge</th>\n",
       "    </tr>\n",
       "  </thead>\n",
       "  <tbody>\n",
       "    <tr>\n",
       "      <th>count</th>\n",
       "      <td>2.000000e+03</td>\n",
       "      <td>2000.00000</td>\n",
       "    </tr>\n",
       "    <tr>\n",
       "      <th>mean</th>\n",
       "      <td>5.439564e+07</td>\n",
       "      <td>53.63850</td>\n",
       "    </tr>\n",
       "    <tr>\n",
       "      <th>std</th>\n",
       "      <td>2.618454e+07</td>\n",
       "      <td>15.99155</td>\n",
       "    </tr>\n",
       "    <tr>\n",
       "      <th>min</th>\n",
       "      <td>1.005437e+07</td>\n",
       "      <td>20.00000</td>\n",
       "    </tr>\n",
       "    <tr>\n",
       "      <th>25%</th>\n",
       "      <td>3.153297e+07</td>\n",
       "      <td>42.75000</td>\n",
       "    </tr>\n",
       "    <tr>\n",
       "      <th>50%</th>\n",
       "      <td>5.343850e+07</td>\n",
       "      <td>55.00000</td>\n",
       "    </tr>\n",
       "    <tr>\n",
       "      <th>75%</th>\n",
       "      <td>7.801902e+07</td>\n",
       "      <td>66.00000</td>\n",
       "    </tr>\n",
       "    <tr>\n",
       "      <th>max</th>\n",
       "      <td>9.994315e+07</td>\n",
       "      <td>80.00000</td>\n",
       "    </tr>\n",
       "  </tbody>\n",
       "</table>\n",
       "</div>"
      ],
      "text/plain": [
       "         customerID  customerAge\n",
       "count  2.000000e+03   2000.00000\n",
       "mean   5.439564e+07     53.63850\n",
       "std    2.618454e+07     15.99155\n",
       "min    1.005437e+07     20.00000\n",
       "25%    3.153297e+07     42.75000\n",
       "50%    5.343850e+07     55.00000\n",
       "75%    7.801902e+07     66.00000\n",
       "max    9.994315e+07     80.00000"
      ]
     },
     "execution_count": 3,
     "metadata": {},
     "output_type": "execute_result"
    }
   ],
   "source": [
    "df_customer.info()\n",
    "df_customer.describe()"
   ]
  },
  {
   "cell_type": "code",
   "execution_count": 4,
   "metadata": {},
   "outputs": [
    {
     "name": "stdout",
     "output_type": "stream",
     "text": [
      "<class 'pandas.core.frame.DataFrame'>\n",
      "RangeIndex: 143860 entries, 0 to 143859\n",
      "Data columns (total 11 columns):\n",
      " #   Column                Non-Null Count   Dtype         \n",
      "---  ------                --------------   -----         \n",
      " 0   transactionReference  143860 non-null  object        \n",
      " 1   transactionDate       143860 non-null  datetime64[ns]\n",
      " 2   payeeAccountNumber    143860 non-null  int64         \n",
      " 3   payeeName             143860 non-null  object        \n",
      " 4   payeeIndustry         0 non-null       float64       \n",
      " 5   transactionCode       143860 non-null  object        \n",
      " 6   amount                143860 non-null  float64       \n",
      " 7   indicator             143860 non-null  object        \n",
      " 8   transferNotes         116478 non-null  object        \n",
      " 9   transactionCategory   143860 non-null  object        \n",
      " 10  customerID            143860 non-null  int64         \n",
      "dtypes: datetime64[ns](1), float64(2), int64(2), object(6)\n",
      "memory usage: 12.1+ MB\n"
     ]
    },
    {
     "data": {
      "text/html": [
       "<div>\n",
       "<style scoped>\n",
       "    .dataframe tbody tr th:only-of-type {\n",
       "        vertical-align: middle;\n",
       "    }\n",
       "\n",
       "    .dataframe tbody tr th {\n",
       "        vertical-align: top;\n",
       "    }\n",
       "\n",
       "    .dataframe thead th {\n",
       "        text-align: right;\n",
       "    }\n",
       "</style>\n",
       "<table border=\"1\" class=\"dataframe\">\n",
       "  <thead>\n",
       "    <tr style=\"text-align: right;\">\n",
       "      <th></th>\n",
       "      <th>payeeAccountNumber</th>\n",
       "      <th>payeeIndustry</th>\n",
       "      <th>amount</th>\n",
       "      <th>customerID</th>\n",
       "    </tr>\n",
       "  </thead>\n",
       "  <tbody>\n",
       "    <tr>\n",
       "      <th>count</th>\n",
       "      <td>1.438600e+05</td>\n",
       "      <td>0.0</td>\n",
       "      <td>143860.000000</td>\n",
       "      <td>1.438600e+05</td>\n",
       "    </tr>\n",
       "    <tr>\n",
       "      <th>mean</th>\n",
       "      <td>5.011971e+09</td>\n",
       "      <td>NaN</td>\n",
       "      <td>3966.444975</td>\n",
       "      <td>5.356556e+07</td>\n",
       "    </tr>\n",
       "    <tr>\n",
       "      <th>std</th>\n",
       "      <td>2.883764e+09</td>\n",
       "      <td>NaN</td>\n",
       "      <td>3095.450172</td>\n",
       "      <td>2.638608e+07</td>\n",
       "    </tr>\n",
       "    <tr>\n",
       "      <th>min</th>\n",
       "      <td>3.838200e+04</td>\n",
       "      <td>NaN</td>\n",
       "      <td>100.000000</td>\n",
       "      <td>1.005437e+07</td>\n",
       "    </tr>\n",
       "    <tr>\n",
       "      <th>25%</th>\n",
       "      <td>2.507307e+09</td>\n",
       "      <td>NaN</td>\n",
       "      <td>863.807500</td>\n",
       "      <td>3.015378e+07</td>\n",
       "    </tr>\n",
       "    <tr>\n",
       "      <th>50%</th>\n",
       "      <td>5.027602e+09</td>\n",
       "      <td>NaN</td>\n",
       "      <td>3500.000000</td>\n",
       "      <td>5.295283e+07</td>\n",
       "    </tr>\n",
       "    <tr>\n",
       "      <th>75%</th>\n",
       "      <td>7.503200e+09</td>\n",
       "      <td>NaN</td>\n",
       "      <td>6633.845000</td>\n",
       "      <td>7.782931e+07</td>\n",
       "    </tr>\n",
       "    <tr>\n",
       "      <th>max</th>\n",
       "      <td>9.999921e+09</td>\n",
       "      <td>NaN</td>\n",
       "      <td>9998.920000</td>\n",
       "      <td>9.994315e+07</td>\n",
       "    </tr>\n",
       "  </tbody>\n",
       "</table>\n",
       "</div>"
      ],
      "text/plain": [
       "       payeeAccountNumber  payeeIndustry         amount    customerID\n",
       "count        1.438600e+05            0.0  143860.000000  1.438600e+05\n",
       "mean         5.011971e+09            NaN    3966.444975  5.356556e+07\n",
       "std          2.883764e+09            NaN    3095.450172  2.638608e+07\n",
       "min          3.838200e+04            NaN     100.000000  1.005437e+07\n",
       "25%          2.507307e+09            NaN     863.807500  3.015378e+07\n",
       "50%          5.027602e+09            NaN    3500.000000  5.295283e+07\n",
       "75%          7.503200e+09            NaN    6633.845000  7.782931e+07\n",
       "max          9.999921e+09            NaN    9998.920000  9.994315e+07"
      ]
     },
     "execution_count": 4,
     "metadata": {},
     "output_type": "execute_result"
    }
   ],
   "source": [
    "df_transactions.info()\n",
    "df_transactions.describe()"
   ]
  },
  {
   "attachments": {},
   "cell_type": "markdown",
   "metadata": {},
   "source": [
    "## Data Preparation"
   ]
  },
  {
   "cell_type": "code",
   "execution_count": 5,
   "metadata": {},
   "outputs": [
    {
     "data": {
      "text/plain": [
       "customerID                       False\n",
       "customerName                     False\n",
       "customerAge                      False\n",
       "customerGender                   False\n",
       "customerLocation                 False\n",
       "customerEducation                False\n",
       "customerIndustry                 False\n",
       "customerAuthorizedSignatories    False\n",
       "dtype: bool"
      ]
     },
     "execution_count": 5,
     "metadata": {},
     "output_type": "execute_result"
    }
   ],
   "source": [
    "df_customer[df_customer.duplicated()].any()"
   ]
  },
  {
   "cell_type": "code",
   "execution_count": 6,
   "metadata": {},
   "outputs": [
    {
     "data": {
      "text/plain": [
       "transactionReference    False\n",
       "transactionDate         False\n",
       "payeeAccountNumber      False\n",
       "payeeName               False\n",
       "payeeIndustry           False\n",
       "transactionCode         False\n",
       "amount                  False\n",
       "indicator               False\n",
       "transferNotes           False\n",
       "transactionCategory     False\n",
       "customerID              False\n",
       "dtype: bool"
      ]
     },
     "execution_count": 6,
     "metadata": {},
     "output_type": "execute_result"
    }
   ],
   "source": [
    "df_transactions[df_transactions.duplicated()].any()"
   ]
  },
  {
   "attachments": {},
   "cell_type": "markdown",
   "metadata": {},
   "source": [
    "## Data Cleaning"
   ]
  },
  {
   "cell_type": "code",
   "execution_count": 7,
   "metadata": {},
   "outputs": [],
   "source": [
    "#Data Cleaning for customers \n",
    "\n",
    "#Dropping Duplicates\n",
    "df_customer.drop_duplicates(inplace=True)\n",
    "generations = lambda age: 'Gen Z' if age <= 24 else 'Millennials' if age <= 40 else 'Gen X' if age <= 55 else 'Baby Boomers' if age <= 75 else 'Silent Generation'\n",
    "df_customer['customerGeneration'] = df_customer['customerAge'].apply(generations)\n",
    "state = lambda x: x.split(\",\")[-1].split()[0] if len(x.split(\",\")[-1].split()) == 2 else None\n",
    "df_customer['customerState'] = df_customer['customerLocation'].apply(state)\n",
    "\n",
    "#Data cleaning for transactions \n",
    "df_transactions.drop_duplicates(inplace=True)\n",
    "df_transactions = df_transactions[df_transactions['customerID'].isin(df_customer['customerID'])]\n",
    "df_transactions['amount'] = df_transactions['amount'].apply(abs)\n"
   ]
  },
  {
   "cell_type": "code",
   "execution_count": 8,
   "metadata": {},
   "outputs": [
    {
     "data": {
      "text/plain": [
       "transactionReference    False\n",
       "transactionDate         False\n",
       "payeeAccountNumber      False\n",
       "payeeName               False\n",
       "payeeIndustry           False\n",
       "transactionCode         False\n",
       "amount                  False\n",
       "indicator               False\n",
       "transferNotes           False\n",
       "transactionCategory     False\n",
       "customerID              False\n",
       "dtype: bool"
      ]
     },
     "execution_count": 8,
     "metadata": {},
     "output_type": "execute_result"
    }
   ],
   "source": [
    "#Checking if duplicates have been dropped\n",
    "df_transactions[df_transactions.duplicated()].any()"
   ]
  },
  {
   "cell_type": "code",
   "execution_count": 9,
   "metadata": {},
   "outputs": [
    {
     "data": {
      "text/plain": [
       "2000"
      ]
     },
     "execution_count": 9,
     "metadata": {},
     "output_type": "execute_result"
    }
   ],
   "source": [
    "#Checking for the number of unique Customers\n",
    "df_transactions['customerID'].nunique()"
   ]
  },
  {
   "cell_type": "code",
   "execution_count": 10,
   "metadata": {},
   "outputs": [
    {
     "data": {
      "text/plain": [
       "(143860, 11)"
      ]
     },
     "execution_count": 10,
     "metadata": {},
     "output_type": "execute_result"
    }
   ],
   "source": [
    "# Checking for the total number of transaction records\n",
    "df_transactions.shape"
   ]
  },
  {
   "cell_type": "code",
   "execution_count": 11,
   "metadata": {},
   "outputs": [
    {
     "name": "stdout",
     "output_type": "stream",
     "text": [
      "Min:2021-04-24 00:00:00; max:2023-04-23 00:00:00\n"
     ]
    }
   ],
   "source": [
    "# Checking for the max and min InvoiceData inorder to calculate number of months of data available\n",
    "print('Min:{}; max:{}'.format(min(df_transactions.transactionDate),max(df_transactions.transactionDate)))"
   ]
  },
  {
   "attachments": {},
   "cell_type": "markdown",
   "metadata": {},
   "source": [
    "# Cohort Analysis\n",
    "\n",
    "Descriptive analytics tool used to group customers into mutually exclusive cohorts measured over time. Helps understand high level trends better by providing insight on metrics across products ans Customer life cycle."
   ]
  },
  {
   "attachments": {},
   "cell_type": "markdown",
   "metadata": {},
   "source": [
    "## Assign Acquisition Month Cohort to each Customer\n",
    "Assumption: Considert first transactionDate as acquisition date"
   ]
  },
  {
   "cell_type": "code",
   "execution_count": 12,
   "metadata": {},
   "outputs": [],
   "source": [
    "# Define a function that will parse the date, it truncates given date obect to the first day of the month\n",
    "def get_month(x): return dt.datetime(x.year, x.month, 1) \n",
    "\n",
    "def get_quarter_start(x):\n",
    "    quarter_start_month = ((x.month - 1) // 3) * 3 + 1\n",
    "    return dt.datetime(x.year, quarter_start_month, 1)\n",
    "\n",
    "def get_cohort_start_date(x):\n",
    "    cohort = config.get('GROUPING','cohort',\n",
    "                                 fallback='MONTHLY')\n",
    "    x = get_month(x) if cohort == 'MONTHLY' else get_quarter_start(x) if cohort == 'QUARTERLY' else x \n",
    "    return x \n",
    "\n",
    "# Apply get_month method to transactionDate and create acquisitionDate Column\n",
    "df_transactions['acquisitionDate'] = df_transactions['transactionDate'].apply(get_cohort_start_date) \n",
    "\n",
    "# Create groupby Obj with customerID & use acquisitionDate column for further Manipulation\n",
    "grouping = df_transactions.groupby('customerID')['acquisitionDate'] \n",
    "\n",
    "# Finally Transform with min function to assign the smallest acquisitionDate Value to each Customer in the DataSet\n",
    "df_transactions['cohort'] = grouping.transform('min')"
   ]
  },
  {
   "cell_type": "code",
   "execution_count": 13,
   "metadata": {},
   "outputs": [],
   "source": [
    "#Extract integer values from the data\n",
    "def get_date_int(data,column):\n",
    "    year=data[column].dt.year\n",
    "    month=data[column].dt.month\n",
    "    day=data[column].dt.day\n",
    "    return year, month, day"
   ]
  },
  {
   "cell_type": "code",
   "execution_count": 14,
   "metadata": {},
   "outputs": [
    {
     "data": {
      "text/html": [
       "<div>\n",
       "<style scoped>\n",
       "    .dataframe tbody tr th:only-of-type {\n",
       "        vertical-align: middle;\n",
       "    }\n",
       "\n",
       "    .dataframe tbody tr th {\n",
       "        vertical-align: top;\n",
       "    }\n",
       "\n",
       "    .dataframe thead th {\n",
       "        text-align: right;\n",
       "    }\n",
       "</style>\n",
       "<table border=\"1\" class=\"dataframe\">\n",
       "  <thead>\n",
       "    <tr style=\"text-align: right;\">\n",
       "      <th></th>\n",
       "      <th>transactionReference</th>\n",
       "      <th>transactionDate</th>\n",
       "      <th>payeeAccountNumber</th>\n",
       "      <th>payeeName</th>\n",
       "      <th>payeeIndustry</th>\n",
       "      <th>transactionCode</th>\n",
       "      <th>amount</th>\n",
       "      <th>indicator</th>\n",
       "      <th>transferNotes</th>\n",
       "      <th>transactionCategory</th>\n",
       "      <th>customerID</th>\n",
       "      <th>acquisitionDate</th>\n",
       "      <th>cohort</th>\n",
       "      <th>CohortIndex</th>\n",
       "    </tr>\n",
       "  </thead>\n",
       "  <tbody>\n",
       "    <tr>\n",
       "      <th>0</th>\n",
       "      <td>643f40764e524392a01399ee37ba88c1</td>\n",
       "      <td>2023-03-01</td>\n",
       "      <td>83407944</td>\n",
       "      <td>Vasquez Inc License Solutions Ltd</td>\n",
       "      <td>NaN</td>\n",
       "      <td>AXS</td>\n",
       "      <td>4195.13</td>\n",
       "      <td>DB</td>\n",
       "      <td>license fee</td>\n",
       "      <td>Licenses and insurance</td>\n",
       "      <td>57691954</td>\n",
       "      <td>2023-03-01</td>\n",
       "      <td>2021-05-01</td>\n",
       "      <td>23</td>\n",
       "    </tr>\n",
       "    <tr>\n",
       "      <th>1</th>\n",
       "      <td>0abf25481d924be0af38c6aeab8fd58b</td>\n",
       "      <td>2022-12-13</td>\n",
       "      <td>8994077921</td>\n",
       "      <td>Henderson Inc Dining Group</td>\n",
       "      <td>NaN</td>\n",
       "      <td>MB</td>\n",
       "      <td>6052.76</td>\n",
       "      <td>DB</td>\n",
       "      <td></td>\n",
       "      <td>Meals and entertainment</td>\n",
       "      <td>57691954</td>\n",
       "      <td>2022-12-01</td>\n",
       "      <td>2021-05-01</td>\n",
       "      <td>20</td>\n",
       "    </tr>\n",
       "    <tr>\n",
       "      <th>2</th>\n",
       "      <td>5a081469bcfa441abe1288a4c523cc98</td>\n",
       "      <td>2022-09-22</td>\n",
       "      <td>6125994629</td>\n",
       "      <td>Clements, Garcia and Hughes License Providers Ltd</td>\n",
       "      <td>NaN</td>\n",
       "      <td>IB</td>\n",
       "      <td>1832.56</td>\n",
       "      <td>DB</td>\n",
       "      <td>accounting</td>\n",
       "      <td>Licenses and insurance</td>\n",
       "      <td>57691954</td>\n",
       "      <td>2022-09-01</td>\n",
       "      <td>2021-05-01</td>\n",
       "      <td>17</td>\n",
       "    </tr>\n",
       "    <tr>\n",
       "      <th>3</th>\n",
       "      <td>7fde23bda94543809f21255a402c7fda</td>\n",
       "      <td>2022-09-01</td>\n",
       "      <td>2444672539</td>\n",
       "      <td>Grant, Reed and Jones Technologies and Sons</td>\n",
       "      <td>NaN</td>\n",
       "      <td>TT</td>\n",
       "      <td>6691.37</td>\n",
       "      <td>DB</td>\n",
       "      <td>NaN</td>\n",
       "      <td>IT expenses</td>\n",
       "      <td>57691954</td>\n",
       "      <td>2022-09-01</td>\n",
       "      <td>2021-05-01</td>\n",
       "      <td>17</td>\n",
       "    </tr>\n",
       "    <tr>\n",
       "      <th>4</th>\n",
       "      <td>c180344412e94c94b037a595588c2c68</td>\n",
       "      <td>2022-06-23</td>\n",
       "      <td>1993595922</td>\n",
       "      <td>Mr. Paul Stewart</td>\n",
       "      <td>NaN</td>\n",
       "      <td>FX</td>\n",
       "      <td>708.46</td>\n",
       "      <td>CR</td>\n",
       "      <td>miscellaneous</td>\n",
       "      <td>Other Income</td>\n",
       "      <td>57691954</td>\n",
       "      <td>2022-06-01</td>\n",
       "      <td>2021-05-01</td>\n",
       "      <td>14</td>\n",
       "    </tr>\n",
       "  </tbody>\n",
       "</table>\n",
       "</div>"
      ],
      "text/plain": [
       "               transactionReference transactionDate  payeeAccountNumber  \\\n",
       "0  643f40764e524392a01399ee37ba88c1      2023-03-01            83407944   \n",
       "1  0abf25481d924be0af38c6aeab8fd58b      2022-12-13          8994077921   \n",
       "2  5a081469bcfa441abe1288a4c523cc98      2022-09-22          6125994629   \n",
       "3  7fde23bda94543809f21255a402c7fda      2022-09-01          2444672539   \n",
       "4  c180344412e94c94b037a595588c2c68      2022-06-23          1993595922   \n",
       "\n",
       "                                           payeeName  payeeIndustry  \\\n",
       "0                  Vasquez Inc License Solutions Ltd            NaN   \n",
       "1                         Henderson Inc Dining Group            NaN   \n",
       "2  Clements, Garcia and Hughes License Providers Ltd            NaN   \n",
       "3        Grant, Reed and Jones Technologies and Sons            NaN   \n",
       "4                                   Mr. Paul Stewart            NaN   \n",
       "\n",
       "  transactionCode   amount indicator  transferNotes       transactionCategory  \\\n",
       "0             AXS  4195.13        DB    license fee    Licenses and insurance   \n",
       "1              MB  6052.76        DB                 Meals and entertainment    \n",
       "2              IB  1832.56        DB     accounting    Licenses and insurance   \n",
       "3              TT  6691.37        DB            NaN               IT expenses   \n",
       "4              FX   708.46        CR  miscellaneous              Other Income   \n",
       "\n",
       "   customerID acquisitionDate     cohort  CohortIndex  \n",
       "0    57691954      2023-03-01 2021-05-01           23  \n",
       "1    57691954      2022-12-01 2021-05-01           20  \n",
       "2    57691954      2022-09-01 2021-05-01           17  \n",
       "3    57691954      2022-09-01 2021-05-01           17  \n",
       "4    57691954      2022-06-01 2021-05-01           14  "
      ]
     },
     "execution_count": 14,
     "metadata": {},
     "output_type": "execute_result"
    }
   ],
   "source": [
    "# Assign Time Offset Value\n",
    "invoice_year, invoice_month, _=get_date_int(df_transactions,'acquisitionDate')\n",
    "cohort_year, cohort_month,_=get_date_int(df_transactions,'cohort')\n",
    "year_diff= invoice_year-cohort_year\n",
    "month_diff=invoice_month-cohort_month\n",
    "#+1 for first month to be marked as one instead of 0 for better interpretetation\n",
    "df_transactions['CohortIndex']= (year_diff*12) + (month_diff+1)\n",
    "#check if the new column has been added. CohortIndex\n",
    "df_transactions.head()"
   ]
  },
  {
   "cell_type": "code",
   "execution_count": 15,
   "metadata": {},
   "outputs": [
    {
     "name": "stdout",
     "output_type": "stream",
     "text": [
      "CohortIndex     1      2      3      4      5      6      7      8      9   \\\n",
      "cohort                                                                       \n",
      "2021-04-01   408.0  385.0  380.0  383.0  383.0  377.0  373.0  256.0  256.0   \n",
      "2021-05-01   258.0  218.0  221.0  222.0  218.0  183.0   44.0   44.0   44.0   \n",
      "2021-06-01    38.0   15.0   17.0   16.0   12.0    NaN    NaN    NaN    NaN   \n",
      "2021-07-01   713.0  681.0  682.0  684.0  672.0  677.0  676.0  673.0  679.0   \n",
      "2021-08-01    41.0   17.0   17.0   16.0   17.0   17.0   17.0   17.0   17.0   \n",
      "2021-09-01    39.0    NaN    NaN    NaN    NaN    NaN    NaN    NaN    NaN   \n",
      "2021-10-01   180.0  139.0  138.0  133.0  133.0  136.0  133.0  136.0  139.0   \n",
      "2021-11-01   172.0  143.0  135.0  132.0  140.0  139.0  138.0  135.0  142.0   \n",
      "2021-12-01    35.0    7.0    5.0    6.0    7.0    5.0    7.0    7.0    7.0   \n",
      "2022-01-01    41.0    NaN    NaN    NaN    NaN    NaN    NaN    NaN    NaN   \n",
      "2022-02-01    28.0    NaN    NaN    NaN    NaN    NaN    NaN    NaN    NaN   \n",
      "2022-03-01    28.0    NaN    NaN    NaN    NaN    NaN    NaN    NaN    NaN   \n",
      "2022-04-01    19.0    NaN    NaN    NaN    NaN    NaN    NaN    NaN    NaN   \n",
      "\n",
      "CohortIndex     10  ...     16     17     18     19     20     21     22  \\\n",
      "cohort              ...                                                    \n",
      "2021-04-01   256.0  ...  256.0  256.0  256.0  256.0  256.0  256.0  256.0   \n",
      "2021-05-01    44.0  ...   44.0   44.0   44.0   44.0   44.0   44.0   44.0   \n",
      "2021-06-01     NaN  ...    NaN    NaN    NaN    NaN    NaN    NaN    NaN   \n",
      "2021-07-01   678.0  ...  675.0  675.0  680.0  676.0  673.0  677.0  668.0   \n",
      "2021-08-01    17.0  ...   17.0   17.0   17.0   17.0   16.0   17.0    NaN   \n",
      "2021-09-01     NaN  ...    NaN    NaN    NaN    NaN    NaN    NaN    NaN   \n",
      "2021-10-01   138.0  ...  137.0  137.0  135.0  127.0    NaN    NaN    NaN   \n",
      "2021-11-01   140.0  ...  142.0  130.0  131.0    NaN    NaN    NaN    NaN   \n",
      "2021-12-01     7.0  ...    7.0    6.0    NaN    NaN    NaN    NaN    NaN   \n",
      "2022-01-01     NaN  ...    NaN    NaN    NaN    NaN    NaN    NaN    NaN   \n",
      "2022-02-01     NaN  ...    NaN    NaN    NaN    NaN    NaN    NaN    NaN   \n",
      "2022-03-01     NaN  ...    NaN    NaN    NaN    NaN    NaN    NaN    NaN   \n",
      "2022-04-01     NaN  ...    NaN    NaN    NaN    NaN    NaN    NaN    NaN   \n",
      "\n",
      "CohortIndex     23     24     25  \n",
      "cohort                            \n",
      "2021-04-01   256.0  256.0  255.0  \n",
      "2021-05-01    44.0   44.0    NaN  \n",
      "2021-06-01     NaN    NaN    NaN  \n",
      "2021-07-01     NaN    NaN    NaN  \n",
      "2021-08-01     NaN    NaN    NaN  \n",
      "2021-09-01     NaN    NaN    NaN  \n",
      "2021-10-01     NaN    NaN    NaN  \n",
      "2021-11-01     NaN    NaN    NaN  \n",
      "2021-12-01     NaN    NaN    NaN  \n",
      "2022-01-01     NaN    NaN    NaN  \n",
      "2022-02-01     NaN    NaN    NaN  \n",
      "2022-03-01     NaN    NaN    NaN  \n",
      "2022-04-01     NaN    NaN    NaN  \n",
      "\n",
      "[13 rows x 25 columns]\n"
     ]
    }
   ],
   "source": [
    "grouping = df_transactions.groupby(['cohort', 'CohortIndex'])\n",
    "\n",
    "cohort_data = grouping['customerID'].apply(pd.Series.nunique)\n",
    "\n",
    "cohort_data = cohort_data.reset_index()\n",
    "\n",
    "cohort_counts = cohort_data.pivot(index='cohort',\n",
    "                                 columns='CohortIndex',\n",
    "                                 values='customerID')\n",
    "print(cohort_counts)"
   ]
  },
  {
   "cell_type": "code",
   "execution_count": 16,
   "metadata": {},
   "outputs": [
    {
     "data": {
      "text/html": [
       "<div>\n",
       "<style scoped>\n",
       "    .dataframe tbody tr th:only-of-type {\n",
       "        vertical-align: middle;\n",
       "    }\n",
       "\n",
       "    .dataframe tbody tr th {\n",
       "        vertical-align: top;\n",
       "    }\n",
       "\n",
       "    .dataframe thead th {\n",
       "        text-align: right;\n",
       "    }\n",
       "</style>\n",
       "<table border=\"1\" class=\"dataframe\">\n",
       "  <thead>\n",
       "    <tr style=\"text-align: right;\">\n",
       "      <th>CohortIndex</th>\n",
       "      <th>1</th>\n",
       "      <th>2</th>\n",
       "      <th>3</th>\n",
       "      <th>4</th>\n",
       "      <th>5</th>\n",
       "      <th>6</th>\n",
       "      <th>7</th>\n",
       "      <th>8</th>\n",
       "      <th>9</th>\n",
       "      <th>10</th>\n",
       "      <th>...</th>\n",
       "      <th>16</th>\n",
       "      <th>17</th>\n",
       "      <th>18</th>\n",
       "      <th>19</th>\n",
       "      <th>20</th>\n",
       "      <th>21</th>\n",
       "      <th>22</th>\n",
       "      <th>23</th>\n",
       "      <th>24</th>\n",
       "      <th>25</th>\n",
       "    </tr>\n",
       "  </thead>\n",
       "  <tbody>\n",
       "    <tr>\n",
       "      <th>2021-04-01</th>\n",
       "      <td>100.0</td>\n",
       "      <td>94.4</td>\n",
       "      <td>93.1</td>\n",
       "      <td>93.9</td>\n",
       "      <td>93.9</td>\n",
       "      <td>92.4</td>\n",
       "      <td>91.4</td>\n",
       "      <td>62.7</td>\n",
       "      <td>62.7</td>\n",
       "      <td>62.7</td>\n",
       "      <td>...</td>\n",
       "      <td>62.7</td>\n",
       "      <td>62.7</td>\n",
       "      <td>62.7</td>\n",
       "      <td>62.7</td>\n",
       "      <td>62.7</td>\n",
       "      <td>62.7</td>\n",
       "      <td>62.7</td>\n",
       "      <td>62.7</td>\n",
       "      <td>62.7</td>\n",
       "      <td>62.5</td>\n",
       "    </tr>\n",
       "    <tr>\n",
       "      <th>2021-05-01</th>\n",
       "      <td>100.0</td>\n",
       "      <td>84.5</td>\n",
       "      <td>85.7</td>\n",
       "      <td>86.0</td>\n",
       "      <td>84.5</td>\n",
       "      <td>70.9</td>\n",
       "      <td>17.1</td>\n",
       "      <td>17.1</td>\n",
       "      <td>17.1</td>\n",
       "      <td>17.1</td>\n",
       "      <td>...</td>\n",
       "      <td>17.1</td>\n",
       "      <td>17.1</td>\n",
       "      <td>17.1</td>\n",
       "      <td>17.1</td>\n",
       "      <td>17.1</td>\n",
       "      <td>17.1</td>\n",
       "      <td>17.1</td>\n",
       "      <td>17.1</td>\n",
       "      <td>17.1</td>\n",
       "      <td>NaN</td>\n",
       "    </tr>\n",
       "    <tr>\n",
       "      <th>2021-06-01</th>\n",
       "      <td>100.0</td>\n",
       "      <td>39.5</td>\n",
       "      <td>44.7</td>\n",
       "      <td>42.1</td>\n",
       "      <td>31.6</td>\n",
       "      <td>NaN</td>\n",
       "      <td>NaN</td>\n",
       "      <td>NaN</td>\n",
       "      <td>NaN</td>\n",
       "      <td>NaN</td>\n",
       "      <td>...</td>\n",
       "      <td>NaN</td>\n",
       "      <td>NaN</td>\n",
       "      <td>NaN</td>\n",
       "      <td>NaN</td>\n",
       "      <td>NaN</td>\n",
       "      <td>NaN</td>\n",
       "      <td>NaN</td>\n",
       "      <td>NaN</td>\n",
       "      <td>NaN</td>\n",
       "      <td>NaN</td>\n",
       "    </tr>\n",
       "    <tr>\n",
       "      <th>2021-07-01</th>\n",
       "      <td>100.0</td>\n",
       "      <td>95.5</td>\n",
       "      <td>95.7</td>\n",
       "      <td>95.9</td>\n",
       "      <td>94.2</td>\n",
       "      <td>95.0</td>\n",
       "      <td>94.8</td>\n",
       "      <td>94.4</td>\n",
       "      <td>95.2</td>\n",
       "      <td>95.1</td>\n",
       "      <td>...</td>\n",
       "      <td>94.7</td>\n",
       "      <td>94.7</td>\n",
       "      <td>95.4</td>\n",
       "      <td>94.8</td>\n",
       "      <td>94.4</td>\n",
       "      <td>95.0</td>\n",
       "      <td>93.7</td>\n",
       "      <td>NaN</td>\n",
       "      <td>NaN</td>\n",
       "      <td>NaN</td>\n",
       "    </tr>\n",
       "    <tr>\n",
       "      <th>2021-08-01</th>\n",
       "      <td>100.0</td>\n",
       "      <td>41.5</td>\n",
       "      <td>41.5</td>\n",
       "      <td>39.0</td>\n",
       "      <td>41.5</td>\n",
       "      <td>41.5</td>\n",
       "      <td>41.5</td>\n",
       "      <td>41.5</td>\n",
       "      <td>41.5</td>\n",
       "      <td>41.5</td>\n",
       "      <td>...</td>\n",
       "      <td>41.5</td>\n",
       "      <td>41.5</td>\n",
       "      <td>41.5</td>\n",
       "      <td>41.5</td>\n",
       "      <td>39.0</td>\n",
       "      <td>41.5</td>\n",
       "      <td>NaN</td>\n",
       "      <td>NaN</td>\n",
       "      <td>NaN</td>\n",
       "      <td>NaN</td>\n",
       "    </tr>\n",
       "    <tr>\n",
       "      <th>2021-09-01</th>\n",
       "      <td>100.0</td>\n",
       "      <td>NaN</td>\n",
       "      <td>NaN</td>\n",
       "      <td>NaN</td>\n",
       "      <td>NaN</td>\n",
       "      <td>NaN</td>\n",
       "      <td>NaN</td>\n",
       "      <td>NaN</td>\n",
       "      <td>NaN</td>\n",
       "      <td>NaN</td>\n",
       "      <td>...</td>\n",
       "      <td>NaN</td>\n",
       "      <td>NaN</td>\n",
       "      <td>NaN</td>\n",
       "      <td>NaN</td>\n",
       "      <td>NaN</td>\n",
       "      <td>NaN</td>\n",
       "      <td>NaN</td>\n",
       "      <td>NaN</td>\n",
       "      <td>NaN</td>\n",
       "      <td>NaN</td>\n",
       "    </tr>\n",
       "    <tr>\n",
       "      <th>2021-10-01</th>\n",
       "      <td>100.0</td>\n",
       "      <td>77.2</td>\n",
       "      <td>76.7</td>\n",
       "      <td>73.9</td>\n",
       "      <td>73.9</td>\n",
       "      <td>75.6</td>\n",
       "      <td>73.9</td>\n",
       "      <td>75.6</td>\n",
       "      <td>77.2</td>\n",
       "      <td>76.7</td>\n",
       "      <td>...</td>\n",
       "      <td>76.1</td>\n",
       "      <td>76.1</td>\n",
       "      <td>75.0</td>\n",
       "      <td>70.6</td>\n",
       "      <td>NaN</td>\n",
       "      <td>NaN</td>\n",
       "      <td>NaN</td>\n",
       "      <td>NaN</td>\n",
       "      <td>NaN</td>\n",
       "      <td>NaN</td>\n",
       "    </tr>\n",
       "    <tr>\n",
       "      <th>2021-11-01</th>\n",
       "      <td>100.0</td>\n",
       "      <td>83.1</td>\n",
       "      <td>78.5</td>\n",
       "      <td>76.7</td>\n",
       "      <td>81.4</td>\n",
       "      <td>80.8</td>\n",
       "      <td>80.2</td>\n",
       "      <td>78.5</td>\n",
       "      <td>82.6</td>\n",
       "      <td>81.4</td>\n",
       "      <td>...</td>\n",
       "      <td>82.6</td>\n",
       "      <td>75.6</td>\n",
       "      <td>76.2</td>\n",
       "      <td>NaN</td>\n",
       "      <td>NaN</td>\n",
       "      <td>NaN</td>\n",
       "      <td>NaN</td>\n",
       "      <td>NaN</td>\n",
       "      <td>NaN</td>\n",
       "      <td>NaN</td>\n",
       "    </tr>\n",
       "    <tr>\n",
       "      <th>2021-12-01</th>\n",
       "      <td>100.0</td>\n",
       "      <td>20.0</td>\n",
       "      <td>14.3</td>\n",
       "      <td>17.1</td>\n",
       "      <td>20.0</td>\n",
       "      <td>14.3</td>\n",
       "      <td>20.0</td>\n",
       "      <td>20.0</td>\n",
       "      <td>20.0</td>\n",
       "      <td>20.0</td>\n",
       "      <td>...</td>\n",
       "      <td>20.0</td>\n",
       "      <td>17.1</td>\n",
       "      <td>NaN</td>\n",
       "      <td>NaN</td>\n",
       "      <td>NaN</td>\n",
       "      <td>NaN</td>\n",
       "      <td>NaN</td>\n",
       "      <td>NaN</td>\n",
       "      <td>NaN</td>\n",
       "      <td>NaN</td>\n",
       "    </tr>\n",
       "    <tr>\n",
       "      <th>2022-01-01</th>\n",
       "      <td>100.0</td>\n",
       "      <td>NaN</td>\n",
       "      <td>NaN</td>\n",
       "      <td>NaN</td>\n",
       "      <td>NaN</td>\n",
       "      <td>NaN</td>\n",
       "      <td>NaN</td>\n",
       "      <td>NaN</td>\n",
       "      <td>NaN</td>\n",
       "      <td>NaN</td>\n",
       "      <td>...</td>\n",
       "      <td>NaN</td>\n",
       "      <td>NaN</td>\n",
       "      <td>NaN</td>\n",
       "      <td>NaN</td>\n",
       "      <td>NaN</td>\n",
       "      <td>NaN</td>\n",
       "      <td>NaN</td>\n",
       "      <td>NaN</td>\n",
       "      <td>NaN</td>\n",
       "      <td>NaN</td>\n",
       "    </tr>\n",
       "    <tr>\n",
       "      <th>2022-02-01</th>\n",
       "      <td>100.0</td>\n",
       "      <td>NaN</td>\n",
       "      <td>NaN</td>\n",
       "      <td>NaN</td>\n",
       "      <td>NaN</td>\n",
       "      <td>NaN</td>\n",
       "      <td>NaN</td>\n",
       "      <td>NaN</td>\n",
       "      <td>NaN</td>\n",
       "      <td>NaN</td>\n",
       "      <td>...</td>\n",
       "      <td>NaN</td>\n",
       "      <td>NaN</td>\n",
       "      <td>NaN</td>\n",
       "      <td>NaN</td>\n",
       "      <td>NaN</td>\n",
       "      <td>NaN</td>\n",
       "      <td>NaN</td>\n",
       "      <td>NaN</td>\n",
       "      <td>NaN</td>\n",
       "      <td>NaN</td>\n",
       "    </tr>\n",
       "    <tr>\n",
       "      <th>2022-03-01</th>\n",
       "      <td>100.0</td>\n",
       "      <td>NaN</td>\n",
       "      <td>NaN</td>\n",
       "      <td>NaN</td>\n",
       "      <td>NaN</td>\n",
       "      <td>NaN</td>\n",
       "      <td>NaN</td>\n",
       "      <td>NaN</td>\n",
       "      <td>NaN</td>\n",
       "      <td>NaN</td>\n",
       "      <td>...</td>\n",
       "      <td>NaN</td>\n",
       "      <td>NaN</td>\n",
       "      <td>NaN</td>\n",
       "      <td>NaN</td>\n",
       "      <td>NaN</td>\n",
       "      <td>NaN</td>\n",
       "      <td>NaN</td>\n",
       "      <td>NaN</td>\n",
       "      <td>NaN</td>\n",
       "      <td>NaN</td>\n",
       "    </tr>\n",
       "    <tr>\n",
       "      <th>2022-04-01</th>\n",
       "      <td>100.0</td>\n",
       "      <td>NaN</td>\n",
       "      <td>NaN</td>\n",
       "      <td>NaN</td>\n",
       "      <td>NaN</td>\n",
       "      <td>NaN</td>\n",
       "      <td>NaN</td>\n",
       "      <td>NaN</td>\n",
       "      <td>NaN</td>\n",
       "      <td>NaN</td>\n",
       "      <td>...</td>\n",
       "      <td>NaN</td>\n",
       "      <td>NaN</td>\n",
       "      <td>NaN</td>\n",
       "      <td>NaN</td>\n",
       "      <td>NaN</td>\n",
       "      <td>NaN</td>\n",
       "      <td>NaN</td>\n",
       "      <td>NaN</td>\n",
       "      <td>NaN</td>\n",
       "      <td>NaN</td>\n",
       "    </tr>\n",
       "  </tbody>\n",
       "</table>\n",
       "<p>13 rows × 25 columns</p>\n",
       "</div>"
      ],
      "text/plain": [
       "CohortIndex     1     2     3     4     5     6     7     8     9     10  ...  \\\n",
       "2021-04-01   100.0  94.4  93.1  93.9  93.9  92.4  91.4  62.7  62.7  62.7  ...   \n",
       "2021-05-01   100.0  84.5  85.7  86.0  84.5  70.9  17.1  17.1  17.1  17.1  ...   \n",
       "2021-06-01   100.0  39.5  44.7  42.1  31.6   NaN   NaN   NaN   NaN   NaN  ...   \n",
       "2021-07-01   100.0  95.5  95.7  95.9  94.2  95.0  94.8  94.4  95.2  95.1  ...   \n",
       "2021-08-01   100.0  41.5  41.5  39.0  41.5  41.5  41.5  41.5  41.5  41.5  ...   \n",
       "2021-09-01   100.0   NaN   NaN   NaN   NaN   NaN   NaN   NaN   NaN   NaN  ...   \n",
       "2021-10-01   100.0  77.2  76.7  73.9  73.9  75.6  73.9  75.6  77.2  76.7  ...   \n",
       "2021-11-01   100.0  83.1  78.5  76.7  81.4  80.8  80.2  78.5  82.6  81.4  ...   \n",
       "2021-12-01   100.0  20.0  14.3  17.1  20.0  14.3  20.0  20.0  20.0  20.0  ...   \n",
       "2022-01-01   100.0   NaN   NaN   NaN   NaN   NaN   NaN   NaN   NaN   NaN  ...   \n",
       "2022-02-01   100.0   NaN   NaN   NaN   NaN   NaN   NaN   NaN   NaN   NaN  ...   \n",
       "2022-03-01   100.0   NaN   NaN   NaN   NaN   NaN   NaN   NaN   NaN   NaN  ...   \n",
       "2022-04-01   100.0   NaN   NaN   NaN   NaN   NaN   NaN   NaN   NaN   NaN  ...   \n",
       "\n",
       "CohortIndex    16    17    18    19    20    21    22    23    24    25  \n",
       "2021-04-01   62.7  62.7  62.7  62.7  62.7  62.7  62.7  62.7  62.7  62.5  \n",
       "2021-05-01   17.1  17.1  17.1  17.1  17.1  17.1  17.1  17.1  17.1   NaN  \n",
       "2021-06-01    NaN   NaN   NaN   NaN   NaN   NaN   NaN   NaN   NaN   NaN  \n",
       "2021-07-01   94.7  94.7  95.4  94.8  94.4  95.0  93.7   NaN   NaN   NaN  \n",
       "2021-08-01   41.5  41.5  41.5  41.5  39.0  41.5   NaN   NaN   NaN   NaN  \n",
       "2021-09-01    NaN   NaN   NaN   NaN   NaN   NaN   NaN   NaN   NaN   NaN  \n",
       "2021-10-01   76.1  76.1  75.0  70.6   NaN   NaN   NaN   NaN   NaN   NaN  \n",
       "2021-11-01   82.6  75.6  76.2   NaN   NaN   NaN   NaN   NaN   NaN   NaN  \n",
       "2021-12-01   20.0  17.1   NaN   NaN   NaN   NaN   NaN   NaN   NaN   NaN  \n",
       "2022-01-01    NaN   NaN   NaN   NaN   NaN   NaN   NaN   NaN   NaN   NaN  \n",
       "2022-02-01    NaN   NaN   NaN   NaN   NaN   NaN   NaN   NaN   NaN   NaN  \n",
       "2022-03-01    NaN   NaN   NaN   NaN   NaN   NaN   NaN   NaN   NaN   NaN  \n",
       "2022-04-01    NaN   NaN   NaN   NaN   NaN   NaN   NaN   NaN   NaN   NaN  \n",
       "\n",
       "[13 rows x 25 columns]"
      ]
     },
     "execution_count": 16,
     "metadata": {},
     "output_type": "execute_result"
    }
   ],
   "source": [
    "cohort_sizes = cohort_counts.iloc[:,0]\n",
    "retention = cohort_counts.divide(cohort_sizes, axis=0)\n",
    "retention.index=retention.index.date\n",
    "retention.round(3)*100"
   ]
  },
  {
   "cell_type": "code",
   "execution_count": 17,
   "metadata": {},
   "outputs": [
    {
     "data": {
      "application/vnd.plotly.v1+json": {
       "config": {
        "plotlyServerURL": "https://plot.ly"
       },
       "data": [
        {
         "coloraxis": "coloraxis",
         "hovertemplate": "x: %{x}<br>y: %{y}<br>color: %{z}<extra></extra>",
         "name": "0",
         "texttemplate": "%{z}",
         "type": "heatmap",
         "x": [
          1,
          2,
          3,
          4,
          5,
          6,
          7,
          8,
          9,
          10,
          11,
          12,
          13,
          14,
          15,
          16,
          17,
          18,
          19,
          20,
          21,
          22,
          23,
          24,
          25
         ],
         "xaxis": "x",
         "y": [
          "2021-04-01",
          "2021-05-01",
          "2021-06-01",
          "2021-07-01",
          "2021-08-01",
          "2021-09-01",
          "2021-10-01",
          "2021-11-01",
          "2021-12-01",
          "2022-01-01",
          "2022-02-01",
          "2022-03-01",
          "2022-04-01"
         ],
         "yaxis": "y",
         "z": [
          [
           100,
           94,
           93,
           94,
           94,
           92,
           91,
           63,
           63,
           63,
           63,
           63,
           63,
           63,
           63,
           63,
           63,
           63,
           63,
           63,
           63,
           63,
           63,
           63,
           62
          ],
          [
           100,
           84,
           86,
           86,
           84,
           71,
           17,
           17,
           17,
           17,
           17,
           17,
           17,
           17,
           17,
           17,
           17,
           17,
           17,
           17,
           17,
           17,
           17,
           17,
           0
          ],
          [
           100,
           39,
           45,
           42,
           32,
           0,
           0,
           0,
           0,
           0,
           0,
           0,
           0,
           0,
           0,
           0,
           0,
           0,
           0,
           0,
           0,
           0,
           0,
           0,
           0
          ],
          [
           100,
           96,
           96,
           96,
           94,
           95,
           95,
           94,
           95,
           95,
           95,
           94,
           95,
           94,
           95,
           95,
           95,
           95,
           95,
           94,
           95,
           94,
           0,
           0,
           0
          ],
          [
           100,
           41,
           41,
           39,
           41,
           41,
           41,
           41,
           41,
           41,
           39,
           41,
           41,
           41,
           41,
           41,
           41,
           41,
           41,
           39,
           41,
           0,
           0,
           0,
           0
          ],
          [
           100,
           0,
           0,
           0,
           0,
           0,
           0,
           0,
           0,
           0,
           0,
           0,
           0,
           0,
           0,
           0,
           0,
           0,
           0,
           0,
           0,
           0,
           0,
           0,
           0
          ],
          [
           100,
           77,
           77,
           74,
           74,
           76,
           74,
           76,
           77,
           77,
           78,
           79,
           74,
           76,
           76,
           76,
           76,
           75,
           71,
           0,
           0,
           0,
           0,
           0,
           0
          ],
          [
           100,
           83,
           78,
           77,
           81,
           81,
           80,
           78,
           83,
           81,
           82,
           79,
           77,
           79,
           80,
           83,
           76,
           76,
           0,
           0,
           0,
           0,
           0,
           0,
           0
          ],
          [
           100,
           20,
           14,
           17,
           20,
           14,
           20,
           20,
           20,
           20,
           20,
           20,
           20,
           20,
           17,
           20,
           17,
           0,
           0,
           0,
           0,
           0,
           0,
           0,
           0
          ],
          [
           100,
           0,
           0,
           0,
           0,
           0,
           0,
           0,
           0,
           0,
           0,
           0,
           0,
           0,
           0,
           0,
           0,
           0,
           0,
           0,
           0,
           0,
           0,
           0,
           0
          ],
          [
           100,
           0,
           0,
           0,
           0,
           0,
           0,
           0,
           0,
           0,
           0,
           0,
           0,
           0,
           0,
           0,
           0,
           0,
           0,
           0,
           0,
           0,
           0,
           0,
           0
          ],
          [
           100,
           0,
           0,
           0,
           0,
           0,
           0,
           0,
           0,
           0,
           0,
           0,
           0,
           0,
           0,
           0,
           0,
           0,
           0,
           0,
           0,
           0,
           0,
           0,
           0
          ],
          [
           100,
           0,
           0,
           0,
           0,
           0,
           0,
           0,
           0,
           0,
           0,
           0,
           0,
           0,
           0,
           0,
           0,
           0,
           0,
           0,
           0,
           0,
           0,
           0,
           0
          ]
         ]
        }
       ],
       "layout": {
        "coloraxis": {
         "colorbar": {
          "title": {
           "text": "% Activity"
          }
         },
         "colorscale": [
          [
           0,
           "rgb(255,255,229)"
          ],
          [
           0.125,
           "rgb(247,252,185)"
          ],
          [
           0.25,
           "rgb(217,240,163)"
          ],
          [
           0.375,
           "rgb(173,221,142)"
          ],
          [
           0.5,
           "rgb(120,198,121)"
          ],
          [
           0.625,
           "rgb(65,171,93)"
          ],
          [
           0.75,
           "rgb(35,132,67)"
          ],
          [
           0.875,
           "rgb(0,104,55)"
          ],
          [
           1,
           "rgb(0,69,41)"
          ]
         ]
        },
        "height": 500,
        "template": {
         "data": {
          "bar": [
           {
            "error_x": {
             "color": "#2a3f5f"
            },
            "error_y": {
             "color": "#2a3f5f"
            },
            "marker": {
             "line": {
              "color": "#E5ECF6",
              "width": 0.5
             },
             "pattern": {
              "fillmode": "overlay",
              "size": 10,
              "solidity": 0.2
             }
            },
            "type": "bar"
           }
          ],
          "barpolar": [
           {
            "marker": {
             "line": {
              "color": "#E5ECF6",
              "width": 0.5
             },
             "pattern": {
              "fillmode": "overlay",
              "size": 10,
              "solidity": 0.2
             }
            },
            "type": "barpolar"
           }
          ],
          "carpet": [
           {
            "aaxis": {
             "endlinecolor": "#2a3f5f",
             "gridcolor": "white",
             "linecolor": "white",
             "minorgridcolor": "white",
             "startlinecolor": "#2a3f5f"
            },
            "baxis": {
             "endlinecolor": "#2a3f5f",
             "gridcolor": "white",
             "linecolor": "white",
             "minorgridcolor": "white",
             "startlinecolor": "#2a3f5f"
            },
            "type": "carpet"
           }
          ],
          "choropleth": [
           {
            "colorbar": {
             "outlinewidth": 0,
             "ticks": ""
            },
            "type": "choropleth"
           }
          ],
          "contour": [
           {
            "colorbar": {
             "outlinewidth": 0,
             "ticks": ""
            },
            "colorscale": [
             [
              0,
              "#0d0887"
             ],
             [
              0.1111111111111111,
              "#46039f"
             ],
             [
              0.2222222222222222,
              "#7201a8"
             ],
             [
              0.3333333333333333,
              "#9c179e"
             ],
             [
              0.4444444444444444,
              "#bd3786"
             ],
             [
              0.5555555555555556,
              "#d8576b"
             ],
             [
              0.6666666666666666,
              "#ed7953"
             ],
             [
              0.7777777777777778,
              "#fb9f3a"
             ],
             [
              0.8888888888888888,
              "#fdca26"
             ],
             [
              1,
              "#f0f921"
             ]
            ],
            "type": "contour"
           }
          ],
          "contourcarpet": [
           {
            "colorbar": {
             "outlinewidth": 0,
             "ticks": ""
            },
            "type": "contourcarpet"
           }
          ],
          "heatmap": [
           {
            "colorbar": {
             "outlinewidth": 0,
             "ticks": ""
            },
            "colorscale": [
             [
              0,
              "#0d0887"
             ],
             [
              0.1111111111111111,
              "#46039f"
             ],
             [
              0.2222222222222222,
              "#7201a8"
             ],
             [
              0.3333333333333333,
              "#9c179e"
             ],
             [
              0.4444444444444444,
              "#bd3786"
             ],
             [
              0.5555555555555556,
              "#d8576b"
             ],
             [
              0.6666666666666666,
              "#ed7953"
             ],
             [
              0.7777777777777778,
              "#fb9f3a"
             ],
             [
              0.8888888888888888,
              "#fdca26"
             ],
             [
              1,
              "#f0f921"
             ]
            ],
            "type": "heatmap"
           }
          ],
          "heatmapgl": [
           {
            "colorbar": {
             "outlinewidth": 0,
             "ticks": ""
            },
            "colorscale": [
             [
              0,
              "#0d0887"
             ],
             [
              0.1111111111111111,
              "#46039f"
             ],
             [
              0.2222222222222222,
              "#7201a8"
             ],
             [
              0.3333333333333333,
              "#9c179e"
             ],
             [
              0.4444444444444444,
              "#bd3786"
             ],
             [
              0.5555555555555556,
              "#d8576b"
             ],
             [
              0.6666666666666666,
              "#ed7953"
             ],
             [
              0.7777777777777778,
              "#fb9f3a"
             ],
             [
              0.8888888888888888,
              "#fdca26"
             ],
             [
              1,
              "#f0f921"
             ]
            ],
            "type": "heatmapgl"
           }
          ],
          "histogram": [
           {
            "marker": {
             "pattern": {
              "fillmode": "overlay",
              "size": 10,
              "solidity": 0.2
             }
            },
            "type": "histogram"
           }
          ],
          "histogram2d": [
           {
            "colorbar": {
             "outlinewidth": 0,
             "ticks": ""
            },
            "colorscale": [
             [
              0,
              "#0d0887"
             ],
             [
              0.1111111111111111,
              "#46039f"
             ],
             [
              0.2222222222222222,
              "#7201a8"
             ],
             [
              0.3333333333333333,
              "#9c179e"
             ],
             [
              0.4444444444444444,
              "#bd3786"
             ],
             [
              0.5555555555555556,
              "#d8576b"
             ],
             [
              0.6666666666666666,
              "#ed7953"
             ],
             [
              0.7777777777777778,
              "#fb9f3a"
             ],
             [
              0.8888888888888888,
              "#fdca26"
             ],
             [
              1,
              "#f0f921"
             ]
            ],
            "type": "histogram2d"
           }
          ],
          "histogram2dcontour": [
           {
            "colorbar": {
             "outlinewidth": 0,
             "ticks": ""
            },
            "colorscale": [
             [
              0,
              "#0d0887"
             ],
             [
              0.1111111111111111,
              "#46039f"
             ],
             [
              0.2222222222222222,
              "#7201a8"
             ],
             [
              0.3333333333333333,
              "#9c179e"
             ],
             [
              0.4444444444444444,
              "#bd3786"
             ],
             [
              0.5555555555555556,
              "#d8576b"
             ],
             [
              0.6666666666666666,
              "#ed7953"
             ],
             [
              0.7777777777777778,
              "#fb9f3a"
             ],
             [
              0.8888888888888888,
              "#fdca26"
             ],
             [
              1,
              "#f0f921"
             ]
            ],
            "type": "histogram2dcontour"
           }
          ],
          "mesh3d": [
           {
            "colorbar": {
             "outlinewidth": 0,
             "ticks": ""
            },
            "type": "mesh3d"
           }
          ],
          "parcoords": [
           {
            "line": {
             "colorbar": {
              "outlinewidth": 0,
              "ticks": ""
             }
            },
            "type": "parcoords"
           }
          ],
          "pie": [
           {
            "automargin": true,
            "type": "pie"
           }
          ],
          "scatter": [
           {
            "fillpattern": {
             "fillmode": "overlay",
             "size": 10,
             "solidity": 0.2
            },
            "type": "scatter"
           }
          ],
          "scatter3d": [
           {
            "line": {
             "colorbar": {
              "outlinewidth": 0,
              "ticks": ""
             }
            },
            "marker": {
             "colorbar": {
              "outlinewidth": 0,
              "ticks": ""
             }
            },
            "type": "scatter3d"
           }
          ],
          "scattercarpet": [
           {
            "marker": {
             "colorbar": {
              "outlinewidth": 0,
              "ticks": ""
             }
            },
            "type": "scattercarpet"
           }
          ],
          "scattergeo": [
           {
            "marker": {
             "colorbar": {
              "outlinewidth": 0,
              "ticks": ""
             }
            },
            "type": "scattergeo"
           }
          ],
          "scattergl": [
           {
            "marker": {
             "colorbar": {
              "outlinewidth": 0,
              "ticks": ""
             }
            },
            "type": "scattergl"
           }
          ],
          "scattermapbox": [
           {
            "marker": {
             "colorbar": {
              "outlinewidth": 0,
              "ticks": ""
             }
            },
            "type": "scattermapbox"
           }
          ],
          "scatterpolar": [
           {
            "marker": {
             "colorbar": {
              "outlinewidth": 0,
              "ticks": ""
             }
            },
            "type": "scatterpolar"
           }
          ],
          "scatterpolargl": [
           {
            "marker": {
             "colorbar": {
              "outlinewidth": 0,
              "ticks": ""
             }
            },
            "type": "scatterpolargl"
           }
          ],
          "scatterternary": [
           {
            "marker": {
             "colorbar": {
              "outlinewidth": 0,
              "ticks": ""
             }
            },
            "type": "scatterternary"
           }
          ],
          "surface": [
           {
            "colorbar": {
             "outlinewidth": 0,
             "ticks": ""
            },
            "colorscale": [
             [
              0,
              "#0d0887"
             ],
             [
              0.1111111111111111,
              "#46039f"
             ],
             [
              0.2222222222222222,
              "#7201a8"
             ],
             [
              0.3333333333333333,
              "#9c179e"
             ],
             [
              0.4444444444444444,
              "#bd3786"
             ],
             [
              0.5555555555555556,
              "#d8576b"
             ],
             [
              0.6666666666666666,
              "#ed7953"
             ],
             [
              0.7777777777777778,
              "#fb9f3a"
             ],
             [
              0.8888888888888888,
              "#fdca26"
             ],
             [
              1,
              "#f0f921"
             ]
            ],
            "type": "surface"
           }
          ],
          "table": [
           {
            "cells": {
             "fill": {
              "color": "#EBF0F8"
             },
             "line": {
              "color": "white"
             }
            },
            "header": {
             "fill": {
              "color": "#C8D4E3"
             },
             "line": {
              "color": "white"
             }
            },
            "type": "table"
           }
          ]
         },
         "layout": {
          "annotationdefaults": {
           "arrowcolor": "#2a3f5f",
           "arrowhead": 0,
           "arrowwidth": 1
          },
          "autotypenumbers": "strict",
          "coloraxis": {
           "colorbar": {
            "outlinewidth": 0,
            "ticks": ""
           }
          },
          "colorscale": {
           "diverging": [
            [
             0,
             "#8e0152"
            ],
            [
             0.1,
             "#c51b7d"
            ],
            [
             0.2,
             "#de77ae"
            ],
            [
             0.3,
             "#f1b6da"
            ],
            [
             0.4,
             "#fde0ef"
            ],
            [
             0.5,
             "#f7f7f7"
            ],
            [
             0.6,
             "#e6f5d0"
            ],
            [
             0.7,
             "#b8e186"
            ],
            [
             0.8,
             "#7fbc41"
            ],
            [
             0.9,
             "#4d9221"
            ],
            [
             1,
             "#276419"
            ]
           ],
           "sequential": [
            [
             0,
             "#0d0887"
            ],
            [
             0.1111111111111111,
             "#46039f"
            ],
            [
             0.2222222222222222,
             "#7201a8"
            ],
            [
             0.3333333333333333,
             "#9c179e"
            ],
            [
             0.4444444444444444,
             "#bd3786"
            ],
            [
             0.5555555555555556,
             "#d8576b"
            ],
            [
             0.6666666666666666,
             "#ed7953"
            ],
            [
             0.7777777777777778,
             "#fb9f3a"
            ],
            [
             0.8888888888888888,
             "#fdca26"
            ],
            [
             1,
             "#f0f921"
            ]
           ],
           "sequentialminus": [
            [
             0,
             "#0d0887"
            ],
            [
             0.1111111111111111,
             "#46039f"
            ],
            [
             0.2222222222222222,
             "#7201a8"
            ],
            [
             0.3333333333333333,
             "#9c179e"
            ],
            [
             0.4444444444444444,
             "#bd3786"
            ],
            [
             0.5555555555555556,
             "#d8576b"
            ],
            [
             0.6666666666666666,
             "#ed7953"
            ],
            [
             0.7777777777777778,
             "#fb9f3a"
            ],
            [
             0.8888888888888888,
             "#fdca26"
            ],
            [
             1,
             "#f0f921"
            ]
           ]
          },
          "colorway": [
           "#636efa",
           "#EF553B",
           "#00cc96",
           "#ab63fa",
           "#FFA15A",
           "#19d3f3",
           "#FF6692",
           "#B6E880",
           "#FF97FF",
           "#FECB52"
          ],
          "font": {
           "color": "#2a3f5f"
          },
          "geo": {
           "bgcolor": "white",
           "lakecolor": "white",
           "landcolor": "#E5ECF6",
           "showlakes": true,
           "showland": true,
           "subunitcolor": "white"
          },
          "hoverlabel": {
           "align": "left"
          },
          "hovermode": "closest",
          "mapbox": {
           "style": "light"
          },
          "paper_bgcolor": "white",
          "plot_bgcolor": "#E5ECF6",
          "polar": {
           "angularaxis": {
            "gridcolor": "white",
            "linecolor": "white",
            "ticks": ""
           },
           "bgcolor": "#E5ECF6",
           "radialaxis": {
            "gridcolor": "white",
            "linecolor": "white",
            "ticks": ""
           }
          },
          "scene": {
           "xaxis": {
            "backgroundcolor": "#E5ECF6",
            "gridcolor": "white",
            "gridwidth": 2,
            "linecolor": "white",
            "showbackground": true,
            "ticks": "",
            "zerolinecolor": "white"
           },
           "yaxis": {
            "backgroundcolor": "#E5ECF6",
            "gridcolor": "white",
            "gridwidth": 2,
            "linecolor": "white",
            "showbackground": true,
            "ticks": "",
            "zerolinecolor": "white"
           },
           "zaxis": {
            "backgroundcolor": "#E5ECF6",
            "gridcolor": "white",
            "gridwidth": 2,
            "linecolor": "white",
            "showbackground": true,
            "ticks": "",
            "zerolinecolor": "white"
           }
          },
          "shapedefaults": {
           "line": {
            "color": "#2a3f5f"
           }
          },
          "ternary": {
           "aaxis": {
            "gridcolor": "white",
            "linecolor": "white",
            "ticks": ""
           },
           "baxis": {
            "gridcolor": "white",
            "linecolor": "white",
            "ticks": ""
           },
           "bgcolor": "#E5ECF6",
           "caxis": {
            "gridcolor": "white",
            "linecolor": "white",
            "ticks": ""
           }
          },
          "title": {
           "x": 0.05
          },
          "xaxis": {
           "automargin": true,
           "gridcolor": "white",
           "linecolor": "white",
           "ticks": "",
           "title": {
            "standoff": 15
           },
           "zerolinecolor": "white",
           "zerolinewidth": 2
          },
          "yaxis": {
           "automargin": true,
           "gridcolor": "white",
           "linecolor": "white",
           "ticks": "",
           "title": {
            "standoff": 15
           },
           "zerolinecolor": "white",
           "zerolinewidth": 2
          }
         }
        },
        "title": {
         "text": "Retention Rates"
        },
        "width": 800,
        "xaxis": {
         "anchor": "y",
         "constrain": "domain",
         "domain": [
          0,
          1
         ],
         "scaleanchor": "y",
         "title": {
          "text": "Number of months"
         }
        },
        "yaxis": {
         "anchor": "x",
         "autorange": "reversed",
         "constrain": "domain",
         "domain": [
          0,
          1
         ],
         "title": {
          "text": "Cohort"
         }
        }
       }
      }
     },
     "metadata": {},
     "output_type": "display_data"
    }
   ],
   "source": [
    "import plotly.express as px\n",
    "\n",
    "values = retention.fillna(0).applymap(lambda x: round(x*100)).values\n",
    "\n",
    "fig = px.imshow(values,\n",
    "                title='Retention Rates',\n",
    "                x=list(retention.columns),\n",
    "                y=list(retention.index),\n",
    "                color_continuous_scale='ylgn',\n",
    "                text_auto=True,\n",
    "                height=400,\n",
    "                width=800\n",
    "                )\n",
    "\n",
    "fig.update_layout(xaxis_title='Number of months', yaxis_title='Cohort',\n",
    "                  coloraxis_colorbar=dict(title='% Activity'),\n",
    "                  height=500, width=800)\n",
    "\n",
    "fig.show()\n",
    "\n"
   ]
  },
  {
   "attachments": {},
   "cell_type": "markdown",
   "metadata": {},
   "source": [
    "# RFM Segmentation \n",
    "\n",
    "Recency (R) : Days Since Last Customer Transaction\n",
    "Frequency (F): Number of transacations in the last 12 months\n",
    "Monetary Value (M) : Total Spend in the last 12 months\n",
    "\n",
    "# RFM Data Preperation\n",
    "\n",
    " Pandas built-in function #qcut will be used to calculate percentiles\n",
    " \n",
    "To implement RFM Segmentation, we need to further process the data set in by the following steps:\n",
    "\n",
    "Recency : For each customer ID, calculate the days since the last transaction. Create a hypothetical date maximum Date +1 to make it seem as though we are working on the most recent data substract the max Date of transaction(Most recent date of transation) of the customer. However, usually the data used is Real time data and using the present date would be ideal. \n",
    "Frequency: Count the number of invoices per customer to derive the frequency and \n",
    "Monetary Data: Sum the amount of money a customer transacted and divide it by Frequency, to get the amount per transaction on average, that is the Monetary data."
   ]
  },
  {
   "cell_type": "code",
   "execution_count": 18,
   "metadata": {},
   "outputs": [],
   "source": [
    "# create hypothetical snapshot_day as if anlysisng the most recent data\n",
    "snapshot=max(df_transactions.transactionDate)+dt.timedelta(days=1)"
   ]
  },
  {
   "cell_type": "code",
   "execution_count": 19,
   "metadata": {},
   "outputs": [],
   "source": [
    "datamart=df_transactions.groupby(['customerID']).agg({\n",
    "    'transactionDate':lambda x:(snapshot-x.max()).days,\n",
    "    'transactionReference':'count',\n",
    "    'amount':'sum'\n",
    "})"
   ]
  },
  {
   "cell_type": "code",
   "execution_count": 20,
   "metadata": {},
   "outputs": [],
   "source": [
    "# Rename columns for easy interpretation\n",
    "datamart.rename(columns={'transactionDate':'Recency',\n",
    "                         'transactionReference': 'Frequency',\n",
    "                         'amount': 'MonetaryValue'},inplace=True\n",
    "\n",
    ")"
   ]
  },
  {
   "cell_type": "code",
   "execution_count": 21,
   "metadata": {},
   "outputs": [
    {
     "data": {
      "text/html": [
       "<div>\n",
       "<style scoped>\n",
       "    .dataframe tbody tr th:only-of-type {\n",
       "        vertical-align: middle;\n",
       "    }\n",
       "\n",
       "    .dataframe tbody tr th {\n",
       "        vertical-align: top;\n",
       "    }\n",
       "\n",
       "    .dataframe thead th {\n",
       "        text-align: right;\n",
       "    }\n",
       "</style>\n",
       "<table border=\"1\" class=\"dataframe\">\n",
       "  <thead>\n",
       "    <tr style=\"text-align: right;\">\n",
       "      <th></th>\n",
       "      <th>Recency</th>\n",
       "      <th>Frequency</th>\n",
       "      <th>MonetaryValue</th>\n",
       "    </tr>\n",
       "    <tr>\n",
       "      <th>customerID</th>\n",
       "      <th></th>\n",
       "      <th></th>\n",
       "      <th></th>\n",
       "    </tr>\n",
       "  </thead>\n",
       "  <tbody>\n",
       "    <tr>\n",
       "      <th>99880787</th>\n",
       "      <td>552</td>\n",
       "      <td>12</td>\n",
       "      <td>56171.64</td>\n",
       "    </tr>\n",
       "    <tr>\n",
       "      <th>99893556</th>\n",
       "      <td>2</td>\n",
       "      <td>48</td>\n",
       "      <td>156178.37</td>\n",
       "    </tr>\n",
       "    <tr>\n",
       "      <th>99900651</th>\n",
       "      <td>2</td>\n",
       "      <td>192</td>\n",
       "      <td>756029.01</td>\n",
       "    </tr>\n",
       "    <tr>\n",
       "      <th>99923008</th>\n",
       "      <td>7</td>\n",
       "      <td>48</td>\n",
       "      <td>192463.08</td>\n",
       "    </tr>\n",
       "    <tr>\n",
       "      <th>99943153</th>\n",
       "      <td>461</td>\n",
       "      <td>1</td>\n",
       "      <td>1081.64</td>\n",
       "    </tr>\n",
       "  </tbody>\n",
       "</table>\n",
       "</div>"
      ],
      "text/plain": [
       "            Recency  Frequency  MonetaryValue\n",
       "customerID                                   \n",
       "99880787        552         12       56171.64\n",
       "99893556          2         48      156178.37\n",
       "99900651          2        192      756029.01\n",
       "99923008          7         48      192463.08\n",
       "99943153        461          1        1081.64"
      ]
     },
     "execution_count": 21,
     "metadata": {},
     "output_type": "execute_result"
    }
   ],
   "source": [
    "#View of The RFM table\n",
    "datamart.tail()"
   ]
  },
  {
   "cell_type": "code",
   "execution_count": 22,
   "metadata": {},
   "outputs": [],
   "source": [
    "# Create Lables for Each RFM Metric:Create generator of values for labels with range function\n",
    "r_labels=list(range(5,0,-1))\n",
    "m_labels=range(1,6)\n",
    "f_labels=range(1,5)"
   ]
  },
  {
   "cell_type": "code",
   "execution_count": 23,
   "metadata": {},
   "outputs": [],
   "source": [
    "#Create quartile Values using qcut function\n",
    "r_quartiles=pd.qcut(datamart['Recency'],5,labels=r_labels)\n",
    "m_quartiles=pd.qcut(datamart['MonetaryValue'],5,labels=m_labels)\n",
    "f_quartiles=pd.qcut(datamart['Frequency'],4,labels=f_labels)"
   ]
  },
  {
   "cell_type": "code",
   "execution_count": 24,
   "metadata": {},
   "outputs": [],
   "source": [
    "#Assign R,F,M quartile values to customers\n",
    "datamart=datamart.assign(R=r_quartiles.values)\n",
    "datamart=datamart.assign(F=f_quartiles.values,M=m_quartiles.values)"
   ]
  },
  {
   "cell_type": "code",
   "execution_count": 25,
   "metadata": {},
   "outputs": [
    {
     "data": {
      "text/html": [
       "<div>\n",
       "<style scoped>\n",
       "    .dataframe tbody tr th:only-of-type {\n",
       "        vertical-align: middle;\n",
       "    }\n",
       "\n",
       "    .dataframe tbody tr th {\n",
       "        vertical-align: top;\n",
       "    }\n",
       "\n",
       "    .dataframe thead th {\n",
       "        text-align: right;\n",
       "    }\n",
       "</style>\n",
       "<table border=\"1\" class=\"dataframe\">\n",
       "  <thead>\n",
       "    <tr style=\"text-align: right;\">\n",
       "      <th></th>\n",
       "      <th>Recency</th>\n",
       "      <th>Frequency</th>\n",
       "      <th>MonetaryValue</th>\n",
       "      <th>R</th>\n",
       "      <th>F</th>\n",
       "      <th>M</th>\n",
       "    </tr>\n",
       "    <tr>\n",
       "      <th>customerID</th>\n",
       "      <th></th>\n",
       "      <th></th>\n",
       "      <th></th>\n",
       "      <th></th>\n",
       "      <th></th>\n",
       "      <th></th>\n",
       "    </tr>\n",
       "  </thead>\n",
       "  <tbody>\n",
       "    <tr>\n",
       "      <th>10054368</th>\n",
       "      <td>474</td>\n",
       "      <td>1</td>\n",
       "      <td>6359.90</td>\n",
       "      <td>2</td>\n",
       "      <td>1</td>\n",
       "      <td>1</td>\n",
       "    </tr>\n",
       "    <tr>\n",
       "      <th>10061286</th>\n",
       "      <td>37</td>\n",
       "      <td>48</td>\n",
       "      <td>233045.15</td>\n",
       "      <td>2</td>\n",
       "      <td>2</td>\n",
       "      <td>3</td>\n",
       "    </tr>\n",
       "    <tr>\n",
       "      <th>10387014</th>\n",
       "      <td>2</td>\n",
       "      <td>192</td>\n",
       "      <td>751096.67</td>\n",
       "      <td>5</td>\n",
       "      <td>4</td>\n",
       "      <td>5</td>\n",
       "    </tr>\n",
       "    <tr>\n",
       "      <th>10414616</th>\n",
       "      <td>705</td>\n",
       "      <td>1</td>\n",
       "      <td>7050.90</td>\n",
       "      <td>1</td>\n",
       "      <td>1</td>\n",
       "      <td>1</td>\n",
       "    </tr>\n",
       "    <tr>\n",
       "      <th>10428720</th>\n",
       "      <td>2</td>\n",
       "      <td>96</td>\n",
       "      <td>348497.24</td>\n",
       "      <td>5</td>\n",
       "      <td>3</td>\n",
       "      <td>3</td>\n",
       "    </tr>\n",
       "  </tbody>\n",
       "</table>\n",
       "</div>"
      ],
      "text/plain": [
       "            Recency  Frequency  MonetaryValue  R  F  M\n",
       "customerID                                            \n",
       "10054368        474          1        6359.90  2  1  1\n",
       "10061286         37         48      233045.15  2  2  3\n",
       "10387014          2        192      751096.67  5  4  5\n",
       "10414616        705          1        7050.90  1  1  1\n",
       "10428720          2         96      348497.24  5  3  3"
      ]
     },
     "execution_count": 25,
     "metadata": {},
     "output_type": "execute_result"
    }
   ],
   "source": [
    "#snealpeak of the added column-R\n",
    "datamart.head()"
   ]
  },
  {
   "cell_type": "code",
   "execution_count": 26,
   "metadata": {},
   "outputs": [
    {
     "data": {
      "text/html": [
       "<div>\n",
       "<style scoped>\n",
       "    .dataframe tbody tr th:only-of-type {\n",
       "        vertical-align: middle;\n",
       "    }\n",
       "\n",
       "    .dataframe tbody tr th {\n",
       "        vertical-align: top;\n",
       "    }\n",
       "\n",
       "    .dataframe thead th {\n",
       "        text-align: right;\n",
       "    }\n",
       "</style>\n",
       "<table border=\"1\" class=\"dataframe\">\n",
       "  <thead>\n",
       "    <tr style=\"text-align: right;\">\n",
       "      <th></th>\n",
       "      <th>Recency</th>\n",
       "      <th>Frequency</th>\n",
       "      <th>MonetaryValue</th>\n",
       "      <th>R</th>\n",
       "      <th>F</th>\n",
       "      <th>M</th>\n",
       "    </tr>\n",
       "    <tr>\n",
       "      <th>customerID</th>\n",
       "      <th></th>\n",
       "      <th></th>\n",
       "      <th></th>\n",
       "      <th></th>\n",
       "      <th></th>\n",
       "      <th></th>\n",
       "    </tr>\n",
       "  </thead>\n",
       "  <tbody>\n",
       "    <tr>\n",
       "      <th>10054368</th>\n",
       "      <td>474</td>\n",
       "      <td>1</td>\n",
       "      <td>6359.90</td>\n",
       "      <td>2</td>\n",
       "      <td>1</td>\n",
       "      <td>1</td>\n",
       "    </tr>\n",
       "    <tr>\n",
       "      <th>10061286</th>\n",
       "      <td>37</td>\n",
       "      <td>48</td>\n",
       "      <td>233045.15</td>\n",
       "      <td>2</td>\n",
       "      <td>2</td>\n",
       "      <td>3</td>\n",
       "    </tr>\n",
       "    <tr>\n",
       "      <th>10387014</th>\n",
       "      <td>2</td>\n",
       "      <td>192</td>\n",
       "      <td>751096.67</td>\n",
       "      <td>5</td>\n",
       "      <td>4</td>\n",
       "      <td>5</td>\n",
       "    </tr>\n",
       "    <tr>\n",
       "      <th>10414616</th>\n",
       "      <td>705</td>\n",
       "      <td>1</td>\n",
       "      <td>7050.90</td>\n",
       "      <td>1</td>\n",
       "      <td>1</td>\n",
       "      <td>1</td>\n",
       "    </tr>\n",
       "    <tr>\n",
       "      <th>10428720</th>\n",
       "      <td>2</td>\n",
       "      <td>96</td>\n",
       "      <td>348497.24</td>\n",
       "      <td>5</td>\n",
       "      <td>3</td>\n",
       "      <td>3</td>\n",
       "    </tr>\n",
       "  </tbody>\n",
       "</table>\n",
       "</div>"
      ],
      "text/plain": [
       "            Recency  Frequency  MonetaryValue  R  F  M\n",
       "customerID                                            \n",
       "10054368        474          1        6359.90  2  1  1\n",
       "10061286         37         48      233045.15  2  2  3\n",
       "10387014          2        192      751096.67  5  4  5\n",
       "10414616        705          1        7050.90  1  1  1\n",
       "10428720          2         96      348497.24  5  3  3"
      ]
     },
     "execution_count": 26,
     "metadata": {},
     "output_type": "execute_result"
    }
   ],
   "source": [
    "# Sneakpeak of the new datamart\n",
    "datamart.head()"
   ]
  },
  {
   "cell_type": "code",
   "execution_count": 27,
   "metadata": {},
   "outputs": [],
   "source": [
    "# deriving RFM-Segment column\n",
    "def join_rfm(x) : return str(x['R'])+str(x['F'])+str(x['M'])\n",
    "datamart['RFM_Segment']=datamart.apply(join_rfm,axis=1)\n",
    "# Deriving RFM Score column\n",
    "datamart['RFM_Score']=datamart[['R','F','M']].sum(axis=1)"
   ]
  },
  {
   "cell_type": "code",
   "execution_count": 28,
   "metadata": {},
   "outputs": [
    {
     "data": {
      "text/html": [
       "<div>\n",
       "<style scoped>\n",
       "    .dataframe tbody tr th:only-of-type {\n",
       "        vertical-align: middle;\n",
       "    }\n",
       "\n",
       "    .dataframe tbody tr th {\n",
       "        vertical-align: top;\n",
       "    }\n",
       "\n",
       "    .dataframe thead th {\n",
       "        text-align: right;\n",
       "    }\n",
       "</style>\n",
       "<table border=\"1\" class=\"dataframe\">\n",
       "  <thead>\n",
       "    <tr style=\"text-align: right;\">\n",
       "      <th></th>\n",
       "      <th>Recency</th>\n",
       "      <th>Frequency</th>\n",
       "      <th>MonetaryValue</th>\n",
       "      <th>R</th>\n",
       "      <th>F</th>\n",
       "      <th>M</th>\n",
       "      <th>RFM_Segment</th>\n",
       "      <th>RFM_Score</th>\n",
       "    </tr>\n",
       "    <tr>\n",
       "      <th>customerID</th>\n",
       "      <th></th>\n",
       "      <th></th>\n",
       "      <th></th>\n",
       "      <th></th>\n",
       "      <th></th>\n",
       "      <th></th>\n",
       "      <th></th>\n",
       "      <th></th>\n",
       "    </tr>\n",
       "  </thead>\n",
       "  <tbody>\n",
       "    <tr>\n",
       "      <th>10054368</th>\n",
       "      <td>474</td>\n",
       "      <td>1</td>\n",
       "      <td>6359.90</td>\n",
       "      <td>2</td>\n",
       "      <td>1</td>\n",
       "      <td>1</td>\n",
       "      <td>2.01.01.0</td>\n",
       "      <td>4</td>\n",
       "    </tr>\n",
       "    <tr>\n",
       "      <th>10061286</th>\n",
       "      <td>37</td>\n",
       "      <td>48</td>\n",
       "      <td>233045.15</td>\n",
       "      <td>2</td>\n",
       "      <td>2</td>\n",
       "      <td>3</td>\n",
       "      <td>2.02.03.0</td>\n",
       "      <td>7</td>\n",
       "    </tr>\n",
       "    <tr>\n",
       "      <th>10387014</th>\n",
       "      <td>2</td>\n",
       "      <td>192</td>\n",
       "      <td>751096.67</td>\n",
       "      <td>5</td>\n",
       "      <td>4</td>\n",
       "      <td>5</td>\n",
       "      <td>5.04.05.0</td>\n",
       "      <td>14</td>\n",
       "    </tr>\n",
       "    <tr>\n",
       "      <th>10414616</th>\n",
       "      <td>705</td>\n",
       "      <td>1</td>\n",
       "      <td>7050.90</td>\n",
       "      <td>1</td>\n",
       "      <td>1</td>\n",
       "      <td>1</td>\n",
       "      <td>1.01.01.0</td>\n",
       "      <td>3</td>\n",
       "    </tr>\n",
       "    <tr>\n",
       "      <th>10428720</th>\n",
       "      <td>2</td>\n",
       "      <td>96</td>\n",
       "      <td>348497.24</td>\n",
       "      <td>5</td>\n",
       "      <td>3</td>\n",
       "      <td>3</td>\n",
       "      <td>5.03.03.0</td>\n",
       "      <td>11</td>\n",
       "    </tr>\n",
       "  </tbody>\n",
       "</table>\n",
       "</div>"
      ],
      "text/plain": [
       "            Recency  Frequency  MonetaryValue  R  F  M RFM_Segment  RFM_Score\n",
       "customerID                                                                   \n",
       "10054368        474          1        6359.90  2  1  1   2.01.01.0          4\n",
       "10061286         37         48      233045.15  2  2  3   2.02.03.0          7\n",
       "10387014          2        192      751096.67  5  4  5   5.04.05.0         14\n",
       "10414616        705          1        7050.90  1  1  1   1.01.01.0          3\n",
       "10428720          2         96      348497.24  5  3  3   5.03.03.0         11"
      ]
     },
     "execution_count": 28,
     "metadata": {},
     "output_type": "execute_result"
    }
   ],
   "source": [
    "# snakpeak of  datamart \n",
    "datamart.head()"
   ]
  },
  {
   "cell_type": "code",
   "execution_count": 29,
   "metadata": {},
   "outputs": [
    {
     "data": {
      "text/plain": [
       "RFM_Segment\n",
       "2.01.01.0    203\n",
       "1.01.01.0    197\n",
       "1.01.02.0    195\n",
       "5.04.05.0    160\n",
       "5.03.04.0    149\n",
       "4.03.04.0    117\n",
       "3.03.04.0    117\n",
       "2.01.02.0    105\n",
       "4.04.05.0     97\n",
       "5.03.03.0     79\n",
       "dtype: int64"
      ]
     },
     "execution_count": 29,
     "metadata": {},
     "output_type": "execute_result"
    }
   ],
   "source": [
    "datamart.groupby('RFM_Segment').size().sort_values(ascending=False)[:10]"
   ]
  },
  {
   "cell_type": "code",
   "execution_count": 30,
   "metadata": {},
   "outputs": [
    {
     "data": {
      "text/html": [
       "<div>\n",
       "<style scoped>\n",
       "    .dataframe tbody tr th:only-of-type {\n",
       "        vertical-align: middle;\n",
       "    }\n",
       "\n",
       "    .dataframe tbody tr th {\n",
       "        vertical-align: top;\n",
       "    }\n",
       "\n",
       "    .dataframe thead tr th {\n",
       "        text-align: left;\n",
       "    }\n",
       "\n",
       "    .dataframe thead tr:last-of-type th {\n",
       "        text-align: right;\n",
       "    }\n",
       "</style>\n",
       "<table border=\"1\" class=\"dataframe\">\n",
       "  <thead>\n",
       "    <tr>\n",
       "      <th></th>\n",
       "      <th>Recency</th>\n",
       "      <th>MonetaryValue</th>\n",
       "      <th colspan=\"2\" halign=\"left\">Frequency</th>\n",
       "    </tr>\n",
       "    <tr>\n",
       "      <th></th>\n",
       "      <th>mean</th>\n",
       "      <th>mean</th>\n",
       "      <th>mean</th>\n",
       "      <th>count</th>\n",
       "    </tr>\n",
       "    <tr>\n",
       "      <th>RFM_Score</th>\n",
       "      <th></th>\n",
       "      <th></th>\n",
       "      <th></th>\n",
       "      <th></th>\n",
       "    </tr>\n",
       "  </thead>\n",
       "  <tbody>\n",
       "    <tr>\n",
       "      <th>3</th>\n",
       "      <td>619.5</td>\n",
       "      <td>10197.9</td>\n",
       "      <td>3.3</td>\n",
       "      <td>197</td>\n",
       "    </tr>\n",
       "    <tr>\n",
       "      <th>4</th>\n",
       "      <td>518.0</td>\n",
       "      <td>28297.9</td>\n",
       "      <td>6.9</td>\n",
       "      <td>398</td>\n",
       "    </tr>\n",
       "    <tr>\n",
       "      <th>5</th>\n",
       "      <td>550.5</td>\n",
       "      <td>50308.9</td>\n",
       "      <td>12.0</td>\n",
       "      <td>105</td>\n",
       "    </tr>\n",
       "    <tr>\n",
       "      <th>6</th>\n",
       "      <td>29.7</td>\n",
       "      <td>171649.6</td>\n",
       "      <td>48.0</td>\n",
       "      <td>21</td>\n",
       "    </tr>\n",
       "    <tr>\n",
       "      <th>7</th>\n",
       "      <td>21.3</td>\n",
       "      <td>189580.9</td>\n",
       "      <td>48.0</td>\n",
       "      <td>71</td>\n",
       "    </tr>\n",
       "    <tr>\n",
       "      <th>8</th>\n",
       "      <td>11.8</td>\n",
       "      <td>206125.2</td>\n",
       "      <td>51.8</td>\n",
       "      <td>100</td>\n",
       "    </tr>\n",
       "    <tr>\n",
       "      <th>9</th>\n",
       "      <td>9.4</td>\n",
       "      <td>275309.9</td>\n",
       "      <td>72.7</td>\n",
       "      <td>142</td>\n",
       "    </tr>\n",
       "    <tr>\n",
       "      <th>10</th>\n",
       "      <td>8.4</td>\n",
       "      <td>338174.6</td>\n",
       "      <td>86.1</td>\n",
       "      <td>228</td>\n",
       "    </tr>\n",
       "    <tr>\n",
       "      <th>11</th>\n",
       "      <td>5.0</td>\n",
       "      <td>378547.5</td>\n",
       "      <td>96.4</td>\n",
       "      <td>225</td>\n",
       "    </tr>\n",
       "    <tr>\n",
       "      <th>12</th>\n",
       "      <td>4.1</td>\n",
       "      <td>465422.1</td>\n",
       "      <td>114.2</td>\n",
       "      <td>221</td>\n",
       "    </tr>\n",
       "    <tr>\n",
       "      <th>13</th>\n",
       "      <td>4.4</td>\n",
       "      <td>674469.4</td>\n",
       "      <td>166.5</td>\n",
       "      <td>132</td>\n",
       "    </tr>\n",
       "    <tr>\n",
       "      <th>14</th>\n",
       "      <td>1.8</td>\n",
       "      <td>757013.5</td>\n",
       "      <td>192.0</td>\n",
       "      <td>160</td>\n",
       "    </tr>\n",
       "  </tbody>\n",
       "</table>\n",
       "</div>"
      ],
      "text/plain": [
       "          Recency MonetaryValue Frequency      \n",
       "             mean          mean      mean count\n",
       "RFM_Score                                      \n",
       "3           619.5       10197.9       3.3   197\n",
       "4           518.0       28297.9       6.9   398\n",
       "5           550.5       50308.9      12.0   105\n",
       "6            29.7      171649.6      48.0    21\n",
       "7            21.3      189580.9      48.0    71\n",
       "8            11.8      206125.2      51.8   100\n",
       "9             9.4      275309.9      72.7   142\n",
       "10            8.4      338174.6      86.1   228\n",
       "11            5.0      378547.5      96.4   225\n",
       "12            4.1      465422.1     114.2   221\n",
       "13            4.4      674469.4     166.5   132\n",
       "14            1.8      757013.5     192.0   160"
      ]
     },
     "execution_count": 30,
     "metadata": {},
     "output_type": "execute_result"
    }
   ],
   "source": [
    "# Summary metrics per RFM Score\n",
    "datamart.groupby('RFM_Score').agg({\n",
    "  'Recency':'mean',\n",
    "  'MonetaryValue' :'mean',\n",
    "  'Frequency':['mean','count']\n",
    "}).round(1)"
   ]
  },
  {
   "attachments": {},
   "cell_type": "markdown",
   "metadata": {},
   "source": [
    "## Grouping Customers into Named Segments\n",
    "Now that we have competed the RFM segmentation, users can be groups into named categories for marketing and profiling purpsoses.\n",
    "1. MVC (Most Valuable customer): RFM_Score >=12\n",
    "2. Loyal Customers: RFM_Score between 9 and 11\n",
    "3. Potentially Loyal: RFM_Score between 7 and 9\n",
    "4. Need Attention : RFM Score between 5 and 6\n",
    "5. Churned Folk : RFM_Score < 5\n"
   ]
  },
  {
   "cell_type": "code",
   "execution_count": 31,
   "metadata": {},
   "outputs": [],
   "source": [
    "def segment_me(datamart):\n",
    "    if datamart['RFM_Score']>=12 :\n",
    "        return 'MVC'\n",
    "    if(datamart['RFM_Score']>=9) and datamart['RFM_Score']<11:\n",
    "        return 'Loyal '\n",
    "    if(datamart['RFM_Score']>=7) and datamart['RFM_Score']<9:\n",
    "        return 'Potentially Loyal'\n",
    "    elif(datamart['RFM_Score']>=4) and datamart['RFM_Score']<6:\n",
    "        return 'Churned Folk'\n",
    "    else:\n",
    "        return  'Need Attention'"
   ]
  },
  {
   "cell_type": "code",
   "execution_count": 32,
   "metadata": {},
   "outputs": [
    {
     "data": {
      "text/html": [
       "<div>\n",
       "<style scoped>\n",
       "    .dataframe tbody tr th:only-of-type {\n",
       "        vertical-align: middle;\n",
       "    }\n",
       "\n",
       "    .dataframe tbody tr th {\n",
       "        vertical-align: top;\n",
       "    }\n",
       "\n",
       "    .dataframe thead tr th {\n",
       "        text-align: left;\n",
       "    }\n",
       "\n",
       "    .dataframe thead tr:last-of-type th {\n",
       "        text-align: right;\n",
       "    }\n",
       "</style>\n",
       "<table border=\"1\" class=\"dataframe\">\n",
       "  <thead>\n",
       "    <tr>\n",
       "      <th></th>\n",
       "      <th>Recency</th>\n",
       "      <th>MonetaryValue</th>\n",
       "      <th colspan=\"2\" halign=\"left\">Frequency</th>\n",
       "    </tr>\n",
       "    <tr>\n",
       "      <th></th>\n",
       "      <th>mean</th>\n",
       "      <th>mean</th>\n",
       "      <th>mean</th>\n",
       "      <th>count</th>\n",
       "    </tr>\n",
       "    <tr>\n",
       "      <th>General_Segment</th>\n",
       "      <th></th>\n",
       "      <th></th>\n",
       "      <th></th>\n",
       "      <th></th>\n",
       "    </tr>\n",
       "  </thead>\n",
       "  <tbody>\n",
       "    <tr>\n",
       "      <th>Churned Folk</th>\n",
       "      <td>524.8</td>\n",
       "      <td>32892.6</td>\n",
       "      <td>8.0</td>\n",
       "      <td>503</td>\n",
       "    </tr>\n",
       "    <tr>\n",
       "      <th>Loyal</th>\n",
       "      <td>8.7</td>\n",
       "      <td>314048.2</td>\n",
       "      <td>81.0</td>\n",
       "      <td>370</td>\n",
       "    </tr>\n",
       "    <tr>\n",
       "      <th>MVC</th>\n",
       "      <td>3.5</td>\n",
       "      <td>610156.7</td>\n",
       "      <td>152.0</td>\n",
       "      <td>513</td>\n",
       "    </tr>\n",
       "    <tr>\n",
       "      <th>Need Attention</th>\n",
       "      <td>279.4</td>\n",
       "      <td>204936.3</td>\n",
       "      <td>52.7</td>\n",
       "      <td>443</td>\n",
       "    </tr>\n",
       "    <tr>\n",
       "      <th>Potentially Loyal</th>\n",
       "      <td>15.7</td>\n",
       "      <td>199255.9</td>\n",
       "      <td>50.2</td>\n",
       "      <td>171</td>\n",
       "    </tr>\n",
       "  </tbody>\n",
       "</table>\n",
       "</div>"
      ],
      "text/plain": [
       "                  Recency MonetaryValue Frequency      \n",
       "                     mean          mean      mean count\n",
       "General_Segment                                        \n",
       "Churned Folk        524.8       32892.6       8.0   503\n",
       "Loyal                 8.7      314048.2      81.0   370\n",
       "MVC                   3.5      610156.7     152.0   513\n",
       "Need Attention      279.4      204936.3      52.7   443\n",
       "Potentially Loyal    15.7      199255.9      50.2   171"
      ]
     },
     "execution_count": 32,
     "metadata": {},
     "output_type": "execute_result"
    }
   ],
   "source": [
    "datamart['General_Segment']=datamart.apply(segment_me,axis=1)    \n",
    "datamart.groupby('General_Segment').agg({\n",
    "  'Recency':'mean',\n",
    "  'MonetaryValue' :'mean',\n",
    "  'Frequency':['mean','count']\n",
    "    \n",
    "    }).round(1)"
   ]
  },
  {
   "cell_type": "code",
   "execution_count": 33,
   "metadata": {},
   "outputs": [
    {
     "data": {
      "text/html": [
       "<div>\n",
       "<style scoped>\n",
       "    .dataframe tbody tr th:only-of-type {\n",
       "        vertical-align: middle;\n",
       "    }\n",
       "\n",
       "    .dataframe tbody tr th {\n",
       "        vertical-align: top;\n",
       "    }\n",
       "\n",
       "    .dataframe thead th {\n",
       "        text-align: right;\n",
       "    }\n",
       "</style>\n",
       "<table border=\"1\" class=\"dataframe\">\n",
       "  <thead>\n",
       "    <tr style=\"text-align: right;\">\n",
       "      <th></th>\n",
       "      <th>Recency</th>\n",
       "      <th>Frequency</th>\n",
       "      <th>MonetaryValue</th>\n",
       "      <th>R</th>\n",
       "      <th>F</th>\n",
       "      <th>M</th>\n",
       "      <th>RFM_Segment</th>\n",
       "      <th>RFM_Score</th>\n",
       "      <th>General_Segment</th>\n",
       "    </tr>\n",
       "    <tr>\n",
       "      <th>customerID</th>\n",
       "      <th></th>\n",
       "      <th></th>\n",
       "      <th></th>\n",
       "      <th></th>\n",
       "      <th></th>\n",
       "      <th></th>\n",
       "      <th></th>\n",
       "      <th></th>\n",
       "      <th></th>\n",
       "    </tr>\n",
       "  </thead>\n",
       "  <tbody>\n",
       "    <tr>\n",
       "      <th>10054368</th>\n",
       "      <td>474</td>\n",
       "      <td>1</td>\n",
       "      <td>6359.90</td>\n",
       "      <td>2</td>\n",
       "      <td>1</td>\n",
       "      <td>1</td>\n",
       "      <td>2.01.01.0</td>\n",
       "      <td>4</td>\n",
       "      <td>Churned Folk</td>\n",
       "    </tr>\n",
       "    <tr>\n",
       "      <th>10061286</th>\n",
       "      <td>37</td>\n",
       "      <td>48</td>\n",
       "      <td>233045.15</td>\n",
       "      <td>2</td>\n",
       "      <td>2</td>\n",
       "      <td>3</td>\n",
       "      <td>2.02.03.0</td>\n",
       "      <td>7</td>\n",
       "      <td>Potentially Loyal</td>\n",
       "    </tr>\n",
       "    <tr>\n",
       "      <th>10387014</th>\n",
       "      <td>2</td>\n",
       "      <td>192</td>\n",
       "      <td>751096.67</td>\n",
       "      <td>5</td>\n",
       "      <td>4</td>\n",
       "      <td>5</td>\n",
       "      <td>5.04.05.0</td>\n",
       "      <td>14</td>\n",
       "      <td>MVC</td>\n",
       "    </tr>\n",
       "    <tr>\n",
       "      <th>10414616</th>\n",
       "      <td>705</td>\n",
       "      <td>1</td>\n",
       "      <td>7050.90</td>\n",
       "      <td>1</td>\n",
       "      <td>1</td>\n",
       "      <td>1</td>\n",
       "      <td>1.01.01.0</td>\n",
       "      <td>3</td>\n",
       "      <td>Need Attention</td>\n",
       "    </tr>\n",
       "    <tr>\n",
       "      <th>10428720</th>\n",
       "      <td>2</td>\n",
       "      <td>96</td>\n",
       "      <td>348497.24</td>\n",
       "      <td>5</td>\n",
       "      <td>3</td>\n",
       "      <td>3</td>\n",
       "      <td>5.03.03.0</td>\n",
       "      <td>11</td>\n",
       "      <td>Need Attention</td>\n",
       "    </tr>\n",
       "  </tbody>\n",
       "</table>\n",
       "</div>"
      ],
      "text/plain": [
       "            Recency  Frequency  MonetaryValue  R  F  M RFM_Segment  RFM_Score  \\\n",
       "customerID                                                                      \n",
       "10054368        474          1        6359.90  2  1  1   2.01.01.0          4   \n",
       "10061286         37         48      233045.15  2  2  3   2.02.03.0          7   \n",
       "10387014          2        192      751096.67  5  4  5   5.04.05.0         14   \n",
       "10414616        705          1        7050.90  1  1  1   1.01.01.0          3   \n",
       "10428720          2         96      348497.24  5  3  3   5.03.03.0         11   \n",
       "\n",
       "              General_Segment  \n",
       "customerID                     \n",
       "10054368         Churned Folk  \n",
       "10061286    Potentially Loyal  \n",
       "10387014                  MVC  \n",
       "10414616       Need Attention  \n",
       "10428720       Need Attention  "
      ]
     },
     "execution_count": 33,
     "metadata": {},
     "output_type": "execute_result"
    }
   ],
   "source": [
    "datamart.head()"
   ]
  },
  {
   "cell_type": "code",
   "execution_count": 34,
   "metadata": {},
   "outputs": [
    {
     "data": {
      "text/html": [
       "<div>\n",
       "<style scoped>\n",
       "    .dataframe tbody tr th:only-of-type {\n",
       "        vertical-align: middle;\n",
       "    }\n",
       "\n",
       "    .dataframe tbody tr th {\n",
       "        vertical-align: top;\n",
       "    }\n",
       "\n",
       "    .dataframe thead th {\n",
       "        text-align: right;\n",
       "    }\n",
       "</style>\n",
       "<table border=\"1\" class=\"dataframe\">\n",
       "  <thead>\n",
       "    <tr style=\"text-align: right;\">\n",
       "      <th></th>\n",
       "      <th>Recency</th>\n",
       "      <th>Frequency</th>\n",
       "      <th>MonetaryValue</th>\n",
       "      <th>RFM_Score</th>\n",
       "    </tr>\n",
       "  </thead>\n",
       "  <tbody>\n",
       "    <tr>\n",
       "      <th>count</th>\n",
       "      <td>2000.000000</td>\n",
       "      <td>2000.000000</td>\n",
       "      <td>2000.000000</td>\n",
       "      <td>2000.000000</td>\n",
       "    </tr>\n",
       "    <tr>\n",
       "      <th>mean</th>\n",
       "      <td>197.747500</td>\n",
       "      <td>71.930000</td>\n",
       "      <td>285306.387070</td>\n",
       "      <td>8.386000</td>\n",
       "    </tr>\n",
       "    <tr>\n",
       "      <th>std</th>\n",
       "      <td>263.093255</td>\n",
       "      <td>62.888334</td>\n",
       "      <td>250341.248365</td>\n",
       "      <td>3.727191</td>\n",
       "    </tr>\n",
       "    <tr>\n",
       "      <th>min</th>\n",
       "      <td>1.000000</td>\n",
       "      <td>1.000000</td>\n",
       "      <td>106.650000</td>\n",
       "      <td>3.000000</td>\n",
       "    </tr>\n",
       "    <tr>\n",
       "      <th>25%</th>\n",
       "      <td>4.000000</td>\n",
       "      <td>12.000000</td>\n",
       "      <td>45929.915000</td>\n",
       "      <td>4.000000</td>\n",
       "    </tr>\n",
       "    <tr>\n",
       "      <th>50%</th>\n",
       "      <td>10.000000</td>\n",
       "      <td>72.000000</td>\n",
       "      <td>268674.715000</td>\n",
       "      <td>9.000000</td>\n",
       "    </tr>\n",
       "    <tr>\n",
       "      <th>75%</th>\n",
       "      <td>548.000000</td>\n",
       "      <td>96.000000</td>\n",
       "      <td>399094.657500</td>\n",
       "      <td>12.000000</td>\n",
       "    </tr>\n",
       "    <tr>\n",
       "      <th>max</th>\n",
       "      <td>727.000000</td>\n",
       "      <td>192.000000</td>\n",
       "      <td>881015.560000</td>\n",
       "      <td>14.000000</td>\n",
       "    </tr>\n",
       "  </tbody>\n",
       "</table>\n",
       "</div>"
      ],
      "text/plain": [
       "           Recency    Frequency  MonetaryValue    RFM_Score\n",
       "count  2000.000000  2000.000000    2000.000000  2000.000000\n",
       "mean    197.747500    71.930000  285306.387070     8.386000\n",
       "std     263.093255    62.888334  250341.248365     3.727191\n",
       "min       1.000000     1.000000     106.650000     3.000000\n",
       "25%       4.000000    12.000000   45929.915000     4.000000\n",
       "50%      10.000000    72.000000  268674.715000     9.000000\n",
       "75%     548.000000    96.000000  399094.657500    12.000000\n",
       "max     727.000000   192.000000  881015.560000    14.000000"
      ]
     },
     "execution_count": 34,
     "metadata": {},
     "output_type": "execute_result"
    }
   ],
   "source": [
    "datamart.describe()"
   ]
  },
  {
   "attachments": {},
   "cell_type": "markdown",
   "metadata": {},
   "source": [
    "## Display as chart for high-level segment"
   ]
  },
  {
   "cell_type": "code",
   "execution_count": 35,
   "metadata": {},
   "outputs": [
    {
     "data": {
      "application/vnd.plotly.v1+json": {
       "config": {
        "plotlyServerURL": "https://plot.ly"
       },
       "data": [
        {
         "domain": {
          "x": [
           0,
           1
          ],
          "y": [
           0,
           1
          ]
         },
         "hovertemplate": "label=%{label}<br>value=%{value}<br>parent=%{parent}<extra></extra>",
         "labels": [
          "MVC<br>513",
          "Churned Folk<br>503",
          "Need Attention<br>443",
          "Loyal <br>370",
          "Potentially Loyal<br>171"
         ],
         "name": "",
         "parents": [
          "Customer Segments",
          "Customer Segments",
          "Customer Segments",
          "Customer Segments",
          "Customer Segments"
         ],
         "type": "treemap",
         "values": [
          513,
          503,
          443,
          370,
          171
         ]
        }
       ],
       "layout": {
        "legend": {
         "tracegroupgap": 0
        },
        "template": {
         "data": {
          "bar": [
           {
            "error_x": {
             "color": "#2a3f5f"
            },
            "error_y": {
             "color": "#2a3f5f"
            },
            "marker": {
             "line": {
              "color": "#E5ECF6",
              "width": 0.5
             },
             "pattern": {
              "fillmode": "overlay",
              "size": 10,
              "solidity": 0.2
             }
            },
            "type": "bar"
           }
          ],
          "barpolar": [
           {
            "marker": {
             "line": {
              "color": "#E5ECF6",
              "width": 0.5
             },
             "pattern": {
              "fillmode": "overlay",
              "size": 10,
              "solidity": 0.2
             }
            },
            "type": "barpolar"
           }
          ],
          "carpet": [
           {
            "aaxis": {
             "endlinecolor": "#2a3f5f",
             "gridcolor": "white",
             "linecolor": "white",
             "minorgridcolor": "white",
             "startlinecolor": "#2a3f5f"
            },
            "baxis": {
             "endlinecolor": "#2a3f5f",
             "gridcolor": "white",
             "linecolor": "white",
             "minorgridcolor": "white",
             "startlinecolor": "#2a3f5f"
            },
            "type": "carpet"
           }
          ],
          "choropleth": [
           {
            "colorbar": {
             "outlinewidth": 0,
             "ticks": ""
            },
            "type": "choropleth"
           }
          ],
          "contour": [
           {
            "colorbar": {
             "outlinewidth": 0,
             "ticks": ""
            },
            "colorscale": [
             [
              0,
              "#0d0887"
             ],
             [
              0.1111111111111111,
              "#46039f"
             ],
             [
              0.2222222222222222,
              "#7201a8"
             ],
             [
              0.3333333333333333,
              "#9c179e"
             ],
             [
              0.4444444444444444,
              "#bd3786"
             ],
             [
              0.5555555555555556,
              "#d8576b"
             ],
             [
              0.6666666666666666,
              "#ed7953"
             ],
             [
              0.7777777777777778,
              "#fb9f3a"
             ],
             [
              0.8888888888888888,
              "#fdca26"
             ],
             [
              1,
              "#f0f921"
             ]
            ],
            "type": "contour"
           }
          ],
          "contourcarpet": [
           {
            "colorbar": {
             "outlinewidth": 0,
             "ticks": ""
            },
            "type": "contourcarpet"
           }
          ],
          "heatmap": [
           {
            "colorbar": {
             "outlinewidth": 0,
             "ticks": ""
            },
            "colorscale": [
             [
              0,
              "#0d0887"
             ],
             [
              0.1111111111111111,
              "#46039f"
             ],
             [
              0.2222222222222222,
              "#7201a8"
             ],
             [
              0.3333333333333333,
              "#9c179e"
             ],
             [
              0.4444444444444444,
              "#bd3786"
             ],
             [
              0.5555555555555556,
              "#d8576b"
             ],
             [
              0.6666666666666666,
              "#ed7953"
             ],
             [
              0.7777777777777778,
              "#fb9f3a"
             ],
             [
              0.8888888888888888,
              "#fdca26"
             ],
             [
              1,
              "#f0f921"
             ]
            ],
            "type": "heatmap"
           }
          ],
          "heatmapgl": [
           {
            "colorbar": {
             "outlinewidth": 0,
             "ticks": ""
            },
            "colorscale": [
             [
              0,
              "#0d0887"
             ],
             [
              0.1111111111111111,
              "#46039f"
             ],
             [
              0.2222222222222222,
              "#7201a8"
             ],
             [
              0.3333333333333333,
              "#9c179e"
             ],
             [
              0.4444444444444444,
              "#bd3786"
             ],
             [
              0.5555555555555556,
              "#d8576b"
             ],
             [
              0.6666666666666666,
              "#ed7953"
             ],
             [
              0.7777777777777778,
              "#fb9f3a"
             ],
             [
              0.8888888888888888,
              "#fdca26"
             ],
             [
              1,
              "#f0f921"
             ]
            ],
            "type": "heatmapgl"
           }
          ],
          "histogram": [
           {
            "marker": {
             "pattern": {
              "fillmode": "overlay",
              "size": 10,
              "solidity": 0.2
             }
            },
            "type": "histogram"
           }
          ],
          "histogram2d": [
           {
            "colorbar": {
             "outlinewidth": 0,
             "ticks": ""
            },
            "colorscale": [
             [
              0,
              "#0d0887"
             ],
             [
              0.1111111111111111,
              "#46039f"
             ],
             [
              0.2222222222222222,
              "#7201a8"
             ],
             [
              0.3333333333333333,
              "#9c179e"
             ],
             [
              0.4444444444444444,
              "#bd3786"
             ],
             [
              0.5555555555555556,
              "#d8576b"
             ],
             [
              0.6666666666666666,
              "#ed7953"
             ],
             [
              0.7777777777777778,
              "#fb9f3a"
             ],
             [
              0.8888888888888888,
              "#fdca26"
             ],
             [
              1,
              "#f0f921"
             ]
            ],
            "type": "histogram2d"
           }
          ],
          "histogram2dcontour": [
           {
            "colorbar": {
             "outlinewidth": 0,
             "ticks": ""
            },
            "colorscale": [
             [
              0,
              "#0d0887"
             ],
             [
              0.1111111111111111,
              "#46039f"
             ],
             [
              0.2222222222222222,
              "#7201a8"
             ],
             [
              0.3333333333333333,
              "#9c179e"
             ],
             [
              0.4444444444444444,
              "#bd3786"
             ],
             [
              0.5555555555555556,
              "#d8576b"
             ],
             [
              0.6666666666666666,
              "#ed7953"
             ],
             [
              0.7777777777777778,
              "#fb9f3a"
             ],
             [
              0.8888888888888888,
              "#fdca26"
             ],
             [
              1,
              "#f0f921"
             ]
            ],
            "type": "histogram2dcontour"
           }
          ],
          "mesh3d": [
           {
            "colorbar": {
             "outlinewidth": 0,
             "ticks": ""
            },
            "type": "mesh3d"
           }
          ],
          "parcoords": [
           {
            "line": {
             "colorbar": {
              "outlinewidth": 0,
              "ticks": ""
             }
            },
            "type": "parcoords"
           }
          ],
          "pie": [
           {
            "automargin": true,
            "type": "pie"
           }
          ],
          "scatter": [
           {
            "fillpattern": {
             "fillmode": "overlay",
             "size": 10,
             "solidity": 0.2
            },
            "type": "scatter"
           }
          ],
          "scatter3d": [
           {
            "line": {
             "colorbar": {
              "outlinewidth": 0,
              "ticks": ""
             }
            },
            "marker": {
             "colorbar": {
              "outlinewidth": 0,
              "ticks": ""
             }
            },
            "type": "scatter3d"
           }
          ],
          "scattercarpet": [
           {
            "marker": {
             "colorbar": {
              "outlinewidth": 0,
              "ticks": ""
             }
            },
            "type": "scattercarpet"
           }
          ],
          "scattergeo": [
           {
            "marker": {
             "colorbar": {
              "outlinewidth": 0,
              "ticks": ""
             }
            },
            "type": "scattergeo"
           }
          ],
          "scattergl": [
           {
            "marker": {
             "colorbar": {
              "outlinewidth": 0,
              "ticks": ""
             }
            },
            "type": "scattergl"
           }
          ],
          "scattermapbox": [
           {
            "marker": {
             "colorbar": {
              "outlinewidth": 0,
              "ticks": ""
             }
            },
            "type": "scattermapbox"
           }
          ],
          "scatterpolar": [
           {
            "marker": {
             "colorbar": {
              "outlinewidth": 0,
              "ticks": ""
             }
            },
            "type": "scatterpolar"
           }
          ],
          "scatterpolargl": [
           {
            "marker": {
             "colorbar": {
              "outlinewidth": 0,
              "ticks": ""
             }
            },
            "type": "scatterpolargl"
           }
          ],
          "scatterternary": [
           {
            "marker": {
             "colorbar": {
              "outlinewidth": 0,
              "ticks": ""
             }
            },
            "type": "scatterternary"
           }
          ],
          "surface": [
           {
            "colorbar": {
             "outlinewidth": 0,
             "ticks": ""
            },
            "colorscale": [
             [
              0,
              "#0d0887"
             ],
             [
              0.1111111111111111,
              "#46039f"
             ],
             [
              0.2222222222222222,
              "#7201a8"
             ],
             [
              0.3333333333333333,
              "#9c179e"
             ],
             [
              0.4444444444444444,
              "#bd3786"
             ],
             [
              0.5555555555555556,
              "#d8576b"
             ],
             [
              0.6666666666666666,
              "#ed7953"
             ],
             [
              0.7777777777777778,
              "#fb9f3a"
             ],
             [
              0.8888888888888888,
              "#fdca26"
             ],
             [
              1,
              "#f0f921"
             ]
            ],
            "type": "surface"
           }
          ],
          "table": [
           {
            "cells": {
             "fill": {
              "color": "#EBF0F8"
             },
             "line": {
              "color": "white"
             }
            },
            "header": {
             "fill": {
              "color": "#C8D4E3"
             },
             "line": {
              "color": "white"
             }
            },
            "type": "table"
           }
          ]
         },
         "layout": {
          "annotationdefaults": {
           "arrowcolor": "#2a3f5f",
           "arrowhead": 0,
           "arrowwidth": 1
          },
          "autotypenumbers": "strict",
          "coloraxis": {
           "colorbar": {
            "outlinewidth": 0,
            "ticks": ""
           }
          },
          "colorscale": {
           "diverging": [
            [
             0,
             "#8e0152"
            ],
            [
             0.1,
             "#c51b7d"
            ],
            [
             0.2,
             "#de77ae"
            ],
            [
             0.3,
             "#f1b6da"
            ],
            [
             0.4,
             "#fde0ef"
            ],
            [
             0.5,
             "#f7f7f7"
            ],
            [
             0.6,
             "#e6f5d0"
            ],
            [
             0.7,
             "#b8e186"
            ],
            [
             0.8,
             "#7fbc41"
            ],
            [
             0.9,
             "#4d9221"
            ],
            [
             1,
             "#276419"
            ]
           ],
           "sequential": [
            [
             0,
             "#0d0887"
            ],
            [
             0.1111111111111111,
             "#46039f"
            ],
            [
             0.2222222222222222,
             "#7201a8"
            ],
            [
             0.3333333333333333,
             "#9c179e"
            ],
            [
             0.4444444444444444,
             "#bd3786"
            ],
            [
             0.5555555555555556,
             "#d8576b"
            ],
            [
             0.6666666666666666,
             "#ed7953"
            ],
            [
             0.7777777777777778,
             "#fb9f3a"
            ],
            [
             0.8888888888888888,
             "#fdca26"
            ],
            [
             1,
             "#f0f921"
            ]
           ],
           "sequentialminus": [
            [
             0,
             "#0d0887"
            ],
            [
             0.1111111111111111,
             "#46039f"
            ],
            [
             0.2222222222222222,
             "#7201a8"
            ],
            [
             0.3333333333333333,
             "#9c179e"
            ],
            [
             0.4444444444444444,
             "#bd3786"
            ],
            [
             0.5555555555555556,
             "#d8576b"
            ],
            [
             0.6666666666666666,
             "#ed7953"
            ],
            [
             0.7777777777777778,
             "#fb9f3a"
            ],
            [
             0.8888888888888888,
             "#fdca26"
            ],
            [
             1,
             "#f0f921"
            ]
           ]
          },
          "colorway": [
           "#636efa",
           "#EF553B",
           "#00cc96",
           "#ab63fa",
           "#FFA15A",
           "#19d3f3",
           "#FF6692",
           "#B6E880",
           "#FF97FF",
           "#FECB52"
          ],
          "font": {
           "color": "#2a3f5f"
          },
          "geo": {
           "bgcolor": "white",
           "lakecolor": "white",
           "landcolor": "#E5ECF6",
           "showlakes": true,
           "showland": true,
           "subunitcolor": "white"
          },
          "hoverlabel": {
           "align": "left"
          },
          "hovermode": "closest",
          "mapbox": {
           "style": "light"
          },
          "paper_bgcolor": "white",
          "plot_bgcolor": "#E5ECF6",
          "polar": {
           "angularaxis": {
            "gridcolor": "white",
            "linecolor": "white",
            "ticks": ""
           },
           "bgcolor": "#E5ECF6",
           "radialaxis": {
            "gridcolor": "white",
            "linecolor": "white",
            "ticks": ""
           }
          },
          "scene": {
           "xaxis": {
            "backgroundcolor": "#E5ECF6",
            "gridcolor": "white",
            "gridwidth": 2,
            "linecolor": "white",
            "showbackground": true,
            "ticks": "",
            "zerolinecolor": "white"
           },
           "yaxis": {
            "backgroundcolor": "#E5ECF6",
            "gridcolor": "white",
            "gridwidth": 2,
            "linecolor": "white",
            "showbackground": true,
            "ticks": "",
            "zerolinecolor": "white"
           },
           "zaxis": {
            "backgroundcolor": "#E5ECF6",
            "gridcolor": "white",
            "gridwidth": 2,
            "linecolor": "white",
            "showbackground": true,
            "ticks": "",
            "zerolinecolor": "white"
           }
          },
          "shapedefaults": {
           "line": {
            "color": "#2a3f5f"
           }
          },
          "ternary": {
           "aaxis": {
            "gridcolor": "white",
            "linecolor": "white",
            "ticks": ""
           },
           "baxis": {
            "gridcolor": "white",
            "linecolor": "white",
            "ticks": ""
           },
           "bgcolor": "#E5ECF6",
           "caxis": {
            "gridcolor": "white",
            "linecolor": "white",
            "ticks": ""
           }
          },
          "title": {
           "x": 0.05
          },
          "xaxis": {
           "automargin": true,
           "gridcolor": "white",
           "linecolor": "white",
           "ticks": "",
           "title": {
            "standoff": 15
           },
           "zerolinecolor": "white",
           "zerolinewidth": 2
          },
          "yaxis": {
           "automargin": true,
           "gridcolor": "white",
           "linecolor": "white",
           "ticks": "",
           "title": {
            "standoff": 15
           },
           "zerolinecolor": "white",
           "zerolinewidth": 2
          }
         }
        },
        "title": {
         "text": "RFM Customer Segmentation"
        }
       }
      }
     },
     "metadata": {},
     "output_type": "display_data"
    }
   ],
   "source": [
    "import plotly.express as px\n",
    "\n",
    "# count the number of occurrences of each General_Segment value\n",
    "segment_counts = datamart['General_Segment'].value_counts()\n",
    "\n",
    "fig = px.treemap(\n",
    "    title= \"RFM Customer Segmentation\",\n",
    "    names=[f\"{x}<br>{y}\" for x, y in zip(segment_counts.index.to_list(), segment_counts.to_list())],\n",
    "    parents=[\"Customer Segments\"]*segment_counts.size,\n",
    "    values=segment_counts.to_list(),\n",
    "    labels=segment_counts.to_list()\n",
    ")\n",
    "fig.show()"
   ]
  },
  {
   "attachments": {},
   "cell_type": "markdown",
   "metadata": {},
   "source": [
    "## Further Analysis using customer demographic information"
   ]
  },
  {
   "cell_type": "code",
   "execution_count": 36,
   "metadata": {},
   "outputs": [
    {
     "data": {
      "text/html": [
       "<div>\n",
       "<style scoped>\n",
       "    .dataframe tbody tr th:only-of-type {\n",
       "        vertical-align: middle;\n",
       "    }\n",
       "\n",
       "    .dataframe tbody tr th {\n",
       "        vertical-align: top;\n",
       "    }\n",
       "\n",
       "    .dataframe thead th {\n",
       "        text-align: right;\n",
       "    }\n",
       "</style>\n",
       "<table border=\"1\" class=\"dataframe\">\n",
       "  <thead>\n",
       "    <tr style=\"text-align: right;\">\n",
       "      <th></th>\n",
       "      <th>customerID</th>\n",
       "      <th>customerName</th>\n",
       "      <th>customerAge</th>\n",
       "      <th>customerGender</th>\n",
       "      <th>customerLocation</th>\n",
       "      <th>customerEducation</th>\n",
       "      <th>customerIndustry</th>\n",
       "      <th>customerAuthorizedSignatories</th>\n",
       "      <th>customerGeneration</th>\n",
       "      <th>customerState</th>\n",
       "      <th>Recency</th>\n",
       "      <th>Frequency</th>\n",
       "      <th>MonetaryValue</th>\n",
       "      <th>R</th>\n",
       "      <th>F</th>\n",
       "      <th>M</th>\n",
       "      <th>RFM_Segment</th>\n",
       "      <th>RFM_Score</th>\n",
       "      <th>General_Segment</th>\n",
       "    </tr>\n",
       "  </thead>\n",
       "  <tbody>\n",
       "    <tr>\n",
       "      <th>0</th>\n",
       "      <td>57691954</td>\n",
       "      <td>Miss Patricia Baird</td>\n",
       "      <td>45</td>\n",
       "      <td>Male</td>\n",
       "      <td>65307 Chavez Bypass Apt. 116\\nPort Sharonview,...</td>\n",
       "      <td>PhD</td>\n",
       "      <td>Finance</td>\n",
       "      <td>['Miss Patricia Baird']</td>\n",
       "      <td>Gen X</td>\n",
       "      <td>NJ</td>\n",
       "      <td>6</td>\n",
       "      <td>192</td>\n",
       "      <td>812626.87</td>\n",
       "      <td>4</td>\n",
       "      <td>4</td>\n",
       "      <td>5</td>\n",
       "      <td>4.04.05.0</td>\n",
       "      <td>13</td>\n",
       "      <td>MVC</td>\n",
       "    </tr>\n",
       "    <tr>\n",
       "      <th>1</th>\n",
       "      <td>10915242</td>\n",
       "      <td>Abigail Quinn</td>\n",
       "      <td>38</td>\n",
       "      <td>Male</td>\n",
       "      <td>89836 Darryl Vista\\nStaceystad, MT 17850</td>\n",
       "      <td>Bachelor</td>\n",
       "      <td>Healthcare</td>\n",
       "      <td>['Abigail Quinn', 'Robert Walker']</td>\n",
       "      <td>Millennials</td>\n",
       "      <td>MT</td>\n",
       "      <td>2</td>\n",
       "      <td>192</td>\n",
       "      <td>716325.47</td>\n",
       "      <td>5</td>\n",
       "      <td>4</td>\n",
       "      <td>5</td>\n",
       "      <td>5.04.05.0</td>\n",
       "      <td>14</td>\n",
       "      <td>MVC</td>\n",
       "    </tr>\n",
       "    <tr>\n",
       "      <th>2</th>\n",
       "      <td>25972837</td>\n",
       "      <td>Robertson PLC</td>\n",
       "      <td>31</td>\n",
       "      <td>Female</td>\n",
       "      <td>USNS Vega\\nFPO AA 24277</td>\n",
       "      <td>PhD</td>\n",
       "      <td>Tourism</td>\n",
       "      <td>['Robertson PLC']</td>\n",
       "      <td>Millennials</td>\n",
       "      <td>None</td>\n",
       "      <td>4</td>\n",
       "      <td>192</td>\n",
       "      <td>766320.20</td>\n",
       "      <td>4</td>\n",
       "      <td>4</td>\n",
       "      <td>5</td>\n",
       "      <td>4.04.05.0</td>\n",
       "      <td>13</td>\n",
       "      <td>MVC</td>\n",
       "    </tr>\n",
       "    <tr>\n",
       "      <th>3</th>\n",
       "      <td>18390037</td>\n",
       "      <td>Robles Inc</td>\n",
       "      <td>56</td>\n",
       "      <td>Male</td>\n",
       "      <td>237 Sullivan Drive\\nSmithbury, RI 14765</td>\n",
       "      <td>PhD</td>\n",
       "      <td>Education</td>\n",
       "      <td>['Robles Inc', 'Mr. Nicholas Rogers']</td>\n",
       "      <td>Baby Boomers</td>\n",
       "      <td>RI</td>\n",
       "      <td>6</td>\n",
       "      <td>192</td>\n",
       "      <td>791639.06</td>\n",
       "      <td>4</td>\n",
       "      <td>4</td>\n",
       "      <td>5</td>\n",
       "      <td>4.04.05.0</td>\n",
       "      <td>13</td>\n",
       "      <td>MVC</td>\n",
       "    </tr>\n",
       "    <tr>\n",
       "      <th>4</th>\n",
       "      <td>39736631</td>\n",
       "      <td>Amy Smith</td>\n",
       "      <td>74</td>\n",
       "      <td>Male</td>\n",
       "      <td>166 Huber Street\\nEast Angela, AZ 54158</td>\n",
       "      <td>High School</td>\n",
       "      <td>Furniture</td>\n",
       "      <td>['Amy Smith', 'John Brooks']</td>\n",
       "      <td>Baby Boomers</td>\n",
       "      <td>AZ</td>\n",
       "      <td>12</td>\n",
       "      <td>192</td>\n",
       "      <td>785246.74</td>\n",
       "      <td>3</td>\n",
       "      <td>4</td>\n",
       "      <td>5</td>\n",
       "      <td>3.04.05.0</td>\n",
       "      <td>12</td>\n",
       "      <td>MVC</td>\n",
       "    </tr>\n",
       "  </tbody>\n",
       "</table>\n",
       "</div>"
      ],
      "text/plain": [
       "   customerID         customerName  customerAge customerGender  \\\n",
       "0    57691954  Miss Patricia Baird           45           Male   \n",
       "1    10915242        Abigail Quinn           38           Male   \n",
       "2    25972837        Robertson PLC           31         Female   \n",
       "3    18390037           Robles Inc           56           Male   \n",
       "4    39736631            Amy Smith           74           Male   \n",
       "\n",
       "                                    customerLocation customerEducation  \\\n",
       "0  65307 Chavez Bypass Apt. 116\\nPort Sharonview,...               PhD   \n",
       "1           89836 Darryl Vista\\nStaceystad, MT 17850          Bachelor   \n",
       "2                            USNS Vega\\nFPO AA 24277               PhD   \n",
       "3            237 Sullivan Drive\\nSmithbury, RI 14765               PhD   \n",
       "4            166 Huber Street\\nEast Angela, AZ 54158       High School   \n",
       "\n",
       "  customerIndustry          customerAuthorizedSignatories customerGeneration  \\\n",
       "0          Finance                ['Miss Patricia Baird']              Gen X   \n",
       "1       Healthcare     ['Abigail Quinn', 'Robert Walker']        Millennials   \n",
       "2          Tourism                      ['Robertson PLC']        Millennials   \n",
       "3        Education  ['Robles Inc', 'Mr. Nicholas Rogers']       Baby Boomers   \n",
       "4        Furniture           ['Amy Smith', 'John Brooks']       Baby Boomers   \n",
       "\n",
       "  customerState  Recency  Frequency  MonetaryValue  R  F  M RFM_Segment  \\\n",
       "0            NJ        6        192      812626.87  4  4  5   4.04.05.0   \n",
       "1            MT        2        192      716325.47  5  4  5   5.04.05.0   \n",
       "2          None        4        192      766320.20  4  4  5   4.04.05.0   \n",
       "3            RI        6        192      791639.06  4  4  5   4.04.05.0   \n",
       "4            AZ       12        192      785246.74  3  4  5   3.04.05.0   \n",
       "\n",
       "   RFM_Score General_Segment  \n",
       "0         13             MVC  \n",
       "1         14             MVC  \n",
       "2         13             MVC  \n",
       "3         13             MVC  \n",
       "4         12             MVC  "
      ]
     },
     "execution_count": 36,
     "metadata": {},
     "output_type": "execute_result"
    }
   ],
   "source": [
    "df_customer_datamart = pd.merge(df_customer, datamart, on='customerID', how='inner')\n",
    "df_customer_datamart.head()"
   ]
  },
  {
   "attachments": {},
   "cell_type": "markdown",
   "metadata": {},
   "source": [
    "## Show drill-down data or sub-segments\n",
    "\n",
    "Feel free to add more entries to list variable `sub_segment_columns=['customerEducation', 'customerIndustry', 'customerGeneration']`"
   ]
  },
  {
   "cell_type": "code",
   "execution_count": 37,
   "metadata": {},
   "outputs": [
    {
     "data": {
      "application/vnd.plotly.v1+json": {
       "config": {
        "plotlyServerURL": "https://plot.ly"
       },
       "data": [
        {
         "branchvalues": "total",
         "domain": {
          "x": [
           0,
           1
          ],
          "y": [
           0,
           1
          ]
         },
         "hovertemplate": "labels=%{label}<br>count=%{value}<br>parent=%{parent}<br>id=%{id}<extra></extra>",
         "ids": [
          "Bachelor/56/Baby Boomers",
          "High School/56/Baby Boomers",
          "PhD/56/Baby Boomers",
          "Bachelor/57/Baby Boomers",
          "High School/57/Baby Boomers",
          "PhD/57/Baby Boomers",
          "High School/58/Baby Boomers",
          "PhD/58/Baby Boomers",
          "High School/59/Baby Boomers",
          "Master/59/Baby Boomers",
          "PhD/59/Baby Boomers",
          "Bachelor/60/Baby Boomers",
          "High School/60/Baby Boomers",
          "Bachelor/61/Baby Boomers",
          "PhD/61/Baby Boomers",
          "Bachelor/62/Baby Boomers",
          "High School/62/Baby Boomers",
          "Bachelor/63/Baby Boomers",
          "High School/63/Baby Boomers",
          "Bachelor/64/Baby Boomers",
          "High School/64/Baby Boomers",
          "Master/64/Baby Boomers",
          "PhD/64/Baby Boomers",
          "Bachelor/65/Baby Boomers",
          "High School/65/Baby Boomers",
          "Master/65/Baby Boomers",
          "PhD/65/Baby Boomers",
          "High School/66/Baby Boomers",
          "PhD/66/Baby Boomers",
          "High School/67/Baby Boomers",
          "High School/68/Baby Boomers",
          "Bachelor/69/Baby Boomers",
          "High School/71/Baby Boomers",
          "High School/73/Baby Boomers",
          "Master/73/Baby Boomers",
          "High School/74/Baby Boomers",
          "Bachelor/75/Baby Boomers",
          "High School/75/Baby Boomers",
          "Bachelor/Food and Beverage/Baby Boomers",
          "High School/Food and Beverage/Baby Boomers",
          "Master/Food and Beverage/Baby Boomers",
          "PhD/Food and Beverage/Baby Boomers",
          "Bachelor/Furniture/Baby Boomers",
          "High School/Furniture/Baby Boomers",
          "Master/Furniture/Baby Boomers",
          "PhD/Furniture/Baby Boomers",
          "Bachelor/Textiles and Garments/Baby Boomers",
          "High School/Textiles and Garments/Baby Boomers",
          "Master/Textiles and Garments/Baby Boomers",
          "PhD/Textiles and Garments/Baby Boomers",
          "Bachelor/41/Gen X",
          "Master/41/Gen X",
          "Bachelor/42/Gen X",
          "Bachelor/43/Gen X",
          "High School/43/Gen X",
          "PhD/43/Gen X",
          "Bachelor/44/Gen X",
          "High School/44/Gen X",
          "High School/45/Gen X",
          "Bachelor/46/Gen X",
          "High School/46/Gen X",
          "Bachelor/47/Gen X",
          "High School/47/Gen X",
          "High School/48/Gen X",
          "PhD/48/Gen X",
          "High School/49/Gen X",
          "Master/49/Gen X",
          "PhD/49/Gen X",
          "Bachelor/50/Gen X",
          "Bachelor/51/Gen X",
          "High School/51/Gen X",
          "Master/51/Gen X",
          "Bachelor/52/Gen X",
          "High School/52/Gen X",
          "PhD/52/Gen X",
          "Bachelor/53/Gen X",
          "High School/53/Gen X",
          "Bachelor/54/Gen X",
          "High School/54/Gen X",
          "Bachelor/55/Gen X",
          "High School/55/Gen X",
          "Master/55/Gen X",
          "PhD/55/Gen X",
          "Bachelor/Food and Beverage/Gen X",
          "High School/Food and Beverage/Gen X",
          "Master/Food and Beverage/Gen X",
          "PhD/Food and Beverage/Gen X",
          "Bachelor/Furniture/Gen X",
          "High School/Furniture/Gen X",
          "Master/Furniture/Gen X",
          "PhD/Furniture/Gen X",
          "Bachelor/Textiles and Garments/Gen X",
          "High School/Textiles and Garments/Gen X",
          "Master/Textiles and Garments/Gen X",
          "PhD/Textiles and Garments/Gen X",
          "Bachelor/40/Millennials",
          "High School/40/Millennials",
          "Master/40/Millennials",
          "High School/Furniture/Millennials",
          "Master/Furniture/Millennials",
          "Bachelor/Textiles and Garments/Millennials",
          "High School/Textiles and Garments/Millennials",
          "Bachelor/76/Silent Generation",
          "High School/76/Silent Generation",
          "Bachelor/77/Silent Generation",
          "High School/77/Silent Generation",
          "Bachelor/78/Silent Generation",
          "High School/79/Silent Generation",
          "Master/79/Silent Generation",
          "High School/80/Silent Generation",
          "PhD/80/Silent Generation",
          "Bachelor/Food and Beverage/Silent Generation",
          "Master/Food and Beverage/Silent Generation",
          "PhD/Food and Beverage/Silent Generation",
          "High School/Furniture/Silent Generation",
          "Master/Furniture/Silent Generation",
          "PhD/Furniture/Silent Generation",
          "High School/Textiles and Garments/Silent Generation",
          "PhD/Textiles and Garments/Silent Generation",
          "Bachelor/40",
          "High School/40",
          "Master/40",
          "Bachelor/41",
          "Master/41",
          "Bachelor/42",
          "Bachelor/43",
          "High School/43",
          "PhD/43",
          "Bachelor/44",
          "High School/44",
          "High School/45",
          "Bachelor/46",
          "High School/46",
          "Bachelor/47",
          "High School/47",
          "High School/48",
          "PhD/48",
          "High School/49",
          "Master/49",
          "PhD/49",
          "Bachelor/50",
          "Bachelor/51",
          "High School/51",
          "Master/51",
          "Bachelor/52",
          "High School/52",
          "PhD/52",
          "Bachelor/53",
          "High School/53",
          "Bachelor/54",
          "High School/54",
          "Bachelor/55",
          "High School/55",
          "Master/55",
          "PhD/55",
          "Bachelor/56",
          "High School/56",
          "PhD/56",
          "Bachelor/57",
          "High School/57",
          "PhD/57",
          "High School/58",
          "PhD/58",
          "High School/59",
          "Master/59",
          "PhD/59",
          "Bachelor/60",
          "High School/60",
          "Bachelor/61",
          "PhD/61",
          "Bachelor/62",
          "High School/62",
          "Bachelor/63",
          "High School/63",
          "Bachelor/64",
          "High School/64",
          "Master/64",
          "PhD/64",
          "Bachelor/65",
          "High School/65",
          "Master/65",
          "PhD/65",
          "High School/66",
          "PhD/66",
          "High School/67",
          "High School/68",
          "Bachelor/69",
          "High School/71",
          "High School/73",
          "Master/73",
          "High School/74",
          "Bachelor/75",
          "High School/75",
          "Bachelor/76",
          "High School/76",
          "Bachelor/77",
          "High School/77",
          "Bachelor/78",
          "High School/79",
          "Master/79",
          "High School/80",
          "PhD/80",
          "Bachelor/Food and Beverage",
          "High School/Food and Beverage",
          "Master/Food and Beverage",
          "PhD/Food and Beverage",
          "Bachelor/Furniture",
          "High School/Furniture",
          "Master/Furniture",
          "PhD/Furniture",
          "Bachelor/Textiles and Garments",
          "High School/Textiles and Garments",
          "Master/Textiles and Garments",
          "PhD/Textiles and Garments",
          "Bachelor",
          "High School",
          "Master",
          "PhD"
         ],
         "labels": [
          "Baby Boomers",
          "Baby Boomers",
          "Baby Boomers",
          "Baby Boomers",
          "Baby Boomers",
          "Baby Boomers",
          "Baby Boomers",
          "Baby Boomers",
          "Baby Boomers",
          "Baby Boomers",
          "Baby Boomers",
          "Baby Boomers",
          "Baby Boomers",
          "Baby Boomers",
          "Baby Boomers",
          "Baby Boomers",
          "Baby Boomers",
          "Baby Boomers",
          "Baby Boomers",
          "Baby Boomers",
          "Baby Boomers",
          "Baby Boomers",
          "Baby Boomers",
          "Baby Boomers",
          "Baby Boomers",
          "Baby Boomers",
          "Baby Boomers",
          "Baby Boomers",
          "Baby Boomers",
          "Baby Boomers",
          "Baby Boomers",
          "Baby Boomers",
          "Baby Boomers",
          "Baby Boomers",
          "Baby Boomers",
          "Baby Boomers",
          "Baby Boomers",
          "Baby Boomers",
          "Baby Boomers",
          "Baby Boomers",
          "Baby Boomers",
          "Baby Boomers",
          "Baby Boomers",
          "Baby Boomers",
          "Baby Boomers",
          "Baby Boomers",
          "Baby Boomers",
          "Baby Boomers",
          "Baby Boomers",
          "Baby Boomers",
          "Gen X",
          "Gen X",
          "Gen X",
          "Gen X",
          "Gen X",
          "Gen X",
          "Gen X",
          "Gen X",
          "Gen X",
          "Gen X",
          "Gen X",
          "Gen X",
          "Gen X",
          "Gen X",
          "Gen X",
          "Gen X",
          "Gen X",
          "Gen X",
          "Gen X",
          "Gen X",
          "Gen X",
          "Gen X",
          "Gen X",
          "Gen X",
          "Gen X",
          "Gen X",
          "Gen X",
          "Gen X",
          "Gen X",
          "Gen X",
          "Gen X",
          "Gen X",
          "Gen X",
          "Gen X",
          "Gen X",
          "Gen X",
          "Gen X",
          "Gen X",
          "Gen X",
          "Gen X",
          "Gen X",
          "Gen X",
          "Gen X",
          "Gen X",
          "Gen X",
          "Millennials",
          "Millennials",
          "Millennials",
          "Millennials",
          "Millennials",
          "Millennials",
          "Millennials",
          "Silent Generation",
          "Silent Generation",
          "Silent Generation",
          "Silent Generation",
          "Silent Generation",
          "Silent Generation",
          "Silent Generation",
          "Silent Generation",
          "Silent Generation",
          "Silent Generation",
          "Silent Generation",
          "Silent Generation",
          "Silent Generation",
          "Silent Generation",
          "Silent Generation",
          "Silent Generation",
          "Silent Generation",
          "40",
          "40",
          "40",
          "41",
          "41",
          "42",
          "43",
          "43",
          "43",
          "44",
          "44",
          "45",
          "46",
          "46",
          "47",
          "47",
          "48",
          "48",
          "49",
          "49",
          "49",
          "50",
          "51",
          "51",
          "51",
          "52",
          "52",
          "52",
          "53",
          "53",
          "54",
          "54",
          "55",
          "55",
          "55",
          "55",
          "56",
          "56",
          "56",
          "57",
          "57",
          "57",
          "58",
          "58",
          "59",
          "59",
          "59",
          "60",
          "60",
          "61",
          "61",
          "62",
          "62",
          "63",
          "63",
          "64",
          "64",
          "64",
          "64",
          "65",
          "65",
          "65",
          "65",
          "66",
          "66",
          "67",
          "68",
          "69",
          "71",
          "73",
          "73",
          "74",
          "75",
          "75",
          "76",
          "76",
          "77",
          "77",
          "78",
          "79",
          "79",
          "80",
          "80",
          "Food and Beverage",
          "Food and Beverage",
          "Food and Beverage",
          "Food and Beverage",
          "Furniture",
          "Furniture",
          "Furniture",
          "Furniture",
          "Textiles and Garments",
          "Textiles and Garments",
          "Textiles and Garments",
          "Textiles and Garments",
          "Bachelor",
          "High School",
          "Master",
          "PhD"
         ],
         "name": "",
         "parents": [
          "Bachelor/56",
          "High School/56",
          "PhD/56",
          "Bachelor/57",
          "High School/57",
          "PhD/57",
          "High School/58",
          "PhD/58",
          "High School/59",
          "Master/59",
          "PhD/59",
          "Bachelor/60",
          "High School/60",
          "Bachelor/61",
          "PhD/61",
          "Bachelor/62",
          "High School/62",
          "Bachelor/63",
          "High School/63",
          "Bachelor/64",
          "High School/64",
          "Master/64",
          "PhD/64",
          "Bachelor/65",
          "High School/65",
          "Master/65",
          "PhD/65",
          "High School/66",
          "PhD/66",
          "High School/67",
          "High School/68",
          "Bachelor/69",
          "High School/71",
          "High School/73",
          "Master/73",
          "High School/74",
          "Bachelor/75",
          "High School/75",
          "Bachelor/Food and Beverage",
          "High School/Food and Beverage",
          "Master/Food and Beverage",
          "PhD/Food and Beverage",
          "Bachelor/Furniture",
          "High School/Furniture",
          "Master/Furniture",
          "PhD/Furniture",
          "Bachelor/Textiles and Garments",
          "High School/Textiles and Garments",
          "Master/Textiles and Garments",
          "PhD/Textiles and Garments",
          "Bachelor/41",
          "Master/41",
          "Bachelor/42",
          "Bachelor/43",
          "High School/43",
          "PhD/43",
          "Bachelor/44",
          "High School/44",
          "High School/45",
          "Bachelor/46",
          "High School/46",
          "Bachelor/47",
          "High School/47",
          "High School/48",
          "PhD/48",
          "High School/49",
          "Master/49",
          "PhD/49",
          "Bachelor/50",
          "Bachelor/51",
          "High School/51",
          "Master/51",
          "Bachelor/52",
          "High School/52",
          "PhD/52",
          "Bachelor/53",
          "High School/53",
          "Bachelor/54",
          "High School/54",
          "Bachelor/55",
          "High School/55",
          "Master/55",
          "PhD/55",
          "Bachelor/Food and Beverage",
          "High School/Food and Beverage",
          "Master/Food and Beverage",
          "PhD/Food and Beverage",
          "Bachelor/Furniture",
          "High School/Furniture",
          "Master/Furniture",
          "PhD/Furniture",
          "Bachelor/Textiles and Garments",
          "High School/Textiles and Garments",
          "Master/Textiles and Garments",
          "PhD/Textiles and Garments",
          "Bachelor/40",
          "High School/40",
          "Master/40",
          "High School/Furniture",
          "Master/Furniture",
          "Bachelor/Textiles and Garments",
          "High School/Textiles and Garments",
          "Bachelor/76",
          "High School/76",
          "Bachelor/77",
          "High School/77",
          "Bachelor/78",
          "High School/79",
          "Master/79",
          "High School/80",
          "PhD/80",
          "Bachelor/Food and Beverage",
          "Master/Food and Beverage",
          "PhD/Food and Beverage",
          "High School/Furniture",
          "Master/Furniture",
          "PhD/Furniture",
          "High School/Textiles and Garments",
          "PhD/Textiles and Garments",
          "Bachelor",
          "High School",
          "Master",
          "Bachelor",
          "Master",
          "Bachelor",
          "Bachelor",
          "High School",
          "PhD",
          "Bachelor",
          "High School",
          "High School",
          "Bachelor",
          "High School",
          "Bachelor",
          "High School",
          "High School",
          "PhD",
          "High School",
          "Master",
          "PhD",
          "Bachelor",
          "Bachelor",
          "High School",
          "Master",
          "Bachelor",
          "High School",
          "PhD",
          "Bachelor",
          "High School",
          "Bachelor",
          "High School",
          "Bachelor",
          "High School",
          "Master",
          "PhD",
          "Bachelor",
          "High School",
          "PhD",
          "Bachelor",
          "High School",
          "PhD",
          "High School",
          "PhD",
          "High School",
          "Master",
          "PhD",
          "Bachelor",
          "High School",
          "Bachelor",
          "PhD",
          "Bachelor",
          "High School",
          "Bachelor",
          "High School",
          "Bachelor",
          "High School",
          "Master",
          "PhD",
          "Bachelor",
          "High School",
          "Master",
          "PhD",
          "High School",
          "PhD",
          "High School",
          "High School",
          "Bachelor",
          "High School",
          "High School",
          "Master",
          "High School",
          "Bachelor",
          "High School",
          "Bachelor",
          "High School",
          "Bachelor",
          "High School",
          "Bachelor",
          "High School",
          "Master",
          "High School",
          "PhD",
          "Bachelor",
          "High School",
          "Master",
          "PhD",
          "Bachelor",
          "High School",
          "Master",
          "PhD",
          "Bachelor",
          "High School",
          "Master",
          "PhD",
          "",
          "",
          "",
          ""
         ],
         "root": {
          "color": "lightgrey"
         },
         "type": "treemap",
         "values": [
          2,
          6,
          1,
          2,
          1,
          1,
          1,
          1,
          2,
          1,
          2,
          1,
          3,
          1,
          1,
          4,
          2,
          2,
          4,
          1,
          2,
          1,
          1,
          1,
          5,
          1,
          1,
          4,
          1,
          1,
          5,
          1,
          1,
          1,
          1,
          1,
          1,
          1,
          20,
          27,
          7,
          9,
          16,
          39,
          5,
          3,
          24,
          27,
          4,
          3,
          1,
          1,
          1,
          2,
          1,
          1,
          1,
          1,
          2,
          1,
          3,
          1,
          1,
          3,
          1,
          1,
          1,
          1,
          3,
          1,
          3,
          1,
          1,
          3,
          1,
          1,
          2,
          2,
          2,
          2,
          2,
          1,
          2,
          18,
          26,
          4,
          5,
          19,
          23,
          2,
          6,
          17,
          23,
          6,
          6,
          2,
          1,
          1,
          2,
          1,
          1,
          3,
          1,
          1,
          2,
          2,
          1,
          3,
          1,
          1,
          1,
          3,
          2,
          1,
          6,
          2,
          1,
          4,
          1,
          2,
          1,
          1,
          1,
          1,
          1,
          2,
          1,
          1,
          1,
          1,
          2,
          1,
          3,
          1,
          1,
          3,
          1,
          1,
          1,
          1,
          3,
          1,
          3,
          1,
          1,
          3,
          1,
          1,
          2,
          2,
          2,
          2,
          2,
          1,
          2,
          2,
          6,
          1,
          2,
          1,
          1,
          1,
          1,
          2,
          1,
          2,
          1,
          3,
          1,
          1,
          4,
          2,
          2,
          4,
          1,
          2,
          1,
          1,
          1,
          5,
          1,
          1,
          4,
          1,
          1,
          5,
          1,
          1,
          1,
          1,
          1,
          1,
          1,
          1,
          1,
          2,
          2,
          1,
          3,
          1,
          1,
          1,
          41,
          53,
          13,
          15,
          35,
          70,
          10,
          10,
          42,
          57,
          10,
          10,
          157,
          252,
          43,
          51
         ]
        }
       ],
       "layout": {
        "legend": {
         "tracegroupgap": 0
        },
        "margin": {
         "b": 25,
         "l": 25,
         "r": 25,
         "t": 50
        },
        "template": {
         "data": {
          "bar": [
           {
            "error_x": {
             "color": "#2a3f5f"
            },
            "error_y": {
             "color": "#2a3f5f"
            },
            "marker": {
             "line": {
              "color": "#E5ECF6",
              "width": 0.5
             },
             "pattern": {
              "fillmode": "overlay",
              "size": 10,
              "solidity": 0.2
             }
            },
            "type": "bar"
           }
          ],
          "barpolar": [
           {
            "marker": {
             "line": {
              "color": "#E5ECF6",
              "width": 0.5
             },
             "pattern": {
              "fillmode": "overlay",
              "size": 10,
              "solidity": 0.2
             }
            },
            "type": "barpolar"
           }
          ],
          "carpet": [
           {
            "aaxis": {
             "endlinecolor": "#2a3f5f",
             "gridcolor": "white",
             "linecolor": "white",
             "minorgridcolor": "white",
             "startlinecolor": "#2a3f5f"
            },
            "baxis": {
             "endlinecolor": "#2a3f5f",
             "gridcolor": "white",
             "linecolor": "white",
             "minorgridcolor": "white",
             "startlinecolor": "#2a3f5f"
            },
            "type": "carpet"
           }
          ],
          "choropleth": [
           {
            "colorbar": {
             "outlinewidth": 0,
             "ticks": ""
            },
            "type": "choropleth"
           }
          ],
          "contour": [
           {
            "colorbar": {
             "outlinewidth": 0,
             "ticks": ""
            },
            "colorscale": [
             [
              0,
              "#0d0887"
             ],
             [
              0.1111111111111111,
              "#46039f"
             ],
             [
              0.2222222222222222,
              "#7201a8"
             ],
             [
              0.3333333333333333,
              "#9c179e"
             ],
             [
              0.4444444444444444,
              "#bd3786"
             ],
             [
              0.5555555555555556,
              "#d8576b"
             ],
             [
              0.6666666666666666,
              "#ed7953"
             ],
             [
              0.7777777777777778,
              "#fb9f3a"
             ],
             [
              0.8888888888888888,
              "#fdca26"
             ],
             [
              1,
              "#f0f921"
             ]
            ],
            "type": "contour"
           }
          ],
          "contourcarpet": [
           {
            "colorbar": {
             "outlinewidth": 0,
             "ticks": ""
            },
            "type": "contourcarpet"
           }
          ],
          "heatmap": [
           {
            "colorbar": {
             "outlinewidth": 0,
             "ticks": ""
            },
            "colorscale": [
             [
              0,
              "#0d0887"
             ],
             [
              0.1111111111111111,
              "#46039f"
             ],
             [
              0.2222222222222222,
              "#7201a8"
             ],
             [
              0.3333333333333333,
              "#9c179e"
             ],
             [
              0.4444444444444444,
              "#bd3786"
             ],
             [
              0.5555555555555556,
              "#d8576b"
             ],
             [
              0.6666666666666666,
              "#ed7953"
             ],
             [
              0.7777777777777778,
              "#fb9f3a"
             ],
             [
              0.8888888888888888,
              "#fdca26"
             ],
             [
              1,
              "#f0f921"
             ]
            ],
            "type": "heatmap"
           }
          ],
          "heatmapgl": [
           {
            "colorbar": {
             "outlinewidth": 0,
             "ticks": ""
            },
            "colorscale": [
             [
              0,
              "#0d0887"
             ],
             [
              0.1111111111111111,
              "#46039f"
             ],
             [
              0.2222222222222222,
              "#7201a8"
             ],
             [
              0.3333333333333333,
              "#9c179e"
             ],
             [
              0.4444444444444444,
              "#bd3786"
             ],
             [
              0.5555555555555556,
              "#d8576b"
             ],
             [
              0.6666666666666666,
              "#ed7953"
             ],
             [
              0.7777777777777778,
              "#fb9f3a"
             ],
             [
              0.8888888888888888,
              "#fdca26"
             ],
             [
              1,
              "#f0f921"
             ]
            ],
            "type": "heatmapgl"
           }
          ],
          "histogram": [
           {
            "marker": {
             "pattern": {
              "fillmode": "overlay",
              "size": 10,
              "solidity": 0.2
             }
            },
            "type": "histogram"
           }
          ],
          "histogram2d": [
           {
            "colorbar": {
             "outlinewidth": 0,
             "ticks": ""
            },
            "colorscale": [
             [
              0,
              "#0d0887"
             ],
             [
              0.1111111111111111,
              "#46039f"
             ],
             [
              0.2222222222222222,
              "#7201a8"
             ],
             [
              0.3333333333333333,
              "#9c179e"
             ],
             [
              0.4444444444444444,
              "#bd3786"
             ],
             [
              0.5555555555555556,
              "#d8576b"
             ],
             [
              0.6666666666666666,
              "#ed7953"
             ],
             [
              0.7777777777777778,
              "#fb9f3a"
             ],
             [
              0.8888888888888888,
              "#fdca26"
             ],
             [
              1,
              "#f0f921"
             ]
            ],
            "type": "histogram2d"
           }
          ],
          "histogram2dcontour": [
           {
            "colorbar": {
             "outlinewidth": 0,
             "ticks": ""
            },
            "colorscale": [
             [
              0,
              "#0d0887"
             ],
             [
              0.1111111111111111,
              "#46039f"
             ],
             [
              0.2222222222222222,
              "#7201a8"
             ],
             [
              0.3333333333333333,
              "#9c179e"
             ],
             [
              0.4444444444444444,
              "#bd3786"
             ],
             [
              0.5555555555555556,
              "#d8576b"
             ],
             [
              0.6666666666666666,
              "#ed7953"
             ],
             [
              0.7777777777777778,
              "#fb9f3a"
             ],
             [
              0.8888888888888888,
              "#fdca26"
             ],
             [
              1,
              "#f0f921"
             ]
            ],
            "type": "histogram2dcontour"
           }
          ],
          "mesh3d": [
           {
            "colorbar": {
             "outlinewidth": 0,
             "ticks": ""
            },
            "type": "mesh3d"
           }
          ],
          "parcoords": [
           {
            "line": {
             "colorbar": {
              "outlinewidth": 0,
              "ticks": ""
             }
            },
            "type": "parcoords"
           }
          ],
          "pie": [
           {
            "automargin": true,
            "type": "pie"
           }
          ],
          "scatter": [
           {
            "fillpattern": {
             "fillmode": "overlay",
             "size": 10,
             "solidity": 0.2
            },
            "type": "scatter"
           }
          ],
          "scatter3d": [
           {
            "line": {
             "colorbar": {
              "outlinewidth": 0,
              "ticks": ""
             }
            },
            "marker": {
             "colorbar": {
              "outlinewidth": 0,
              "ticks": ""
             }
            },
            "type": "scatter3d"
           }
          ],
          "scattercarpet": [
           {
            "marker": {
             "colorbar": {
              "outlinewidth": 0,
              "ticks": ""
             }
            },
            "type": "scattercarpet"
           }
          ],
          "scattergeo": [
           {
            "marker": {
             "colorbar": {
              "outlinewidth": 0,
              "ticks": ""
             }
            },
            "type": "scattergeo"
           }
          ],
          "scattergl": [
           {
            "marker": {
             "colorbar": {
              "outlinewidth": 0,
              "ticks": ""
             }
            },
            "type": "scattergl"
           }
          ],
          "scattermapbox": [
           {
            "marker": {
             "colorbar": {
              "outlinewidth": 0,
              "ticks": ""
             }
            },
            "type": "scattermapbox"
           }
          ],
          "scatterpolar": [
           {
            "marker": {
             "colorbar": {
              "outlinewidth": 0,
              "ticks": ""
             }
            },
            "type": "scatterpolar"
           }
          ],
          "scatterpolargl": [
           {
            "marker": {
             "colorbar": {
              "outlinewidth": 0,
              "ticks": ""
             }
            },
            "type": "scatterpolargl"
           }
          ],
          "scatterternary": [
           {
            "marker": {
             "colorbar": {
              "outlinewidth": 0,
              "ticks": ""
             }
            },
            "type": "scatterternary"
           }
          ],
          "surface": [
           {
            "colorbar": {
             "outlinewidth": 0,
             "ticks": ""
            },
            "colorscale": [
             [
              0,
              "#0d0887"
             ],
             [
              0.1111111111111111,
              "#46039f"
             ],
             [
              0.2222222222222222,
              "#7201a8"
             ],
             [
              0.3333333333333333,
              "#9c179e"
             ],
             [
              0.4444444444444444,
              "#bd3786"
             ],
             [
              0.5555555555555556,
              "#d8576b"
             ],
             [
              0.6666666666666666,
              "#ed7953"
             ],
             [
              0.7777777777777778,
              "#fb9f3a"
             ],
             [
              0.8888888888888888,
              "#fdca26"
             ],
             [
              1,
              "#f0f921"
             ]
            ],
            "type": "surface"
           }
          ],
          "table": [
           {
            "cells": {
             "fill": {
              "color": "#EBF0F8"
             },
             "line": {
              "color": "white"
             }
            },
            "header": {
             "fill": {
              "color": "#C8D4E3"
             },
             "line": {
              "color": "white"
             }
            },
            "type": "table"
           }
          ]
         },
         "layout": {
          "annotationdefaults": {
           "arrowcolor": "#2a3f5f",
           "arrowhead": 0,
           "arrowwidth": 1
          },
          "autotypenumbers": "strict",
          "coloraxis": {
           "colorbar": {
            "outlinewidth": 0,
            "ticks": ""
           }
          },
          "colorscale": {
           "diverging": [
            [
             0,
             "#8e0152"
            ],
            [
             0.1,
             "#c51b7d"
            ],
            [
             0.2,
             "#de77ae"
            ],
            [
             0.3,
             "#f1b6da"
            ],
            [
             0.4,
             "#fde0ef"
            ],
            [
             0.5,
             "#f7f7f7"
            ],
            [
             0.6,
             "#e6f5d0"
            ],
            [
             0.7,
             "#b8e186"
            ],
            [
             0.8,
             "#7fbc41"
            ],
            [
             0.9,
             "#4d9221"
            ],
            [
             1,
             "#276419"
            ]
           ],
           "sequential": [
            [
             0,
             "#0d0887"
            ],
            [
             0.1111111111111111,
             "#46039f"
            ],
            [
             0.2222222222222222,
             "#7201a8"
            ],
            [
             0.3333333333333333,
             "#9c179e"
            ],
            [
             0.4444444444444444,
             "#bd3786"
            ],
            [
             0.5555555555555556,
             "#d8576b"
            ],
            [
             0.6666666666666666,
             "#ed7953"
            ],
            [
             0.7777777777777778,
             "#fb9f3a"
            ],
            [
             0.8888888888888888,
             "#fdca26"
            ],
            [
             1,
             "#f0f921"
            ]
           ],
           "sequentialminus": [
            [
             0,
             "#0d0887"
            ],
            [
             0.1111111111111111,
             "#46039f"
            ],
            [
             0.2222222222222222,
             "#7201a8"
            ],
            [
             0.3333333333333333,
             "#9c179e"
            ],
            [
             0.4444444444444444,
             "#bd3786"
            ],
            [
             0.5555555555555556,
             "#d8576b"
            ],
            [
             0.6666666666666666,
             "#ed7953"
            ],
            [
             0.7777777777777778,
             "#fb9f3a"
            ],
            [
             0.8888888888888888,
             "#fdca26"
            ],
            [
             1,
             "#f0f921"
            ]
           ]
          },
          "colorway": [
           "#636efa",
           "#EF553B",
           "#00cc96",
           "#ab63fa",
           "#FFA15A",
           "#19d3f3",
           "#FF6692",
           "#B6E880",
           "#FF97FF",
           "#FECB52"
          ],
          "font": {
           "color": "#2a3f5f"
          },
          "geo": {
           "bgcolor": "white",
           "lakecolor": "white",
           "landcolor": "#E5ECF6",
           "showlakes": true,
           "showland": true,
           "subunitcolor": "white"
          },
          "hoverlabel": {
           "align": "left"
          },
          "hovermode": "closest",
          "mapbox": {
           "style": "light"
          },
          "paper_bgcolor": "white",
          "plot_bgcolor": "#E5ECF6",
          "polar": {
           "angularaxis": {
            "gridcolor": "white",
            "linecolor": "white",
            "ticks": ""
           },
           "bgcolor": "#E5ECF6",
           "radialaxis": {
            "gridcolor": "white",
            "linecolor": "white",
            "ticks": ""
           }
          },
          "scene": {
           "xaxis": {
            "backgroundcolor": "#E5ECF6",
            "gridcolor": "white",
            "gridwidth": 2,
            "linecolor": "white",
            "showbackground": true,
            "ticks": "",
            "zerolinecolor": "white"
           },
           "yaxis": {
            "backgroundcolor": "#E5ECF6",
            "gridcolor": "white",
            "gridwidth": 2,
            "linecolor": "white",
            "showbackground": true,
            "ticks": "",
            "zerolinecolor": "white"
           },
           "zaxis": {
            "backgroundcolor": "#E5ECF6",
            "gridcolor": "white",
            "gridwidth": 2,
            "linecolor": "white",
            "showbackground": true,
            "ticks": "",
            "zerolinecolor": "white"
           }
          },
          "shapedefaults": {
           "line": {
            "color": "#2a3f5f"
           }
          },
          "ternary": {
           "aaxis": {
            "gridcolor": "white",
            "linecolor": "white",
            "ticks": ""
           },
           "baxis": {
            "gridcolor": "white",
            "linecolor": "white",
            "ticks": ""
           },
           "bgcolor": "#E5ECF6",
           "caxis": {
            "gridcolor": "white",
            "linecolor": "white",
            "ticks": ""
           }
          },
          "title": {
           "x": 0.05
          },
          "xaxis": {
           "automargin": true,
           "gridcolor": "white",
           "linecolor": "white",
           "ticks": "",
           "title": {
            "standoff": 15
           },
           "zerolinecolor": "white",
           "zerolinewidth": 2
          },
          "yaxis": {
           "automargin": true,
           "gridcolor": "white",
           "linecolor": "white",
           "ticks": "",
           "title": {
            "standoff": 15
           },
           "zerolinecolor": "white",
           "zerolinewidth": 2
          }
         }
        },
        "title": {
         "text": "Churned Folk"
        }
       }
      }
     },
     "metadata": {},
     "output_type": "display_data"
    },
    {
     "data": {
      "application/vnd.plotly.v1+json": {
       "config": {
        "plotlyServerURL": "https://plot.ly"
       },
       "data": [
        {
         "branchvalues": "total",
         "domain": {
          "x": [
           0,
           1
          ],
          "y": [
           0,
           1
          ]
         },
         "hovertemplate": "labels=%{label}<br>count=%{value}<br>parent=%{parent}<br>id=%{id}<extra></extra>",
         "ids": [
          "Bachelor/Automotive/Baby Boomers",
          "High School/Automotive/Baby Boomers",
          "Master/Automotive/Baby Boomers",
          "PhD/Automotive/Baby Boomers",
          "Bachelor/Education/Baby Boomers",
          "High School/Education/Baby Boomers",
          "Master/Education/Baby Boomers",
          "PhD/Education/Baby Boomers",
          "Bachelor/Finance/Baby Boomers",
          "High School/Finance/Baby Boomers",
          "Master/Finance/Baby Boomers",
          "PhD/Finance/Baby Boomers",
          "Bachelor/Food and Beverage/Baby Boomers",
          "High School/Food and Beverage/Baby Boomers",
          "Master/Food and Beverage/Baby Boomers",
          "PhD/Food and Beverage/Baby Boomers",
          "Bachelor/Furniture/Baby Boomers",
          "High School/Furniture/Baby Boomers",
          "Master/Furniture/Baby Boomers",
          "PhD/Furniture/Baby Boomers",
          "Bachelor/Healthcare/Baby Boomers",
          "High School/Healthcare/Baby Boomers",
          "Master/Healthcare/Baby Boomers",
          "PhD/Healthcare/Baby Boomers",
          "Bachelor/Hospitality/Baby Boomers",
          "High School/Hospitality/Baby Boomers",
          "Master/Hospitality/Baby Boomers",
          "PhD/Hospitality/Baby Boomers",
          "Bachelor/IT/Baby Boomers",
          "High School/IT/Baby Boomers",
          "Master/IT/Baby Boomers",
          "PhD/IT/Baby Boomers",
          "Bachelor/Manufacturing/Baby Boomers",
          "High School/Manufacturing/Baby Boomers",
          "Master/Manufacturing/Baby Boomers",
          "PhD/Manufacturing/Baby Boomers",
          "Bachelor/Retail/Baby Boomers",
          "High School/Retail/Baby Boomers",
          "Master/Retail/Baby Boomers",
          "PhD/Retail/Baby Boomers",
          "Bachelor/Textiles and Garments/Baby Boomers",
          "High School/Textiles and Garments/Baby Boomers",
          "Master/Textiles and Garments/Baby Boomers",
          "PhD/Textiles and Garments/Baby Boomers",
          "Bachelor/Tourism/Baby Boomers",
          "High School/Tourism/Baby Boomers",
          "Master/Tourism/Baby Boomers",
          "PhD/Tourism/Baby Boomers",
          "Bachelor/Automotive/Gen X",
          "High School/Automotive/Gen X",
          "Master/Automotive/Gen X",
          "PhD/Automotive/Gen X",
          "High School/Education/Gen X",
          "Master/Education/Gen X",
          "PhD/Education/Gen X",
          "Bachelor/Finance/Gen X",
          "High School/Finance/Gen X",
          "Master/Finance/Gen X",
          "PhD/Finance/Gen X",
          "Bachelor/Food and Beverage/Gen X",
          "High School/Food and Beverage/Gen X",
          "Master/Food and Beverage/Gen X",
          "Bachelor/Furniture/Gen X",
          "Master/Furniture/Gen X",
          "High School/Healthcare/Gen X",
          "Master/Healthcare/Gen X",
          "PhD/Healthcare/Gen X",
          "Bachelor/Hospitality/Gen X",
          "High School/Hospitality/Gen X",
          "Master/Hospitality/Gen X",
          "PhD/Hospitality/Gen X",
          "Bachelor/IT/Gen X",
          "High School/IT/Gen X",
          "Master/IT/Gen X",
          "PhD/IT/Gen X",
          "Bachelor/Manufacturing/Gen X",
          "Master/Manufacturing/Gen X",
          "PhD/Manufacturing/Gen X",
          "Bachelor/Retail/Gen X",
          "High School/Retail/Gen X",
          "Bachelor/Textiles and Garments/Gen X",
          "High School/Textiles and Garments/Gen X",
          "PhD/Textiles and Garments/Gen X",
          "Bachelor/Tourism/Gen X",
          "High School/Tourism/Gen X",
          "Master/Tourism/Gen X",
          "PhD/Tourism/Gen X",
          "PhD/Automotive/Gen Z",
          "Bachelor/Education/Gen Z",
          "Bachelor/Finance/Gen Z",
          "High School/Finance/Gen Z",
          "PhD/Finance/Gen Z",
          "Bachelor/Food and Beverage/Gen Z",
          "High School/Food and Beverage/Gen Z",
          "High School/Furniture/Gen Z",
          "High School/Healthcare/Gen Z",
          "PhD/Healthcare/Gen Z",
          "Bachelor/Hospitality/Gen Z",
          "Master/Hospitality/Gen Z",
          "Bachelor/IT/Gen Z",
          "High School/IT/Gen Z",
          "Master/IT/Gen Z",
          "PhD/IT/Gen Z",
          "Bachelor/Manufacturing/Gen Z",
          "High School/Retail/Gen Z",
          "Master/Retail/Gen Z",
          "PhD/Retail/Gen Z",
          "Bachelor/Textiles and Garments/Gen Z",
          "High School/Textiles and Garments/Gen Z",
          "Bachelor/Tourism/Gen Z",
          "High School/Automotive/Millennials",
          "Master/Automotive/Millennials",
          "PhD/Automotive/Millennials",
          "Bachelor/Education/Millennials",
          "High School/Education/Millennials",
          "Master/Education/Millennials",
          "PhD/Education/Millennials",
          "Bachelor/Finance/Millennials",
          "High School/Finance/Millennials",
          "Master/Finance/Millennials",
          "PhD/Finance/Millennials",
          "Bachelor/Food and Beverage/Millennials",
          "High School/Food and Beverage/Millennials",
          "Master/Food and Beverage/Millennials",
          "PhD/Food and Beverage/Millennials",
          "High School/Furniture/Millennials",
          "PhD/Furniture/Millennials",
          "Bachelor/Healthcare/Millennials",
          "High School/Healthcare/Millennials",
          "Master/Healthcare/Millennials",
          "PhD/Healthcare/Millennials",
          "High School/Hospitality/Millennials",
          "Master/Hospitality/Millennials",
          "PhD/Hospitality/Millennials",
          "Bachelor/IT/Millennials",
          "Master/IT/Millennials",
          "PhD/IT/Millennials",
          "Bachelor/Manufacturing/Millennials",
          "Master/Manufacturing/Millennials",
          "PhD/Manufacturing/Millennials",
          "Bachelor/Retail/Millennials",
          "High School/Retail/Millennials",
          "PhD/Retail/Millennials",
          "Bachelor/Textiles and Garments/Millennials",
          "High School/Textiles and Garments/Millennials",
          "Master/Textiles and Garments/Millennials",
          "PhD/Textiles and Garments/Millennials",
          "Bachelor/Tourism/Millennials",
          "Master/Tourism/Millennials",
          "PhD/Tourism/Millennials",
          "Master/Automotive/Silent Generation",
          "PhD/Education/Silent Generation",
          "High School/Finance/Silent Generation",
          "Bachelor/Food and Beverage/Silent Generation",
          "High School/Food and Beverage/Silent Generation",
          "Master/Food and Beverage/Silent Generation",
          "PhD/Food and Beverage/Silent Generation",
          "Bachelor/Healthcare/Silent Generation",
          "High School/Healthcare/Silent Generation",
          "Master/Healthcare/Silent Generation",
          "PhD/Healthcare/Silent Generation",
          "PhD/Hospitality/Silent Generation",
          "Bachelor/IT/Silent Generation",
          "PhD/IT/Silent Generation",
          "High School/Manufacturing/Silent Generation",
          "Master/Manufacturing/Silent Generation",
          "PhD/Manufacturing/Silent Generation",
          "Master/Retail/Silent Generation",
          "Bachelor/Textiles and Garments/Silent Generation",
          "PhD/Textiles and Garments/Silent Generation",
          "PhD/Tourism/Silent Generation",
          "Bachelor/Automotive",
          "High School/Automotive",
          "Master/Automotive",
          "PhD/Automotive",
          "Bachelor/Education",
          "High School/Education",
          "Master/Education",
          "PhD/Education",
          "Bachelor/Finance",
          "High School/Finance",
          "Master/Finance",
          "PhD/Finance",
          "Bachelor/Food and Beverage",
          "High School/Food and Beverage",
          "Master/Food and Beverage",
          "PhD/Food and Beverage",
          "Bachelor/Furniture",
          "High School/Furniture",
          "Master/Furniture",
          "PhD/Furniture",
          "Bachelor/Healthcare",
          "High School/Healthcare",
          "Master/Healthcare",
          "PhD/Healthcare",
          "Bachelor/Hospitality",
          "High School/Hospitality",
          "Master/Hospitality",
          "PhD/Hospitality",
          "Bachelor/IT",
          "High School/IT",
          "Master/IT",
          "PhD/IT",
          "Bachelor/Manufacturing",
          "High School/Manufacturing",
          "Master/Manufacturing",
          "PhD/Manufacturing",
          "Bachelor/Retail",
          "High School/Retail",
          "Master/Retail",
          "PhD/Retail",
          "Bachelor/Textiles and Garments",
          "High School/Textiles and Garments",
          "Master/Textiles and Garments",
          "PhD/Textiles and Garments",
          "Bachelor/Tourism",
          "High School/Tourism",
          "Master/Tourism",
          "PhD/Tourism",
          "Bachelor",
          "High School",
          "Master",
          "PhD"
         ],
         "labels": [
          "Baby Boomers",
          "Baby Boomers",
          "Baby Boomers",
          "Baby Boomers",
          "Baby Boomers",
          "Baby Boomers",
          "Baby Boomers",
          "Baby Boomers",
          "Baby Boomers",
          "Baby Boomers",
          "Baby Boomers",
          "Baby Boomers",
          "Baby Boomers",
          "Baby Boomers",
          "Baby Boomers",
          "Baby Boomers",
          "Baby Boomers",
          "Baby Boomers",
          "Baby Boomers",
          "Baby Boomers",
          "Baby Boomers",
          "Baby Boomers",
          "Baby Boomers",
          "Baby Boomers",
          "Baby Boomers",
          "Baby Boomers",
          "Baby Boomers",
          "Baby Boomers",
          "Baby Boomers",
          "Baby Boomers",
          "Baby Boomers",
          "Baby Boomers",
          "Baby Boomers",
          "Baby Boomers",
          "Baby Boomers",
          "Baby Boomers",
          "Baby Boomers",
          "Baby Boomers",
          "Baby Boomers",
          "Baby Boomers",
          "Baby Boomers",
          "Baby Boomers",
          "Baby Boomers",
          "Baby Boomers",
          "Baby Boomers",
          "Baby Boomers",
          "Baby Boomers",
          "Baby Boomers",
          "Gen X",
          "Gen X",
          "Gen X",
          "Gen X",
          "Gen X",
          "Gen X",
          "Gen X",
          "Gen X",
          "Gen X",
          "Gen X",
          "Gen X",
          "Gen X",
          "Gen X",
          "Gen X",
          "Gen X",
          "Gen X",
          "Gen X",
          "Gen X",
          "Gen X",
          "Gen X",
          "Gen X",
          "Gen X",
          "Gen X",
          "Gen X",
          "Gen X",
          "Gen X",
          "Gen X",
          "Gen X",
          "Gen X",
          "Gen X",
          "Gen X",
          "Gen X",
          "Gen X",
          "Gen X",
          "Gen X",
          "Gen X",
          "Gen X",
          "Gen X",
          "Gen X",
          "Gen Z",
          "Gen Z",
          "Gen Z",
          "Gen Z",
          "Gen Z",
          "Gen Z",
          "Gen Z",
          "Gen Z",
          "Gen Z",
          "Gen Z",
          "Gen Z",
          "Gen Z",
          "Gen Z",
          "Gen Z",
          "Gen Z",
          "Gen Z",
          "Gen Z",
          "Gen Z",
          "Gen Z",
          "Gen Z",
          "Gen Z",
          "Gen Z",
          "Gen Z",
          "Millennials",
          "Millennials",
          "Millennials",
          "Millennials",
          "Millennials",
          "Millennials",
          "Millennials",
          "Millennials",
          "Millennials",
          "Millennials",
          "Millennials",
          "Millennials",
          "Millennials",
          "Millennials",
          "Millennials",
          "Millennials",
          "Millennials",
          "Millennials",
          "Millennials",
          "Millennials",
          "Millennials",
          "Millennials",
          "Millennials",
          "Millennials",
          "Millennials",
          "Millennials",
          "Millennials",
          "Millennials",
          "Millennials",
          "Millennials",
          "Millennials",
          "Millennials",
          "Millennials",
          "Millennials",
          "Millennials",
          "Millennials",
          "Millennials",
          "Millennials",
          "Millennials",
          "Millennials",
          "Silent Generation",
          "Silent Generation",
          "Silent Generation",
          "Silent Generation",
          "Silent Generation",
          "Silent Generation",
          "Silent Generation",
          "Silent Generation",
          "Silent Generation",
          "Silent Generation",
          "Silent Generation",
          "Silent Generation",
          "Silent Generation",
          "Silent Generation",
          "Silent Generation",
          "Silent Generation",
          "Silent Generation",
          "Silent Generation",
          "Silent Generation",
          "Silent Generation",
          "Silent Generation",
          "Automotive",
          "Automotive",
          "Automotive",
          "Automotive",
          "Education",
          "Education",
          "Education",
          "Education",
          "Finance",
          "Finance",
          "Finance",
          "Finance",
          "Food and Beverage",
          "Food and Beverage",
          "Food and Beverage",
          "Food and Beverage",
          "Furniture",
          "Furniture",
          "Furniture",
          "Furniture",
          "Healthcare",
          "Healthcare",
          "Healthcare",
          "Healthcare",
          "Hospitality",
          "Hospitality",
          "Hospitality",
          "Hospitality",
          "IT",
          "IT",
          "IT",
          "IT",
          "Manufacturing",
          "Manufacturing",
          "Manufacturing",
          "Manufacturing",
          "Retail",
          "Retail",
          "Retail",
          "Retail",
          "Textiles and Garments",
          "Textiles and Garments",
          "Textiles and Garments",
          "Textiles and Garments",
          "Tourism",
          "Tourism",
          "Tourism",
          "Tourism",
          "Bachelor",
          "High School",
          "Master",
          "PhD"
         ],
         "name": "",
         "parents": [
          "Bachelor/Automotive",
          "High School/Automotive",
          "Master/Automotive",
          "PhD/Automotive",
          "Bachelor/Education",
          "High School/Education",
          "Master/Education",
          "PhD/Education",
          "Bachelor/Finance",
          "High School/Finance",
          "Master/Finance",
          "PhD/Finance",
          "Bachelor/Food and Beverage",
          "High School/Food and Beverage",
          "Master/Food and Beverage",
          "PhD/Food and Beverage",
          "Bachelor/Furniture",
          "High School/Furniture",
          "Master/Furniture",
          "PhD/Furniture",
          "Bachelor/Healthcare",
          "High School/Healthcare",
          "Master/Healthcare",
          "PhD/Healthcare",
          "Bachelor/Hospitality",
          "High School/Hospitality",
          "Master/Hospitality",
          "PhD/Hospitality",
          "Bachelor/IT",
          "High School/IT",
          "Master/IT",
          "PhD/IT",
          "Bachelor/Manufacturing",
          "High School/Manufacturing",
          "Master/Manufacturing",
          "PhD/Manufacturing",
          "Bachelor/Retail",
          "High School/Retail",
          "Master/Retail",
          "PhD/Retail",
          "Bachelor/Textiles and Garments",
          "High School/Textiles and Garments",
          "Master/Textiles and Garments",
          "PhD/Textiles and Garments",
          "Bachelor/Tourism",
          "High School/Tourism",
          "Master/Tourism",
          "PhD/Tourism",
          "Bachelor/Automotive",
          "High School/Automotive",
          "Master/Automotive",
          "PhD/Automotive",
          "High School/Education",
          "Master/Education",
          "PhD/Education",
          "Bachelor/Finance",
          "High School/Finance",
          "Master/Finance",
          "PhD/Finance",
          "Bachelor/Food and Beverage",
          "High School/Food and Beverage",
          "Master/Food and Beverage",
          "Bachelor/Furniture",
          "Master/Furniture",
          "High School/Healthcare",
          "Master/Healthcare",
          "PhD/Healthcare",
          "Bachelor/Hospitality",
          "High School/Hospitality",
          "Master/Hospitality",
          "PhD/Hospitality",
          "Bachelor/IT",
          "High School/IT",
          "Master/IT",
          "PhD/IT",
          "Bachelor/Manufacturing",
          "Master/Manufacturing",
          "PhD/Manufacturing",
          "Bachelor/Retail",
          "High School/Retail",
          "Bachelor/Textiles and Garments",
          "High School/Textiles and Garments",
          "PhD/Textiles and Garments",
          "Bachelor/Tourism",
          "High School/Tourism",
          "Master/Tourism",
          "PhD/Tourism",
          "PhD/Automotive",
          "Bachelor/Education",
          "Bachelor/Finance",
          "High School/Finance",
          "PhD/Finance",
          "Bachelor/Food and Beverage",
          "High School/Food and Beverage",
          "High School/Furniture",
          "High School/Healthcare",
          "PhD/Healthcare",
          "Bachelor/Hospitality",
          "Master/Hospitality",
          "Bachelor/IT",
          "High School/IT",
          "Master/IT",
          "PhD/IT",
          "Bachelor/Manufacturing",
          "High School/Retail",
          "Master/Retail",
          "PhD/Retail",
          "Bachelor/Textiles and Garments",
          "High School/Textiles and Garments",
          "Bachelor/Tourism",
          "High School/Automotive",
          "Master/Automotive",
          "PhD/Automotive",
          "Bachelor/Education",
          "High School/Education",
          "Master/Education",
          "PhD/Education",
          "Bachelor/Finance",
          "High School/Finance",
          "Master/Finance",
          "PhD/Finance",
          "Bachelor/Food and Beverage",
          "High School/Food and Beverage",
          "Master/Food and Beverage",
          "PhD/Food and Beverage",
          "High School/Furniture",
          "PhD/Furniture",
          "Bachelor/Healthcare",
          "High School/Healthcare",
          "Master/Healthcare",
          "PhD/Healthcare",
          "High School/Hospitality",
          "Master/Hospitality",
          "PhD/Hospitality",
          "Bachelor/IT",
          "Master/IT",
          "PhD/IT",
          "Bachelor/Manufacturing",
          "Master/Manufacturing",
          "PhD/Manufacturing",
          "Bachelor/Retail",
          "High School/Retail",
          "PhD/Retail",
          "Bachelor/Textiles and Garments",
          "High School/Textiles and Garments",
          "Master/Textiles and Garments",
          "PhD/Textiles and Garments",
          "Bachelor/Tourism",
          "Master/Tourism",
          "PhD/Tourism",
          "Master/Automotive",
          "PhD/Education",
          "High School/Finance",
          "Bachelor/Food and Beverage",
          "High School/Food and Beverage",
          "Master/Food and Beverage",
          "PhD/Food and Beverage",
          "Bachelor/Healthcare",
          "High School/Healthcare",
          "Master/Healthcare",
          "PhD/Healthcare",
          "PhD/Hospitality",
          "Bachelor/IT",
          "PhD/IT",
          "High School/Manufacturing",
          "Master/Manufacturing",
          "PhD/Manufacturing",
          "Master/Retail",
          "Bachelor/Textiles and Garments",
          "PhD/Textiles and Garments",
          "PhD/Tourism",
          "Bachelor",
          "High School",
          "Master",
          "PhD",
          "Bachelor",
          "High School",
          "Master",
          "PhD",
          "Bachelor",
          "High School",
          "Master",
          "PhD",
          "Bachelor",
          "High School",
          "Master",
          "PhD",
          "Bachelor",
          "High School",
          "Master",
          "PhD",
          "Bachelor",
          "High School",
          "Master",
          "PhD",
          "Bachelor",
          "High School",
          "Master",
          "PhD",
          "Bachelor",
          "High School",
          "Master",
          "PhD",
          "Bachelor",
          "High School",
          "Master",
          "PhD",
          "Bachelor",
          "High School",
          "Master",
          "PhD",
          "Bachelor",
          "High School",
          "Master",
          "PhD",
          "Bachelor",
          "High School",
          "Master",
          "PhD",
          "",
          "",
          "",
          ""
         ],
         "root": {
          "color": "lightgrey"
         },
         "type": "treemap",
         "values": [
          3,
          3,
          2,
          6,
          2,
          3,
          4,
          3,
          4,
          3,
          2,
          3,
          2,
          1,
          3,
          1,
          1,
          4,
          3,
          1,
          3,
          3,
          1,
          4,
          1,
          3,
          2,
          2,
          1,
          4,
          5,
          2,
          2,
          3,
          1,
          1,
          1,
          2,
          2,
          3,
          2,
          4,
          2,
          2,
          4,
          2,
          2,
          2,
          4,
          1,
          1,
          4,
          4,
          3,
          2,
          2,
          4,
          2,
          3,
          2,
          2,
          5,
          3,
          2,
          4,
          1,
          3,
          2,
          2,
          1,
          2,
          3,
          2,
          4,
          1,
          1,
          1,
          3,
          2,
          1,
          1,
          1,
          5,
          3,
          1,
          1,
          2,
          2,
          3,
          1,
          1,
          1,
          2,
          2,
          1,
          1,
          1,
          1,
          1,
          1,
          1,
          1,
          1,
          1,
          1,
          1,
          1,
          2,
          2,
          2,
          2,
          3,
          3,
          1,
          5,
          1,
          2,
          2,
          1,
          2,
          2,
          3,
          5,
          2,
          1,
          1,
          4,
          4,
          1,
          3,
          1,
          2,
          2,
          1,
          3,
          5,
          3,
          2,
          1,
          6,
          2,
          3,
          3,
          1,
          1,
          3,
          2,
          9,
          1,
          2,
          1,
          2,
          1,
          1,
          2,
          1,
          2,
          2,
          1,
          1,
          2,
          2,
          1,
          1,
          1,
          1,
          1,
          1,
          1,
          1,
          1,
          7,
          6,
          7,
          15,
          6,
          12,
          8,
          9,
          9,
          10,
          6,
          9,
          10,
          12,
          11,
          4,
          4,
          6,
          5,
          5,
          9,
          10,
          6,
          11,
          4,
          7,
          6,
          7,
          9,
          7,
          15,
          8,
          6,
          4,
          4,
          11,
          5,
          7,
          4,
          7,
          7,
          8,
          5,
          10,
          18,
          3,
          4,
          7,
          94,
          92,
          81,
          103
         ]
        }
       ],
       "layout": {
        "legend": {
         "tracegroupgap": 0
        },
        "margin": {
         "b": 25,
         "l": 25,
         "r": 25,
         "t": 50
        },
        "template": {
         "data": {
          "bar": [
           {
            "error_x": {
             "color": "#2a3f5f"
            },
            "error_y": {
             "color": "#2a3f5f"
            },
            "marker": {
             "line": {
              "color": "#E5ECF6",
              "width": 0.5
             },
             "pattern": {
              "fillmode": "overlay",
              "size": 10,
              "solidity": 0.2
             }
            },
            "type": "bar"
           }
          ],
          "barpolar": [
           {
            "marker": {
             "line": {
              "color": "#E5ECF6",
              "width": 0.5
             },
             "pattern": {
              "fillmode": "overlay",
              "size": 10,
              "solidity": 0.2
             }
            },
            "type": "barpolar"
           }
          ],
          "carpet": [
           {
            "aaxis": {
             "endlinecolor": "#2a3f5f",
             "gridcolor": "white",
             "linecolor": "white",
             "minorgridcolor": "white",
             "startlinecolor": "#2a3f5f"
            },
            "baxis": {
             "endlinecolor": "#2a3f5f",
             "gridcolor": "white",
             "linecolor": "white",
             "minorgridcolor": "white",
             "startlinecolor": "#2a3f5f"
            },
            "type": "carpet"
           }
          ],
          "choropleth": [
           {
            "colorbar": {
             "outlinewidth": 0,
             "ticks": ""
            },
            "type": "choropleth"
           }
          ],
          "contour": [
           {
            "colorbar": {
             "outlinewidth": 0,
             "ticks": ""
            },
            "colorscale": [
             [
              0,
              "#0d0887"
             ],
             [
              0.1111111111111111,
              "#46039f"
             ],
             [
              0.2222222222222222,
              "#7201a8"
             ],
             [
              0.3333333333333333,
              "#9c179e"
             ],
             [
              0.4444444444444444,
              "#bd3786"
             ],
             [
              0.5555555555555556,
              "#d8576b"
             ],
             [
              0.6666666666666666,
              "#ed7953"
             ],
             [
              0.7777777777777778,
              "#fb9f3a"
             ],
             [
              0.8888888888888888,
              "#fdca26"
             ],
             [
              1,
              "#f0f921"
             ]
            ],
            "type": "contour"
           }
          ],
          "contourcarpet": [
           {
            "colorbar": {
             "outlinewidth": 0,
             "ticks": ""
            },
            "type": "contourcarpet"
           }
          ],
          "heatmap": [
           {
            "colorbar": {
             "outlinewidth": 0,
             "ticks": ""
            },
            "colorscale": [
             [
              0,
              "#0d0887"
             ],
             [
              0.1111111111111111,
              "#46039f"
             ],
             [
              0.2222222222222222,
              "#7201a8"
             ],
             [
              0.3333333333333333,
              "#9c179e"
             ],
             [
              0.4444444444444444,
              "#bd3786"
             ],
             [
              0.5555555555555556,
              "#d8576b"
             ],
             [
              0.6666666666666666,
              "#ed7953"
             ],
             [
              0.7777777777777778,
              "#fb9f3a"
             ],
             [
              0.8888888888888888,
              "#fdca26"
             ],
             [
              1,
              "#f0f921"
             ]
            ],
            "type": "heatmap"
           }
          ],
          "heatmapgl": [
           {
            "colorbar": {
             "outlinewidth": 0,
             "ticks": ""
            },
            "colorscale": [
             [
              0,
              "#0d0887"
             ],
             [
              0.1111111111111111,
              "#46039f"
             ],
             [
              0.2222222222222222,
              "#7201a8"
             ],
             [
              0.3333333333333333,
              "#9c179e"
             ],
             [
              0.4444444444444444,
              "#bd3786"
             ],
             [
              0.5555555555555556,
              "#d8576b"
             ],
             [
              0.6666666666666666,
              "#ed7953"
             ],
             [
              0.7777777777777778,
              "#fb9f3a"
             ],
             [
              0.8888888888888888,
              "#fdca26"
             ],
             [
              1,
              "#f0f921"
             ]
            ],
            "type": "heatmapgl"
           }
          ],
          "histogram": [
           {
            "marker": {
             "pattern": {
              "fillmode": "overlay",
              "size": 10,
              "solidity": 0.2
             }
            },
            "type": "histogram"
           }
          ],
          "histogram2d": [
           {
            "colorbar": {
             "outlinewidth": 0,
             "ticks": ""
            },
            "colorscale": [
             [
              0,
              "#0d0887"
             ],
             [
              0.1111111111111111,
              "#46039f"
             ],
             [
              0.2222222222222222,
              "#7201a8"
             ],
             [
              0.3333333333333333,
              "#9c179e"
             ],
             [
              0.4444444444444444,
              "#bd3786"
             ],
             [
              0.5555555555555556,
              "#d8576b"
             ],
             [
              0.6666666666666666,
              "#ed7953"
             ],
             [
              0.7777777777777778,
              "#fb9f3a"
             ],
             [
              0.8888888888888888,
              "#fdca26"
             ],
             [
              1,
              "#f0f921"
             ]
            ],
            "type": "histogram2d"
           }
          ],
          "histogram2dcontour": [
           {
            "colorbar": {
             "outlinewidth": 0,
             "ticks": ""
            },
            "colorscale": [
             [
              0,
              "#0d0887"
             ],
             [
              0.1111111111111111,
              "#46039f"
             ],
             [
              0.2222222222222222,
              "#7201a8"
             ],
             [
              0.3333333333333333,
              "#9c179e"
             ],
             [
              0.4444444444444444,
              "#bd3786"
             ],
             [
              0.5555555555555556,
              "#d8576b"
             ],
             [
              0.6666666666666666,
              "#ed7953"
             ],
             [
              0.7777777777777778,
              "#fb9f3a"
             ],
             [
              0.8888888888888888,
              "#fdca26"
             ],
             [
              1,
              "#f0f921"
             ]
            ],
            "type": "histogram2dcontour"
           }
          ],
          "mesh3d": [
           {
            "colorbar": {
             "outlinewidth": 0,
             "ticks": ""
            },
            "type": "mesh3d"
           }
          ],
          "parcoords": [
           {
            "line": {
             "colorbar": {
              "outlinewidth": 0,
              "ticks": ""
             }
            },
            "type": "parcoords"
           }
          ],
          "pie": [
           {
            "automargin": true,
            "type": "pie"
           }
          ],
          "scatter": [
           {
            "fillpattern": {
             "fillmode": "overlay",
             "size": 10,
             "solidity": 0.2
            },
            "type": "scatter"
           }
          ],
          "scatter3d": [
           {
            "line": {
             "colorbar": {
              "outlinewidth": 0,
              "ticks": ""
             }
            },
            "marker": {
             "colorbar": {
              "outlinewidth": 0,
              "ticks": ""
             }
            },
            "type": "scatter3d"
           }
          ],
          "scattercarpet": [
           {
            "marker": {
             "colorbar": {
              "outlinewidth": 0,
              "ticks": ""
             }
            },
            "type": "scattercarpet"
           }
          ],
          "scattergeo": [
           {
            "marker": {
             "colorbar": {
              "outlinewidth": 0,
              "ticks": ""
             }
            },
            "type": "scattergeo"
           }
          ],
          "scattergl": [
           {
            "marker": {
             "colorbar": {
              "outlinewidth": 0,
              "ticks": ""
             }
            },
            "type": "scattergl"
           }
          ],
          "scattermapbox": [
           {
            "marker": {
             "colorbar": {
              "outlinewidth": 0,
              "ticks": ""
             }
            },
            "type": "scattermapbox"
           }
          ],
          "scatterpolar": [
           {
            "marker": {
             "colorbar": {
              "outlinewidth": 0,
              "ticks": ""
             }
            },
            "type": "scatterpolar"
           }
          ],
          "scatterpolargl": [
           {
            "marker": {
             "colorbar": {
              "outlinewidth": 0,
              "ticks": ""
             }
            },
            "type": "scatterpolargl"
           }
          ],
          "scatterternary": [
           {
            "marker": {
             "colorbar": {
              "outlinewidth": 0,
              "ticks": ""
             }
            },
            "type": "scatterternary"
           }
          ],
          "surface": [
           {
            "colorbar": {
             "outlinewidth": 0,
             "ticks": ""
            },
            "colorscale": [
             [
              0,
              "#0d0887"
             ],
             [
              0.1111111111111111,
              "#46039f"
             ],
             [
              0.2222222222222222,
              "#7201a8"
             ],
             [
              0.3333333333333333,
              "#9c179e"
             ],
             [
              0.4444444444444444,
              "#bd3786"
             ],
             [
              0.5555555555555556,
              "#d8576b"
             ],
             [
              0.6666666666666666,
              "#ed7953"
             ],
             [
              0.7777777777777778,
              "#fb9f3a"
             ],
             [
              0.8888888888888888,
              "#fdca26"
             ],
             [
              1,
              "#f0f921"
             ]
            ],
            "type": "surface"
           }
          ],
          "table": [
           {
            "cells": {
             "fill": {
              "color": "#EBF0F8"
             },
             "line": {
              "color": "white"
             }
            },
            "header": {
             "fill": {
              "color": "#C8D4E3"
             },
             "line": {
              "color": "white"
             }
            },
            "type": "table"
           }
          ]
         },
         "layout": {
          "annotationdefaults": {
           "arrowcolor": "#2a3f5f",
           "arrowhead": 0,
           "arrowwidth": 1
          },
          "autotypenumbers": "strict",
          "coloraxis": {
           "colorbar": {
            "outlinewidth": 0,
            "ticks": ""
           }
          },
          "colorscale": {
           "diverging": [
            [
             0,
             "#8e0152"
            ],
            [
             0.1,
             "#c51b7d"
            ],
            [
             0.2,
             "#de77ae"
            ],
            [
             0.3,
             "#f1b6da"
            ],
            [
             0.4,
             "#fde0ef"
            ],
            [
             0.5,
             "#f7f7f7"
            ],
            [
             0.6,
             "#e6f5d0"
            ],
            [
             0.7,
             "#b8e186"
            ],
            [
             0.8,
             "#7fbc41"
            ],
            [
             0.9,
             "#4d9221"
            ],
            [
             1,
             "#276419"
            ]
           ],
           "sequential": [
            [
             0,
             "#0d0887"
            ],
            [
             0.1111111111111111,
             "#46039f"
            ],
            [
             0.2222222222222222,
             "#7201a8"
            ],
            [
             0.3333333333333333,
             "#9c179e"
            ],
            [
             0.4444444444444444,
             "#bd3786"
            ],
            [
             0.5555555555555556,
             "#d8576b"
            ],
            [
             0.6666666666666666,
             "#ed7953"
            ],
            [
             0.7777777777777778,
             "#fb9f3a"
            ],
            [
             0.8888888888888888,
             "#fdca26"
            ],
            [
             1,
             "#f0f921"
            ]
           ],
           "sequentialminus": [
            [
             0,
             "#0d0887"
            ],
            [
             0.1111111111111111,
             "#46039f"
            ],
            [
             0.2222222222222222,
             "#7201a8"
            ],
            [
             0.3333333333333333,
             "#9c179e"
            ],
            [
             0.4444444444444444,
             "#bd3786"
            ],
            [
             0.5555555555555556,
             "#d8576b"
            ],
            [
             0.6666666666666666,
             "#ed7953"
            ],
            [
             0.7777777777777778,
             "#fb9f3a"
            ],
            [
             0.8888888888888888,
             "#fdca26"
            ],
            [
             1,
             "#f0f921"
            ]
           ]
          },
          "colorway": [
           "#636efa",
           "#EF553B",
           "#00cc96",
           "#ab63fa",
           "#FFA15A",
           "#19d3f3",
           "#FF6692",
           "#B6E880",
           "#FF97FF",
           "#FECB52"
          ],
          "font": {
           "color": "#2a3f5f"
          },
          "geo": {
           "bgcolor": "white",
           "lakecolor": "white",
           "landcolor": "#E5ECF6",
           "showlakes": true,
           "showland": true,
           "subunitcolor": "white"
          },
          "hoverlabel": {
           "align": "left"
          },
          "hovermode": "closest",
          "mapbox": {
           "style": "light"
          },
          "paper_bgcolor": "white",
          "plot_bgcolor": "#E5ECF6",
          "polar": {
           "angularaxis": {
            "gridcolor": "white",
            "linecolor": "white",
            "ticks": ""
           },
           "bgcolor": "#E5ECF6",
           "radialaxis": {
            "gridcolor": "white",
            "linecolor": "white",
            "ticks": ""
           }
          },
          "scene": {
           "xaxis": {
            "backgroundcolor": "#E5ECF6",
            "gridcolor": "white",
            "gridwidth": 2,
            "linecolor": "white",
            "showbackground": true,
            "ticks": "",
            "zerolinecolor": "white"
           },
           "yaxis": {
            "backgroundcolor": "#E5ECF6",
            "gridcolor": "white",
            "gridwidth": 2,
            "linecolor": "white",
            "showbackground": true,
            "ticks": "",
            "zerolinecolor": "white"
           },
           "zaxis": {
            "backgroundcolor": "#E5ECF6",
            "gridcolor": "white",
            "gridwidth": 2,
            "linecolor": "white",
            "showbackground": true,
            "ticks": "",
            "zerolinecolor": "white"
           }
          },
          "shapedefaults": {
           "line": {
            "color": "#2a3f5f"
           }
          },
          "ternary": {
           "aaxis": {
            "gridcolor": "white",
            "linecolor": "white",
            "ticks": ""
           },
           "baxis": {
            "gridcolor": "white",
            "linecolor": "white",
            "ticks": ""
           },
           "bgcolor": "#E5ECF6",
           "caxis": {
            "gridcolor": "white",
            "linecolor": "white",
            "ticks": ""
           }
          },
          "title": {
           "x": 0.05
          },
          "xaxis": {
           "automargin": true,
           "gridcolor": "white",
           "linecolor": "white",
           "ticks": "",
           "title": {
            "standoff": 15
           },
           "zerolinecolor": "white",
           "zerolinewidth": 2
          },
          "yaxis": {
           "automargin": true,
           "gridcolor": "white",
           "linecolor": "white",
           "ticks": "",
           "title": {
            "standoff": 15
           },
           "zerolinecolor": "white",
           "zerolinewidth": 2
          }
         }
        },
        "title": {
         "text": "Loyal "
        }
       }
      }
     },
     "metadata": {},
     "output_type": "display_data"
    },
    {
     "data": {
      "application/vnd.plotly.v1+json": {
       "config": {
        "plotlyServerURL": "https://plot.ly"
       },
       "data": [
        {
         "branchvalues": "total",
         "domain": {
          "x": [
           0,
           1
          ],
          "y": [
           0,
           1
          ]
         },
         "hovertemplate": "labels=%{label}<br>count=%{value}<br>parent=%{parent}<br>id=%{id}<extra></extra>",
         "ids": [
          "Bachelor/Automotive/Baby Boomers",
          "High School/Automotive/Baby Boomers",
          "Master/Automotive/Baby Boomers",
          "PhD/Automotive/Baby Boomers",
          "Bachelor/Education/Baby Boomers",
          "High School/Education/Baby Boomers",
          "Master/Education/Baby Boomers",
          "PhD/Education/Baby Boomers",
          "Bachelor/Finance/Baby Boomers",
          "High School/Finance/Baby Boomers",
          "Master/Finance/Baby Boomers",
          "PhD/Finance/Baby Boomers",
          "Bachelor/Food and Beverage/Baby Boomers",
          "High School/Food and Beverage/Baby Boomers",
          "Master/Food and Beverage/Baby Boomers",
          "PhD/Food and Beverage/Baby Boomers",
          "Bachelor/Furniture/Baby Boomers",
          "High School/Furniture/Baby Boomers",
          "PhD/Furniture/Baby Boomers",
          "Bachelor/Healthcare/Baby Boomers",
          "High School/Healthcare/Baby Boomers",
          "Master/Healthcare/Baby Boomers",
          "PhD/Healthcare/Baby Boomers",
          "High School/Hospitality/Baby Boomers",
          "Master/Hospitality/Baby Boomers",
          "PhD/Hospitality/Baby Boomers",
          "Bachelor/IT/Baby Boomers",
          "High School/IT/Baby Boomers",
          "Master/IT/Baby Boomers",
          "PhD/IT/Baby Boomers",
          "Bachelor/Manufacturing/Baby Boomers",
          "High School/Manufacturing/Baby Boomers",
          "Master/Manufacturing/Baby Boomers",
          "PhD/Manufacturing/Baby Boomers",
          "Bachelor/Retail/Baby Boomers",
          "High School/Retail/Baby Boomers",
          "Master/Retail/Baby Boomers",
          "PhD/Retail/Baby Boomers",
          "Bachelor/Textiles and Garments/Baby Boomers",
          "High School/Textiles and Garments/Baby Boomers",
          "Master/Textiles and Garments/Baby Boomers",
          "PhD/Textiles and Garments/Baby Boomers",
          "Bachelor/Tourism/Baby Boomers",
          "High School/Tourism/Baby Boomers",
          "Master/Tourism/Baby Boomers",
          "PhD/Tourism/Baby Boomers",
          "Bachelor/Automotive/Gen X",
          "High School/Automotive/Gen X",
          "Master/Automotive/Gen X",
          "PhD/Automotive/Gen X",
          "Bachelor/Education/Gen X",
          "High School/Education/Gen X",
          "Master/Education/Gen X",
          "PhD/Education/Gen X",
          "Bachelor/Finance/Gen X",
          "Master/Finance/Gen X",
          "PhD/Finance/Gen X",
          "Bachelor/Food and Beverage/Gen X",
          "High School/Food and Beverage/Gen X",
          "Master/Food and Beverage/Gen X",
          "PhD/Food and Beverage/Gen X",
          "Bachelor/Furniture/Gen X",
          "High School/Furniture/Gen X",
          "Master/Furniture/Gen X",
          "PhD/Furniture/Gen X",
          "Bachelor/Healthcare/Gen X",
          "High School/Healthcare/Gen X",
          "Master/Healthcare/Gen X",
          "PhD/Healthcare/Gen X",
          "Bachelor/Hospitality/Gen X",
          "High School/Hospitality/Gen X",
          "Master/Hospitality/Gen X",
          "PhD/Hospitality/Gen X",
          "Bachelor/IT/Gen X",
          "High School/IT/Gen X",
          "Master/IT/Gen X",
          "Bachelor/Manufacturing/Gen X",
          "High School/Manufacturing/Gen X",
          "PhD/Manufacturing/Gen X",
          "Bachelor/Retail/Gen X",
          "High School/Retail/Gen X",
          "Master/Retail/Gen X",
          "PhD/Retail/Gen X",
          "Bachelor/Textiles and Garments/Gen X",
          "High School/Textiles and Garments/Gen X",
          "Master/Textiles and Garments/Gen X",
          "PhD/Textiles and Garments/Gen X",
          "Bachelor/Tourism/Gen X",
          "High School/Tourism/Gen X",
          "Master/Tourism/Gen X",
          "PhD/Tourism/Gen X",
          "Bachelor/Automotive/Gen Z",
          "Master/Automotive/Gen Z",
          "PhD/Automotive/Gen Z",
          "Bachelor/Education/Gen Z",
          "High School/Education/Gen Z",
          "Master/Education/Gen Z",
          "High School/Finance/Gen Z",
          "Master/Finance/Gen Z",
          "PhD/Finance/Gen Z",
          "Bachelor/Food and Beverage/Gen Z",
          "Master/Food and Beverage/Gen Z",
          "Bachelor/Healthcare/Gen Z",
          "High School/Healthcare/Gen Z",
          "Bachelor/Hospitality/Gen Z",
          "PhD/Hospitality/Gen Z",
          "Bachelor/Manufacturing/Gen Z",
          "High School/Manufacturing/Gen Z",
          "Master/Manufacturing/Gen Z",
          "Bachelor/Retail/Gen Z",
          "High School/Retail/Gen Z",
          "PhD/Retail/Gen Z",
          "High School/Tourism/Gen Z",
          "Master/Tourism/Gen Z",
          "Bachelor/Automotive/Millennials",
          "High School/Automotive/Millennials",
          "PhD/Automotive/Millennials",
          "Bachelor/Education/Millennials",
          "High School/Education/Millennials",
          "Master/Education/Millennials",
          "PhD/Education/Millennials",
          "Bachelor/Finance/Millennials",
          "High School/Finance/Millennials",
          "Master/Finance/Millennials",
          "PhD/Finance/Millennials",
          "Bachelor/Food and Beverage/Millennials",
          "High School/Food and Beverage/Millennials",
          "Master/Food and Beverage/Millennials",
          "PhD/Food and Beverage/Millennials",
          "Bachelor/Furniture/Millennials",
          "High School/Furniture/Millennials",
          "PhD/Furniture/Millennials",
          "Bachelor/Healthcare/Millennials",
          "High School/Healthcare/Millennials",
          "Master/Healthcare/Millennials",
          "PhD/Healthcare/Millennials",
          "Bachelor/Hospitality/Millennials",
          "High School/Hospitality/Millennials",
          "Master/Hospitality/Millennials",
          "PhD/Hospitality/Millennials",
          "Bachelor/IT/Millennials",
          "High School/IT/Millennials",
          "Master/IT/Millennials",
          "PhD/IT/Millennials",
          "Bachelor/Manufacturing/Millennials",
          "High School/Manufacturing/Millennials",
          "Master/Manufacturing/Millennials",
          "PhD/Manufacturing/Millennials",
          "Bachelor/Retail/Millennials",
          "High School/Retail/Millennials",
          "Master/Retail/Millennials",
          "PhD/Retail/Millennials",
          "Bachelor/Textiles and Garments/Millennials",
          "High School/Textiles and Garments/Millennials",
          "Master/Textiles and Garments/Millennials",
          "PhD/Textiles and Garments/Millennials",
          "Bachelor/Tourism/Millennials",
          "High School/Tourism/Millennials",
          "Master/Tourism/Millennials",
          "PhD/Tourism/Millennials",
          "Bachelor/Automotive/Silent Generation",
          "High School/Automotive/Silent Generation",
          "Bachelor/Education/Silent Generation",
          "Master/Education/Silent Generation",
          "PhD/Education/Silent Generation",
          "High School/Finance/Silent Generation",
          "PhD/Finance/Silent Generation",
          "High School/Food and Beverage/Silent Generation",
          "PhD/Food and Beverage/Silent Generation",
          "Bachelor/Furniture/Silent Generation",
          "High School/Furniture/Silent Generation",
          "Bachelor/Healthcare/Silent Generation",
          "Master/Healthcare/Silent Generation",
          "High School/Hospitality/Silent Generation",
          "Master/Hospitality/Silent Generation",
          "PhD/Hospitality/Silent Generation",
          "Bachelor/IT/Silent Generation",
          "Master/IT/Silent Generation",
          "Bachelor/Manufacturing/Silent Generation",
          "Master/Manufacturing/Silent Generation",
          "High School/Retail/Silent Generation",
          "Master/Retail/Silent Generation",
          "PhD/Retail/Silent Generation",
          "Bachelor/Textiles and Garments/Silent Generation",
          "High School/Textiles and Garments/Silent Generation",
          "Master/Textiles and Garments/Silent Generation",
          "PhD/Textiles and Garments/Silent Generation",
          "Bachelor/Tourism/Silent Generation",
          "High School/Tourism/Silent Generation",
          "PhD/Tourism/Silent Generation",
          "Bachelor/Automotive",
          "High School/Automotive",
          "Master/Automotive",
          "PhD/Automotive",
          "Bachelor/Education",
          "High School/Education",
          "Master/Education",
          "PhD/Education",
          "Bachelor/Finance",
          "High School/Finance",
          "Master/Finance",
          "PhD/Finance",
          "Bachelor/Food and Beverage",
          "High School/Food and Beverage",
          "Master/Food and Beverage",
          "PhD/Food and Beverage",
          "Bachelor/Furniture",
          "High School/Furniture",
          "Master/Furniture",
          "PhD/Furniture",
          "Bachelor/Healthcare",
          "High School/Healthcare",
          "Master/Healthcare",
          "PhD/Healthcare",
          "Bachelor/Hospitality",
          "High School/Hospitality",
          "Master/Hospitality",
          "PhD/Hospitality",
          "Bachelor/IT",
          "High School/IT",
          "Master/IT",
          "PhD/IT",
          "Bachelor/Manufacturing",
          "High School/Manufacturing",
          "Master/Manufacturing",
          "PhD/Manufacturing",
          "Bachelor/Retail",
          "High School/Retail",
          "Master/Retail",
          "PhD/Retail",
          "Bachelor/Textiles and Garments",
          "High School/Textiles and Garments",
          "Master/Textiles and Garments",
          "PhD/Textiles and Garments",
          "Bachelor/Tourism",
          "High School/Tourism",
          "Master/Tourism",
          "PhD/Tourism",
          "Bachelor",
          "High School",
          "Master",
          "PhD"
         ],
         "labels": [
          "Baby Boomers",
          "Baby Boomers",
          "Baby Boomers",
          "Baby Boomers",
          "Baby Boomers",
          "Baby Boomers",
          "Baby Boomers",
          "Baby Boomers",
          "Baby Boomers",
          "Baby Boomers",
          "Baby Boomers",
          "Baby Boomers",
          "Baby Boomers",
          "Baby Boomers",
          "Baby Boomers",
          "Baby Boomers",
          "Baby Boomers",
          "Baby Boomers",
          "Baby Boomers",
          "Baby Boomers",
          "Baby Boomers",
          "Baby Boomers",
          "Baby Boomers",
          "Baby Boomers",
          "Baby Boomers",
          "Baby Boomers",
          "Baby Boomers",
          "Baby Boomers",
          "Baby Boomers",
          "Baby Boomers",
          "Baby Boomers",
          "Baby Boomers",
          "Baby Boomers",
          "Baby Boomers",
          "Baby Boomers",
          "Baby Boomers",
          "Baby Boomers",
          "Baby Boomers",
          "Baby Boomers",
          "Baby Boomers",
          "Baby Boomers",
          "Baby Boomers",
          "Baby Boomers",
          "Baby Boomers",
          "Baby Boomers",
          "Baby Boomers",
          "Gen X",
          "Gen X",
          "Gen X",
          "Gen X",
          "Gen X",
          "Gen X",
          "Gen X",
          "Gen X",
          "Gen X",
          "Gen X",
          "Gen X",
          "Gen X",
          "Gen X",
          "Gen X",
          "Gen X",
          "Gen X",
          "Gen X",
          "Gen X",
          "Gen X",
          "Gen X",
          "Gen X",
          "Gen X",
          "Gen X",
          "Gen X",
          "Gen X",
          "Gen X",
          "Gen X",
          "Gen X",
          "Gen X",
          "Gen X",
          "Gen X",
          "Gen X",
          "Gen X",
          "Gen X",
          "Gen X",
          "Gen X",
          "Gen X",
          "Gen X",
          "Gen X",
          "Gen X",
          "Gen X",
          "Gen X",
          "Gen X",
          "Gen X",
          "Gen X",
          "Gen Z",
          "Gen Z",
          "Gen Z",
          "Gen Z",
          "Gen Z",
          "Gen Z",
          "Gen Z",
          "Gen Z",
          "Gen Z",
          "Gen Z",
          "Gen Z",
          "Gen Z",
          "Gen Z",
          "Gen Z",
          "Gen Z",
          "Gen Z",
          "Gen Z",
          "Gen Z",
          "Gen Z",
          "Gen Z",
          "Gen Z",
          "Gen Z",
          "Gen Z",
          "Millennials",
          "Millennials",
          "Millennials",
          "Millennials",
          "Millennials",
          "Millennials",
          "Millennials",
          "Millennials",
          "Millennials",
          "Millennials",
          "Millennials",
          "Millennials",
          "Millennials",
          "Millennials",
          "Millennials",
          "Millennials",
          "Millennials",
          "Millennials",
          "Millennials",
          "Millennials",
          "Millennials",
          "Millennials",
          "Millennials",
          "Millennials",
          "Millennials",
          "Millennials",
          "Millennials",
          "Millennials",
          "Millennials",
          "Millennials",
          "Millennials",
          "Millennials",
          "Millennials",
          "Millennials",
          "Millennials",
          "Millennials",
          "Millennials",
          "Millennials",
          "Millennials",
          "Millennials",
          "Millennials",
          "Millennials",
          "Millennials",
          "Millennials",
          "Millennials",
          "Millennials",
          "Silent Generation",
          "Silent Generation",
          "Silent Generation",
          "Silent Generation",
          "Silent Generation",
          "Silent Generation",
          "Silent Generation",
          "Silent Generation",
          "Silent Generation",
          "Silent Generation",
          "Silent Generation",
          "Silent Generation",
          "Silent Generation",
          "Silent Generation",
          "Silent Generation",
          "Silent Generation",
          "Silent Generation",
          "Silent Generation",
          "Silent Generation",
          "Silent Generation",
          "Silent Generation",
          "Silent Generation",
          "Silent Generation",
          "Silent Generation",
          "Silent Generation",
          "Silent Generation",
          "Silent Generation",
          "Silent Generation",
          "Silent Generation",
          "Silent Generation",
          "Automotive",
          "Automotive",
          "Automotive",
          "Automotive",
          "Education",
          "Education",
          "Education",
          "Education",
          "Finance",
          "Finance",
          "Finance",
          "Finance",
          "Food and Beverage",
          "Food and Beverage",
          "Food and Beverage",
          "Food and Beverage",
          "Furniture",
          "Furniture",
          "Furniture",
          "Furniture",
          "Healthcare",
          "Healthcare",
          "Healthcare",
          "Healthcare",
          "Hospitality",
          "Hospitality",
          "Hospitality",
          "Hospitality",
          "IT",
          "IT",
          "IT",
          "IT",
          "Manufacturing",
          "Manufacturing",
          "Manufacturing",
          "Manufacturing",
          "Retail",
          "Retail",
          "Retail",
          "Retail",
          "Textiles and Garments",
          "Textiles and Garments",
          "Textiles and Garments",
          "Textiles and Garments",
          "Tourism",
          "Tourism",
          "Tourism",
          "Tourism",
          "Bachelor",
          "High School",
          "Master",
          "PhD"
         ],
         "name": "",
         "parents": [
          "Bachelor/Automotive",
          "High School/Automotive",
          "Master/Automotive",
          "PhD/Automotive",
          "Bachelor/Education",
          "High School/Education",
          "Master/Education",
          "PhD/Education",
          "Bachelor/Finance",
          "High School/Finance",
          "Master/Finance",
          "PhD/Finance",
          "Bachelor/Food and Beverage",
          "High School/Food and Beverage",
          "Master/Food and Beverage",
          "PhD/Food and Beverage",
          "Bachelor/Furniture",
          "High School/Furniture",
          "PhD/Furniture",
          "Bachelor/Healthcare",
          "High School/Healthcare",
          "Master/Healthcare",
          "PhD/Healthcare",
          "High School/Hospitality",
          "Master/Hospitality",
          "PhD/Hospitality",
          "Bachelor/IT",
          "High School/IT",
          "Master/IT",
          "PhD/IT",
          "Bachelor/Manufacturing",
          "High School/Manufacturing",
          "Master/Manufacturing",
          "PhD/Manufacturing",
          "Bachelor/Retail",
          "High School/Retail",
          "Master/Retail",
          "PhD/Retail",
          "Bachelor/Textiles and Garments",
          "High School/Textiles and Garments",
          "Master/Textiles and Garments",
          "PhD/Textiles and Garments",
          "Bachelor/Tourism",
          "High School/Tourism",
          "Master/Tourism",
          "PhD/Tourism",
          "Bachelor/Automotive",
          "High School/Automotive",
          "Master/Automotive",
          "PhD/Automotive",
          "Bachelor/Education",
          "High School/Education",
          "Master/Education",
          "PhD/Education",
          "Bachelor/Finance",
          "Master/Finance",
          "PhD/Finance",
          "Bachelor/Food and Beverage",
          "High School/Food and Beverage",
          "Master/Food and Beverage",
          "PhD/Food and Beverage",
          "Bachelor/Furniture",
          "High School/Furniture",
          "Master/Furniture",
          "PhD/Furniture",
          "Bachelor/Healthcare",
          "High School/Healthcare",
          "Master/Healthcare",
          "PhD/Healthcare",
          "Bachelor/Hospitality",
          "High School/Hospitality",
          "Master/Hospitality",
          "PhD/Hospitality",
          "Bachelor/IT",
          "High School/IT",
          "Master/IT",
          "Bachelor/Manufacturing",
          "High School/Manufacturing",
          "PhD/Manufacturing",
          "Bachelor/Retail",
          "High School/Retail",
          "Master/Retail",
          "PhD/Retail",
          "Bachelor/Textiles and Garments",
          "High School/Textiles and Garments",
          "Master/Textiles and Garments",
          "PhD/Textiles and Garments",
          "Bachelor/Tourism",
          "High School/Tourism",
          "Master/Tourism",
          "PhD/Tourism",
          "Bachelor/Automotive",
          "Master/Automotive",
          "PhD/Automotive",
          "Bachelor/Education",
          "High School/Education",
          "Master/Education",
          "High School/Finance",
          "Master/Finance",
          "PhD/Finance",
          "Bachelor/Food and Beverage",
          "Master/Food and Beverage",
          "Bachelor/Healthcare",
          "High School/Healthcare",
          "Bachelor/Hospitality",
          "PhD/Hospitality",
          "Bachelor/Manufacturing",
          "High School/Manufacturing",
          "Master/Manufacturing",
          "Bachelor/Retail",
          "High School/Retail",
          "PhD/Retail",
          "High School/Tourism",
          "Master/Tourism",
          "Bachelor/Automotive",
          "High School/Automotive",
          "PhD/Automotive",
          "Bachelor/Education",
          "High School/Education",
          "Master/Education",
          "PhD/Education",
          "Bachelor/Finance",
          "High School/Finance",
          "Master/Finance",
          "PhD/Finance",
          "Bachelor/Food and Beverage",
          "High School/Food and Beverage",
          "Master/Food and Beverage",
          "PhD/Food and Beverage",
          "Bachelor/Furniture",
          "High School/Furniture",
          "PhD/Furniture",
          "Bachelor/Healthcare",
          "High School/Healthcare",
          "Master/Healthcare",
          "PhD/Healthcare",
          "Bachelor/Hospitality",
          "High School/Hospitality",
          "Master/Hospitality",
          "PhD/Hospitality",
          "Bachelor/IT",
          "High School/IT",
          "Master/IT",
          "PhD/IT",
          "Bachelor/Manufacturing",
          "High School/Manufacturing",
          "Master/Manufacturing",
          "PhD/Manufacturing",
          "Bachelor/Retail",
          "High School/Retail",
          "Master/Retail",
          "PhD/Retail",
          "Bachelor/Textiles and Garments",
          "High School/Textiles and Garments",
          "Master/Textiles and Garments",
          "PhD/Textiles and Garments",
          "Bachelor/Tourism",
          "High School/Tourism",
          "Master/Tourism",
          "PhD/Tourism",
          "Bachelor/Automotive",
          "High School/Automotive",
          "Bachelor/Education",
          "Master/Education",
          "PhD/Education",
          "High School/Finance",
          "PhD/Finance",
          "High School/Food and Beverage",
          "PhD/Food and Beverage",
          "Bachelor/Furniture",
          "High School/Furniture",
          "Bachelor/Healthcare",
          "Master/Healthcare",
          "High School/Hospitality",
          "Master/Hospitality",
          "PhD/Hospitality",
          "Bachelor/IT",
          "Master/IT",
          "Bachelor/Manufacturing",
          "Master/Manufacturing",
          "High School/Retail",
          "Master/Retail",
          "PhD/Retail",
          "Bachelor/Textiles and Garments",
          "High School/Textiles and Garments",
          "Master/Textiles and Garments",
          "PhD/Textiles and Garments",
          "Bachelor/Tourism",
          "High School/Tourism",
          "PhD/Tourism",
          "Bachelor",
          "High School",
          "Master",
          "PhD",
          "Bachelor",
          "High School",
          "Master",
          "PhD",
          "Bachelor",
          "High School",
          "Master",
          "PhD",
          "Bachelor",
          "High School",
          "Master",
          "PhD",
          "Bachelor",
          "High School",
          "Master",
          "PhD",
          "Bachelor",
          "High School",
          "Master",
          "PhD",
          "Bachelor",
          "High School",
          "Master",
          "PhD",
          "Bachelor",
          "High School",
          "Master",
          "PhD",
          "Bachelor",
          "High School",
          "Master",
          "PhD",
          "Bachelor",
          "High School",
          "Master",
          "PhD",
          "Bachelor",
          "High School",
          "Master",
          "PhD",
          "Bachelor",
          "High School",
          "Master",
          "PhD",
          "",
          "",
          "",
          ""
         ],
         "root": {
          "color": "lightgrey"
         },
         "type": "treemap",
         "values": [
          5,
          3,
          4,
          3,
          8,
          2,
          7,
          4,
          1,
          2,
          8,
          5,
          3,
          3,
          4,
          2,
          5,
          4,
          1,
          3,
          4,
          5,
          3,
          3,
          5,
          2,
          1,
          4,
          3,
          2,
          1,
          2,
          5,
          3,
          4,
          2,
          2,
          2,
          5,
          4,
          1,
          1,
          5,
          5,
          6,
          3,
          5,
          3,
          4,
          1,
          4,
          3,
          2,
          3,
          3,
          4,
          4,
          4,
          4,
          4,
          2,
          3,
          1,
          2,
          2,
          4,
          2,
          4,
          2,
          4,
          1,
          1,
          4,
          6,
          4,
          4,
          1,
          2,
          1,
          2,
          2,
          4,
          3,
          3,
          4,
          3,
          3,
          5,
          3,
          3,
          5,
          1,
          2,
          1,
          2,
          2,
          2,
          1,
          1,
          1,
          1,
          4,
          3,
          1,
          1,
          1,
          1,
          1,
          1,
          1,
          1,
          1,
          1,
          2,
          3,
          1,
          6,
          4,
          3,
          6,
          3,
          3,
          3,
          2,
          6,
          6,
          2,
          1,
          1,
          4,
          2,
          2,
          3,
          1,
          2,
          1,
          3,
          2,
          3,
          6,
          1,
          2,
          7,
          2,
          1,
          4,
          1,
          3,
          2,
          1,
          2,
          4,
          4,
          2,
          2,
          3,
          2,
          4,
          3,
          5,
          1,
          1,
          5,
          2,
          1,
          1,
          1,
          1,
          2,
          1,
          1,
          2,
          3,
          1,
          3,
          4,
          1,
          1,
          2,
          1,
          1,
          2,
          1,
          1,
          2,
          1,
          2,
          1,
          1,
          1,
          15,
          8,
          10,
          11,
          23,
          10,
          19,
          11,
          7,
          7,
          15,
          17,
          14,
          10,
          13,
          7,
          13,
          8,
          2,
          5,
          15,
          8,
          14,
          6,
          8,
          7,
          12,
          17,
          9,
          10,
          15,
          4,
          6,
          9,
          8,
          7,
          9,
          7,
          10,
          11,
          13,
          12,
          7,
          9,
          13,
          14,
          14,
          14,
          145,
          110,
          139,
          119
         ]
        }
       ],
       "layout": {
        "legend": {
         "tracegroupgap": 0
        },
        "margin": {
         "b": 25,
         "l": 25,
         "r": 25,
         "t": 50
        },
        "template": {
         "data": {
          "bar": [
           {
            "error_x": {
             "color": "#2a3f5f"
            },
            "error_y": {
             "color": "#2a3f5f"
            },
            "marker": {
             "line": {
              "color": "#E5ECF6",
              "width": 0.5
             },
             "pattern": {
              "fillmode": "overlay",
              "size": 10,
              "solidity": 0.2
             }
            },
            "type": "bar"
           }
          ],
          "barpolar": [
           {
            "marker": {
             "line": {
              "color": "#E5ECF6",
              "width": 0.5
             },
             "pattern": {
              "fillmode": "overlay",
              "size": 10,
              "solidity": 0.2
             }
            },
            "type": "barpolar"
           }
          ],
          "carpet": [
           {
            "aaxis": {
             "endlinecolor": "#2a3f5f",
             "gridcolor": "white",
             "linecolor": "white",
             "minorgridcolor": "white",
             "startlinecolor": "#2a3f5f"
            },
            "baxis": {
             "endlinecolor": "#2a3f5f",
             "gridcolor": "white",
             "linecolor": "white",
             "minorgridcolor": "white",
             "startlinecolor": "#2a3f5f"
            },
            "type": "carpet"
           }
          ],
          "choropleth": [
           {
            "colorbar": {
             "outlinewidth": 0,
             "ticks": ""
            },
            "type": "choropleth"
           }
          ],
          "contour": [
           {
            "colorbar": {
             "outlinewidth": 0,
             "ticks": ""
            },
            "colorscale": [
             [
              0,
              "#0d0887"
             ],
             [
              0.1111111111111111,
              "#46039f"
             ],
             [
              0.2222222222222222,
              "#7201a8"
             ],
             [
              0.3333333333333333,
              "#9c179e"
             ],
             [
              0.4444444444444444,
              "#bd3786"
             ],
             [
              0.5555555555555556,
              "#d8576b"
             ],
             [
              0.6666666666666666,
              "#ed7953"
             ],
             [
              0.7777777777777778,
              "#fb9f3a"
             ],
             [
              0.8888888888888888,
              "#fdca26"
             ],
             [
              1,
              "#f0f921"
             ]
            ],
            "type": "contour"
           }
          ],
          "contourcarpet": [
           {
            "colorbar": {
             "outlinewidth": 0,
             "ticks": ""
            },
            "type": "contourcarpet"
           }
          ],
          "heatmap": [
           {
            "colorbar": {
             "outlinewidth": 0,
             "ticks": ""
            },
            "colorscale": [
             [
              0,
              "#0d0887"
             ],
             [
              0.1111111111111111,
              "#46039f"
             ],
             [
              0.2222222222222222,
              "#7201a8"
             ],
             [
              0.3333333333333333,
              "#9c179e"
             ],
             [
              0.4444444444444444,
              "#bd3786"
             ],
             [
              0.5555555555555556,
              "#d8576b"
             ],
             [
              0.6666666666666666,
              "#ed7953"
             ],
             [
              0.7777777777777778,
              "#fb9f3a"
             ],
             [
              0.8888888888888888,
              "#fdca26"
             ],
             [
              1,
              "#f0f921"
             ]
            ],
            "type": "heatmap"
           }
          ],
          "heatmapgl": [
           {
            "colorbar": {
             "outlinewidth": 0,
             "ticks": ""
            },
            "colorscale": [
             [
              0,
              "#0d0887"
             ],
             [
              0.1111111111111111,
              "#46039f"
             ],
             [
              0.2222222222222222,
              "#7201a8"
             ],
             [
              0.3333333333333333,
              "#9c179e"
             ],
             [
              0.4444444444444444,
              "#bd3786"
             ],
             [
              0.5555555555555556,
              "#d8576b"
             ],
             [
              0.6666666666666666,
              "#ed7953"
             ],
             [
              0.7777777777777778,
              "#fb9f3a"
             ],
             [
              0.8888888888888888,
              "#fdca26"
             ],
             [
              1,
              "#f0f921"
             ]
            ],
            "type": "heatmapgl"
           }
          ],
          "histogram": [
           {
            "marker": {
             "pattern": {
              "fillmode": "overlay",
              "size": 10,
              "solidity": 0.2
             }
            },
            "type": "histogram"
           }
          ],
          "histogram2d": [
           {
            "colorbar": {
             "outlinewidth": 0,
             "ticks": ""
            },
            "colorscale": [
             [
              0,
              "#0d0887"
             ],
             [
              0.1111111111111111,
              "#46039f"
             ],
             [
              0.2222222222222222,
              "#7201a8"
             ],
             [
              0.3333333333333333,
              "#9c179e"
             ],
             [
              0.4444444444444444,
              "#bd3786"
             ],
             [
              0.5555555555555556,
              "#d8576b"
             ],
             [
              0.6666666666666666,
              "#ed7953"
             ],
             [
              0.7777777777777778,
              "#fb9f3a"
             ],
             [
              0.8888888888888888,
              "#fdca26"
             ],
             [
              1,
              "#f0f921"
             ]
            ],
            "type": "histogram2d"
           }
          ],
          "histogram2dcontour": [
           {
            "colorbar": {
             "outlinewidth": 0,
             "ticks": ""
            },
            "colorscale": [
             [
              0,
              "#0d0887"
             ],
             [
              0.1111111111111111,
              "#46039f"
             ],
             [
              0.2222222222222222,
              "#7201a8"
             ],
             [
              0.3333333333333333,
              "#9c179e"
             ],
             [
              0.4444444444444444,
              "#bd3786"
             ],
             [
              0.5555555555555556,
              "#d8576b"
             ],
             [
              0.6666666666666666,
              "#ed7953"
             ],
             [
              0.7777777777777778,
              "#fb9f3a"
             ],
             [
              0.8888888888888888,
              "#fdca26"
             ],
             [
              1,
              "#f0f921"
             ]
            ],
            "type": "histogram2dcontour"
           }
          ],
          "mesh3d": [
           {
            "colorbar": {
             "outlinewidth": 0,
             "ticks": ""
            },
            "type": "mesh3d"
           }
          ],
          "parcoords": [
           {
            "line": {
             "colorbar": {
              "outlinewidth": 0,
              "ticks": ""
             }
            },
            "type": "parcoords"
           }
          ],
          "pie": [
           {
            "automargin": true,
            "type": "pie"
           }
          ],
          "scatter": [
           {
            "fillpattern": {
             "fillmode": "overlay",
             "size": 10,
             "solidity": 0.2
            },
            "type": "scatter"
           }
          ],
          "scatter3d": [
           {
            "line": {
             "colorbar": {
              "outlinewidth": 0,
              "ticks": ""
             }
            },
            "marker": {
             "colorbar": {
              "outlinewidth": 0,
              "ticks": ""
             }
            },
            "type": "scatter3d"
           }
          ],
          "scattercarpet": [
           {
            "marker": {
             "colorbar": {
              "outlinewidth": 0,
              "ticks": ""
             }
            },
            "type": "scattercarpet"
           }
          ],
          "scattergeo": [
           {
            "marker": {
             "colorbar": {
              "outlinewidth": 0,
              "ticks": ""
             }
            },
            "type": "scattergeo"
           }
          ],
          "scattergl": [
           {
            "marker": {
             "colorbar": {
              "outlinewidth": 0,
              "ticks": ""
             }
            },
            "type": "scattergl"
           }
          ],
          "scattermapbox": [
           {
            "marker": {
             "colorbar": {
              "outlinewidth": 0,
              "ticks": ""
             }
            },
            "type": "scattermapbox"
           }
          ],
          "scatterpolar": [
           {
            "marker": {
             "colorbar": {
              "outlinewidth": 0,
              "ticks": ""
             }
            },
            "type": "scatterpolar"
           }
          ],
          "scatterpolargl": [
           {
            "marker": {
             "colorbar": {
              "outlinewidth": 0,
              "ticks": ""
             }
            },
            "type": "scatterpolargl"
           }
          ],
          "scatterternary": [
           {
            "marker": {
             "colorbar": {
              "outlinewidth": 0,
              "ticks": ""
             }
            },
            "type": "scatterternary"
           }
          ],
          "surface": [
           {
            "colorbar": {
             "outlinewidth": 0,
             "ticks": ""
            },
            "colorscale": [
             [
              0,
              "#0d0887"
             ],
             [
              0.1111111111111111,
              "#46039f"
             ],
             [
              0.2222222222222222,
              "#7201a8"
             ],
             [
              0.3333333333333333,
              "#9c179e"
             ],
             [
              0.4444444444444444,
              "#bd3786"
             ],
             [
              0.5555555555555556,
              "#d8576b"
             ],
             [
              0.6666666666666666,
              "#ed7953"
             ],
             [
              0.7777777777777778,
              "#fb9f3a"
             ],
             [
              0.8888888888888888,
              "#fdca26"
             ],
             [
              1,
              "#f0f921"
             ]
            ],
            "type": "surface"
           }
          ],
          "table": [
           {
            "cells": {
             "fill": {
              "color": "#EBF0F8"
             },
             "line": {
              "color": "white"
             }
            },
            "header": {
             "fill": {
              "color": "#C8D4E3"
             },
             "line": {
              "color": "white"
             }
            },
            "type": "table"
           }
          ]
         },
         "layout": {
          "annotationdefaults": {
           "arrowcolor": "#2a3f5f",
           "arrowhead": 0,
           "arrowwidth": 1
          },
          "autotypenumbers": "strict",
          "coloraxis": {
           "colorbar": {
            "outlinewidth": 0,
            "ticks": ""
           }
          },
          "colorscale": {
           "diverging": [
            [
             0,
             "#8e0152"
            ],
            [
             0.1,
             "#c51b7d"
            ],
            [
             0.2,
             "#de77ae"
            ],
            [
             0.3,
             "#f1b6da"
            ],
            [
             0.4,
             "#fde0ef"
            ],
            [
             0.5,
             "#f7f7f7"
            ],
            [
             0.6,
             "#e6f5d0"
            ],
            [
             0.7,
             "#b8e186"
            ],
            [
             0.8,
             "#7fbc41"
            ],
            [
             0.9,
             "#4d9221"
            ],
            [
             1,
             "#276419"
            ]
           ],
           "sequential": [
            [
             0,
             "#0d0887"
            ],
            [
             0.1111111111111111,
             "#46039f"
            ],
            [
             0.2222222222222222,
             "#7201a8"
            ],
            [
             0.3333333333333333,
             "#9c179e"
            ],
            [
             0.4444444444444444,
             "#bd3786"
            ],
            [
             0.5555555555555556,
             "#d8576b"
            ],
            [
             0.6666666666666666,
             "#ed7953"
            ],
            [
             0.7777777777777778,
             "#fb9f3a"
            ],
            [
             0.8888888888888888,
             "#fdca26"
            ],
            [
             1,
             "#f0f921"
            ]
           ],
           "sequentialminus": [
            [
             0,
             "#0d0887"
            ],
            [
             0.1111111111111111,
             "#46039f"
            ],
            [
             0.2222222222222222,
             "#7201a8"
            ],
            [
             0.3333333333333333,
             "#9c179e"
            ],
            [
             0.4444444444444444,
             "#bd3786"
            ],
            [
             0.5555555555555556,
             "#d8576b"
            ],
            [
             0.6666666666666666,
             "#ed7953"
            ],
            [
             0.7777777777777778,
             "#fb9f3a"
            ],
            [
             0.8888888888888888,
             "#fdca26"
            ],
            [
             1,
             "#f0f921"
            ]
           ]
          },
          "colorway": [
           "#636efa",
           "#EF553B",
           "#00cc96",
           "#ab63fa",
           "#FFA15A",
           "#19d3f3",
           "#FF6692",
           "#B6E880",
           "#FF97FF",
           "#FECB52"
          ],
          "font": {
           "color": "#2a3f5f"
          },
          "geo": {
           "bgcolor": "white",
           "lakecolor": "white",
           "landcolor": "#E5ECF6",
           "showlakes": true,
           "showland": true,
           "subunitcolor": "white"
          },
          "hoverlabel": {
           "align": "left"
          },
          "hovermode": "closest",
          "mapbox": {
           "style": "light"
          },
          "paper_bgcolor": "white",
          "plot_bgcolor": "#E5ECF6",
          "polar": {
           "angularaxis": {
            "gridcolor": "white",
            "linecolor": "white",
            "ticks": ""
           },
           "bgcolor": "#E5ECF6",
           "radialaxis": {
            "gridcolor": "white",
            "linecolor": "white",
            "ticks": ""
           }
          },
          "scene": {
           "xaxis": {
            "backgroundcolor": "#E5ECF6",
            "gridcolor": "white",
            "gridwidth": 2,
            "linecolor": "white",
            "showbackground": true,
            "ticks": "",
            "zerolinecolor": "white"
           },
           "yaxis": {
            "backgroundcolor": "#E5ECF6",
            "gridcolor": "white",
            "gridwidth": 2,
            "linecolor": "white",
            "showbackground": true,
            "ticks": "",
            "zerolinecolor": "white"
           },
           "zaxis": {
            "backgroundcolor": "#E5ECF6",
            "gridcolor": "white",
            "gridwidth": 2,
            "linecolor": "white",
            "showbackground": true,
            "ticks": "",
            "zerolinecolor": "white"
           }
          },
          "shapedefaults": {
           "line": {
            "color": "#2a3f5f"
           }
          },
          "ternary": {
           "aaxis": {
            "gridcolor": "white",
            "linecolor": "white",
            "ticks": ""
           },
           "baxis": {
            "gridcolor": "white",
            "linecolor": "white",
            "ticks": ""
           },
           "bgcolor": "#E5ECF6",
           "caxis": {
            "gridcolor": "white",
            "linecolor": "white",
            "ticks": ""
           }
          },
          "title": {
           "x": 0.05
          },
          "xaxis": {
           "automargin": true,
           "gridcolor": "white",
           "linecolor": "white",
           "ticks": "",
           "title": {
            "standoff": 15
           },
           "zerolinecolor": "white",
           "zerolinewidth": 2
          },
          "yaxis": {
           "automargin": true,
           "gridcolor": "white",
           "linecolor": "white",
           "ticks": "",
           "title": {
            "standoff": 15
           },
           "zerolinecolor": "white",
           "zerolinewidth": 2
          }
         }
        },
        "title": {
         "text": "MVC"
        }
       }
      }
     },
     "metadata": {},
     "output_type": "display_data"
    },
    {
     "data": {
      "application/vnd.plotly.v1+json": {
       "config": {
        "plotlyServerURL": "https://plot.ly"
       },
       "data": [
        {
         "branchvalues": "total",
         "domain": {
          "x": [
           0,
           1
          ],
          "y": [
           0,
           1
          ]
         },
         "hovertemplate": "labels=%{label}<br>count=%{value}<br>parent=%{parent}<br>id=%{id}<extra></extra>",
         "ids": [
          "Bachelor/56/Baby Boomers",
          "High School/56/Baby Boomers",
          "PhD/56/Baby Boomers",
          "High School/57/Baby Boomers",
          "Bachelor/59/Baby Boomers",
          "High School/59/Baby Boomers",
          "Bachelor/60/Baby Boomers",
          "High School/60/Baby Boomers",
          "Bachelor/61/Baby Boomers",
          "High School/61/Baby Boomers",
          "High School/63/Baby Boomers",
          "Master/63/Baby Boomers",
          "High School/64/Baby Boomers",
          "High School/65/Baby Boomers",
          "PhD/65/Baby Boomers",
          "Bachelor/68/Baby Boomers",
          "PhD/68/Baby Boomers",
          "Bachelor/70/Baby Boomers",
          "High School/70/Baby Boomers",
          "High School/74/Baby Boomers",
          "Bachelor/Automotive/Baby Boomers",
          "High School/Automotive/Baby Boomers",
          "Master/Automotive/Baby Boomers",
          "Bachelor/Education/Baby Boomers",
          "High School/Education/Baby Boomers",
          "Master/Education/Baby Boomers",
          "PhD/Education/Baby Boomers",
          "Bachelor/Finance/Baby Boomers",
          "High School/Finance/Baby Boomers",
          "Master/Finance/Baby Boomers",
          "PhD/Finance/Baby Boomers",
          "Bachelor/Food and Beverage/Baby Boomers",
          "High School/Food and Beverage/Baby Boomers",
          "Master/Food and Beverage/Baby Boomers",
          "PhD/Food and Beverage/Baby Boomers",
          "Bachelor/Furniture/Baby Boomers",
          "High School/Furniture/Baby Boomers",
          "Master/Furniture/Baby Boomers",
          "PhD/Furniture/Baby Boomers",
          "High School/Healthcare/Baby Boomers",
          "Master/Healthcare/Baby Boomers",
          "PhD/Healthcare/Baby Boomers",
          "Bachelor/Hospitality/Baby Boomers",
          "High School/Hospitality/Baby Boomers",
          "Master/Hospitality/Baby Boomers",
          "PhD/Hospitality/Baby Boomers",
          "Bachelor/IT/Baby Boomers",
          "High School/IT/Baby Boomers",
          "Master/IT/Baby Boomers",
          "PhD/IT/Baby Boomers",
          "Bachelor/Manufacturing/Baby Boomers",
          "High School/Manufacturing/Baby Boomers",
          "Master/Manufacturing/Baby Boomers",
          "PhD/Manufacturing/Baby Boomers",
          "Bachelor/Retail/Baby Boomers",
          "Master/Retail/Baby Boomers",
          "PhD/Retail/Baby Boomers",
          "Bachelor/Textiles and Garments/Baby Boomers",
          "High School/Textiles and Garments/Baby Boomers",
          "Master/Textiles and Garments/Baby Boomers",
          "PhD/Textiles and Garments/Baby Boomers",
          "High School/Tourism/Baby Boomers",
          "Master/Tourism/Baby Boomers",
          "PhD/Tourism/Baby Boomers",
          "High School/50/Gen X",
          "Master/50/Gen X",
          "Bachelor/51/Gen X",
          "PhD/52/Gen X",
          "High School/53/Gen X",
          "Bachelor/Automotive/Gen X",
          "High School/Automotive/Gen X",
          "Master/Automotive/Gen X",
          "Bachelor/Education/Gen X",
          "PhD/Education/Gen X",
          "Bachelor/Finance/Gen X",
          "PhD/Finance/Gen X",
          "Bachelor/Food and Beverage/Gen X",
          "High School/Food and Beverage/Gen X",
          "Master/Food and Beverage/Gen X",
          "PhD/Food and Beverage/Gen X",
          "Bachelor/Furniture/Gen X",
          "High School/Furniture/Gen X",
          "Master/Furniture/Gen X",
          "PhD/Furniture/Gen X",
          "Bachelor/Healthcare/Gen X",
          "High School/Healthcare/Gen X",
          "PhD/Healthcare/Gen X",
          "Bachelor/Hospitality/Gen X",
          "High School/Hospitality/Gen X",
          "PhD/Hospitality/Gen X",
          "Bachelor/IT/Gen X",
          "PhD/IT/Gen X",
          "Bachelor/Manufacturing/Gen X",
          "High School/Manufacturing/Gen X",
          "Master/Manufacturing/Gen X",
          "Bachelor/Retail/Gen X",
          "High School/Retail/Gen X",
          "PhD/Retail/Gen X",
          "Bachelor/Textiles and Garments/Gen X",
          "High School/Textiles and Garments/Gen X",
          "Master/Textiles and Garments/Gen X",
          "PhD/Textiles and Garments/Gen X",
          "Bachelor/Tourism/Gen X",
          "Master/Tourism/Gen X",
          "PhD/Tourism/Gen X",
          "High School/Automotive/Gen Z",
          "High School/Education/Gen Z",
          "Bachelor/Food and Beverage/Gen Z",
          "High School/Food and Beverage/Gen Z",
          "Bachelor/Furniture/Gen Z",
          "Master/Furniture/Gen Z",
          "PhD/Furniture/Gen Z",
          "Bachelor/Healthcare/Gen Z",
          "Master/Healthcare/Gen Z",
          "Master/Hospitality/Gen Z",
          "PhD/Hospitality/Gen Z",
          "High School/IT/Gen Z",
          "PhD/IT/Gen Z",
          "High School/Manufacturing/Gen Z",
          "Bachelor/Textiles and Garments/Gen Z",
          "High School/40/Millennials",
          "High School/Automotive/Millennials",
          "Master/Automotive/Millennials",
          "Bachelor/Education/Millennials",
          "Master/Education/Millennials",
          "PhD/Education/Millennials",
          "Bachelor/Finance/Millennials",
          "High School/Finance/Millennials",
          "Master/Finance/Millennials",
          "PhD/Finance/Millennials",
          "High School/Food and Beverage/Millennials",
          "Master/Food and Beverage/Millennials",
          "PhD/Food and Beverage/Millennials",
          "Bachelor/Furniture/Millennials",
          "Master/Furniture/Millennials",
          "Bachelor/Healthcare/Millennials",
          "High School/Healthcare/Millennials",
          "Master/Healthcare/Millennials",
          "PhD/Healthcare/Millennials",
          "Bachelor/Hospitality/Millennials",
          "High School/Hospitality/Millennials",
          "Master/Hospitality/Millennials",
          "PhD/Hospitality/Millennials",
          "Master/IT/Millennials",
          "PhD/IT/Millennials",
          "High School/Manufacturing/Millennials",
          "Master/Manufacturing/Millennials",
          "PhD/Manufacturing/Millennials",
          "Bachelor/Retail/Millennials",
          "Master/Retail/Millennials",
          "Bachelor/Textiles and Garments/Millennials",
          "High School/Textiles and Garments/Millennials",
          "Master/Textiles and Garments/Millennials",
          "PhD/Textiles and Garments/Millennials",
          "Bachelor/Tourism/Millennials",
          "PhD/Tourism/Millennials",
          "Master/77/Silent Generation",
          "High School/78/Silent Generation",
          "High School/80/Silent Generation",
          "Bachelor/Automotive/Silent Generation",
          "Master/Automotive/Silent Generation",
          "PhD/Automotive/Silent Generation",
          "Master/Education/Silent Generation",
          "PhD/Education/Silent Generation",
          "Bachelor/Finance/Silent Generation",
          "Bachelor/Food and Beverage/Silent Generation",
          "High School/Food and Beverage/Silent Generation",
          "Bachelor/Furniture/Silent Generation",
          "High School/Furniture/Silent Generation",
          "Master/Furniture/Silent Generation",
          "Bachelor/Hospitality/Silent Generation",
          "Master/Hospitality/Silent Generation",
          "Bachelor/IT/Silent Generation",
          "Bachelor/Manufacturing/Silent Generation",
          "High School/Manufacturing/Silent Generation",
          "PhD/Retail/Silent Generation",
          "Bachelor/Textiles and Garments/Silent Generation",
          "High School/Textiles and Garments/Silent Generation",
          "Master/Textiles and Garments/Silent Generation",
          "High School/Tourism/Silent Generation",
          "PhD/Tourism/Silent Generation",
          "High School/40",
          "High School/50",
          "Master/50",
          "Bachelor/51",
          "PhD/52",
          "High School/53",
          "Bachelor/56",
          "High School/56",
          "PhD/56",
          "High School/57",
          "Bachelor/59",
          "High School/59",
          "Bachelor/60",
          "High School/60",
          "Bachelor/61",
          "High School/61",
          "High School/63",
          "Master/63",
          "High School/64",
          "High School/65",
          "PhD/65",
          "Bachelor/68",
          "PhD/68",
          "Bachelor/70",
          "High School/70",
          "High School/74",
          "Master/77",
          "High School/78",
          "High School/80",
          "Bachelor/Automotive",
          "High School/Automotive",
          "Master/Automotive",
          "PhD/Automotive",
          "Bachelor/Education",
          "High School/Education",
          "Master/Education",
          "PhD/Education",
          "Bachelor/Finance",
          "High School/Finance",
          "Master/Finance",
          "PhD/Finance",
          "Bachelor/Food and Beverage",
          "High School/Food and Beverage",
          "Master/Food and Beverage",
          "PhD/Food and Beverage",
          "Bachelor/Furniture",
          "High School/Furniture",
          "Master/Furniture",
          "PhD/Furniture",
          "Bachelor/Healthcare",
          "High School/Healthcare",
          "Master/Healthcare",
          "PhD/Healthcare",
          "Bachelor/Hospitality",
          "High School/Hospitality",
          "Master/Hospitality",
          "PhD/Hospitality",
          "Bachelor/IT",
          "High School/IT",
          "Master/IT",
          "PhD/IT",
          "Bachelor/Manufacturing",
          "High School/Manufacturing",
          "Master/Manufacturing",
          "PhD/Manufacturing",
          "Bachelor/Retail",
          "High School/Retail",
          "Master/Retail",
          "PhD/Retail",
          "Bachelor/Textiles and Garments",
          "High School/Textiles and Garments",
          "Master/Textiles and Garments",
          "PhD/Textiles and Garments",
          "Bachelor/Tourism",
          "High School/Tourism",
          "Master/Tourism",
          "PhD/Tourism",
          "Bachelor",
          "High School",
          "Master",
          "PhD"
         ],
         "labels": [
          "Baby Boomers",
          "Baby Boomers",
          "Baby Boomers",
          "Baby Boomers",
          "Baby Boomers",
          "Baby Boomers",
          "Baby Boomers",
          "Baby Boomers",
          "Baby Boomers",
          "Baby Boomers",
          "Baby Boomers",
          "Baby Boomers",
          "Baby Boomers",
          "Baby Boomers",
          "Baby Boomers",
          "Baby Boomers",
          "Baby Boomers",
          "Baby Boomers",
          "Baby Boomers",
          "Baby Boomers",
          "Baby Boomers",
          "Baby Boomers",
          "Baby Boomers",
          "Baby Boomers",
          "Baby Boomers",
          "Baby Boomers",
          "Baby Boomers",
          "Baby Boomers",
          "Baby Boomers",
          "Baby Boomers",
          "Baby Boomers",
          "Baby Boomers",
          "Baby Boomers",
          "Baby Boomers",
          "Baby Boomers",
          "Baby Boomers",
          "Baby Boomers",
          "Baby Boomers",
          "Baby Boomers",
          "Baby Boomers",
          "Baby Boomers",
          "Baby Boomers",
          "Baby Boomers",
          "Baby Boomers",
          "Baby Boomers",
          "Baby Boomers",
          "Baby Boomers",
          "Baby Boomers",
          "Baby Boomers",
          "Baby Boomers",
          "Baby Boomers",
          "Baby Boomers",
          "Baby Boomers",
          "Baby Boomers",
          "Baby Boomers",
          "Baby Boomers",
          "Baby Boomers",
          "Baby Boomers",
          "Baby Boomers",
          "Baby Boomers",
          "Baby Boomers",
          "Baby Boomers",
          "Baby Boomers",
          "Baby Boomers",
          "Gen X",
          "Gen X",
          "Gen X",
          "Gen X",
          "Gen X",
          "Gen X",
          "Gen X",
          "Gen X",
          "Gen X",
          "Gen X",
          "Gen X",
          "Gen X",
          "Gen X",
          "Gen X",
          "Gen X",
          "Gen X",
          "Gen X",
          "Gen X",
          "Gen X",
          "Gen X",
          "Gen X",
          "Gen X",
          "Gen X",
          "Gen X",
          "Gen X",
          "Gen X",
          "Gen X",
          "Gen X",
          "Gen X",
          "Gen X",
          "Gen X",
          "Gen X",
          "Gen X",
          "Gen X",
          "Gen X",
          "Gen X",
          "Gen X",
          "Gen X",
          "Gen X",
          "Gen X",
          "Gen X",
          "Gen Z",
          "Gen Z",
          "Gen Z",
          "Gen Z",
          "Gen Z",
          "Gen Z",
          "Gen Z",
          "Gen Z",
          "Gen Z",
          "Gen Z",
          "Gen Z",
          "Gen Z",
          "Gen Z",
          "Gen Z",
          "Gen Z",
          "Millennials",
          "Millennials",
          "Millennials",
          "Millennials",
          "Millennials",
          "Millennials",
          "Millennials",
          "Millennials",
          "Millennials",
          "Millennials",
          "Millennials",
          "Millennials",
          "Millennials",
          "Millennials",
          "Millennials",
          "Millennials",
          "Millennials",
          "Millennials",
          "Millennials",
          "Millennials",
          "Millennials",
          "Millennials",
          "Millennials",
          "Millennials",
          "Millennials",
          "Millennials",
          "Millennials",
          "Millennials",
          "Millennials",
          "Millennials",
          "Millennials",
          "Millennials",
          "Millennials",
          "Millennials",
          "Millennials",
          "Millennials",
          "Silent Generation",
          "Silent Generation",
          "Silent Generation",
          "Silent Generation",
          "Silent Generation",
          "Silent Generation",
          "Silent Generation",
          "Silent Generation",
          "Silent Generation",
          "Silent Generation",
          "Silent Generation",
          "Silent Generation",
          "Silent Generation",
          "Silent Generation",
          "Silent Generation",
          "Silent Generation",
          "Silent Generation",
          "Silent Generation",
          "Silent Generation",
          "Silent Generation",
          "Silent Generation",
          "Silent Generation",
          "Silent Generation",
          "Silent Generation",
          "Silent Generation",
          "40",
          "50",
          "50",
          "51",
          "52",
          "53",
          "56",
          "56",
          "56",
          "57",
          "59",
          "59",
          "60",
          "60",
          "61",
          "61",
          "63",
          "63",
          "64",
          "65",
          "65",
          "68",
          "68",
          "70",
          "70",
          "74",
          "77",
          "78",
          "80",
          "Automotive",
          "Automotive",
          "Automotive",
          "Automotive",
          "Education",
          "Education",
          "Education",
          "Education",
          "Finance",
          "Finance",
          "Finance",
          "Finance",
          "Food and Beverage",
          "Food and Beverage",
          "Food and Beverage",
          "Food and Beverage",
          "Furniture",
          "Furniture",
          "Furniture",
          "Furniture",
          "Healthcare",
          "Healthcare",
          "Healthcare",
          "Healthcare",
          "Hospitality",
          "Hospitality",
          "Hospitality",
          "Hospitality",
          "IT",
          "IT",
          "IT",
          "IT",
          "Manufacturing",
          "Manufacturing",
          "Manufacturing",
          "Manufacturing",
          "Retail",
          "Retail",
          "Retail",
          "Retail",
          "Textiles and Garments",
          "Textiles and Garments",
          "Textiles and Garments",
          "Textiles and Garments",
          "Tourism",
          "Tourism",
          "Tourism",
          "Tourism",
          "Bachelor",
          "High School",
          "Master",
          "PhD"
         ],
         "name": "",
         "parents": [
          "Bachelor/56",
          "High School/56",
          "PhD/56",
          "High School/57",
          "Bachelor/59",
          "High School/59",
          "Bachelor/60",
          "High School/60",
          "Bachelor/61",
          "High School/61",
          "High School/63",
          "Master/63",
          "High School/64",
          "High School/65",
          "PhD/65",
          "Bachelor/68",
          "PhD/68",
          "Bachelor/70",
          "High School/70",
          "High School/74",
          "Bachelor/Automotive",
          "High School/Automotive",
          "Master/Automotive",
          "Bachelor/Education",
          "High School/Education",
          "Master/Education",
          "PhD/Education",
          "Bachelor/Finance",
          "High School/Finance",
          "Master/Finance",
          "PhD/Finance",
          "Bachelor/Food and Beverage",
          "High School/Food and Beverage",
          "Master/Food and Beverage",
          "PhD/Food and Beverage",
          "Bachelor/Furniture",
          "High School/Furniture",
          "Master/Furniture",
          "PhD/Furniture",
          "High School/Healthcare",
          "Master/Healthcare",
          "PhD/Healthcare",
          "Bachelor/Hospitality",
          "High School/Hospitality",
          "Master/Hospitality",
          "PhD/Hospitality",
          "Bachelor/IT",
          "High School/IT",
          "Master/IT",
          "PhD/IT",
          "Bachelor/Manufacturing",
          "High School/Manufacturing",
          "Master/Manufacturing",
          "PhD/Manufacturing",
          "Bachelor/Retail",
          "Master/Retail",
          "PhD/Retail",
          "Bachelor/Textiles and Garments",
          "High School/Textiles and Garments",
          "Master/Textiles and Garments",
          "PhD/Textiles and Garments",
          "High School/Tourism",
          "Master/Tourism",
          "PhD/Tourism",
          "High School/50",
          "Master/50",
          "Bachelor/51",
          "PhD/52",
          "High School/53",
          "Bachelor/Automotive",
          "High School/Automotive",
          "Master/Automotive",
          "Bachelor/Education",
          "PhD/Education",
          "Bachelor/Finance",
          "PhD/Finance",
          "Bachelor/Food and Beverage",
          "High School/Food and Beverage",
          "Master/Food and Beverage",
          "PhD/Food and Beverage",
          "Bachelor/Furniture",
          "High School/Furniture",
          "Master/Furniture",
          "PhD/Furniture",
          "Bachelor/Healthcare",
          "High School/Healthcare",
          "PhD/Healthcare",
          "Bachelor/Hospitality",
          "High School/Hospitality",
          "PhD/Hospitality",
          "Bachelor/IT",
          "PhD/IT",
          "Bachelor/Manufacturing",
          "High School/Manufacturing",
          "Master/Manufacturing",
          "Bachelor/Retail",
          "High School/Retail",
          "PhD/Retail",
          "Bachelor/Textiles and Garments",
          "High School/Textiles and Garments",
          "Master/Textiles and Garments",
          "PhD/Textiles and Garments",
          "Bachelor/Tourism",
          "Master/Tourism",
          "PhD/Tourism",
          "High School/Automotive",
          "High School/Education",
          "Bachelor/Food and Beverage",
          "High School/Food and Beverage",
          "Bachelor/Furniture",
          "Master/Furniture",
          "PhD/Furniture",
          "Bachelor/Healthcare",
          "Master/Healthcare",
          "Master/Hospitality",
          "PhD/Hospitality",
          "High School/IT",
          "PhD/IT",
          "High School/Manufacturing",
          "Bachelor/Textiles and Garments",
          "High School/40",
          "High School/Automotive",
          "Master/Automotive",
          "Bachelor/Education",
          "Master/Education",
          "PhD/Education",
          "Bachelor/Finance",
          "High School/Finance",
          "Master/Finance",
          "PhD/Finance",
          "High School/Food and Beverage",
          "Master/Food and Beverage",
          "PhD/Food and Beverage",
          "Bachelor/Furniture",
          "Master/Furniture",
          "Bachelor/Healthcare",
          "High School/Healthcare",
          "Master/Healthcare",
          "PhD/Healthcare",
          "Bachelor/Hospitality",
          "High School/Hospitality",
          "Master/Hospitality",
          "PhD/Hospitality",
          "Master/IT",
          "PhD/IT",
          "High School/Manufacturing",
          "Master/Manufacturing",
          "PhD/Manufacturing",
          "Bachelor/Retail",
          "Master/Retail",
          "Bachelor/Textiles and Garments",
          "High School/Textiles and Garments",
          "Master/Textiles and Garments",
          "PhD/Textiles and Garments",
          "Bachelor/Tourism",
          "PhD/Tourism",
          "Master/77",
          "High School/78",
          "High School/80",
          "Bachelor/Automotive",
          "Master/Automotive",
          "PhD/Automotive",
          "Master/Education",
          "PhD/Education",
          "Bachelor/Finance",
          "Bachelor/Food and Beverage",
          "High School/Food and Beverage",
          "Bachelor/Furniture",
          "High School/Furniture",
          "Master/Furniture",
          "Bachelor/Hospitality",
          "Master/Hospitality",
          "Bachelor/IT",
          "Bachelor/Manufacturing",
          "High School/Manufacturing",
          "PhD/Retail",
          "Bachelor/Textiles and Garments",
          "High School/Textiles and Garments",
          "Master/Textiles and Garments",
          "High School/Tourism",
          "PhD/Tourism",
          "High School",
          "High School",
          "Master",
          "Bachelor",
          "PhD",
          "High School",
          "Bachelor",
          "High School",
          "PhD",
          "High School",
          "Bachelor",
          "High School",
          "Bachelor",
          "High School",
          "Bachelor",
          "High School",
          "High School",
          "Master",
          "High School",
          "High School",
          "PhD",
          "Bachelor",
          "PhD",
          "Bachelor",
          "High School",
          "High School",
          "Master",
          "High School",
          "High School",
          "Bachelor",
          "High School",
          "Master",
          "PhD",
          "Bachelor",
          "High School",
          "Master",
          "PhD",
          "Bachelor",
          "High School",
          "Master",
          "PhD",
          "Bachelor",
          "High School",
          "Master",
          "PhD",
          "Bachelor",
          "High School",
          "Master",
          "PhD",
          "Bachelor",
          "High School",
          "Master",
          "PhD",
          "Bachelor",
          "High School",
          "Master",
          "PhD",
          "Bachelor",
          "High School",
          "Master",
          "PhD",
          "Bachelor",
          "High School",
          "Master",
          "PhD",
          "Bachelor",
          "High School",
          "Master",
          "PhD",
          "Bachelor",
          "High School",
          "Master",
          "PhD",
          "Bachelor",
          "High School",
          "Master",
          "PhD",
          "",
          "",
          "",
          ""
         ],
         "root": {
          "color": "lightgrey"
         },
         "type": "treemap",
         "values": [
          1,
          1,
          1,
          2,
          1,
          1,
          2,
          2,
          2,
          2,
          2,
          1,
          1,
          1,
          1,
          2,
          1,
          1,
          2,
          1,
          2,
          3,
          3,
          2,
          2,
          2,
          1,
          2,
          4,
          1,
          1,
          11,
          23,
          6,
          4,
          8,
          22,
          6,
          2,
          4,
          2,
          1,
          2,
          3,
          1,
          4,
          2,
          2,
          4,
          4,
          4,
          2,
          2,
          2,
          2,
          2,
          2,
          13,
          20,
          8,
          4,
          2,
          2,
          1,
          1,
          1,
          1,
          2,
          2,
          1,
          2,
          3,
          1,
          3,
          1,
          1,
          6,
          10,
          1,
          2,
          4,
          4,
          1,
          1,
          1,
          1,
          2,
          1,
          1,
          2,
          1,
          2,
          2,
          4,
          3,
          3,
          1,
          1,
          1,
          8,
          2,
          3,
          1,
          3,
          2,
          1,
          1,
          1,
          1,
          1,
          1,
          1,
          1,
          1,
          1,
          1,
          1,
          1,
          1,
          1,
          1,
          1,
          3,
          1,
          2,
          3,
          1,
          3,
          1,
          5,
          2,
          2,
          3,
          2,
          1,
          1,
          2,
          4,
          2,
          1,
          2,
          3,
          1,
          1,
          1,
          3,
          2,
          1,
          1,
          2,
          2,
          2,
          1,
          1,
          1,
          1,
          1,
          2,
          1,
          1,
          1,
          1,
          1,
          1,
          1,
          2,
          2,
          1,
          8,
          2,
          1,
          1,
          1,
          1,
          1,
          1,
          1,
          5,
          2,
          1,
          1,
          1,
          1,
          1,
          1,
          2,
          2,
          1,
          1,
          1,
          2,
          1,
          1,
          2,
          2,
          2,
          2,
          2,
          1,
          1,
          1,
          1,
          2,
          1,
          1,
          2,
          1,
          1,
          2,
          1,
          4,
          7,
          10,
          1,
          4,
          3,
          5,
          8,
          5,
          7,
          2,
          7,
          20,
          38,
          9,
          9,
          16,
          34,
          11,
          4,
          3,
          7,
          7,
          5,
          5,
          6,
          6,
          8,
          4,
          3,
          5,
          8,
          7,
          11,
          7,
          3,
          6,
          1,
          4,
          4,
          18,
          35,
          13,
          8,
          2,
          3,
          5,
          5,
          104,
          177,
          87,
          75
         ]
        }
       ],
       "layout": {
        "legend": {
         "tracegroupgap": 0
        },
        "margin": {
         "b": 25,
         "l": 25,
         "r": 25,
         "t": 50
        },
        "template": {
         "data": {
          "bar": [
           {
            "error_x": {
             "color": "#2a3f5f"
            },
            "error_y": {
             "color": "#2a3f5f"
            },
            "marker": {
             "line": {
              "color": "#E5ECF6",
              "width": 0.5
             },
             "pattern": {
              "fillmode": "overlay",
              "size": 10,
              "solidity": 0.2
             }
            },
            "type": "bar"
           }
          ],
          "barpolar": [
           {
            "marker": {
             "line": {
              "color": "#E5ECF6",
              "width": 0.5
             },
             "pattern": {
              "fillmode": "overlay",
              "size": 10,
              "solidity": 0.2
             }
            },
            "type": "barpolar"
           }
          ],
          "carpet": [
           {
            "aaxis": {
             "endlinecolor": "#2a3f5f",
             "gridcolor": "white",
             "linecolor": "white",
             "minorgridcolor": "white",
             "startlinecolor": "#2a3f5f"
            },
            "baxis": {
             "endlinecolor": "#2a3f5f",
             "gridcolor": "white",
             "linecolor": "white",
             "minorgridcolor": "white",
             "startlinecolor": "#2a3f5f"
            },
            "type": "carpet"
           }
          ],
          "choropleth": [
           {
            "colorbar": {
             "outlinewidth": 0,
             "ticks": ""
            },
            "type": "choropleth"
           }
          ],
          "contour": [
           {
            "colorbar": {
             "outlinewidth": 0,
             "ticks": ""
            },
            "colorscale": [
             [
              0,
              "#0d0887"
             ],
             [
              0.1111111111111111,
              "#46039f"
             ],
             [
              0.2222222222222222,
              "#7201a8"
             ],
             [
              0.3333333333333333,
              "#9c179e"
             ],
             [
              0.4444444444444444,
              "#bd3786"
             ],
             [
              0.5555555555555556,
              "#d8576b"
             ],
             [
              0.6666666666666666,
              "#ed7953"
             ],
             [
              0.7777777777777778,
              "#fb9f3a"
             ],
             [
              0.8888888888888888,
              "#fdca26"
             ],
             [
              1,
              "#f0f921"
             ]
            ],
            "type": "contour"
           }
          ],
          "contourcarpet": [
           {
            "colorbar": {
             "outlinewidth": 0,
             "ticks": ""
            },
            "type": "contourcarpet"
           }
          ],
          "heatmap": [
           {
            "colorbar": {
             "outlinewidth": 0,
             "ticks": ""
            },
            "colorscale": [
             [
              0,
              "#0d0887"
             ],
             [
              0.1111111111111111,
              "#46039f"
             ],
             [
              0.2222222222222222,
              "#7201a8"
             ],
             [
              0.3333333333333333,
              "#9c179e"
             ],
             [
              0.4444444444444444,
              "#bd3786"
             ],
             [
              0.5555555555555556,
              "#d8576b"
             ],
             [
              0.6666666666666666,
              "#ed7953"
             ],
             [
              0.7777777777777778,
              "#fb9f3a"
             ],
             [
              0.8888888888888888,
              "#fdca26"
             ],
             [
              1,
              "#f0f921"
             ]
            ],
            "type": "heatmap"
           }
          ],
          "heatmapgl": [
           {
            "colorbar": {
             "outlinewidth": 0,
             "ticks": ""
            },
            "colorscale": [
             [
              0,
              "#0d0887"
             ],
             [
              0.1111111111111111,
              "#46039f"
             ],
             [
              0.2222222222222222,
              "#7201a8"
             ],
             [
              0.3333333333333333,
              "#9c179e"
             ],
             [
              0.4444444444444444,
              "#bd3786"
             ],
             [
              0.5555555555555556,
              "#d8576b"
             ],
             [
              0.6666666666666666,
              "#ed7953"
             ],
             [
              0.7777777777777778,
              "#fb9f3a"
             ],
             [
              0.8888888888888888,
              "#fdca26"
             ],
             [
              1,
              "#f0f921"
             ]
            ],
            "type": "heatmapgl"
           }
          ],
          "histogram": [
           {
            "marker": {
             "pattern": {
              "fillmode": "overlay",
              "size": 10,
              "solidity": 0.2
             }
            },
            "type": "histogram"
           }
          ],
          "histogram2d": [
           {
            "colorbar": {
             "outlinewidth": 0,
             "ticks": ""
            },
            "colorscale": [
             [
              0,
              "#0d0887"
             ],
             [
              0.1111111111111111,
              "#46039f"
             ],
             [
              0.2222222222222222,
              "#7201a8"
             ],
             [
              0.3333333333333333,
              "#9c179e"
             ],
             [
              0.4444444444444444,
              "#bd3786"
             ],
             [
              0.5555555555555556,
              "#d8576b"
             ],
             [
              0.6666666666666666,
              "#ed7953"
             ],
             [
              0.7777777777777778,
              "#fb9f3a"
             ],
             [
              0.8888888888888888,
              "#fdca26"
             ],
             [
              1,
              "#f0f921"
             ]
            ],
            "type": "histogram2d"
           }
          ],
          "histogram2dcontour": [
           {
            "colorbar": {
             "outlinewidth": 0,
             "ticks": ""
            },
            "colorscale": [
             [
              0,
              "#0d0887"
             ],
             [
              0.1111111111111111,
              "#46039f"
             ],
             [
              0.2222222222222222,
              "#7201a8"
             ],
             [
              0.3333333333333333,
              "#9c179e"
             ],
             [
              0.4444444444444444,
              "#bd3786"
             ],
             [
              0.5555555555555556,
              "#d8576b"
             ],
             [
              0.6666666666666666,
              "#ed7953"
             ],
             [
              0.7777777777777778,
              "#fb9f3a"
             ],
             [
              0.8888888888888888,
              "#fdca26"
             ],
             [
              1,
              "#f0f921"
             ]
            ],
            "type": "histogram2dcontour"
           }
          ],
          "mesh3d": [
           {
            "colorbar": {
             "outlinewidth": 0,
             "ticks": ""
            },
            "type": "mesh3d"
           }
          ],
          "parcoords": [
           {
            "line": {
             "colorbar": {
              "outlinewidth": 0,
              "ticks": ""
             }
            },
            "type": "parcoords"
           }
          ],
          "pie": [
           {
            "automargin": true,
            "type": "pie"
           }
          ],
          "scatter": [
           {
            "fillpattern": {
             "fillmode": "overlay",
             "size": 10,
             "solidity": 0.2
            },
            "type": "scatter"
           }
          ],
          "scatter3d": [
           {
            "line": {
             "colorbar": {
              "outlinewidth": 0,
              "ticks": ""
             }
            },
            "marker": {
             "colorbar": {
              "outlinewidth": 0,
              "ticks": ""
             }
            },
            "type": "scatter3d"
           }
          ],
          "scattercarpet": [
           {
            "marker": {
             "colorbar": {
              "outlinewidth": 0,
              "ticks": ""
             }
            },
            "type": "scattercarpet"
           }
          ],
          "scattergeo": [
           {
            "marker": {
             "colorbar": {
              "outlinewidth": 0,
              "ticks": ""
             }
            },
            "type": "scattergeo"
           }
          ],
          "scattergl": [
           {
            "marker": {
             "colorbar": {
              "outlinewidth": 0,
              "ticks": ""
             }
            },
            "type": "scattergl"
           }
          ],
          "scattermapbox": [
           {
            "marker": {
             "colorbar": {
              "outlinewidth": 0,
              "ticks": ""
             }
            },
            "type": "scattermapbox"
           }
          ],
          "scatterpolar": [
           {
            "marker": {
             "colorbar": {
              "outlinewidth": 0,
              "ticks": ""
             }
            },
            "type": "scatterpolar"
           }
          ],
          "scatterpolargl": [
           {
            "marker": {
             "colorbar": {
              "outlinewidth": 0,
              "ticks": ""
             }
            },
            "type": "scatterpolargl"
           }
          ],
          "scatterternary": [
           {
            "marker": {
             "colorbar": {
              "outlinewidth": 0,
              "ticks": ""
             }
            },
            "type": "scatterternary"
           }
          ],
          "surface": [
           {
            "colorbar": {
             "outlinewidth": 0,
             "ticks": ""
            },
            "colorscale": [
             [
              0,
              "#0d0887"
             ],
             [
              0.1111111111111111,
              "#46039f"
             ],
             [
              0.2222222222222222,
              "#7201a8"
             ],
             [
              0.3333333333333333,
              "#9c179e"
             ],
             [
              0.4444444444444444,
              "#bd3786"
             ],
             [
              0.5555555555555556,
              "#d8576b"
             ],
             [
              0.6666666666666666,
              "#ed7953"
             ],
             [
              0.7777777777777778,
              "#fb9f3a"
             ],
             [
              0.8888888888888888,
              "#fdca26"
             ],
             [
              1,
              "#f0f921"
             ]
            ],
            "type": "surface"
           }
          ],
          "table": [
           {
            "cells": {
             "fill": {
              "color": "#EBF0F8"
             },
             "line": {
              "color": "white"
             }
            },
            "header": {
             "fill": {
              "color": "#C8D4E3"
             },
             "line": {
              "color": "white"
             }
            },
            "type": "table"
           }
          ]
         },
         "layout": {
          "annotationdefaults": {
           "arrowcolor": "#2a3f5f",
           "arrowhead": 0,
           "arrowwidth": 1
          },
          "autotypenumbers": "strict",
          "coloraxis": {
           "colorbar": {
            "outlinewidth": 0,
            "ticks": ""
           }
          },
          "colorscale": {
           "diverging": [
            [
             0,
             "#8e0152"
            ],
            [
             0.1,
             "#c51b7d"
            ],
            [
             0.2,
             "#de77ae"
            ],
            [
             0.3,
             "#f1b6da"
            ],
            [
             0.4,
             "#fde0ef"
            ],
            [
             0.5,
             "#f7f7f7"
            ],
            [
             0.6,
             "#e6f5d0"
            ],
            [
             0.7,
             "#b8e186"
            ],
            [
             0.8,
             "#7fbc41"
            ],
            [
             0.9,
             "#4d9221"
            ],
            [
             1,
             "#276419"
            ]
           ],
           "sequential": [
            [
             0,
             "#0d0887"
            ],
            [
             0.1111111111111111,
             "#46039f"
            ],
            [
             0.2222222222222222,
             "#7201a8"
            ],
            [
             0.3333333333333333,
             "#9c179e"
            ],
            [
             0.4444444444444444,
             "#bd3786"
            ],
            [
             0.5555555555555556,
             "#d8576b"
            ],
            [
             0.6666666666666666,
             "#ed7953"
            ],
            [
             0.7777777777777778,
             "#fb9f3a"
            ],
            [
             0.8888888888888888,
             "#fdca26"
            ],
            [
             1,
             "#f0f921"
            ]
           ],
           "sequentialminus": [
            [
             0,
             "#0d0887"
            ],
            [
             0.1111111111111111,
             "#46039f"
            ],
            [
             0.2222222222222222,
             "#7201a8"
            ],
            [
             0.3333333333333333,
             "#9c179e"
            ],
            [
             0.4444444444444444,
             "#bd3786"
            ],
            [
             0.5555555555555556,
             "#d8576b"
            ],
            [
             0.6666666666666666,
             "#ed7953"
            ],
            [
             0.7777777777777778,
             "#fb9f3a"
            ],
            [
             0.8888888888888888,
             "#fdca26"
            ],
            [
             1,
             "#f0f921"
            ]
           ]
          },
          "colorway": [
           "#636efa",
           "#EF553B",
           "#00cc96",
           "#ab63fa",
           "#FFA15A",
           "#19d3f3",
           "#FF6692",
           "#B6E880",
           "#FF97FF",
           "#FECB52"
          ],
          "font": {
           "color": "#2a3f5f"
          },
          "geo": {
           "bgcolor": "white",
           "lakecolor": "white",
           "landcolor": "#E5ECF6",
           "showlakes": true,
           "showland": true,
           "subunitcolor": "white"
          },
          "hoverlabel": {
           "align": "left"
          },
          "hovermode": "closest",
          "mapbox": {
           "style": "light"
          },
          "paper_bgcolor": "white",
          "plot_bgcolor": "#E5ECF6",
          "polar": {
           "angularaxis": {
            "gridcolor": "white",
            "linecolor": "white",
            "ticks": ""
           },
           "bgcolor": "#E5ECF6",
           "radialaxis": {
            "gridcolor": "white",
            "linecolor": "white",
            "ticks": ""
           }
          },
          "scene": {
           "xaxis": {
            "backgroundcolor": "#E5ECF6",
            "gridcolor": "white",
            "gridwidth": 2,
            "linecolor": "white",
            "showbackground": true,
            "ticks": "",
            "zerolinecolor": "white"
           },
           "yaxis": {
            "backgroundcolor": "#E5ECF6",
            "gridcolor": "white",
            "gridwidth": 2,
            "linecolor": "white",
            "showbackground": true,
            "ticks": "",
            "zerolinecolor": "white"
           },
           "zaxis": {
            "backgroundcolor": "#E5ECF6",
            "gridcolor": "white",
            "gridwidth": 2,
            "linecolor": "white",
            "showbackground": true,
            "ticks": "",
            "zerolinecolor": "white"
           }
          },
          "shapedefaults": {
           "line": {
            "color": "#2a3f5f"
           }
          },
          "ternary": {
           "aaxis": {
            "gridcolor": "white",
            "linecolor": "white",
            "ticks": ""
           },
           "baxis": {
            "gridcolor": "white",
            "linecolor": "white",
            "ticks": ""
           },
           "bgcolor": "#E5ECF6",
           "caxis": {
            "gridcolor": "white",
            "linecolor": "white",
            "ticks": ""
           }
          },
          "title": {
           "x": 0.05
          },
          "xaxis": {
           "automargin": true,
           "gridcolor": "white",
           "linecolor": "white",
           "ticks": "",
           "title": {
            "standoff": 15
           },
           "zerolinecolor": "white",
           "zerolinewidth": 2
          },
          "yaxis": {
           "automargin": true,
           "gridcolor": "white",
           "linecolor": "white",
           "ticks": "",
           "title": {
            "standoff": 15
           },
           "zerolinecolor": "white",
           "zerolinewidth": 2
          }
         }
        },
        "title": {
         "text": "Need Attention"
        }
       }
      }
     },
     "metadata": {},
     "output_type": "display_data"
    },
    {
     "data": {
      "application/vnd.plotly.v1+json": {
       "config": {
        "plotlyServerURL": "https://plot.ly"
       },
       "data": [
        {
         "branchvalues": "total",
         "domain": {
          "x": [
           0,
           1
          ],
          "y": [
           0,
           1
          ]
         },
         "hovertemplate": "labels=%{label}<br>count=%{value}<br>parent=%{parent}<br>id=%{id}<extra></extra>",
         "ids": [
          "Bachelor/Automotive/Baby Boomers",
          "High School/Automotive/Baby Boomers",
          "Master/Automotive/Baby Boomers",
          "PhD/Automotive/Baby Boomers",
          "Bachelor/Education/Baby Boomers",
          "Master/Education/Baby Boomers",
          "PhD/Education/Baby Boomers",
          "Bachelor/Finance/Baby Boomers",
          "Master/Finance/Baby Boomers",
          "PhD/Finance/Baby Boomers",
          "Master/Food and Beverage/Baby Boomers",
          "PhD/Food and Beverage/Baby Boomers",
          "Bachelor/Furniture/Baby Boomers",
          "High School/Furniture/Baby Boomers",
          "Master/Furniture/Baby Boomers",
          "PhD/Furniture/Baby Boomers",
          "Bachelor/Healthcare/Baby Boomers",
          "High School/Healthcare/Baby Boomers",
          "Master/Healthcare/Baby Boomers",
          "PhD/Healthcare/Baby Boomers",
          "Bachelor/Hospitality/Baby Boomers",
          "High School/Hospitality/Baby Boomers",
          "Master/Hospitality/Baby Boomers",
          "PhD/Hospitality/Baby Boomers",
          "PhD/IT/Baby Boomers",
          "Bachelor/Manufacturing/Baby Boomers",
          "High School/Manufacturing/Baby Boomers",
          "Master/Manufacturing/Baby Boomers",
          "PhD/Manufacturing/Baby Boomers",
          "Bachelor/Retail/Baby Boomers",
          "Master/Retail/Baby Boomers",
          "PhD/Retail/Baby Boomers",
          "High School/Textiles and Garments/Baby Boomers",
          "PhD/Textiles and Garments/Baby Boomers",
          "Bachelor/Tourism/Baby Boomers",
          "High School/Tourism/Baby Boomers",
          "Master/Tourism/Baby Boomers",
          "PhD/Tourism/Baby Boomers",
          "Bachelor/Automotive/Gen X",
          "Master/Automotive/Gen X",
          "Bachelor/Education/Gen X",
          "PhD/Education/Gen X",
          "High School/Finance/Gen X",
          "Master/Finance/Gen X",
          "PhD/Finance/Gen X",
          "Bachelor/Food and Beverage/Gen X",
          "PhD/Food and Beverage/Gen X",
          "High School/Furniture/Gen X",
          "High School/Healthcare/Gen X",
          "Master/Healthcare/Gen X",
          "PhD/Healthcare/Gen X",
          "Bachelor/Hospitality/Gen X",
          "Master/Hospitality/Gen X",
          "PhD/Hospitality/Gen X",
          "Bachelor/IT/Gen X",
          "PhD/IT/Gen X",
          "Bachelor/Manufacturing/Gen X",
          "Master/Manufacturing/Gen X",
          "Bachelor/Retail/Gen X",
          "Master/Retail/Gen X",
          "Bachelor/Textiles and Garments/Gen X",
          "PhD/Textiles and Garments/Gen X",
          "Bachelor/Tourism/Gen X",
          "High School/Tourism/Gen X",
          "PhD/Tourism/Gen X",
          "Bachelor/Education/Gen Z",
          "Master/Finance/Gen Z",
          "High School/Food and Beverage/Gen Z",
          "Master/Food and Beverage/Gen Z",
          "PhD/Food and Beverage/Gen Z",
          "High School/Furniture/Gen Z",
          "Master/Furniture/Gen Z",
          "Master/IT/Gen Z",
          "Master/Retail/Gen Z",
          "High School/Tourism/Gen Z",
          "Bachelor/Automotive/Millennials",
          "Master/Automotive/Millennials",
          "High School/Education/Millennials",
          "Master/Education/Millennials",
          "PhD/Education/Millennials",
          "Bachelor/Finance/Millennials",
          "High School/Finance/Millennials",
          "Bachelor/Food and Beverage/Millennials",
          "Master/Food and Beverage/Millennials",
          "Bachelor/Furniture/Millennials",
          "High School/Furniture/Millennials",
          "Master/Furniture/Millennials",
          "Bachelor/Healthcare/Millennials",
          "High School/Healthcare/Millennials",
          "PhD/Healthcare/Millennials",
          "Bachelor/Hospitality/Millennials",
          "High School/Hospitality/Millennials",
          "PhD/Hospitality/Millennials",
          "Master/IT/Millennials",
          "Bachelor/Manufacturing/Millennials",
          "High School/Manufacturing/Millennials",
          "Master/Manufacturing/Millennials",
          "Bachelor/Textiles and Garments/Millennials",
          "High School/Textiles and Garments/Millennials",
          "PhD/Textiles and Garments/Millennials",
          "Bachelor/Tourism/Millennials",
          "High School/Tourism/Millennials",
          "PhD/Tourism/Millennials",
          "Master/Automotive/Silent Generation",
          "PhD/Automotive/Silent Generation",
          "Bachelor/Education/Silent Generation",
          "Master/Education/Silent Generation",
          "PhD/Education/Silent Generation",
          "Bachelor/Finance/Silent Generation",
          "PhD/Finance/Silent Generation",
          "High School/Food and Beverage/Silent Generation",
          "Bachelor/Furniture/Silent Generation",
          "High School/IT/Silent Generation",
          "Master/Manufacturing/Silent Generation",
          "PhD/Manufacturing/Silent Generation",
          "Bachelor/Textiles and Garments/Silent Generation",
          "PhD/Textiles and Garments/Silent Generation",
          "Bachelor/Automotive",
          "High School/Automotive",
          "Master/Automotive",
          "PhD/Automotive",
          "Bachelor/Education",
          "High School/Education",
          "Master/Education",
          "PhD/Education",
          "Bachelor/Finance",
          "High School/Finance",
          "Master/Finance",
          "PhD/Finance",
          "Bachelor/Food and Beverage",
          "High School/Food and Beverage",
          "Master/Food and Beverage",
          "PhD/Food and Beverage",
          "Bachelor/Furniture",
          "High School/Furniture",
          "Master/Furniture",
          "PhD/Furniture",
          "Bachelor/Healthcare",
          "High School/Healthcare",
          "Master/Healthcare",
          "PhD/Healthcare",
          "Bachelor/Hospitality",
          "High School/Hospitality",
          "Master/Hospitality",
          "PhD/Hospitality",
          "Bachelor/IT",
          "High School/IT",
          "Master/IT",
          "PhD/IT",
          "Bachelor/Manufacturing",
          "High School/Manufacturing",
          "Master/Manufacturing",
          "PhD/Manufacturing",
          "Bachelor/Retail",
          "Master/Retail",
          "PhD/Retail",
          "Bachelor/Textiles and Garments",
          "High School/Textiles and Garments",
          "PhD/Textiles and Garments",
          "Bachelor/Tourism",
          "High School/Tourism",
          "Master/Tourism",
          "PhD/Tourism",
          "Bachelor",
          "High School",
          "Master",
          "PhD"
         ],
         "labels": [
          "Baby Boomers",
          "Baby Boomers",
          "Baby Boomers",
          "Baby Boomers",
          "Baby Boomers",
          "Baby Boomers",
          "Baby Boomers",
          "Baby Boomers",
          "Baby Boomers",
          "Baby Boomers",
          "Baby Boomers",
          "Baby Boomers",
          "Baby Boomers",
          "Baby Boomers",
          "Baby Boomers",
          "Baby Boomers",
          "Baby Boomers",
          "Baby Boomers",
          "Baby Boomers",
          "Baby Boomers",
          "Baby Boomers",
          "Baby Boomers",
          "Baby Boomers",
          "Baby Boomers",
          "Baby Boomers",
          "Baby Boomers",
          "Baby Boomers",
          "Baby Boomers",
          "Baby Boomers",
          "Baby Boomers",
          "Baby Boomers",
          "Baby Boomers",
          "Baby Boomers",
          "Baby Boomers",
          "Baby Boomers",
          "Baby Boomers",
          "Baby Boomers",
          "Baby Boomers",
          "Gen X",
          "Gen X",
          "Gen X",
          "Gen X",
          "Gen X",
          "Gen X",
          "Gen X",
          "Gen X",
          "Gen X",
          "Gen X",
          "Gen X",
          "Gen X",
          "Gen X",
          "Gen X",
          "Gen X",
          "Gen X",
          "Gen X",
          "Gen X",
          "Gen X",
          "Gen X",
          "Gen X",
          "Gen X",
          "Gen X",
          "Gen X",
          "Gen X",
          "Gen X",
          "Gen X",
          "Gen Z",
          "Gen Z",
          "Gen Z",
          "Gen Z",
          "Gen Z",
          "Gen Z",
          "Gen Z",
          "Gen Z",
          "Gen Z",
          "Gen Z",
          "Millennials",
          "Millennials",
          "Millennials",
          "Millennials",
          "Millennials",
          "Millennials",
          "Millennials",
          "Millennials",
          "Millennials",
          "Millennials",
          "Millennials",
          "Millennials",
          "Millennials",
          "Millennials",
          "Millennials",
          "Millennials",
          "Millennials",
          "Millennials",
          "Millennials",
          "Millennials",
          "Millennials",
          "Millennials",
          "Millennials",
          "Millennials",
          "Millennials",
          "Millennials",
          "Millennials",
          "Millennials",
          "Silent Generation",
          "Silent Generation",
          "Silent Generation",
          "Silent Generation",
          "Silent Generation",
          "Silent Generation",
          "Silent Generation",
          "Silent Generation",
          "Silent Generation",
          "Silent Generation",
          "Silent Generation",
          "Silent Generation",
          "Silent Generation",
          "Silent Generation",
          "Automotive",
          "Automotive",
          "Automotive",
          "Automotive",
          "Education",
          "Education",
          "Education",
          "Education",
          "Finance",
          "Finance",
          "Finance",
          "Finance",
          "Food and Beverage",
          "Food and Beverage",
          "Food and Beverage",
          "Food and Beverage",
          "Furniture",
          "Furniture",
          "Furniture",
          "Furniture",
          "Healthcare",
          "Healthcare",
          "Healthcare",
          "Healthcare",
          "Hospitality",
          "Hospitality",
          "Hospitality",
          "Hospitality",
          "IT",
          "IT",
          "IT",
          "IT",
          "Manufacturing",
          "Manufacturing",
          "Manufacturing",
          "Manufacturing",
          "Retail",
          "Retail",
          "Retail",
          "Textiles and Garments",
          "Textiles and Garments",
          "Textiles and Garments",
          "Tourism",
          "Tourism",
          "Tourism",
          "Tourism",
          "Bachelor",
          "High School",
          "Master",
          "PhD"
         ],
         "name": "",
         "parents": [
          "Bachelor/Automotive",
          "High School/Automotive",
          "Master/Automotive",
          "PhD/Automotive",
          "Bachelor/Education",
          "Master/Education",
          "PhD/Education",
          "Bachelor/Finance",
          "Master/Finance",
          "PhD/Finance",
          "Master/Food and Beverage",
          "PhD/Food and Beverage",
          "Bachelor/Furniture",
          "High School/Furniture",
          "Master/Furniture",
          "PhD/Furniture",
          "Bachelor/Healthcare",
          "High School/Healthcare",
          "Master/Healthcare",
          "PhD/Healthcare",
          "Bachelor/Hospitality",
          "High School/Hospitality",
          "Master/Hospitality",
          "PhD/Hospitality",
          "PhD/IT",
          "Bachelor/Manufacturing",
          "High School/Manufacturing",
          "Master/Manufacturing",
          "PhD/Manufacturing",
          "Bachelor/Retail",
          "Master/Retail",
          "PhD/Retail",
          "High School/Textiles and Garments",
          "PhD/Textiles and Garments",
          "Bachelor/Tourism",
          "High School/Tourism",
          "Master/Tourism",
          "PhD/Tourism",
          "Bachelor/Automotive",
          "Master/Automotive",
          "Bachelor/Education",
          "PhD/Education",
          "High School/Finance",
          "Master/Finance",
          "PhD/Finance",
          "Bachelor/Food and Beverage",
          "PhD/Food and Beverage",
          "High School/Furniture",
          "High School/Healthcare",
          "Master/Healthcare",
          "PhD/Healthcare",
          "Bachelor/Hospitality",
          "Master/Hospitality",
          "PhD/Hospitality",
          "Bachelor/IT",
          "PhD/IT",
          "Bachelor/Manufacturing",
          "Master/Manufacturing",
          "Bachelor/Retail",
          "Master/Retail",
          "Bachelor/Textiles and Garments",
          "PhD/Textiles and Garments",
          "Bachelor/Tourism",
          "High School/Tourism",
          "PhD/Tourism",
          "Bachelor/Education",
          "Master/Finance",
          "High School/Food and Beverage",
          "Master/Food and Beverage",
          "PhD/Food and Beverage",
          "High School/Furniture",
          "Master/Furniture",
          "Master/IT",
          "Master/Retail",
          "High School/Tourism",
          "Bachelor/Automotive",
          "Master/Automotive",
          "High School/Education",
          "Master/Education",
          "PhD/Education",
          "Bachelor/Finance",
          "High School/Finance",
          "Bachelor/Food and Beverage",
          "Master/Food and Beverage",
          "Bachelor/Furniture",
          "High School/Furniture",
          "Master/Furniture",
          "Bachelor/Healthcare",
          "High School/Healthcare",
          "PhD/Healthcare",
          "Bachelor/Hospitality",
          "High School/Hospitality",
          "PhD/Hospitality",
          "Master/IT",
          "Bachelor/Manufacturing",
          "High School/Manufacturing",
          "Master/Manufacturing",
          "Bachelor/Textiles and Garments",
          "High School/Textiles and Garments",
          "PhD/Textiles and Garments",
          "Bachelor/Tourism",
          "High School/Tourism",
          "PhD/Tourism",
          "Master/Automotive",
          "PhD/Automotive",
          "Bachelor/Education",
          "Master/Education",
          "PhD/Education",
          "Bachelor/Finance",
          "PhD/Finance",
          "High School/Food and Beverage",
          "Bachelor/Furniture",
          "High School/IT",
          "Master/Manufacturing",
          "PhD/Manufacturing",
          "Bachelor/Textiles and Garments",
          "PhD/Textiles and Garments",
          "Bachelor",
          "High School",
          "Master",
          "PhD",
          "Bachelor",
          "High School",
          "Master",
          "PhD",
          "Bachelor",
          "High School",
          "Master",
          "PhD",
          "Bachelor",
          "High School",
          "Master",
          "PhD",
          "Bachelor",
          "High School",
          "Master",
          "PhD",
          "Bachelor",
          "High School",
          "Master",
          "PhD",
          "Bachelor",
          "High School",
          "Master",
          "PhD",
          "Bachelor",
          "High School",
          "Master",
          "PhD",
          "Bachelor",
          "High School",
          "Master",
          "PhD",
          "Bachelor",
          "Master",
          "PhD",
          "Bachelor",
          "High School",
          "PhD",
          "Bachelor",
          "High School",
          "Master",
          "PhD",
          "",
          "",
          "",
          ""
         ],
         "root": {
          "color": "lightgrey"
         },
         "type": "treemap",
         "values": [
          1,
          1,
          1,
          1,
          1,
          1,
          3,
          1,
          3,
          1,
          1,
          2,
          1,
          2,
          1,
          1,
          4,
          2,
          1,
          3,
          1,
          1,
          2,
          2,
          1,
          1,
          2,
          1,
          2,
          2,
          2,
          3,
          2,
          1,
          1,
          1,
          2,
          2,
          1,
          1,
          2,
          2,
          1,
          1,
          2,
          2,
          3,
          2,
          1,
          1,
          2,
          1,
          2,
          1,
          1,
          1,
          1,
          1,
          1,
          3,
          4,
          1,
          2,
          1,
          2,
          1,
          1,
          2,
          1,
          2,
          1,
          1,
          1,
          1,
          1,
          1,
          2,
          4,
          2,
          2,
          1,
          1,
          1,
          1,
          1,
          2,
          2,
          1,
          1,
          1,
          1,
          1,
          1,
          1,
          1,
          1,
          1,
          1,
          1,
          2,
          1,
          4,
          1,
          1,
          1,
          1,
          1,
          1,
          1,
          2,
          1,
          1,
          1,
          1,
          1,
          1,
          1,
          3,
          1,
          5,
          2,
          5,
          4,
          4,
          8,
          3,
          2,
          5,
          5,
          3,
          3,
          3,
          7,
          3,
          7,
          4,
          1,
          5,
          4,
          2,
          6,
          3,
          2,
          4,
          4,
          1,
          1,
          2,
          2,
          3,
          3,
          4,
          3,
          3,
          6,
          3,
          6,
          3,
          5,
          4,
          7,
          2,
          5,
          42,
          37,
          41,
          51
         ]
        }
       ],
       "layout": {
        "legend": {
         "tracegroupgap": 0
        },
        "margin": {
         "b": 25,
         "l": 25,
         "r": 25,
         "t": 50
        },
        "template": {
         "data": {
          "bar": [
           {
            "error_x": {
             "color": "#2a3f5f"
            },
            "error_y": {
             "color": "#2a3f5f"
            },
            "marker": {
             "line": {
              "color": "#E5ECF6",
              "width": 0.5
             },
             "pattern": {
              "fillmode": "overlay",
              "size": 10,
              "solidity": 0.2
             }
            },
            "type": "bar"
           }
          ],
          "barpolar": [
           {
            "marker": {
             "line": {
              "color": "#E5ECF6",
              "width": 0.5
             },
             "pattern": {
              "fillmode": "overlay",
              "size": 10,
              "solidity": 0.2
             }
            },
            "type": "barpolar"
           }
          ],
          "carpet": [
           {
            "aaxis": {
             "endlinecolor": "#2a3f5f",
             "gridcolor": "white",
             "linecolor": "white",
             "minorgridcolor": "white",
             "startlinecolor": "#2a3f5f"
            },
            "baxis": {
             "endlinecolor": "#2a3f5f",
             "gridcolor": "white",
             "linecolor": "white",
             "minorgridcolor": "white",
             "startlinecolor": "#2a3f5f"
            },
            "type": "carpet"
           }
          ],
          "choropleth": [
           {
            "colorbar": {
             "outlinewidth": 0,
             "ticks": ""
            },
            "type": "choropleth"
           }
          ],
          "contour": [
           {
            "colorbar": {
             "outlinewidth": 0,
             "ticks": ""
            },
            "colorscale": [
             [
              0,
              "#0d0887"
             ],
             [
              0.1111111111111111,
              "#46039f"
             ],
             [
              0.2222222222222222,
              "#7201a8"
             ],
             [
              0.3333333333333333,
              "#9c179e"
             ],
             [
              0.4444444444444444,
              "#bd3786"
             ],
             [
              0.5555555555555556,
              "#d8576b"
             ],
             [
              0.6666666666666666,
              "#ed7953"
             ],
             [
              0.7777777777777778,
              "#fb9f3a"
             ],
             [
              0.8888888888888888,
              "#fdca26"
             ],
             [
              1,
              "#f0f921"
             ]
            ],
            "type": "contour"
           }
          ],
          "contourcarpet": [
           {
            "colorbar": {
             "outlinewidth": 0,
             "ticks": ""
            },
            "type": "contourcarpet"
           }
          ],
          "heatmap": [
           {
            "colorbar": {
             "outlinewidth": 0,
             "ticks": ""
            },
            "colorscale": [
             [
              0,
              "#0d0887"
             ],
             [
              0.1111111111111111,
              "#46039f"
             ],
             [
              0.2222222222222222,
              "#7201a8"
             ],
             [
              0.3333333333333333,
              "#9c179e"
             ],
             [
              0.4444444444444444,
              "#bd3786"
             ],
             [
              0.5555555555555556,
              "#d8576b"
             ],
             [
              0.6666666666666666,
              "#ed7953"
             ],
             [
              0.7777777777777778,
              "#fb9f3a"
             ],
             [
              0.8888888888888888,
              "#fdca26"
             ],
             [
              1,
              "#f0f921"
             ]
            ],
            "type": "heatmap"
           }
          ],
          "heatmapgl": [
           {
            "colorbar": {
             "outlinewidth": 0,
             "ticks": ""
            },
            "colorscale": [
             [
              0,
              "#0d0887"
             ],
             [
              0.1111111111111111,
              "#46039f"
             ],
             [
              0.2222222222222222,
              "#7201a8"
             ],
             [
              0.3333333333333333,
              "#9c179e"
             ],
             [
              0.4444444444444444,
              "#bd3786"
             ],
             [
              0.5555555555555556,
              "#d8576b"
             ],
             [
              0.6666666666666666,
              "#ed7953"
             ],
             [
              0.7777777777777778,
              "#fb9f3a"
             ],
             [
              0.8888888888888888,
              "#fdca26"
             ],
             [
              1,
              "#f0f921"
             ]
            ],
            "type": "heatmapgl"
           }
          ],
          "histogram": [
           {
            "marker": {
             "pattern": {
              "fillmode": "overlay",
              "size": 10,
              "solidity": 0.2
             }
            },
            "type": "histogram"
           }
          ],
          "histogram2d": [
           {
            "colorbar": {
             "outlinewidth": 0,
             "ticks": ""
            },
            "colorscale": [
             [
              0,
              "#0d0887"
             ],
             [
              0.1111111111111111,
              "#46039f"
             ],
             [
              0.2222222222222222,
              "#7201a8"
             ],
             [
              0.3333333333333333,
              "#9c179e"
             ],
             [
              0.4444444444444444,
              "#bd3786"
             ],
             [
              0.5555555555555556,
              "#d8576b"
             ],
             [
              0.6666666666666666,
              "#ed7953"
             ],
             [
              0.7777777777777778,
              "#fb9f3a"
             ],
             [
              0.8888888888888888,
              "#fdca26"
             ],
             [
              1,
              "#f0f921"
             ]
            ],
            "type": "histogram2d"
           }
          ],
          "histogram2dcontour": [
           {
            "colorbar": {
             "outlinewidth": 0,
             "ticks": ""
            },
            "colorscale": [
             [
              0,
              "#0d0887"
             ],
             [
              0.1111111111111111,
              "#46039f"
             ],
             [
              0.2222222222222222,
              "#7201a8"
             ],
             [
              0.3333333333333333,
              "#9c179e"
             ],
             [
              0.4444444444444444,
              "#bd3786"
             ],
             [
              0.5555555555555556,
              "#d8576b"
             ],
             [
              0.6666666666666666,
              "#ed7953"
             ],
             [
              0.7777777777777778,
              "#fb9f3a"
             ],
             [
              0.8888888888888888,
              "#fdca26"
             ],
             [
              1,
              "#f0f921"
             ]
            ],
            "type": "histogram2dcontour"
           }
          ],
          "mesh3d": [
           {
            "colorbar": {
             "outlinewidth": 0,
             "ticks": ""
            },
            "type": "mesh3d"
           }
          ],
          "parcoords": [
           {
            "line": {
             "colorbar": {
              "outlinewidth": 0,
              "ticks": ""
             }
            },
            "type": "parcoords"
           }
          ],
          "pie": [
           {
            "automargin": true,
            "type": "pie"
           }
          ],
          "scatter": [
           {
            "fillpattern": {
             "fillmode": "overlay",
             "size": 10,
             "solidity": 0.2
            },
            "type": "scatter"
           }
          ],
          "scatter3d": [
           {
            "line": {
             "colorbar": {
              "outlinewidth": 0,
              "ticks": ""
             }
            },
            "marker": {
             "colorbar": {
              "outlinewidth": 0,
              "ticks": ""
             }
            },
            "type": "scatter3d"
           }
          ],
          "scattercarpet": [
           {
            "marker": {
             "colorbar": {
              "outlinewidth": 0,
              "ticks": ""
             }
            },
            "type": "scattercarpet"
           }
          ],
          "scattergeo": [
           {
            "marker": {
             "colorbar": {
              "outlinewidth": 0,
              "ticks": ""
             }
            },
            "type": "scattergeo"
           }
          ],
          "scattergl": [
           {
            "marker": {
             "colorbar": {
              "outlinewidth": 0,
              "ticks": ""
             }
            },
            "type": "scattergl"
           }
          ],
          "scattermapbox": [
           {
            "marker": {
             "colorbar": {
              "outlinewidth": 0,
              "ticks": ""
             }
            },
            "type": "scattermapbox"
           }
          ],
          "scatterpolar": [
           {
            "marker": {
             "colorbar": {
              "outlinewidth": 0,
              "ticks": ""
             }
            },
            "type": "scatterpolar"
           }
          ],
          "scatterpolargl": [
           {
            "marker": {
             "colorbar": {
              "outlinewidth": 0,
              "ticks": ""
             }
            },
            "type": "scatterpolargl"
           }
          ],
          "scatterternary": [
           {
            "marker": {
             "colorbar": {
              "outlinewidth": 0,
              "ticks": ""
             }
            },
            "type": "scatterternary"
           }
          ],
          "surface": [
           {
            "colorbar": {
             "outlinewidth": 0,
             "ticks": ""
            },
            "colorscale": [
             [
              0,
              "#0d0887"
             ],
             [
              0.1111111111111111,
              "#46039f"
             ],
             [
              0.2222222222222222,
              "#7201a8"
             ],
             [
              0.3333333333333333,
              "#9c179e"
             ],
             [
              0.4444444444444444,
              "#bd3786"
             ],
             [
              0.5555555555555556,
              "#d8576b"
             ],
             [
              0.6666666666666666,
              "#ed7953"
             ],
             [
              0.7777777777777778,
              "#fb9f3a"
             ],
             [
              0.8888888888888888,
              "#fdca26"
             ],
             [
              1,
              "#f0f921"
             ]
            ],
            "type": "surface"
           }
          ],
          "table": [
           {
            "cells": {
             "fill": {
              "color": "#EBF0F8"
             },
             "line": {
              "color": "white"
             }
            },
            "header": {
             "fill": {
              "color": "#C8D4E3"
             },
             "line": {
              "color": "white"
             }
            },
            "type": "table"
           }
          ]
         },
         "layout": {
          "annotationdefaults": {
           "arrowcolor": "#2a3f5f",
           "arrowhead": 0,
           "arrowwidth": 1
          },
          "autotypenumbers": "strict",
          "coloraxis": {
           "colorbar": {
            "outlinewidth": 0,
            "ticks": ""
           }
          },
          "colorscale": {
           "diverging": [
            [
             0,
             "#8e0152"
            ],
            [
             0.1,
             "#c51b7d"
            ],
            [
             0.2,
             "#de77ae"
            ],
            [
             0.3,
             "#f1b6da"
            ],
            [
             0.4,
             "#fde0ef"
            ],
            [
             0.5,
             "#f7f7f7"
            ],
            [
             0.6,
             "#e6f5d0"
            ],
            [
             0.7,
             "#b8e186"
            ],
            [
             0.8,
             "#7fbc41"
            ],
            [
             0.9,
             "#4d9221"
            ],
            [
             1,
             "#276419"
            ]
           ],
           "sequential": [
            [
             0,
             "#0d0887"
            ],
            [
             0.1111111111111111,
             "#46039f"
            ],
            [
             0.2222222222222222,
             "#7201a8"
            ],
            [
             0.3333333333333333,
             "#9c179e"
            ],
            [
             0.4444444444444444,
             "#bd3786"
            ],
            [
             0.5555555555555556,
             "#d8576b"
            ],
            [
             0.6666666666666666,
             "#ed7953"
            ],
            [
             0.7777777777777778,
             "#fb9f3a"
            ],
            [
             0.8888888888888888,
             "#fdca26"
            ],
            [
             1,
             "#f0f921"
            ]
           ],
           "sequentialminus": [
            [
             0,
             "#0d0887"
            ],
            [
             0.1111111111111111,
             "#46039f"
            ],
            [
             0.2222222222222222,
             "#7201a8"
            ],
            [
             0.3333333333333333,
             "#9c179e"
            ],
            [
             0.4444444444444444,
             "#bd3786"
            ],
            [
             0.5555555555555556,
             "#d8576b"
            ],
            [
             0.6666666666666666,
             "#ed7953"
            ],
            [
             0.7777777777777778,
             "#fb9f3a"
            ],
            [
             0.8888888888888888,
             "#fdca26"
            ],
            [
             1,
             "#f0f921"
            ]
           ]
          },
          "colorway": [
           "#636efa",
           "#EF553B",
           "#00cc96",
           "#ab63fa",
           "#FFA15A",
           "#19d3f3",
           "#FF6692",
           "#B6E880",
           "#FF97FF",
           "#FECB52"
          ],
          "font": {
           "color": "#2a3f5f"
          },
          "geo": {
           "bgcolor": "white",
           "lakecolor": "white",
           "landcolor": "#E5ECF6",
           "showlakes": true,
           "showland": true,
           "subunitcolor": "white"
          },
          "hoverlabel": {
           "align": "left"
          },
          "hovermode": "closest",
          "mapbox": {
           "style": "light"
          },
          "paper_bgcolor": "white",
          "plot_bgcolor": "#E5ECF6",
          "polar": {
           "angularaxis": {
            "gridcolor": "white",
            "linecolor": "white",
            "ticks": ""
           },
           "bgcolor": "#E5ECF6",
           "radialaxis": {
            "gridcolor": "white",
            "linecolor": "white",
            "ticks": ""
           }
          },
          "scene": {
           "xaxis": {
            "backgroundcolor": "#E5ECF6",
            "gridcolor": "white",
            "gridwidth": 2,
            "linecolor": "white",
            "showbackground": true,
            "ticks": "",
            "zerolinecolor": "white"
           },
           "yaxis": {
            "backgroundcolor": "#E5ECF6",
            "gridcolor": "white",
            "gridwidth": 2,
            "linecolor": "white",
            "showbackground": true,
            "ticks": "",
            "zerolinecolor": "white"
           },
           "zaxis": {
            "backgroundcolor": "#E5ECF6",
            "gridcolor": "white",
            "gridwidth": 2,
            "linecolor": "white",
            "showbackground": true,
            "ticks": "",
            "zerolinecolor": "white"
           }
          },
          "shapedefaults": {
           "line": {
            "color": "#2a3f5f"
           }
          },
          "ternary": {
           "aaxis": {
            "gridcolor": "white",
            "linecolor": "white",
            "ticks": ""
           },
           "baxis": {
            "gridcolor": "white",
            "linecolor": "white",
            "ticks": ""
           },
           "bgcolor": "#E5ECF6",
           "caxis": {
            "gridcolor": "white",
            "linecolor": "white",
            "ticks": ""
           }
          },
          "title": {
           "x": 0.05
          },
          "xaxis": {
           "automargin": true,
           "gridcolor": "white",
           "linecolor": "white",
           "ticks": "",
           "title": {
            "standoff": 15
           },
           "zerolinecolor": "white",
           "zerolinewidth": 2
          },
          "yaxis": {
           "automargin": true,
           "gridcolor": "white",
           "linecolor": "white",
           "ticks": "",
           "title": {
            "standoff": 15
           },
           "zerolinecolor": "white",
           "zerolinewidth": 2
          }
         }
        },
        "title": {
         "text": "Potentially Loyal"
        }
       }
      }
     },
     "metadata": {},
     "output_type": "display_data"
    },
    {
     "data": {
      "application/vnd.plotly.v1+json": {
       "config": {
        "plotlyServerURL": "https://plot.ly"
       },
       "data": [
        {
         "branchvalues": "total",
         "domain": {
          "x": [
           0,
           1
          ],
          "y": [
           0,
           1
          ]
         },
         "hovertemplate": "labels=%{label}<br>count=%{value}<br>parent=%{parent}<br>id=%{id}<extra></extra>",
         "ids": [
          "AK",
          "AL",
          "AR",
          "AZ",
          "CA",
          "CO",
          "CT",
          "DC",
          "DE",
          "FL",
          "GA",
          "HI",
          "IA",
          "ID",
          "IL",
          "IN",
          "KS",
          "KY",
          "LA",
          "MA",
          "MD",
          "ME",
          "MI",
          "MN",
          "MO",
          "MS",
          "MT",
          "NC",
          "ND",
          "NE",
          "NH",
          "NJ",
          "NM",
          "NV",
          "NY",
          "OH",
          "OK",
          "OR",
          "PA",
          "RI",
          "SC",
          "SD",
          "TN",
          "TX",
          "UT",
          "VA",
          "VT",
          "WA",
          "WI",
          "WV",
          "WY"
         ],
         "labels": [
          "AK",
          "AL",
          "AR",
          "AZ",
          "CA",
          "CO",
          "CT",
          "DC",
          "DE",
          "FL",
          "GA",
          "HI",
          "IA",
          "ID",
          "IL",
          "IN",
          "KS",
          "KY",
          "LA",
          "MA",
          "MD",
          "ME",
          "MI",
          "MN",
          "MO",
          "MS",
          "MT",
          "NC",
          "ND",
          "NE",
          "NH",
          "NJ",
          "NM",
          "NV",
          "NY",
          "OH",
          "OK",
          "OR",
          "PA",
          "RI",
          "SC",
          "SD",
          "TN",
          "TX",
          "UT",
          "VA",
          "VT",
          "WA",
          "WI",
          "WV",
          "WY"
         ],
         "name": "",
         "parents": [
          "",
          "",
          "",
          "",
          "",
          "",
          "",
          "",
          "",
          "",
          "",
          "",
          "",
          "",
          "",
          "",
          "",
          "",
          "",
          "",
          "",
          "",
          "",
          "",
          "",
          "",
          "",
          "",
          "",
          "",
          "",
          "",
          "",
          "",
          "",
          "",
          "",
          "",
          "",
          "",
          "",
          "",
          "",
          "",
          "",
          "",
          "",
          "",
          "",
          "",
          ""
         ],
         "root": {
          "color": "lightgrey"
         },
         "type": "treemap",
         "values": [
          13,
          11,
          11,
          9,
          6,
          6,
          9,
          11,
          7,
          8,
          9,
          11,
          9,
          7,
          7,
          9,
          14,
          9,
          11,
          7,
          11,
          10,
          11,
          5,
          7,
          11,
          10,
          11,
          8,
          3,
          9,
          11,
          9,
          9,
          9,
          4,
          6,
          11,
          9,
          6,
          8,
          4,
          13,
          7,
          8,
          10,
          7,
          17,
          4,
          9,
          11
         ]
        }
       ],
       "layout": {
        "legend": {
         "tracegroupgap": 0
        },
        "margin": {
         "b": 25,
         "l": 25,
         "r": 25,
         "t": 50
        },
        "template": {
         "data": {
          "bar": [
           {
            "error_x": {
             "color": "#2a3f5f"
            },
            "error_y": {
             "color": "#2a3f5f"
            },
            "marker": {
             "line": {
              "color": "#E5ECF6",
              "width": 0.5
             },
             "pattern": {
              "fillmode": "overlay",
              "size": 10,
              "solidity": 0.2
             }
            },
            "type": "bar"
           }
          ],
          "barpolar": [
           {
            "marker": {
             "line": {
              "color": "#E5ECF6",
              "width": 0.5
             },
             "pattern": {
              "fillmode": "overlay",
              "size": 10,
              "solidity": 0.2
             }
            },
            "type": "barpolar"
           }
          ],
          "carpet": [
           {
            "aaxis": {
             "endlinecolor": "#2a3f5f",
             "gridcolor": "white",
             "linecolor": "white",
             "minorgridcolor": "white",
             "startlinecolor": "#2a3f5f"
            },
            "baxis": {
             "endlinecolor": "#2a3f5f",
             "gridcolor": "white",
             "linecolor": "white",
             "minorgridcolor": "white",
             "startlinecolor": "#2a3f5f"
            },
            "type": "carpet"
           }
          ],
          "choropleth": [
           {
            "colorbar": {
             "outlinewidth": 0,
             "ticks": ""
            },
            "type": "choropleth"
           }
          ],
          "contour": [
           {
            "colorbar": {
             "outlinewidth": 0,
             "ticks": ""
            },
            "colorscale": [
             [
              0,
              "#0d0887"
             ],
             [
              0.1111111111111111,
              "#46039f"
             ],
             [
              0.2222222222222222,
              "#7201a8"
             ],
             [
              0.3333333333333333,
              "#9c179e"
             ],
             [
              0.4444444444444444,
              "#bd3786"
             ],
             [
              0.5555555555555556,
              "#d8576b"
             ],
             [
              0.6666666666666666,
              "#ed7953"
             ],
             [
              0.7777777777777778,
              "#fb9f3a"
             ],
             [
              0.8888888888888888,
              "#fdca26"
             ],
             [
              1,
              "#f0f921"
             ]
            ],
            "type": "contour"
           }
          ],
          "contourcarpet": [
           {
            "colorbar": {
             "outlinewidth": 0,
             "ticks": ""
            },
            "type": "contourcarpet"
           }
          ],
          "heatmap": [
           {
            "colorbar": {
             "outlinewidth": 0,
             "ticks": ""
            },
            "colorscale": [
             [
              0,
              "#0d0887"
             ],
             [
              0.1111111111111111,
              "#46039f"
             ],
             [
              0.2222222222222222,
              "#7201a8"
             ],
             [
              0.3333333333333333,
              "#9c179e"
             ],
             [
              0.4444444444444444,
              "#bd3786"
             ],
             [
              0.5555555555555556,
              "#d8576b"
             ],
             [
              0.6666666666666666,
              "#ed7953"
             ],
             [
              0.7777777777777778,
              "#fb9f3a"
             ],
             [
              0.8888888888888888,
              "#fdca26"
             ],
             [
              1,
              "#f0f921"
             ]
            ],
            "type": "heatmap"
           }
          ],
          "heatmapgl": [
           {
            "colorbar": {
             "outlinewidth": 0,
             "ticks": ""
            },
            "colorscale": [
             [
              0,
              "#0d0887"
             ],
             [
              0.1111111111111111,
              "#46039f"
             ],
             [
              0.2222222222222222,
              "#7201a8"
             ],
             [
              0.3333333333333333,
              "#9c179e"
             ],
             [
              0.4444444444444444,
              "#bd3786"
             ],
             [
              0.5555555555555556,
              "#d8576b"
             ],
             [
              0.6666666666666666,
              "#ed7953"
             ],
             [
              0.7777777777777778,
              "#fb9f3a"
             ],
             [
              0.8888888888888888,
              "#fdca26"
             ],
             [
              1,
              "#f0f921"
             ]
            ],
            "type": "heatmapgl"
           }
          ],
          "histogram": [
           {
            "marker": {
             "pattern": {
              "fillmode": "overlay",
              "size": 10,
              "solidity": 0.2
             }
            },
            "type": "histogram"
           }
          ],
          "histogram2d": [
           {
            "colorbar": {
             "outlinewidth": 0,
             "ticks": ""
            },
            "colorscale": [
             [
              0,
              "#0d0887"
             ],
             [
              0.1111111111111111,
              "#46039f"
             ],
             [
              0.2222222222222222,
              "#7201a8"
             ],
             [
              0.3333333333333333,
              "#9c179e"
             ],
             [
              0.4444444444444444,
              "#bd3786"
             ],
             [
              0.5555555555555556,
              "#d8576b"
             ],
             [
              0.6666666666666666,
              "#ed7953"
             ],
             [
              0.7777777777777778,
              "#fb9f3a"
             ],
             [
              0.8888888888888888,
              "#fdca26"
             ],
             [
              1,
              "#f0f921"
             ]
            ],
            "type": "histogram2d"
           }
          ],
          "histogram2dcontour": [
           {
            "colorbar": {
             "outlinewidth": 0,
             "ticks": ""
            },
            "colorscale": [
             [
              0,
              "#0d0887"
             ],
             [
              0.1111111111111111,
              "#46039f"
             ],
             [
              0.2222222222222222,
              "#7201a8"
             ],
             [
              0.3333333333333333,
              "#9c179e"
             ],
             [
              0.4444444444444444,
              "#bd3786"
             ],
             [
              0.5555555555555556,
              "#d8576b"
             ],
             [
              0.6666666666666666,
              "#ed7953"
             ],
             [
              0.7777777777777778,
              "#fb9f3a"
             ],
             [
              0.8888888888888888,
              "#fdca26"
             ],
             [
              1,
              "#f0f921"
             ]
            ],
            "type": "histogram2dcontour"
           }
          ],
          "mesh3d": [
           {
            "colorbar": {
             "outlinewidth": 0,
             "ticks": ""
            },
            "type": "mesh3d"
           }
          ],
          "parcoords": [
           {
            "line": {
             "colorbar": {
              "outlinewidth": 0,
              "ticks": ""
             }
            },
            "type": "parcoords"
           }
          ],
          "pie": [
           {
            "automargin": true,
            "type": "pie"
           }
          ],
          "scatter": [
           {
            "fillpattern": {
             "fillmode": "overlay",
             "size": 10,
             "solidity": 0.2
            },
            "type": "scatter"
           }
          ],
          "scatter3d": [
           {
            "line": {
             "colorbar": {
              "outlinewidth": 0,
              "ticks": ""
             }
            },
            "marker": {
             "colorbar": {
              "outlinewidth": 0,
              "ticks": ""
             }
            },
            "type": "scatter3d"
           }
          ],
          "scattercarpet": [
           {
            "marker": {
             "colorbar": {
              "outlinewidth": 0,
              "ticks": ""
             }
            },
            "type": "scattercarpet"
           }
          ],
          "scattergeo": [
           {
            "marker": {
             "colorbar": {
              "outlinewidth": 0,
              "ticks": ""
             }
            },
            "type": "scattergeo"
           }
          ],
          "scattergl": [
           {
            "marker": {
             "colorbar": {
              "outlinewidth": 0,
              "ticks": ""
             }
            },
            "type": "scattergl"
           }
          ],
          "scattermapbox": [
           {
            "marker": {
             "colorbar": {
              "outlinewidth": 0,
              "ticks": ""
             }
            },
            "type": "scattermapbox"
           }
          ],
          "scatterpolar": [
           {
            "marker": {
             "colorbar": {
              "outlinewidth": 0,
              "ticks": ""
             }
            },
            "type": "scatterpolar"
           }
          ],
          "scatterpolargl": [
           {
            "marker": {
             "colorbar": {
              "outlinewidth": 0,
              "ticks": ""
             }
            },
            "type": "scatterpolargl"
           }
          ],
          "scatterternary": [
           {
            "marker": {
             "colorbar": {
              "outlinewidth": 0,
              "ticks": ""
             }
            },
            "type": "scatterternary"
           }
          ],
          "surface": [
           {
            "colorbar": {
             "outlinewidth": 0,
             "ticks": ""
            },
            "colorscale": [
             [
              0,
              "#0d0887"
             ],
             [
              0.1111111111111111,
              "#46039f"
             ],
             [
              0.2222222222222222,
              "#7201a8"
             ],
             [
              0.3333333333333333,
              "#9c179e"
             ],
             [
              0.4444444444444444,
              "#bd3786"
             ],
             [
              0.5555555555555556,
              "#d8576b"
             ],
             [
              0.6666666666666666,
              "#ed7953"
             ],
             [
              0.7777777777777778,
              "#fb9f3a"
             ],
             [
              0.8888888888888888,
              "#fdca26"
             ],
             [
              1,
              "#f0f921"
             ]
            ],
            "type": "surface"
           }
          ],
          "table": [
           {
            "cells": {
             "fill": {
              "color": "#EBF0F8"
             },
             "line": {
              "color": "white"
             }
            },
            "header": {
             "fill": {
              "color": "#C8D4E3"
             },
             "line": {
              "color": "white"
             }
            },
            "type": "table"
           }
          ]
         },
         "layout": {
          "annotationdefaults": {
           "arrowcolor": "#2a3f5f",
           "arrowhead": 0,
           "arrowwidth": 1
          },
          "autotypenumbers": "strict",
          "coloraxis": {
           "colorbar": {
            "outlinewidth": 0,
            "ticks": ""
           }
          },
          "colorscale": {
           "diverging": [
            [
             0,
             "#8e0152"
            ],
            [
             0.1,
             "#c51b7d"
            ],
            [
             0.2,
             "#de77ae"
            ],
            [
             0.3,
             "#f1b6da"
            ],
            [
             0.4,
             "#fde0ef"
            ],
            [
             0.5,
             "#f7f7f7"
            ],
            [
             0.6,
             "#e6f5d0"
            ],
            [
             0.7,
             "#b8e186"
            ],
            [
             0.8,
             "#7fbc41"
            ],
            [
             0.9,
             "#4d9221"
            ],
            [
             1,
             "#276419"
            ]
           ],
           "sequential": [
            [
             0,
             "#0d0887"
            ],
            [
             0.1111111111111111,
             "#46039f"
            ],
            [
             0.2222222222222222,
             "#7201a8"
            ],
            [
             0.3333333333333333,
             "#9c179e"
            ],
            [
             0.4444444444444444,
             "#bd3786"
            ],
            [
             0.5555555555555556,
             "#d8576b"
            ],
            [
             0.6666666666666666,
             "#ed7953"
            ],
            [
             0.7777777777777778,
             "#fb9f3a"
            ],
            [
             0.8888888888888888,
             "#fdca26"
            ],
            [
             1,
             "#f0f921"
            ]
           ],
           "sequentialminus": [
            [
             0,
             "#0d0887"
            ],
            [
             0.1111111111111111,
             "#46039f"
            ],
            [
             0.2222222222222222,
             "#7201a8"
            ],
            [
             0.3333333333333333,
             "#9c179e"
            ],
            [
             0.4444444444444444,
             "#bd3786"
            ],
            [
             0.5555555555555556,
             "#d8576b"
            ],
            [
             0.6666666666666666,
             "#ed7953"
            ],
            [
             0.7777777777777778,
             "#fb9f3a"
            ],
            [
             0.8888888888888888,
             "#fdca26"
            ],
            [
             1,
             "#f0f921"
            ]
           ]
          },
          "colorway": [
           "#636efa",
           "#EF553B",
           "#00cc96",
           "#ab63fa",
           "#FFA15A",
           "#19d3f3",
           "#FF6692",
           "#B6E880",
           "#FF97FF",
           "#FECB52"
          ],
          "font": {
           "color": "#2a3f5f"
          },
          "geo": {
           "bgcolor": "white",
           "lakecolor": "white",
           "landcolor": "#E5ECF6",
           "showlakes": true,
           "showland": true,
           "subunitcolor": "white"
          },
          "hoverlabel": {
           "align": "left"
          },
          "hovermode": "closest",
          "mapbox": {
           "style": "light"
          },
          "paper_bgcolor": "white",
          "plot_bgcolor": "#E5ECF6",
          "polar": {
           "angularaxis": {
            "gridcolor": "white",
            "linecolor": "white",
            "ticks": ""
           },
           "bgcolor": "#E5ECF6",
           "radialaxis": {
            "gridcolor": "white",
            "linecolor": "white",
            "ticks": ""
           }
          },
          "scene": {
           "xaxis": {
            "backgroundcolor": "#E5ECF6",
            "gridcolor": "white",
            "gridwidth": 2,
            "linecolor": "white",
            "showbackground": true,
            "ticks": "",
            "zerolinecolor": "white"
           },
           "yaxis": {
            "backgroundcolor": "#E5ECF6",
            "gridcolor": "white",
            "gridwidth": 2,
            "linecolor": "white",
            "showbackground": true,
            "ticks": "",
            "zerolinecolor": "white"
           },
           "zaxis": {
            "backgroundcolor": "#E5ECF6",
            "gridcolor": "white",
            "gridwidth": 2,
            "linecolor": "white",
            "showbackground": true,
            "ticks": "",
            "zerolinecolor": "white"
           }
          },
          "shapedefaults": {
           "line": {
            "color": "#2a3f5f"
           }
          },
          "ternary": {
           "aaxis": {
            "gridcolor": "white",
            "linecolor": "white",
            "ticks": ""
           },
           "baxis": {
            "gridcolor": "white",
            "linecolor": "white",
            "ticks": ""
           },
           "bgcolor": "#E5ECF6",
           "caxis": {
            "gridcolor": "white",
            "linecolor": "white",
            "ticks": ""
           }
          },
          "title": {
           "x": 0.05
          },
          "xaxis": {
           "automargin": true,
           "gridcolor": "white",
           "linecolor": "white",
           "ticks": "",
           "title": {
            "standoff": 15
           },
           "zerolinecolor": "white",
           "zerolinewidth": 2
          },
          "yaxis": {
           "automargin": true,
           "gridcolor": "white",
           "linecolor": "white",
           "ticks": "",
           "title": {
            "standoff": 15
           },
           "zerolinecolor": "white",
           "zerolinewidth": 2
          }
         }
        },
        "title": {
         "text": "Churned Folk"
        }
       }
      }
     },
     "metadata": {},
     "output_type": "display_data"
    },
    {
     "data": {
      "application/vnd.plotly.v1+json": {
       "config": {
        "plotlyServerURL": "https://plot.ly"
       },
       "data": [
        {
         "branchvalues": "total",
         "domain": {
          "x": [
           0,
           1
          ],
          "y": [
           0,
           1
          ]
         },
         "hovertemplate": "labels=%{label}<br>count=%{value}<br>parent=%{parent}<br>id=%{id}<extra></extra>",
         "ids": [
          "AK",
          "AL",
          "AR",
          "AZ",
          "CA",
          "CO",
          "CT",
          "DC",
          "DE",
          "FL",
          "GA",
          "HI",
          "IA",
          "ID",
          "IL",
          "IN",
          "KS",
          "KY",
          "LA",
          "MA",
          "MD",
          "ME",
          "MI",
          "MN",
          "MO",
          "MS",
          "MT",
          "NC",
          "ND",
          "NE",
          "NH",
          "NJ",
          "NM",
          "NV",
          "NY",
          "OH",
          "OK",
          "OR",
          "PA",
          "RI",
          "SC",
          "SD",
          "TN",
          "TX",
          "UT",
          "VA",
          "VT",
          "WA",
          "WI",
          "WV",
          "WY"
         ],
         "labels": [
          "AK",
          "AL",
          "AR",
          "AZ",
          "CA",
          "CO",
          "CT",
          "DC",
          "DE",
          "FL",
          "GA",
          "HI",
          "IA",
          "ID",
          "IL",
          "IN",
          "KS",
          "KY",
          "LA",
          "MA",
          "MD",
          "ME",
          "MI",
          "MN",
          "MO",
          "MS",
          "MT",
          "NC",
          "ND",
          "NE",
          "NH",
          "NJ",
          "NM",
          "NV",
          "NY",
          "OH",
          "OK",
          "OR",
          "PA",
          "RI",
          "SC",
          "SD",
          "TN",
          "TX",
          "UT",
          "VA",
          "VT",
          "WA",
          "WI",
          "WV",
          "WY"
         ],
         "name": "",
         "parents": [
          "",
          "",
          "",
          "",
          "",
          "",
          "",
          "",
          "",
          "",
          "",
          "",
          "",
          "",
          "",
          "",
          "",
          "",
          "",
          "",
          "",
          "",
          "",
          "",
          "",
          "",
          "",
          "",
          "",
          "",
          "",
          "",
          "",
          "",
          "",
          "",
          "",
          "",
          "",
          "",
          "",
          "",
          "",
          "",
          "",
          "",
          "",
          "",
          "",
          "",
          ""
         ],
         "root": {
          "color": "lightgrey"
         },
         "type": "treemap",
         "values": [
          12,
          5,
          6,
          5,
          7,
          8,
          5,
          8,
          5,
          7,
          5,
          7,
          12,
          8,
          4,
          7,
          6,
          14,
          4,
          4,
          6,
          3,
          7,
          12,
          3,
          6,
          8,
          3,
          7,
          5,
          2,
          7,
          7,
          7,
          7,
          10,
          9,
          6,
          5,
          4,
          9,
          5,
          9,
          7,
          8,
          3,
          4,
          5,
          9,
          1,
          7
         ]
        }
       ],
       "layout": {
        "legend": {
         "tracegroupgap": 0
        },
        "margin": {
         "b": 25,
         "l": 25,
         "r": 25,
         "t": 50
        },
        "template": {
         "data": {
          "bar": [
           {
            "error_x": {
             "color": "#2a3f5f"
            },
            "error_y": {
             "color": "#2a3f5f"
            },
            "marker": {
             "line": {
              "color": "#E5ECF6",
              "width": 0.5
             },
             "pattern": {
              "fillmode": "overlay",
              "size": 10,
              "solidity": 0.2
             }
            },
            "type": "bar"
           }
          ],
          "barpolar": [
           {
            "marker": {
             "line": {
              "color": "#E5ECF6",
              "width": 0.5
             },
             "pattern": {
              "fillmode": "overlay",
              "size": 10,
              "solidity": 0.2
             }
            },
            "type": "barpolar"
           }
          ],
          "carpet": [
           {
            "aaxis": {
             "endlinecolor": "#2a3f5f",
             "gridcolor": "white",
             "linecolor": "white",
             "minorgridcolor": "white",
             "startlinecolor": "#2a3f5f"
            },
            "baxis": {
             "endlinecolor": "#2a3f5f",
             "gridcolor": "white",
             "linecolor": "white",
             "minorgridcolor": "white",
             "startlinecolor": "#2a3f5f"
            },
            "type": "carpet"
           }
          ],
          "choropleth": [
           {
            "colorbar": {
             "outlinewidth": 0,
             "ticks": ""
            },
            "type": "choropleth"
           }
          ],
          "contour": [
           {
            "colorbar": {
             "outlinewidth": 0,
             "ticks": ""
            },
            "colorscale": [
             [
              0,
              "#0d0887"
             ],
             [
              0.1111111111111111,
              "#46039f"
             ],
             [
              0.2222222222222222,
              "#7201a8"
             ],
             [
              0.3333333333333333,
              "#9c179e"
             ],
             [
              0.4444444444444444,
              "#bd3786"
             ],
             [
              0.5555555555555556,
              "#d8576b"
             ],
             [
              0.6666666666666666,
              "#ed7953"
             ],
             [
              0.7777777777777778,
              "#fb9f3a"
             ],
             [
              0.8888888888888888,
              "#fdca26"
             ],
             [
              1,
              "#f0f921"
             ]
            ],
            "type": "contour"
           }
          ],
          "contourcarpet": [
           {
            "colorbar": {
             "outlinewidth": 0,
             "ticks": ""
            },
            "type": "contourcarpet"
           }
          ],
          "heatmap": [
           {
            "colorbar": {
             "outlinewidth": 0,
             "ticks": ""
            },
            "colorscale": [
             [
              0,
              "#0d0887"
             ],
             [
              0.1111111111111111,
              "#46039f"
             ],
             [
              0.2222222222222222,
              "#7201a8"
             ],
             [
              0.3333333333333333,
              "#9c179e"
             ],
             [
              0.4444444444444444,
              "#bd3786"
             ],
             [
              0.5555555555555556,
              "#d8576b"
             ],
             [
              0.6666666666666666,
              "#ed7953"
             ],
             [
              0.7777777777777778,
              "#fb9f3a"
             ],
             [
              0.8888888888888888,
              "#fdca26"
             ],
             [
              1,
              "#f0f921"
             ]
            ],
            "type": "heatmap"
           }
          ],
          "heatmapgl": [
           {
            "colorbar": {
             "outlinewidth": 0,
             "ticks": ""
            },
            "colorscale": [
             [
              0,
              "#0d0887"
             ],
             [
              0.1111111111111111,
              "#46039f"
             ],
             [
              0.2222222222222222,
              "#7201a8"
             ],
             [
              0.3333333333333333,
              "#9c179e"
             ],
             [
              0.4444444444444444,
              "#bd3786"
             ],
             [
              0.5555555555555556,
              "#d8576b"
             ],
             [
              0.6666666666666666,
              "#ed7953"
             ],
             [
              0.7777777777777778,
              "#fb9f3a"
             ],
             [
              0.8888888888888888,
              "#fdca26"
             ],
             [
              1,
              "#f0f921"
             ]
            ],
            "type": "heatmapgl"
           }
          ],
          "histogram": [
           {
            "marker": {
             "pattern": {
              "fillmode": "overlay",
              "size": 10,
              "solidity": 0.2
             }
            },
            "type": "histogram"
           }
          ],
          "histogram2d": [
           {
            "colorbar": {
             "outlinewidth": 0,
             "ticks": ""
            },
            "colorscale": [
             [
              0,
              "#0d0887"
             ],
             [
              0.1111111111111111,
              "#46039f"
             ],
             [
              0.2222222222222222,
              "#7201a8"
             ],
             [
              0.3333333333333333,
              "#9c179e"
             ],
             [
              0.4444444444444444,
              "#bd3786"
             ],
             [
              0.5555555555555556,
              "#d8576b"
             ],
             [
              0.6666666666666666,
              "#ed7953"
             ],
             [
              0.7777777777777778,
              "#fb9f3a"
             ],
             [
              0.8888888888888888,
              "#fdca26"
             ],
             [
              1,
              "#f0f921"
             ]
            ],
            "type": "histogram2d"
           }
          ],
          "histogram2dcontour": [
           {
            "colorbar": {
             "outlinewidth": 0,
             "ticks": ""
            },
            "colorscale": [
             [
              0,
              "#0d0887"
             ],
             [
              0.1111111111111111,
              "#46039f"
             ],
             [
              0.2222222222222222,
              "#7201a8"
             ],
             [
              0.3333333333333333,
              "#9c179e"
             ],
             [
              0.4444444444444444,
              "#bd3786"
             ],
             [
              0.5555555555555556,
              "#d8576b"
             ],
             [
              0.6666666666666666,
              "#ed7953"
             ],
             [
              0.7777777777777778,
              "#fb9f3a"
             ],
             [
              0.8888888888888888,
              "#fdca26"
             ],
             [
              1,
              "#f0f921"
             ]
            ],
            "type": "histogram2dcontour"
           }
          ],
          "mesh3d": [
           {
            "colorbar": {
             "outlinewidth": 0,
             "ticks": ""
            },
            "type": "mesh3d"
           }
          ],
          "parcoords": [
           {
            "line": {
             "colorbar": {
              "outlinewidth": 0,
              "ticks": ""
             }
            },
            "type": "parcoords"
           }
          ],
          "pie": [
           {
            "automargin": true,
            "type": "pie"
           }
          ],
          "scatter": [
           {
            "fillpattern": {
             "fillmode": "overlay",
             "size": 10,
             "solidity": 0.2
            },
            "type": "scatter"
           }
          ],
          "scatter3d": [
           {
            "line": {
             "colorbar": {
              "outlinewidth": 0,
              "ticks": ""
             }
            },
            "marker": {
             "colorbar": {
              "outlinewidth": 0,
              "ticks": ""
             }
            },
            "type": "scatter3d"
           }
          ],
          "scattercarpet": [
           {
            "marker": {
             "colorbar": {
              "outlinewidth": 0,
              "ticks": ""
             }
            },
            "type": "scattercarpet"
           }
          ],
          "scattergeo": [
           {
            "marker": {
             "colorbar": {
              "outlinewidth": 0,
              "ticks": ""
             }
            },
            "type": "scattergeo"
           }
          ],
          "scattergl": [
           {
            "marker": {
             "colorbar": {
              "outlinewidth": 0,
              "ticks": ""
             }
            },
            "type": "scattergl"
           }
          ],
          "scattermapbox": [
           {
            "marker": {
             "colorbar": {
              "outlinewidth": 0,
              "ticks": ""
             }
            },
            "type": "scattermapbox"
           }
          ],
          "scatterpolar": [
           {
            "marker": {
             "colorbar": {
              "outlinewidth": 0,
              "ticks": ""
             }
            },
            "type": "scatterpolar"
           }
          ],
          "scatterpolargl": [
           {
            "marker": {
             "colorbar": {
              "outlinewidth": 0,
              "ticks": ""
             }
            },
            "type": "scatterpolargl"
           }
          ],
          "scatterternary": [
           {
            "marker": {
             "colorbar": {
              "outlinewidth": 0,
              "ticks": ""
             }
            },
            "type": "scatterternary"
           }
          ],
          "surface": [
           {
            "colorbar": {
             "outlinewidth": 0,
             "ticks": ""
            },
            "colorscale": [
             [
              0,
              "#0d0887"
             ],
             [
              0.1111111111111111,
              "#46039f"
             ],
             [
              0.2222222222222222,
              "#7201a8"
             ],
             [
              0.3333333333333333,
              "#9c179e"
             ],
             [
              0.4444444444444444,
              "#bd3786"
             ],
             [
              0.5555555555555556,
              "#d8576b"
             ],
             [
              0.6666666666666666,
              "#ed7953"
             ],
             [
              0.7777777777777778,
              "#fb9f3a"
             ],
             [
              0.8888888888888888,
              "#fdca26"
             ],
             [
              1,
              "#f0f921"
             ]
            ],
            "type": "surface"
           }
          ],
          "table": [
           {
            "cells": {
             "fill": {
              "color": "#EBF0F8"
             },
             "line": {
              "color": "white"
             }
            },
            "header": {
             "fill": {
              "color": "#C8D4E3"
             },
             "line": {
              "color": "white"
             }
            },
            "type": "table"
           }
          ]
         },
         "layout": {
          "annotationdefaults": {
           "arrowcolor": "#2a3f5f",
           "arrowhead": 0,
           "arrowwidth": 1
          },
          "autotypenumbers": "strict",
          "coloraxis": {
           "colorbar": {
            "outlinewidth": 0,
            "ticks": ""
           }
          },
          "colorscale": {
           "diverging": [
            [
             0,
             "#8e0152"
            ],
            [
             0.1,
             "#c51b7d"
            ],
            [
             0.2,
             "#de77ae"
            ],
            [
             0.3,
             "#f1b6da"
            ],
            [
             0.4,
             "#fde0ef"
            ],
            [
             0.5,
             "#f7f7f7"
            ],
            [
             0.6,
             "#e6f5d0"
            ],
            [
             0.7,
             "#b8e186"
            ],
            [
             0.8,
             "#7fbc41"
            ],
            [
             0.9,
             "#4d9221"
            ],
            [
             1,
             "#276419"
            ]
           ],
           "sequential": [
            [
             0,
             "#0d0887"
            ],
            [
             0.1111111111111111,
             "#46039f"
            ],
            [
             0.2222222222222222,
             "#7201a8"
            ],
            [
             0.3333333333333333,
             "#9c179e"
            ],
            [
             0.4444444444444444,
             "#bd3786"
            ],
            [
             0.5555555555555556,
             "#d8576b"
            ],
            [
             0.6666666666666666,
             "#ed7953"
            ],
            [
             0.7777777777777778,
             "#fb9f3a"
            ],
            [
             0.8888888888888888,
             "#fdca26"
            ],
            [
             1,
             "#f0f921"
            ]
           ],
           "sequentialminus": [
            [
             0,
             "#0d0887"
            ],
            [
             0.1111111111111111,
             "#46039f"
            ],
            [
             0.2222222222222222,
             "#7201a8"
            ],
            [
             0.3333333333333333,
             "#9c179e"
            ],
            [
             0.4444444444444444,
             "#bd3786"
            ],
            [
             0.5555555555555556,
             "#d8576b"
            ],
            [
             0.6666666666666666,
             "#ed7953"
            ],
            [
             0.7777777777777778,
             "#fb9f3a"
            ],
            [
             0.8888888888888888,
             "#fdca26"
            ],
            [
             1,
             "#f0f921"
            ]
           ]
          },
          "colorway": [
           "#636efa",
           "#EF553B",
           "#00cc96",
           "#ab63fa",
           "#FFA15A",
           "#19d3f3",
           "#FF6692",
           "#B6E880",
           "#FF97FF",
           "#FECB52"
          ],
          "font": {
           "color": "#2a3f5f"
          },
          "geo": {
           "bgcolor": "white",
           "lakecolor": "white",
           "landcolor": "#E5ECF6",
           "showlakes": true,
           "showland": true,
           "subunitcolor": "white"
          },
          "hoverlabel": {
           "align": "left"
          },
          "hovermode": "closest",
          "mapbox": {
           "style": "light"
          },
          "paper_bgcolor": "white",
          "plot_bgcolor": "#E5ECF6",
          "polar": {
           "angularaxis": {
            "gridcolor": "white",
            "linecolor": "white",
            "ticks": ""
           },
           "bgcolor": "#E5ECF6",
           "radialaxis": {
            "gridcolor": "white",
            "linecolor": "white",
            "ticks": ""
           }
          },
          "scene": {
           "xaxis": {
            "backgroundcolor": "#E5ECF6",
            "gridcolor": "white",
            "gridwidth": 2,
            "linecolor": "white",
            "showbackground": true,
            "ticks": "",
            "zerolinecolor": "white"
           },
           "yaxis": {
            "backgroundcolor": "#E5ECF6",
            "gridcolor": "white",
            "gridwidth": 2,
            "linecolor": "white",
            "showbackground": true,
            "ticks": "",
            "zerolinecolor": "white"
           },
           "zaxis": {
            "backgroundcolor": "#E5ECF6",
            "gridcolor": "white",
            "gridwidth": 2,
            "linecolor": "white",
            "showbackground": true,
            "ticks": "",
            "zerolinecolor": "white"
           }
          },
          "shapedefaults": {
           "line": {
            "color": "#2a3f5f"
           }
          },
          "ternary": {
           "aaxis": {
            "gridcolor": "white",
            "linecolor": "white",
            "ticks": ""
           },
           "baxis": {
            "gridcolor": "white",
            "linecolor": "white",
            "ticks": ""
           },
           "bgcolor": "#E5ECF6",
           "caxis": {
            "gridcolor": "white",
            "linecolor": "white",
            "ticks": ""
           }
          },
          "title": {
           "x": 0.05
          },
          "xaxis": {
           "automargin": true,
           "gridcolor": "white",
           "linecolor": "white",
           "ticks": "",
           "title": {
            "standoff": 15
           },
           "zerolinecolor": "white",
           "zerolinewidth": 2
          },
          "yaxis": {
           "automargin": true,
           "gridcolor": "white",
           "linecolor": "white",
           "ticks": "",
           "title": {
            "standoff": 15
           },
           "zerolinecolor": "white",
           "zerolinewidth": 2
          }
         }
        },
        "title": {
         "text": "Loyal "
        }
       }
      }
     },
     "metadata": {},
     "output_type": "display_data"
    },
    {
     "data": {
      "application/vnd.plotly.v1+json": {
       "config": {
        "plotlyServerURL": "https://plot.ly"
       },
       "data": [
        {
         "branchvalues": "total",
         "domain": {
          "x": [
           0,
           1
          ],
          "y": [
           0,
           1
          ]
         },
         "hovertemplate": "labels=%{label}<br>count=%{value}<br>parent=%{parent}<br>id=%{id}<extra></extra>",
         "ids": [
          "AK",
          "AL",
          "AR",
          "AZ",
          "CA",
          "CO",
          "CT",
          "DC",
          "DE",
          "FL",
          "GA",
          "HI",
          "IA",
          "ID",
          "IL",
          "IN",
          "KS",
          "KY",
          "LA",
          "MA",
          "MD",
          "ME",
          "MI",
          "MN",
          "MO",
          "MS",
          "MT",
          "NC",
          "ND",
          "NE",
          "NH",
          "NJ",
          "NM",
          "NV",
          "NY",
          "OH",
          "OK",
          "OR",
          "PA",
          "RI",
          "SC",
          "SD",
          "TN",
          "TX",
          "UT",
          "VA",
          "VT",
          "WA",
          "WI",
          "WV",
          "WY"
         ],
         "labels": [
          "AK",
          "AL",
          "AR",
          "AZ",
          "CA",
          "CO",
          "CT",
          "DC",
          "DE",
          "FL",
          "GA",
          "HI",
          "IA",
          "ID",
          "IL",
          "IN",
          "KS",
          "KY",
          "LA",
          "MA",
          "MD",
          "ME",
          "MI",
          "MN",
          "MO",
          "MS",
          "MT",
          "NC",
          "ND",
          "NE",
          "NH",
          "NJ",
          "NM",
          "NV",
          "NY",
          "OH",
          "OK",
          "OR",
          "PA",
          "RI",
          "SC",
          "SD",
          "TN",
          "TX",
          "UT",
          "VA",
          "VT",
          "WA",
          "WI",
          "WV",
          "WY"
         ],
         "name": "",
         "parents": [
          "",
          "",
          "",
          "",
          "",
          "",
          "",
          "",
          "",
          "",
          "",
          "",
          "",
          "",
          "",
          "",
          "",
          "",
          "",
          "",
          "",
          "",
          "",
          "",
          "",
          "",
          "",
          "",
          "",
          "",
          "",
          "",
          "",
          "",
          "",
          "",
          "",
          "",
          "",
          "",
          "",
          "",
          "",
          "",
          "",
          "",
          "",
          "",
          "",
          "",
          ""
         ],
         "root": {
          "color": "lightgrey"
         },
         "type": "treemap",
         "values": [
          7,
          6,
          9,
          9,
          8,
          12,
          7,
          12,
          6,
          11,
          3,
          10,
          5,
          8,
          7,
          3,
          8,
          4,
          6,
          13,
          9,
          8,
          10,
          11,
          9,
          14,
          6,
          9,
          13,
          5,
          12,
          10,
          8,
          9,
          9,
          6,
          11,
          11,
          12,
          11,
          4,
          16,
          9,
          11,
          8,
          10,
          18,
          11,
          8,
          6,
          12
         ]
        }
       ],
       "layout": {
        "legend": {
         "tracegroupgap": 0
        },
        "margin": {
         "b": 25,
         "l": 25,
         "r": 25,
         "t": 50
        },
        "template": {
         "data": {
          "bar": [
           {
            "error_x": {
             "color": "#2a3f5f"
            },
            "error_y": {
             "color": "#2a3f5f"
            },
            "marker": {
             "line": {
              "color": "#E5ECF6",
              "width": 0.5
             },
             "pattern": {
              "fillmode": "overlay",
              "size": 10,
              "solidity": 0.2
             }
            },
            "type": "bar"
           }
          ],
          "barpolar": [
           {
            "marker": {
             "line": {
              "color": "#E5ECF6",
              "width": 0.5
             },
             "pattern": {
              "fillmode": "overlay",
              "size": 10,
              "solidity": 0.2
             }
            },
            "type": "barpolar"
           }
          ],
          "carpet": [
           {
            "aaxis": {
             "endlinecolor": "#2a3f5f",
             "gridcolor": "white",
             "linecolor": "white",
             "minorgridcolor": "white",
             "startlinecolor": "#2a3f5f"
            },
            "baxis": {
             "endlinecolor": "#2a3f5f",
             "gridcolor": "white",
             "linecolor": "white",
             "minorgridcolor": "white",
             "startlinecolor": "#2a3f5f"
            },
            "type": "carpet"
           }
          ],
          "choropleth": [
           {
            "colorbar": {
             "outlinewidth": 0,
             "ticks": ""
            },
            "type": "choropleth"
           }
          ],
          "contour": [
           {
            "colorbar": {
             "outlinewidth": 0,
             "ticks": ""
            },
            "colorscale": [
             [
              0,
              "#0d0887"
             ],
             [
              0.1111111111111111,
              "#46039f"
             ],
             [
              0.2222222222222222,
              "#7201a8"
             ],
             [
              0.3333333333333333,
              "#9c179e"
             ],
             [
              0.4444444444444444,
              "#bd3786"
             ],
             [
              0.5555555555555556,
              "#d8576b"
             ],
             [
              0.6666666666666666,
              "#ed7953"
             ],
             [
              0.7777777777777778,
              "#fb9f3a"
             ],
             [
              0.8888888888888888,
              "#fdca26"
             ],
             [
              1,
              "#f0f921"
             ]
            ],
            "type": "contour"
           }
          ],
          "contourcarpet": [
           {
            "colorbar": {
             "outlinewidth": 0,
             "ticks": ""
            },
            "type": "contourcarpet"
           }
          ],
          "heatmap": [
           {
            "colorbar": {
             "outlinewidth": 0,
             "ticks": ""
            },
            "colorscale": [
             [
              0,
              "#0d0887"
             ],
             [
              0.1111111111111111,
              "#46039f"
             ],
             [
              0.2222222222222222,
              "#7201a8"
             ],
             [
              0.3333333333333333,
              "#9c179e"
             ],
             [
              0.4444444444444444,
              "#bd3786"
             ],
             [
              0.5555555555555556,
              "#d8576b"
             ],
             [
              0.6666666666666666,
              "#ed7953"
             ],
             [
              0.7777777777777778,
              "#fb9f3a"
             ],
             [
              0.8888888888888888,
              "#fdca26"
             ],
             [
              1,
              "#f0f921"
             ]
            ],
            "type": "heatmap"
           }
          ],
          "heatmapgl": [
           {
            "colorbar": {
             "outlinewidth": 0,
             "ticks": ""
            },
            "colorscale": [
             [
              0,
              "#0d0887"
             ],
             [
              0.1111111111111111,
              "#46039f"
             ],
             [
              0.2222222222222222,
              "#7201a8"
             ],
             [
              0.3333333333333333,
              "#9c179e"
             ],
             [
              0.4444444444444444,
              "#bd3786"
             ],
             [
              0.5555555555555556,
              "#d8576b"
             ],
             [
              0.6666666666666666,
              "#ed7953"
             ],
             [
              0.7777777777777778,
              "#fb9f3a"
             ],
             [
              0.8888888888888888,
              "#fdca26"
             ],
             [
              1,
              "#f0f921"
             ]
            ],
            "type": "heatmapgl"
           }
          ],
          "histogram": [
           {
            "marker": {
             "pattern": {
              "fillmode": "overlay",
              "size": 10,
              "solidity": 0.2
             }
            },
            "type": "histogram"
           }
          ],
          "histogram2d": [
           {
            "colorbar": {
             "outlinewidth": 0,
             "ticks": ""
            },
            "colorscale": [
             [
              0,
              "#0d0887"
             ],
             [
              0.1111111111111111,
              "#46039f"
             ],
             [
              0.2222222222222222,
              "#7201a8"
             ],
             [
              0.3333333333333333,
              "#9c179e"
             ],
             [
              0.4444444444444444,
              "#bd3786"
             ],
             [
              0.5555555555555556,
              "#d8576b"
             ],
             [
              0.6666666666666666,
              "#ed7953"
             ],
             [
              0.7777777777777778,
              "#fb9f3a"
             ],
             [
              0.8888888888888888,
              "#fdca26"
             ],
             [
              1,
              "#f0f921"
             ]
            ],
            "type": "histogram2d"
           }
          ],
          "histogram2dcontour": [
           {
            "colorbar": {
             "outlinewidth": 0,
             "ticks": ""
            },
            "colorscale": [
             [
              0,
              "#0d0887"
             ],
             [
              0.1111111111111111,
              "#46039f"
             ],
             [
              0.2222222222222222,
              "#7201a8"
             ],
             [
              0.3333333333333333,
              "#9c179e"
             ],
             [
              0.4444444444444444,
              "#bd3786"
             ],
             [
              0.5555555555555556,
              "#d8576b"
             ],
             [
              0.6666666666666666,
              "#ed7953"
             ],
             [
              0.7777777777777778,
              "#fb9f3a"
             ],
             [
              0.8888888888888888,
              "#fdca26"
             ],
             [
              1,
              "#f0f921"
             ]
            ],
            "type": "histogram2dcontour"
           }
          ],
          "mesh3d": [
           {
            "colorbar": {
             "outlinewidth": 0,
             "ticks": ""
            },
            "type": "mesh3d"
           }
          ],
          "parcoords": [
           {
            "line": {
             "colorbar": {
              "outlinewidth": 0,
              "ticks": ""
             }
            },
            "type": "parcoords"
           }
          ],
          "pie": [
           {
            "automargin": true,
            "type": "pie"
           }
          ],
          "scatter": [
           {
            "fillpattern": {
             "fillmode": "overlay",
             "size": 10,
             "solidity": 0.2
            },
            "type": "scatter"
           }
          ],
          "scatter3d": [
           {
            "line": {
             "colorbar": {
              "outlinewidth": 0,
              "ticks": ""
             }
            },
            "marker": {
             "colorbar": {
              "outlinewidth": 0,
              "ticks": ""
             }
            },
            "type": "scatter3d"
           }
          ],
          "scattercarpet": [
           {
            "marker": {
             "colorbar": {
              "outlinewidth": 0,
              "ticks": ""
             }
            },
            "type": "scattercarpet"
           }
          ],
          "scattergeo": [
           {
            "marker": {
             "colorbar": {
              "outlinewidth": 0,
              "ticks": ""
             }
            },
            "type": "scattergeo"
           }
          ],
          "scattergl": [
           {
            "marker": {
             "colorbar": {
              "outlinewidth": 0,
              "ticks": ""
             }
            },
            "type": "scattergl"
           }
          ],
          "scattermapbox": [
           {
            "marker": {
             "colorbar": {
              "outlinewidth": 0,
              "ticks": ""
             }
            },
            "type": "scattermapbox"
           }
          ],
          "scatterpolar": [
           {
            "marker": {
             "colorbar": {
              "outlinewidth": 0,
              "ticks": ""
             }
            },
            "type": "scatterpolar"
           }
          ],
          "scatterpolargl": [
           {
            "marker": {
             "colorbar": {
              "outlinewidth": 0,
              "ticks": ""
             }
            },
            "type": "scatterpolargl"
           }
          ],
          "scatterternary": [
           {
            "marker": {
             "colorbar": {
              "outlinewidth": 0,
              "ticks": ""
             }
            },
            "type": "scatterternary"
           }
          ],
          "surface": [
           {
            "colorbar": {
             "outlinewidth": 0,
             "ticks": ""
            },
            "colorscale": [
             [
              0,
              "#0d0887"
             ],
             [
              0.1111111111111111,
              "#46039f"
             ],
             [
              0.2222222222222222,
              "#7201a8"
             ],
             [
              0.3333333333333333,
              "#9c179e"
             ],
             [
              0.4444444444444444,
              "#bd3786"
             ],
             [
              0.5555555555555556,
              "#d8576b"
             ],
             [
              0.6666666666666666,
              "#ed7953"
             ],
             [
              0.7777777777777778,
              "#fb9f3a"
             ],
             [
              0.8888888888888888,
              "#fdca26"
             ],
             [
              1,
              "#f0f921"
             ]
            ],
            "type": "surface"
           }
          ],
          "table": [
           {
            "cells": {
             "fill": {
              "color": "#EBF0F8"
             },
             "line": {
              "color": "white"
             }
            },
            "header": {
             "fill": {
              "color": "#C8D4E3"
             },
             "line": {
              "color": "white"
             }
            },
            "type": "table"
           }
          ]
         },
         "layout": {
          "annotationdefaults": {
           "arrowcolor": "#2a3f5f",
           "arrowhead": 0,
           "arrowwidth": 1
          },
          "autotypenumbers": "strict",
          "coloraxis": {
           "colorbar": {
            "outlinewidth": 0,
            "ticks": ""
           }
          },
          "colorscale": {
           "diverging": [
            [
             0,
             "#8e0152"
            ],
            [
             0.1,
             "#c51b7d"
            ],
            [
             0.2,
             "#de77ae"
            ],
            [
             0.3,
             "#f1b6da"
            ],
            [
             0.4,
             "#fde0ef"
            ],
            [
             0.5,
             "#f7f7f7"
            ],
            [
             0.6,
             "#e6f5d0"
            ],
            [
             0.7,
             "#b8e186"
            ],
            [
             0.8,
             "#7fbc41"
            ],
            [
             0.9,
             "#4d9221"
            ],
            [
             1,
             "#276419"
            ]
           ],
           "sequential": [
            [
             0,
             "#0d0887"
            ],
            [
             0.1111111111111111,
             "#46039f"
            ],
            [
             0.2222222222222222,
             "#7201a8"
            ],
            [
             0.3333333333333333,
             "#9c179e"
            ],
            [
             0.4444444444444444,
             "#bd3786"
            ],
            [
             0.5555555555555556,
             "#d8576b"
            ],
            [
             0.6666666666666666,
             "#ed7953"
            ],
            [
             0.7777777777777778,
             "#fb9f3a"
            ],
            [
             0.8888888888888888,
             "#fdca26"
            ],
            [
             1,
             "#f0f921"
            ]
           ],
           "sequentialminus": [
            [
             0,
             "#0d0887"
            ],
            [
             0.1111111111111111,
             "#46039f"
            ],
            [
             0.2222222222222222,
             "#7201a8"
            ],
            [
             0.3333333333333333,
             "#9c179e"
            ],
            [
             0.4444444444444444,
             "#bd3786"
            ],
            [
             0.5555555555555556,
             "#d8576b"
            ],
            [
             0.6666666666666666,
             "#ed7953"
            ],
            [
             0.7777777777777778,
             "#fb9f3a"
            ],
            [
             0.8888888888888888,
             "#fdca26"
            ],
            [
             1,
             "#f0f921"
            ]
           ]
          },
          "colorway": [
           "#636efa",
           "#EF553B",
           "#00cc96",
           "#ab63fa",
           "#FFA15A",
           "#19d3f3",
           "#FF6692",
           "#B6E880",
           "#FF97FF",
           "#FECB52"
          ],
          "font": {
           "color": "#2a3f5f"
          },
          "geo": {
           "bgcolor": "white",
           "lakecolor": "white",
           "landcolor": "#E5ECF6",
           "showlakes": true,
           "showland": true,
           "subunitcolor": "white"
          },
          "hoverlabel": {
           "align": "left"
          },
          "hovermode": "closest",
          "mapbox": {
           "style": "light"
          },
          "paper_bgcolor": "white",
          "plot_bgcolor": "#E5ECF6",
          "polar": {
           "angularaxis": {
            "gridcolor": "white",
            "linecolor": "white",
            "ticks": ""
           },
           "bgcolor": "#E5ECF6",
           "radialaxis": {
            "gridcolor": "white",
            "linecolor": "white",
            "ticks": ""
           }
          },
          "scene": {
           "xaxis": {
            "backgroundcolor": "#E5ECF6",
            "gridcolor": "white",
            "gridwidth": 2,
            "linecolor": "white",
            "showbackground": true,
            "ticks": "",
            "zerolinecolor": "white"
           },
           "yaxis": {
            "backgroundcolor": "#E5ECF6",
            "gridcolor": "white",
            "gridwidth": 2,
            "linecolor": "white",
            "showbackground": true,
            "ticks": "",
            "zerolinecolor": "white"
           },
           "zaxis": {
            "backgroundcolor": "#E5ECF6",
            "gridcolor": "white",
            "gridwidth": 2,
            "linecolor": "white",
            "showbackground": true,
            "ticks": "",
            "zerolinecolor": "white"
           }
          },
          "shapedefaults": {
           "line": {
            "color": "#2a3f5f"
           }
          },
          "ternary": {
           "aaxis": {
            "gridcolor": "white",
            "linecolor": "white",
            "ticks": ""
           },
           "baxis": {
            "gridcolor": "white",
            "linecolor": "white",
            "ticks": ""
           },
           "bgcolor": "#E5ECF6",
           "caxis": {
            "gridcolor": "white",
            "linecolor": "white",
            "ticks": ""
           }
          },
          "title": {
           "x": 0.05
          },
          "xaxis": {
           "automargin": true,
           "gridcolor": "white",
           "linecolor": "white",
           "ticks": "",
           "title": {
            "standoff": 15
           },
           "zerolinecolor": "white",
           "zerolinewidth": 2
          },
          "yaxis": {
           "automargin": true,
           "gridcolor": "white",
           "linecolor": "white",
           "ticks": "",
           "title": {
            "standoff": 15
           },
           "zerolinecolor": "white",
           "zerolinewidth": 2
          }
         }
        },
        "title": {
         "text": "MVC"
        }
       }
      }
     },
     "metadata": {},
     "output_type": "display_data"
    },
    {
     "data": {
      "application/vnd.plotly.v1+json": {
       "config": {
        "plotlyServerURL": "https://plot.ly"
       },
       "data": [
        {
         "branchvalues": "total",
         "domain": {
          "x": [
           0,
           1
          ],
          "y": [
           0,
           1
          ]
         },
         "hovertemplate": "labels=%{label}<br>count=%{value}<br>parent=%{parent}<br>id=%{id}<extra></extra>",
         "ids": [
          "AK",
          "AL",
          "AR",
          "AZ",
          "CA",
          "CO",
          "CT",
          "DC",
          "DE",
          "FL",
          "GA",
          "HI",
          "IA",
          "ID",
          "IL",
          "IN",
          "KS",
          "KY",
          "LA",
          "MA",
          "MD",
          "ME",
          "MI",
          "MN",
          "MO",
          "MS",
          "MT",
          "NC",
          "ND",
          "NE",
          "NH",
          "NJ",
          "NM",
          "NV",
          "NY",
          "OH",
          "OK",
          "OR",
          "PA",
          "RI",
          "SC",
          "SD",
          "TN",
          "TX",
          "UT",
          "VA",
          "VT",
          "WA",
          "WI",
          "WV",
          "WY"
         ],
         "labels": [
          "AK",
          "AL",
          "AR",
          "AZ",
          "CA",
          "CO",
          "CT",
          "DC",
          "DE",
          "FL",
          "GA",
          "HI",
          "IA",
          "ID",
          "IL",
          "IN",
          "KS",
          "KY",
          "LA",
          "MA",
          "MD",
          "ME",
          "MI",
          "MN",
          "MO",
          "MS",
          "MT",
          "NC",
          "ND",
          "NE",
          "NH",
          "NJ",
          "NM",
          "NV",
          "NY",
          "OH",
          "OK",
          "OR",
          "PA",
          "RI",
          "SC",
          "SD",
          "TN",
          "TX",
          "UT",
          "VA",
          "VT",
          "WA",
          "WI",
          "WV",
          "WY"
         ],
         "name": "",
         "parents": [
          "",
          "",
          "",
          "",
          "",
          "",
          "",
          "",
          "",
          "",
          "",
          "",
          "",
          "",
          "",
          "",
          "",
          "",
          "",
          "",
          "",
          "",
          "",
          "",
          "",
          "",
          "",
          "",
          "",
          "",
          "",
          "",
          "",
          "",
          "",
          "",
          "",
          "",
          "",
          "",
          "",
          "",
          "",
          "",
          "",
          "",
          "",
          "",
          "",
          "",
          ""
         ],
         "root": {
          "color": "lightgrey"
         },
         "type": "treemap",
         "values": [
          7,
          10,
          13,
          6,
          6,
          4,
          7,
          15,
          7,
          12,
          9,
          8,
          7,
          6,
          10,
          4,
          7,
          5,
          10,
          4,
          8,
          7,
          11,
          12,
          3,
          7,
          8,
          13,
          6,
          10,
          5,
          6,
          8,
          4,
          6,
          9,
          8,
          11,
          11,
          4,
          3,
          5,
          8,
          10,
          7,
          4,
          11,
          5,
          8,
          7,
          9
         ]
        }
       ],
       "layout": {
        "legend": {
         "tracegroupgap": 0
        },
        "margin": {
         "b": 25,
         "l": 25,
         "r": 25,
         "t": 50
        },
        "template": {
         "data": {
          "bar": [
           {
            "error_x": {
             "color": "#2a3f5f"
            },
            "error_y": {
             "color": "#2a3f5f"
            },
            "marker": {
             "line": {
              "color": "#E5ECF6",
              "width": 0.5
             },
             "pattern": {
              "fillmode": "overlay",
              "size": 10,
              "solidity": 0.2
             }
            },
            "type": "bar"
           }
          ],
          "barpolar": [
           {
            "marker": {
             "line": {
              "color": "#E5ECF6",
              "width": 0.5
             },
             "pattern": {
              "fillmode": "overlay",
              "size": 10,
              "solidity": 0.2
             }
            },
            "type": "barpolar"
           }
          ],
          "carpet": [
           {
            "aaxis": {
             "endlinecolor": "#2a3f5f",
             "gridcolor": "white",
             "linecolor": "white",
             "minorgridcolor": "white",
             "startlinecolor": "#2a3f5f"
            },
            "baxis": {
             "endlinecolor": "#2a3f5f",
             "gridcolor": "white",
             "linecolor": "white",
             "minorgridcolor": "white",
             "startlinecolor": "#2a3f5f"
            },
            "type": "carpet"
           }
          ],
          "choropleth": [
           {
            "colorbar": {
             "outlinewidth": 0,
             "ticks": ""
            },
            "type": "choropleth"
           }
          ],
          "contour": [
           {
            "colorbar": {
             "outlinewidth": 0,
             "ticks": ""
            },
            "colorscale": [
             [
              0,
              "#0d0887"
             ],
             [
              0.1111111111111111,
              "#46039f"
             ],
             [
              0.2222222222222222,
              "#7201a8"
             ],
             [
              0.3333333333333333,
              "#9c179e"
             ],
             [
              0.4444444444444444,
              "#bd3786"
             ],
             [
              0.5555555555555556,
              "#d8576b"
             ],
             [
              0.6666666666666666,
              "#ed7953"
             ],
             [
              0.7777777777777778,
              "#fb9f3a"
             ],
             [
              0.8888888888888888,
              "#fdca26"
             ],
             [
              1,
              "#f0f921"
             ]
            ],
            "type": "contour"
           }
          ],
          "contourcarpet": [
           {
            "colorbar": {
             "outlinewidth": 0,
             "ticks": ""
            },
            "type": "contourcarpet"
           }
          ],
          "heatmap": [
           {
            "colorbar": {
             "outlinewidth": 0,
             "ticks": ""
            },
            "colorscale": [
             [
              0,
              "#0d0887"
             ],
             [
              0.1111111111111111,
              "#46039f"
             ],
             [
              0.2222222222222222,
              "#7201a8"
             ],
             [
              0.3333333333333333,
              "#9c179e"
             ],
             [
              0.4444444444444444,
              "#bd3786"
             ],
             [
              0.5555555555555556,
              "#d8576b"
             ],
             [
              0.6666666666666666,
              "#ed7953"
             ],
             [
              0.7777777777777778,
              "#fb9f3a"
             ],
             [
              0.8888888888888888,
              "#fdca26"
             ],
             [
              1,
              "#f0f921"
             ]
            ],
            "type": "heatmap"
           }
          ],
          "heatmapgl": [
           {
            "colorbar": {
             "outlinewidth": 0,
             "ticks": ""
            },
            "colorscale": [
             [
              0,
              "#0d0887"
             ],
             [
              0.1111111111111111,
              "#46039f"
             ],
             [
              0.2222222222222222,
              "#7201a8"
             ],
             [
              0.3333333333333333,
              "#9c179e"
             ],
             [
              0.4444444444444444,
              "#bd3786"
             ],
             [
              0.5555555555555556,
              "#d8576b"
             ],
             [
              0.6666666666666666,
              "#ed7953"
             ],
             [
              0.7777777777777778,
              "#fb9f3a"
             ],
             [
              0.8888888888888888,
              "#fdca26"
             ],
             [
              1,
              "#f0f921"
             ]
            ],
            "type": "heatmapgl"
           }
          ],
          "histogram": [
           {
            "marker": {
             "pattern": {
              "fillmode": "overlay",
              "size": 10,
              "solidity": 0.2
             }
            },
            "type": "histogram"
           }
          ],
          "histogram2d": [
           {
            "colorbar": {
             "outlinewidth": 0,
             "ticks": ""
            },
            "colorscale": [
             [
              0,
              "#0d0887"
             ],
             [
              0.1111111111111111,
              "#46039f"
             ],
             [
              0.2222222222222222,
              "#7201a8"
             ],
             [
              0.3333333333333333,
              "#9c179e"
             ],
             [
              0.4444444444444444,
              "#bd3786"
             ],
             [
              0.5555555555555556,
              "#d8576b"
             ],
             [
              0.6666666666666666,
              "#ed7953"
             ],
             [
              0.7777777777777778,
              "#fb9f3a"
             ],
             [
              0.8888888888888888,
              "#fdca26"
             ],
             [
              1,
              "#f0f921"
             ]
            ],
            "type": "histogram2d"
           }
          ],
          "histogram2dcontour": [
           {
            "colorbar": {
             "outlinewidth": 0,
             "ticks": ""
            },
            "colorscale": [
             [
              0,
              "#0d0887"
             ],
             [
              0.1111111111111111,
              "#46039f"
             ],
             [
              0.2222222222222222,
              "#7201a8"
             ],
             [
              0.3333333333333333,
              "#9c179e"
             ],
             [
              0.4444444444444444,
              "#bd3786"
             ],
             [
              0.5555555555555556,
              "#d8576b"
             ],
             [
              0.6666666666666666,
              "#ed7953"
             ],
             [
              0.7777777777777778,
              "#fb9f3a"
             ],
             [
              0.8888888888888888,
              "#fdca26"
             ],
             [
              1,
              "#f0f921"
             ]
            ],
            "type": "histogram2dcontour"
           }
          ],
          "mesh3d": [
           {
            "colorbar": {
             "outlinewidth": 0,
             "ticks": ""
            },
            "type": "mesh3d"
           }
          ],
          "parcoords": [
           {
            "line": {
             "colorbar": {
              "outlinewidth": 0,
              "ticks": ""
             }
            },
            "type": "parcoords"
           }
          ],
          "pie": [
           {
            "automargin": true,
            "type": "pie"
           }
          ],
          "scatter": [
           {
            "fillpattern": {
             "fillmode": "overlay",
             "size": 10,
             "solidity": 0.2
            },
            "type": "scatter"
           }
          ],
          "scatter3d": [
           {
            "line": {
             "colorbar": {
              "outlinewidth": 0,
              "ticks": ""
             }
            },
            "marker": {
             "colorbar": {
              "outlinewidth": 0,
              "ticks": ""
             }
            },
            "type": "scatter3d"
           }
          ],
          "scattercarpet": [
           {
            "marker": {
             "colorbar": {
              "outlinewidth": 0,
              "ticks": ""
             }
            },
            "type": "scattercarpet"
           }
          ],
          "scattergeo": [
           {
            "marker": {
             "colorbar": {
              "outlinewidth": 0,
              "ticks": ""
             }
            },
            "type": "scattergeo"
           }
          ],
          "scattergl": [
           {
            "marker": {
             "colorbar": {
              "outlinewidth": 0,
              "ticks": ""
             }
            },
            "type": "scattergl"
           }
          ],
          "scattermapbox": [
           {
            "marker": {
             "colorbar": {
              "outlinewidth": 0,
              "ticks": ""
             }
            },
            "type": "scattermapbox"
           }
          ],
          "scatterpolar": [
           {
            "marker": {
             "colorbar": {
              "outlinewidth": 0,
              "ticks": ""
             }
            },
            "type": "scatterpolar"
           }
          ],
          "scatterpolargl": [
           {
            "marker": {
             "colorbar": {
              "outlinewidth": 0,
              "ticks": ""
             }
            },
            "type": "scatterpolargl"
           }
          ],
          "scatterternary": [
           {
            "marker": {
             "colorbar": {
              "outlinewidth": 0,
              "ticks": ""
             }
            },
            "type": "scatterternary"
           }
          ],
          "surface": [
           {
            "colorbar": {
             "outlinewidth": 0,
             "ticks": ""
            },
            "colorscale": [
             [
              0,
              "#0d0887"
             ],
             [
              0.1111111111111111,
              "#46039f"
             ],
             [
              0.2222222222222222,
              "#7201a8"
             ],
             [
              0.3333333333333333,
              "#9c179e"
             ],
             [
              0.4444444444444444,
              "#bd3786"
             ],
             [
              0.5555555555555556,
              "#d8576b"
             ],
             [
              0.6666666666666666,
              "#ed7953"
             ],
             [
              0.7777777777777778,
              "#fb9f3a"
             ],
             [
              0.8888888888888888,
              "#fdca26"
             ],
             [
              1,
              "#f0f921"
             ]
            ],
            "type": "surface"
           }
          ],
          "table": [
           {
            "cells": {
             "fill": {
              "color": "#EBF0F8"
             },
             "line": {
              "color": "white"
             }
            },
            "header": {
             "fill": {
              "color": "#C8D4E3"
             },
             "line": {
              "color": "white"
             }
            },
            "type": "table"
           }
          ]
         },
         "layout": {
          "annotationdefaults": {
           "arrowcolor": "#2a3f5f",
           "arrowhead": 0,
           "arrowwidth": 1
          },
          "autotypenumbers": "strict",
          "coloraxis": {
           "colorbar": {
            "outlinewidth": 0,
            "ticks": ""
           }
          },
          "colorscale": {
           "diverging": [
            [
             0,
             "#8e0152"
            ],
            [
             0.1,
             "#c51b7d"
            ],
            [
             0.2,
             "#de77ae"
            ],
            [
             0.3,
             "#f1b6da"
            ],
            [
             0.4,
             "#fde0ef"
            ],
            [
             0.5,
             "#f7f7f7"
            ],
            [
             0.6,
             "#e6f5d0"
            ],
            [
             0.7,
             "#b8e186"
            ],
            [
             0.8,
             "#7fbc41"
            ],
            [
             0.9,
             "#4d9221"
            ],
            [
             1,
             "#276419"
            ]
           ],
           "sequential": [
            [
             0,
             "#0d0887"
            ],
            [
             0.1111111111111111,
             "#46039f"
            ],
            [
             0.2222222222222222,
             "#7201a8"
            ],
            [
             0.3333333333333333,
             "#9c179e"
            ],
            [
             0.4444444444444444,
             "#bd3786"
            ],
            [
             0.5555555555555556,
             "#d8576b"
            ],
            [
             0.6666666666666666,
             "#ed7953"
            ],
            [
             0.7777777777777778,
             "#fb9f3a"
            ],
            [
             0.8888888888888888,
             "#fdca26"
            ],
            [
             1,
             "#f0f921"
            ]
           ],
           "sequentialminus": [
            [
             0,
             "#0d0887"
            ],
            [
             0.1111111111111111,
             "#46039f"
            ],
            [
             0.2222222222222222,
             "#7201a8"
            ],
            [
             0.3333333333333333,
             "#9c179e"
            ],
            [
             0.4444444444444444,
             "#bd3786"
            ],
            [
             0.5555555555555556,
             "#d8576b"
            ],
            [
             0.6666666666666666,
             "#ed7953"
            ],
            [
             0.7777777777777778,
             "#fb9f3a"
            ],
            [
             0.8888888888888888,
             "#fdca26"
            ],
            [
             1,
             "#f0f921"
            ]
           ]
          },
          "colorway": [
           "#636efa",
           "#EF553B",
           "#00cc96",
           "#ab63fa",
           "#FFA15A",
           "#19d3f3",
           "#FF6692",
           "#B6E880",
           "#FF97FF",
           "#FECB52"
          ],
          "font": {
           "color": "#2a3f5f"
          },
          "geo": {
           "bgcolor": "white",
           "lakecolor": "white",
           "landcolor": "#E5ECF6",
           "showlakes": true,
           "showland": true,
           "subunitcolor": "white"
          },
          "hoverlabel": {
           "align": "left"
          },
          "hovermode": "closest",
          "mapbox": {
           "style": "light"
          },
          "paper_bgcolor": "white",
          "plot_bgcolor": "#E5ECF6",
          "polar": {
           "angularaxis": {
            "gridcolor": "white",
            "linecolor": "white",
            "ticks": ""
           },
           "bgcolor": "#E5ECF6",
           "radialaxis": {
            "gridcolor": "white",
            "linecolor": "white",
            "ticks": ""
           }
          },
          "scene": {
           "xaxis": {
            "backgroundcolor": "#E5ECF6",
            "gridcolor": "white",
            "gridwidth": 2,
            "linecolor": "white",
            "showbackground": true,
            "ticks": "",
            "zerolinecolor": "white"
           },
           "yaxis": {
            "backgroundcolor": "#E5ECF6",
            "gridcolor": "white",
            "gridwidth": 2,
            "linecolor": "white",
            "showbackground": true,
            "ticks": "",
            "zerolinecolor": "white"
           },
           "zaxis": {
            "backgroundcolor": "#E5ECF6",
            "gridcolor": "white",
            "gridwidth": 2,
            "linecolor": "white",
            "showbackground": true,
            "ticks": "",
            "zerolinecolor": "white"
           }
          },
          "shapedefaults": {
           "line": {
            "color": "#2a3f5f"
           }
          },
          "ternary": {
           "aaxis": {
            "gridcolor": "white",
            "linecolor": "white",
            "ticks": ""
           },
           "baxis": {
            "gridcolor": "white",
            "linecolor": "white",
            "ticks": ""
           },
           "bgcolor": "#E5ECF6",
           "caxis": {
            "gridcolor": "white",
            "linecolor": "white",
            "ticks": ""
           }
          },
          "title": {
           "x": 0.05
          },
          "xaxis": {
           "automargin": true,
           "gridcolor": "white",
           "linecolor": "white",
           "ticks": "",
           "title": {
            "standoff": 15
           },
           "zerolinecolor": "white",
           "zerolinewidth": 2
          },
          "yaxis": {
           "automargin": true,
           "gridcolor": "white",
           "linecolor": "white",
           "ticks": "",
           "title": {
            "standoff": 15
           },
           "zerolinecolor": "white",
           "zerolinewidth": 2
          }
         }
        },
        "title": {
         "text": "Need Attention"
        }
       }
      }
     },
     "metadata": {},
     "output_type": "display_data"
    },
    {
     "data": {
      "application/vnd.plotly.v1+json": {
       "config": {
        "plotlyServerURL": "https://plot.ly"
       },
       "data": [
        {
         "branchvalues": "total",
         "domain": {
          "x": [
           0,
           1
          ],
          "y": [
           0,
           1
          ]
         },
         "hovertemplate": "labels=%{label}<br>count=%{value}<br>parent=%{parent}<br>id=%{id}<extra></extra>",
         "ids": [
          "AK",
          "AL",
          "AZ",
          "CA",
          "CO",
          "CT",
          "DC",
          "DE",
          "FL",
          "GA",
          "HI",
          "IA",
          "ID",
          "IL",
          "IN",
          "KS",
          "KY",
          "LA",
          "MA",
          "MD",
          "ME",
          "MI",
          "MN",
          "MO",
          "MS",
          "MT",
          "NC",
          "ND",
          "NE",
          "NH",
          "NJ",
          "NV",
          "NY",
          "OH",
          "OK",
          "OR",
          "PA",
          "RI",
          "SC",
          "SD",
          "TN",
          "TX",
          "UT",
          "VA",
          "VT",
          "WA",
          "WI",
          "WV",
          "WY"
         ],
         "labels": [
          "AK",
          "AL",
          "AZ",
          "CA",
          "CO",
          "CT",
          "DC",
          "DE",
          "FL",
          "GA",
          "HI",
          "IA",
          "ID",
          "IL",
          "IN",
          "KS",
          "KY",
          "LA",
          "MA",
          "MD",
          "ME",
          "MI",
          "MN",
          "MO",
          "MS",
          "MT",
          "NC",
          "ND",
          "NE",
          "NH",
          "NJ",
          "NV",
          "NY",
          "OH",
          "OK",
          "OR",
          "PA",
          "RI",
          "SC",
          "SD",
          "TN",
          "TX",
          "UT",
          "VA",
          "VT",
          "WA",
          "WI",
          "WV",
          "WY"
         ],
         "name": "",
         "parents": [
          "",
          "",
          "",
          "",
          "",
          "",
          "",
          "",
          "",
          "",
          "",
          "",
          "",
          "",
          "",
          "",
          "",
          "",
          "",
          "",
          "",
          "",
          "",
          "",
          "",
          "",
          "",
          "",
          "",
          "",
          "",
          "",
          "",
          "",
          "",
          "",
          "",
          "",
          "",
          "",
          "",
          "",
          "",
          "",
          "",
          "",
          "",
          "",
          ""
         ],
         "root": {
          "color": "lightgrey"
         },
         "type": "treemap",
         "values": [
          3,
          4,
          4,
          5,
          3,
          4,
          3,
          3,
          3,
          1,
          2,
          4,
          4,
          3,
          2,
          3,
          5,
          2,
          2,
          3,
          5,
          3,
          4,
          3,
          3,
          4,
          3,
          3,
          4,
          4,
          5,
          2,
          4,
          3,
          3,
          1,
          4,
          2,
          3,
          5,
          5,
          4,
          3,
          3,
          3,
          1,
          3,
          3,
          2
         ]
        }
       ],
       "layout": {
        "legend": {
         "tracegroupgap": 0
        },
        "margin": {
         "b": 25,
         "l": 25,
         "r": 25,
         "t": 50
        },
        "template": {
         "data": {
          "bar": [
           {
            "error_x": {
             "color": "#2a3f5f"
            },
            "error_y": {
             "color": "#2a3f5f"
            },
            "marker": {
             "line": {
              "color": "#E5ECF6",
              "width": 0.5
             },
             "pattern": {
              "fillmode": "overlay",
              "size": 10,
              "solidity": 0.2
             }
            },
            "type": "bar"
           }
          ],
          "barpolar": [
           {
            "marker": {
             "line": {
              "color": "#E5ECF6",
              "width": 0.5
             },
             "pattern": {
              "fillmode": "overlay",
              "size": 10,
              "solidity": 0.2
             }
            },
            "type": "barpolar"
           }
          ],
          "carpet": [
           {
            "aaxis": {
             "endlinecolor": "#2a3f5f",
             "gridcolor": "white",
             "linecolor": "white",
             "minorgridcolor": "white",
             "startlinecolor": "#2a3f5f"
            },
            "baxis": {
             "endlinecolor": "#2a3f5f",
             "gridcolor": "white",
             "linecolor": "white",
             "minorgridcolor": "white",
             "startlinecolor": "#2a3f5f"
            },
            "type": "carpet"
           }
          ],
          "choropleth": [
           {
            "colorbar": {
             "outlinewidth": 0,
             "ticks": ""
            },
            "type": "choropleth"
           }
          ],
          "contour": [
           {
            "colorbar": {
             "outlinewidth": 0,
             "ticks": ""
            },
            "colorscale": [
             [
              0,
              "#0d0887"
             ],
             [
              0.1111111111111111,
              "#46039f"
             ],
             [
              0.2222222222222222,
              "#7201a8"
             ],
             [
              0.3333333333333333,
              "#9c179e"
             ],
             [
              0.4444444444444444,
              "#bd3786"
             ],
             [
              0.5555555555555556,
              "#d8576b"
             ],
             [
              0.6666666666666666,
              "#ed7953"
             ],
             [
              0.7777777777777778,
              "#fb9f3a"
             ],
             [
              0.8888888888888888,
              "#fdca26"
             ],
             [
              1,
              "#f0f921"
             ]
            ],
            "type": "contour"
           }
          ],
          "contourcarpet": [
           {
            "colorbar": {
             "outlinewidth": 0,
             "ticks": ""
            },
            "type": "contourcarpet"
           }
          ],
          "heatmap": [
           {
            "colorbar": {
             "outlinewidth": 0,
             "ticks": ""
            },
            "colorscale": [
             [
              0,
              "#0d0887"
             ],
             [
              0.1111111111111111,
              "#46039f"
             ],
             [
              0.2222222222222222,
              "#7201a8"
             ],
             [
              0.3333333333333333,
              "#9c179e"
             ],
             [
              0.4444444444444444,
              "#bd3786"
             ],
             [
              0.5555555555555556,
              "#d8576b"
             ],
             [
              0.6666666666666666,
              "#ed7953"
             ],
             [
              0.7777777777777778,
              "#fb9f3a"
             ],
             [
              0.8888888888888888,
              "#fdca26"
             ],
             [
              1,
              "#f0f921"
             ]
            ],
            "type": "heatmap"
           }
          ],
          "heatmapgl": [
           {
            "colorbar": {
             "outlinewidth": 0,
             "ticks": ""
            },
            "colorscale": [
             [
              0,
              "#0d0887"
             ],
             [
              0.1111111111111111,
              "#46039f"
             ],
             [
              0.2222222222222222,
              "#7201a8"
             ],
             [
              0.3333333333333333,
              "#9c179e"
             ],
             [
              0.4444444444444444,
              "#bd3786"
             ],
             [
              0.5555555555555556,
              "#d8576b"
             ],
             [
              0.6666666666666666,
              "#ed7953"
             ],
             [
              0.7777777777777778,
              "#fb9f3a"
             ],
             [
              0.8888888888888888,
              "#fdca26"
             ],
             [
              1,
              "#f0f921"
             ]
            ],
            "type": "heatmapgl"
           }
          ],
          "histogram": [
           {
            "marker": {
             "pattern": {
              "fillmode": "overlay",
              "size": 10,
              "solidity": 0.2
             }
            },
            "type": "histogram"
           }
          ],
          "histogram2d": [
           {
            "colorbar": {
             "outlinewidth": 0,
             "ticks": ""
            },
            "colorscale": [
             [
              0,
              "#0d0887"
             ],
             [
              0.1111111111111111,
              "#46039f"
             ],
             [
              0.2222222222222222,
              "#7201a8"
             ],
             [
              0.3333333333333333,
              "#9c179e"
             ],
             [
              0.4444444444444444,
              "#bd3786"
             ],
             [
              0.5555555555555556,
              "#d8576b"
             ],
             [
              0.6666666666666666,
              "#ed7953"
             ],
             [
              0.7777777777777778,
              "#fb9f3a"
             ],
             [
              0.8888888888888888,
              "#fdca26"
             ],
             [
              1,
              "#f0f921"
             ]
            ],
            "type": "histogram2d"
           }
          ],
          "histogram2dcontour": [
           {
            "colorbar": {
             "outlinewidth": 0,
             "ticks": ""
            },
            "colorscale": [
             [
              0,
              "#0d0887"
             ],
             [
              0.1111111111111111,
              "#46039f"
             ],
             [
              0.2222222222222222,
              "#7201a8"
             ],
             [
              0.3333333333333333,
              "#9c179e"
             ],
             [
              0.4444444444444444,
              "#bd3786"
             ],
             [
              0.5555555555555556,
              "#d8576b"
             ],
             [
              0.6666666666666666,
              "#ed7953"
             ],
             [
              0.7777777777777778,
              "#fb9f3a"
             ],
             [
              0.8888888888888888,
              "#fdca26"
             ],
             [
              1,
              "#f0f921"
             ]
            ],
            "type": "histogram2dcontour"
           }
          ],
          "mesh3d": [
           {
            "colorbar": {
             "outlinewidth": 0,
             "ticks": ""
            },
            "type": "mesh3d"
           }
          ],
          "parcoords": [
           {
            "line": {
             "colorbar": {
              "outlinewidth": 0,
              "ticks": ""
             }
            },
            "type": "parcoords"
           }
          ],
          "pie": [
           {
            "automargin": true,
            "type": "pie"
           }
          ],
          "scatter": [
           {
            "fillpattern": {
             "fillmode": "overlay",
             "size": 10,
             "solidity": 0.2
            },
            "type": "scatter"
           }
          ],
          "scatter3d": [
           {
            "line": {
             "colorbar": {
              "outlinewidth": 0,
              "ticks": ""
             }
            },
            "marker": {
             "colorbar": {
              "outlinewidth": 0,
              "ticks": ""
             }
            },
            "type": "scatter3d"
           }
          ],
          "scattercarpet": [
           {
            "marker": {
             "colorbar": {
              "outlinewidth": 0,
              "ticks": ""
             }
            },
            "type": "scattercarpet"
           }
          ],
          "scattergeo": [
           {
            "marker": {
             "colorbar": {
              "outlinewidth": 0,
              "ticks": ""
             }
            },
            "type": "scattergeo"
           }
          ],
          "scattergl": [
           {
            "marker": {
             "colorbar": {
              "outlinewidth": 0,
              "ticks": ""
             }
            },
            "type": "scattergl"
           }
          ],
          "scattermapbox": [
           {
            "marker": {
             "colorbar": {
              "outlinewidth": 0,
              "ticks": ""
             }
            },
            "type": "scattermapbox"
           }
          ],
          "scatterpolar": [
           {
            "marker": {
             "colorbar": {
              "outlinewidth": 0,
              "ticks": ""
             }
            },
            "type": "scatterpolar"
           }
          ],
          "scatterpolargl": [
           {
            "marker": {
             "colorbar": {
              "outlinewidth": 0,
              "ticks": ""
             }
            },
            "type": "scatterpolargl"
           }
          ],
          "scatterternary": [
           {
            "marker": {
             "colorbar": {
              "outlinewidth": 0,
              "ticks": ""
             }
            },
            "type": "scatterternary"
           }
          ],
          "surface": [
           {
            "colorbar": {
             "outlinewidth": 0,
             "ticks": ""
            },
            "colorscale": [
             [
              0,
              "#0d0887"
             ],
             [
              0.1111111111111111,
              "#46039f"
             ],
             [
              0.2222222222222222,
              "#7201a8"
             ],
             [
              0.3333333333333333,
              "#9c179e"
             ],
             [
              0.4444444444444444,
              "#bd3786"
             ],
             [
              0.5555555555555556,
              "#d8576b"
             ],
             [
              0.6666666666666666,
              "#ed7953"
             ],
             [
              0.7777777777777778,
              "#fb9f3a"
             ],
             [
              0.8888888888888888,
              "#fdca26"
             ],
             [
              1,
              "#f0f921"
             ]
            ],
            "type": "surface"
           }
          ],
          "table": [
           {
            "cells": {
             "fill": {
              "color": "#EBF0F8"
             },
             "line": {
              "color": "white"
             }
            },
            "header": {
             "fill": {
              "color": "#C8D4E3"
             },
             "line": {
              "color": "white"
             }
            },
            "type": "table"
           }
          ]
         },
         "layout": {
          "annotationdefaults": {
           "arrowcolor": "#2a3f5f",
           "arrowhead": 0,
           "arrowwidth": 1
          },
          "autotypenumbers": "strict",
          "coloraxis": {
           "colorbar": {
            "outlinewidth": 0,
            "ticks": ""
           }
          },
          "colorscale": {
           "diverging": [
            [
             0,
             "#8e0152"
            ],
            [
             0.1,
             "#c51b7d"
            ],
            [
             0.2,
             "#de77ae"
            ],
            [
             0.3,
             "#f1b6da"
            ],
            [
             0.4,
             "#fde0ef"
            ],
            [
             0.5,
             "#f7f7f7"
            ],
            [
             0.6,
             "#e6f5d0"
            ],
            [
             0.7,
             "#b8e186"
            ],
            [
             0.8,
             "#7fbc41"
            ],
            [
             0.9,
             "#4d9221"
            ],
            [
             1,
             "#276419"
            ]
           ],
           "sequential": [
            [
             0,
             "#0d0887"
            ],
            [
             0.1111111111111111,
             "#46039f"
            ],
            [
             0.2222222222222222,
             "#7201a8"
            ],
            [
             0.3333333333333333,
             "#9c179e"
            ],
            [
             0.4444444444444444,
             "#bd3786"
            ],
            [
             0.5555555555555556,
             "#d8576b"
            ],
            [
             0.6666666666666666,
             "#ed7953"
            ],
            [
             0.7777777777777778,
             "#fb9f3a"
            ],
            [
             0.8888888888888888,
             "#fdca26"
            ],
            [
             1,
             "#f0f921"
            ]
           ],
           "sequentialminus": [
            [
             0,
             "#0d0887"
            ],
            [
             0.1111111111111111,
             "#46039f"
            ],
            [
             0.2222222222222222,
             "#7201a8"
            ],
            [
             0.3333333333333333,
             "#9c179e"
            ],
            [
             0.4444444444444444,
             "#bd3786"
            ],
            [
             0.5555555555555556,
             "#d8576b"
            ],
            [
             0.6666666666666666,
             "#ed7953"
            ],
            [
             0.7777777777777778,
             "#fb9f3a"
            ],
            [
             0.8888888888888888,
             "#fdca26"
            ],
            [
             1,
             "#f0f921"
            ]
           ]
          },
          "colorway": [
           "#636efa",
           "#EF553B",
           "#00cc96",
           "#ab63fa",
           "#FFA15A",
           "#19d3f3",
           "#FF6692",
           "#B6E880",
           "#FF97FF",
           "#FECB52"
          ],
          "font": {
           "color": "#2a3f5f"
          },
          "geo": {
           "bgcolor": "white",
           "lakecolor": "white",
           "landcolor": "#E5ECF6",
           "showlakes": true,
           "showland": true,
           "subunitcolor": "white"
          },
          "hoverlabel": {
           "align": "left"
          },
          "hovermode": "closest",
          "mapbox": {
           "style": "light"
          },
          "paper_bgcolor": "white",
          "plot_bgcolor": "#E5ECF6",
          "polar": {
           "angularaxis": {
            "gridcolor": "white",
            "linecolor": "white",
            "ticks": ""
           },
           "bgcolor": "#E5ECF6",
           "radialaxis": {
            "gridcolor": "white",
            "linecolor": "white",
            "ticks": ""
           }
          },
          "scene": {
           "xaxis": {
            "backgroundcolor": "#E5ECF6",
            "gridcolor": "white",
            "gridwidth": 2,
            "linecolor": "white",
            "showbackground": true,
            "ticks": "",
            "zerolinecolor": "white"
           },
           "yaxis": {
            "backgroundcolor": "#E5ECF6",
            "gridcolor": "white",
            "gridwidth": 2,
            "linecolor": "white",
            "showbackground": true,
            "ticks": "",
            "zerolinecolor": "white"
           },
           "zaxis": {
            "backgroundcolor": "#E5ECF6",
            "gridcolor": "white",
            "gridwidth": 2,
            "linecolor": "white",
            "showbackground": true,
            "ticks": "",
            "zerolinecolor": "white"
           }
          },
          "shapedefaults": {
           "line": {
            "color": "#2a3f5f"
           }
          },
          "ternary": {
           "aaxis": {
            "gridcolor": "white",
            "linecolor": "white",
            "ticks": ""
           },
           "baxis": {
            "gridcolor": "white",
            "linecolor": "white",
            "ticks": ""
           },
           "bgcolor": "#E5ECF6",
           "caxis": {
            "gridcolor": "white",
            "linecolor": "white",
            "ticks": ""
           }
          },
          "title": {
           "x": 0.05
          },
          "xaxis": {
           "automargin": true,
           "gridcolor": "white",
           "linecolor": "white",
           "ticks": "",
           "title": {
            "standoff": 15
           },
           "zerolinecolor": "white",
           "zerolinewidth": 2
          },
          "yaxis": {
           "automargin": true,
           "gridcolor": "white",
           "linecolor": "white",
           "ticks": "",
           "title": {
            "standoff": 15
           },
           "zerolinecolor": "white",
           "zerolinewidth": 2
          }
         }
        },
        "title": {
         "text": "Potentially Loyal"
        }
       }
      }
     },
     "metadata": {},
     "output_type": "display_data"
    }
   ],
   "source": [
    "import plotly.express as px\n",
    "import pandas as pd\n",
    "\n",
    "segment_groups = df_customer_datamart.groupby('General_Segment')\n",
    "for segment, segment_data in segment_groups:\n",
    "    sub_segment_columns=['customerEducation', 'customerIndustry', 'customerGeneration']\n",
    "    group_data = segment_data.groupby(sub_segment_columns).size().reset_index(name='count')\n",
    "    group_data[\"all\"] = segment # in order to have a single root node\n",
    "    fig = px.treemap(group_data,path=sub_segment_columns, values='count', title=segment)\n",
    "    fig.update_traces(root_color=\"lightgrey\")\n",
    "    fig.update_layout(margin = dict(t=50, l=25, r=25, b=25))\n",
    "    fig.show()\n",
    "    \n",
    "for segment, segment_data in segment_groups:\n",
    "    sub_segment_columns=['customerState']\n",
    "    group_data = segment_data.groupby(sub_segment_columns).size().reset_index(name='count')\n",
    "    group_data[\"all\"] = segment # in order to have a single root node\n",
    "    fig = px.treemap(group_data,path=sub_segment_columns, values='count', title=segment)\n",
    "    fig.update_traces(root_color=\"lightgrey\")\n",
    "    fig.update_layout(margin = dict(t=50, l=25, r=25, b=25))\n",
    "    fig.show()"
   ]
  },
  {
   "attachments": {},
   "cell_type": "markdown",
   "metadata": {},
   "source": [
    "## Save data for further evaluation and action."
   ]
  },
  {
   "cell_type": "code",
   "execution_count": 38,
   "metadata": {},
   "outputs": [
    {
     "name": "stdout",
     "output_type": "stream",
     "text": [
      "Data is saved to files\n",
      "./data/output/customer_data.csv\n",
      "./data/output/customer_transaction_data.csv\n",
      "\n"
     ]
    }
   ],
   "source": [
    "import os\n",
    "\n",
    "\n",
    "transaction_data_file = config.get('OUTPUT','transaction_data',\n",
    "                                 fallback='./data/output/customer_transaction_data.csv')\n",
    "\n",
    "customer_data_file = config.get('OUTPUT','customer_data',\n",
    "                                 fallback='./data/output/customer_data.csv')\n",
    "\n",
    "os.makedirs(os.path.dirname(transaction_data_file),exist_ok=True)\n",
    "os.makedirs(os.path.dirname(customer_data_file),exist_ok=True)\n",
    "\n",
    "df_transactions.to_csv(transaction_data_file, index=False)\n",
    "df_customer_datamart.to_csv(customer_data_file, index=False)\n",
    "\n",
    "print(f\"Data is saved to files\\n{customer_data_file}\\n{transaction_data_file}\\n\")"
   ]
  }
 ],
 "metadata": {
  "kernelspec": {
   "display_name": "CustomerSegmentation",
   "language": "python",
   "name": "python3"
  },
  "language_info": {
   "codemirror_mode": {
    "name": "ipython",
    "version": 3
   },
   "file_extension": ".py",
   "mimetype": "text/x-python",
   "name": "python",
   "nbconvert_exporter": "python",
   "pygments_lexer": "ipython3",
   "version": "3.9.16"
  },
  "orig_nbformat": 4,
  "vscode": {
   "interpreter": {
    "hash": "42aa851c8377e5a804327342fb884cfe50e031d71c327b63ad8a2fec8fa88eb6"
   }
  }
 },
 "nbformat": 4,
 "nbformat_minor": 2
}
